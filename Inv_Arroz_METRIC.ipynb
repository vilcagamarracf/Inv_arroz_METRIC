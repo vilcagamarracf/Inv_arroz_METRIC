{
  "nbformat": 4,
  "nbformat_minor": 0,
  "metadata": {
    "colab": {
      "name": "Inv-Arroz-METRIC.ipynb",
      "provenance": [],
      "collapsed_sections": [
        "P5WX8WX9wXhv",
        "PHotkTXtW47T",
        "QQtb9G82aEDd",
        "NYNdYX4MNobQ",
        "z7gLYGBxZTsc",
        "JxwSaVpiz-Se",
        "7f_xsj2d7_5N",
        "cyMopDsO8TRp",
        "Gk0wobkd8c8m",
        "baY1Wp3696B9",
        "yg1HNQzwCY8W",
        "YD_ZfHHBcM5F"
      ],
      "authorship_tag": "ABX9TyMOyLpNUV7u5tkVWd2GST7t",
      "include_colab_link": true
    },
    "kernelspec": {
      "name": "python3",
      "display_name": "Python 3"
    },
    "language_info": {
      "name": "python"
    },
    "widgets": {
      "application/vnd.jupyter.widget-state+json": {
        "b348971fc73f4f2e9e2a8782d904aa83": {
          "model_module": "@jupyter-widgets/controls",
          "model_name": "VBoxModel",
          "model_module_version": "1.5.0",
          "state": {
            "_view_name": "VBoxView",
            "_dom_classes": [
              "widget-interact"
            ],
            "_model_name": "VBoxModel",
            "_view_module": "@jupyter-widgets/controls",
            "_model_module_version": "1.5.0",
            "_view_count": null,
            "_view_module_version": "1.5.0",
            "box_style": "",
            "layout": "IPY_MODEL_9bed79fb69484a78b0c9e11757c91603",
            "_model_module": "@jupyter-widgets/controls",
            "children": [
              "IPY_MODEL_1e63dc48dc264753995c1637a42de7d4",
              "IPY_MODEL_6ef9a08d091841b18d7516e42f45ecbb"
            ]
          }
        },
        "9bed79fb69484a78b0c9e11757c91603": {
          "model_module": "@jupyter-widgets/base",
          "model_name": "LayoutModel",
          "model_module_version": "1.2.0",
          "state": {
            "_view_name": "LayoutView",
            "grid_template_rows": null,
            "right": null,
            "justify_content": null,
            "_view_module": "@jupyter-widgets/base",
            "overflow": null,
            "_model_module_version": "1.2.0",
            "_view_count": null,
            "flex_flow": null,
            "width": null,
            "min_width": null,
            "border": null,
            "align_items": null,
            "bottom": null,
            "_model_module": "@jupyter-widgets/base",
            "top": null,
            "grid_column": null,
            "overflow_y": null,
            "overflow_x": null,
            "grid_auto_flow": null,
            "grid_area": null,
            "grid_template_columns": null,
            "flex": null,
            "_model_name": "LayoutModel",
            "justify_items": null,
            "grid_row": null,
            "max_height": null,
            "align_content": null,
            "visibility": null,
            "align_self": null,
            "height": null,
            "min_height": null,
            "padding": null,
            "grid_auto_rows": null,
            "grid_gap": null,
            "max_width": null,
            "order": null,
            "_view_module_version": "1.2.0",
            "grid_template_areas": null,
            "object_position": null,
            "object_fit": null,
            "grid_auto_columns": null,
            "margin": null,
            "display": null,
            "left": null
          }
        },
        "1e63dc48dc264753995c1637a42de7d4": {
          "model_module": "@jupyter-widgets/controls",
          "model_name": "DropdownModel",
          "model_module_version": "1.5.0",
          "state": {
            "_options_labels": [
              "1",
              "2",
              "3",
              "4",
              "5",
              "6",
              "7",
              "8",
              "9",
              "10",
              "11",
              "12"
            ],
            "_view_name": "DropdownView",
            "style": "IPY_MODEL_84f8eafbf93c44e0ba5709f5dcfbe272",
            "_dom_classes": [],
            "description": "mes",
            "_model_name": "DropdownModel",
            "index": 3,
            "_view_module": "@jupyter-widgets/controls",
            "_model_module_version": "1.5.0",
            "_view_count": null,
            "disabled": false,
            "_view_module_version": "1.5.0",
            "description_tooltip": null,
            "_model_module": "@jupyter-widgets/controls",
            "layout": "IPY_MODEL_c7a7e636c4054621b713024101e71279"
          }
        },
        "6ef9a08d091841b18d7516e42f45ecbb": {
          "model_module": "@jupyter-widgets/output",
          "model_name": "OutputModel",
          "model_module_version": "1.0.0",
          "state": {
            "_view_name": "OutputView",
            "msg_id": "",
            "_dom_classes": [],
            "_model_name": "OutputModel",
            "outputs": [
              {
                "output_type": "stream",
                "name": "stdout",
                "text": [
                  "\n",
                  "ID's disponibles:\n",
                  "['LANDSAT/LC08/C02/T1_L2/LC08_010065_20200405',\n",
                  " 'LANDSAT/LC08/C02/T1_L2/LC08_010065_20200421']\n",
                  "\n"
                ]
              },
              {
                "output_type": "display_data",
                "data": {
                  "text/html": "<div style=\"width:100%;\"><div style=\"position:relative;width:100%;height:0;padding-bottom:60%;\"><span style=\"color:#565656\">Make this Notebook Trusted to load map: File -> Trust Notebook</span><iframe src=\"about:blank\" style=\"position:absolute;width:100%;height:100%;left:0;top:0;border:none !important;\" data-html=%3C%21DOCTYPE%20html%3E%0A%3Chead%3E%20%20%20%20%0A%20%20%20%20%3Cmeta%20http-equiv%3D%22content-type%22%20content%3D%22text/html%3B%20charset%3DUTF-8%22%20/%3E%0A%20%20%20%20%3Cscript%3EL_PREFER_CANVAS%3Dfalse%3B%20L_NO_TOUCH%3Dfalse%3B%20L_DISABLE_3D%3Dfalse%3B%3C/script%3E%0A%20%20%20%20%3Cscript%20src%3D%22https%3A//cdn.jsdelivr.net/npm/leaflet%401.4.0/dist/leaflet.js%22%3E%3C/script%3E%0A%20%20%20%20%3Cscript%20src%3D%22https%3A//code.jquery.com/jquery-1.12.4.min.js%22%3E%3C/script%3E%0A%20%20%20%20%3Cscript%20src%3D%22https%3A//maxcdn.bootstrapcdn.com/bootstrap/3.2.0/js/bootstrap.min.js%22%3E%3C/script%3E%0A%20%20%20%20%3Cscript%20src%3D%22https%3A//cdnjs.cloudflare.com/ajax/libs/Leaflet.awesome-markers/2.0.2/leaflet.awesome-markers.js%22%3E%3C/script%3E%0A%20%20%20%20%3Clink%20rel%3D%22stylesheet%22%20href%3D%22https%3A//cdn.jsdelivr.net/npm/leaflet%401.4.0/dist/leaflet.css%22/%3E%0A%20%20%20%20%3Clink%20rel%3D%22stylesheet%22%20href%3D%22https%3A//maxcdn.bootstrapcdn.com/bootstrap/3.2.0/css/bootstrap.min.css%22/%3E%0A%20%20%20%20%3Clink%20rel%3D%22stylesheet%22%20href%3D%22https%3A//maxcdn.bootstrapcdn.com/bootstrap/3.2.0/css/bootstrap-theme.min.css%22/%3E%0A%20%20%20%20%3Clink%20rel%3D%22stylesheet%22%20href%3D%22https%3A//maxcdn.bootstrapcdn.com/font-awesome/4.6.3/css/font-awesome.min.css%22/%3E%0A%20%20%20%20%3Clink%20rel%3D%22stylesheet%22%20href%3D%22https%3A//cdnjs.cloudflare.com/ajax/libs/Leaflet.awesome-markers/2.0.2/leaflet.awesome-markers.css%22/%3E%0A%20%20%20%20%3Clink%20rel%3D%22stylesheet%22%20href%3D%22https%3A//rawcdn.githack.com/python-visualization/folium/master/folium/templates/leaflet.awesome.rotate.css%22/%3E%0A%20%20%20%20%3Cstyle%3Ehtml%2C%20body%20%7Bwidth%3A%20100%25%3Bheight%3A%20100%25%3Bmargin%3A%200%3Bpadding%3A%200%3B%7D%3C/style%3E%0A%20%20%20%20%3Cstyle%3E%23map%20%7Bposition%3Aabsolute%3Btop%3A0%3Bbottom%3A0%3Bright%3A0%3Bleft%3A0%3B%7D%3C/style%3E%0A%20%20%20%20%0A%20%20%20%20%3Cmeta%20name%3D%22viewport%22%20content%3D%22width%3Ddevice-width%2C%0A%20%20%20%20%20%20%20%20initial-scale%3D1.0%2C%20maximum-scale%3D1.0%2C%20user-scalable%3Dno%22%20/%3E%0A%20%20%20%20%3Cstyle%3E%23map_4d911cd853d2439a9e77d0287e537dd4%20%7B%0A%20%20%20%20%20%20%20%20position%3A%20relative%3B%0A%20%20%20%20%20%20%20%20width%3A%20100.0%25%3B%0A%20%20%20%20%20%20%20%20height%3A%20100.0%25%3B%0A%20%20%20%20%20%20%20%20left%3A%200.0%25%3B%0A%20%20%20%20%20%20%20%20top%3A%200.0%25%3B%0A%20%20%20%20%20%20%20%20%7D%0A%20%20%20%20%3C/style%3E%0A%3C/head%3E%0A%3Cbody%3E%20%20%20%20%0A%20%20%20%20%0A%20%20%20%20%3Cdiv%20class%3D%22folium-map%22%20id%3D%22map_4d911cd853d2439a9e77d0287e537dd4%22%20%3E%3C/div%3E%0A%3C/body%3E%0A%3Cscript%3E%20%20%20%20%0A%20%20%20%20%0A%20%20%20%20%0A%20%20%20%20%20%20%20%20var%20bounds%20%3D%20null%3B%0A%20%20%20%20%0A%0A%20%20%20%20var%20map_4d911cd853d2439a9e77d0287e537dd4%20%3D%20L.map%28%0A%20%20%20%20%20%20%20%20%27map_4d911cd853d2439a9e77d0287e537dd4%27%2C%20%7B%0A%20%20%20%20%20%20%20%20center%3A%20%5B-6.746%2C%20-79.809%5D%2C%0A%20%20%20%20%20%20%20%20zoom%3A%2010%2C%0A%20%20%20%20%20%20%20%20maxBounds%3A%20bounds%2C%0A%20%20%20%20%20%20%20%20layers%3A%20%5B%5D%2C%0A%20%20%20%20%20%20%20%20worldCopyJump%3A%20false%2C%0A%20%20%20%20%20%20%20%20crs%3A%20L.CRS.EPSG3857%2C%0A%20%20%20%20%20%20%20%20zoomControl%3A%20true%2C%0A%20%20%20%20%20%20%20%20%7D%29%3B%0AL.control.scale%28%29.addTo%28map_4d911cd853d2439a9e77d0287e537dd4%29%3B%0A%0A%20%20%20%20%0A%20%20%20%20var%20tile_layer_44e6b91835774de2b6696f3ca6f36d40%20%3D%20L.tileLayer%28%0A%20%20%20%20%20%20%20%20%27https%3A//%7Bs%7D.tile.openstreetmap.org/%7Bz%7D/%7Bx%7D/%7By%7D.png%27%2C%0A%20%20%20%20%20%20%20%20%7B%0A%20%20%20%20%20%20%20%20%22attribution%22%3A%20null%2C%0A%20%20%20%20%20%20%20%20%22detectRetina%22%3A%20false%2C%0A%20%20%20%20%20%20%20%20%22maxNativeZoom%22%3A%2018%2C%0A%20%20%20%20%20%20%20%20%22maxZoom%22%3A%2018%2C%0A%20%20%20%20%20%20%20%20%22minZoom%22%3A%200%2C%0A%20%20%20%20%20%20%20%20%22noWrap%22%3A%20false%2C%0A%20%20%20%20%20%20%20%20%22opacity%22%3A%201%2C%0A%20%20%20%20%20%20%20%20%22subdomains%22%3A%20%22abc%22%2C%0A%20%20%20%20%20%20%20%20%22tms%22%3A%20false%0A%7D%29.addTo%28map_4d911cd853d2439a9e77d0287e537dd4%29%3B%0A%20%20%20%20var%20tile_layer_57970fd4bcd347239b94fea96b57fd5a%20%3D%20L.tileLayer%28%0A%20%20%20%20%20%20%20%20%27https%3A//earthengine.googleapis.com/v1alpha/projects/earthengine-legacy/maps/c9a7319d3fbae5a132606cd510a3de55-5391519d81fde238a43a4a84b00d1a4b/tiles/%7Bz%7D/%7Bx%7D/%7By%7D%27%2C%0A%20%20%20%20%20%20%20%20%7B%0A%20%20%20%20%20%20%20%20%22attribution%22%3A%20%22Google%20Earth%20Engine%22%2C%0A%20%20%20%20%20%20%20%20%22detectRetina%22%3A%20false%2C%0A%20%20%20%20%20%20%20%20%22maxNativeZoom%22%3A%2018%2C%0A%20%20%20%20%20%20%20%20%22maxZoom%22%3A%2018%2C%0A%20%20%20%20%20%20%20%20%22minZoom%22%3A%200%2C%0A%20%20%20%20%20%20%20%20%22noWrap%22%3A%20false%2C%0A%20%20%20%20%20%20%20%20%22opacity%22%3A%201%2C%0A%20%20%20%20%20%20%20%20%22subdomains%22%3A%20%22abc%22%2C%0A%20%20%20%20%20%20%20%20%22tms%22%3A%20false%0A%7D%29.addTo%28map_4d911cd853d2439a9e77d0287e537dd4%29%3B%0A%20%20%20%20var%20tile_layer_e1d92c1af0764ce69840e81aa3caed2a%20%3D%20L.tileLayer%28%0A%20%20%20%20%20%20%20%20%27https%3A//earthengine.googleapis.com/v1alpha/projects/earthengine-legacy/maps/4e6d72ed85679952ca648af826eb9b73-3ad197f1f731ee5a6a147e02bf4fdd43/tiles/%7Bz%7D/%7Bx%7D/%7By%7D%27%2C%0A%20%20%20%20%20%20%20%20%7B%0A%20%20%20%20%20%20%20%20%22attribution%22%3A%20%22Google%20Earth%20Engine%22%2C%0A%20%20%20%20%20%20%20%20%22detectRetina%22%3A%20false%2C%0A%20%20%20%20%20%20%20%20%22maxNativeZoom%22%3A%2018%2C%0A%20%20%20%20%20%20%20%20%22maxZoom%22%3A%2018%2C%0A%20%20%20%20%20%20%20%20%22minZoom%22%3A%200%2C%0A%20%20%20%20%20%20%20%20%22noWrap%22%3A%20false%2C%0A%20%20%20%20%20%20%20%20%22opacity%22%3A%201%2C%0A%20%20%20%20%20%20%20%20%22subdomains%22%3A%20%22abc%22%2C%0A%20%20%20%20%20%20%20%20%22tms%22%3A%20false%0A%7D%29.addTo%28map_4d911cd853d2439a9e77d0287e537dd4%29%3B%0A%20%20%20%20%0A%20%20%20%20%20%20%20%20%20%20%20%20var%20layer_control_7f00749128a746cfb5ec76f25404668d%20%3D%20%7B%0A%20%20%20%20%20%20%20%20%20%20%20%20%20%20%20%20base_layers%20%3A%20%7B%20%22openstreetmap%22%20%3A%20tile_layer_44e6b91835774de2b6696f3ca6f36d40%2C%20%7D%2C%0A%20%20%20%20%20%20%20%20%20%20%20%20%20%20%20%20overlays%20%3A%20%7B%20%222020-04-05%2015%3A27%3A57%22%20%3A%20tile_layer_57970fd4bcd347239b94fea96b57fd5a%2C%222020-04-21%2015%3A27%3A50%22%20%3A%20tile_layer_e1d92c1af0764ce69840e81aa3caed2a%2C%20%7D%0A%20%20%20%20%20%20%20%20%20%20%20%20%20%20%20%20%7D%3B%0A%20%20%20%20%20%20%20%20%20%20%20%20L.control.layers%28%0A%20%20%20%20%20%20%20%20%20%20%20%20%20%20%20%20layer_control_7f00749128a746cfb5ec76f25404668d.base_layers%2C%0A%20%20%20%20%20%20%20%20%20%20%20%20%20%20%20%20layer_control_7f00749128a746cfb5ec76f25404668d.overlays%2C%0A%20%20%20%20%20%20%20%20%20%20%20%20%20%20%20%20%7Bposition%3A%20%27topright%27%2C%0A%20%20%20%20%20%20%20%20%20%20%20%20%20%20%20%20%20collapsed%3A%20true%2C%0A%20%20%20%20%20%20%20%20%20%20%20%20%20%20%20%20%20autoZIndex%3A%20true%0A%20%20%20%20%20%20%20%20%20%20%20%20%20%20%20%20%7D%29.addTo%28map_4d911cd853d2439a9e77d0287e537dd4%29%3B%0A%20%20%20%20%20%20%20%20%20%20%20%20%0A%20%20%20%20%20%20%20%20%0A%3C/script%3E onload=\"this.contentDocument.open();this.contentDocument.write(    decodeURIComponent(this.getAttribute('data-html')));this.contentDocument.close();\" allowfullscreen webkitallowfullscreen mozallowfullscreen></iframe></div></div>",
                  "text/plain": "<folium.folium.Map at 0x7f03a43faa50>"
                },
                "metadata": {}
              }
            ],
            "_view_module": "@jupyter-widgets/output",
            "_model_module_version": "1.0.0",
            "_view_count": null,
            "_view_module_version": "1.0.0",
            "layout": "IPY_MODEL_ac18ca300070432ea630c6c8bebf616c",
            "_model_module": "@jupyter-widgets/output"
          }
        },
        "84f8eafbf93c44e0ba5709f5dcfbe272": {
          "model_module": "@jupyter-widgets/controls",
          "model_name": "DescriptionStyleModel",
          "model_module_version": "1.5.0",
          "state": {
            "_view_name": "StyleView",
            "_model_name": "DescriptionStyleModel",
            "description_width": "",
            "_view_module": "@jupyter-widgets/base",
            "_model_module_version": "1.5.0",
            "_view_count": null,
            "_view_module_version": "1.2.0",
            "_model_module": "@jupyter-widgets/controls"
          }
        },
        "c7a7e636c4054621b713024101e71279": {
          "model_module": "@jupyter-widgets/base",
          "model_name": "LayoutModel",
          "model_module_version": "1.2.0",
          "state": {
            "_view_name": "LayoutView",
            "grid_template_rows": null,
            "right": null,
            "justify_content": null,
            "_view_module": "@jupyter-widgets/base",
            "overflow": null,
            "_model_module_version": "1.2.0",
            "_view_count": null,
            "flex_flow": null,
            "width": null,
            "min_width": null,
            "border": null,
            "align_items": null,
            "bottom": null,
            "_model_module": "@jupyter-widgets/base",
            "top": null,
            "grid_column": null,
            "overflow_y": null,
            "overflow_x": null,
            "grid_auto_flow": null,
            "grid_area": null,
            "grid_template_columns": null,
            "flex": null,
            "_model_name": "LayoutModel",
            "justify_items": null,
            "grid_row": null,
            "max_height": null,
            "align_content": null,
            "visibility": null,
            "align_self": null,
            "height": null,
            "min_height": null,
            "padding": null,
            "grid_auto_rows": null,
            "grid_gap": null,
            "max_width": null,
            "order": null,
            "_view_module_version": "1.2.0",
            "grid_template_areas": null,
            "object_position": null,
            "object_fit": null,
            "grid_auto_columns": null,
            "margin": null,
            "display": null,
            "left": null
          }
        },
        "ac18ca300070432ea630c6c8bebf616c": {
          "model_module": "@jupyter-widgets/base",
          "model_name": "LayoutModel",
          "model_module_version": "1.2.0",
          "state": {
            "_view_name": "LayoutView",
            "grid_template_rows": null,
            "right": null,
            "justify_content": null,
            "_view_module": "@jupyter-widgets/base",
            "overflow": null,
            "_model_module_version": "1.2.0",
            "_view_count": null,
            "flex_flow": null,
            "width": null,
            "min_width": null,
            "border": null,
            "align_items": null,
            "bottom": null,
            "_model_module": "@jupyter-widgets/base",
            "top": null,
            "grid_column": null,
            "overflow_y": null,
            "overflow_x": null,
            "grid_auto_flow": null,
            "grid_area": null,
            "grid_template_columns": null,
            "flex": null,
            "_model_name": "LayoutModel",
            "justify_items": null,
            "grid_row": null,
            "max_height": null,
            "align_content": null,
            "visibility": null,
            "align_self": null,
            "height": null,
            "min_height": null,
            "padding": null,
            "grid_auto_rows": null,
            "grid_gap": null,
            "max_width": null,
            "order": null,
            "_view_module_version": "1.2.0",
            "grid_template_areas": null,
            "object_position": null,
            "object_fit": null,
            "grid_auto_columns": null,
            "margin": null,
            "display": null,
            "left": null
          }
        },
        "ab1819fe25a242c1b3d798421e1b4653": {
          "model_module": "@jupyter-widgets/controls",
          "model_name": "VBoxModel",
          "model_module_version": "1.5.0",
          "state": {
            "_view_name": "VBoxView",
            "_dom_classes": [
              "widget-interact"
            ],
            "_model_name": "VBoxModel",
            "_view_module": "@jupyter-widgets/controls",
            "_model_module_version": "1.5.0",
            "_view_count": null,
            "_view_module_version": "1.5.0",
            "box_style": "",
            "layout": "IPY_MODEL_a90527e0b54e462ab9644cee091ace98",
            "_model_module": "@jupyter-widgets/controls",
            "children": [
              "IPY_MODEL_fa96a2770d8746cc9507dab2a38fe5cd",
              "IPY_MODEL_472b9bfea54b48f3904e51b711872258"
            ]
          }
        },
        "a90527e0b54e462ab9644cee091ace98": {
          "model_module": "@jupyter-widgets/base",
          "model_name": "LayoutModel",
          "model_module_version": "1.2.0",
          "state": {
            "_view_name": "LayoutView",
            "grid_template_rows": null,
            "right": null,
            "justify_content": null,
            "_view_module": "@jupyter-widgets/base",
            "overflow": null,
            "_model_module_version": "1.2.0",
            "_view_count": null,
            "flex_flow": null,
            "width": null,
            "min_width": null,
            "border": null,
            "align_items": null,
            "bottom": null,
            "_model_module": "@jupyter-widgets/base",
            "top": null,
            "grid_column": null,
            "overflow_y": null,
            "overflow_x": null,
            "grid_auto_flow": null,
            "grid_area": null,
            "grid_template_columns": null,
            "flex": null,
            "_model_name": "LayoutModel",
            "justify_items": null,
            "grid_row": null,
            "max_height": null,
            "align_content": null,
            "visibility": null,
            "align_self": null,
            "height": null,
            "min_height": null,
            "padding": null,
            "grid_auto_rows": null,
            "grid_gap": null,
            "max_width": null,
            "order": null,
            "_view_module_version": "1.2.0",
            "grid_template_areas": null,
            "object_position": null,
            "object_fit": null,
            "grid_auto_columns": null,
            "margin": null,
            "display": null,
            "left": null
          }
        },
        "fa96a2770d8746cc9507dab2a38fe5cd": {
          "model_module": "@jupyter-widgets/controls",
          "model_name": "DropdownModel",
          "model_module_version": "1.5.0",
          "state": {
            "_options_labels": [
              "1",
              "2",
              "3",
              "4",
              "5",
              "6",
              "7",
              "8",
              "9",
              "10",
              "11",
              "12"
            ],
            "_view_name": "DropdownView",
            "style": "IPY_MODEL_5a553475e1fa4b16bbbecde07f61d05e",
            "_dom_classes": [],
            "description": "mes",
            "_model_name": "DropdownModel",
            "index": 1,
            "_view_module": "@jupyter-widgets/controls",
            "_model_module_version": "1.5.0",
            "_view_count": null,
            "disabled": false,
            "_view_module_version": "1.5.0",
            "description_tooltip": null,
            "_model_module": "@jupyter-widgets/controls",
            "layout": "IPY_MODEL_9997852dc460457e94cb74d4080ee70c"
          }
        },
        "472b9bfea54b48f3904e51b711872258": {
          "model_module": "@jupyter-widgets/output",
          "model_name": "OutputModel",
          "model_module_version": "1.0.0",
          "state": {
            "_view_name": "OutputView",
            "msg_id": "",
            "_dom_classes": [],
            "_model_name": "OutputModel",
            "outputs": [
              {
                "output_type": "stream",
                "name": "stdout",
                "text": [
                  "\n",
                  "ID's disponibles:\n",
                  "['LANDSAT/LC08/C01/T1_SR/LC08_010065_20200201',\n",
                  " 'LANDSAT/LC08/C01/T1_SR/LC08_010065_20200217']\n",
                  "\n"
                ]
              },
              {
                "output_type": "display_data",
                "data": {
                  "text/html": "<div style=\"width:100%;\"><div style=\"position:relative;width:100%;height:0;padding-bottom:60%;\"><span style=\"color:#565656\">Make this Notebook Trusted to load map: File -> Trust Notebook</span><iframe src=\"about:blank\" style=\"position:absolute;width:100%;height:100%;left:0;top:0;border:none !important;\" data-html=%3C%21DOCTYPE%20html%3E%0A%3Chead%3E%20%20%20%20%0A%20%20%20%20%3Cmeta%20http-equiv%3D%22content-type%22%20content%3D%22text/html%3B%20charset%3DUTF-8%22%20/%3E%0A%20%20%20%20%3Cscript%3EL_PREFER_CANVAS%3Dfalse%3B%20L_NO_TOUCH%3Dfalse%3B%20L_DISABLE_3D%3Dfalse%3B%3C/script%3E%0A%20%20%20%20%3Cscript%20src%3D%22https%3A//cdn.jsdelivr.net/npm/leaflet%401.4.0/dist/leaflet.js%22%3E%3C/script%3E%0A%20%20%20%20%3Cscript%20src%3D%22https%3A//code.jquery.com/jquery-1.12.4.min.js%22%3E%3C/script%3E%0A%20%20%20%20%3Cscript%20src%3D%22https%3A//maxcdn.bootstrapcdn.com/bootstrap/3.2.0/js/bootstrap.min.js%22%3E%3C/script%3E%0A%20%20%20%20%3Cscript%20src%3D%22https%3A//cdnjs.cloudflare.com/ajax/libs/Leaflet.awesome-markers/2.0.2/leaflet.awesome-markers.js%22%3E%3C/script%3E%0A%20%20%20%20%3Clink%20rel%3D%22stylesheet%22%20href%3D%22https%3A//cdn.jsdelivr.net/npm/leaflet%401.4.0/dist/leaflet.css%22/%3E%0A%20%20%20%20%3Clink%20rel%3D%22stylesheet%22%20href%3D%22https%3A//maxcdn.bootstrapcdn.com/bootstrap/3.2.0/css/bootstrap.min.css%22/%3E%0A%20%20%20%20%3Clink%20rel%3D%22stylesheet%22%20href%3D%22https%3A//maxcdn.bootstrapcdn.com/bootstrap/3.2.0/css/bootstrap-theme.min.css%22/%3E%0A%20%20%20%20%3Clink%20rel%3D%22stylesheet%22%20href%3D%22https%3A//maxcdn.bootstrapcdn.com/font-awesome/4.6.3/css/font-awesome.min.css%22/%3E%0A%20%20%20%20%3Clink%20rel%3D%22stylesheet%22%20href%3D%22https%3A//cdnjs.cloudflare.com/ajax/libs/Leaflet.awesome-markers/2.0.2/leaflet.awesome-markers.css%22/%3E%0A%20%20%20%20%3Clink%20rel%3D%22stylesheet%22%20href%3D%22https%3A//rawcdn.githack.com/python-visualization/folium/master/folium/templates/leaflet.awesome.rotate.css%22/%3E%0A%20%20%20%20%3Cstyle%3Ehtml%2C%20body%20%7Bwidth%3A%20100%25%3Bheight%3A%20100%25%3Bmargin%3A%200%3Bpadding%3A%200%3B%7D%3C/style%3E%0A%20%20%20%20%3Cstyle%3E%23map%20%7Bposition%3Aabsolute%3Btop%3A0%3Bbottom%3A0%3Bright%3A0%3Bleft%3A0%3B%7D%3C/style%3E%0A%20%20%20%20%0A%20%20%20%20%3Cmeta%20name%3D%22viewport%22%20content%3D%22width%3Ddevice-width%2C%0A%20%20%20%20%20%20%20%20initial-scale%3D1.0%2C%20maximum-scale%3D1.0%2C%20user-scalable%3Dno%22%20/%3E%0A%20%20%20%20%3Cstyle%3E%23map_cf90bd7b05c34e0885f8081835c7af7e%20%7B%0A%20%20%20%20%20%20%20%20position%3A%20relative%3B%0A%20%20%20%20%20%20%20%20width%3A%20100.0%25%3B%0A%20%20%20%20%20%20%20%20height%3A%20100.0%25%3B%0A%20%20%20%20%20%20%20%20left%3A%200.0%25%3B%0A%20%20%20%20%20%20%20%20top%3A%200.0%25%3B%0A%20%20%20%20%20%20%20%20%7D%0A%20%20%20%20%3C/style%3E%0A%3C/head%3E%0A%3Cbody%3E%20%20%20%20%0A%20%20%20%20%0A%20%20%20%20%3Cdiv%20class%3D%22folium-map%22%20id%3D%22map_cf90bd7b05c34e0885f8081835c7af7e%22%20%3E%3C/div%3E%0A%3C/body%3E%0A%3Cscript%3E%20%20%20%20%0A%20%20%20%20%0A%20%20%20%20%0A%20%20%20%20%20%20%20%20var%20bounds%20%3D%20null%3B%0A%20%20%20%20%0A%0A%20%20%20%20var%20map_cf90bd7b05c34e0885f8081835c7af7e%20%3D%20L.map%28%0A%20%20%20%20%20%20%20%20%27map_cf90bd7b05c34e0885f8081835c7af7e%27%2C%20%7B%0A%20%20%20%20%20%20%20%20center%3A%20%5B-6.746%2C%20-79.809%5D%2C%0A%20%20%20%20%20%20%20%20zoom%3A%2010%2C%0A%20%20%20%20%20%20%20%20maxBounds%3A%20bounds%2C%0A%20%20%20%20%20%20%20%20layers%3A%20%5B%5D%2C%0A%20%20%20%20%20%20%20%20worldCopyJump%3A%20false%2C%0A%20%20%20%20%20%20%20%20crs%3A%20L.CRS.EPSG3857%2C%0A%20%20%20%20%20%20%20%20zoomControl%3A%20true%2C%0A%20%20%20%20%20%20%20%20%7D%29%3B%0AL.control.scale%28%29.addTo%28map_cf90bd7b05c34e0885f8081835c7af7e%29%3B%0A%0A%20%20%20%20%0A%20%20%20%20var%20tile_layer_3976ae1a8304481ab154086751f21003%20%3D%20L.tileLayer%28%0A%20%20%20%20%20%20%20%20%27https%3A//%7Bs%7D.tile.openstreetmap.org/%7Bz%7D/%7Bx%7D/%7By%7D.png%27%2C%0A%20%20%20%20%20%20%20%20%7B%0A%20%20%20%20%20%20%20%20%22attribution%22%3A%20null%2C%0A%20%20%20%20%20%20%20%20%22detectRetina%22%3A%20false%2C%0A%20%20%20%20%20%20%20%20%22maxNativeZoom%22%3A%2018%2C%0A%20%20%20%20%20%20%20%20%22maxZoom%22%3A%2018%2C%0A%20%20%20%20%20%20%20%20%22minZoom%22%3A%200%2C%0A%20%20%20%20%20%20%20%20%22noWrap%22%3A%20false%2C%0A%20%20%20%20%20%20%20%20%22opacity%22%3A%201%2C%0A%20%20%20%20%20%20%20%20%22subdomains%22%3A%20%22abc%22%2C%0A%20%20%20%20%20%20%20%20%22tms%22%3A%20false%0A%7D%29.addTo%28map_cf90bd7b05c34e0885f8081835c7af7e%29%3B%0A%20%20%20%20var%20tile_layer_b71a59603c2f41ed87f604a4fb2d8cee%20%3D%20L.tileLayer%28%0A%20%20%20%20%20%20%20%20%27https%3A//earthengine.googleapis.com/v1alpha/projects/earthengine-legacy/maps/8b3075192eabaec235935cf35fb513a8-ac22592becdb6a4cbd4f30fa1a1915d0/tiles/%7Bz%7D/%7Bx%7D/%7By%7D%27%2C%0A%20%20%20%20%20%20%20%20%7B%0A%20%20%20%20%20%20%20%20%22attribution%22%3A%20%22Google%20Earth%20Engine%22%2C%0A%20%20%20%20%20%20%20%20%22detectRetina%22%3A%20false%2C%0A%20%20%20%20%20%20%20%20%22maxNativeZoom%22%3A%2018%2C%0A%20%20%20%20%20%20%20%20%22maxZoom%22%3A%2018%2C%0A%20%20%20%20%20%20%20%20%22minZoom%22%3A%200%2C%0A%20%20%20%20%20%20%20%20%22noWrap%22%3A%20false%2C%0A%20%20%20%20%20%20%20%20%22opacity%22%3A%201%2C%0A%20%20%20%20%20%20%20%20%22subdomains%22%3A%20%22abc%22%2C%0A%20%20%20%20%20%20%20%20%22tms%22%3A%20false%0A%7D%29.addTo%28map_cf90bd7b05c34e0885f8081835c7af7e%29%3B%0A%20%20%20%20var%20tile_layer_872376e4b918436393219f0c2fede226%20%3D%20L.tileLayer%28%0A%20%20%20%20%20%20%20%20%27https%3A//earthengine.googleapis.com/v1alpha/projects/earthengine-legacy/maps/7281a58452f9f8e0725c44f649772599-47c248299bb9e169da0b3cf6206e9c21/tiles/%7Bz%7D/%7Bx%7D/%7By%7D%27%2C%0A%20%20%20%20%20%20%20%20%7B%0A%20%20%20%20%20%20%20%20%22attribution%22%3A%20%22Google%20Earth%20Engine%22%2C%0A%20%20%20%20%20%20%20%20%22detectRetina%22%3A%20false%2C%0A%20%20%20%20%20%20%20%20%22maxNativeZoom%22%3A%2018%2C%0A%20%20%20%20%20%20%20%20%22maxZoom%22%3A%2018%2C%0A%20%20%20%20%20%20%20%20%22minZoom%22%3A%200%2C%0A%20%20%20%20%20%20%20%20%22noWrap%22%3A%20false%2C%0A%20%20%20%20%20%20%20%20%22opacity%22%3A%201%2C%0A%20%20%20%20%20%20%20%20%22subdomains%22%3A%20%22abc%22%2C%0A%20%20%20%20%20%20%20%20%22tms%22%3A%20false%0A%7D%29.addTo%28map_cf90bd7b05c34e0885f8081835c7af7e%29%3B%0A%20%20%20%20%0A%20%20%20%20%20%20%20%20%20%20%20%20var%20layer_control_37af53d978fd442c9bb45d0582c60d80%20%3D%20%7B%0A%20%20%20%20%20%20%20%20%20%20%20%20%20%20%20%20base_layers%20%3A%20%7B%20%22openstreetmap%22%20%3A%20tile_layer_3976ae1a8304481ab154086751f21003%2C%20%7D%2C%0A%20%20%20%20%20%20%20%20%20%20%20%20%20%20%20%20overlays%20%3A%20%7B%20%222020-02-01%2015%3A28%3A22%22%20%3A%20tile_layer_b71a59603c2f41ed87f604a4fb2d8cee%2C%222020-02-17%2015%3A28%3A19%22%20%3A%20tile_layer_872376e4b918436393219f0c2fede226%2C%20%7D%0A%20%20%20%20%20%20%20%20%20%20%20%20%20%20%20%20%7D%3B%0A%20%20%20%20%20%20%20%20%20%20%20%20L.control.layers%28%0A%20%20%20%20%20%20%20%20%20%20%20%20%20%20%20%20layer_control_37af53d978fd442c9bb45d0582c60d80.base_layers%2C%0A%20%20%20%20%20%20%20%20%20%20%20%20%20%20%20%20layer_control_37af53d978fd442c9bb45d0582c60d80.overlays%2C%0A%20%20%20%20%20%20%20%20%20%20%20%20%20%20%20%20%7Bposition%3A%20%27topright%27%2C%0A%20%20%20%20%20%20%20%20%20%20%20%20%20%20%20%20%20collapsed%3A%20true%2C%0A%20%20%20%20%20%20%20%20%20%20%20%20%20%20%20%20%20autoZIndex%3A%20true%0A%20%20%20%20%20%20%20%20%20%20%20%20%20%20%20%20%7D%29.addTo%28map_cf90bd7b05c34e0885f8081835c7af7e%29%3B%0A%20%20%20%20%20%20%20%20%20%20%20%20%0A%20%20%20%20%20%20%20%20%0A%3C/script%3E onload=\"this.contentDocument.open();this.contentDocument.write(    decodeURIComponent(this.getAttribute('data-html')));this.contentDocument.close();\" allowfullscreen webkitallowfullscreen mozallowfullscreen></iframe></div></div>",
                  "text/plain": "<folium.folium.Map at 0x7f3ded200550>"
                },
                "metadata": {}
              }
            ],
            "_view_module": "@jupyter-widgets/output",
            "_model_module_version": "1.0.0",
            "_view_count": null,
            "_view_module_version": "1.0.0",
            "layout": "IPY_MODEL_2cd7419eed6d4f8a9bec4135ed23677c",
            "_model_module": "@jupyter-widgets/output"
          }
        },
        "5a553475e1fa4b16bbbecde07f61d05e": {
          "model_module": "@jupyter-widgets/controls",
          "model_name": "DescriptionStyleModel",
          "model_module_version": "1.5.0",
          "state": {
            "_view_name": "StyleView",
            "_model_name": "DescriptionStyleModel",
            "description_width": "",
            "_view_module": "@jupyter-widgets/base",
            "_model_module_version": "1.5.0",
            "_view_count": null,
            "_view_module_version": "1.2.0",
            "_model_module": "@jupyter-widgets/controls"
          }
        },
        "9997852dc460457e94cb74d4080ee70c": {
          "model_module": "@jupyter-widgets/base",
          "model_name": "LayoutModel",
          "model_module_version": "1.2.0",
          "state": {
            "_view_name": "LayoutView",
            "grid_template_rows": null,
            "right": null,
            "justify_content": null,
            "_view_module": "@jupyter-widgets/base",
            "overflow": null,
            "_model_module_version": "1.2.0",
            "_view_count": null,
            "flex_flow": null,
            "width": null,
            "min_width": null,
            "border": null,
            "align_items": null,
            "bottom": null,
            "_model_module": "@jupyter-widgets/base",
            "top": null,
            "grid_column": null,
            "overflow_y": null,
            "overflow_x": null,
            "grid_auto_flow": null,
            "grid_area": null,
            "grid_template_columns": null,
            "flex": null,
            "_model_name": "LayoutModel",
            "justify_items": null,
            "grid_row": null,
            "max_height": null,
            "align_content": null,
            "visibility": null,
            "align_self": null,
            "height": null,
            "min_height": null,
            "padding": null,
            "grid_auto_rows": null,
            "grid_gap": null,
            "max_width": null,
            "order": null,
            "_view_module_version": "1.2.0",
            "grid_template_areas": null,
            "object_position": null,
            "object_fit": null,
            "grid_auto_columns": null,
            "margin": null,
            "display": null,
            "left": null
          }
        },
        "2cd7419eed6d4f8a9bec4135ed23677c": {
          "model_module": "@jupyter-widgets/base",
          "model_name": "LayoutModel",
          "model_module_version": "1.2.0",
          "state": {
            "_view_name": "LayoutView",
            "grid_template_rows": null,
            "right": null,
            "justify_content": null,
            "_view_module": "@jupyter-widgets/base",
            "overflow": null,
            "_model_module_version": "1.2.0",
            "_view_count": null,
            "flex_flow": null,
            "width": null,
            "min_width": null,
            "border": null,
            "align_items": null,
            "bottom": null,
            "_model_module": "@jupyter-widgets/base",
            "top": null,
            "grid_column": null,
            "overflow_y": null,
            "overflow_x": null,
            "grid_auto_flow": null,
            "grid_area": null,
            "grid_template_columns": null,
            "flex": null,
            "_model_name": "LayoutModel",
            "justify_items": null,
            "grid_row": null,
            "max_height": null,
            "align_content": null,
            "visibility": null,
            "align_self": null,
            "height": null,
            "min_height": null,
            "padding": null,
            "grid_auto_rows": null,
            "grid_gap": null,
            "max_width": null,
            "order": null,
            "_view_module_version": "1.2.0",
            "grid_template_areas": null,
            "object_position": null,
            "object_fit": null,
            "grid_auto_columns": null,
            "margin": null,
            "display": null,
            "left": null
          }
        }
      }
    }
  },
  "cells": [
    {
      "cell_type": "markdown",
      "metadata": {
        "id": "view-in-github",
        "colab_type": "text"
      },
      "source": [
        "<a href=\"https://colab.research.google.com/github/vilcagamarracf/Inv_arroz_METRIC/blob/main/Inv_Arroz_METRIC.ipynb\" target=\"_parent\"><img src=\"https://colab.research.google.com/assets/colab-badge.svg\" alt=\"Open In Colab\"/></a>"
      ]
    },
    {
      "cell_type": "markdown",
      "metadata": {
        "id": "9EDnXVzkgncn"
      },
      "source": [
        "<center>\n",
        "<br>\n",
        "<img src=\"https://github.com/vilcagamarracf/Inv_arroz_METRIC/blob/main/Github%20Cover%20-%20METRIC.png?raw=true\"/>\n",
        "<h1>Aplicación del modelo METRIC en cultivos de Arroz, Lambayeque</h1>\n",
        "<h2> Investigación 2021 </h2>\n",
        "</center>\n",
        "\n",
        "**Information about this project**\n",
        "```\n",
        "FILE          : Inv-Arroz-METRIC.ipynb\n",
        "AUTHOR        : Cesar Francisco Vilca Gamarra \n",
        "EMAIL         : vilcagamarracf@gmail.com \n",
        "ORGANIZATION  : UNALM \n",
        "CREATION DATE : April 29, 2021 \n",
        "DEPENDENCIES  : earthengine-api, os, folium, pandas, matplotlib, numpy ...  \n",
        "PURPOSE       : Download Landsat Products to estimate spatial ET\n",
        "```\n"
      ]
    },
    {
      "cell_type": "markdown",
      "metadata": {
        "id": "P5WX8WX9wXhv"
      },
      "source": [
        "# Descripción"
      ]
    },
    {
      "cell_type": "markdown",
      "metadata": {
        "id": "9AYBN_d4-CVw"
      },
      "source": [
        "En esta libreta se realizará la exploración, selección y procesamiento de imágenes satelitales del producto Landsat 8 SR usando Google Earth Engine en Google Colab (Python) con el objetivo de replicar el modelo METRIC en cultivos de arroz para un área de estudio en el departamento de Lambayeque."
      ]
    },
    {
      "cell_type": "markdown",
      "metadata": {
        "id": "xGs4VR0LjI6v"
      },
      "source": [
        "**Problemática**\n",
        "\n",
        "- Estimación de ET común:\n",
        "  $$\n",
        "  \\text{ET} = \\text{ET}_{ref} * K_c\n",
        "  $$\n",
        "  Dónde:\n",
        "  - $\\text{ET}$ : Evapotranspiración\n",
        "  - $\\text{ET}_{ref}$ : Evapotranspiración de referencia basada en el clima\n",
        "  - $K_c$: Coeficiente de cultivo (de acuerdo al tipo y etapa de crecimiento)\n",
        "\n",
        "- Dificultades de la estimación común:\n",
        "  - Confiabilidad de usar valores idealizados de $K_c$ ya que se generaron para ciertas condiciones reales de crecimiento y vegetación.\n",
        "  Identificación de etapas vegetativas y condiciones de crecimiento para comparación con valores de $K_c$\n",
        "  - Predicción correcta de fechas según etapa de crecimiento para cultivos de grandes extensiones (ya que \n",
        "\n",
        "- Una solución:\n",
        "  - **Los satélites son capaces de obtener información espacial de evapotranspiración de numerosas extensiones a partir de técnicas de balance de energía.**  \n",
        "\n",
        "  > Estimación de la evapotranspiración de los cultivos bajo riego mediante imágenes de sensores remotos (tipo de sensor y bandas del espectro electromagnético)\n"
      ]
    },
    {
      "cell_type": "markdown",
      "metadata": {
        "id": "cFOuSA-mGHv6"
      },
      "source": [
        "**¿Por qué medir/estimar la evapotranspiración?**\n",
        "\n",
        "- La evapotranspiración (ET) es un componente esencial en modelos hidrológicos y de circulación general.\n",
        "- Es usado para inferir la humedad del suelo, como dato de entrada para pronósticos climáticos y de inundaciones.\n",
        "\n"
      ]
    },
    {
      "cell_type": "markdown",
      "metadata": {
        "id": "4JO-Vf5fv3iT"
      },
      "source": [
        "**Métodos de estimación**\n",
        "\n",
        "En Operational Remote Sensing of ET and Challenges [(2011)](https://www.intechopen.com/books/evapotranspiration-remote-sensing-and-modeling/operational-remote-sensing-of-et-and-challenges) se menciona a Kalma et al. (2008), donde reunen las **metodologías existentes** para estimar la evapotranspiración de los cultivos usando Teledetección, tales como:\n",
        "  - **Balance Energético de la Superficie**\n",
        "  - Métodos estadísticos que utilizan diferencias entre la temperatura de la superficie y el aire\n",
        "  - Correlaciones simplificadas o relaciones entre extremos de temperatura superficial de una imagen y puntos finales del ET anticipado\n",
        "  - ET relativa basada en la vegetación que se multiplica por una ET de referencia basada en el tiempo\n",
        "\n",
        "En la presente investigación, profundizaremos el método de Balance Energético de la Superficie."
      ]
    },
    {
      "cell_type": "markdown",
      "metadata": {
        "id": "nEceLEfPmiMI"
      },
      "source": [
        "**Métodos: Balance Energético de la Superficie**\n",
        "\n",
        "Se subdivide en:\n",
        "-  Balance energético completo para la imagen satelital: \n",
        "    \\begin{equation}\\lambda{E}=R_n - G -H \\end{equation}\n",
        "     dónde:\n",
        "     - $\\lambda{E}$ es la densidad latente del flujo térmico, representando la energía \"consumida\" por la evaporación del agua, \n",
        "     - $R_n$ es la densidad neta del flujo de radiación, \n",
        "     - $G$ es la densidad del flujo de calor del suelo, y \n",
        "     - $H$ es la densidad sensible del flujo de calor al aire.\n",
        "- Índice de estrés hídrico basado en la temperatura superficial y las cantidades de vegetación. \n",
        "- Aplicación de un Modelo Continuo de Superficie Terrestre (MSL) que se inicializa parcialmente y avanzado, en el tiempo, utilizando imágenes satelitales\n",
        "\n",
        "Todas las metodologías anteriormente mencionadas solamente trabajan sobre imágenes disponibles y dependiendo de la revisita del mismo, quedan vacíos de información entre imágenes."
      ]
    },
    {
      "cell_type": "markdown",
      "metadata": {
        "id": "bTI617Ba00xK"
      },
      "source": [
        "**Modelo METRIC** \n",
        "\n",
        "> METRIC uses TIR-Multispectral satellite images (e.g., from Landsat 7 ETM+ and 8 OLI) and ground-based meteorological data to estimate pixel-based daily $ET_a$ at 30 × 30 m spatial resolution via a surface energy balance equation at the time of the satellite overpass \n",
        "\n",
        "<center>\n",
        "<img src= 'https://external-content.duckduckgo.com/iu/?u=https%3A%2F%2Fimage.slideserve.com%2F327001%2Fhow-metric-works6-l.jpg&f=1&nofb=1' width=50%/>\n",
        "</center>\n",
        "\n",
        "Datos principales:\n",
        "- Imágenes termales satelitales de onda corta y larga (Landsat 7 ETM+ y Landsat 8 OLI/TIRS)\n",
        "- Un modelo digital de elevación (DEM)\n",
        "- Datos de medición de campo de la zona de interés o cercana."
      ]
    },
    {
      "cell_type": "markdown",
      "metadata": {
        "id": "cOIP7tV42htR"
      },
      "source": [
        "A continuación procederemos con la parte práctica usando la API de Python de Earth Engine con Colab. "
      ]
    },
    {
      "cell_type": "markdown",
      "metadata": {
        "id": "x8uX4Xnji8SW"
      },
      "source": [
        "# METRIC con Earth Engine en Colab"
      ]
    },
    {
      "cell_type": "markdown",
      "metadata": {
        "id": "GD7Ii-GoX6W1"
      },
      "source": [
        "## 1. Inicio\n",
        "\n",
        "- Credenciales \n",
        "- Librerías y Funciones \n",
        "- ROI Lambayeque"
      ]
    },
    {
      "cell_type": "markdown",
      "metadata": {
        "id": "LN_aRwHtNWXI"
      },
      "source": [
        "Primero ingresamos nuestros datos de Google Earth Engine (necesario una cuenta registrada)."
      ]
    },
    {
      "cell_type": "code",
      "metadata": {
        "id": "XHbIqVJh08-z",
        "colab": {
          "base_uri": "https://localhost:8080/"
        },
        "outputId": "ee2075d7-6f1f-44c3-c744-4fcf04722e15"
      },
      "source": [
        "# Ingresa tus credenciales de Google Earth Engine para comenzar\n",
        "import ee\n",
        "ee.Authenticate()\n",
        "\n",
        "# Inicio\n",
        "ee.Initialize()\n",
        "\n",
        "# Mensaje de login\n",
        "print('\\nYa estás logeado.')\n",
        "print('GEE Version:', ee.__version__)"
      ],
      "execution_count": null,
      "outputs": [
        {
          "output_type": "stream",
          "name": "stdout",
          "text": [
            "To authorize access needed by Earth Engine, open the following URL in a web browser and follow the instructions. If the web browser does not start automatically, please manually browse the URL below.\n",
            "\n",
            "    https://accounts.google.com/o/oauth2/auth?client_id=517222506229-vsmmajv00ul0bs7p89v5m89qs8eb9359.apps.googleusercontent.com&scope=https%3A%2F%2Fwww.googleapis.com%2Fauth%2Fearthengine+https%3A%2F%2Fwww.googleapis.com%2Fauth%2Fdevstorage.full_control&redirect_uri=urn%3Aietf%3Awg%3Aoauth%3A2.0%3Aoob&response_type=code&code_challenge=G1dv1MrUnjNt4Ipe4r4WPDdr_JQbvt1JiwZvJmUhZeM&code_challenge_method=S256\n",
            "\n",
            "The authorization workflow will generate a code, which you should paste in the box below. \n",
            "Enter verification code: 4/1AX4XfWjVpYn3ytnbHo_HReQDQhzM4xkYbnQBIplg_75AUr7c1AzNEVbnjQo\n",
            "\n",
            "Successfully saved authorization token.\n",
            "\n",
            "Ya estás logeado.\n",
            "GEE Version: 0.1.283\n"
          ]
        }
      ]
    },
    {
      "cell_type": "code",
      "metadata": {
        "id": "y1o3KKEzso2r",
        "colab": {
          "base_uri": "https://localhost:8080/"
        },
        "cellView": "form",
        "outputId": "6dcb0071-96c8-4a42-b712-b85a5857e232"
      },
      "source": [
        "#@markdown *Login: Credenciales Google Earth Engine*\n",
        "import os \n",
        "credential = '{\"refresh_token\":\"1//09lhqedCNpNDsCgYIARAAGAkSNwF-L9IraEP8FyJma46WSiEHhOMsZqSoTPJsi3Lar0C4nZUwj2QCZ_i66-McVzy4NmMalQL17KM\"}'\n",
        "credential_file_path = os.path.expanduser(\"~/.config/earthengine/\")\n",
        "os.makedirs(credential_file_path,exist_ok=True)\n",
        "with open(credential_file_path + 'credentials', 'w') as file:\n",
        "    file.write(credential)\n",
        "import ee\n",
        "ee.Initialize()\n",
        "print('Ya estás logeado.')\n",
        "print('GEE Version:',ee.__version__)"
      ],
      "execution_count": 1,
      "outputs": [
        {
          "output_type": "stream",
          "name": "stdout",
          "text": [
            "Ya estás logeado.\n",
            "GEE Version: 0.1.284\n"
          ]
        }
      ]
    },
    {
      "cell_type": "markdown",
      "metadata": {
        "id": "8cHVeUlBNsRF"
      },
      "source": [
        "Luego importamos las librerías y funciones necesarias para desarrollar la parte práctica."
      ]
    },
    {
      "cell_type": "code",
      "metadata": {
        "id": "SJ6adBwQLhpA",
        "colab": {
          "base_uri": "https://localhost:8080/"
        },
        "cellView": "form",
        "outputId": "a21ddf73-c701-4d45-9944-55406c54e8e5"
      },
      "source": [
        "# @markdown Importar librerías, funciones y más:\n",
        "# @markdown - `mapdisplay`: Variable global: `mapViz`\n",
        "# @markdown - `ee_get_dates`\n",
        "# @markdown - `conv_fecha`\n",
        "# @markdown - `ver_rangos`\n",
        "# @markdown - `create_dateranges`\n",
        "\n",
        "# mapdisplay ----------------------------------------\n",
        "import folium \n",
        "def mapdisplay(center, dicc, Tiles=\"OpensTreetMap\",zoom_start=10):\n",
        "    '''\n",
        "    Crea mapas interactivos usando la librería `folium`\n",
        "\n",
        "    - `center`: Center of the map (Latitude and Longitude) (`list`)\n",
        "    - `dicc`: Earth Engine Geometries or Tiles dictionary (`dict`)\n",
        "    - `Tiles=`: \n",
        "    Mapbox Bright \n",
        "    Mapbox Control Room\n",
        "    Stamen Terrain\n",
        "    Stamen Toner\n",
        "    stamenwatercolor\n",
        "    cartodbpositron\n",
        "    - `zoom_start=`: Initial zoom level for the map (`int`)\n",
        "\n",
        "    Return: A folium.Map object\n",
        "    '''\n",
        "    # Centrado de imagen (El [::-1] lee inversamente la lista)\n",
        "    center = center[::-1]\n",
        "\n",
        "    # Agregando parámetros de visualización\n",
        "    global mapViz\n",
        "    mapViz = folium.Map(\n",
        "        location=center,\n",
        "        tiles=Tiles, zoom_start=zoom_start, control_scale=True)\n",
        "\n",
        "    # Seteando la visualización de Images\n",
        "    for k,v in dicc.items():\n",
        "      if ee.image.Image in [type(x) for x in v.values()]:\n",
        "        folium.TileLayer(tiles = v[\"tile_fetcher\"].url_format,\n",
        "                         attr  = 'Google Earth Engine',\n",
        "                         overlay =True,\n",
        "                         name  = k).add_to(mapViz)\n",
        "      else:\n",
        "        folium.GeoJson(data = v,\n",
        "                       name = k).add_to(mapViz)\n",
        "    # Agregar: Minimapa\n",
        "    # from folium.plugins import MiniMap\n",
        "    # minimap = MiniMap(\n",
        "    #     tile_layer=\"OpensTreetMap\", \n",
        "    #     position=\"bottomright\", \n",
        "    #     zoom_level_fixed=4)\n",
        "    # mapViz.add_child(minimap) # https://nbviewer.jupyter.org/github/python-visualization/folium/blob/master/examples/MiniMap.ipynb\n",
        "\n",
        "    # Fullscreen (no funciona en colab)\n",
        "    # plugins.Fullscreen().add_to(mapViz)\n",
        "\n",
        "    # Agregando el control de layers\n",
        "    mapViz.add_child(folium.LayerControl())\n",
        "    return mapViz\n",
        "print('mapdisplay(center, dicc, Tiles=\"OpensTreetMap\",zoom_start=10) listo!')\n",
        "\n",
        "\n",
        "# ee_get_dates ----------------------------------------\n",
        "from datetime import datetime as dt\n",
        "def ee_get_dates(ic):\n",
        "  \"\"\"\n",
        "  Permite obtener información de la Fecha y Hora de toma de imágen por el satélite.\n",
        "  - ic: `ee.ImageCollection()`\n",
        "  \"\"\"\n",
        "  dates = ic.aggregate_array('system:time_start').getInfo()\n",
        "  anonym = lambda x: dt.utcfromtimestamp(x/1000).strftime('%Y-%m-%d %H:%M:%S')\n",
        "  return list(map(anonym, dates))\n",
        "print('ee_get_dates(ic) listo!')\n",
        "\n",
        " \n",
        "# conv_fecha ----------------------------------------\n",
        "def conv_fecha(img, exact=None):\n",
        "  '''\n",
        "  Obtener fecha con formato YYYY-MM-dd H:mm:ss\n",
        "  img: ee.Image\n",
        "  '''\n",
        "  if exact==True:\n",
        "    return img.date().format('YYYY-MM-dd').getInfo()\n",
        "  else:\n",
        "    return img.date().format('YYYY-MM-dd H:mm:ss').getInfo()\n",
        "print('conv_fecha(img, getInfo=None) listo!')\n",
        "\n",
        "\n",
        "# ver_rangos ----------------------------------------\n",
        "\n",
        "Start_date = '2012-01-01'\n",
        "End_date   = '2021-01-31'\n",
        "range_date = [Start_date, End_date]\n",
        "\n",
        "def ver_rangos(img_col, range_date= [Start_date, End_date]):\n",
        "  \"\"\"\n",
        "  Devuelve los rangos de fechas existente en un rango inicial escrito manualmente como input.\n",
        "  Pasos:\n",
        "  1. `Reducer.minMax()` devuelve un valor min y max\n",
        "  2. `icol.reduceColumns()` devuelve un diccionario con el min-max\n",
        "  more info: https://developers.google.com/earth-engine/apidocs/ee-imagecollection-reducecolumns?hl=en\n",
        "  \"\"\"\n",
        "  \n",
        "  rango = img_col.reduceColumns(ee.Reducer.minMax(), [\"system:time_start\"]) # Retorna un ee.dictionary: {'max': 1608132402761, 'min': 1545060401000}\n",
        "\n",
        "  # Obtención de la fecha min y max del image collection en formato ISO standard 8601\n",
        "  # Javascript trabaja las fechas con milisegundos (se deja así)\n",
        "  # Python     trabaja las fechas con segundos (por eso /1000)\n",
        "  init_date = ee.Date(rango.get('min')).getInfo()['value']/1000.\n",
        "  last_date = ee.Date(rango.get('max')).getInfo()['value']/1000.\n",
        "\n",
        "  # Dar formato a las fechas  \n",
        "  from datetime import datetime as dt\n",
        "  init_date_f = dt.utcfromtimestamp(init_date).strftime('%Y-%m-%d') # %H:%M:%S\n",
        "  last_date_f = dt.utcfromtimestamp(last_date).strftime('%Y-%m-%d') # %H:%M:%S\n",
        "  \n",
        "  # Obtenga el rango de fechas de las imágenes en la colección.\n",
        "  range_date = [Start_date, End_date]\n",
        "  print('Total imágenes: {}'.format(img_col.size().getInfo()))\n",
        "  print('Rango Temporal Ingresado : {} - {}'.format(range_date[0], range_date[1]))\n",
        "  print('Rango Temporal Real      : {} - {}'.format(init_date_f, last_date_f))\n",
        "print('ver_rangos(icol, range_date= [Start_date, End_date]) listo!')"
      ],
      "execution_count": 2,
      "outputs": [
        {
          "output_type": "stream",
          "name": "stdout",
          "text": [
            "mapdisplay(center, dicc, Tiles=\"OpensTreetMap\",zoom_start=10) listo!\n",
            "ee_get_dates(ic) listo!\n",
            "conv_fecha(img, getInfo=None) listo!\n",
            "ver_rangos(icol, range_date= [Start_date, End_date]) listo!\n",
            "create_dateranges(init_date, time, range_1, range_2) listo!\n"
          ]
        }
      ]
    },
    {
      "cell_type": "markdown",
      "metadata": {
        "id": "UDrhZLLiOCjv"
      },
      "source": [
        "Una vez ingresado nuestros datos de Google Earth Engine ya podemos visualizar la zona de estudio de forma interactiva con [`folium`](https://python-visualization.github.io/folium/) en Python."
      ]
    },
    {
      "cell_type": "code",
      "metadata": {
        "id": "fWlSyVJAkGnF",
        "cellView": "form",
        "colab": {
          "base_uri": "https://localhost:8080/",
          "height": 854
        },
        "outputId": "fe47d597-08d9-45e3-f011-fe2107859686"
      },
      "source": [
        "# @markdown *Visualización: Departamento de Lambayeque*\n",
        "\n",
        "# 24 Departamentos del Perú\n",
        "shpPeru = ee.FeatureCollection('users/CesarVilca/Departamentos_Peru')\n",
        "\n",
        "# Departamento de Lambayeque\n",
        "shpDep = shpPeru.filter(ee.Filter.eq('NOMBDEP', 'LAMBAYEQUE'))\n",
        "\n",
        "# Geometrías\n",
        "roiPeru = shpPeru.geometry()\n",
        "roiDep  = shpDep.geometry()\n",
        "\n",
        "# Centroides\n",
        "centroidPeru = roiPeru.centroid().coordinates().getInfo()   \n",
        "centroidDep = roiDep.centroid().coordinates().getInfo()\n",
        "\n",
        "# Visualización de FeatureCollection con .draw\n",
        "# https://htmlcolors.com/ para modificar el color\n",
        "roiPeruDraw = shpPeru.draw(color = \"000000\", strokeWidth = 2, pointRadius = 2) \n",
        "roiDepDraw  = shpDep.draw(color = \"00FF00\", strokeWidth = 2, pointRadius = 2) \n",
        "\n",
        "dicc_viz1 = {\n",
        "    'Perú': roiPeruDraw.getMapId(),\n",
        "    'Lambayeque': roiDepDraw.getMapId(),\n",
        "    }  \n",
        "    \n",
        "mapdisplay(centroidDep, dicc_viz1, zoom_start=9)\n",
        "\n",
        "# print('Zona de estudio lista!')"
      ],
      "execution_count": 3,
      "outputs": [
        {
          "output_type": "execute_result",
          "data": {
            "text/html": [
              "<div style=\"width:100%;\"><div style=\"position:relative;width:100%;height:0;padding-bottom:60%;\"><span style=\"color:#565656\">Make this Notebook Trusted to load map: File -> Trust Notebook</span><iframe src=\"about:blank\" style=\"position:absolute;width:100%;height:100%;left:0;top:0;border:none !important;\" data-html=%3C%21DOCTYPE%20html%3E%0A%3Chead%3E%20%20%20%20%0A%20%20%20%20%3Cmeta%20http-equiv%3D%22content-type%22%20content%3D%22text/html%3B%20charset%3DUTF-8%22%20/%3E%0A%20%20%20%20%3Cscript%3EL_PREFER_CANVAS%3Dfalse%3B%20L_NO_TOUCH%3Dfalse%3B%20L_DISABLE_3D%3Dfalse%3B%3C/script%3E%0A%20%20%20%20%3Cscript%20src%3D%22https%3A//cdn.jsdelivr.net/npm/leaflet%401.4.0/dist/leaflet.js%22%3E%3C/script%3E%0A%20%20%20%20%3Cscript%20src%3D%22https%3A//code.jquery.com/jquery-1.12.4.min.js%22%3E%3C/script%3E%0A%20%20%20%20%3Cscript%20src%3D%22https%3A//maxcdn.bootstrapcdn.com/bootstrap/3.2.0/js/bootstrap.min.js%22%3E%3C/script%3E%0A%20%20%20%20%3Cscript%20src%3D%22https%3A//cdnjs.cloudflare.com/ajax/libs/Leaflet.awesome-markers/2.0.2/leaflet.awesome-markers.js%22%3E%3C/script%3E%0A%20%20%20%20%3Clink%20rel%3D%22stylesheet%22%20href%3D%22https%3A//cdn.jsdelivr.net/npm/leaflet%401.4.0/dist/leaflet.css%22/%3E%0A%20%20%20%20%3Clink%20rel%3D%22stylesheet%22%20href%3D%22https%3A//maxcdn.bootstrapcdn.com/bootstrap/3.2.0/css/bootstrap.min.css%22/%3E%0A%20%20%20%20%3Clink%20rel%3D%22stylesheet%22%20href%3D%22https%3A//maxcdn.bootstrapcdn.com/bootstrap/3.2.0/css/bootstrap-theme.min.css%22/%3E%0A%20%20%20%20%3Clink%20rel%3D%22stylesheet%22%20href%3D%22https%3A//maxcdn.bootstrapcdn.com/font-awesome/4.6.3/css/font-awesome.min.css%22/%3E%0A%20%20%20%20%3Clink%20rel%3D%22stylesheet%22%20href%3D%22https%3A//cdnjs.cloudflare.com/ajax/libs/Leaflet.awesome-markers/2.0.2/leaflet.awesome-markers.css%22/%3E%0A%20%20%20%20%3Clink%20rel%3D%22stylesheet%22%20href%3D%22https%3A//rawcdn.githack.com/python-visualization/folium/master/folium/templates/leaflet.awesome.rotate.css%22/%3E%0A%20%20%20%20%3Cstyle%3Ehtml%2C%20body%20%7Bwidth%3A%20100%25%3Bheight%3A%20100%25%3Bmargin%3A%200%3Bpadding%3A%200%3B%7D%3C/style%3E%0A%20%20%20%20%3Cstyle%3E%23map%20%7Bposition%3Aabsolute%3Btop%3A0%3Bbottom%3A0%3Bright%3A0%3Bleft%3A0%3B%7D%3C/style%3E%0A%20%20%20%20%0A%20%20%20%20%3Cmeta%20name%3D%22viewport%22%20content%3D%22width%3Ddevice-width%2C%0A%20%20%20%20%20%20%20%20initial-scale%3D1.0%2C%20maximum-scale%3D1.0%2C%20user-scalable%3Dno%22%20/%3E%0A%20%20%20%20%3Cstyle%3E%23map_95b3427a55fc4c57b5cd41a7585c45f2%20%7B%0A%20%20%20%20%20%20%20%20position%3A%20relative%3B%0A%20%20%20%20%20%20%20%20width%3A%20100.0%25%3B%0A%20%20%20%20%20%20%20%20height%3A%20100.0%25%3B%0A%20%20%20%20%20%20%20%20left%3A%200.0%25%3B%0A%20%20%20%20%20%20%20%20top%3A%200.0%25%3B%0A%20%20%20%20%20%20%20%20%7D%0A%20%20%20%20%3C/style%3E%0A%3C/head%3E%0A%3Cbody%3E%20%20%20%20%0A%20%20%20%20%0A%20%20%20%20%3Cdiv%20class%3D%22folium-map%22%20id%3D%22map_95b3427a55fc4c57b5cd41a7585c45f2%22%20%3E%3C/div%3E%0A%3C/body%3E%0A%3Cscript%3E%20%20%20%20%0A%20%20%20%20%0A%20%20%20%20%0A%20%20%20%20%20%20%20%20var%20bounds%20%3D%20null%3B%0A%20%20%20%20%0A%0A%20%20%20%20var%20map_95b3427a55fc4c57b5cd41a7585c45f2%20%3D%20L.map%28%0A%20%20%20%20%20%20%20%20%27map_95b3427a55fc4c57b5cd41a7585c45f2%27%2C%20%7B%0A%20%20%20%20%20%20%20%20center%3A%20%5B-6.351697244022021%2C%20-79.82344439536111%5D%2C%0A%20%20%20%20%20%20%20%20zoom%3A%209%2C%0A%20%20%20%20%20%20%20%20maxBounds%3A%20bounds%2C%0A%20%20%20%20%20%20%20%20layers%3A%20%5B%5D%2C%0A%20%20%20%20%20%20%20%20worldCopyJump%3A%20false%2C%0A%20%20%20%20%20%20%20%20crs%3A%20L.CRS.EPSG3857%2C%0A%20%20%20%20%20%20%20%20zoomControl%3A%20true%2C%0A%20%20%20%20%20%20%20%20%7D%29%3B%0AL.control.scale%28%29.addTo%28map_95b3427a55fc4c57b5cd41a7585c45f2%29%3B%0A%0A%20%20%20%20%0A%20%20%20%20var%20tile_layer_b68876a83caa4d06a026793525b6c423%20%3D%20L.tileLayer%28%0A%20%20%20%20%20%20%20%20%27https%3A//%7Bs%7D.tile.openstreetmap.org/%7Bz%7D/%7Bx%7D/%7By%7D.png%27%2C%0A%20%20%20%20%20%20%20%20%7B%0A%20%20%20%20%20%20%20%20%22attribution%22%3A%20null%2C%0A%20%20%20%20%20%20%20%20%22detectRetina%22%3A%20false%2C%0A%20%20%20%20%20%20%20%20%22maxNativeZoom%22%3A%2018%2C%0A%20%20%20%20%20%20%20%20%22maxZoom%22%3A%2018%2C%0A%20%20%20%20%20%20%20%20%22minZoom%22%3A%200%2C%0A%20%20%20%20%20%20%20%20%22noWrap%22%3A%20false%2C%0A%20%20%20%20%20%20%20%20%22opacity%22%3A%201%2C%0A%20%20%20%20%20%20%20%20%22subdomains%22%3A%20%22abc%22%2C%0A%20%20%20%20%20%20%20%20%22tms%22%3A%20false%0A%7D%29.addTo%28map_95b3427a55fc4c57b5cd41a7585c45f2%29%3B%0A%20%20%20%20var%20tile_layer_fe18519501ba4416a64cbb3ad49a0ffa%20%3D%20L.tileLayer%28%0A%20%20%20%20%20%20%20%20%27https%3A//earthengine.googleapis.com/v1alpha/projects/earthengine-legacy/maps/eb0c7e98933eb752b4338ff8241f1e39-5de3d42a03871e7ce228de672fd86768/tiles/%7Bz%7D/%7Bx%7D/%7By%7D%27%2C%0A%20%20%20%20%20%20%20%20%7B%0A%20%20%20%20%20%20%20%20%22attribution%22%3A%20%22Google%20Earth%20Engine%22%2C%0A%20%20%20%20%20%20%20%20%22detectRetina%22%3A%20false%2C%0A%20%20%20%20%20%20%20%20%22maxNativeZoom%22%3A%2018%2C%0A%20%20%20%20%20%20%20%20%22maxZoom%22%3A%2018%2C%0A%20%20%20%20%20%20%20%20%22minZoom%22%3A%200%2C%0A%20%20%20%20%20%20%20%20%22noWrap%22%3A%20false%2C%0A%20%20%20%20%20%20%20%20%22opacity%22%3A%201%2C%0A%20%20%20%20%20%20%20%20%22subdomains%22%3A%20%22abc%22%2C%0A%20%20%20%20%20%20%20%20%22tms%22%3A%20false%0A%7D%29.addTo%28map_95b3427a55fc4c57b5cd41a7585c45f2%29%3B%0A%20%20%20%20var%20tile_layer_c9cd9d19f43d4c39876185d4a7507b59%20%3D%20L.tileLayer%28%0A%20%20%20%20%20%20%20%20%27https%3A//earthengine.googleapis.com/v1alpha/projects/earthengine-legacy/maps/fff93377f912e49e5ecc87fbb41da777-5dbd070a63502e5609edcc22baafed96/tiles/%7Bz%7D/%7Bx%7D/%7By%7D%27%2C%0A%20%20%20%20%20%20%20%20%7B%0A%20%20%20%20%20%20%20%20%22attribution%22%3A%20%22Google%20Earth%20Engine%22%2C%0A%20%20%20%20%20%20%20%20%22detectRetina%22%3A%20false%2C%0A%20%20%20%20%20%20%20%20%22maxNativeZoom%22%3A%2018%2C%0A%20%20%20%20%20%20%20%20%22maxZoom%22%3A%2018%2C%0A%20%20%20%20%20%20%20%20%22minZoom%22%3A%200%2C%0A%20%20%20%20%20%20%20%20%22noWrap%22%3A%20false%2C%0A%20%20%20%20%20%20%20%20%22opacity%22%3A%201%2C%0A%20%20%20%20%20%20%20%20%22subdomains%22%3A%20%22abc%22%2C%0A%20%20%20%20%20%20%20%20%22tms%22%3A%20false%0A%7D%29.addTo%28map_95b3427a55fc4c57b5cd41a7585c45f2%29%3B%0A%20%20%20%20%0A%20%20%20%20%20%20%20%20%20%20%20%20var%20layer_control_c4c5f45476e54c9380c9b90e6b5dceb8%20%3D%20%7B%0A%20%20%20%20%20%20%20%20%20%20%20%20%20%20%20%20base_layers%20%3A%20%7B%20%22openstreetmap%22%20%3A%20tile_layer_b68876a83caa4d06a026793525b6c423%2C%20%7D%2C%0A%20%20%20%20%20%20%20%20%20%20%20%20%20%20%20%20overlays%20%3A%20%7B%20%22Per%C3%BA%22%20%3A%20tile_layer_fe18519501ba4416a64cbb3ad49a0ffa%2C%22Lambayeque%22%20%3A%20tile_layer_c9cd9d19f43d4c39876185d4a7507b59%2C%20%7D%0A%20%20%20%20%20%20%20%20%20%20%20%20%20%20%20%20%7D%3B%0A%20%20%20%20%20%20%20%20%20%20%20%20L.control.layers%28%0A%20%20%20%20%20%20%20%20%20%20%20%20%20%20%20%20layer_control_c4c5f45476e54c9380c9b90e6b5dceb8.base_layers%2C%0A%20%20%20%20%20%20%20%20%20%20%20%20%20%20%20%20layer_control_c4c5f45476e54c9380c9b90e6b5dceb8.overlays%2C%0A%20%20%20%20%20%20%20%20%20%20%20%20%20%20%20%20%7Bposition%3A%20%27topright%27%2C%0A%20%20%20%20%20%20%20%20%20%20%20%20%20%20%20%20%20collapsed%3A%20true%2C%0A%20%20%20%20%20%20%20%20%20%20%20%20%20%20%20%20%20autoZIndex%3A%20true%0A%20%20%20%20%20%20%20%20%20%20%20%20%20%20%20%20%7D%29.addTo%28map_95b3427a55fc4c57b5cd41a7585c45f2%29%3B%0A%20%20%20%20%20%20%20%20%20%20%20%20%0A%20%20%20%20%20%20%20%20%0A%3C/script%3E onload=\"this.contentDocument.open();this.contentDocument.write(    decodeURIComponent(this.getAttribute('data-html')));this.contentDocument.close();\" allowfullscreen webkitallowfullscreen mozallowfullscreen></iframe></div></div>"
            ],
            "text/plain": [
              "<folium.folium.Map at 0x7f3854edebd0>"
            ]
          },
          "metadata": {},
          "execution_count": 3
        }
      ]
    },
    {
      "cell_type": "markdown",
      "metadata": {
        "id": "PHotkTXtW47T"
      },
      "source": [
        "## 2. Exploración de dataset \"Landsat 8 Surface Reflectance\"\n"
      ]
    },
    {
      "cell_type": "markdown",
      "metadata": {
        "id": "OPacBK9izzWb"
      },
      "source": [
        "### 2.1. Constelación Landsat"
      ]
    },
    {
      "cell_type": "markdown",
      "metadata": {
        "id": "ziwL-nv5CxFr"
      },
      "source": [
        "**Landsat** \n",
        "\n",
        "Programa conjunto del USGS y la NASA que ha estado observando la Tierra continuamente desde 1972 hasta la actualidad. Hoy en día, los satélites Landsat obtienen imágenes de toda la superficie de la Tierra a una resolución de 30 metros aproximadamente una vez cada dos semanas, incluidos datos multiespectrales y térmicos. El USGS produce datos en 3 categorías para cada satélite (Nivel 1, Nivel 2 y RT).\n"
      ]
    },
    {
      "cell_type": "markdown",
      "metadata": {
        "id": "dZrYc7R2r8QU"
      },
      "source": [
        "**Landsat Collections**\n",
        "\n",
        "Landsat se divide en dos colecciones:\n",
        "\n",
        "- ***Landsat Collection 1***: Inició en 2016 y contiene toda la data de Level-1 adquirida desde 1972 hasta el presente de Landsat 1-8.\n",
        "  - En Earth Engine: [USGS Landsat 8 Surface Reflectance Tier 1](https://developers.google.com/earth-engine/datasets/catalog/LANDSAT_LC08_C01_T1_SR)\n",
        "- ***Landsat Collection 2***: Inició a mediados del año 2021 y representa un hito en la historia de Landsat ya que realiza mejoras sustanciales al procesamiento de las imágenes antes adquiridas, dando como resultado un mayor aprovechamiento de los avances recientes en el procesamiento de datos, el desarrollo de algoritmos y las capacidades de acceso y distribución de datos.\n",
        "  - En Earth Engine: [USGS Landsat 8 Level 2, Collection 2, Tier 1](https://developers.google.com/earth-engine/datasets/catalog/LANDSAT_LC08_C02_T1_L2)\n",
        "\n",
        "**Nota**: A partir del primero de enero del 2022, todas las imágenes adquiridas y procesadas serán almacenadas solamente en el inventario *Landsat Collection 2*. [Fuente: USGS](https://www.usgs.gov/core-science-systems/nli/landsat/landsat-collections?qt-science_support_page_related_con=2#qt-science_support_page_related_con)\n"
      ]
    },
    {
      "cell_type": "markdown",
      "metadata": {
        "id": "3W8jz8YrCZR5"
      },
      "source": [
        "**Landsat 8 en Earth Engine**\n",
        "\n",
        "A continuación veremos las propiedades de las bandas del producto Landsat 8 Surface Reflectance Tier 1 en el dataset de Earth Engine. \n",
        "\n",
        "\\\n",
        "\n",
        "|Name\t|Units|\tScale|\tWavelength|\tDescription|\n",
        "|:-:|:-:|-|-|-|\n",
        "|B1\t\t|-|0.0001\t|0.435-0.451 μm\t|Band 1 (ultra blue) surface reflectance|\n",
        "|B2\t\t|-|0.0001\t|0.452-0.512 μm\t|Band 2 (blue) surface reflectance|\n",
        "|B3\t\t|-|0.0001\t|0.533-0.590 μm\t|Band 3 (green) surface reflectance|\n",
        "|B4\t\t|-|0.0001\t|0.636-0.673 μm\t|Band 4 (red) surface reflectance|\n",
        "|B5\t\t|-|0.0001\t|0.851-0.879 μm\t|Band 5 (near infrared) surface reflectance|\n",
        "|B6\t\t|-|0.0001\t|1.566-1.651 μm\t|Band 6 (shortwave infrared 1) surface reflectance|\n",
        "|B7\t\t|-|0.0001\t|2.107-2.294 μm\t|Band 7 (shortwave infrared 2) surface reflectance|\n",
        "|B10\t|Kelvin\t|0.1\t|10.60-11.19 μm|Band 10 brightness temperature.|\n",
        "|B11\t|Kelvin\t|0.1\t|11.50-12.51 μm|Band 11 brightness temperature.|\n",
        "\n",
        "\\\n",
        "\n",
        "**Nota**:\n",
        "Las bandas B10 y B11, aunque se recopilaron originalmente con una resolución de 100 m / píxel, se han vuelto a muestrear mediante convolución cúbica a 30 m."
      ]
    },
    {
      "cell_type": "markdown",
      "metadata": {
        "id": "za8ddCNT15uu"
      },
      "source": [
        "### 2.2. Exploración rápida del dataset Landsat 8 Surface Reflectance"
      ]
    },
    {
      "cell_type": "markdown",
      "metadata": {
        "id": "dSkpGAEt5mr8"
      },
      "source": [
        "Se realizará un filtrado al dataset con el fin de reducir la cantidad de imágenes a las que abarquen nuestra área de estudio. Es posible el filtrado mediante: \n",
        "- Un punto: coordenadas como longitud y latitud de un lugar exacto\n",
        "- Multipuntos: archivo shapefile como conjunto de coordenadas\n",
        "- Propiedades: Path y Row\n",
        "  - **Nota**: Para ubicar el Path y Row de la zona de estudio de forma interactiva, usar el siguiente enlace: [GEO GPS PERÚ: Ubica el PATH y ROW de tu distrito para imágenes LANDSAT](https://www.geogpsperu.com/2016/02/ubica-el-path-y-row-de-tu-distrito-para.html)\n"
      ]
    },
    {
      "cell_type": "code",
      "metadata": {
        "id": "_Or-DdlMuRsi",
        "colab": {
          "base_uri": "https://localhost:8080/",
          "height": 890
        },
        "cellView": "form",
        "outputId": "f4cd68cf-0c54-44a0-d3fc-2ab8668d7722"
      },
      "source": [
        "# @markdown **Prueba**: Visualización rápida de imágenes Landsat para el ROI\n",
        "\n",
        "# @markdown Seleccionamos las fechas de inicio y fin para el filtrado\n",
        "\n",
        "# Inputs\n",
        "Start_date = '2020-01-01'  #@param {type: \"date\"}\n",
        "End_date   = '2021-01-01'  #@param {type: \"date\"}\n",
        "range_date = [Start_date, End_date]\n",
        "\n",
        "## Filtrado de imágenes\n",
        "# 1er Filtrado: Mejor fecha de toma\n",
        "img_col = ee.ImageCollection(\"LANDSAT/LC08/C01/T1_SR\")\\\n",
        "            .filterDate(Start_date, End_date)\\\n",
        "            .filterBounds(roiDep)\\\n",
        "            .sort('CLOUD_COVER')\n",
        "\n",
        "mejor_fecha = conv_fecha(img_col.first(), exact=True)\n",
        "fecha1 = ee.Date(mejor_fecha)\n",
        "fecha2 = fecha1.advance(16, 'day') # ee.Date().advance()\n",
        "\n",
        "# Metadatos\n",
        "print('--- Metadatos del Image Collection img_col ---')\n",
        "ver_rangos(img_col)\n",
        "print('Fecha de mejor toma: ', mejor_fecha)\n",
        "\n",
        "# 2do Fitrado: Visualización de imágenes con mejor toma\n",
        "img_col = ee.ImageCollection(\"LANDSAT/LC08/C01/T1_SR\")\\\n",
        "            .filterDate(fecha1, fecha2)\\\n",
        "            .filterBounds(roiDep)\\\n",
        "            .sort('CLOUD_COVER')\n",
        "\n",
        "imagenes = img_col.median().multiply(0.0001).select(['B4','B3','B2'])\n",
        "\n",
        "# Visualizacion\n",
        "chongoyape = ee.Geometry.Point([-79.389, -6.639])\n",
        "oyotun     = ee.Geometry.Point([-79.309, -6.846])\n",
        "centroide  = ee.Geometry.Point([-79.823, -6.351])\n",
        "\n",
        "dict_img = {\n",
        "    'img_col': imagenes.getMapId({\n",
        "        'min':0.0, 'max':0.3, 'bands': ['B4','B3','B2']}),\n",
        "    'Lambayeque_shp': roiDepDraw.getMapId(),\n",
        "    'Chongoyape': chongoyape.getInfo(),\n",
        "    'Centroide': centroide.getInfo(),\n",
        "    'Oyotun': oyotun.getInfo()\n",
        "    } # ,'roi': roi_clip.getInfo()\n",
        "\n",
        "mapdisplay(centroidDep, dict_img, zoom_start=8)"
      ],
      "execution_count": null,
      "outputs": [
        {
          "output_type": "stream",
          "name": "stdout",
          "text": [
            "--- Metadatos del Image Collection img_col ---\n",
            "Total imágenes: 77\n",
            "Rango Temporal Ingresado : 2020-01-01 - 2021-01-01\n",
            "Rango Temporal Real      : 2020-01-07 - 2020-12-26\n",
            "Fecha de mejor toma:  2020-04-21\n"
          ]
        },
        {
          "output_type": "execute_result",
          "data": {
            "text/html": [
              "<div style=\"width:100%;\"><div style=\"position:relative;width:100%;height:0;padding-bottom:60%;\"><span style=\"color:#565656\">Make this Notebook Trusted to load map: File -> Trust Notebook</span><iframe src=\"about:blank\" style=\"position:absolute;width:100%;height:100%;left:0;top:0;border:none !important;\" data-html=%3C%21DOCTYPE%20html%3E%0A%3Chead%3E%20%20%20%20%0A%20%20%20%20%3Cmeta%20http-equiv%3D%22content-type%22%20content%3D%22text/html%3B%20charset%3DUTF-8%22%20/%3E%0A%20%20%20%20%3Cscript%3EL_PREFER_CANVAS%3Dfalse%3B%20L_NO_TOUCH%3Dfalse%3B%20L_DISABLE_3D%3Dfalse%3B%3C/script%3E%0A%20%20%20%20%3Cscript%20src%3D%22https%3A//cdn.jsdelivr.net/npm/leaflet%401.4.0/dist/leaflet.js%22%3E%3C/script%3E%0A%20%20%20%20%3Cscript%20src%3D%22https%3A//code.jquery.com/jquery-1.12.4.min.js%22%3E%3C/script%3E%0A%20%20%20%20%3Cscript%20src%3D%22https%3A//maxcdn.bootstrapcdn.com/bootstrap/3.2.0/js/bootstrap.min.js%22%3E%3C/script%3E%0A%20%20%20%20%3Cscript%20src%3D%22https%3A//cdnjs.cloudflare.com/ajax/libs/Leaflet.awesome-markers/2.0.2/leaflet.awesome-markers.js%22%3E%3C/script%3E%0A%20%20%20%20%3Clink%20rel%3D%22stylesheet%22%20href%3D%22https%3A//cdn.jsdelivr.net/npm/leaflet%401.4.0/dist/leaflet.css%22/%3E%0A%20%20%20%20%3Clink%20rel%3D%22stylesheet%22%20href%3D%22https%3A//maxcdn.bootstrapcdn.com/bootstrap/3.2.0/css/bootstrap.min.css%22/%3E%0A%20%20%20%20%3Clink%20rel%3D%22stylesheet%22%20href%3D%22https%3A//maxcdn.bootstrapcdn.com/bootstrap/3.2.0/css/bootstrap-theme.min.css%22/%3E%0A%20%20%20%20%3Clink%20rel%3D%22stylesheet%22%20href%3D%22https%3A//maxcdn.bootstrapcdn.com/font-awesome/4.6.3/css/font-awesome.min.css%22/%3E%0A%20%20%20%20%3Clink%20rel%3D%22stylesheet%22%20href%3D%22https%3A//cdnjs.cloudflare.com/ajax/libs/Leaflet.awesome-markers/2.0.2/leaflet.awesome-markers.css%22/%3E%0A%20%20%20%20%3Clink%20rel%3D%22stylesheet%22%20href%3D%22https%3A//rawcdn.githack.com/python-visualization/folium/master/folium/templates/leaflet.awesome.rotate.css%22/%3E%0A%20%20%20%20%3Cstyle%3Ehtml%2C%20body%20%7Bwidth%3A%20100%25%3Bheight%3A%20100%25%3Bmargin%3A%200%3Bpadding%3A%200%3B%7D%3C/style%3E%0A%20%20%20%20%3Cstyle%3E%23map%20%7Bposition%3Aabsolute%3Btop%3A0%3Bbottom%3A0%3Bright%3A0%3Bleft%3A0%3B%7D%3C/style%3E%0A%20%20%20%20%0A%20%20%20%20%3Cmeta%20name%3D%22viewport%22%20content%3D%22width%3Ddevice-width%2C%0A%20%20%20%20%20%20%20%20initial-scale%3D1.0%2C%20maximum-scale%3D1.0%2C%20user-scalable%3Dno%22%20/%3E%0A%20%20%20%20%3Cstyle%3E%23map_4c4fd7cb2fd34749894fdbfaa7682b3f%20%7B%0A%20%20%20%20%20%20%20%20position%3A%20relative%3B%0A%20%20%20%20%20%20%20%20width%3A%20100.0%25%3B%0A%20%20%20%20%20%20%20%20height%3A%20100.0%25%3B%0A%20%20%20%20%20%20%20%20left%3A%200.0%25%3B%0A%20%20%20%20%20%20%20%20top%3A%200.0%25%3B%0A%20%20%20%20%20%20%20%20%7D%0A%20%20%20%20%3C/style%3E%0A%3C/head%3E%0A%3Cbody%3E%20%20%20%20%0A%20%20%20%20%0A%20%20%20%20%3Cdiv%20class%3D%22folium-map%22%20id%3D%22map_4c4fd7cb2fd34749894fdbfaa7682b3f%22%20%3E%3C/div%3E%0A%3C/body%3E%0A%3Cscript%3E%20%20%20%20%0A%20%20%20%20%0A%20%20%20%20%0A%20%20%20%20%20%20%20%20var%20bounds%20%3D%20null%3B%0A%20%20%20%20%0A%0A%20%20%20%20var%20map_4c4fd7cb2fd34749894fdbfaa7682b3f%20%3D%20L.map%28%0A%20%20%20%20%20%20%20%20%27map_4c4fd7cb2fd34749894fdbfaa7682b3f%27%2C%20%7B%0A%20%20%20%20%20%20%20%20center%3A%20%5B-6.351697244022021%2C%20-79.82344439536111%5D%2C%0A%20%20%20%20%20%20%20%20zoom%3A%208%2C%0A%20%20%20%20%20%20%20%20maxBounds%3A%20bounds%2C%0A%20%20%20%20%20%20%20%20layers%3A%20%5B%5D%2C%0A%20%20%20%20%20%20%20%20worldCopyJump%3A%20false%2C%0A%20%20%20%20%20%20%20%20crs%3A%20L.CRS.EPSG3857%2C%0A%20%20%20%20%20%20%20%20zoomControl%3A%20true%2C%0A%20%20%20%20%20%20%20%20%7D%29%3B%0AL.control.scale%28%29.addTo%28map_4c4fd7cb2fd34749894fdbfaa7682b3f%29%3B%0A%0A%20%20%20%20%0A%20%20%20%20var%20tile_layer_590c3d4252c94c259737d0d8111bd329%20%3D%20L.tileLayer%28%0A%20%20%20%20%20%20%20%20%27https%3A//%7Bs%7D.tile.openstreetmap.org/%7Bz%7D/%7Bx%7D/%7By%7D.png%27%2C%0A%20%20%20%20%20%20%20%20%7B%0A%20%20%20%20%20%20%20%20%22attribution%22%3A%20null%2C%0A%20%20%20%20%20%20%20%20%22detectRetina%22%3A%20false%2C%0A%20%20%20%20%20%20%20%20%22maxNativeZoom%22%3A%2018%2C%0A%20%20%20%20%20%20%20%20%22maxZoom%22%3A%2018%2C%0A%20%20%20%20%20%20%20%20%22minZoom%22%3A%200%2C%0A%20%20%20%20%20%20%20%20%22noWrap%22%3A%20false%2C%0A%20%20%20%20%20%20%20%20%22opacity%22%3A%201%2C%0A%20%20%20%20%20%20%20%20%22subdomains%22%3A%20%22abc%22%2C%0A%20%20%20%20%20%20%20%20%22tms%22%3A%20false%0A%7D%29.addTo%28map_4c4fd7cb2fd34749894fdbfaa7682b3f%29%3B%0A%20%20%20%20var%20tile_layer_ed75f29101084482bc504fa574b466ec%20%3D%20L.tileLayer%28%0A%20%20%20%20%20%20%20%20%27https%3A//earthengine.googleapis.com/v1alpha/projects/earthengine-legacy/maps/4ee21c8f828a6f8b47e7066a597404f6-d09affd51e081c50d3245136486561af/tiles/%7Bz%7D/%7Bx%7D/%7By%7D%27%2C%0A%20%20%20%20%20%20%20%20%7B%0A%20%20%20%20%20%20%20%20%22attribution%22%3A%20%22Google%20Earth%20Engine%22%2C%0A%20%20%20%20%20%20%20%20%22detectRetina%22%3A%20false%2C%0A%20%20%20%20%20%20%20%20%22maxNativeZoom%22%3A%2018%2C%0A%20%20%20%20%20%20%20%20%22maxZoom%22%3A%2018%2C%0A%20%20%20%20%20%20%20%20%22minZoom%22%3A%200%2C%0A%20%20%20%20%20%20%20%20%22noWrap%22%3A%20false%2C%0A%20%20%20%20%20%20%20%20%22opacity%22%3A%201%2C%0A%20%20%20%20%20%20%20%20%22subdomains%22%3A%20%22abc%22%2C%0A%20%20%20%20%20%20%20%20%22tms%22%3A%20false%0A%7D%29.addTo%28map_4c4fd7cb2fd34749894fdbfaa7682b3f%29%3B%0A%20%20%20%20var%20tile_layer_a9acadc3dd8041b2829648aa49203e90%20%3D%20L.tileLayer%28%0A%20%20%20%20%20%20%20%20%27https%3A//earthengine.googleapis.com/v1alpha/projects/earthengine-legacy/maps/fff93377f912e49e5ecc87fbb41da777-729e5af9dc2b7c1b96cf6419f0e1a142/tiles/%7Bz%7D/%7Bx%7D/%7By%7D%27%2C%0A%20%20%20%20%20%20%20%20%7B%0A%20%20%20%20%20%20%20%20%22attribution%22%3A%20%22Google%20Earth%20Engine%22%2C%0A%20%20%20%20%20%20%20%20%22detectRetina%22%3A%20false%2C%0A%20%20%20%20%20%20%20%20%22maxNativeZoom%22%3A%2018%2C%0A%20%20%20%20%20%20%20%20%22maxZoom%22%3A%2018%2C%0A%20%20%20%20%20%20%20%20%22minZoom%22%3A%200%2C%0A%20%20%20%20%20%20%20%20%22noWrap%22%3A%20false%2C%0A%20%20%20%20%20%20%20%20%22opacity%22%3A%201%2C%0A%20%20%20%20%20%20%20%20%22subdomains%22%3A%20%22abc%22%2C%0A%20%20%20%20%20%20%20%20%22tms%22%3A%20false%0A%7D%29.addTo%28map_4c4fd7cb2fd34749894fdbfaa7682b3f%29%3B%0A%20%20%20%20%0A%20%20%20%20%20%20%20%20var%20geo_json_9a44dbc60971417fa62aa20ff307fa22%20%3D%20L.geoJson%28%0A%20%20%20%20%20%20%20%20%20%20%20%20%7B%22features%22%3A%20%5B%7B%22geometry%22%3A%20%7B%22coordinates%22%3A%20%5B-79.389%2C%20-6.639%5D%2C%20%22type%22%3A%20%22Point%22%7D%2C%20%22properties%22%3A%20%7B%22highlight%22%3A%20%7B%7D%2C%20%22style%22%3A%20%7B%7D%7D%2C%20%22type%22%3A%20%22Feature%22%7D%5D%2C%20%22type%22%3A%20%22FeatureCollection%22%7D%2C%0A%20%20%20%20%20%20%20%20%20%20%20%20%7B%0A%20%20%20%20%20%20%20%20%20%20%20%20%7D%0A%20%20%20%20%20%20%20%20%29.addTo%28map_4c4fd7cb2fd34749894fdbfaa7682b3f%20%29%3B%0A%20%20%20%20%20%20%20%20geo_json_9a44dbc60971417fa62aa20ff307fa22.setStyle%28function%28feature%29%20%7Breturn%20feature.properties.style%3B%7D%29%3B%0A%20%20%20%20%20%20%20%20%0A%20%20%20%20%0A%20%20%20%20%20%20%20%20var%20geo_json_59521de3a90f4264a6037206286f65e7%20%3D%20L.geoJson%28%0A%20%20%20%20%20%20%20%20%20%20%20%20%7B%22features%22%3A%20%5B%7B%22geometry%22%3A%20%7B%22coordinates%22%3A%20%5B-79.823%2C%20-6.351%5D%2C%20%22type%22%3A%20%22Point%22%7D%2C%20%22properties%22%3A%20%7B%22highlight%22%3A%20%7B%7D%2C%20%22style%22%3A%20%7B%7D%7D%2C%20%22type%22%3A%20%22Feature%22%7D%5D%2C%20%22type%22%3A%20%22FeatureCollection%22%7D%2C%0A%20%20%20%20%20%20%20%20%20%20%20%20%7B%0A%20%20%20%20%20%20%20%20%20%20%20%20%7D%0A%20%20%20%20%20%20%20%20%29.addTo%28map_4c4fd7cb2fd34749894fdbfaa7682b3f%20%29%3B%0A%20%20%20%20%20%20%20%20geo_json_59521de3a90f4264a6037206286f65e7.setStyle%28function%28feature%29%20%7Breturn%20feature.properties.style%3B%7D%29%3B%0A%20%20%20%20%20%20%20%20%0A%20%20%20%20%0A%20%20%20%20%20%20%20%20var%20geo_json_1b2b8d1c90ea415ba63424c5c40e67d7%20%3D%20L.geoJson%28%0A%20%20%20%20%20%20%20%20%20%20%20%20%7B%22features%22%3A%20%5B%7B%22geometry%22%3A%20%7B%22coordinates%22%3A%20%5B-79.309%2C%20-6.846%5D%2C%20%22type%22%3A%20%22Point%22%7D%2C%20%22properties%22%3A%20%7B%22highlight%22%3A%20%7B%7D%2C%20%22style%22%3A%20%7B%7D%7D%2C%20%22type%22%3A%20%22Feature%22%7D%5D%2C%20%22type%22%3A%20%22FeatureCollection%22%7D%2C%0A%20%20%20%20%20%20%20%20%20%20%20%20%7B%0A%20%20%20%20%20%20%20%20%20%20%20%20%7D%0A%20%20%20%20%20%20%20%20%29.addTo%28map_4c4fd7cb2fd34749894fdbfaa7682b3f%20%29%3B%0A%20%20%20%20%20%20%20%20geo_json_1b2b8d1c90ea415ba63424c5c40e67d7.setStyle%28function%28feature%29%20%7Breturn%20feature.properties.style%3B%7D%29%3B%0A%20%20%20%20%20%20%20%20%0A%20%20%20%20%0A%20%20%20%20%20%20%20%20%20%20%20%20var%20layer_control_43e2612143df49dda1c73d3c15d227cc%20%3D%20%7B%0A%20%20%20%20%20%20%20%20%20%20%20%20%20%20%20%20base_layers%20%3A%20%7B%20%22openstreetmap%22%20%3A%20tile_layer_590c3d4252c94c259737d0d8111bd329%2C%20%7D%2C%0A%20%20%20%20%20%20%20%20%20%20%20%20%20%20%20%20overlays%20%3A%20%7B%20%22img_col%22%20%3A%20tile_layer_ed75f29101084482bc504fa574b466ec%2C%22Lambayeque_shp%22%20%3A%20tile_layer_a9acadc3dd8041b2829648aa49203e90%2C%22Chongoyape%22%20%3A%20geo_json_9a44dbc60971417fa62aa20ff307fa22%2C%22Centroide%22%20%3A%20geo_json_59521de3a90f4264a6037206286f65e7%2C%22Oyotun%22%20%3A%20geo_json_1b2b8d1c90ea415ba63424c5c40e67d7%2C%20%7D%0A%20%20%20%20%20%20%20%20%20%20%20%20%20%20%20%20%7D%3B%0A%20%20%20%20%20%20%20%20%20%20%20%20L.control.layers%28%0A%20%20%20%20%20%20%20%20%20%20%20%20%20%20%20%20layer_control_43e2612143df49dda1c73d3c15d227cc.base_layers%2C%0A%20%20%20%20%20%20%20%20%20%20%20%20%20%20%20%20layer_control_43e2612143df49dda1c73d3c15d227cc.overlays%2C%0A%20%20%20%20%20%20%20%20%20%20%20%20%20%20%20%20%7Bposition%3A%20%27topright%27%2C%0A%20%20%20%20%20%20%20%20%20%20%20%20%20%20%20%20%20collapsed%3A%20true%2C%0A%20%20%20%20%20%20%20%20%20%20%20%20%20%20%20%20%20autoZIndex%3A%20true%0A%20%20%20%20%20%20%20%20%20%20%20%20%20%20%20%20%7D%29.addTo%28map_4c4fd7cb2fd34749894fdbfaa7682b3f%29%3B%0A%20%20%20%20%20%20%20%20%20%20%20%20%0A%20%20%20%20%20%20%20%20%0A%3C/script%3E onload=\"this.contentDocument.open();this.contentDocument.write(    decodeURIComponent(this.getAttribute('data-html')));this.contentDocument.close();\" allowfullscreen webkitallowfullscreen mozallowfullscreen></iframe></div></div>"
            ],
            "text/plain": [
              "<folium.folium.Map at 0x7fd34dd0e4d0>"
            ]
          },
          "metadata": {},
          "execution_count": 4
        }
      ]
    },
    {
      "cell_type": "markdown",
      "metadata": {
        "id": "ArrKwbj27G7c"
      },
      "source": [
        "Veremos que la zona abarca 4 imágenes Landsat 8."
      ]
    },
    {
      "cell_type": "code",
      "metadata": {
        "id": "N14_yfGiBuJ7",
        "colab": {
          "base_uri": "https://localhost:8080/"
        },
        "outputId": "031bd66f-beb0-46fd-b07a-7b9cda49107c"
      },
      "source": [
        "# Ver fechas de las imágenes anteriormente mostradas\n",
        "ee_get_dates(img_col)"
      ],
      "execution_count": null,
      "outputs": [
        {
          "output_type": "execute_result",
          "data": {
            "text/plain": [
              "['2020-04-21 15:27:50',\n",
              " '2020-04-21 15:27:26',\n",
              " '2020-04-28 15:33:34',\n",
              " '2020-04-30 15:21:35']"
            ]
          },
          "metadata": {},
          "execution_count": 5
        }
      ]
    },
    {
      "cell_type": "markdown",
      "metadata": {
        "id": "XUgQI9jv5CEZ"
      },
      "source": [
        "A continuación veremos las dos imágenes que ofrecen mayor información del departamento de Lambayeque."
      ]
    },
    {
      "cell_type": "code",
      "metadata": {
        "id": "JRMbt5dvVUth",
        "colab": {
          "base_uri": "https://localhost:8080/",
          "height": 1000
        },
        "cellView": "form",
        "outputId": "742ce9cd-fc29-4088-d069-dfb638bf2fec"
      },
      "source": [
        "# @markdown Visualización de dos imágenes\n",
        "\n",
        "# Inputs\n",
        "Start_date = '2020-04-21'  \n",
        "End_date   = '2020-04-22'  \n",
        "range_date = [Start_date, End_date]\n",
        "\n",
        "# Filtrado de imágenes\n",
        "img_col1 = ee.ImageCollection(\"LANDSAT/LC08/C01/T1_SR\")\\\n",
        "        .filterDate(Start_date, End_date)\\\n",
        "        .filterBounds(ee.Geometry.Point(-79.823, -6.351))\\\n",
        "        .sort('CLOUD_COVER')#\\.first()\n",
        "\n",
        "img_col2 = ee.ImageCollection(\"LANDSAT/LC08/C01/T1_SR\")\\\n",
        "        .filterDate(Start_date, End_date)\\\n",
        "        .filterBounds(ee.Geometry.Point(-79.309, -6.846))\\\n",
        "        .sort('CLOUD_COVER')#\\.first()\n",
        "\n",
        "bands = ['B4','B3','B2']\n",
        "img_rgb1 = img_col1.first().multiply(0.0001).select(bands)   #.clip(roi_clip)\n",
        "img_rgb2 = img_col2.first().multiply(0.0001).select(bands)   #.clip(roi_clip)\n",
        "\n",
        "## Metadatos \n",
        "\n",
        "# Imagen superior\n",
        "print('Rango de fechas disponibles para Landsat8')\n",
        "ver_rangos(img_col1, range_date=range_date)\n",
        "\n",
        "print('\\n--- Imagen Superior ---')\n",
        "print('Mejor imagen:')\n",
        "print('% nubosidad:', img_col1.first().getInfo()['properties']['CLOUD_COVER'])\n",
        "print('Image ID:',img_col1.first().getInfo().get('id'))\n",
        "print('Fecha:', conv_fecha(img_col1.first()))\n",
        "\n",
        "# Imagen Inferior\n",
        "print('\\n--- Imagen Inferior ---')\n",
        "print('Mejor imagen:')\n",
        "print('% nubosidad:', img_col2.first().getInfo()['properties']['CLOUD_COVER'])\n",
        "print('Image ID:',img_col2.first().getInfo().get('id'))\n",
        "print('Fecha:', conv_fecha(img_col2.first()))\n",
        "\n",
        "## Visualización\n",
        "chongoyape = ee.Geometry.Point([-79.389, -6.639])\n",
        "oyotun     = ee.Geometry.Point([-79.309, -6.846])\n",
        "centroide  = ee.Geometry.Point([-79.823, -6.351])\n",
        "\n",
        "dict_getMapId = {'min':0.0, 'max':0.3, 'bands': bands}\n",
        "\n",
        "dict_img = {\n",
        "    'imgSuperior': img_rgb1.clip(roiDep).getMapId(dict_getMapId),\n",
        "    'imgInferior': img_rgb2.clip(roiDep).getMapId(dict_getMapId),\n",
        "    # 'Lambayeque': roiDepDraw.getMapId(),\n",
        "    'Chongoyape': chongoyape.getInfo(),\n",
        "    #'Centroide': centroide.getInfo(),\n",
        "    'Oyotun': oyotun.getInfo()\n",
        "    }\n",
        "\n",
        "mapdisplay(centroidDep, dict_img, zoom_start=9)"
      ],
      "execution_count": null,
      "outputs": [
        {
          "output_type": "stream",
          "name": "stdout",
          "text": [
            "Rango de fechas disponibles para Landsat8\n",
            "Total imágenes: 1\n",
            "Rango Temporal Ingresado : 2020-04-21 - 2020-04-22\n",
            "Rango Temporal Real      : 2020-04-21 - 2020-04-21\n",
            "\n",
            "--- Imagen Superior ---\n",
            "Mejor imagen:\n",
            "% nubosidad: 6.67\n",
            "Image ID: LANDSAT/LC08/C01/T1_SR/LC08_010064_20200421\n",
            "Fecha: 2020-04-21 15:27:26\n",
            "\n",
            "--- Imagen Inferior ---\n",
            "Mejor imagen:\n",
            "% nubosidad: 1.66\n",
            "Image ID: LANDSAT/LC08/C01/T1_SR/LC08_010065_20200421\n",
            "Fecha: 2020-04-21 15:27:50\n"
          ]
        },
        {
          "output_type": "execute_result",
          "data": {
            "text/html": [
              "<div style=\"width:100%;\"><div style=\"position:relative;width:100%;height:0;padding-bottom:60%;\"><span style=\"color:#565656\">Make this Notebook Trusted to load map: File -> Trust Notebook</span><iframe src=\"about:blank\" style=\"position:absolute;width:100%;height:100%;left:0;top:0;border:none !important;\" data-html=%3C%21DOCTYPE%20html%3E%0A%3Chead%3E%20%20%20%20%0A%20%20%20%20%3Cmeta%20http-equiv%3D%22content-type%22%20content%3D%22text/html%3B%20charset%3DUTF-8%22%20/%3E%0A%20%20%20%20%3Cscript%3EL_PREFER_CANVAS%3Dfalse%3B%20L_NO_TOUCH%3Dfalse%3B%20L_DISABLE_3D%3Dfalse%3B%3C/script%3E%0A%20%20%20%20%3Cscript%20src%3D%22https%3A//cdn.jsdelivr.net/npm/leaflet%401.4.0/dist/leaflet.js%22%3E%3C/script%3E%0A%20%20%20%20%3Cscript%20src%3D%22https%3A//code.jquery.com/jquery-1.12.4.min.js%22%3E%3C/script%3E%0A%20%20%20%20%3Cscript%20src%3D%22https%3A//maxcdn.bootstrapcdn.com/bootstrap/3.2.0/js/bootstrap.min.js%22%3E%3C/script%3E%0A%20%20%20%20%3Cscript%20src%3D%22https%3A//cdnjs.cloudflare.com/ajax/libs/Leaflet.awesome-markers/2.0.2/leaflet.awesome-markers.js%22%3E%3C/script%3E%0A%20%20%20%20%3Clink%20rel%3D%22stylesheet%22%20href%3D%22https%3A//cdn.jsdelivr.net/npm/leaflet%401.4.0/dist/leaflet.css%22/%3E%0A%20%20%20%20%3Clink%20rel%3D%22stylesheet%22%20href%3D%22https%3A//maxcdn.bootstrapcdn.com/bootstrap/3.2.0/css/bootstrap.min.css%22/%3E%0A%20%20%20%20%3Clink%20rel%3D%22stylesheet%22%20href%3D%22https%3A//maxcdn.bootstrapcdn.com/bootstrap/3.2.0/css/bootstrap-theme.min.css%22/%3E%0A%20%20%20%20%3Clink%20rel%3D%22stylesheet%22%20href%3D%22https%3A//maxcdn.bootstrapcdn.com/font-awesome/4.6.3/css/font-awesome.min.css%22/%3E%0A%20%20%20%20%3Clink%20rel%3D%22stylesheet%22%20href%3D%22https%3A//cdnjs.cloudflare.com/ajax/libs/Leaflet.awesome-markers/2.0.2/leaflet.awesome-markers.css%22/%3E%0A%20%20%20%20%3Clink%20rel%3D%22stylesheet%22%20href%3D%22https%3A//rawcdn.githack.com/python-visualization/folium/master/folium/templates/leaflet.awesome.rotate.css%22/%3E%0A%20%20%20%20%3Cstyle%3Ehtml%2C%20body%20%7Bwidth%3A%20100%25%3Bheight%3A%20100%25%3Bmargin%3A%200%3Bpadding%3A%200%3B%7D%3C/style%3E%0A%20%20%20%20%3Cstyle%3E%23map%20%7Bposition%3Aabsolute%3Btop%3A0%3Bbottom%3A0%3Bright%3A0%3Bleft%3A0%3B%7D%3C/style%3E%0A%20%20%20%20%0A%20%20%20%20%3Cmeta%20name%3D%22viewport%22%20content%3D%22width%3Ddevice-width%2C%0A%20%20%20%20%20%20%20%20initial-scale%3D1.0%2C%20maximum-scale%3D1.0%2C%20user-scalable%3Dno%22%20/%3E%0A%20%20%20%20%3Cstyle%3E%23map_87bc80baa62b483ab3c43275025453ee%20%7B%0A%20%20%20%20%20%20%20%20position%3A%20relative%3B%0A%20%20%20%20%20%20%20%20width%3A%20100.0%25%3B%0A%20%20%20%20%20%20%20%20height%3A%20100.0%25%3B%0A%20%20%20%20%20%20%20%20left%3A%200.0%25%3B%0A%20%20%20%20%20%20%20%20top%3A%200.0%25%3B%0A%20%20%20%20%20%20%20%20%7D%0A%20%20%20%20%3C/style%3E%0A%3C/head%3E%0A%3Cbody%3E%20%20%20%20%0A%20%20%20%20%0A%20%20%20%20%3Cdiv%20class%3D%22folium-map%22%20id%3D%22map_87bc80baa62b483ab3c43275025453ee%22%20%3E%3C/div%3E%0A%3C/body%3E%0A%3Cscript%3E%20%20%20%20%0A%20%20%20%20%0A%20%20%20%20%0A%20%20%20%20%20%20%20%20var%20bounds%20%3D%20null%3B%0A%20%20%20%20%0A%0A%20%20%20%20var%20map_87bc80baa62b483ab3c43275025453ee%20%3D%20L.map%28%0A%20%20%20%20%20%20%20%20%27map_87bc80baa62b483ab3c43275025453ee%27%2C%20%7B%0A%20%20%20%20%20%20%20%20center%3A%20%5B-6.351697244022021%2C%20-79.82344439536111%5D%2C%0A%20%20%20%20%20%20%20%20zoom%3A%209%2C%0A%20%20%20%20%20%20%20%20maxBounds%3A%20bounds%2C%0A%20%20%20%20%20%20%20%20layers%3A%20%5B%5D%2C%0A%20%20%20%20%20%20%20%20worldCopyJump%3A%20false%2C%0A%20%20%20%20%20%20%20%20crs%3A%20L.CRS.EPSG3857%2C%0A%20%20%20%20%20%20%20%20zoomControl%3A%20true%2C%0A%20%20%20%20%20%20%20%20%7D%29%3B%0AL.control.scale%28%29.addTo%28map_87bc80baa62b483ab3c43275025453ee%29%3B%0A%0A%20%20%20%20%0A%20%20%20%20var%20tile_layer_d5d8da73d49e4af5a159754ae562e486%20%3D%20L.tileLayer%28%0A%20%20%20%20%20%20%20%20%27https%3A//%7Bs%7D.tile.openstreetmap.org/%7Bz%7D/%7Bx%7D/%7By%7D.png%27%2C%0A%20%20%20%20%20%20%20%20%7B%0A%20%20%20%20%20%20%20%20%22attribution%22%3A%20null%2C%0A%20%20%20%20%20%20%20%20%22detectRetina%22%3A%20false%2C%0A%20%20%20%20%20%20%20%20%22maxNativeZoom%22%3A%2018%2C%0A%20%20%20%20%20%20%20%20%22maxZoom%22%3A%2018%2C%0A%20%20%20%20%20%20%20%20%22minZoom%22%3A%200%2C%0A%20%20%20%20%20%20%20%20%22noWrap%22%3A%20false%2C%0A%20%20%20%20%20%20%20%20%22opacity%22%3A%201%2C%0A%20%20%20%20%20%20%20%20%22subdomains%22%3A%20%22abc%22%2C%0A%20%20%20%20%20%20%20%20%22tms%22%3A%20false%0A%7D%29.addTo%28map_87bc80baa62b483ab3c43275025453ee%29%3B%0A%20%20%20%20var%20tile_layer_7461a26aa7a544f988ec951500c383e6%20%3D%20L.tileLayer%28%0A%20%20%20%20%20%20%20%20%27https%3A//earthengine.googleapis.com/v1alpha/projects/earthengine-legacy/maps/74351377f3400a5e3ab23e420b8dfeec-f7537f6b826d9cb4c0a8113c0e6c792b/tiles/%7Bz%7D/%7Bx%7D/%7By%7D%27%2C%0A%20%20%20%20%20%20%20%20%7B%0A%20%20%20%20%20%20%20%20%22attribution%22%3A%20%22Google%20Earth%20Engine%22%2C%0A%20%20%20%20%20%20%20%20%22detectRetina%22%3A%20false%2C%0A%20%20%20%20%20%20%20%20%22maxNativeZoom%22%3A%2018%2C%0A%20%20%20%20%20%20%20%20%22maxZoom%22%3A%2018%2C%0A%20%20%20%20%20%20%20%20%22minZoom%22%3A%200%2C%0A%20%20%20%20%20%20%20%20%22noWrap%22%3A%20false%2C%0A%20%20%20%20%20%20%20%20%22opacity%22%3A%201%2C%0A%20%20%20%20%20%20%20%20%22subdomains%22%3A%20%22abc%22%2C%0A%20%20%20%20%20%20%20%20%22tms%22%3A%20false%0A%7D%29.addTo%28map_87bc80baa62b483ab3c43275025453ee%29%3B%0A%20%20%20%20var%20tile_layer_42663f340f2941fabdc36f7d0b44254a%20%3D%20L.tileLayer%28%0A%20%20%20%20%20%20%20%20%27https%3A//earthengine.googleapis.com/v1alpha/projects/earthengine-legacy/maps/a0eaa254352677984c1579fd8790f2f7-f6149a04c3370c881c1865510205dbce/tiles/%7Bz%7D/%7Bx%7D/%7By%7D%27%2C%0A%20%20%20%20%20%20%20%20%7B%0A%20%20%20%20%20%20%20%20%22attribution%22%3A%20%22Google%20Earth%20Engine%22%2C%0A%20%20%20%20%20%20%20%20%22detectRetina%22%3A%20false%2C%0A%20%20%20%20%20%20%20%20%22maxNativeZoom%22%3A%2018%2C%0A%20%20%20%20%20%20%20%20%22maxZoom%22%3A%2018%2C%0A%20%20%20%20%20%20%20%20%22minZoom%22%3A%200%2C%0A%20%20%20%20%20%20%20%20%22noWrap%22%3A%20false%2C%0A%20%20%20%20%20%20%20%20%22opacity%22%3A%201%2C%0A%20%20%20%20%20%20%20%20%22subdomains%22%3A%20%22abc%22%2C%0A%20%20%20%20%20%20%20%20%22tms%22%3A%20false%0A%7D%29.addTo%28map_87bc80baa62b483ab3c43275025453ee%29%3B%0A%20%20%20%20%0A%20%20%20%20%20%20%20%20var%20geo_json_b1820216047f4f3aad763a16badbdef8%20%3D%20L.geoJson%28%0A%20%20%20%20%20%20%20%20%20%20%20%20%7B%22features%22%3A%20%5B%7B%22geometry%22%3A%20%7B%22coordinates%22%3A%20%5B-79.389%2C%20-6.639%5D%2C%20%22type%22%3A%20%22Point%22%7D%2C%20%22properties%22%3A%20%7B%22highlight%22%3A%20%7B%7D%2C%20%22style%22%3A%20%7B%7D%7D%2C%20%22type%22%3A%20%22Feature%22%7D%5D%2C%20%22type%22%3A%20%22FeatureCollection%22%7D%2C%0A%20%20%20%20%20%20%20%20%20%20%20%20%7B%0A%20%20%20%20%20%20%20%20%20%20%20%20%7D%0A%20%20%20%20%20%20%20%20%29.addTo%28map_87bc80baa62b483ab3c43275025453ee%20%29%3B%0A%20%20%20%20%20%20%20%20geo_json_b1820216047f4f3aad763a16badbdef8.setStyle%28function%28feature%29%20%7Breturn%20feature.properties.style%3B%7D%29%3B%0A%20%20%20%20%20%20%20%20%0A%20%20%20%20%0A%20%20%20%20%20%20%20%20var%20geo_json_5f928268fe4040cca3fa79b28dd38d8c%20%3D%20L.geoJson%28%0A%20%20%20%20%20%20%20%20%20%20%20%20%7B%22features%22%3A%20%5B%7B%22geometry%22%3A%20%7B%22coordinates%22%3A%20%5B-79.309%2C%20-6.846%5D%2C%20%22type%22%3A%20%22Point%22%7D%2C%20%22properties%22%3A%20%7B%22highlight%22%3A%20%7B%7D%2C%20%22style%22%3A%20%7B%7D%7D%2C%20%22type%22%3A%20%22Feature%22%7D%5D%2C%20%22type%22%3A%20%22FeatureCollection%22%7D%2C%0A%20%20%20%20%20%20%20%20%20%20%20%20%7B%0A%20%20%20%20%20%20%20%20%20%20%20%20%7D%0A%20%20%20%20%20%20%20%20%29.addTo%28map_87bc80baa62b483ab3c43275025453ee%20%29%3B%0A%20%20%20%20%20%20%20%20geo_json_5f928268fe4040cca3fa79b28dd38d8c.setStyle%28function%28feature%29%20%7Breturn%20feature.properties.style%3B%7D%29%3B%0A%20%20%20%20%20%20%20%20%0A%20%20%20%20%0A%20%20%20%20%20%20%20%20%20%20%20%20var%20layer_control_be74760344bb4f14ae8be44fa93c522c%20%3D%20%7B%0A%20%20%20%20%20%20%20%20%20%20%20%20%20%20%20%20base_layers%20%3A%20%7B%20%22openstreetmap%22%20%3A%20tile_layer_d5d8da73d49e4af5a159754ae562e486%2C%20%7D%2C%0A%20%20%20%20%20%20%20%20%20%20%20%20%20%20%20%20overlays%20%3A%20%7B%20%22imgSuperior%22%20%3A%20tile_layer_7461a26aa7a544f988ec951500c383e6%2C%22imgInferior%22%20%3A%20tile_layer_42663f340f2941fabdc36f7d0b44254a%2C%22Chongoyape%22%20%3A%20geo_json_b1820216047f4f3aad763a16badbdef8%2C%22Oyotun%22%20%3A%20geo_json_5f928268fe4040cca3fa79b28dd38d8c%2C%20%7D%0A%20%20%20%20%20%20%20%20%20%20%20%20%20%20%20%20%7D%3B%0A%20%20%20%20%20%20%20%20%20%20%20%20L.control.layers%28%0A%20%20%20%20%20%20%20%20%20%20%20%20%20%20%20%20layer_control_be74760344bb4f14ae8be44fa93c522c.base_layers%2C%0A%20%20%20%20%20%20%20%20%20%20%20%20%20%20%20%20layer_control_be74760344bb4f14ae8be44fa93c522c.overlays%2C%0A%20%20%20%20%20%20%20%20%20%20%20%20%20%20%20%20%7Bposition%3A%20%27topright%27%2C%0A%20%20%20%20%20%20%20%20%20%20%20%20%20%20%20%20%20collapsed%3A%20true%2C%0A%20%20%20%20%20%20%20%20%20%20%20%20%20%20%20%20%20autoZIndex%3A%20true%0A%20%20%20%20%20%20%20%20%20%20%20%20%20%20%20%20%7D%29.addTo%28map_87bc80baa62b483ab3c43275025453ee%29%3B%0A%20%20%20%20%20%20%20%20%20%20%20%20%0A%20%20%20%20%20%20%20%20%0A%3C/script%3E onload=\"this.contentDocument.open();this.contentDocument.write(    decodeURIComponent(this.getAttribute('data-html')));this.contentDocument.close();\" allowfullscreen webkitallowfullscreen mozallowfullscreen></iframe></div></div>"
            ],
            "text/plain": [
              "<folium.folium.Map at 0x7fd34e5c5d90>"
            ]
          },
          "metadata": {},
          "execution_count": 6
        }
      ]
    },
    {
      "cell_type": "markdown",
      "metadata": {
        "id": "thQr5-rLYC2O"
      },
      "source": [
        "## 3. Selección de imágenes: Landsat 8\n",
        "\n",
        "- Visualización de imágenes satelitales para el año 2020\n",
        "- Elaboración de una tabla con la información de las imágenes respectivas"
      ]
    },
    {
      "cell_type": "markdown",
      "metadata": {
        "id": "ULFPS5vAE1Qa"
      },
      "source": [
        "### 3.1. Generar tabla de propiedades"
      ]
    },
    {
      "cell_type": "markdown",
      "metadata": {
        "id": "7GZgQo_dqUz7"
      },
      "source": [
        "Se va a generar una tabla con información sobre las imágenes seleccionadas anteriormente mediante la librería `pandas`."
      ]
    },
    {
      "cell_type": "code",
      "metadata": {
        "id": "OyZ8G5rSGmhf",
        "colab": {
          "base_uri": "https://localhost:8080/",
          "height": 662
        },
        "cellView": "form",
        "outputId": "08381b60-902f-4688-b458-de21bb55585e"
      },
      "source": [
        "# @markdown Generar tabla con propiedades a partir de un `ee.ImageCollection` con `pandas`\n",
        "\n",
        "# Inputs\n",
        "# @markdown 1.Indicamos la coordenada (punto)\n",
        "long = -79.809 #@param [] {type:\"raw\", allow-input: true}\n",
        "lat = -6.746 #@param [] {type:\"raw\", allow-input: true}\n",
        "coordenada = [long, lat]\n",
        "\n",
        "# @markdown 2.Indicamos el año\n",
        "year =  2020 #@param {type:\"integer\"}\n",
        "\n",
        "ID_snippet_name = \"LANDSAT/LC08/C01/T1_SR\"\n",
        "\n",
        "# Filtrado\n",
        "icol_sr = (\n",
        "    ee.ImageCollection(ID_snippet_name)\\\n",
        "    .filterDate(str(year), str(year+1))\\\n",
        "    .filterBounds(ee.Geometry.Point(coordenada))\n",
        ")\n",
        "\n",
        "# Generar lista de fechas (en milisegundos)\n",
        "lista_fechas = icol_sr.aggregate_array('system:time_start').getInfo()\n",
        "# Generar lista con IDs \n",
        "imgCol_ids = [ID_snippet_name + \n",
        "              '/'+ \n",
        "              i for i in icol_sr.aggregate_array(\"system:index\").getInfo()]\n",
        "\n",
        "# Generar tabla con pandas\n",
        "import pandas as pd\n",
        "\n",
        "df = pd.DataFrame(lista_fechas, columns = ['millis'])\n",
        "\n",
        "def add_date_info(df):\n",
        "  df[\"Landsat ID\"] = imgCol_ids\n",
        "\n",
        "  df['Timestamp'] = pd.to_datetime(df['millis'], unit='ms')\n",
        "  df['Fecha Precisa'] = pd.DatetimeIndex(df['Timestamp']) # Con hora\n",
        "  df['Fecha Corta'] = pd.DatetimeIndex(df['Timestamp']).date\n",
        "  df['Año'] = pd.DatetimeIndex(df['Timestamp']).year\n",
        "  df['Mes'] = pd.DatetimeIndex(df['Timestamp']).month\n",
        "  df['Día'] = pd.DatetimeIndex(df['Timestamp']).day\n",
        "  df['Hora'] = pd.DatetimeIndex(df['Timestamp']).hour\n",
        "  df['Día Juliano'] = pd.DatetimeIndex(df['Timestamp']).dayofyear\n",
        "  # df['Sensor'] = 'OLI/TIRS'\n",
        "  \n",
        "  df[\"Zenith Angle\"] = icol_sr.aggregate_array('SOLAR_ZENITH_ANGLE').getInfo()\n",
        "  df[\"Porcentaje Nubes (%)\"] = icol_sr.aggregate_array('CLOUD_COVER').getInfo()\n",
        "  \n",
        "  df = df.drop(columns=['millis', 'Timestamp'])\n",
        "  return df\n",
        "\n",
        "df = add_date_info(df)\n",
        "df\n",
        "\n",
        "# Exportar como .csv \n",
        "# df.to_csv('datos_2020_L8_SR.csv')"
      ],
      "execution_count": 49,
      "outputs": [
        {
          "output_type": "execute_result",
          "data": {
            "text/html": [
              "<div>\n",
              "<style scoped>\n",
              "    .dataframe tbody tr th:only-of-type {\n",
              "        vertical-align: middle;\n",
              "    }\n",
              "\n",
              "    .dataframe tbody tr th {\n",
              "        vertical-align: top;\n",
              "    }\n",
              "\n",
              "    .dataframe thead th {\n",
              "        text-align: right;\n",
              "    }\n",
              "</style>\n",
              "<table border=\"1\" class=\"dataframe\">\n",
              "  <thead>\n",
              "    <tr style=\"text-align: right;\">\n",
              "      <th></th>\n",
              "      <th>Landsat ID</th>\n",
              "      <th>Fecha Precisa</th>\n",
              "      <th>Fecha Corta</th>\n",
              "      <th>Año</th>\n",
              "      <th>Mes</th>\n",
              "      <th>Día</th>\n",
              "      <th>Hora</th>\n",
              "      <th>Día Juliano</th>\n",
              "      <th>Zenith Angle</th>\n",
              "      <th>Porcentaje Nubes (%)</th>\n",
              "    </tr>\n",
              "  </thead>\n",
              "  <tbody>\n",
              "    <tr>\n",
              "      <th>0</th>\n",
              "      <td>LANDSAT/LC08/C01/T1_SR/LC08_010065_20200116</td>\n",
              "      <td>2020-01-16 15:28:28.040</td>\n",
              "      <td>2020-01-16</td>\n",
              "      <td>2020</td>\n",
              "      <td>1</td>\n",
              "      <td>16</td>\n",
              "      <td>15</td>\n",
              "      <td>16</td>\n",
              "      <td>32.330326</td>\n",
              "      <td>3.14</td>\n",
              "    </tr>\n",
              "    <tr>\n",
              "      <th>1</th>\n",
              "      <td>LANDSAT/LC08/C01/T1_SR/LC08_010065_20200201</td>\n",
              "      <td>2020-02-01 15:28:22.843</td>\n",
              "      <td>2020-02-01</td>\n",
              "      <td>2020</td>\n",
              "      <td>2</td>\n",
              "      <td>1</td>\n",
              "      <td>15</td>\n",
              "      <td>32</td>\n",
              "      <td>32.084152</td>\n",
              "      <td>61.18</td>\n",
              "    </tr>\n",
              "    <tr>\n",
              "      <th>2</th>\n",
              "      <td>LANDSAT/LC08/C01/T1_SR/LC08_010065_20200217</td>\n",
              "      <td>2020-02-17 15:28:19.293</td>\n",
              "      <td>2020-02-17</td>\n",
              "      <td>2020</td>\n",
              "      <td>2</td>\n",
              "      <td>17</td>\n",
              "      <td>15</td>\n",
              "      <td>48</td>\n",
              "      <td>31.332012</td>\n",
              "      <td>5.40</td>\n",
              "    </tr>\n",
              "    <tr>\n",
              "      <th>3</th>\n",
              "      <td>LANDSAT/LC08/C01/T1_SR/LC08_010065_20200304</td>\n",
              "      <td>2020-03-04 15:28:14.143</td>\n",
              "      <td>2020-03-04</td>\n",
              "      <td>2020</td>\n",
              "      <td>3</td>\n",
              "      <td>4</td>\n",
              "      <td>15</td>\n",
              "      <td>64</td>\n",
              "      <td>30.655491</td>\n",
              "      <td>3.55</td>\n",
              "    </tr>\n",
              "    <tr>\n",
              "      <th>4</th>\n",
              "      <td>LANDSAT/LC08/C01/T1_SR/LC08_010065_20200320</td>\n",
              "      <td>2020-03-20 15:28:06.519</td>\n",
              "      <td>2020-03-20</td>\n",
              "      <td>2020</td>\n",
              "      <td>3</td>\n",
              "      <td>20</td>\n",
              "      <td>15</td>\n",
              "      <td>80</td>\n",
              "      <td>30.643269</td>\n",
              "      <td>12.42</td>\n",
              "    </tr>\n",
              "    <tr>\n",
              "      <th>5</th>\n",
              "      <td>LANDSAT/LC08/C01/T1_SR/LC08_010065_20200405</td>\n",
              "      <td>2020-04-05 15:27:57.477</td>\n",
              "      <td>2020-04-05</td>\n",
              "      <td>2020</td>\n",
              "      <td>4</td>\n",
              "      <td>5</td>\n",
              "      <td>15</td>\n",
              "      <td>96</td>\n",
              "      <td>31.678082</td>\n",
              "      <td>60.64</td>\n",
              "    </tr>\n",
              "    <tr>\n",
              "      <th>6</th>\n",
              "      <td>LANDSAT/LC08/C01/T1_SR/LC08_010065_20200421</td>\n",
              "      <td>2020-04-21 15:27:50.894</td>\n",
              "      <td>2020-04-21</td>\n",
              "      <td>2020</td>\n",
              "      <td>4</td>\n",
              "      <td>21</td>\n",
              "      <td>15</td>\n",
              "      <td>112</td>\n",
              "      <td>33.694965</td>\n",
              "      <td>1.66</td>\n",
              "    </tr>\n",
              "    <tr>\n",
              "      <th>7</th>\n",
              "      <td>LANDSAT/LC08/C01/T1_SR/LC08_010065_20200507</td>\n",
              "      <td>2020-05-07 15:27:41.743</td>\n",
              "      <td>2020-05-07</td>\n",
              "      <td>2020</td>\n",
              "      <td>5</td>\n",
              "      <td>7</td>\n",
              "      <td>15</td>\n",
              "      <td>128</td>\n",
              "      <td>36.267532</td>\n",
              "      <td>27.11</td>\n",
              "    </tr>\n",
              "    <tr>\n",
              "      <th>8</th>\n",
              "      <td>LANDSAT/LC08/C01/T1_SR/LC08_010065_20200523</td>\n",
              "      <td>2020-05-23 15:27:44.699</td>\n",
              "      <td>2020-05-23</td>\n",
              "      <td>2020</td>\n",
              "      <td>5</td>\n",
              "      <td>23</td>\n",
              "      <td>15</td>\n",
              "      <td>144</td>\n",
              "      <td>38.752293</td>\n",
              "      <td>71.28</td>\n",
              "    </tr>\n",
              "    <tr>\n",
              "      <th>9</th>\n",
              "      <td>LANDSAT/LC08/C01/T1_SR/LC08_010065_20200608</td>\n",
              "      <td>2020-06-08 15:27:52.755</td>\n",
              "      <td>2020-06-08</td>\n",
              "      <td>2020</td>\n",
              "      <td>6</td>\n",
              "      <td>8</td>\n",
              "      <td>15</td>\n",
              "      <td>160</td>\n",
              "      <td>40.636333</td>\n",
              "      <td>87.18</td>\n",
              "    </tr>\n",
              "    <tr>\n",
              "      <th>10</th>\n",
              "      <td>LANDSAT/LC08/C01/T1_SR/LC08_010065_20200624</td>\n",
              "      <td>2020-06-24 15:28:01.653</td>\n",
              "      <td>2020-06-24</td>\n",
              "      <td>2020</td>\n",
              "      <td>6</td>\n",
              "      <td>24</td>\n",
              "      <td>15</td>\n",
              "      <td>176</td>\n",
              "      <td>41.502007</td>\n",
              "      <td>86.76</td>\n",
              "    </tr>\n",
              "    <tr>\n",
              "      <th>11</th>\n",
              "      <td>LANDSAT/LC08/C01/T1_SR/LC08_010065_20200726</td>\n",
              "      <td>2020-07-26 15:28:13.486</td>\n",
              "      <td>2020-07-26</td>\n",
              "      <td>2020</td>\n",
              "      <td>7</td>\n",
              "      <td>26</td>\n",
              "      <td>15</td>\n",
              "      <td>208</td>\n",
              "      <td>39.376713</td>\n",
              "      <td>59.93</td>\n",
              "    </tr>\n",
              "    <tr>\n",
              "      <th>12</th>\n",
              "      <td>LANDSAT/LC08/C01/T1_SR/LC08_010065_20200811</td>\n",
              "      <td>2020-08-11 15:28:16.415</td>\n",
              "      <td>2020-08-11</td>\n",
              "      <td>2020</td>\n",
              "      <td>8</td>\n",
              "      <td>11</td>\n",
              "      <td>15</td>\n",
              "      <td>224</td>\n",
              "      <td>36.504601</td>\n",
              "      <td>52.23</td>\n",
              "    </tr>\n",
              "    <tr>\n",
              "      <th>13</th>\n",
              "      <td>LANDSAT/LC08/C01/T1_SR/LC08_010065_20200827</td>\n",
              "      <td>2020-08-27 15:28:25.108</td>\n",
              "      <td>2020-08-27</td>\n",
              "      <td>2020</td>\n",
              "      <td>8</td>\n",
              "      <td>27</td>\n",
              "      <td>15</td>\n",
              "      <td>240</td>\n",
              "      <td>32.863419</td>\n",
              "      <td>66.20</td>\n",
              "    </tr>\n",
              "    <tr>\n",
              "      <th>14</th>\n",
              "      <td>LANDSAT/LC08/C01/T1_SR/LC08_010065_20200912</td>\n",
              "      <td>2020-09-12 15:28:31.734</td>\n",
              "      <td>2020-09-12</td>\n",
              "      <td>2020</td>\n",
              "      <td>9</td>\n",
              "      <td>12</td>\n",
              "      <td>15</td>\n",
              "      <td>256</td>\n",
              "      <td>29.041473</td>\n",
              "      <td>61.21</td>\n",
              "    </tr>\n",
              "    <tr>\n",
              "      <th>15</th>\n",
              "      <td>LANDSAT/LC08/C01/T1_SR/LC08_010065_20200928</td>\n",
              "      <td>2020-09-28 15:28:36.194</td>\n",
              "      <td>2020-09-28</td>\n",
              "      <td>2020</td>\n",
              "      <td>9</td>\n",
              "      <td>28</td>\n",
              "      <td>15</td>\n",
              "      <td>272</td>\n",
              "      <td>25.850304</td>\n",
              "      <td>63.10</td>\n",
              "    </tr>\n",
              "    <tr>\n",
              "      <th>16</th>\n",
              "      <td>LANDSAT/LC08/C01/T1_SR/LC08_010065_20201014</td>\n",
              "      <td>2020-10-14 15:28:38.018</td>\n",
              "      <td>2020-10-14</td>\n",
              "      <td>2020</td>\n",
              "      <td>10</td>\n",
              "      <td>14</td>\n",
              "      <td>15</td>\n",
              "      <td>288</td>\n",
              "      <td>24.130081</td>\n",
              "      <td>70.50</td>\n",
              "    </tr>\n",
              "    <tr>\n",
              "      <th>17</th>\n",
              "      <td>LANDSAT/LC08/C01/T1_SR/LC08_010065_20201030</td>\n",
              "      <td>2020-10-30 15:28:37.127</td>\n",
              "      <td>2020-10-30</td>\n",
              "      <td>2020</td>\n",
              "      <td>10</td>\n",
              "      <td>30</td>\n",
              "      <td>15</td>\n",
              "      <td>304</td>\n",
              "      <td>24.316635</td>\n",
              "      <td>99.99</td>\n",
              "    </tr>\n",
              "    <tr>\n",
              "      <th>18</th>\n",
              "      <td>LANDSAT/LC08/C01/T1_SR/LC08_010065_20201115</td>\n",
              "      <td>2020-11-15 15:28:35.085</td>\n",
              "      <td>2020-11-15</td>\n",
              "      <td>2020</td>\n",
              "      <td>11</td>\n",
              "      <td>15</td>\n",
              "      <td>15</td>\n",
              "      <td>320</td>\n",
              "      <td>26.027622</td>\n",
              "      <td>53.76</td>\n",
              "    </tr>\n",
              "    <tr>\n",
              "      <th>19</th>\n",
              "      <td>LANDSAT/LC08/C01/T1_SR/LC08_010065_20201201</td>\n",
              "      <td>2020-12-01 15:28:38.880</td>\n",
              "      <td>2020-12-01</td>\n",
              "      <td>2020</td>\n",
              "      <td>12</td>\n",
              "      <td>1</td>\n",
              "      <td>15</td>\n",
              "      <td>336</td>\n",
              "      <td>28.371834</td>\n",
              "      <td>32.77</td>\n",
              "    </tr>\n",
              "  </tbody>\n",
              "</table>\n",
              "</div>"
            ],
            "text/plain": [
              "                                     Landsat ID  ... Porcentaje Nubes (%)\n",
              "0   LANDSAT/LC08/C01/T1_SR/LC08_010065_20200116  ...                 3.14\n",
              "1   LANDSAT/LC08/C01/T1_SR/LC08_010065_20200201  ...                61.18\n",
              "2   LANDSAT/LC08/C01/T1_SR/LC08_010065_20200217  ...                 5.40\n",
              "3   LANDSAT/LC08/C01/T1_SR/LC08_010065_20200304  ...                 3.55\n",
              "4   LANDSAT/LC08/C01/T1_SR/LC08_010065_20200320  ...                12.42\n",
              "5   LANDSAT/LC08/C01/T1_SR/LC08_010065_20200405  ...                60.64\n",
              "6   LANDSAT/LC08/C01/T1_SR/LC08_010065_20200421  ...                 1.66\n",
              "7   LANDSAT/LC08/C01/T1_SR/LC08_010065_20200507  ...                27.11\n",
              "8   LANDSAT/LC08/C01/T1_SR/LC08_010065_20200523  ...                71.28\n",
              "9   LANDSAT/LC08/C01/T1_SR/LC08_010065_20200608  ...                87.18\n",
              "10  LANDSAT/LC08/C01/T1_SR/LC08_010065_20200624  ...                86.76\n",
              "11  LANDSAT/LC08/C01/T1_SR/LC08_010065_20200726  ...                59.93\n",
              "12  LANDSAT/LC08/C01/T1_SR/LC08_010065_20200811  ...                52.23\n",
              "13  LANDSAT/LC08/C01/T1_SR/LC08_010065_20200827  ...                66.20\n",
              "14  LANDSAT/LC08/C01/T1_SR/LC08_010065_20200912  ...                61.21\n",
              "15  LANDSAT/LC08/C01/T1_SR/LC08_010065_20200928  ...                63.10\n",
              "16  LANDSAT/LC08/C01/T1_SR/LC08_010065_20201014  ...                70.50\n",
              "17  LANDSAT/LC08/C01/T1_SR/LC08_010065_20201030  ...                99.99\n",
              "18  LANDSAT/LC08/C01/T1_SR/LC08_010065_20201115  ...                53.76\n",
              "19  LANDSAT/LC08/C01/T1_SR/LC08_010065_20201201  ...                32.77\n",
              "\n",
              "[20 rows x 10 columns]"
            ]
          },
          "metadata": {},
          "execution_count": 49
        }
      ]
    },
    {
      "cell_type": "markdown",
      "metadata": {
        "id": "W79oKaZCuD_J"
      },
      "source": [
        "Para más información sobre las nombres de propiedades del ee.ImageColection: \n",
        "  - https://developers.google.com/earth-engine/datasets/catalog/LANDSAT_LC08_C01_T1_SR#image-properties"
      ]
    },
    {
      "cell_type": "markdown",
      "metadata": {
        "id": "QQtb9G82aEDd"
      },
      "source": [
        "### 3.2. Visualización de imágenes a partir de sus IDs"
      ]
    },
    {
      "cell_type": "markdown",
      "metadata": {
        "id": "41B61w3Ujf6p"
      },
      "source": [
        "#### Generar IDs de imágenes Landsat de forma mensual (2020)"
      ]
    },
    {
      "cell_type": "markdown",
      "metadata": {
        "id": "Qk9Z5FHgkQjB"
      },
      "source": [
        "Mediante los diccionarios (estructura de datos en Python) es posible organizar información en su interior, de esta forma podremos realizar una posterior visualización de manera ordenada. \n",
        "\n",
        "A continuación asignaremos los IDs de cada imágen a el número del mes en el que fué realizada la captura de la misma.\n",
        "\n"
      ]
    },
    {
      "cell_type": "code",
      "metadata": {
        "cellView": "form",
        "id": "TbPWKQflzUl0"
      },
      "source": [
        "# @markdown Función: `create_dateranges`\n",
        "\n",
        "def create_dateranges(init_date, time, range_1, range_2):\n",
        "  '''\n",
        "  init_date: '20XX' for monthly dates, '20XX-XX' for daily dates(string)\n",
        "  time: 'year', 'month', 'day' (string)\n",
        "  range_1: 1, ... 12 for monthly values (int)\n",
        "  range_2: 1, ... 13 for monthly values (int)\n",
        "\n",
        "  Returns a date ranges in a list form.\n",
        "  '''\n",
        "  ranges = []\n",
        "  def create_dates(date, plus_time):\n",
        "     ''' \n",
        "     init_date: string values only, example:  '2013-1'\n",
        "     time: 'year', 'month', 'day'\n",
        "  \n",
        "     more info: https://developers.google.com/earth-engine/apidocs/ee-date-getrange\n",
        "     '''\n",
        "     var_time = ee.Date(date).getRange(plus_time).getInfo().get('dates')\n",
        "  \n",
        "     from datetime import datetime as dt #-%d\n",
        "     Start_Date = dt.utcfromtimestamp(var_time[0]/1000).strftime('%Y-%m')\n",
        "     End_Date   = dt.utcfromtimestamp(var_time[1]/1000).strftime('%Y-%m')\n",
        "     return  [Start_Date, End_Date, i-1]\n",
        "  \n",
        "  for i in range(range_1, range_2+1):\n",
        "    ranges.append(create_dates(init_date+'-'+str(i), time))\n",
        "  return ranges\n",
        "print('create_dateranges(init_date, time, range_1, range_2) listo!')"
      ],
      "execution_count": null,
      "outputs": []
    },
    {
      "cell_type": "code",
      "metadata": {
        "id": "vxX8MYKlakn2",
        "cellView": "form"
      },
      "source": [
        "# @markdown Generador de IDs Anual: **`imgCol_dict`**\n",
        "\n",
        "# @markdown **No es necesario correr esta celda de código** \n",
        "# @markdown pues se ha provisto ya la lista de IDs en la siguiente sección.\n",
        "\n",
        "# Inputs\n",
        "long = -79.809 #@param [] {type:\"raw\", allow-input: true}\n",
        "lat = -6.746 #@param [] {type:\"raw\", allow-input: true}\n",
        "coordenada = [long, lat]\n",
        "year =  2020 #@param {type:\"integer\"}\n",
        "ID_snippet_name = \"LANDSAT/LC08/C01/T1_SR\"\n",
        "\n",
        "# Filtrado\n",
        "periodo = create_dateranges(str(year),'month', 1, 12)\n",
        "\n",
        "imgCol = [\n",
        "          ee.ImageCollection(ID_snippet_name)\\\n",
        "          .filterDate(periodo[i][0], periodo[i][1])\\\n",
        "          .filterBounds(ee.Geometry.Point(coordenada)) for i in range(12)\n",
        "          ] \n",
        "\n",
        "# Cantidad de imágenes por mes \n",
        "imgCol_size = [imgCol[i].size().getInfo() for i in range(12)]\n",
        "\n",
        "# Diccionario de Meses con su imágenes correspondientes\n",
        "imgCol_dict = {}\n",
        "\n",
        "for i in range(12):\n",
        "  IDs = []\n",
        "  imgCol_dict[i+1] = IDs\n",
        "  for j in range(imgCol_size[i]):\n",
        "    IDs.append(imgCol[i].getInfo()['features'][j]['id'])\n",
        "\n",
        "imgCol_dict"
      ],
      "execution_count": null,
      "outputs": []
    },
    {
      "cell_type": "code",
      "metadata": {
        "colab": {
          "base_uri": "https://localhost:8080/"
        },
        "id": "zfk6VJX00ski",
        "outputId": "18ea8067-101e-48ea-f5d2-fd1e5a138bf1"
      },
      "source": [
        "ID_snippet_name = \"LANDSAT/LC08/C01/T1_SR\"\n",
        "year = 2020\n",
        "imgCol = (\n",
        "    ee.ImageCollection(ID_snippet_name)\\\n",
        "    .filterDate(str(year),str(year+1))\\\n",
        "    .filterBounds(ee.Geometry.Point(coordenada))\n",
        ")\n",
        "\n",
        "imgCol_ids = [ID_snippet_name + '/'+ i for i in imgCol.aggregate_array(\"system:index\").getInfo()]\n",
        "imgCol_ids"
      ],
      "execution_count": 45,
      "outputs": [
        {
          "output_type": "execute_result",
          "data": {
            "text/plain": [
              "['LANDSAT/LC08/C01/T1_SR/LC08_010065_20200116',\n",
              " 'LANDSAT/LC08/C01/T1_SR/LC08_010065_20200201',\n",
              " 'LANDSAT/LC08/C01/T1_SR/LC08_010065_20200217',\n",
              " 'LANDSAT/LC08/C01/T1_SR/LC08_010065_20200304',\n",
              " 'LANDSAT/LC08/C01/T1_SR/LC08_010065_20200320',\n",
              " 'LANDSAT/LC08/C01/T1_SR/LC08_010065_20200405',\n",
              " 'LANDSAT/LC08/C01/T1_SR/LC08_010065_20200421',\n",
              " 'LANDSAT/LC08/C01/T1_SR/LC08_010065_20200507',\n",
              " 'LANDSAT/LC08/C01/T1_SR/LC08_010065_20200523',\n",
              " 'LANDSAT/LC08/C01/T1_SR/LC08_010065_20200608',\n",
              " 'LANDSAT/LC08/C01/T1_SR/LC08_010065_20200624',\n",
              " 'LANDSAT/LC08/C01/T1_SR/LC08_010065_20200726',\n",
              " 'LANDSAT/LC08/C01/T1_SR/LC08_010065_20200811',\n",
              " 'LANDSAT/LC08/C01/T1_SR/LC08_010065_20200827',\n",
              " 'LANDSAT/LC08/C01/T1_SR/LC08_010065_20200912',\n",
              " 'LANDSAT/LC08/C01/T1_SR/LC08_010065_20200928',\n",
              " 'LANDSAT/LC08/C01/T1_SR/LC08_010065_20201014',\n",
              " 'LANDSAT/LC08/C01/T1_SR/LC08_010065_20201030',\n",
              " 'LANDSAT/LC08/C01/T1_SR/LC08_010065_20201115',\n",
              " 'LANDSAT/LC08/C01/T1_SR/LC08_010065_20201201']"
            ]
          },
          "metadata": {},
          "execution_count": 45
        }
      ]
    },
    {
      "cell_type": "code",
      "metadata": {
        "colab": {
          "base_uri": "https://localhost:8080/",
          "height": 35
        },
        "id": "9dkarzV7z8lq",
        "outputId": "0dce7360-0cc8-425b-e37d-d09454c572de"
      },
      "source": [
        "imgCol[1].getInfo()['features'][1]['id']"
      ],
      "execution_count": 35,
      "outputs": [
        {
          "output_type": "execute_result",
          "data": {
            "application/vnd.google.colaboratory.intrinsic+json": {
              "type": "string"
            },
            "text/plain": [
              "'LANDSAT/LC08/C01/T1_SR/LC08_010065_20200217'"
            ]
          },
          "metadata": {},
          "execution_count": 35
        }
      ]
    },
    {
      "cell_type": "markdown",
      "metadata": {
        "id": "b_w55-TxChG4"
      },
      "source": [
        "#### Visualización de imágenes Landsat (2020)"
      ]
    },
    {
      "cell_type": "markdown",
      "metadata": {
        "id": "w6MIWSyN4D_y"
      },
      "source": [
        "Con el diccionario ya listo es posible proceder a la visualización. Con ayuda de [`ipywidgets`](https://ipywidgets.readthedocs.io/en/latest/examples/Using%20Interact.html#) es posible realizar visualizaciones interactivas con HTML siendo el indicado para ello el módulo [`interact`](https://colab.research.google.com/github/jupyter-widgets/ipywidgets/blob/master/docs/source/examples/Using%20Interact.ipynb)."
      ]
    },
    {
      "cell_type": "markdown",
      "metadata": {
        "id": "W2RAZFKFNi2Q"
      },
      "source": [
        "##### Landsat 8 T1_L2 \n",
        "\n",
        "- [Dataset source](https://developers.google.com/earth-engine/datasets/catalog/LANDSAT_LC08_C02_T1_L2)"
      ]
    },
    {
      "cell_type": "code",
      "metadata": {
        "id": "6rfegRGJNH95",
        "cellView": "form"
      },
      "source": [
        "# @markdown Diccionario de imágenes Landsat 8 T1_L2: `imgCol_dict`\n",
        "\n",
        "imgCol_dict = {\n",
        "    1: ['LANDSAT/LC08/C02/T1_L2/LC08_010065_20200116'],\n",
        "    2: ['LANDSAT/LC08/C02/T1_L2/LC08_010065_20200201',\n",
        "      'LANDSAT/LC08/C02/T1_L2/LC08_010065_20200217'],\n",
        "    3: ['LANDSAT/LC08/C02/T1_L2/LC08_010065_20200304',\n",
        "      'LANDSAT/LC08/C02/T1_L2/LC08_010065_20200320'],\n",
        "    4: ['LANDSAT/LC08/C02/T1_L2/LC08_010065_20200405',\n",
        "      'LANDSAT/LC08/C02/T1_L2/LC08_010065_20200421'],\n",
        "    5: ['LANDSAT/LC08/C02/T1_L2/LC08_010065_20200507',\n",
        "      'LANDSAT/LC08/C02/T1_L2/LC08_010065_20200523'],\n",
        "    6: ['LANDSAT/LC08/C02/T1_L2/LC08_010065_20200608',\n",
        "      'LANDSAT/LC08/C02/T1_L2/LC08_010065_20200624'],\n",
        "    7: ['LANDSAT/LC08/C02/T1_L2/LC08_010065_20200726'],\n",
        "    8: ['LANDSAT/LC08/C02/T1_L2/LC08_010065_20200811',\n",
        "      'LANDSAT/LC08/C02/T1_L2/LC08_010065_20200827'],\n",
        "    9: ['LANDSAT/LC08/C02/T1_L2/LC08_010065_20200912',\n",
        "      'LANDSAT/LC08/C02/T1_L2/LC08_010065_20200928'],\n",
        "    10: ['LANDSAT/LC08/C02/T1_L2/LC08_010065_20201014',\n",
        "      'LANDSAT/LC08/C02/T1_L2/LC08_010065_20201030'],\n",
        "    11: ['LANDSAT/LC08/C02/T1_L2/LC08_010065_20201115'],\n",
        "    12: ['LANDSAT/LC08/C02/T1_L2/LC08_010065_20201201',\n",
        "      'LANDSAT/LC08/C02/T1_L2/LC08_010065_20201217']\n",
        "      }"
      ],
      "execution_count": null,
      "outputs": []
    },
    {
      "cell_type": "code",
      "metadata": {
        "colab": {
          "base_uri": "https://localhost:8080/",
          "height": 917,
          "referenced_widgets": [
            "b348971fc73f4f2e9e2a8782d904aa83",
            "9bed79fb69484a78b0c9e11757c91603",
            "1e63dc48dc264753995c1637a42de7d4",
            "6ef9a08d091841b18d7516e42f45ecbb",
            "84f8eafbf93c44e0ba5709f5dcfbe272",
            "c7a7e636c4054621b713024101e71279",
            "ac18ca300070432ea630c6c8bebf616c"
          ]
        },
        "id": "4hwjDoYhD4W6",
        "cellView": "form",
        "outputId": "a9728765-248c-4fa2-e705-5f38ea5c1afd"
      },
      "source": [
        "# @markdown Visualización de imágenes con `interact`\n",
        "\n",
        "from ipywidgets import interact \n",
        "from pprint import pprint\n",
        "\n",
        "Natural_Color  = ['SR_B4', 'SR_B3', 'SR_B2']\n",
        "\n",
        "def visualizar_mes(mes):\n",
        "\n",
        "  # Diccionario para visualización\n",
        "  viz_dict = {}\n",
        "  scale = 0.0000275\n",
        "  # Generar diccionario de visualización\n",
        "  for i in range(len(imgCol_dict[mes])):\n",
        "    viz_dict[conv_fecha(ee.Image(imgCol_dict[mes][i]))] \\\n",
        "      = ee.Image(imgCol_dict[mes][i])\\\n",
        "      .multiply(scale).add(-0.2)\\\n",
        "      .clip(roiDep)\\\n",
        "      .getMapId({'min':0,'max':0.3, 'bands':Natural_Color})\n",
        "\n",
        "  # Presentar ID's\n",
        "  print(\"\\nID's disponibles:\")\n",
        "  pprint(imgCol_dict[mes])\n",
        "  print('')\n",
        "\n",
        "  # Mostrar el mapa leaflet\n",
        "  return mapdisplay([-79.809, -6.746], viz_dict, zoom_start=10)\n",
        "  \n",
        "mes = [i for i in range(1,12+1)]\n",
        "\n",
        "interact(visualizar_mes, mes=mes);"
      ],
      "execution_count": null,
      "outputs": [
        {
          "output_type": "display_data",
          "data": {
            "application/vnd.jupyter.widget-view+json": {
              "model_id": "b348971fc73f4f2e9e2a8782d904aa83",
              "version_minor": 0,
              "version_major": 2
            },
            "text/plain": [
              "interactive(children=(Dropdown(description='mes', options=(1, 2, 3, 4, 5, 6, 7, 8, 9, 10, 11, 12), value=1), O…"
            ]
          },
          "metadata": {}
        }
      ]
    },
    {
      "cell_type": "markdown",
      "metadata": {
        "id": "NYNdYX4MNobQ"
      },
      "source": [
        "##### Landsat 8 SR\n",
        "\n",
        "- [Dataset source](https://developers.google.com/earth-engine/datasets/catalog/LANDSAT_LC08_C01_T1_SR)"
      ]
    },
    {
      "cell_type": "code",
      "metadata": {
        "id": "dPCeshoig5Ar",
        "cellView": "form"
      },
      "source": [
        "# @markdown Diccionario de imágenes Landsat 8 SR: `imgCol_dict_SR`\n",
        "\n",
        "imgCol_dict_SR = {\n",
        "    1: ['LANDSAT/LC08/C01/T1_SR/LC08_010065_20200116'],\n",
        "    2: [\n",
        "        'LANDSAT/LC08/C01/T1_SR/LC08_010065_20200201',\n",
        "        'LANDSAT/LC08/C01/T1_SR/LC08_010065_20200217'\n",
        "    ],  # buena foto\n",
        "    3: [\n",
        "        'LANDSAT/LC08/C01/T1_SR/LC08_010065_20200304',\n",
        "        'LANDSAT/LC08/C01/T1_SR/LC08_010065_20200320'\n",
        "    ],\n",
        "    4: [\n",
        "        'LANDSAT/LC08/C01/T1_SR/LC08_010065_20200405',\n",
        "        'LANDSAT/LC08/C01/T1_SR/LC08_010065_20200421'\n",
        "    ],  # buena foto\n",
        "    5: [\n",
        "        'LANDSAT/LC08/C01/T1_SR/LC08_010065_20200507',\n",
        "        'LANDSAT/LC08/C01/T1_SR/LC08_010065_20200523'\n",
        "    ],\n",
        "    6: [\n",
        "        'LANDSAT/LC08/C01/T1_SR/LC08_010065_20200608',\n",
        "        'LANDSAT/LC08/C01/T1_SR/LC08_010065_20200624'\n",
        "    ],\n",
        "    7: ['LANDSAT/LC08/C01/T1_SR/LC08_010065_20200726'],\n",
        "    8: [\n",
        "        'LANDSAT/LC08/C01/T1_SR/LC08_010065_20200811',\n",
        "        'LANDSAT/LC08/C01/T1_SR/LC08_010065_20200827'\n",
        "    ],\n",
        "    9: [\n",
        "        'LANDSAT/LC08/C01/T1_SR/LC08_010065_20200912',\n",
        "        'LANDSAT/LC08/C01/T1_SR/LC08_010065_20200928'\n",
        "    ],\n",
        "    10: [\n",
        "        'LANDSAT/LC08/C01/T1_SR/LC08_010065_20201014',\n",
        "        'LANDSAT/LC08/C01/T1_SR/LC08_010065_20201030'\n",
        "    ],\n",
        "    11: ['LANDSAT/LC08/C01/T1_SR/LC08_010065_20201115'],\n",
        "    12: ['LANDSAT/LC08/C01/T1_SR/LC08_010065_20201201']\n",
        "}\n"
      ],
      "execution_count": null,
      "outputs": []
    },
    {
      "cell_type": "code",
      "metadata": {
        "id": "k9V-77rXjIUq",
        "colab": {
          "base_uri": "https://localhost:8080/",
          "height": 934,
          "referenced_widgets": [
            "ab1819fe25a242c1b3d798421e1b4653",
            "a90527e0b54e462ab9644cee091ace98",
            "fa96a2770d8746cc9507dab2a38fe5cd",
            "472b9bfea54b48f3904e51b711872258",
            "5a553475e1fa4b16bbbecde07f61d05e",
            "9997852dc460457e94cb74d4080ee70c",
            "2cd7419eed6d4f8a9bec4135ed23677c"
          ]
        },
        "cellView": "form",
        "outputId": "69478248-c6e0-40d5-d831-07f02a8ea82e"
      },
      "source": [
        "# @markdown Visualización de imágenes con `interact`\n",
        "\n",
        "from ipywidgets import interact \n",
        "from pprint import pprint\n",
        "\n",
        "Natural_Color  = ['B4', 'B3', 'B2']\n",
        "\n",
        "def visualizar_mes(mes):\n",
        "\n",
        "  # Diccionario para visualización\n",
        "  viz_dict = {}\n",
        "\n",
        "  # Generar diccionario de visualización\n",
        "  for i in range(len(imgCol_dict_SR[mes])):\n",
        "    viz_dict[conv_fecha(ee.Image(imgCol_dict_SR[mes][i]))] \\\n",
        "      = ee.Image(imgCol_dict_SR[mes][i])\\\n",
        "      .multiply(0.0001)\\\n",
        "      .clip(roiDep)\\\n",
        "      .getMapId({'min':0,'max':0.3, 'bands':Natural_Color})\n",
        "\n",
        "  # Presentar ID's\n",
        "  print(\"\\nID's disponibles:\")\n",
        "  pprint(imgCol_dict_SR[mes])\n",
        "  print('')\n",
        "\n",
        "  # Mostrar el mapa leaflet\n",
        "  return mapdisplay([-79.809, -6.746], viz_dict, zoom_start=10)\n",
        "  \n",
        "mes = [i for i in range(1,12+1)]\n",
        "\n",
        "interact(visualizar_mes, mes=mes);"
      ],
      "execution_count": null,
      "outputs": [
        {
          "output_type": "display_data",
          "data": {
            "application/vnd.jupyter.widget-view+json": {
              "model_id": "ab1819fe25a242c1b3d798421e1b4653",
              "version_minor": 0,
              "version_major": 2
            },
            "text/plain": [
              "interactive(children=(Dropdown(description='mes', options=(1, 2, 3, 4, 5, 6, 7, 8, 9, 10, 11, 12), value=1), O…"
            ]
          },
          "metadata": {}
        }
      ]
    },
    {
      "cell_type": "markdown",
      "metadata": {
        "id": "9jdvgCL8gS0-"
      },
      "source": [
        "## 4. Balance de energía\n",
        "\n",
        "- Procesamiento de imágenes satelitales de acuerdo a la metodología establecida en el modelo METRIC."
      ]
    },
    {
      "cell_type": "markdown",
      "metadata": {
        "id": "aI6TB-2lU8A8"
      },
      "source": [
        "### 4.1. Descripción"
      ]
    },
    {
      "cell_type": "markdown",
      "metadata": {
        "id": "gM-6ncfVtq_w"
      },
      "source": [
        "**Metodología**\n",
        "\n",
        "Se ha seguido la metodología empleada en las siguiente investigación:\n",
        "- [2007: Satellite-Based Energy Balance for Mapping Evapotranspiration with Internalized Calibration (METRIC) — Model](http://cursosihlla.bdh.org.ar/ET_UNCu_Cursos/Curso_2019/1_Lectura_recomendada/2007_Allen_METRIC_Satellite-Based_Energy_Balance_for_Mapping_Evapotr.pdf)\n",
        "\n",
        "Además de la revisión de tesis con el fin de obtener mayor información sobre la replicación del modelo:\n",
        "- [2019: Estimación de la evapotranspiración de cultivo de maíz bajo riego mediante percepción remota](http://repositorio.imta.mx/handle/20.500.12013/2065)\n",
        "- [2018: Estimación de la evapotranspiración en los cultivos alrededor del observatorio de Huancayo mediante sensoramiento remoto](https://repositorio.igp.gob.pe/handle/20.500.12816/4631)\n",
        "\n",
        "Para mayor información del primer artículo e investigaciones relacionadas:\n",
        "- [Connected Papers: METRIC Model and further research](https://www.connectedpapers.com/main/817edad756d41499da26498e71c85afaa884383a/SatelliteBased-Energy-Balance-for-Mapping-Evapotranspiration-with-Internalized-Calibration-METRICModel/graph)\n",
        "\n"
      ]
    },
    {
      "cell_type": "markdown",
      "metadata": {
        "id": "dhnY0Uw89PHX"
      },
      "source": [
        "**Base teórica y computacional: Ecuación del balance de energía**\n",
        "\n",
        "\\\n",
        "\n",
        "$$\n",
        "LE = R_n - G - H\n",
        "$$\n",
        "\n",
        "Dónde: \n",
        "- $LE$ : Energía latente consumida por ET $[W/m²]$\n",
        "- $R_n$ : Radiación neta (suma de todas las radiaciones de onda corta y larga, sean entrantes o salientes a la superficie) $[W/m²]$\n",
        "- $G$ : Flujo de calor sensible conducido al suelo $[W/m²]$\n",
        "- $H$ : Flujo de calor sensible convectado al aire $[W/m²]$\n",
        "\n",
        "\\\n",
        "\n",
        "<center>\n",
        "<img src= 'https://external-content.duckduckgo.com/iu/?u=https%3A%2F%2Fwww.researchgate.net%2Fprofile%2FBiswajeet_Pradhan%2Fpublication%2F301679158%2Ffigure%2Ffig1%2FAS%3A412214499528704%401475291003507%2FSurface-Energy-Balance-12.jpg&f=1&nofb=1' width=50%/>\n",
        "</center>"
      ]
    },
    {
      "cell_type": "markdown",
      "metadata": {
        "id": "nCx7Gk0aJHym"
      },
      "source": [
        "**¿Similitud con el Modelo SEBAL?**\n",
        "\n",
        "El modelo ***SEBAL*** se basa en la ecuación del balance de energía. \n",
        "\n",
        "***METRIC*** en comparación realiza una calibración interna enfocada en el parámetro *H* con el fil de absorber la mayor cantidad de errores de estimación y sesgos.  \n",
        "\n",
        "En METRIC:\n",
        "- $R_n$ is computed from the satellite-measured narrow-band reflectance and surface temperature\n",
        "- $G$ is estimated from $R_n$, surface temperature, and vegetation indices\n",
        "- and $H$ is estimated from surface temperature ranges, surface roughness,\n",
        "and wind speed using buoyancy corrections."
      ]
    },
    {
      "cell_type": "markdown",
      "metadata": {
        "id": "L_GKo2ORC5pf"
      },
      "source": [
        "### 4.2. Radiación Neta / Net Radiation $R_n$"
      ]
    },
    {
      "cell_type": "markdown",
      "metadata": {
        "id": "qYiyY9Rc75It"
      },
      "source": [
        "Morse et al. 2000:\n",
        "\n",
        "$$\n",
        "R_n = (1- \\alpha)R_{S\\downarrow} + (R_{L\\downarrow} - R_{L\\uparrow}) - (1- \\epsilon_0)R_{L\\downarrow}\n",
        "$$\n",
        "\n",
        "Dónde: \n",
        "- $R_n$ : Flujo de radiación neta $[W/m^2]$\n",
        "- $\\alpha$ : Albedo de superficie\n",
        "- $R_{S\\downarrow}$ : Radiación de onda corta entrante $[W/m^2]$\n",
        "- $R_{L\\downarrow}$ : Radiación de onda larga entrante $[W/m^2]$\n",
        "- $R_{L\\uparrow}$ : Radiación de onda larga saliente $[W/m^2]$\n",
        "- $\\epsilon_0$ : Emisividad del ancho de banda en la superficie / broad-band surface thermal emissivity\n",
        "\n",
        "The $(1- \\epsilon_0)R_{L\\downarrow}$ term represents the fraction of incoming long-wave\n",
        "radiation reflected from the surface."
      ]
    },
    {
      "cell_type": "markdown",
      "metadata": {
        "id": "1DOUJEfS7dSf"
      },
      "source": [
        "#### Albedo / Surface Albedo $\\alpha_{s}$"
      ]
    },
    {
      "cell_type": "markdown",
      "metadata": {
        "id": "09Ndu7jfYxHg"
      },
      "source": [
        "##### Teoría"
      ]
    },
    {
      "cell_type": "markdown",
      "metadata": {
        "id": "EewFH79LE4Fa"
      },
      "source": [
        "El albedo es **la relación entre la radiación solar reflejada y la radiación solar incidente en la superficie**. Un método para obtener el valor del albedo se describe en el trabajo de Morse, Allen, y Kramber (2000), mediante la siguiente ecuación la cual está en función de la elevación, y diversas condiciones expresadas en las siguientes ecuaciones.\n",
        "\n",
        "$$\n",
        "\\alpha = \\frac{\\alpha_{toa}-\\alpha_{pr}}{\\tau_{sw}^2} \n",
        "$$\n",
        "\n",
        "Dónde:\n",
        "- $\\alpha$ : Albedo de la superficie / Surface albedo\n",
        "- $\\alpha_{toa}$ : Albedo en el límite superior de la atmósfera / Albedo at the top of the atmosphere (planetary)\n",
        "- $\\alpha_{pr}$ : Albedo de trayectoria, igual a 0.03 (Bastiaanssen, 2000) / Albedo atmosférico ✔️\n",
        "- $\\tau_{sw}$ : Transmitancia en un sentido con condiciones de claridad $[W/m^2K]$ / Transmisividad atmosférica\n",
        "- $z$ : Elevación sobre el nivel del mar $[m]$, del modelo digital de elevaciones\n",
        "\n",
        "Ejemplo de estimación del albedo:\n",
        "- [2018: Procedures for calculation of the albedo with OLI-Landsat 8 images: Application to the Brazilian semi-arid](https://www.scielo.br/j/rbeaa/a/sX6cJjNXWMfHQ5p4h33B8Zz/?lang=en)"
      ]
    },
    {
      "cell_type": "markdown",
      "metadata": {
        "id": "J6iaCcGGC8zd"
      },
      "source": [
        "**Transmitancias**\n",
        "\n",
        "Para estimar $\\tau_{sw}$:\n",
        "\n",
        "$$\n",
        "\\tau_{sw} = \\tau_B + \\tau_D\n",
        "$$\n",
        "\n",
        "Donde:\n",
        "- $\\tau_B$ es el índice de transmisividad de radiación directa y \n",
        "- $\\tau_D$ es índice de transmisividad de radiación difusa\n",
        "\n",
        "La ecuación utilizada para el cálculo de $\\tau_B$ es:\n",
        "\n",
        "$$\n",
        "\\tau_B = 0.98 * \\exp \\left[ \\frac{-0.00146*P_{air}}{K_t * \\cos\\theta} - 0.075 * \\left( \\frac {W}{\\cos\\theta}\\right)^{0.4} \\right]\n",
        "$$\n",
        "\n",
        "$P_{air}$, $W$ , $K_t$ y $\\cos{θ}$ fueron definidas en las ecuaciones anteriores:\n",
        "\n",
        "$$\n",
        "P_{air} = 101.1 \\left( \\frac {293 - 0.0067 * z}{293}\\right)^{5.26}\n",
        "$$\n",
        "\n",
        "Donde: $z$ es la elevacion media de la imagen, respecto al nivel del mar. El agua precipitable se calculo mediante la ecuación:\n",
        "\n",
        "$$\n",
        "W = 0,14 ∗ e_{a} ∗ P_{air} + 2,1\n",
        "$$\n",
        "\n",
        "El índice de transmisividad de radiación difusa es estimó mediante $T_B$ para diferentes valores:\n",
        "\n",
        "$$\n",
        "T_D = 0.35-0.36T_B \\text{  para  } T_B \\geq 0.15 \n",
        "$$\n",
        "$\\space$\n",
        "$$\n",
        "T_D = 0.18-0.82T_B \\text{  para  } T_B \\lt 0.15 \n",
        "$$\n",
        "\n"
      ]
    },
    {
      "cell_type": "code",
      "metadata": {
        "id": "tC1urH6eVpCL",
        "colab": {
          "base_uri": "https://localhost:8080/"
        },
        "outputId": "bb822901-264f-40cd-c234-0bb567fb430f"
      },
      "source": [
        "# El método numérico de Python exp() devuelve un resultado exponencial de x: e^x\n",
        "# Para exp usar: math.exp()\n",
        "a = 3\n",
        "import math\n",
        "math.exp(a) # 20.085536923187668"
      ],
      "execution_count": null,
      "outputs": [
        {
          "output_type": "execute_result",
          "data": {
            "text/plain": [
              "20.085536923187668"
            ]
          },
          "metadata": {},
          "execution_count": 7
        }
      ]
    },
    {
      "cell_type": "markdown",
      "metadata": {
        "id": "9U_ziNOB8pgd"
      },
      "source": [
        "- Coeficientes de ponderación de la irradiancia exoatmosférica de la banda $\\lambda$\n",
        "\n",
        "$$\n",
        "\\alpha_s = \\sum_{b=1}^{n}[\\rho_{s,b} \\times \\omega_b]\n",
        "$$\n",
        "\n",
        "- $\\rho_\\lambda$ : Valor de la reflectancia de la banda $\\lambda$ ✔️\n",
        "- $\\omega_\\lambda$ : Coef. de ponderación de la irradiancia exoatmosférica de la banda $\\lambda$ ✔️"
      ]
    },
    {
      "cell_type": "markdown",
      "metadata": {
        "id": "z7gLYGBxZTsc"
      },
      "source": [
        "##### Visualización de albedo: \n",
        "- [USGS Landsat 8 Level 2, Collection 2, Tier 1](https://developers.google.com/earth-engine/datasets/catalog/LANDSAT_LC08_C02_T1_L2) \n",
        "- [USGS Landsat 8 Surface Reflectance Tier 1 [deprecated]](https://developers.google.com/earth-engine/datasets/catalog/LANDSAT_LC08_C01_T1_SR)  "
      ]
    },
    {
      "cell_type": "code",
      "metadata": {
        "id": "_O3X8jLYUup8"
      },
      "source": [
        "def getAlbedo(image):\n",
        "  \"\"\"\n",
        "  Obtener el albedo de una imagen mediante una calibración con \n",
        "  coeficientes de ponderación por banda (Da Silva et al., 2016)\n",
        "  https://www.scielo.br/j/rbeaa/a/sX6cJjNXWMfHQ5p4h33B8Zz/?lang=en\n",
        "\n",
        "  Args:\n",
        "      image (ee.Image) : Imagen satelital de Earth Engine.\n",
        "\n",
        "  Retorna: \n",
        "      albedo (ee.Image) : Albedo de una imagen satelital. \n",
        "      \n",
        "  \"\"\"\n",
        "\n",
        "  # Obtener nombres de las bandas de la imagen\n",
        "  bandnames = image.bandNames().getInfo()[1:7]\n",
        "\n",
        "  # Expresión para obtener el albedo\n",
        "  albedo = image.expression(\n",
        "      '(0.3*B2 + 0.277*B3 + 0.233*B4 + 0.143*B5 + 0.036*B6 + 0.012*B7)',\n",
        "      {\n",
        "          'B2' : image.select(bandnames[0]),\n",
        "          'B3' : image.select(bandnames[1]),\n",
        "          'B4' : image.select(bandnames[2]),\n",
        "          'B5' : image.select(bandnames[3]),\n",
        "          'B6' : image.select(bandnames[4]),\n",
        "          'B7' : image.select(bandnames[5])\n",
        "      }\n",
        "  )\n",
        "\n",
        "  return albedo"
      ],
      "execution_count": null,
      "outputs": []
    },
    {
      "cell_type": "code",
      "metadata": {
        "id": "b3Z9TS2EiaVA",
        "cellView": "form"
      },
      "source": [
        "# @markdown - Paleta NDVI (Yuri SIG) 20 Colores: `yuri_ndvi_pal`\n",
        "yuri_ndvi_pal = [\n",
        "    'ffffff', 'fffcff', 'fff9ff', 'fff7ff', 'fff4ff', 'fff2ff', 'ffefff',\n",
        "    'ffecff', 'ffeaff', 'ffe7ff', 'ffe5ff', 'ffe2ff', 'ffe0ff', 'ffddff',\n",
        "    'ffdaff', 'ffd8ff', 'ffd5ff', 'ffd3ff', 'ffd0ff', 'ffceff', 'ffcbff',\n",
        "    'ffc8ff', 'ffc6ff', 'ffc3ff', 'ffc1ff', 'ffbeff', 'ffbcff', 'ffb9ff',\n",
        "    'ffb6ff', 'ffb4ff', 'ffb1ff', 'ffafff', 'ffacff', 'ffaaff', 'ffa7ff',\n",
        "    'ffa4ff', 'ffa2ff', 'ff9fff', 'ff9dff', 'ff9aff', 'ff97ff', 'ff95ff',\n",
        "    'ff92ff', 'ff90ff', 'ff8dff', 'ff8bff', 'ff88ff', 'ff85ff', 'ff83ff',\n",
        "    'ff80ff', 'ff7eff', 'ff7bff', 'ff79ff', 'ff76ff', 'ff73ff', 'ff71ff',\n",
        "    'ff6eff', 'ff6cff', 'ff69ff', 'ff67ff', 'ff64ff', 'ff61ff', 'ff5fff',\n",
        "    'ff5cff', 'ff5aff', 'ff57ff', 'ff55ff', 'ff52ff', 'ff4fff', 'ff4dff',\n",
        "    'ff4aff', 'ff48ff', 'ff45ff', 'ff42ff', 'ff40ff', 'ff3dff', 'ff3bff',\n",
        "    'ff38ff', 'ff36ff', 'ff33ff', 'ff30ff', 'ff2eff', 'ff2bff', 'ff29ff',\n",
        "    'ff26ff', 'ff24ff', 'ff21ff', 'ff1eff', 'ff1cff', 'ff19ff', 'ff17ff',\n",
        "    'ff14ff', 'ff12ff', 'ff0fff', 'ff0cff', 'ff0aff', 'ff07ff', 'ff05ff',\n",
        "    'ff02ff', 'ff00ff', 'ff00ff', 'ff0af4', 'ff15e9', 'ff1fdf', 'ff2ad4',\n",
        "    'ff35c9', 'ff3fbf', 'ff4ab4', 'ff55aa', 'ff5f9f', 'ff6a94', 'ff748a',\n",
        "    'ff7f7f', 'ff8a74', 'ff946a', 'ff9f5f', 'ffaa55', 'ffb44a', 'ffbf3f',\n",
        "    'ffc935', 'ffd42a', 'ffdf1f', 'ffe915', 'fff40a', 'ffff00', 'ffff00',\n",
        "    'fffb00', 'fff700', 'fff300', 'fff000', 'ffec00', 'ffe800', 'ffe400',\n",
        "    'ffe100', 'ffdd00', 'ffd900', 'ffd500', 'ffd200', 'ffce00', 'ffca00',\n",
        "    'ffc600', 'ffc300', 'ffbf00', 'ffbb00', 'ffb700', 'ffb400', 'ffb000',\n",
        "    'ffac00', 'ffa800', 'ffa500', 'ffa500', 'f7a400', 'f0a300', 'e8a200',\n",
        "    'e1a200', 'd9a100', 'd2a000', 'ca9f00', 'c39f00', 'bb9e00', 'b49d00',\n",
        "    'ac9c00', 'a59c00', '9d9b00', '969a00', '8e9900', '879900', '7f9800',\n",
        "    '789700', '709700', '699600', '619500', '5a9400', '529400', '4b9300',\n",
        "    '439200', '349100', '2d9000', '258f00', '1e8e00', '168e00', '0f8d00',\n",
        "    '078c00', '008c00', '008c00', '008700', '008300', '007f00', '007a00',\n",
        "    '007600', '007200', '006e00', '006900', '006500', '006100', '005c00',\n",
        "    '005800', '005400', '005000', '004c00'\n",
        "]"
      ],
      "execution_count": null,
      "outputs": []
    },
    {
      "cell_type": "code",
      "metadata": {
        "id": "MI8xYxQJXLRp",
        "colab": {
          "base_uri": "https://localhost:8080/",
          "height": 797
        },
        "outputId": "3b6e7366-5abd-47fd-8e2e-306f75212c5f"
      },
      "source": [
        "image_ID_C1 = ee.Image('LANDSAT/LC08/C01/T1_SR/LC08_010065_20200116') \n",
        "image_ID_esc_C1 = image_ID_C1.multiply(0.0001)\n",
        "\n",
        "image_ID_C2 = ee.Image('LANDSAT/LC08/C02/T1_L2/LC08_010065_20200116')\n",
        "image_ID_esc_C2 = image_ID_C2.multiply(0.0000275).add(-0.2)\n",
        "\n",
        "palette = [\n",
        "    'FFFFFF', 'CE7E45', 'DF923D', 'F1B555', 'FCD163', '99B718', '74A901',\n",
        "    '66A000', '529400', '3E8601', '207401', '056201', '004C00', '023B01',\n",
        "    '012E01', '011D01', '011301'\n",
        "  ]\n",
        "\n",
        "viz_params = {'min': 0.0, 'max':0.5, 'palette': palette};\n",
        "\n",
        "dict_vis = {'Imagen L8 C1':image_ID_esc_C1.getMapId({'min':0, 'max':0.3, 'bands':['B4','B3','B2']}),\n",
        "            'Albedo L8 C1':getAlbedo(image_ID_esc_C1).clip(roiDep).getMapId(viz_params),\n",
        "            'Imagen L8 C2':image_ID_esc_C2.getMapId({'min':0, 'max':0.3, 'bands':['SR_B4','SR_B3','SR_B2']}),\n",
        "            'Albedo L8 C2':getAlbedo(image_ID_esc_C2).clip(roiDep).getMapId(viz_params)\n",
        "            }\n",
        "\n",
        "mapdisplay([-79.309, -6.846], dict_vis, zoom_start=9)\n",
        "\n",
        "# mapdisplay([-79.309, -6.846], {'Albedo':albedo.clip(roiDep).getMapId(viz_params)},zoom_start=8)"
      ],
      "execution_count": null,
      "outputs": [
        {
          "output_type": "execute_result",
          "data": {
            "text/html": [
              "<div style=\"width:100%;\"><div style=\"position:relative;width:100%;height:0;padding-bottom:60%;\"><span style=\"color:#565656\">Make this Notebook Trusted to load map: File -> Trust Notebook</span><iframe src=\"about:blank\" style=\"position:absolute;width:100%;height:100%;left:0;top:0;border:none !important;\" data-html=%3C%21DOCTYPE%20html%3E%0A%3Chead%3E%20%20%20%20%0A%20%20%20%20%3Cmeta%20http-equiv%3D%22content-type%22%20content%3D%22text/html%3B%20charset%3DUTF-8%22%20/%3E%0A%20%20%20%20%0A%20%20%20%20%20%20%20%20%3Cscript%3E%0A%20%20%20%20%20%20%20%20%20%20%20%20L_NO_TOUCH%20%3D%20false%3B%0A%20%20%20%20%20%20%20%20%20%20%20%20L_DISABLE_3D%20%3D%20false%3B%0A%20%20%20%20%20%20%20%20%3C/script%3E%0A%20%20%20%20%0A%20%20%20%20%3Cstyle%3Ehtml%2C%20body%20%7Bwidth%3A%20100%25%3Bheight%3A%20100%25%3Bmargin%3A%200%3Bpadding%3A%200%3B%7D%3C/style%3E%0A%20%20%20%20%3Cstyle%3E%23map%20%7Bposition%3Aabsolute%3Btop%3A0%3Bbottom%3A0%3Bright%3A0%3Bleft%3A0%3B%7D%3C/style%3E%0A%20%20%20%20%3Cscript%20src%3D%22https%3A//cdn.jsdelivr.net/npm/leaflet%401.6.0/dist/leaflet.js%22%3E%3C/script%3E%0A%20%20%20%20%3Cscript%20src%3D%22https%3A//code.jquery.com/jquery-1.12.4.min.js%22%3E%3C/script%3E%0A%20%20%20%20%3Cscript%20src%3D%22https%3A//maxcdn.bootstrapcdn.com/bootstrap/3.2.0/js/bootstrap.min.js%22%3E%3C/script%3E%0A%20%20%20%20%3Cscript%20src%3D%22https%3A//cdnjs.cloudflare.com/ajax/libs/Leaflet.awesome-markers/2.0.2/leaflet.awesome-markers.js%22%3E%3C/script%3E%0A%20%20%20%20%3Clink%20rel%3D%22stylesheet%22%20href%3D%22https%3A//cdn.jsdelivr.net/npm/leaflet%401.6.0/dist/leaflet.css%22/%3E%0A%20%20%20%20%3Clink%20rel%3D%22stylesheet%22%20href%3D%22https%3A//maxcdn.bootstrapcdn.com/bootstrap/3.2.0/css/bootstrap.min.css%22/%3E%0A%20%20%20%20%3Clink%20rel%3D%22stylesheet%22%20href%3D%22https%3A//maxcdn.bootstrapcdn.com/bootstrap/3.2.0/css/bootstrap-theme.min.css%22/%3E%0A%20%20%20%20%3Clink%20rel%3D%22stylesheet%22%20href%3D%22https%3A//maxcdn.bootstrapcdn.com/font-awesome/4.6.3/css/font-awesome.min.css%22/%3E%0A%20%20%20%20%3Clink%20rel%3D%22stylesheet%22%20href%3D%22https%3A//cdnjs.cloudflare.com/ajax/libs/Leaflet.awesome-markers/2.0.2/leaflet.awesome-markers.css%22/%3E%0A%20%20%20%20%3Clink%20rel%3D%22stylesheet%22%20href%3D%22https%3A//cdn.jsdelivr.net/gh/python-visualization/folium/folium/templates/leaflet.awesome.rotate.min.css%22/%3E%0A%20%20%20%20%0A%20%20%20%20%20%20%20%20%20%20%20%20%3Cmeta%20name%3D%22viewport%22%20content%3D%22width%3Ddevice-width%2C%0A%20%20%20%20%20%20%20%20%20%20%20%20%20%20%20%20initial-scale%3D1.0%2C%20maximum-scale%3D1.0%2C%20user-scalable%3Dno%22%20/%3E%0A%20%20%20%20%20%20%20%20%20%20%20%20%3Cstyle%3E%0A%20%20%20%20%20%20%20%20%20%20%20%20%20%20%20%20%23map_8c888ea1ff7d41dfa2e6028605759666%20%7B%0A%20%20%20%20%20%20%20%20%20%20%20%20%20%20%20%20%20%20%20%20position%3A%20relative%3B%0A%20%20%20%20%20%20%20%20%20%20%20%20%20%20%20%20%20%20%20%20width%3A%20100.0%25%3B%0A%20%20%20%20%20%20%20%20%20%20%20%20%20%20%20%20%20%20%20%20height%3A%20100.0%25%3B%0A%20%20%20%20%20%20%20%20%20%20%20%20%20%20%20%20%20%20%20%20left%3A%200.0%25%3B%0A%20%20%20%20%20%20%20%20%20%20%20%20%20%20%20%20%20%20%20%20top%3A%200.0%25%3B%0A%20%20%20%20%20%20%20%20%20%20%20%20%20%20%20%20%7D%0A%20%20%20%20%20%20%20%20%20%20%20%20%3C/style%3E%0A%20%20%20%20%20%20%20%20%0A%3C/head%3E%0A%3Cbody%3E%20%20%20%20%0A%20%20%20%20%0A%20%20%20%20%20%20%20%20%20%20%20%20%3Cdiv%20class%3D%22folium-map%22%20id%3D%22map_8c888ea1ff7d41dfa2e6028605759666%22%20%3E%3C/div%3E%0A%20%20%20%20%20%20%20%20%0A%3C/body%3E%0A%3Cscript%3E%20%20%20%20%0A%20%20%20%20%0A%20%20%20%20%20%20%20%20%20%20%20%20var%20map_8c888ea1ff7d41dfa2e6028605759666%20%3D%20L.map%28%0A%20%20%20%20%20%20%20%20%20%20%20%20%20%20%20%20%22map_8c888ea1ff7d41dfa2e6028605759666%22%2C%0A%20%20%20%20%20%20%20%20%20%20%20%20%20%20%20%20%7B%0A%20%20%20%20%20%20%20%20%20%20%20%20%20%20%20%20%20%20%20%20center%3A%20%5B-6.846%2C%20-79.309%5D%2C%0A%20%20%20%20%20%20%20%20%20%20%20%20%20%20%20%20%20%20%20%20crs%3A%20L.CRS.EPSG3857%2C%0A%20%20%20%20%20%20%20%20%20%20%20%20%20%20%20%20%20%20%20%20zoom%3A%209%2C%0A%20%20%20%20%20%20%20%20%20%20%20%20%20%20%20%20%20%20%20%20zoomControl%3A%20true%2C%0A%20%20%20%20%20%20%20%20%20%20%20%20%20%20%20%20%20%20%20%20preferCanvas%3A%20false%2C%0A%20%20%20%20%20%20%20%20%20%20%20%20%20%20%20%20%7D%0A%20%20%20%20%20%20%20%20%20%20%20%20%29%3B%0A%20%20%20%20%20%20%20%20%20%20%20%20L.control.scale%28%29.addTo%28map_8c888ea1ff7d41dfa2e6028605759666%29%3B%0A%0A%20%20%20%20%20%20%20%20%20%20%20%20%0A%0A%20%20%20%20%20%20%20%20%0A%20%20%20%20%0A%20%20%20%20%20%20%20%20%20%20%20%20var%20tile_layer_e70134c181e44884b6fffebfd25d00e3%20%3D%20L.tileLayer%28%0A%20%20%20%20%20%20%20%20%20%20%20%20%20%20%20%20%22https%3A//%7Bs%7D.tile.openstreetmap.org/%7Bz%7D/%7Bx%7D/%7By%7D.png%22%2C%0A%20%20%20%20%20%20%20%20%20%20%20%20%20%20%20%20%7B%22attribution%22%3A%20%22Data%20by%20%5Cu0026copy%3B%20%5Cu003ca%20href%3D%5C%22http%3A//openstreetmap.org%5C%22%5Cu003eOpenStreetMap%5Cu003c/a%5Cu003e%2C%20under%20%5Cu003ca%20href%3D%5C%22http%3A//www.openstreetmap.org/copyright%5C%22%5Cu003eODbL%5Cu003c/a%5Cu003e.%22%2C%20%22detectRetina%22%3A%20false%2C%20%22maxNativeZoom%22%3A%2018%2C%20%22maxZoom%22%3A%2018%2C%20%22minZoom%22%3A%200%2C%20%22noWrap%22%3A%20false%2C%20%22opacity%22%3A%201%2C%20%22subdomains%22%3A%20%22abc%22%2C%20%22tms%22%3A%20false%7D%0A%20%20%20%20%20%20%20%20%20%20%20%20%29.addTo%28map_8c888ea1ff7d41dfa2e6028605759666%29%3B%0A%20%20%20%20%20%20%20%20%0A%20%20%20%20%0A%20%20%20%20%20%20%20%20%20%20%20%20var%20tile_layer_b0c2c98fcb9b432d8d72471af620e1c9%20%3D%20L.tileLayer%28%0A%20%20%20%20%20%20%20%20%20%20%20%20%20%20%20%20%22https%3A//earthengine.googleapis.com/v1alpha/projects/earthengine-legacy/maps/8c91cde2d8cee318c7022473896cc6cd-ac53889e5cd5e318d1bf2ae23b36e728/tiles/%7Bz%7D/%7Bx%7D/%7By%7D%22%2C%0A%20%20%20%20%20%20%20%20%20%20%20%20%20%20%20%20%7B%22attribution%22%3A%20%22Google%20Earth%20Engine%22%2C%20%22detectRetina%22%3A%20false%2C%20%22maxNativeZoom%22%3A%2018%2C%20%22maxZoom%22%3A%2018%2C%20%22minZoom%22%3A%200%2C%20%22noWrap%22%3A%20false%2C%20%22opacity%22%3A%201%2C%20%22subdomains%22%3A%20%22abc%22%2C%20%22tms%22%3A%20false%7D%0A%20%20%20%20%20%20%20%20%20%20%20%20%29.addTo%28map_8c888ea1ff7d41dfa2e6028605759666%29%3B%0A%20%20%20%20%20%20%20%20%0A%20%20%20%20%0A%20%20%20%20%20%20%20%20%20%20%20%20var%20tile_layer_97af6c62b66e4a33a747764426427ee1%20%3D%20L.tileLayer%28%0A%20%20%20%20%20%20%20%20%20%20%20%20%20%20%20%20%22https%3A//earthengine.googleapis.com/v1alpha/projects/earthengine-legacy/maps/79abfea6e7c640392747849cf3480dd6-070ec0719eb323b19874f9938ef2abc9/tiles/%7Bz%7D/%7Bx%7D/%7By%7D%22%2C%0A%20%20%20%20%20%20%20%20%20%20%20%20%20%20%20%20%7B%22attribution%22%3A%20%22Google%20Earth%20Engine%22%2C%20%22detectRetina%22%3A%20false%2C%20%22maxNativeZoom%22%3A%2018%2C%20%22maxZoom%22%3A%2018%2C%20%22minZoom%22%3A%200%2C%20%22noWrap%22%3A%20false%2C%20%22opacity%22%3A%201%2C%20%22subdomains%22%3A%20%22abc%22%2C%20%22tms%22%3A%20false%7D%0A%20%20%20%20%20%20%20%20%20%20%20%20%29.addTo%28map_8c888ea1ff7d41dfa2e6028605759666%29%3B%0A%20%20%20%20%20%20%20%20%0A%20%20%20%20%0A%20%20%20%20%20%20%20%20%20%20%20%20var%20tile_layer_e7409fa4bcdc41db956ea351a97b7ec1%20%3D%20L.tileLayer%28%0A%20%20%20%20%20%20%20%20%20%20%20%20%20%20%20%20%22https%3A//earthengine.googleapis.com/v1alpha/projects/earthengine-legacy/maps/86b063309a4c5455c4ab179954a3fa19-52cb07600ed78fa86ffa6e2202350cb8/tiles/%7Bz%7D/%7Bx%7D/%7By%7D%22%2C%0A%20%20%20%20%20%20%20%20%20%20%20%20%20%20%20%20%7B%22attribution%22%3A%20%22Google%20Earth%20Engine%22%2C%20%22detectRetina%22%3A%20false%2C%20%22maxNativeZoom%22%3A%2018%2C%20%22maxZoom%22%3A%2018%2C%20%22minZoom%22%3A%200%2C%20%22noWrap%22%3A%20false%2C%20%22opacity%22%3A%201%2C%20%22subdomains%22%3A%20%22abc%22%2C%20%22tms%22%3A%20false%7D%0A%20%20%20%20%20%20%20%20%20%20%20%20%29.addTo%28map_8c888ea1ff7d41dfa2e6028605759666%29%3B%0A%20%20%20%20%20%20%20%20%0A%20%20%20%20%0A%20%20%20%20%20%20%20%20%20%20%20%20var%20tile_layer_92e74cfe9de44817a6a28178614e7dc4%20%3D%20L.tileLayer%28%0A%20%20%20%20%20%20%20%20%20%20%20%20%20%20%20%20%22https%3A//earthengine.googleapis.com/v1alpha/projects/earthengine-legacy/maps/9b1c443c2e8df3b011fe7c839be880cd-046b88ac546798fc06308d44f9866130/tiles/%7Bz%7D/%7Bx%7D/%7By%7D%22%2C%0A%20%20%20%20%20%20%20%20%20%20%20%20%20%20%20%20%7B%22attribution%22%3A%20%22Google%20Earth%20Engine%22%2C%20%22detectRetina%22%3A%20false%2C%20%22maxNativeZoom%22%3A%2018%2C%20%22maxZoom%22%3A%2018%2C%20%22minZoom%22%3A%200%2C%20%22noWrap%22%3A%20false%2C%20%22opacity%22%3A%201%2C%20%22subdomains%22%3A%20%22abc%22%2C%20%22tms%22%3A%20false%7D%0A%20%20%20%20%20%20%20%20%20%20%20%20%29.addTo%28map_8c888ea1ff7d41dfa2e6028605759666%29%3B%0A%20%20%20%20%20%20%20%20%0A%20%20%20%20%0A%20%20%20%20%20%20%20%20%20%20%20%20var%20layer_control_a3af54f5312b42349d0e62d001266df7%20%3D%20%7B%0A%20%20%20%20%20%20%20%20%20%20%20%20%20%20%20%20base_layers%20%3A%20%7B%0A%20%20%20%20%20%20%20%20%20%20%20%20%20%20%20%20%20%20%20%20%22openstreetmap%22%20%3A%20tile_layer_e70134c181e44884b6fffebfd25d00e3%2C%0A%20%20%20%20%20%20%20%20%20%20%20%20%20%20%20%20%7D%2C%0A%20%20%20%20%20%20%20%20%20%20%20%20%20%20%20%20overlays%20%3A%20%20%7B%0A%20%20%20%20%20%20%20%20%20%20%20%20%20%20%20%20%20%20%20%20%22Imagen%20L8%20C1%22%20%3A%20tile_layer_b0c2c98fcb9b432d8d72471af620e1c9%2C%0A%20%20%20%20%20%20%20%20%20%20%20%20%20%20%20%20%20%20%20%20%22Albedo%20L8%20C1%22%20%3A%20tile_layer_97af6c62b66e4a33a747764426427ee1%2C%0A%20%20%20%20%20%20%20%20%20%20%20%20%20%20%20%20%20%20%20%20%22Imagen%20L8%20C2%22%20%3A%20tile_layer_e7409fa4bcdc41db956ea351a97b7ec1%2C%0A%20%20%20%20%20%20%20%20%20%20%20%20%20%20%20%20%20%20%20%20%22Albedo%20L8%20C2%22%20%3A%20tile_layer_92e74cfe9de44817a6a28178614e7dc4%2C%0A%20%20%20%20%20%20%20%20%20%20%20%20%20%20%20%20%7D%2C%0A%20%20%20%20%20%20%20%20%20%20%20%20%7D%3B%0A%20%20%20%20%20%20%20%20%20%20%20%20L.control.layers%28%0A%20%20%20%20%20%20%20%20%20%20%20%20%20%20%20%20layer_control_a3af54f5312b42349d0e62d001266df7.base_layers%2C%0A%20%20%20%20%20%20%20%20%20%20%20%20%20%20%20%20layer_control_a3af54f5312b42349d0e62d001266df7.overlays%2C%0A%20%20%20%20%20%20%20%20%20%20%20%20%20%20%20%20%7B%22autoZIndex%22%3A%20true%2C%20%22collapsed%22%3A%20true%2C%20%22position%22%3A%20%22topright%22%7D%0A%20%20%20%20%20%20%20%20%20%20%20%20%29.addTo%28map_8c888ea1ff7d41dfa2e6028605759666%29%3B%0A%20%20%20%20%20%20%20%20%0A%3C/script%3E onload=\"this.contentDocument.open();this.contentDocument.write(    decodeURIComponent(this.getAttribute('data-html')));this.contentDocument.close();\" allowfullscreen webkitallowfullscreen mozallowfullscreen></iframe></div></div>"
            ],
            "text/plain": [
              "<folium.folium.Map at 0x7ff135d41f50>"
            ]
          },
          "metadata": {},
          "execution_count": 15
        }
      ]
    },
    {
      "cell_type": "markdown",
      "metadata": {
        "id": "JxwSaVpiz-Se"
      },
      "source": [
        "##### Proyección de imagen"
      ]
    },
    {
      "cell_type": "code",
      "metadata": {
        "colab": {
          "base_uri": "https://localhost:8080/"
        },
        "id": "2BHH5bamzTIO",
        "outputId": "1bbfd709-81d4-4627-9580-6587801e4e9a"
      },
      "source": [
        "image_ID_C1 = ee.Image('LANDSAT/LC08/C01/T1_SR/LC08_010065_20200116').multiply(0.0001)\n",
        "\n",
        "# Verificando proyección (Coordinate Reference System o CRS)\n",
        "print('Projection, crs, and crs_transform', image_ID_C1.projection().getInfo()) # Sin getInfo es ee.Projection\n",
        "print('Scale in meters:', image_ID_C1.projection().nominalScale().getInfo()) # 30m"
      ],
      "execution_count": null,
      "outputs": [
        {
          "output_type": "stream",
          "name": "stdout",
          "text": [
            "Projection, crs, and crs_transform {'type': 'Projection', 'crs': 'EPSG:32617', 'transform': [30, 0, 496185, 0, -30, -683385]}\n",
            "Scale in meters: 30\n"
          ]
        }
      ]
    },
    {
      "cell_type": "markdown",
      "metadata": {
        "id": "Ji6sHAye2tnD"
      },
      "source": [
        "Nótese la proyección `EPSG:32617` el cual pertenece a la zona 17N en UTM."
      ]
    },
    {
      "cell_type": "code",
      "metadata": {
        "colab": {
          "base_uri": "https://localhost:8080/"
        },
        "id": "XVH3UtTL1NG9",
        "outputId": "34f1368a-a6eb-4fea-b187-b31f1838b55b"
      },
      "source": [
        "# Reproyección a EPSG:32717 WGS 84 / UTM zone 17S\n",
        "image_ID_C1_proy = image_ID_C1.reproject(crs=\"EPSG:32717\", scale=30)\n",
        "image_ID_C1_proy.projection().getInfo()"
      ],
      "execution_count": null,
      "outputs": [
        {
          "output_type": "execute_result",
          "data": {
            "text/plain": [
              "{'crs': 'EPSG:32717', 'transform': [30, 0, 0, 0, -30, 0], 'type': 'Projection'}"
            ]
          },
          "metadata": {},
          "execution_count": 6
        }
      ]
    },
    {
      "cell_type": "code",
      "metadata": {
        "colab": {
          "base_uri": "https://localhost:8080/",
          "height": 797
        },
        "id": "ARPMjIzR1-X0",
        "outputId": "8634ee43-2e3d-4c3a-ac3e-fe3f8996f219"
      },
      "source": [
        "# Visualización\n",
        "image_ID_C1 = ee.Image('LANDSAT/LC08/C01/T1_SR/LC08_010065_20200116') \n",
        "image_ID_esc_C1 = image_ID_C1.multiply(0.0001)\n",
        "image_ID_esc_C1_reproy = image_ID_C1.multiply(0.0001).reproject(crs=\"EPSG:32717\", scale=30)\n",
        "\n",
        "\n",
        "dict_vis = {'Imagen L8 C1':image_ID_esc_C1.getMapId({'min':0, 'max':0.3, 'bands':['B4','B3','B2']}),\n",
        "            'Imagen L8 C1 reproyectado':image_ID_esc_C1_reproy.getMapId({'min':0, 'max':0.3, 'bands':['B4','B3','B2']}),\n",
        "            }\n",
        "\n",
        "mapdisplay([-79.309, -6.846], dict_vis, zoom_start=9)\n",
        "\n",
        "# mapdisplay([-79.309, -6.846], {'Albedo':albedo.clip(roiDep).getMapId(viz_params)},zoom_start=8)"
      ],
      "execution_count": null,
      "outputs": [
        {
          "output_type": "execute_result",
          "data": {
            "text/html": [
              "<div style=\"width:100%;\"><div style=\"position:relative;width:100%;height:0;padding-bottom:60%;\"><span style=\"color:#565656\">Make this Notebook Trusted to load map: File -> Trust Notebook</span><iframe src=\"about:blank\" style=\"position:absolute;width:100%;height:100%;left:0;top:0;border:none !important;\" data-html=%3C%21DOCTYPE%20html%3E%0A%3Chead%3E%20%20%20%20%0A%20%20%20%20%3Cmeta%20http-equiv%3D%22content-type%22%20content%3D%22text/html%3B%20charset%3DUTF-8%22%20/%3E%0A%20%20%20%20%3Cscript%3EL_PREFER_CANVAS%3Dfalse%3B%20L_NO_TOUCH%3Dfalse%3B%20L_DISABLE_3D%3Dfalse%3B%3C/script%3E%0A%20%20%20%20%3Cscript%20src%3D%22https%3A//cdn.jsdelivr.net/npm/leaflet%401.4.0/dist/leaflet.js%22%3E%3C/script%3E%0A%20%20%20%20%3Cscript%20src%3D%22https%3A//code.jquery.com/jquery-1.12.4.min.js%22%3E%3C/script%3E%0A%20%20%20%20%3Cscript%20src%3D%22https%3A//maxcdn.bootstrapcdn.com/bootstrap/3.2.0/js/bootstrap.min.js%22%3E%3C/script%3E%0A%20%20%20%20%3Cscript%20src%3D%22https%3A//cdnjs.cloudflare.com/ajax/libs/Leaflet.awesome-markers/2.0.2/leaflet.awesome-markers.js%22%3E%3C/script%3E%0A%20%20%20%20%3Clink%20rel%3D%22stylesheet%22%20href%3D%22https%3A//cdn.jsdelivr.net/npm/leaflet%401.4.0/dist/leaflet.css%22/%3E%0A%20%20%20%20%3Clink%20rel%3D%22stylesheet%22%20href%3D%22https%3A//maxcdn.bootstrapcdn.com/bootstrap/3.2.0/css/bootstrap.min.css%22/%3E%0A%20%20%20%20%3Clink%20rel%3D%22stylesheet%22%20href%3D%22https%3A//maxcdn.bootstrapcdn.com/bootstrap/3.2.0/css/bootstrap-theme.min.css%22/%3E%0A%20%20%20%20%3Clink%20rel%3D%22stylesheet%22%20href%3D%22https%3A//maxcdn.bootstrapcdn.com/font-awesome/4.6.3/css/font-awesome.min.css%22/%3E%0A%20%20%20%20%3Clink%20rel%3D%22stylesheet%22%20href%3D%22https%3A//cdnjs.cloudflare.com/ajax/libs/Leaflet.awesome-markers/2.0.2/leaflet.awesome-markers.css%22/%3E%0A%20%20%20%20%3Clink%20rel%3D%22stylesheet%22%20href%3D%22https%3A//rawcdn.githack.com/python-visualization/folium/master/folium/templates/leaflet.awesome.rotate.css%22/%3E%0A%20%20%20%20%3Cstyle%3Ehtml%2C%20body%20%7Bwidth%3A%20100%25%3Bheight%3A%20100%25%3Bmargin%3A%200%3Bpadding%3A%200%3B%7D%3C/style%3E%0A%20%20%20%20%3Cstyle%3E%23map%20%7Bposition%3Aabsolute%3Btop%3A0%3Bbottom%3A0%3Bright%3A0%3Bleft%3A0%3B%7D%3C/style%3E%0A%20%20%20%20%0A%20%20%20%20%3Cmeta%20name%3D%22viewport%22%20content%3D%22width%3Ddevice-width%2C%0A%20%20%20%20%20%20%20%20initial-scale%3D1.0%2C%20maximum-scale%3D1.0%2C%20user-scalable%3Dno%22%20/%3E%0A%20%20%20%20%3Cstyle%3E%23map_b08188cf015b4672a6e453a101026318%20%7B%0A%20%20%20%20%20%20%20%20position%3A%20relative%3B%0A%20%20%20%20%20%20%20%20width%3A%20100.0%25%3B%0A%20%20%20%20%20%20%20%20height%3A%20100.0%25%3B%0A%20%20%20%20%20%20%20%20left%3A%200.0%25%3B%0A%20%20%20%20%20%20%20%20top%3A%200.0%25%3B%0A%20%20%20%20%20%20%20%20%7D%0A%20%20%20%20%3C/style%3E%0A%3C/head%3E%0A%3Cbody%3E%20%20%20%20%0A%20%20%20%20%0A%20%20%20%20%3Cdiv%20class%3D%22folium-map%22%20id%3D%22map_b08188cf015b4672a6e453a101026318%22%20%3E%3C/div%3E%0A%3C/body%3E%0A%3Cscript%3E%20%20%20%20%0A%20%20%20%20%0A%20%20%20%20%0A%20%20%20%20%20%20%20%20var%20bounds%20%3D%20null%3B%0A%20%20%20%20%0A%0A%20%20%20%20var%20map_b08188cf015b4672a6e453a101026318%20%3D%20L.map%28%0A%20%20%20%20%20%20%20%20%27map_b08188cf015b4672a6e453a101026318%27%2C%20%7B%0A%20%20%20%20%20%20%20%20center%3A%20%5B-6.846%2C%20-79.309%5D%2C%0A%20%20%20%20%20%20%20%20zoom%3A%209%2C%0A%20%20%20%20%20%20%20%20maxBounds%3A%20bounds%2C%0A%20%20%20%20%20%20%20%20layers%3A%20%5B%5D%2C%0A%20%20%20%20%20%20%20%20worldCopyJump%3A%20false%2C%0A%20%20%20%20%20%20%20%20crs%3A%20L.CRS.EPSG3857%2C%0A%20%20%20%20%20%20%20%20zoomControl%3A%20true%2C%0A%20%20%20%20%20%20%20%20%7D%29%3B%0AL.control.scale%28%29.addTo%28map_b08188cf015b4672a6e453a101026318%29%3B%0A%0A%20%20%20%20%0A%20%20%20%20var%20tile_layer_24a96fa6a3084445ac16b4f095e15fce%20%3D%20L.tileLayer%28%0A%20%20%20%20%20%20%20%20%27https%3A//%7Bs%7D.tile.openstreetmap.org/%7Bz%7D/%7Bx%7D/%7By%7D.png%27%2C%0A%20%20%20%20%20%20%20%20%7B%0A%20%20%20%20%20%20%20%20%22attribution%22%3A%20null%2C%0A%20%20%20%20%20%20%20%20%22detectRetina%22%3A%20false%2C%0A%20%20%20%20%20%20%20%20%22maxNativeZoom%22%3A%2018%2C%0A%20%20%20%20%20%20%20%20%22maxZoom%22%3A%2018%2C%0A%20%20%20%20%20%20%20%20%22minZoom%22%3A%200%2C%0A%20%20%20%20%20%20%20%20%22noWrap%22%3A%20false%2C%0A%20%20%20%20%20%20%20%20%22opacity%22%3A%201%2C%0A%20%20%20%20%20%20%20%20%22subdomains%22%3A%20%22abc%22%2C%0A%20%20%20%20%20%20%20%20%22tms%22%3A%20false%0A%7D%29.addTo%28map_b08188cf015b4672a6e453a101026318%29%3B%0A%20%20%20%20var%20tile_layer_488d2baa3f6e4b00b1236c7c2972206a%20%3D%20L.tileLayer%28%0A%20%20%20%20%20%20%20%20%27https%3A//earthengine.googleapis.com/v1alpha/projects/earthengine-legacy/maps/8c91cde2d8cee318c7022473896cc6cd-45aeae7f0ae9fb838fd968d6c1582fb6/tiles/%7Bz%7D/%7Bx%7D/%7By%7D%27%2C%0A%20%20%20%20%20%20%20%20%7B%0A%20%20%20%20%20%20%20%20%22attribution%22%3A%20%22Google%20Earth%20Engine%22%2C%0A%20%20%20%20%20%20%20%20%22detectRetina%22%3A%20false%2C%0A%20%20%20%20%20%20%20%20%22maxNativeZoom%22%3A%2018%2C%0A%20%20%20%20%20%20%20%20%22maxZoom%22%3A%2018%2C%0A%20%20%20%20%20%20%20%20%22minZoom%22%3A%200%2C%0A%20%20%20%20%20%20%20%20%22noWrap%22%3A%20false%2C%0A%20%20%20%20%20%20%20%20%22opacity%22%3A%201%2C%0A%20%20%20%20%20%20%20%20%22subdomains%22%3A%20%22abc%22%2C%0A%20%20%20%20%20%20%20%20%22tms%22%3A%20false%0A%7D%29.addTo%28map_b08188cf015b4672a6e453a101026318%29%3B%0A%20%20%20%20var%20tile_layer_a0112f2bd82748918746d431b66d643d%20%3D%20L.tileLayer%28%0A%20%20%20%20%20%20%20%20%27https%3A//earthengine.googleapis.com/v1alpha/projects/earthengine-legacy/maps/a0c41e5f38e56a9c4eb34d204c49eed7-2f59045467f87cdcd8e3c114c9bdf761/tiles/%7Bz%7D/%7Bx%7D/%7By%7D%27%2C%0A%20%20%20%20%20%20%20%20%7B%0A%20%20%20%20%20%20%20%20%22attribution%22%3A%20%22Google%20Earth%20Engine%22%2C%0A%20%20%20%20%20%20%20%20%22detectRetina%22%3A%20false%2C%0A%20%20%20%20%20%20%20%20%22maxNativeZoom%22%3A%2018%2C%0A%20%20%20%20%20%20%20%20%22maxZoom%22%3A%2018%2C%0A%20%20%20%20%20%20%20%20%22minZoom%22%3A%200%2C%0A%20%20%20%20%20%20%20%20%22noWrap%22%3A%20false%2C%0A%20%20%20%20%20%20%20%20%22opacity%22%3A%201%2C%0A%20%20%20%20%20%20%20%20%22subdomains%22%3A%20%22abc%22%2C%0A%20%20%20%20%20%20%20%20%22tms%22%3A%20false%0A%7D%29.addTo%28map_b08188cf015b4672a6e453a101026318%29%3B%0A%20%20%20%20%0A%20%20%20%20%20%20%20%20%20%20%20%20var%20layer_control_2fadd771bb8948939487f39c8119be73%20%3D%20%7B%0A%20%20%20%20%20%20%20%20%20%20%20%20%20%20%20%20base_layers%20%3A%20%7B%20%22openstreetmap%22%20%3A%20tile_layer_24a96fa6a3084445ac16b4f095e15fce%2C%20%7D%2C%0A%20%20%20%20%20%20%20%20%20%20%20%20%20%20%20%20overlays%20%3A%20%7B%20%22Imagen%20L8%20C1%22%20%3A%20tile_layer_488d2baa3f6e4b00b1236c7c2972206a%2C%22Imagen%20L8%20C1%20reproyectado%22%20%3A%20tile_layer_a0112f2bd82748918746d431b66d643d%2C%20%7D%0A%20%20%20%20%20%20%20%20%20%20%20%20%20%20%20%20%7D%3B%0A%20%20%20%20%20%20%20%20%20%20%20%20L.control.layers%28%0A%20%20%20%20%20%20%20%20%20%20%20%20%20%20%20%20layer_control_2fadd771bb8948939487f39c8119be73.base_layers%2C%0A%20%20%20%20%20%20%20%20%20%20%20%20%20%20%20%20layer_control_2fadd771bb8948939487f39c8119be73.overlays%2C%0A%20%20%20%20%20%20%20%20%20%20%20%20%20%20%20%20%7Bposition%3A%20%27topright%27%2C%0A%20%20%20%20%20%20%20%20%20%20%20%20%20%20%20%20%20collapsed%3A%20true%2C%0A%20%20%20%20%20%20%20%20%20%20%20%20%20%20%20%20%20autoZIndex%3A%20true%0A%20%20%20%20%20%20%20%20%20%20%20%20%20%20%20%20%7D%29.addTo%28map_b08188cf015b4672a6e453a101026318%29%3B%0A%20%20%20%20%20%20%20%20%20%20%20%20%0A%20%20%20%20%20%20%20%20%0A%3C/script%3E onload=\"this.contentDocument.open();this.contentDocument.write(    decodeURIComponent(this.getAttribute('data-html')));this.contentDocument.close();\" allowfullscreen webkitallowfullscreen mozallowfullscreen></iframe></div></div>"
            ],
            "text/plain": [
              "<folium.folium.Map at 0x7f23f5642290>"
            ]
          },
          "metadata": {},
          "execution_count": 15
        }
      ]
    },
    {
      "cell_type": "markdown",
      "metadata": {
        "id": "rd3kvs_G7ojO"
      },
      "source": [
        "#### Radiación de onda corta entrante / Incoming Solar Radiation $R_{S\\downarrow}$ "
      ]
    },
    {
      "cell_type": "markdown",
      "metadata": {
        "id": "G-Rxk3W-Gu_o"
      },
      "source": [
        "$R_{S\\downarrow}$ : Radiación de onda corte entrante $[W/m²]$\n",
        "\n",
        "Morse et al. (2000)\n",
        "\n",
        "$$\n",
        "R_{S\\downarrow} = \\frac{G_{sc} \\cos\\theta_{rel} \\tau_{sw}}{d^2}\n",
        "$$\n",
        "\n",
        "Dónde:\n",
        "-\n",
        "- $G_{sc}$ : Constante solar $[1367 \\space W/m²]$ ✔️\n",
        "- $\\theta$ : Ángulo zenital solar / Ángulo de incidencia solar $[rad]$ ✔️ \n",
        "- $d^2$ : Cuadrado de la distancia relativa Tierra-Sol $[m^{-1}]$ ✔️ (OJO: en 2018 se menciona el inverso del cuadrado de la distancia relativa de tierra al sol)\n",
        "- $\\tau_{sw}$ : Es la transmitancia en un sentido con condiciones de claridad / Transmitancia de la banda ancha $[W/m² \\space K]$"
      ]
    },
    {
      "cell_type": "code",
      "metadata": {
        "id": "UvUkQTTcAvYr"
      },
      "source": [
        "image_ID.getInfo()"
      ],
      "execution_count": null,
      "outputs": []
    },
    {
      "cell_type": "code",
      "metadata": {
        "id": "J_E-xXlzAOi3"
      },
      "source": [
        "import math\n",
        "\n",
        "ang_zenital = image_ID.get('SOLAR_ZENITH_ANGLE').getInfo()*math.pi/180\n",
        "G_sc = 1367\n",
        "dr = 1/image_ID.get('EARTH_SUN_DISTANCE').getInfo()"
      ],
      "execution_count": null,
      "outputs": []
    },
    {
      "cell_type": "code",
      "metadata": {
        "id": "bmaBIxY3BO38"
      },
      "source": [
        "1/0.983642"
      ],
      "execution_count": null,
      "outputs": []
    },
    {
      "cell_type": "code",
      "metadata": {
        "id": "cesyiyAp90UG"
      },
      "source": [
        "# imagen = ee.Image('LANDSAT/LC08/C01/T1_SR/LC08_010065_20200116')\n",
        "zenitAngle = image.get('SOLAR_ZENITH_ANGLE').getInfo()\n",
        "zenitAngle"
      ],
      "execution_count": null,
      "outputs": []
    },
    {
      "cell_type": "code",
      "metadata": {
        "id": "5LH5JRYcQNpA"
      },
      "source": [
        "R_s_entrante = 1367*cos(zenitAngle)*d_r*tau_sw"
      ],
      "execution_count": null,
      "outputs": []
    },
    {
      "cell_type": "markdown",
      "metadata": {
        "id": "UYQ3izhANkBb"
      },
      "source": [
        "#### Radiación de onda larga saliente / Outgoing Long-Wave Radiation $R_{L\\uparrow}$ "
      ]
    },
    {
      "cell_type": "markdown",
      "metadata": {
        "id": "-1f9Hd9j9FQD"
      },
      "source": [
        "Outgoing long-wave radiation, RL↑, emitted from the surface is\n",
        "driven by surface temperature and surface emissivity. RL↑ is computed using the Stefan–Boltzmann equation"
      ]
    },
    {
      "cell_type": "markdown",
      "metadata": {
        "id": "OJUsxBsNNoab"
      },
      "source": [
        "Morse et al., 2000.\n",
        "\n",
        "$$\n",
        "R_{L\\downarrow} = \\epsilon_0 * \\sigma * T_{s}^{4}\n",
        "$$\n",
        "\n",
        "Dónde:\n",
        "- $R_{L\\downarrow}$ : Radiación de onda larga saliente $[W/m²]$\n",
        "- $\\epsilon_0$ : Emisividad del ancho de banda de la superficie\n",
        "- $\\sigma$ : Constante de Stefan-Boltzmann $(5.67*10^{-8}[W m^{-2}K^{-4}])$\n",
        "- $T_s$ : Temperatura de brillo de superficie $[K]$\n",
        "\n",
        "Para hallar la emisividad:\n",
        "\n",
        "$$\n",
        "\\epsilon_0 = 0.95 + 0.01 * LAI \\text{, cuando NDVI > 0 y LAI < 3} \n",
        "$$\n",
        "\n",
        "Dónde:\n",
        "- $\\text{LAI}$ : es el índice de área foliar\n",
        "- $\\text{NDVI}$ : El índice de vegetación de diferencia normalizada"
      ]
    },
    {
      "cell_type": "code",
      "metadata": {
        "id": "bHem_NzeQxrc"
      },
      "source": [
        "R_l_saliente = emisividad*(5.67*10**-8)*temp_brillo**4"
      ],
      "execution_count": null,
      "outputs": []
    },
    {
      "cell_type": "markdown",
      "metadata": {
        "id": "0Xw-izButbrM"
      },
      "source": [
        "#### Radiación de onda larga entrante / Incoming Long-Wave Radiation $R_{L\\downarrow}$"
      ]
    },
    {
      "cell_type": "markdown",
      "metadata": {
        "id": "0JvJ61pv7yMh"
      },
      "source": [
        "Incoming long-wave radiation is the downward thermal radiation\n",
        "flux originating from the atmosphere \u0001W m−2 and is traditionally\n",
        "computed using the Stefan–Boltzmann equation\n",
        "\n",
        "Bastiaansen et al. 1998:\n",
        "\n",
        "$$\n",
        "R_{L\\downarrow} = \\epsilon_a \\sigma T_{0 ref}^{4}\n",
        "$$\n",
        "\n",
        "Dónde:\n",
        "- $\\epsilon_a$ : Emisividad atmosférica efectiva\n",
        "- $\\sigma$ : Constante de Stefan-Boltzmann $(5.67*10^{-8} [W/m^{2}])$\n",
        "- $T_{0 ref}$ : Temperatura en un punto de referencia con buen riego / near-surface air temperature $[K]$\n",
        "\n",
        "> Ecuación empírica para $\\epsilon_a$ de Bastiaanssen (1995) aplicado con coeficientes desarrollados por Allen et al. (2000) con datos recolectados de **alfalfa** en Idaho:\n",
        "$$\n",
        "\\epsilon_a = 0.85(-\\ln{\\tau_{sw}})^{0.09}\n",
        "$$\n",
        "\n",
        "> The original coefficients\n",
        "by Bastiaanssen (1995), derived for western Egypt, were\n",
        "$$\n",
        "\\epsilon_a = 1.08 * (-\\ln{\\tau_{sw}})^{0.265}\n",
        "$$\n",
        "\n",
        "Dónde:\n",
        "- $R_{L\\downarrow}$ : Radiación de onda corta entrante\n",
        "- $\\tau_{sw}$ : Es la transmitancia en un sentido con condiciones de claridad\n",
        "\n"
      ]
    },
    {
      "cell_type": "markdown",
      "metadata": {
        "id": "g9KhWbqGteqW"
      },
      "source": [
        "#### Radiación neta de la superficie $R_n$"
      ]
    },
    {
      "cell_type": "markdown",
      "metadata": {
        "id": "7f_xsj2d7_5N"
      },
      "source": [
        "### 4.3. Flujo de calor del suelo / Soil Heat Flux $G$"
      ]
    },
    {
      "cell_type": "markdown",
      "metadata": {
        "id": "gZcNs-CPb3Hr"
      },
      "source": [
        "> **Forma 1**\n",
        ">\n",
        ">Choudhury, Idso y Reginato (1987) o Allen, Pereira, Raes y Smith (1998)\n",
        ">\n",
        ">$$\n",
        "G = 0.4 * \\mathrm{e}^{-0.5* \\text{LAI}} * R_n\n",
        "$$\n",
        ">\n",
        ">Dónde:\n",
        ">- $G$ : Flujo de calor del suelo $[W/m^{2}]$\n",
        ">- $\\text{LAI}$ : Índice de área foliar\n",
        ">- $R_n$ : Flujo de radiación neta $[W/m^{2}]$"
      ]
    },
    {
      "cell_type": "markdown",
      "metadata": {
        "id": "5vcVN4WodoQi"
      },
      "source": [
        "> **Forma 2**\n",
        ">\n",
        "> Despeje de la relación de calor almacenado en el suelo y vegetación debida a la conducción $R_n$, según Bastiaanssen (2000)\n",
        ">\n",
        ">$$\n",
        "\\frac{G}{R_n} = \\frac{T_s}{\\alpha}(0.0038\\alpha + 0.0074\\alpha^{2})(1-0.98*\\text{NDVI}^4) \n",
        "$$\n",
        "> Dónde:\n",
        "> - $\\frac{G}{R_n}$ : Relación del calor almacenado en suelo y vegetación\n",
        "> - $T_s$ : Temperatura de brillo de superficie $[K]$\n",
        "> - $\\alpha$ : Albedo de superficie\n",
        "> - $\\text{NDVI}$ : Índice de vegetación de diferencia normalizada"
      ]
    },
    {
      "cell_type": "markdown",
      "metadata": {
        "id": "qHCpaxgP8IYe"
      },
      "source": [
        "#### Momento de resistencia aerodinámica (MRA) o $Z_{om}$"
      ]
    },
    {
      "cell_type": "markdown",
      "metadata": {
        "id": "2594Jn0xe-6r"
      },
      "source": [
        "Chemin y Din Ahmad (2000), toman en cuenta las condiciones aerodinámicas de la vegetación la cual está en función de su altura y distribución espacial.\n",
        "\n",
        "$$\n",
        "Z_{om} = a + b*\\text{NDVI}\n",
        "$$\n",
        "\n",
        "Dónde:\n",
        "\n",
        "$$\n",
        "a = \\ln(0.02) - [b*(0.02)]\n",
        "$$\n",
        "\n",
        "$$\n",
        "b = \\frac{(\\text{NDVI}_{max}-0.02)}{\\ln(\\frac{h_v}{7}-\\ln(0.002)}\n",
        "$$\n",
        "\n",
        "- $\\text{NDVI}$ : Índice de vegetación de diferencia normalizada\n",
        "- $\\text{NDVI}_{max}$ : Valor local máximo del $\\text{NDVI}$\n",
        "- $h_v$ : altura promedio de la vegetación cuando se tiene $\\text{NDVI}_{max}$"
      ]
    },
    {
      "cell_type": "markdown",
      "metadata": {
        "id": "3-AP4MJA8QZm"
      },
      "source": [
        "#### Selección de pixel caliente y frío"
      ]
    },
    {
      "cell_type": "markdown",
      "metadata": {
        "id": "okRlIwdOgo56"
      },
      "source": [
        "Requisito para conocer el aporte de flujo de calor sensible $H$ en el modelo de balance, cada pixel con vegetación requerirá de conocer un gradiente de temperatura $\\delta T$ en referencia a su condición aerodinámica a fin de estimar la densidad de su aporte, esto se logra a partir de la relación lineal que guardan las temperaturas entre dos superficies extremas con características distintas. \n",
        "\n",
        "Se han propuesto metodologías para la selección de estos puntos extremos denominándose **pixel frío** y **pixel caliente**, donde: \n",
        "- un **pixel frío** representa una superficie con vegetación densa y húmeda, mientras \n",
        "- un **pixel caliente** representa una superficie seca sin vegetación. \n",
        "\n",
        "Según el método de Olmedo et al. (2016), la selección de estos dos parámetros puede llevarse sobre el área de estudio y localizarlos mediante el cumplimiento de una serie de condiciones sobre otros parámetros conocidos como se muestra a continuación:\n",
        "\n",
        "$\\space$\n",
        "\n",
        "$$\n",
        "\\text{pixel frio} = \n",
        "\\begin{cases}\n",
        "  \\begin{gather*}\n",
        "    3 \\le \\text{LAI} \\le 6 \\\\\n",
        "    0.18 \\le \\alpha \\le 0.25 \\\\\n",
        "    0.03 \\le Z_{0m} \\le 0.08 \\\\\n",
        "    \\text{NDVI} \\ge \\text{NDVI}_{max} - 0.15 \\\\\n",
        "    T_s < T_{max} - 5 \n",
        "  \\end{gather*}\n",
        "\\end{cases}\n",
        "$$\n",
        "\n",
        "$\\space$\n",
        "\n",
        "$$\n",
        "\\text{pixel caliente} = \n",
        "\\begin{cases}\n",
        "  \\begin{gather*}\n",
        "    0.13 \\le \\alpha \\le 0.15 \\\\\n",
        "    Z_{0m} \\le 0.005 \\\\\n",
        "    0.1 \\le \\text{NDVI} \\le 0.28 \\\\\n",
        "    T_s > T_{max} - 5\n",
        "  \\end{gather*}\n",
        "\\end{cases}\n",
        "$$\n",
        "\n",
        "Dónde:\n",
        "- $\\alpha$ : Es el albedo de superficie\n",
        "- $\\text{LAI}$ : Índice de área foliar\n",
        "- $Z_{0m}$ : Momento de resistencia aerodinámica o MRA\n",
        "- $\\text{NDVI}$ : Índice de vegetación de diferencia normalizada y máximo $\\text{NDVI}_{max}$\n",
        "- $T_s$ : Temperatura de superficie y máximo valor $T_{max}$\n"
      ]
    },
    {
      "cell_type": "markdown",
      "metadata": {
        "id": "cyMopDsO8TRp"
      },
      "source": [
        "### 4.4. Flujo de calor sensible / Sensible Heat Flux $H$"
      ]
    },
    {
      "cell_type": "markdown",
      "metadata": {
        "id": "y-fY4J_PpDl5"
      },
      "source": [
        "Bastiaanssen et al. (1998)\n",
        "\n",
        "$$\n",
        "H = \\frac{\\rho_a c_p \\delta{T_a}}{r_{ah}}\n",
        "$$\n",
        "\n",
        "$$\n",
        "H = \\rho_{air} C_p \\frac{dT}{r_{ah}}\n",
        "$$\n",
        "\n",
        "Dónde:\n",
        "- $H$ : Flujo de calor sensible $[W/m^{2}]$\n",
        "- $\\rho_a$ : Densidad del aire $[kg/m^{3}]$\n",
        "- $c_p$ : Calor específico del aire igual a $[1004 \\space J/kg/K]$\n",
        "- $\\delta{T_a}$ : Gradiente de temperatura $[°C]$\n",
        "- $r_{ah}$ : Resistencia aerodinámica al transporte de calor $[s/m]$ "
      ]
    },
    {
      "cell_type": "markdown",
      "metadata": {
        "id": "8v0tN1XP8XX8"
      },
      "source": [
        "### 4.5. $\\lambda{ET}$ y $ET$ instantánea"
      ]
    },
    {
      "cell_type": "markdown",
      "metadata": {
        "id": "Gk0wobkd8c8m"
      },
      "source": [
        "### 4.6. Evapotranspiración de cultivo $ET_c$ por día"
      ]
    },
    {
      "cell_type": "markdown",
      "metadata": {
        "id": "lhZSUDxOra0Z"
      },
      "source": [
        "La $ET_c$ diaria se puede calcular mediante la siguiente ecuación:\n",
        "\n",
        "$$\n",
        "ET_c[\\frac{mm}{d}] = C_{rad} * \\Lambda * ET_{24}\n",
        "$$"
      ]
    },
    {
      "cell_type": "markdown",
      "metadata": {
        "id": "baY1Wp3696B9"
      },
      "source": [
        "## 5. Pruebas\n",
        "\n",
        "- Pruebas realizadas durante la investigación."
      ]
    },
    {
      "cell_type": "markdown",
      "metadata": {
        "id": "yg1HNQzwCY8W"
      },
      "source": [
        "#### Diccionarios generados"
      ]
    },
    {
      "cell_type": "markdown",
      "metadata": {
        "id": "tBE4cKToH2Mm"
      },
      "source": [
        "Para darle buen formato a los diccionarios, usar:\n",
        "- [Python Formatter](https://codebeautify.org/python-formatter-beautifier)"
      ]
    },
    {
      "cell_type": "code",
      "metadata": {
        "id": "910dkZrpibST",
        "cellView": "form"
      },
      "source": [
        "# @markdown Diccionario Sentinel 2: `imgCol_dict`\n",
        "imgCol_dict = {\n",
        "    1: [\n",
        "        \"COPERNICUS/S2_SR/20200102T153611_20200102T153743_T17MPN\",\n",
        "        \"COPERNICUS/S2_SR/20200107T153619_20200107T154047_T17MPN\",\n",
        "        \"COPERNICUS/S2_SR/20200112T153611_20200112T153613_T17MPN\",\n",
        "        \"COPERNICUS/S2_SR/20200117T153619_20200117T153613_T17MPN\",\n",
        "        \"COPERNICUS/S2_SR/20200122T153611_20200122T153612_T17MPN\",\n",
        "        \"COPERNICUS/S2_SR/20200127T153609_20200127T153611_T17MPN\",\n",
        "    ],\n",
        "    2: [\n",
        "        \"COPERNICUS/S2_SR/20200201T153611_20200201T153611_T17MPN\",\n",
        "        \"COPERNICUS/S2_SR/20200206T153619_20200206T153613_T17MPN\",\n",
        "        \"COPERNICUS/S2_SR/20200211T153611_20200211T153626_T17MPN\",\n",
        "        \"COPERNICUS/S2_SR/20200216T153619_20200216T154305_T17MPN\",\n",
        "        \"COPERNICUS/S2_SR/20200221T153611_20200221T154337_T17MPN\",\n",
        "        \"COPERNICUS/S2_SR/20200226T153619_20200226T154119_T17MPN\",\n",
        "    ],\n",
        "    3: [\n",
        "        \"COPERNICUS/S2_SR/20200302T153611_20200302T153614_T17MPN\",\n",
        "        \"COPERNICUS/S2_SR/20200307T153619_20200307T153616_T17MPN\",\n",
        "        \"COPERNICUS/S2_SR/20200312T153621_20200312T153615_T17MPN\",\n",
        "        \"COPERNICUS/S2_SR/20200317T153619_20200317T154424_T17MPN\",\n",
        "        \"COPERNICUS/S2_SR/20200322T153621_20200322T154411_T17MPN\",\n",
        "        \"COPERNICUS/S2_SR/20200327T153619_20200327T154304_T17MPN\",\n",
        "    ],\n",
        "    4: [\n",
        "        \"COPERNICUS/S2_SR/20200401T153621_20200401T153901_T17MPN\",\n",
        "        \"COPERNICUS/S2_SR/20200406T153619_20200406T154234_T17MPN\",\n",
        "        \"COPERNICUS/S2_SR/20200411T153621_20200411T153910_T17MPN\",\n",
        "        \"COPERNICUS/S2_SR/20200416T153619_20200416T154403_T17MPN\",\n",
        "        \"COPERNICUS/S2_SR/20200421T153621_20200421T154337_T17MPN\",\n",
        "        \"COPERNICUS/S2_SR/20200426T153619_20200426T153904_T17MPN\",\n",
        "    ],\n",
        "    5: [\n",
        "        \"COPERNICUS/S2_SR/20200501T153621_20200501T153850_T17MPN\",\n",
        "        \"COPERNICUS/S2_SR/20200506T153619_20200506T153616_T17MPN\",\n",
        "        \"COPERNICUS/S2_SR/20200511T153621_20200511T154343_T17MPN\",\n",
        "        \"COPERNICUS/S2_SR/20200516T153619_20200516T153618_T17MPN\",\n",
        "        \"COPERNICUS/S2_SR/20200516T153619_20200516T154501_T17MPN\",\n",
        "        \"COPERNICUS/S2_SR/20200521T153631_20200521T154352_T17MPN\",\n",
        "        \"COPERNICUS/S2_SR/20200526T153619_20200526T154127_T17MPN\",\n",
        "        \"COPERNICUS/S2_SR/20200531T153631_20200531T153940_T17MPN\",\n",
        "    ],\n",
        "    6: [\n",
        "        \"COPERNICUS/S2_SR/20200605T153619_20200605T153834_T17MPN\",\n",
        "        \"COPERNICUS/S2_SR/20200610T153631_20200610T154258_T17MPN\",\n",
        "        \"COPERNICUS/S2_SR/20200615T153619_20200615T153722_T17MPN\",\n",
        "        \"COPERNICUS/S2_SR/20200620T153631_20200620T154446_T17MPN\",\n",
        "        \"COPERNICUS/S2_SR/20200625T153619_20200625T153621_T17MPN\",\n",
        "        \"COPERNICUS/S2_SR/20200625T153619_20200625T154504_T17MPN\",\n",
        "        \"COPERNICUS/S2_SR/20200630T153621_20200630T153946_T17MPN\",\n",
        "    ],\n",
        "    7: [\n",
        "        \"COPERNICUS/S2_SR/20200705T153619_20200705T153621_T17MPN\",\n",
        "        \"COPERNICUS/S2_SR/20200710T153621_20200710T154423_T17MPN\",\n",
        "        \"COPERNICUS/S2_SR/20200715T153619_20200715T153620_T17MPN\",\n",
        "        \"COPERNICUS/S2_SR/20200715T153619_20200715T154503_T17MPN\",\n",
        "        \"COPERNICUS/S2_SR/20200720T153621_20200720T154406_T17MPN\",\n",
        "        \"COPERNICUS/S2_SR/20200725T153619_20200725T153621_T17MPN\",\n",
        "        \"COPERNICUS/S2_SR/20200730T153631_20200730T154345_T17MPN\",\n",
        "    ],\n",
        "    8: [\n",
        "        \"COPERNICUS/S2_SR/20200804T153619_20200804T154255_T17MPN\",\n",
        "        \"COPERNICUS/S2_SR/20200809T153631_20200809T154345_T17MPN\",\n",
        "        \"COPERNICUS/S2_SR/20200814T153619_20200814T153738_T17MPN\",\n",
        "        \"COPERNICUS/S2_SR/20200819T153631_20200819T153625_T17MPN\",\n",
        "        \"COPERNICUS/S2_SR/20200824T153619_20200824T154230_T17MPN\",\n",
        "        \"COPERNICUS/S2_SR/20200829T153621_20200829T154210_T17MPN\",\n",
        "    ],\n",
        "    9: [\n",
        "        \"COPERNICUS/S2_SR/20200903T153619_20200903T154357_T17MPN\",\n",
        "        \"COPERNICUS/S2_SR/20200908T153621_20200908T154046_T17MPN\",\n",
        "        \"COPERNICUS/S2_SR/20200913T153619_20200913T153628_T17MPN\",\n",
        "        \"COPERNICUS/S2_SR/20200918T153621_20200918T153624_T17MPN\",\n",
        "        \"COPERNICUS/S2_SR/20200923T153619_20200923T153831_T17MPN\",\n",
        "        \"COPERNICUS/S2_SR/20200928T153621_20200928T153624_T17MPN\",\n",
        "    ],\n",
        "    10: [\n",
        "        \"COPERNICUS/S2_SR/20201003T153619_20201003T153759_T17MPN\",\n",
        "        \"COPERNICUS/S2_SR/20201008T153631_20201008T153625_T17MPN\",\n",
        "        \"COPERNICUS/S2_SR/20201013T153619_20201013T153807_T17MPN\",\n",
        "        \"COPERNICUS/S2_SR/20201018T153621_20201018T153841_T17MPN\",\n",
        "        \"COPERNICUS/S2_SR/20201023T153619_20201023T154139_T17MPN\",\n",
        "        \"COPERNICUS/S2_SR/20201028T153621_20201028T154210_T17MPN\",\n",
        "    ],\n",
        "    11: [\n",
        "        \"COPERNICUS/S2_SR/20201102T153619_20201102T154334_T17MPN\",\n",
        "        \"COPERNICUS/S2_SR/20201107T153621_20201107T154039_T17MPN\",\n",
        "        \"COPERNICUS/S2_SR/20201112T153619_20201112T154104_T17MPN\",\n",
        "        \"COPERNICUS/S2_SR/20201117T153621_20201117T154056_T17MPN\",\n",
        "        \"COPERNICUS/S2_SR/20201122T153619_20201122T154415_T17MPN\",\n",
        "        \"COPERNICUS/S2_SR/20201127T153621_20201127T154054_T17MPN\",\n",
        "    ],\n",
        "    12: [\n",
        "        \"COPERNICUS/S2_SR/20201202T153619_20201202T154414_T17MPN\",\n",
        "        \"COPERNICUS/S2_SR/20201207T153621_20201207T154054_T17MPN\",\n",
        "        \"COPERNICUS/S2_SR/20201212T153619_20201212T154111_T17MPN\",\n",
        "        \"COPERNICUS/S2_SR/20201222T153619_20201222T154433_T17MPN\",\n",
        "        \"COPERNICUS/S2_SR/20201227T153621_20201227T154110_T17MPN\",\n",
        "    ],\n",
        "}"
      ],
      "execution_count": null,
      "outputs": []
    },
    {
      "cell_type": "code",
      "metadata": {
        "cellView": "form",
        "id": "3L404Wb0DQhG"
      },
      "source": [
        "# @markdown Diccionario Landsat 8 TOA: `imgCol_dict`\n",
        "\n",
        "imgCol_dict = {\n",
        "    1: ['LANDSAT/LC08/C01/T1_TOA/LC08_010065_20200116'],\n",
        "    2: ['LANDSAT/LC08/C01/T1_TOA/LC08_010065_20200201',\n",
        "      'LANDSAT/LC08/C01/T1_TOA/LC08_010065_20200217'],\n",
        "    3: ['LANDSAT/LC08/C01/T1_TOA/LC08_010065_20200304',\n",
        "      'LANDSAT/LC08/C01/T1_TOA/LC08_010065_20200320'],\n",
        "    4: ['LANDSAT/LC08/C01/T1_TOA/LC08_010065_20200405',\n",
        "      'LANDSAT/LC08/C01/T1_TOA/LC08_010065_20200421'],\n",
        "    5: ['LANDSAT/LC08/C01/T1_TOA/LC08_010065_20200507',\n",
        "      'LANDSAT/LC08/C01/T1_TOA/LC08_010065_20200523'],\n",
        "    6: ['LANDSAT/LC08/C01/T1_TOA/LC08_010065_20200608',\n",
        "      'LANDSAT/LC08/C01/T1_TOA/LC08_010065_20200624'],\n",
        "    7: ['LANDSAT/LC08/C01/T1_TOA/LC08_010065_20200726'],\n",
        "    8: ['LANDSAT/LC08/C01/T1_TOA/LC08_010065_20200811',\n",
        "      'LANDSAT/LC08/C01/T1_TOA/LC08_010065_20200827'],\n",
        "    9: ['LANDSAT/LC08/C01/T1_TOA/LC08_010065_20200912',\n",
        "      'LANDSAT/LC08/C01/T1_TOA/LC08_010065_20200928'],\n",
        "    10: ['LANDSAT/LC08/C01/T1_TOA/LC08_010065_20201014',\n",
        "      'LANDSAT/LC08/C01/T1_TOA/LC08_010065_20201030'],\n",
        "    11: ['LANDSAT/LC08/C01/T1_TOA/LC08_010065_20201115'],\n",
        "    12: ['LANDSAT/LC08/C01/T1_TOA/LC08_010065_20201201']\n",
        " }\n",
        "\n",
        "# @markdown Diccionario Landsat 8 Raw Scenes: `imgCol_dict`\n",
        "\n",
        "imgCol_dict = {\n",
        "    1: ['LANDSAT/LC08/C01/T1/LC08_010065_20200116'],\n",
        "    2: ['LANDSAT/LC08/C01/T1/LC08_010065_20200201',\n",
        "      'LANDSAT/LC08/C01/T1/LC08_010065_20200217'],\n",
        "    3: ['LANDSAT/LC08/C01/T1/LC08_010065_20200304',\n",
        "      'LANDSAT/LC08/C01/T1/LC08_010065_20200320'],\n",
        "    4: ['LANDSAT/LC08/C01/T1/LC08_010065_20200405',\n",
        "      'LANDSAT/LC08/C01/T1/LC08_010065_20200421'],\n",
        "    5: ['LANDSAT/LC08/C01/T1/LC08_010065_20200507',\n",
        "      'LANDSAT/LC08/C01/T1/LC08_010065_20200523'],\n",
        "    6: ['LANDSAT/LC08/C01/T1/LC08_010065_20200608',\n",
        "      'LANDSAT/LC08/C01/T1/LC08_010065_20200624'],\n",
        "    7: ['LANDSAT/LC08/C01/T1/LC08_010065_20200726'],\n",
        "    8: ['LANDSAT/LC08/C01/T1/LC08_010065_20200811',\n",
        "      'LANDSAT/LC08/C01/T1/LC08_010065_20200827'],\n",
        "    9: ['LANDSAT/LC08/C01/T1/LC08_010065_20200912',\n",
        "      'LANDSAT/LC08/C01/T1/LC08_010065_20200928'],\n",
        "    10: ['LANDSAT/LC08/C01/T1/LC08_010065_20201014',\n",
        "      'LANDSAT/LC08/C01/T1/LC08_010065_20201030'],\n",
        "    11: ['LANDSAT/LC08/C01/T1/LC08_010065_20201115'],\n",
        "    12: ['LANDSAT/LC08/C01/T1/LC08_010065_20201201']\n",
        "}"
      ],
      "execution_count": null,
      "outputs": []
    },
    {
      "cell_type": "code",
      "metadata": {
        "id": "_3IuU7tZ1fNo",
        "cellView": "form"
      },
      "source": [
        "# @markdown Diccionario Landsat 7: `imgCol_dict_L7`\n",
        "\n",
        "imgCol_dict = {\n",
        "    1: ['LANDSAT/LE07/C01/T1_SR/LE07_010065_20200108',\n",
        "        'LANDSAT/LE07/C01/T1_SR/LE07_010065_20200124'],\n",
        "    2: ['LANDSAT/LE07/C01/T1_SR/LE07_010065_20200209',\n",
        "      'LANDSAT/LE07/C01/T1_SR/LE07_010065_20200225'],\n",
        "    3: ['LANDSAT/LE07/C01/T1_SR/LE07_010065_20200312',\n",
        "      'LANDSAT/LE07/C01/T1_SR/LE07_010065_20200328'],\n",
        "    4: ['LANDSAT/LE07/C01/T1_SR/LE07_010065_20200429'],\n",
        "    5: ['LANDSAT/LE07/C01/T1_SR/LE07_010065_20200515',\n",
        "      'LANDSAT/LE07/C01/T1_SR/LE07_010065_20200531'],\n",
        "    6: [],\n",
        "    7: ['LANDSAT/LE07/C01/T1_SR/LE07_010065_20200702',\n",
        "      'LANDSAT/LE07/C01/T1_SR/LE07_010065_20200718'],\n",
        "    8: ['LANDSAT/LE07/C01/T1_SR/LE07_010065_20200803',\n",
        "      'LANDSAT/LE07/C01/T1_SR/LE07_010065_20200819'],\n",
        "    9: ['LANDSAT/LE07/C01/T1_SR/LE07_010065_20200904',\n",
        "      'LANDSAT/LE07/C01/T1_SR/LE07_010065_20200920'],\n",
        "    10: ['LANDSAT/LE07/C01/T1_SR/LE07_010065_20201006',\n",
        "      'LANDSAT/LE07/C01/T1_SR/LE07_010065_20201022'],\n",
        "    11: ['LANDSAT/LE07/C01/T1_SR/LE07_010065_20201107',\n",
        "      'LANDSAT/LE07/C01/T1_SR/LE07_010065_20201123'],\n",
        "    12: ['LANDSAT/LE07/C01/T1_SR/LE07_010065_20201209',\n",
        "      'LANDSAT/LE07/C01/T1_SR/LE07_010065_20201225']\n",
        "  }"
      ],
      "execution_count": null,
      "outputs": []
    },
    {
      "cell_type": "markdown",
      "metadata": {
        "id": "YD_ZfHHBcM5F"
      },
      "source": [
        "#### Obtener fechas "
      ]
    },
    {
      "cell_type": "markdown",
      "metadata": {
        "id": "6xPE-9TBcRDQ"
      },
      "source": [
        "Otra forma de obtener fechas\n",
        "\n",
        "- Desventaja: Requiere `pprint` para una mejor visualización del resultado (lista)."
      ]
    },
    {
      "cell_type": "code",
      "metadata": {
        "id": "tmbanCyddnga"
      },
      "source": [
        "# Cargar una imagen Landsat 5 TM\n",
        "collection = ee.ImageCollection(\"LANDSAT/LT05/C01/T1\")\\\n",
        "               .filterDate(\"2009-01-01\",\"2010-01-01\")\\\n",
        "               .filterMetadata('WRS_PATH', 'equals', 3)\\\n",
        "               .filterMetadata('WRS_ROW', 'equals', 68)"
      ],
      "execution_count": null,
      "outputs": []
    },
    {
      "cell_type": "code",
      "metadata": {
        "id": "mK5Hp34tcRki"
      },
      "source": [
        "# Funcion de extraer fecha\n",
        "from pprint import pprint\n",
        "def list_coll(coll):\n",
        "  '''\n",
        "  https://developers.google.com/earth-engine/apidocs/ee-date-format?hl=en\n",
        "  '''\n",
        "  func_ejv = lambda img: ee.String(ee.Image(img).date().format('YYYY-MM-dd H:mm:ss')).slice(0)\n",
        "  return pprint(coll.toList(coll.size(), 0).map(func_ejv).getInfo())\n",
        "\n",
        "# Problema: Retorna las fechas "
      ],
      "execution_count": null,
      "outputs": []
    },
    {
      "cell_type": "code",
      "metadata": {
        "id": "GQj3aOR22CSQ"
      },
      "source": [
        "list_coll(collection)"
      ],
      "execution_count": null,
      "outputs": []
    },
    {
      "cell_type": "markdown",
      "metadata": {
        "id": "NUc4yLDNnBRo"
      },
      "source": [
        "# Bibliografía\n",
        "\n",
        "- Links de interés"
      ]
    },
    {
      "cell_type": "markdown",
      "metadata": {
        "id": "Zb28mTzLNUBh"
      },
      "source": [
        "- Allen, R. G. (2007). Satellite-Based Energy Balance for Mapping Evapotranspiration with Internalized Calibration (METRIC) - Model. Journal of Irrigation and Drainage Engineering, 133 (Noviembre 2015), 380-394. DOI: 10.1061/(ASCE)0733-9437(2007)133.\n",
        "- Kilic, A., Allen, R., Huntington, J., y Ozturk, D. (2018). Earth Engine Evapotranspiration Flux v.0.10.4. Recuperado el 1 de julio de 2018, a partir de http://eeflux-level1.appspot.com/"
      ]
    },
    {
      "cell_type": "markdown",
      "metadata": {
        "id": "GJFKLCUnK5mg"
      },
      "source": [
        "**Búsquedas de METRIC Evapotranspiration**\n",
        "\n",
        "- [Búsqueda en *ScienceDirect*: METRIC Evapotranspiration](https://www.sciencedirect.com/search?qs=metric%20evapotranspiration)\n",
        "- [Búsqueda en *MDPI*: METRIC Evapotranspiration](https://www.mdpi.com/search?q=metric+evapotranspiration)"
      ]
    },
    {
      "cell_type": "markdown",
      "metadata": {
        "id": "wip4FzysnJbu"
      },
      "source": [
        "- [NASA Evapotranspiration Data Products and Applications](http://www.cazalac.org/mwar_lac/fileadmin/imagenes2/Remote_Sensing/S4P1_light.pdf)\n",
        "\n",
        "Seguimiento de Metodología:\n",
        "\n",
        "> [ConectedPapers - 2007: Satellite-Based Energy Balance for Mapping Evapotranspiration with Internalized Calibration (METRIC) — Model](https://www.connectedpapers.com/main/817edad756d41499da26498e71c85afaa884383a/SatelliteBased-Energy-Balance-for-Mapping-Evapotranspiration-with-Internalized-Calibration-METRICModel/graph)\n",
        "\n",
        "- **PRINCIPAL** [2007: Satellite-Based Energy Balance for Mapping Evapotranspiration with Internalized Calibration (METRIC) — Model](http://cursosihlla.bdh.org.ar/ET_UNCu_Cursos/Curso_2019/1_Lectura_recomendada/2007_Allen_METRIC_Satellite-Based_Energy_Balance_for_Mapping_Evapotr.pdf) \n",
        "- [2019: Estimación de la evapotranspiración de cultivo de maíz bajo riego mediante percepción remota](http://repositorio.imta.mx/handle/20.500.12013/2065)\n",
        "- [2018: Estimación de la evapotranspiración en los cultivos alrededor del observatorio de Huancayo mediante sensoramiento remoto](https://repositorio.igp.gob.pe/handle/20.500.12816/4631)\n",
        "\n",
        "<img src='https://mms.businesswire.com/media/20180706005099/en/666704/4/INTECHOPEN_LOGO_RED_RGB.jpg?download=1' width=4%>IntechOpen:\n",
        "- [2011: Operational Remote Sensing of ET and Challenges](https://www.intechopen.com/books/evapotranspiration-remote-sensing-and-modeling/operational-remote-sensing-of-et-and-challenges)\n",
        "- [2018: Influence of Landsat Revisit Frequency on Time-Integration of Evapotranspiration for Agricultural Water Management](https://www.intechopen.com/books/advanced-evapotranspiration-methods-and-applications/influence-of-landsat-revisit-frequency-on-time-integration-of-evapotranspiration-for-agricultural-wa)\n"
      ]
    },
    {
      "cell_type": "markdown",
      "metadata": {
        "id": "tBf7JkZ864Fy"
      },
      "source": [
        "\n",
        "\n",
        "Investigadores de ETP:\n",
        "\n",
        "- [Richard Allen: University of Idaho](https://www.uidaho.edu/cals/soil-and-water-systems/our-people/richard-allen)\n",
        "- [Ayse Kilic: University of Nebraska - Lincoln](https://engineering.unl.edu/civil/ayse-kilic/)\n"
      ]
    },
    {
      "cell_type": "markdown",
      "metadata": {
        "id": "F3WHOXXBXc9T"
      },
      "source": [
        "- [2017: Calibration of METRIC Model to Estimate Energy Balance over a Drip-Irrigated Apple Orchard](https://www.mdpi.com/2072-4292/9/7/670/htm)\n",
        "- [2019: LandMOD ET mapper: A new matlab-based graphical user interface (GUI) for automated implementation of SEBAL and METRIC models in thermal imagery](https://www.sciencedirect.com/science/article/abs/pii/S1364815219301203)"
      ]
    },
    {
      "cell_type": "markdown",
      "metadata": {
        "id": "JclVJcRPl-_Z"
      },
      "source": [
        "**Recursos de $\\LaTeX$ empleados**\n",
        "- [LaTex mathematics for equations](https://en.wikibooks.org/wiki/LaTeX/Mathematics)\n",
        "- [Overleaf - Aligning equations with amsmath](https://www.overleaf.com/learn/latex/Aligning_equations_with_amsmath)\n",
        "- [Wumbo - Mathematical Symbols](https://wumbo.net/symbols/)\n",
        "\n"
      ]
    },
    {
      "cell_type": "markdown",
      "metadata": {
        "id": "O0FtNk7ael2g"
      },
      "source": [
        "**Tutoriales**\n",
        "- [Conversión de valores de ND a radiancia](https://www.youtube.com/watch?v=kRN1ekslBH0&list=PLkMtpdwUewHG5JvNoZbOL7-c6_EXoS_UI)"
      ]
    },
    {
      "cell_type": "code",
      "metadata": {
        "cellView": "form",
        "id": "gowzboiabD_j"
      },
      "source": [
        "# @markdown Typical Landsat Collection 2 Product Generation\n",
        "%%html\n",
        "<p align='center'>\n",
        "  <img src='https://prd-wret.s3.us-west-2.amazonaws.com/assets/palladium/production/s3fs-public/thumbnails/image/Landsat%20Collection%202%20timeline-web.jpg' width='90%'>\n",
        "</p>"
      ],
      "execution_count": null,
      "outputs": []
    },
    {
      "cell_type": "markdown",
      "metadata": {
        "id": "oGYXc39YXmRl"
      },
      "source": [
        "https://pubs.usgs.gov/sir/2017/5087/sir20175087.pdf\n",
        "- Lista de principales símbolos y acrónimos para evapotranspiración: [FAO](http://www.fao.org/3/X0490E/x0490e03.htm#list%20of%20principal%20symbols%20and%20acronyms)"
      ]
    }
  ]
}
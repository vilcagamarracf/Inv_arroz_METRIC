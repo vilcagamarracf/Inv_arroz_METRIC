{
  "nbformat": 4,
  "nbformat_minor": 0,
  "metadata": {
    "colab": {
      "name": "Inv-Arroz-METRIC.ipynb",
      "provenance": [],
      "collapsed_sections": [
        "PHotkTXtW47T",
        "thQr5-rLYC2O",
        "41B61w3Ujf6p",
        "b_w55-TxChG4",
        "aI6TB-2lU8A8",
        "L_GKo2ORC5pf",
        "1DOUJEfS7dSf",
        "rd3kvs_G7ojO",
        "UYQ3izhANkBb",
        "0Xw-izButbrM",
        "g9KhWbqGteqW",
        "7f_xsj2d7_5N",
        "qHCpaxgP8IYe",
        "3-AP4MJA8QZm",
        "cyMopDsO8TRp",
        "8v0tN1XP8XX8",
        "Gk0wobkd8c8m",
        "NUc4yLDNnBRo",
        "VspYZc97UA-S",
        "yg1HNQzwCY8W",
        "YD_ZfHHBcM5F"
      ],
      "authorship_tag": "ABX9TyN2eQQIpl/npzssLDc5r7Ge",
      "include_colab_link": true
    },
    "kernelspec": {
      "name": "python3",
      "display_name": "Python 3"
    },
    "language_info": {
      "name": "python"
    }
  },
  "cells": [
    {
      "cell_type": "markdown",
      "metadata": {
        "id": "view-in-github",
        "colab_type": "text"
      },
      "source": [
        "<a href=\"https://colab.research.google.com/github/vilcagamarracf/Inv_arroz_METRIC/blob/main/Inv_Arroz_METRIC.ipynb\" target=\"_parent\"><img src=\"https://colab.research.google.com/assets/colab-badge.svg\" alt=\"Open In Colab\"/></a>"
      ]
    },
    {
      "cell_type": "markdown",
      "metadata": {
        "id": "9EDnXVzkgncn"
      },
      "source": [
        "<center>\n",
        "<img src=\"https://github.com/vilcagamarracf/Inv_arroz_METRIC/blob/main/Github%20Cover%20-%20METRIC.png?raw=true\"/>\n",
        "<h1>Aplicación del modelo METRIC en cultivos de Arroz, Lambayeque</h1>\n",
        "<h2> Investigación 2021 </h2>\n",
        "</center>\n",
        "\n",
        "**Information about this project**\n",
        "```\n",
        "FILE          : Inv-Arroz-METRIC.ipynb\n",
        "AUTHOR        : Cesar Francisco Vilca Gamarra \n",
        "EMAIL         : vilcagamarracf@gmail.com \n",
        "ORGANIZATION  : UNALM \n",
        "CREATION DATE : April 29, 2021 \n",
        "DEPENDENCIES  : earthengine-api, os, folium, pandas, matplotlib, numpy ...  \n",
        "PURPOSE       : Download Landsat Products to estimate spatial ET\n",
        "```\n"
      ]
    },
    {
      "cell_type": "markdown",
      "metadata": {
        "id": "P5WX8WX9wXhv"
      },
      "source": [
        "# Descripción"
      ]
    },
    {
      "cell_type": "markdown",
      "metadata": {
        "id": "9AYBN_d4-CVw"
      },
      "source": [
        "> En esta libreta se realizará la exploración, selección y procesamiento de imágenes satelitales del producto Landsat8 SR usando Google Earth Engine en Google Colab (Python) con el objetivo de replicar el modelo METRIC en cultivos de arroz para un área de estudio en el departamento de Lambayeque."
      ]
    },
    {
      "cell_type": "markdown",
      "metadata": {
        "id": "xGs4VR0LjI6v"
      },
      "source": [
        "**Problemática**\n",
        "\n",
        "- Estimación de ET común:\n",
        "  $$\n",
        "  \\text{ET} = \\text{ET}_{ref} * K_c\n",
        "  $$\n",
        "  Dónde:\n",
        "  - $\\text{ET}$ : Evapotranspiración\n",
        "  - $\\text{ET}_{ref}$ : Evapotranspiración de referencia basada en el clima\n",
        "  - $K_c$: Coeficiente de cultivo (de acuerdo al tipo y etapa de crecimiento)\n",
        "\n",
        "- Dificultades de la estimación común:\n",
        "  - Confiabilidad de usar valores idealizados de $K_c$ ya que se generaron para ciertas condiciones reales de crecimiento y vegetación.\n",
        "  Identificación de etapas vegetativas y condiciones de crecimiento para comparación con valores de $K_c$\n",
        "  - Predicción correcta de fechas según etapa de crecimiento para cultivos de grandes extensiones (ya que \n",
        "\n",
        "- Una solución:\n",
        "  - **Los satélites son capaces de obtener información espacial de evapotranspiración de numerosas extensiones a partir de técnicas de balance de energía.**  \n",
        "\n",
        "  > Estimación de la evapotranspiración de los cultivos bajo riego mediante imágenes de sensores remotos (tipo de sensor y bandas del espectro electromagnético)\n"
      ]
    },
    {
      "cell_type": "markdown",
      "metadata": {
        "id": "cFOuSA-mGHv6"
      },
      "source": [
        "**Importancia**\n",
        "\n",
        "- La evapotranspiración (ET) es un componente esencial en modelos hidrológicos y de circulación general.\n",
        "- Es usado para inferir la humedad del suelo, como dato de entrada para pronósticos climáticos y de inundaciones.\n",
        "\n"
      ]
    },
    {
      "cell_type": "markdown",
      "metadata": {
        "id": "4JO-Vf5fv3iT"
      },
      "source": [
        "**Métodos**\n",
        "\n",
        "En [Operational Remote Sensing of ET and Challenges (2011)](https://www.intechopen.com/books/evapotranspiration-remote-sensing-and-modeling/operational-remote-sensing-of-et-and-challenges) se menciona a Kalma et al. (2008), donde reunen las **metodologías existentes** para estimar la evapotranspiración de los cultivos usando Teledetección, tales como:\n",
        "  - **Balance Energético de la Superficie**\n",
        "  - Métodos estadísticos que utilizan diferencias entre la temperatura de la superficie y el aire\n",
        "  - Correlaciones simplificadas o relaciones entre extremos de temperatura superficial de una imagen y puntos finales del ET anticipado\n",
        "  - ET relativa basada en la vegetación que se multiplica por una ET de referencia basada en el tiempo"
      ]
    },
    {
      "cell_type": "markdown",
      "metadata": {
        "id": "nEceLEfPmiMI"
      },
      "source": [
        "**Métodos: Balance Energético de la Superficie**\n",
        "\n",
        "Se subdivide en:\n",
        "-  Balance energético completo para la imagen satelital: \n",
        "    \\begin{equation}\\lambda{E}=R_n - G -H \\end{equation}\n",
        "     dónde:\n",
        "     - $\\lambda{E}$ es la densidad latente del flujo térmico, representando la energía \"consumida\" por la evaporación del agua, \n",
        "     - $R_n$ es la densidad neta del flujo de radiación, \n",
        "     - $G$ es la densidad del flujo de calor del suelo, y \n",
        "     - $H$ es la densidad sensible del flujo de calor al aire.\n",
        "- Índice de estrés hídrico basado en la temperatura superficial y las cantidades de vegetación. \n",
        "- Aplicación de un Modelo Continuo de Superficie Terrestre (MSL) que se inicializa parcialmente y avanzado, en el tiempo, utilizando imágenes satelitales\n",
        "\n",
        "Todas las metodologías anteriormente mencionadas solamente trabajan sobre imágenes disponibles y dependiendo de la revisita del mismo, quedan vacíos de información entre imágenes."
      ]
    },
    {
      "cell_type": "markdown",
      "metadata": {
        "id": "bTI617Ba00xK"
      },
      "source": [
        "**Modelo METRIC** \n",
        "\n",
        "> METRIC uses TIR-Multispectral satellite images (e.g., from Landsat 7 ETM+ and 8 OLI) and\n",
        "ground-based meteorological data to estimate pixel-based daily ETa at 30 × 30 m spatial resolution via a surface energy balance equation at the time of the satellite overpass \n",
        "\n",
        "<center>\n",
        "<img src= 'https://external-content.duckduckgo.com/iu/?u=https%3A%2F%2Fimage.slideserve.com%2F327001%2Fhow-metric-works6-l.jpg&f=1&nofb=1' width=50%/>\n",
        "</center>\n",
        "\n",
        "Datos principales:\n",
        "- Short-wave and long-wave thermal images from a satellite (e.g., Landsat\n",
        "and MODIS)\n",
        "- A digital elevation model\n",
        "- Ground-based weather data measured within or near the area of interest"
      ]
    },
    {
      "cell_type": "markdown",
      "metadata": {
        "id": "x8uX4Xnji8SW"
      },
      "source": [
        "# METRIC con Earth Engine en Colab"
      ]
    },
    {
      "cell_type": "markdown",
      "metadata": {
        "id": "GD7Ii-GoX6W1"
      },
      "source": [
        "## 1. Inicio\n",
        "\n",
        "- Credenciales \n",
        "- Librerías y Funciones \n",
        "- ROI Lambayeque"
      ]
    },
    {
      "cell_type": "code",
      "metadata": {
        "cellView": "form",
        "id": "XHbIqVJh08-z"
      },
      "source": [
        "#@markdown *Ingresa tus credenciales de Google Earth Engine para comenzar*\n",
        "import ee\n",
        "\n",
        "# Login\n",
        "ee.Authenticate()\n",
        "\n",
        "# Inicio\n",
        "ee.Initialize()\n",
        "\n",
        "# Mensaje de login\n",
        "print('\\nYa estás logeado.')\n",
        "print('GEE Version:',ee.__version__)"
      ],
      "execution_count": null,
      "outputs": []
    },
    {
      "cell_type": "code",
      "metadata": {
        "id": "SJ6adBwQLhpA",
        "cellView": "form"
      },
      "source": [
        "# @markdown Importar librerías, funciones y más:\n",
        "# @markdown - `mapdisplay`: Variable global: `mapViz`\n",
        "# @markdown - `ee_get_dates`\n",
        "# @markdown - `conv_fecha`\n",
        "# @markdown - `ver_rangos`\n",
        "# @markdown - `create_dateranges`\n",
        "\n",
        "# mapdisplay ----------------------------------------\n",
        "import folium \n",
        "def mapdisplay(center, dicc, Tiles=\"OpensTreetMap\",zoom_start=10):\n",
        "    '''\n",
        "    Crea mapas interactivos usando la librería `folium`\n",
        "\n",
        "    - `center`: Center of the map (Latitude and Longitude) (`list`)\n",
        "    - `dicc`: Earth Engine Geometries or Tiles dictionary (`dict`)\n",
        "    - `Tiles=`: \n",
        "    Mapbox Bright \n",
        "    Mapbox Control Room\n",
        "    Stamen Terrain\n",
        "    Stamen Toner\n",
        "    stamenwatercolor\n",
        "    cartodbpositron\n",
        "    - `zoom_start=`: Initial zoom level for the map (`int`)\n",
        "\n",
        "    Return: A folium.Map object\n",
        "    '''\n",
        "    # Centrado de imagen (El [::-1] lee inversamente la lista)\n",
        "    center = center[::-1]\n",
        "\n",
        "    # Agregando parámetros de visualización\n",
        "    global mapViz\n",
        "    mapViz = folium.Map(\n",
        "        location=center,\n",
        "        tiles=Tiles, zoom_start=zoom_start, control_scale=True)\n",
        "\n",
        "    # Seteando la visualización de Images\n",
        "    for k,v in dicc.items():\n",
        "      if ee.image.Image in [type(x) for x in v.values()]:\n",
        "        folium.TileLayer(tiles = v[\"tile_fetcher\"].url_format,\n",
        "                         attr  = 'Google Earth Engine',\n",
        "                         overlay =True,\n",
        "                         name  = k).add_to(mapViz)\n",
        "      else:\n",
        "        folium.GeoJson(data = v,\n",
        "                       name = k).add_to(mapViz)\n",
        "    # Agregar: Minimapa\n",
        "    # from folium.plugins import MiniMap\n",
        "    # minimap = MiniMap(\n",
        "    #     tile_layer=\"OpensTreetMap\", \n",
        "    #     position=\"bottomright\", \n",
        "    #     zoom_level_fixed=4)\n",
        "    # mapViz.add_child(minimap) # https://nbviewer.jupyter.org/github/python-visualization/folium/blob/master/examples/MiniMap.ipynb\n",
        "\n",
        "    # Fullscreen (no funciona en colab)\n",
        "    # plugins.Fullscreen().add_to(mapViz)\n",
        "\n",
        "    # Agregando el control de layers\n",
        "    mapViz.add_child(folium.LayerControl())\n",
        "    return mapViz\n",
        "print('mapdisplay(center, dicc, Tiles=\"OpensTreetMap\",zoom_start=10) listo!')\n",
        "\n",
        "\n",
        "# ee_get_dates ----------------------------------------\n",
        "from datetime import datetime as dt\n",
        "def ee_get_dates(ic):\n",
        "  \"\"\"\n",
        "  Permite obtener información de la Fecha y Hora de toma de imágen por el satélite.\n",
        "  - ic: `ee.ImageCollection()`\n",
        "  \"\"\"\n",
        "  dates = ic.aggregate_array('system:time_start').getInfo()\n",
        "  anonym = lambda x: dt.utcfromtimestamp(x/1000).strftime('%Y-%m-%d %H:%M:%S')\n",
        "  return list(map(anonym, dates))\n",
        "print('ee_get_dates(ic) listo!')\n",
        "\n",
        " \n",
        "# conv_fecha ----------------------------------------\n",
        "def conv_fecha(img, exact=None):\n",
        "  '''\n",
        "  Obtener fecha con formato YYYY-MM-dd H:mm:ss\n",
        "  img: ee.Image\n",
        "  '''\n",
        "  if exact==True:\n",
        "    return img.date().format('YYYY-MM-dd').getInfo()\n",
        "  else:\n",
        "    return img.date().format('YYYY-MM-dd H:mm:ss').getInfo()\n",
        "print('conv_fecha(img, getInfo=None) listo!')\n",
        "\n",
        "\n",
        "# ver_rangos ----------------------------------------\n",
        "\n",
        "Start_date = '2012-01-01'\n",
        "End_date   = '2021-01-31'\n",
        "range_date = [Start_date, End_date]\n",
        "\n",
        "def ver_rangos(img_col, range_date= [Start_date, End_date]):\n",
        "  \"\"\"\n",
        "  Devuelve los rangos de fechas existente en un rango inicial escrito manualmente como input.\n",
        "  Pasos:\n",
        "  1. `Reducer.minMax()` devuelve un valor min y max\n",
        "  2. `icol.reduceColumns()` devuelve un diccionario con el min-max\n",
        "  more info: https://developers.google.com/earth-engine/apidocs/ee-imagecollection-reducecolumns?hl=en\n",
        "  \"\"\"\n",
        "  \n",
        "  rango = img_col.reduceColumns(ee.Reducer.minMax(), [\"system:time_start\"]) # Retorna un ee.dictionary: {'max': 1608132402761, 'min': 1545060401000}\n",
        "\n",
        "  # Obtención de la fecha min y max del image collection en formato ISO standard 8601\n",
        "  # Javascript trabaja las fechas con milisegundos (se deja así)\n",
        "  # Python     trabaja las fechas con segundos (por eso /1000)\n",
        "  init_date = ee.Date(rango.get('min')).getInfo()['value']/1000.\n",
        "  last_date = ee.Date(rango.get('max')).getInfo()['value']/1000.\n",
        "\n",
        "  # Dar formato a las fechas  \n",
        "  from datetime import datetime as dt\n",
        "  init_date_f = dt.utcfromtimestamp(init_date).strftime('%Y-%m-%d') # %H:%M:%S\n",
        "  last_date_f = dt.utcfromtimestamp(last_date).strftime('%Y-%m-%d') # %H:%M:%S\n",
        "  \n",
        "  # Obtenga el rango de fechas de las imágenes en la colección.\n",
        "  range_date = [Start_date, End_date]\n",
        "  print('Total imágenes: {}'.format(img_col.size().getInfo()))\n",
        "  print('Rango Temporal Ingresado : {} - {}'.format(range_date[0], range_date[1]))\n",
        "  print('Rango Temporal Real      : {} - {}'.format(init_date_f, last_date_f))\n",
        "print('ver_rangos(icol, range_date= [Start_date, End_date]) listo!')\n",
        "\n",
        "\n",
        "# create_dateranges ----------------------------------------\n",
        "def create_dateranges(init_date, time, range_1, range_2):\n",
        "  '''\n",
        "  init_date: '20XX' for monthly dates, '20XX-XX' for daily dates(string)\n",
        "  time: 'year', 'month', 'day' (string)\n",
        "  range_1: 1, ... 12 for monthly values (int)\n",
        "  range_2: 1, ... 13 for monthly values (int)\n",
        "\n",
        "  Returns a date ranges in a list form.\n",
        "  '''\n",
        "  ranges = []\n",
        "  def create_dates(date, plus_time):\n",
        "     ''' \n",
        "     init_date: string values only, example:  '2013-1'\n",
        "     time: 'year', 'month', 'day'\n",
        "  \n",
        "     more info: https://developers.google.com/earth-engine/apidocs/ee-date-getrange\n",
        "     '''\n",
        "     var_time = ee.Date(date).getRange(plus_time).getInfo().get('dates')\n",
        "  \n",
        "     from datetime import datetime as dt #-%d\n",
        "     Start_Date = dt.utcfromtimestamp(var_time[0]/1000).strftime('%Y-%m')\n",
        "     End_Date   = dt.utcfromtimestamp(var_time[1]/1000).strftime('%Y-%m')\n",
        "     return  [Start_Date, End_Date, i-1]\n",
        "  \n",
        "  for i in range(range_1, range_2+1):\n",
        "    ranges.append(create_dates(init_date+'-'+str(i), time))\n",
        "  return ranges\n",
        "print('create_dateranges(init_date, time, range_1, range_2) listo!')"
      ],
      "execution_count": null,
      "outputs": []
    },
    {
      "cell_type": "code",
      "metadata": {
        "id": "fWlSyVJAkGnF",
        "cellView": "form"
      },
      "source": [
        "# @markdown *Shapefile del Departamento de Lambayeque*\n",
        "# @markdown ```\n",
        "# @markdown Variables\n",
        "# @markdown shpPeru  : FeatureCollection Perú\n",
        "# @markdown shpDep   : FeatureCollection Lambayeque\n",
        "# @markdown \n",
        "# @markdown roiPeru, roiDep              # geometry\n",
        "# @markdown centroidPeru, centroidRoi    # centroides\n",
        "# @markdown \n",
        "# @markdown Coordenadas:\n",
        "# @markdown - Chongoyape: [-79.389, -6.639]\n",
        "# @markdown - Oyotún    : [-79.309, -6.846]\n",
        "# @markdown ```\n",
        "\n",
        "# 24 Departamentos del Perú\n",
        "shpPeru = ee.FeatureCollection('users/CesarVilca/Departamentos_Peru')\n",
        "\n",
        "# Departamento de Lambayeque\n",
        "shpDep = shpPeru.filter(ee.Filter.eq('NOMBDEP', 'LAMBAYEQUE'))\n",
        "\n",
        "# Geometrías\n",
        "roiPeru = shpPeru.geometry()\n",
        "roiDep  = shpDep.geometry()\n",
        "\n",
        "# Centroides\n",
        "centroidPeru = roiPeru.centroid().coordinates().getInfo()   \n",
        "centroidDep = roiDep.centroid().coordinates().getInfo()\n",
        "\n",
        "# Visualización de FeatureCollection con .draw\n",
        "# https://htmlcolors.com/ para modificar el color\n",
        "roiPeruDraw = shpPeru.draw(\n",
        "    color = \"000000\", strokeWidth = 2, pointRadius = 2) \n",
        "roiDepDraw  = shpDep.draw(\n",
        "    color = \"00FF00\", strokeWidth = 2, pointRadius = 2) \n",
        "\n",
        "# dicc_viz1 = {\n",
        "#     'Perú': roiPeruDraw.getMapId(),\n",
        "#     'Lambayeque': roiDepDraw.getMapId(),\n",
        "#     }  \n",
        "    \n",
        "# mapdisplay(centroidDep, dicc_viz1, zoom_start=9)\n",
        "\n",
        "print('Zona de estudio lista!')"
      ],
      "execution_count": null,
      "outputs": []
    },
    {
      "cell_type": "markdown",
      "metadata": {
        "id": "PHotkTXtW47T"
      },
      "source": [
        "## 2. Exploración de dataset \"Landsat 8 Surface Reflectance\"\n",
        "\n",
        "- Visualización rápida de imágenes de la base de datos Landsat8 en Earth Engine"
      ]
    },
    {
      "cell_type": "markdown",
      "metadata": {
        "id": "Julub6gJF0xw"
      },
      "source": [
        "Para visualizar rápidamente imágenes landsat que abarquen un territorio usar:\n",
        "- [GEO GPS PERÚ: Ubica el PATH y ROW de tu distrito para imágenes LANDSAT](https://www.geogpsperu.com/2016/02/ubica-el-path-y-row-de-tu-distrito-para.html)"
      ]
    },
    {
      "cell_type": "code",
      "metadata": {
        "id": "_Or-DdlMuRsi",
        "cellView": "form"
      },
      "source": [
        "# @markdown **Prueba**: Visualización rápida de imágenes Landsat para el ROI\n",
        "\n",
        "# Inputs\n",
        "Start_date = '2020-01-01'  #@param {type: \"date\"}\n",
        "End_date   = '2021-01-01'  #@param {type: \"date\"}\n",
        "range_date = [Start_date, End_date]\n",
        "\n",
        "## Filtrado de imágenes\n",
        "# 1er Filtrado: Mejor fecha de toma\n",
        "img_col = ee.ImageCollection(\"LANDSAT/LC08/C01/T1_SR\")\\\n",
        "            .filterDate(Start_date, End_date)\\\n",
        "            .filterBounds(roiDep)\\\n",
        "            .sort('CLOUD_COVER')\n",
        "\n",
        "mejor_fecha = conv_fecha(img_col.first(), exact=True)\n",
        "fecha1 = ee.Date(mejor_fecha)\n",
        "fecha2 = fecha1.advance(16, 'day') # ee.Date().advance()\n",
        "\n",
        "# Metadatos\n",
        "print('--- Metadatos del Image Collection img_col ---')\n",
        "ver_rangos(img_col)\n",
        "print('Fecha de mejor toma: ', mejor_fecha)\n",
        "\n",
        "# 2do Fitrado: Visualización de imágenes con mejor toma\n",
        "img_col = ee.ImageCollection(\"LANDSAT/LC08/C01/T1_SR\")\\\n",
        "            .filterDate(fecha1, fecha2)\\\n",
        "            .filterBounds(roiDep)\\\n",
        "            .sort('CLOUD_COVER')\n",
        "\n",
        "imagenes = img_col.median().multiply(0.0001).select(['B4','B3','B2'])\n",
        "\n",
        "# Visualizacion\n",
        "chongoyape = ee.Geometry.Point([-79.389, -6.639])\n",
        "oyotun     = ee.Geometry.Point([-79.309, -6.846])\n",
        "centroide  = ee.Geometry.Point([-79.823, -6.351])\n",
        "\n",
        "dict_img = {\n",
        "    'img_col': imagenes.getMapId({\n",
        "        'min':0.0, 'max':0.3, 'bands': ['B4','B3','B2']}),\n",
        "    'Lambayeque_shp': roiDepDraw.getMapId(),\n",
        "    'Chongoyape': chongoyape.getInfo(),\n",
        "    'Centroide': centroide.getInfo(),\n",
        "    'Oyotun': oyotun.getInfo()\n",
        "    } # ,'roi': roi_clip.getInfo()\n",
        "\n",
        "mapdisplay(centroidDep, dict_img, zoom_start=8)"
      ],
      "execution_count": null,
      "outputs": []
    },
    {
      "cell_type": "code",
      "metadata": {
        "id": "N14_yfGiBuJ7"
      },
      "source": [
        "ee_get_dates(img_col)"
      ],
      "execution_count": null,
      "outputs": []
    },
    {
      "cell_type": "code",
      "metadata": {
        "id": "JRMbt5dvVUth",
        "cellView": "form"
      },
      "source": [
        "# Inputs\n",
        "Start_date = '2020-04-21'  #@param {type: \"date\"}\n",
        "End_date   = '2020-04-22'  #@param {type: \"date\"}\n",
        "range_date = [Start_date, End_date]\n",
        "\n",
        "# Filtrado de imágenes\n",
        "img_col1 = ee.ImageCollection(\"LANDSAT/LC08/C01/T1_SR\")\\\n",
        "        .filterDate(Start_date, End_date)\\\n",
        "        .filterBounds(ee.Geometry.Point(-79.823, -6.351))\\\n",
        "        .sort('CLOUD_COVER')#\\.first()\n",
        "\n",
        "img_col2 = ee.ImageCollection(\"LANDSAT/LC08/C01/T1_SR\")\\\n",
        "        .filterDate(Start_date, End_date)\\\n",
        "        .filterBounds(ee.Geometry.Point(-79.309, -6.846))\\\n",
        "        .sort('CLOUD_COVER')#\\.first()\n",
        "\n",
        "bands = ['B4','B3','B2']\n",
        "img_rgb1 = img_col1.first().multiply(0.0001).select(bands)   #.clip(roi_clip)\n",
        "img_rgb2 = img_col2.first().multiply(0.0001).select(bands)   #.clip(roi_clip)\n",
        "\n",
        "## Metadatos \n",
        "\n",
        "# Imagen superior\n",
        "print('Rango de fechas disponibles para Landsat8')\n",
        "ver_rangos(img_col1, range_date=range_date)\n",
        "\n",
        "print('\\n--- Imagen Superior ---')\n",
        "print('Mejor imagen:')\n",
        "print('% nubosidad:', img_col1.first().getInfo()['properties']['CLOUD_COVER'])\n",
        "print('Image ID:',img_col1.first().getInfo().get('id'))\n",
        "print('Fecha:', conv_fecha(img_col1.first()))\n",
        "\n",
        "# Imagen Inferior\n",
        "print('\\n--- Imagen Inferior ---')\n",
        "print('Mejor imagen:')\n",
        "print('% nubosidad:', img_col2.first().getInfo()['properties']['CLOUD_COVER'])\n",
        "print('Image ID:',img_col2.first().getInfo().get('id'))\n",
        "print('Fecha:', conv_fecha(img_col2.first()))\n",
        "\n",
        "## Visualización\n",
        "chongoyape = ee.Geometry.Point([-79.389, -6.639])\n",
        "oyotun     = ee.Geometry.Point([-79.309, -6.846])\n",
        "centroide  = ee.Geometry.Point([-79.823, -6.351])\n",
        "\n",
        "dict_getMapId = {'min':0.0, 'max':0.3, 'bands': bands}\n",
        "\n",
        "dict_img = {\n",
        "    'imgSuperior': img_rgb1.clip(roiDep).getMapId(dict_getMapId),\n",
        "    'imgInferior': img_rgb2.clip(roiDep).getMapId(dict_getMapId),\n",
        "    # 'Lambayeque': roiDepDraw.getMapId(),\n",
        "    'Chongoyape': chongoyape.getInfo(),\n",
        "    #'Centroide': centroide.getInfo(),\n",
        "    'Oyotun': oyotun.getInfo()\n",
        "    }\n",
        "\n",
        "mapdisplay(centroidDep, dict_img, zoom_start=9)"
      ],
      "execution_count": null,
      "outputs": []
    },
    {
      "cell_type": "markdown",
      "metadata": {
        "id": "thQr5-rLYC2O"
      },
      "source": [
        "## 3. Selección de imágenes: Landsat 8\n",
        "\n",
        "- Visualización de imágenes satelitales para el año 2020\n",
        "- Elaboración de una tabla con la información de las imágenes respectivas"
      ]
    },
    {
      "cell_type": "markdown",
      "metadata": {
        "id": "ziwL-nv5CxFr"
      },
      "source": [
        "**Satélite Landsat 8** \n",
        "- Antes del 3 de Julio: [USGS Landsat 8 Surface Reflectance Tier 1](https://developers.google.com/earth-engine/datasets/catalog/LANDSAT_LC08_C01_T1_SR)\n",
        "- Ahora: [USGS Landsat 8 Level 2, Collection 2, Tier 1](https://developers.google.com/earth-engine/datasets/catalog/LANDSAT_LC08_C02_T1_L2), su uso presenta un cambio en los nombres de las bandas. [Mayor información aquí.](https://developers.google.com/earth-engine/datasets/catalog/LANDSAT_LC08_C02_T1_L2#bands)\n",
        "\n",
        "|Name\t|Units|\tScale|\tWavelength|\tDescription|\n",
        "|:-:|:-:|-|-|-|\n",
        "|B1\t\t|-|0.0001\t|0.435-0.451 μm\t|Band 1 (ultra blue) surface reflectance|\n",
        "|B2\t\t|-|0.0001\t|0.452-0.512 μm\t|Band 2 (blue) surface reflectance|\n",
        "|B3\t\t|-|0.0001\t|0.533-0.590 μm\t|Band 3 (green) surface reflectance|\n",
        "|B4\t\t|-|0.0001\t|0.636-0.673 μm\t|Band 4 (red) surface reflectance|\n",
        "|B5\t\t|-|0.0001\t|0.851-0.879 μm\t|Band 5 (near infrared) surface reflectance|\n",
        "|B6\t\t|-|0.0001\t|1.566-1.651 μm\t|Band 6 (shortwave infrared 1) surface reflectance|\n",
        "|B7\t\t|-|0.0001\t|2.107-2.294 μm\t|Band 7 (shortwave infrared 2) surface reflectance|\n",
        "|B10\t|Kelvin\t|0.1\t|10.60-11.19 μm|Band 10 brightness temperature.|\n",
        "|B11\t|Kelvin\t|0.1\t|11.50-12.51 μm|Band 11 brightness temperature.|\n",
        "\n",
        "**Nota**:\n",
        "Las bandas B10 y B11, aunque se recopilaron originalmente con una resolución de 100 m / píxel, se han vuelto a muestrear mediante convolución cúbica a 30 m."
      ]
    },
    {
      "cell_type": "markdown",
      "metadata": {
        "id": "QQtb9G82aEDd"
      },
      "source": [
        "### Generar visualización a partir de IDs"
      ]
    },
    {
      "cell_type": "markdown",
      "metadata": {
        "id": "41B61w3Ujf6p"
      },
      "source": [
        "#### Generar IDs de imágenes Landsat de forma mensual (2020)"
      ]
    },
    {
      "cell_type": "markdown",
      "metadata": {
        "id": "Qk9Z5FHgkQjB"
      },
      "source": [
        "A continuación se muestra una forma de obtener IDs de la base de datos de Landsat8 para su posterior visualización. \n",
        "\n",
        "**No es necesario correr esta celda de código** pues se ha provisto ya la lista de IDs en la siguiente sección."
      ]
    },
    {
      "cell_type": "code",
      "metadata": {
        "id": "vxX8MYKlakn2",
        "cellView": "form"
      },
      "source": [
        "# @markdown Generador de IDs Anual: **`imgCol_dict`**\n",
        "\n",
        "# Inputs\n",
        "long = -79.809 #@param [] {type:\"raw\", allow-input: true}\n",
        "lat = -6.746 #@param [] {type:\"raw\", allow-input: true}\n",
        "coordenada = list([long, lat])\n",
        "year =  2020 #@param {type:\"integer\"}\n",
        "ID_snippet_name = \"LANDSAT/LC08/C01/T1_SR\" \n",
        "\n",
        "generar = 'No' #@param [\"Si\",\"No\"]\n",
        "\n",
        "if generar == 'Si':\n",
        "  # Filtrado\n",
        "  periodo = create_dateranges(str(year),'month', 1, 12)\n",
        "\n",
        "  imgCol = [ee.ImageCollection(ID_snippet_name)\\\n",
        "              .filterDate(periodo[i][0], periodo[i][1])\\\n",
        "              .filterBounds(ee.Geometry.Point(coordenada)) for i in range(12)] \n",
        "\n",
        "  # Cantidad de imágenes por mes \n",
        "  imgCol_size = [imgCol[i].size().getInfo() for i in range(12)]\n",
        "\n",
        "  # Diccionario de Meses con su imágenes correspondientes\n",
        "  imgCol_dict = {}\n",
        "\n",
        "  for i in range(12):\n",
        "    IDs = []\n",
        "    imgCol_dict[i+1] = IDs\n",
        "    for j in range(imgCol_size[i]):\n",
        "      IDs.append(imgCol[i].getInfo()['features'][j]['id']) \n",
        "\n",
        "  imgCol_dict\n",
        "else:\n",
        "  print('Ya se tiene la lista de IDs, procede')"
      ],
      "execution_count": null,
      "outputs": []
    },
    {
      "cell_type": "markdown",
      "metadata": {
        "id": "b_w55-TxChG4"
      },
      "source": [
        "#### Visualización de imágenes Landsat (2020)"
      ]
    },
    {
      "cell_type": "markdown",
      "metadata": {
        "id": "w6MIWSyN4D_y"
      },
      "source": [
        "Con el diccionario ya listo es posible proceder a la visualización. Con ayuda de `ipywidgets` es posible realizar visualizaciones interactivas con HTML siendo el indicado para ello el módulo `interact`. \n",
        "\n",
        "Más información:\n",
        "- [ipywidgets](https://ipywidgets.readthedocs.io/en/latest/examples/Using%20Interact.html#)\n",
        "- [interact en Colab](https://colab.research.google.com/github/jupyter-widgets/ipywidgets/blob/master/docs/source/examples/Using%20Interact.ipynb)"
      ]
    },
    {
      "cell_type": "code",
      "metadata": {
        "id": "dPCeshoig5Ar",
        "cellView": "form"
      },
      "source": [
        "# @markdown Diccionario de imágenes Landsat 8 SR: `imgCol_dict`\n",
        "\n",
        "imgCol_dict = {\n",
        "    1: ['LANDSAT/LC08/C01/T1_SR/LC08_010065_20200116'],\n",
        "    2: [\n",
        "        'LANDSAT/LC08/C01/T1_SR/LC08_010065_20200201',\n",
        "        'LANDSAT/LC08/C01/T1_SR/LC08_010065_20200217'\n",
        "    ],  # buena foto\n",
        "    3: [\n",
        "        'LANDSAT/LC08/C01/T1_SR/LC08_010065_20200304',\n",
        "        'LANDSAT/LC08/C01/T1_SR/LC08_010065_20200320'\n",
        "    ],\n",
        "    4: [\n",
        "        'LANDSAT/LC08/C01/T1_SR/LC08_010065_20200405',\n",
        "        'LANDSAT/LC08/C01/T1_SR/LC08_010065_20200421'\n",
        "    ],  # buena foto\n",
        "    5: [\n",
        "        'LANDSAT/LC08/C01/T1_SR/LC08_010065_20200507',\n",
        "        'LANDSAT/LC08/C01/T1_SR/LC08_010065_20200523'\n",
        "    ],\n",
        "    6: [\n",
        "        'LANDSAT/LC08/C01/T1_SR/LC08_010065_20200608',\n",
        "        'LANDSAT/LC08/C01/T1_SR/LC08_010065_20200624'\n",
        "    ],\n",
        "    7: ['LANDSAT/LC08/C01/T1_SR/LC08_010065_20200726'],\n",
        "    8: [\n",
        "        'LANDSAT/LC08/C01/T1_SR/LC08_010065_20200811',\n",
        "        'LANDSAT/LC08/C01/T1_SR/LC08_010065_20200827'\n",
        "    ],\n",
        "    9: [\n",
        "        'LANDSAT/LC08/C01/T1_SR/LC08_010065_20200912',\n",
        "        'LANDSAT/LC08/C01/T1_SR/LC08_010065_20200928'\n",
        "    ],\n",
        "    10: [\n",
        "        'LANDSAT/LC08/C01/T1_SR/LC08_010065_20201014',\n",
        "        'LANDSAT/LC08/C01/T1_SR/LC08_010065_20201030'\n",
        "    ],\n",
        "    11: ['LANDSAT/LC08/C01/T1_SR/LC08_010065_20201115'],\n",
        "    12: ['LANDSAT/LC08/C01/T1_SR/LC08_010065_20201201']\n",
        "}\n"
      ],
      "execution_count": null,
      "outputs": []
    },
    {
      "cell_type": "code",
      "metadata": {
        "id": "k9V-77rXjIUq",
        "cellView": "form"
      },
      "source": [
        "# @markdown Visualización de imágenes con `interact`\n",
        "\n",
        "from ipywidgets import interact \n",
        "from pprint import pprint\n",
        "\n",
        "Natural_Color  = ['B4', 'B3', 'B2']\n",
        "\n",
        "def visualizar_mes(mes):\n",
        "\n",
        "  # Diccionario para visualización\n",
        "  viz_dict = {}\n",
        "\n",
        "  # Generar diccionario de visualización\n",
        "  for i in range(len(imgCol_dict[mes])):\n",
        "    viz_dict[conv_fecha(ee.Image(imgCol_dict[mes][i]))] \\\n",
        "      = ee.Image(imgCol_dict[mes][i])\\\n",
        "      .multiply(0.0001)\\\n",
        "      .clip(roiDep)\\\n",
        "      .getMapId({'min':0,'max':0.3, 'bands':Natural_Color})\n",
        "\n",
        "  # Presentar ID's\n",
        "  print(\"\\nID's disponibles:\")\n",
        "  pprint(imgCol_dict[mes])\n",
        "  print('')\n",
        "\n",
        "  # Mostrar el mapa leaflet\n",
        "  return mapdisplay([-79.809, -6.746], viz_dict, zoom_start=10)\n",
        "  \n",
        "mes = [i for i in range(1,12+1)]\n",
        "\n",
        "interact(visualizar_mes, mes=mes);"
      ],
      "execution_count": null,
      "outputs": []
    },
    {
      "cell_type": "markdown",
      "metadata": {
        "id": "ULFPS5vAE1Qa"
      },
      "source": [
        "### Generar tabla de resultados"
      ]
    },
    {
      "cell_type": "markdown",
      "metadata": {
        "id": "7GZgQo_dqUz7"
      },
      "source": [
        "Se va a generar una tabla con información sobre las imágenes seleccionadas anteriormente mediante la librería `pandas`."
      ]
    },
    {
      "cell_type": "code",
      "metadata": {
        "id": "OyZ8G5rSGmhf",
        "cellView": "form"
      },
      "source": [
        "# @markdown Generar tabla de resultados con `pandas`\n",
        "\n",
        "long = -79.809 #@param [] {type:\"raw\", allow-input: true}\n",
        "lat = -6.746 #@param [] {type:\"raw\", allow-input: true}\n",
        "coordenada = list([long, lat])\n",
        "\n",
        "year =  2020 #@param {type:\"integer\"}\n",
        "Start_date = str(year) + '-01-01' \n",
        "End_date   = str(year+1) + '-01-01' \n",
        "range_date = [Start_date, End_date]\n",
        "\n",
        "periodo = create_dateranges(str(year),'month', 1, 12)\n",
        "\n",
        "ID_snippet_name = \"LANDSAT/LE07/C01/T1_SR\" \n",
        "\n",
        "icol_sr = ee.ImageCollection(ID_snippet_name)\\\n",
        "            .filterDate(range_date[0], range_date[1])\\\n",
        "            .filterBounds(ee.Geometry.Point(coordenada))\n",
        "\n",
        "lista_fechas = icol_sr.aggregate_array('system:time_start').getInfo()\n",
        "cantidad = len(lista_fechas)\n",
        "\n",
        "# Generar tabla con pandas\n",
        "import pandas as pd\n",
        "df = pd.DataFrame(lista_fechas, columns = ['millis'])\n",
        "\n",
        "def add_date_info(df):\n",
        "  df['Número'] = [i for i in range(1, cantidad + 1)]\n",
        "  df['Timestamp'] = pd.to_datetime(df['millis'], unit='ms')\n",
        "  df['Día Juliano'] = pd.DatetimeIndex(df['Timestamp']).dayofyear\n",
        "  df['Sensor'] = ['OLI/TIRS' for i in range(1, cantidad + 1)]\n",
        "  df['Año'] = pd.DatetimeIndex(df['Timestamp']).year\n",
        "  df['Mes'] = pd.DatetimeIndex(df['Timestamp']).month\n",
        "  df['Día'] = pd.DatetimeIndex(df['Timestamp']).day\n",
        "  \n",
        "  df = df.drop(columns=['millis'])\n",
        "  df = df.drop(columns=['Timestamp'])\n",
        "  return df\n",
        "\n",
        "df = add_date_info(df)\n",
        "print(df.to_string(index=False))\n",
        "\n",
        "# Exportar como .csv \n",
        "# df.to_csv('datos_2020_L8.csv')\n",
        "# lista_fechas"
      ],
      "execution_count": null,
      "outputs": []
    },
    {
      "cell_type": "markdown",
      "metadata": {
        "id": "uwBeafwhDcGi"
      },
      "source": [
        "Tabla generada y adaptada para visualización (2020):\n",
        "\n",
        "|Número  |Día Juliano  |  Sensor   |Año  |Mes  |Día  |\n",
        "|:-|:-|:-|:-|:-|:-|\n",
        "|       1|           16|  OLI/TIRS | 2020|    1|   16|\n",
        "|       2|           32|  OLI/TIRS | 2020|    2|    1|\n",
        "|       3|           48|  OLI/TIRS | 2020|    2|   17|\n",
        "|       4|           64|  OLI/TIRS | 2020|    3|    4|\n",
        "|       5|           80|  OLI/TIRS | 2020|    3|   20|\n",
        "|       6|           96|  OLI/TIRS | 2020|    4|    5|\n",
        "|       7|          112|  OLI/TIRS | 2020|    4|   21|\n",
        "|       8|          128|  OLI/TIRS | 2020|    5|    7|\n",
        "|       9|          144|  OLI/TIRS | 2020|    5|   23|\n",
        "|      10|          160|  OLI/TIRS | 2020|    6|    8|\n",
        "|      11|          176|  OLI/TIRS | 2020|    6|   24|\n",
        "|      12|          208|  OLI/TIRS | 2020|    7|   26|\n",
        "|      13|          224|  OLI/TIRS | 2020|    8|   11|\n",
        "|      14|          240|  OLI/TIRS | 2020|    8|   27|\n",
        "|      15|          256|  OLI/TIRS | 2020|    9|   12|\n",
        "|      16|          272|  OLI/TIRS | 2020|    9|   28|\n",
        "|      17|          288|  OLI/TIRS | 2020|   10|   14|\n",
        "|      18|          304|  OLI/TIRS | 2020|   10|   30|\n",
        "|      19|          320|  OLI/TIRS | 2020|   11|   15|\n",
        "|      20|          336|  OLI/TIRS | 2020|   12|    1|\n",
        "|      21|            2|  OLI/TIRS | 2021|    1|    2|"
      ]
    },
    {
      "cell_type": "markdown",
      "metadata": {
        "id": "9jdvgCL8gS0-"
      },
      "source": [
        "## 4. Balance de energía\n",
        "\n",
        "- Procesamiento de imágenes satelitales de acuerdo al procedimiento establecido en el modelo METRIC"
      ]
    },
    {
      "cell_type": "markdown",
      "metadata": {
        "id": "aI6TB-2lU8A8"
      },
      "source": [
        "### 4.0. Descripción"
      ]
    },
    {
      "cell_type": "markdown",
      "metadata": {
        "id": "gM-6ncfVtq_w"
      },
      "source": [
        "Se ha seguido la metodología empleada en las siguientes investigaciones:\n",
        "- **PRINCIPAL** [2007: Satellite-Based Energy Balance for Mapping Evapotranspiration with Internalized Calibration (METRIC) — Model](http://cursosihlla.bdh.org.ar/ET_UNCu_Cursos/Curso_2019/1_Lectura_recomendada/2007_Allen_METRIC_Satellite-Based_Energy_Balance_for_Mapping_Evapotr.pdf) \n",
        "- [2019: Estimación de la evapotranspiración de cultivo de maíz bajo riego mediante percepción remota](http://repositorio.imta.mx/handle/20.500.12013/2065)\n",
        "- [2018: Estimación de la evapotranspiración en los cultivos alrededor del observatorio de Huancayo mediante sensoramiento remoto](https://repositorio.igp.gob.pe/handle/20.500.12816/4631)\n",
        "\n",
        "<center>\n",
        "<h3>Base teórica y computacional: Ecuación del balance de energía </h3>\n",
        "<img src= 'https://external-content.duckduckgo.com/iu/?u=https%3A%2F%2Fwww.researchgate.net%2Fprofile%2FBiswajeet_Pradhan%2Fpublication%2F301679158%2Ffigure%2Ffig1%2FAS%3A412214499528704%401475291003507%2FSurface-Energy-Balance-12.jpg&f=1&nofb=1' width=50%/>\n",
        "</center>\n",
        "\n",
        "$$\n",
        "LE = R_n - G - H\n",
        "$$\n",
        "\n",
        "Dónde: \n",
        "- $LE$ : Energía latente consumida por ET $[W/m²]$\n",
        "- $R_n$ : Radiación neta (suma de todas las radiaciones de onda corta y larga, sean entrantes o salientes a la superficie) $[W/m²]$\n",
        "- $G$ : Flujo de calor sensible conducido al suelo $[W/m²]$\n",
        "- $H$ : Flujo de calor sensible convectado al aire $[W/m²]$\n",
        "\n"
      ]
    },
    {
      "cell_type": "markdown",
      "metadata": {
        "id": "nCx7Gk0aJHym"
      },
      "source": [
        "De esta ecuación se basa ***SEBAL***. \n",
        "\n",
        "***METRIC*** en comparación realiza una calibración interna enfocada en el parámetro *H* con el fil de absorber la mayor cantidad de errores de estimación y sesgos.  \n",
        "\n",
        "En METRIC:\n",
        "- $R_n$ is computed from the satellite-measured narrow-band reflectance and surface temperature\n",
        "- $G$ is estimated from $R_n$, surface temperature, and vegetation indices\n",
        "- and $H$ is estimated from surface temperature ranges, surface roughness,\n",
        "and wind speed using buoyancy corrections."
      ]
    },
    {
      "cell_type": "markdown",
      "metadata": {
        "id": "L_GKo2ORC5pf"
      },
      "source": [
        "### 4.1. Radiación Neta / Net Radiation $R_n$"
      ]
    },
    {
      "cell_type": "markdown",
      "metadata": {
        "id": "qYiyY9Rc75It"
      },
      "source": [
        "Morse et al. 2000:\n",
        "\n",
        "$$\n",
        "R_n = (1- \\alpha)R_{S\\downarrow} + (R_{L\\downarrow} - R_{L\\uparrow}) - (1- \\epsilon_0)R_{L\\downarrow}\n",
        "$$\n",
        "\n",
        "Dónde: \n",
        "- $R_n$ : Flujo de radiación neta $[W/m^2]$\n",
        "- $\\alpha$ : Albedo de superficie\n",
        "- $R_{S\\downarrow}$ : Radiación de onda corta entrante $[W/m^2]$\n",
        "- $R_{L\\downarrow}$ : Radiación de onda larga entrante $[W/m^2]$\n",
        "- $R_{L\\uparrow}$ : Radiación de onda larga saliente $[W/m^2]$\n",
        "- $\\epsilon_0$ : Emisividad del ancho de banda en la superficie / broad-band surface thermal emissivity\n",
        "\n",
        "The $(1- \\epsilon_0)R_{L\\downarrow}$ term represents the fraction of incoming long-wave\n",
        "radiation reflected from the surface."
      ]
    },
    {
      "cell_type": "markdown",
      "metadata": {
        "id": "1DOUJEfS7dSf"
      },
      "source": [
        "#### Albedo / Surface Albedo $\\alpha_{s}$"
      ]
    },
    {
      "cell_type": "markdown",
      "metadata": {
        "id": "EewFH79LE4Fa"
      },
      "source": [
        "El albedo es la **proporción de radiación incidente que es reflejada por la superficie terrestre**, un método para obtener el valor del albedo se describe en el trabajo de Morse, Allen, y Kramber (2000), mediante la siguiente ecuación la cual está en función de la elevación, y diversas condiciones expresadas en las siguientes ecuaciones.\n",
        "\n",
        "$$\n",
        "\\alpha = \\frac{\\alpha_{toa}-\\alpha_{pr}}{\\tau_{sw}^2} \n",
        "$$\n",
        "\n",
        "Dónde:\n",
        "- $\\alpha$ : Albedo de la superficie / Surface albedo\n",
        "- $\\alpha_{toa}$ : Albedo en el límite superior de la atmósfera / Albedo at the top of the atmosphere (planetary)\n",
        "- $\\alpha_{pr}$ : Albedo de trayectoria, igual a 0.03 (Bastiaanssen, 2000) / Albedo atmosférico ✔️\n",
        "- $\\tau_{sw}$ : Transmitancia en un sentido con condiciones de claridad $[W/m^2K]$ / Transmisividad atmosférica\n",
        "- $z$ : Elevación sobre el nivel del mar $[m]$, del modelo digital de elevaciones\n",
        "\n",
        "Ejemplo de estimación del albedo:\n",
        "- [2018: Procedures for calculation of the albedo with OLI-Landsat 8 images: Application to the Brazilian semi-arid](https://www.scielo.br/j/rbeaa/a/sX6cJjNXWMfHQ5p4h33B8Zz/?lang=en)"
      ]
    },
    {
      "cell_type": "markdown",
      "metadata": {
        "id": "J6iaCcGGC8zd"
      },
      "source": [
        "Para estimar $\\tau_{sw}$:\n",
        "\n",
        "$$\n",
        "\\tau_{sw} = \\tau_B + \\tau_D\n",
        "$$\n",
        "\n",
        "Donde:\n",
        "- $\\tau_B$ es el índice de transmisividad de radiación directa y \n",
        "- $\\tau_D$ es índice de transmisividad de radiación difusa\n",
        "\n",
        "La ecuación utilizada para el cálculo de $\\tau_B$ es:\n",
        "\n",
        "$$\n",
        "\\tau_B = 0.98 * \\exp \\left[ \\frac{-0.00146*P_{air}}{K_t * \\cos\\theta} - 0.075 * \\left( \\frac {W}{\\cos\\theta}\\right)^{0.4} \\right]\n",
        "$$\n",
        "\n",
        "$P_{air}$, $W$ , $K_t$ y $\\cos{θ}$ fueron definidas en las ecuaciones anteriores:\n",
        "\n",
        "$$\n",
        "P_{air} = 101.1 \\left( \\frac {293 - 0.0067 * z}{293}\\right)^{5.26}\n",
        "$$\n",
        "\n",
        "Donde: $z$ es la elevacion media de la imagen, respecto al nivel del mar. El agua precipitable se calculo mediante la ecuación:\n",
        "\n",
        "$$\n",
        "W = 0,14 ∗ e_{a} ∗ P_{air} + 2,1\n",
        "$$\n",
        "\n",
        "El índice de transmisividad de radiación difusa es estimó mediante $T_B$ para diferentes valores:\n",
        "\n",
        "$$\n",
        "T_D = 0.35-0.36T_B \\text{  para  } T_B \\geq 0.15 \n",
        "$$\n",
        "$\\space$\n",
        "$$\n",
        "T_D = 0.18-0.82T_B \\text{  para  } T_B \\lt 0.15 \n",
        "$$\n",
        "\n"
      ]
    },
    {
      "cell_type": "code",
      "metadata": {
        "id": "tC1urH6eVpCL"
      },
      "source": [
        "# El método numérico de Python exp() devuelve un resultado exponencial de x: e^x\n",
        "# Para exp usar: math.exp()\n",
        "a = 3\n",
        "import math\n",
        "math.exp(a)"
      ],
      "execution_count": null,
      "outputs": []
    },
    {
      "cell_type": "markdown",
      "metadata": {
        "id": "9U_ziNOB8pgd"
      },
      "source": [
        "- Coeficientes de ponderación de la irradiancia exoatmosférica de la banda $\\lambda$\n",
        "\n",
        "$$\n",
        "\\alpha_s = \\sum_{b=1}^{n}[\\rho_{s,b} \\times \\omega_b]\n",
        "$$\n",
        "\n",
        "- $\\rho_\\lambda$ : Valor de la reflectancia de la banda $\\lambda$ ✔️\n",
        "- $\\omega_\\lambda$ : Coef. de ponderación de la irradiancia exoatmosférica de la banda $\\lambda$ ✔️"
      ]
    },
    {
      "cell_type": "code",
      "metadata": {
        "cellView": "form",
        "id": "b3Z9TS2EiaVA"
      },
      "source": [
        "# @markdown - Paleta NDVI (Yuri SIG) 20 Colores: `yuri_ndvi_pal`\n",
        "yuri_ndvi_pal = [\n",
        "    'ffffff', 'fffcff', 'fff9ff', 'fff7ff', 'fff4ff', 'fff2ff', 'ffefff',\n",
        "    'ffecff', 'ffeaff', 'ffe7ff', 'ffe5ff', 'ffe2ff', 'ffe0ff', 'ffddff',\n",
        "    'ffdaff', 'ffd8ff', 'ffd5ff', 'ffd3ff', 'ffd0ff', 'ffceff', 'ffcbff',\n",
        "    'ffc8ff', 'ffc6ff', 'ffc3ff', 'ffc1ff', 'ffbeff', 'ffbcff', 'ffb9ff',\n",
        "    'ffb6ff', 'ffb4ff', 'ffb1ff', 'ffafff', 'ffacff', 'ffaaff', 'ffa7ff',\n",
        "    'ffa4ff', 'ffa2ff', 'ff9fff', 'ff9dff', 'ff9aff', 'ff97ff', 'ff95ff',\n",
        "    'ff92ff', 'ff90ff', 'ff8dff', 'ff8bff', 'ff88ff', 'ff85ff', 'ff83ff',\n",
        "    'ff80ff', 'ff7eff', 'ff7bff', 'ff79ff', 'ff76ff', 'ff73ff', 'ff71ff',\n",
        "    'ff6eff', 'ff6cff', 'ff69ff', 'ff67ff', 'ff64ff', 'ff61ff', 'ff5fff',\n",
        "    'ff5cff', 'ff5aff', 'ff57ff', 'ff55ff', 'ff52ff', 'ff4fff', 'ff4dff',\n",
        "    'ff4aff', 'ff48ff', 'ff45ff', 'ff42ff', 'ff40ff', 'ff3dff', 'ff3bff',\n",
        "    'ff38ff', 'ff36ff', 'ff33ff', 'ff30ff', 'ff2eff', 'ff2bff', 'ff29ff',\n",
        "    'ff26ff', 'ff24ff', 'ff21ff', 'ff1eff', 'ff1cff', 'ff19ff', 'ff17ff',\n",
        "    'ff14ff', 'ff12ff', 'ff0fff', 'ff0cff', 'ff0aff', 'ff07ff', 'ff05ff',\n",
        "    'ff02ff', 'ff00ff', 'ff00ff', 'ff0af4', 'ff15e9', 'ff1fdf', 'ff2ad4',\n",
        "    'ff35c9', 'ff3fbf', 'ff4ab4', 'ff55aa', 'ff5f9f', 'ff6a94', 'ff748a',\n",
        "    'ff7f7f', 'ff8a74', 'ff946a', 'ff9f5f', 'ffaa55', 'ffb44a', 'ffbf3f',\n",
        "    'ffc935', 'ffd42a', 'ffdf1f', 'ffe915', 'fff40a', 'ffff00', 'ffff00',\n",
        "    'fffb00', 'fff700', 'fff300', 'fff000', 'ffec00', 'ffe800', 'ffe400',\n",
        "    'ffe100', 'ffdd00', 'ffd900', 'ffd500', 'ffd200', 'ffce00', 'ffca00',\n",
        "    'ffc600', 'ffc300', 'ffbf00', 'ffbb00', 'ffb700', 'ffb400', 'ffb000',\n",
        "    'ffac00', 'ffa800', 'ffa500', 'ffa500', 'f7a400', 'f0a300', 'e8a200',\n",
        "    'e1a200', 'd9a100', 'd2a000', 'ca9f00', 'c39f00', 'bb9e00', 'b49d00',\n",
        "    'ac9c00', 'a59c00', '9d9b00', '969a00', '8e9900', '879900', '7f9800',\n",
        "    '789700', '709700', '699600', '619500', '5a9400', '529400', '4b9300',\n",
        "    '439200', '349100', '2d9000', '258f00', '1e8e00', '168e00', '0f8d00',\n",
        "    '078c00', '008c00', '008c00', '008700', '008300', '007f00', '007a00',\n",
        "    '007600', '007200', '006e00', '006900', '006500', '006100', '005c00',\n",
        "    '005800', '005400', '005000', '004c00'\n",
        "]"
      ],
      "execution_count": null,
      "outputs": []
    },
    {
      "cell_type": "code",
      "metadata": {
        "id": "Ru_UBN9k_uV-"
      },
      "source": [
        "image_ID = ee.Image('LANDSAT/LC08/C01/T1_SR/LC08_010065_20200116')"
      ],
      "execution_count": null,
      "outputs": []
    },
    {
      "cell_type": "code",
      "metadata": {
        "id": "MI8xYxQJXLRp"
      },
      "source": [
        "# Albedo \n",
        "image = image_ID.multiply(0.0001)\n",
        "\n",
        "# Coeficientes de ponderación por banda (Da Silva et al., 2016)\n",
        "# https://www.scielo.br/j/rbeaa/a/sX6cJjNXWMfHQ5p4h33B8Zz/?lang=en\n",
        "\n",
        "albedo = image.expression(\n",
        "    '(0.3*B2 + 0.277*B3 + 0.233*B4 + 0.143*B5 + 0.036*B6 + 0.012*B7)',\n",
        "    {\n",
        "        'B2' : image.select('B2'),\n",
        "        'B3' : image.select('B3'),\n",
        "        'B4' : image.select('B4'),\n",
        "        'B5' : image.select('B5'),\n",
        "        'B6' : image.select('B6'),\n",
        "        'B7' : image.select('B7')\n",
        "    }\n",
        ")\n",
        "\n",
        "palette = [\n",
        "    'FFFFFF', 'CE7E45', 'DF923D', 'F1B555', 'FCD163', '99B718', '74A901',\n",
        "    '66A000', '529400', '3E8601', '207401', '056201', '004C00', '023B01',\n",
        "    '012E01', '011D01', '011301'\n",
        "  ]\n",
        "viz_params = {'min': 0.0, 'max': 0.5, 'palette': palette};\n",
        "\n",
        "mapdisplay([-79.309, -6.846], {'Imagen':image.getMapId({'min':0, 'max':0.3, 'bands':['B4','B3','B2']}),\n",
        "                               'Albedo':albedo.getMapId(viz_params)}, zoom_start=9)\n",
        "\n",
        "# mapdisplay([-79.309, -6.846], {'Albedo':albedo.clip(roiDep).getMapId(viz_params)},zoom_start=8)"
      ],
      "execution_count": null,
      "outputs": []
    },
    {
      "cell_type": "markdown",
      "metadata": {
        "id": "rd3kvs_G7ojO"
      },
      "source": [
        "#### Radiación de onda corta entrante / Incoming Solar Radiation $R_{S\\downarrow}$ "
      ]
    },
    {
      "cell_type": "markdown",
      "metadata": {
        "id": "G-Rxk3W-Gu_o"
      },
      "source": [
        "$R_{S\\downarrow}$ : Radiación de onda corte entrante $[W/m²]$\n",
        "\n",
        "Morse et al. (2000)\n",
        "\n",
        "$$\n",
        "R_{S\\downarrow} = \\frac{G_{sc} \\cos\\theta_{rel} \\tau_{sw}}{d^2}\n",
        "$$\n",
        "\n",
        "Dónde:\n",
        "-\n",
        "- $G_{sc}$ : Constante solar $[1367 \\space W/m²]$ ✔️\n",
        "- $\\theta$ : Ángulo zenital solar / Ángulo de incidencia solar $[rad]$ ✔️ \n",
        "- $d^2$ : Cuadrado de la distancia relativa Tierra-Sol $[m^{-1}]$ ✔️ (OJO: en 2018 se menciona el inverso del cuadrado de la distancia relativa de tierra al sol)\n",
        "- $\\tau_{sw}$ : Es la transmitancia en un sentido con condiciones de claridad / Transmitancia de la banda ancha $[W/m² \\space K]$"
      ]
    },
    {
      "cell_type": "code",
      "metadata": {
        "id": "UvUkQTTcAvYr"
      },
      "source": [
        "image_ID.getInfo()"
      ],
      "execution_count": null,
      "outputs": []
    },
    {
      "cell_type": "code",
      "metadata": {
        "id": "J_E-xXlzAOi3"
      },
      "source": [
        "import math\n",
        "\n",
        "ang_zenital = image_ID.get('SOLAR_ZENITH_ANGLE').getInfo()*math.pi/180\n",
        "G_sc = 1367\n",
        "dr = 1/image_ID.get('EARTH_SUN_DISTANCE').getInfo()"
      ],
      "execution_count": null,
      "outputs": []
    },
    {
      "cell_type": "code",
      "metadata": {
        "id": "bmaBIxY3BO38"
      },
      "source": [
        "1/0.983642"
      ],
      "execution_count": null,
      "outputs": []
    },
    {
      "cell_type": "code",
      "metadata": {
        "id": "cesyiyAp90UG"
      },
      "source": [
        "# imagen = ee.Image('LANDSAT/LC08/C01/T1_SR/LC08_010065_20200116')\n",
        "zenitAngle = image.get('SOLAR_ZENITH_ANGLE').getInfo()\n",
        "zenitAngle"
      ],
      "execution_count": null,
      "outputs": []
    },
    {
      "cell_type": "code",
      "metadata": {
        "id": "5LH5JRYcQNpA"
      },
      "source": [
        "R_s_entrante = 1367*cos(zenitAngle)*d_r*tau_sw"
      ],
      "execution_count": null,
      "outputs": []
    },
    {
      "cell_type": "markdown",
      "metadata": {
        "id": "UYQ3izhANkBb"
      },
      "source": [
        "#### Radiación de onda larga saliente / Outgoing Long-Wave Radiation $R_{L\\uparrow}$ "
      ]
    },
    {
      "cell_type": "markdown",
      "metadata": {
        "id": "-1f9Hd9j9FQD"
      },
      "source": [
        "Outgoing long-wave radiation, RL↑, emitted from the surface is\n",
        "driven by surface temperature and surface emissivity. RL↑ is computed using the Stefan–Boltzmann equation"
      ]
    },
    {
      "cell_type": "markdown",
      "metadata": {
        "id": "OJUsxBsNNoab"
      },
      "source": [
        "Morse et al., 2000.\n",
        "\n",
        "$$\n",
        "R_{L\\downarrow} = \\epsilon_0 * \\sigma * T_{s}^{4}\n",
        "$$\n",
        "\n",
        "Dónde:\n",
        "- $R_{L\\downarrow}$ : Radiación de onda larga saliente $[W/m²]$\n",
        "- $\\epsilon_0$ : Emisividad del ancho de banda de la superficie\n",
        "- $\\sigma$ : Constante de Stefan-Boltzmann $(5.67*10^{-8}[W m^{-2}K^{-4}])$\n",
        "- $T_s$ : Temperatura de brillo de superficie $[K]$\n",
        "\n",
        "Para hallar la emisividad:\n",
        "\n",
        "$$\n",
        "\\epsilon_0 = 0.95 + 0.01 * LAI \\text{, cuando NDVI > 0 y LAI < 3} \n",
        "$$\n",
        "\n",
        "Dónde:\n",
        "- $\\text{LAI}$ : es el índice de área foliar\n",
        "- $\\text{NDVI}$ : El índice de vegetación de diferencia normalizada"
      ]
    },
    {
      "cell_type": "code",
      "metadata": {
        "id": "bHem_NzeQxrc"
      },
      "source": [
        "R_l_saliente = emisividad*(5.67*10**-8)*temp_brillo**4"
      ],
      "execution_count": null,
      "outputs": []
    },
    {
      "cell_type": "markdown",
      "metadata": {
        "id": "0Xw-izButbrM"
      },
      "source": [
        "#### Radiación de onda larga entrante / Incoming Long-Wave Radiation $R_{L\\downarrow}$"
      ]
    },
    {
      "cell_type": "markdown",
      "metadata": {
        "id": "0JvJ61pv7yMh"
      },
      "source": [
        "Incoming long-wave radiation is the downward thermal radiation\n",
        "flux originating from the atmosphere \u0001W m−2 and is traditionally\n",
        "computed using the Stefan–Boltzmann equation\n",
        "\n",
        "Bastiaansen et al. 1998:\n",
        "\n",
        "$$\n",
        "R_{L\\downarrow} = \\epsilon_a \\sigma T_{0 ref}^{4}\n",
        "$$\n",
        "\n",
        "Dónde:\n",
        "- $\\epsilon_a$ : Emisividad atmosférica efectiva\n",
        "- $\\sigma$ : Constante de Stefan-Boltzmann $(5.67*10^{-8} [W/m^{2}])$\n",
        "- $T_{0 ref}$ : Temperatura en un punto de referencia con buen riego / near-surface air temperature $[K]$\n",
        "\n",
        "> Ecuación empírica para $\\epsilon_a$ de Bastiaanssen (1995) aplicado con coeficientes desarrollados por Allen et al. (2000) con datos recolectados de **alfalfa** en Idaho:\n",
        "$$\n",
        "\\epsilon_a = 0.85(-\\ln{\\tau_{sw}})^{0.09}\n",
        "$$\n",
        "\n",
        "> The original coefficients\n",
        "by Bastiaanssen (1995), derived for western Egypt, were\n",
        "$$\n",
        "\\epsilon_a = 1.08 * (-\\ln{\\tau_{sw}})^{0.265}\n",
        "$$\n",
        "\n",
        "Dónde:\n",
        "- $R_{L\\downarrow}$ : Radiación de onda corta entrante\n",
        "- $\\tau_{sw}$ : Es la transmitancia en un sentido con condiciones de claridad\n",
        "\n"
      ]
    },
    {
      "cell_type": "markdown",
      "metadata": {
        "id": "g9KhWbqGteqW"
      },
      "source": [
        "#### Radiación neta de la superficie $R_n$"
      ]
    },
    {
      "cell_type": "markdown",
      "metadata": {
        "id": "7f_xsj2d7_5N"
      },
      "source": [
        "### 4.2. Flujo de calor del suelo / Soil Heat Flux $G$"
      ]
    },
    {
      "cell_type": "markdown",
      "metadata": {
        "id": "gZcNs-CPb3Hr"
      },
      "source": [
        "> **Forma 1**\n",
        ">\n",
        ">Choudhury, Idso y Reginato (1987) o Allen, Pereira, Raes y Smith (1998)\n",
        ">\n",
        ">$$\n",
        "G = 0.4 * \\mathrm{e}^{-0.5* \\text{LAI}} * R_n\n",
        "$$\n",
        ">\n",
        ">Dónde:\n",
        ">- $G$ : Flujo de calor del suelo $[W/m^{2}]$\n",
        ">- $\\text{LAI}$ : Índice de área foliar\n",
        ">- $R_n$ : Flujo de radiación neta $[W/m^{2}]$"
      ]
    },
    {
      "cell_type": "markdown",
      "metadata": {
        "id": "5vcVN4WodoQi"
      },
      "source": [
        "> **Forma 2**\n",
        ">\n",
        "> Despeje de la relación de calor almacenado en el suelo y vegetación debida a la conducción $R_n$, según Bastiaanssen (2000)\n",
        ">\n",
        ">$$\n",
        "\\frac{G}{R_n} = \\frac{T_s}{\\alpha}(0.0038\\alpha + 0.0074\\alpha^{2})(1-0.98*\\text{NDVI}^4) \n",
        "$$\n",
        "> Dónde:\n",
        "> - $\\frac{G}{R_n}$ : Relación del calor almacenado en suelo y vegetación\n",
        "> - $T_s$ : Temperatura de brillo de superficie $[K]$\n",
        "> - $\\alpha$ : Albedo de superficie\n",
        "> - $\\text{NDVI}$ : Índice de vegetación de diferencia normalizada"
      ]
    },
    {
      "cell_type": "markdown",
      "metadata": {
        "id": "qHCpaxgP8IYe"
      },
      "source": [
        "#### Momento de resistencia aerodinámica (MRA) o $Z_{om}$"
      ]
    },
    {
      "cell_type": "markdown",
      "metadata": {
        "id": "2594Jn0xe-6r"
      },
      "source": [
        "Chemin y Din Ahmad (2000), toman en cuenta las condiciones aerodinámicas de la vegetación la cual está en función de su altura y distribución espacial.\n",
        "\n",
        "$$\n",
        "Z_{om} = a + b*\\text{NDVI}\n",
        "$$\n",
        "\n",
        "Dónde:\n",
        "\n",
        "$$\n",
        "a = \\ln(0.02) - [b*(0.02)]\n",
        "$$\n",
        "\n",
        "$$\n",
        "b = \\frac{(\\text{NDVI}_{max}-0.02)}{\\ln(\\frac{h_v}{7}-\\ln(0.002)}\n",
        "$$\n",
        "\n",
        "- $\\text{NDVI}$ : Índice de vegetación de diferencia normalizada\n",
        "- $\\text{NDVI}_{max}$ : Valor local máximo del $\\text{NDVI}$\n",
        "- $h_v$ : altura promedio de la vegetación cuando se tiene $\\text{NDVI}_{max}$"
      ]
    },
    {
      "cell_type": "markdown",
      "metadata": {
        "id": "3-AP4MJA8QZm"
      },
      "source": [
        "#### Selección de pixel caliente y frío"
      ]
    },
    {
      "cell_type": "markdown",
      "metadata": {
        "id": "okRlIwdOgo56"
      },
      "source": [
        "Requisito para conocer el aporte de flujo de calor sensible $H$ en el modelo de balance, cada pixel con vegetación requerirá de conocer un gradiente de temperatura $\\delta T$ en referencia a su condición aerodinámica a fin de estimar la densidad de su aporte, esto se logra a partir de la relación lineal que guardan las temperaturas entre dos superficies extremas con características distintas. \n",
        "\n",
        "Se han propuesto metodologías para la selección de estos puntos extremos denominándose **pixel frío** y **pixel caliente**, donde: \n",
        "- un **pixel frío** representa una superficie con vegetación densa y húmeda, mientras \n",
        "- un **pixel caliente** representa una superficie seca sin vegetación. \n",
        "\n",
        "Según el método de Olmedo et al. (2016), la selección de estos dos parámetros puede llevarse sobre el área de estudio y localizarlos mediante el cumplimiento de una serie de condiciones sobre otros parámetros conocidos como se muestra a continuación:\n",
        "\n",
        "$\\space$\n",
        "\n",
        "$$\n",
        "\\text{pixel frio} = \n",
        "\\begin{cases}\n",
        "  \\begin{gather*}\n",
        "    3 \\le \\text{LAI} \\le 6 \\\\\n",
        "    0.18 \\le \\alpha \\le 0.25 \\\\\n",
        "    0.03 \\le Z_{0m} \\le 0.08 \\\\\n",
        "    \\text{NDVI} \\ge \\text{NDVI}_{max} - 0.15 \\\\\n",
        "    T_s < T_{max} - 5 \n",
        "  \\end{gather*}\n",
        "\\end{cases}\n",
        "$$\n",
        "\n",
        "$\\space$\n",
        "\n",
        "$$\n",
        "\\text{pixel caliente} = \n",
        "\\begin{cases}\n",
        "  \\begin{gather*}\n",
        "    0.13 \\le \\alpha \\le 0.15 \\\\\n",
        "    Z_{0m} \\le 0.005 \\\\\n",
        "    0.1 \\le \\text{NDVI} \\le 0.28 \\\\\n",
        "    T_s > T_{max} - 5\n",
        "  \\end{gather*}\n",
        "\\end{cases}\n",
        "$$\n",
        "\n",
        "Dónde:\n",
        "- $\\alpha$ : Es el albedo de superficie\n",
        "- $\\text{LAI}$ : Índice de área foliar\n",
        "- $Z_{0m}$ : Momento de resistencia aerodinámica o MRA\n",
        "- $\\text{NDVI}$ : Índice de vegetación de diferencia normalizada y máximo $\\text{NDVI}_{max}$\n",
        "- $T_s$ : Temperatura de superficie y máximo valor $T_{max}$\n"
      ]
    },
    {
      "cell_type": "markdown",
      "metadata": {
        "id": "cyMopDsO8TRp"
      },
      "source": [
        "### 4.3. Flujo de calor sensible / Sensible Heat Flux $H$"
      ]
    },
    {
      "cell_type": "markdown",
      "metadata": {
        "id": "y-fY4J_PpDl5"
      },
      "source": [
        "Bastiaanssen et al. (1998)\n",
        "\n",
        "$$\n",
        "H = \\frac{\\rho_a c_p \\delta{T_a}}{r_{ah}}\n",
        "$$\n",
        "\n",
        "Dónde:\n",
        "- $H$ : Flujo de calor sensible $[W/m^{2}]$\n",
        "- $\\rho_a$ : Densidad del aire $[kg/m^{3}]$\n",
        "- $c_p$ : Calor específico del aire igual a $[1004 \\space J/kg/K]$\n",
        "- $\\delta{T_a}$ : Gradiente de temperatura $[°C]$\n",
        "- $r_{ah}$ : Resistencia aerodinámica al transporte de calor $[s/m]$ "
      ]
    },
    {
      "cell_type": "markdown",
      "metadata": {
        "id": "8v0tN1XP8XX8"
      },
      "source": [
        "### 4.4. $\\lambda{ET}$ y $ET$ instantánea"
      ]
    },
    {
      "cell_type": "markdown",
      "metadata": {
        "id": "Gk0wobkd8c8m"
      },
      "source": [
        "### 4.5. Evapotranspiración de cultivo $ET_c$ por día"
      ]
    },
    {
      "cell_type": "markdown",
      "metadata": {
        "id": "lhZSUDxOra0Z"
      },
      "source": [
        "La $ET_c$ diaria se puede calcular mediante la siguiente ecuación:\n",
        "\n",
        "$$\n",
        "ET_c[\\frac{mm}{d}] = C_{rad} * \\Lambda * ET_{24}\n",
        "$$"
      ]
    },
    {
      "cell_type": "markdown",
      "metadata": {
        "id": "NUc4yLDNnBRo"
      },
      "source": [
        "# Bibliografía\n",
        "\n",
        "- Links de interés"
      ]
    },
    {
      "cell_type": "markdown",
      "metadata": {
        "id": "GJFKLCUnK5mg"
      },
      "source": [
        "**Búsquedas de METRIC Evapotranspiration**\n",
        "\n",
        "- [Búsqueda en *ScienceDirect*: METRIC Evapotranspiration](https://www.sciencedirect.com/search?qs=metric%20evapotranspiration)\n",
        "- [Búsqueda en *MDPI*: METRIC Evapotranspiration](https://www.mdpi.com/search?q=metric+evapotranspiration)"
      ]
    },
    {
      "cell_type": "markdown",
      "metadata": {
        "id": "wip4FzysnJbu"
      },
      "source": [
        "- [NASA Evapotranspiration Data Products and Applications](http://www.cazalac.org/mwar_lac/fileadmin/imagenes2/Remote_Sensing/S4P1_light.pdf)\n",
        "\n",
        "Seguimiento de Metodología:\n",
        "\n",
        "> [ConectedPapers - 2007: Satellite-Based Energy Balance for Mapping Evapotranspiration with Internalized Calibration (METRIC) — Model](https://www.connectedpapers.com/main/817edad756d41499da26498e71c85afaa884383a/SatelliteBased-Energy-Balance-for-Mapping-Evapotranspiration-with-Internalized-Calibration-METRICModel/graph)\n",
        "\n",
        "- **PRINCIPAL** [2007: Satellite-Based Energy Balance for Mapping Evapotranspiration with Internalized Calibration (METRIC) — Model](http://cursosihlla.bdh.org.ar/ET_UNCu_Cursos/Curso_2019/1_Lectura_recomendada/2007_Allen_METRIC_Satellite-Based_Energy_Balance_for_Mapping_Evapotr.pdf) \n",
        "- [2019: Estimación de la evapotranspiración de cultivo de maíz bajo riego mediante percepción remota](http://repositorio.imta.mx/handle/20.500.12013/2065)\n",
        "- [2018: Estimación de la evapotranspiración en los cultivos alrededor del observatorio de Huancayo mediante sensoramiento remoto](https://repositorio.igp.gob.pe/handle/20.500.12816/4631)\n",
        "\n",
        "<img src='https://mms.businesswire.com/media/20180706005099/en/666704/4/INTECHOPEN_LOGO_RED_RGB.jpg?download=1' width=4%>IntechOpen:\n",
        "- [2011: Operational Remote Sensing of ET and Challenges](https://www.intechopen.com/books/evapotranspiration-remote-sensing-and-modeling/operational-remote-sensing-of-et-and-challenges)\n",
        "- [2018: Influence of Landsat Revisit Frequency on Time-Integration of Evapotranspiration for Agricultural Water Management](https://www.intechopen.com/books/advanced-evapotranspiration-methods-and-applications/influence-of-landsat-revisit-frequency-on-time-integration-of-evapotranspiration-for-agricultural-wa)\n"
      ]
    },
    {
      "cell_type": "markdown",
      "metadata": {
        "id": "tBf7JkZ864Fy"
      },
      "source": [
        "\n",
        "\n",
        "Investigadores de ETP:\n",
        "\n",
        "- [Richard Allen: University of Idaho](https://www.uidaho.edu/cals/soil-and-water-systems/our-people/richard-allen)\n",
        "- [Ayse Kilic: University of Nebraska - Lincoln](https://engineering.unl.edu/civil/ayse-kilic/)\n"
      ]
    },
    {
      "cell_type": "markdown",
      "metadata": {
        "id": "F3WHOXXBXc9T"
      },
      "source": [
        "- [2017: Calibration of METRIC Model to Estimate Energy Balance over a Drip-Irrigated Apple Orchard](https://www.mdpi.com/2072-4292/9/7/670/htm)\n",
        "- [2019: LandMOD ET mapper: A new matlab-based graphical user interface (GUI) for automated implementation of SEBAL and METRIC models in thermal imagery](https://www.sciencedirect.com/science/article/abs/pii/S1364815219301203)"
      ]
    },
    {
      "cell_type": "markdown",
      "metadata": {
        "id": "JclVJcRPl-_Z"
      },
      "source": [
        "**Recursos de $\\LaTeX$ empleados**\n",
        "- [LaTex mathematics for equations](https://en.wikibooks.org/wiki/LaTeX/Mathematics)\n",
        "- [Overleaf - Aligning equations with amsmath](https://www.overleaf.com/learn/latex/Aligning_equations_with_amsmath)\n",
        "- [Wumbo - Mathematical Symbols](https://wumbo.net/symbols/)\n",
        "\n"
      ]
    },
    {
      "cell_type": "markdown",
      "metadata": {
        "id": "O0FtNk7ael2g"
      },
      "source": [
        "**Tutoriales**\n",
        "- [Conversión de valores de ND a radiancia](https://www.youtube.com/watch?v=kRN1ekslBH0&list=PLkMtpdwUewHG5JvNoZbOL7-c6_EXoS_UI)"
      ]
    },
    {
      "cell_type": "markdown",
      "metadata": {
        "id": "VspYZc97UA-S"
      },
      "source": [
        "# Pruebas\n",
        "\n",
        "- Pruebas realizadas durante la investigación."
      ]
    },
    {
      "cell_type": "markdown",
      "metadata": {
        "id": "yg1HNQzwCY8W"
      },
      "source": [
        "#### Diccionarios generados"
      ]
    },
    {
      "cell_type": "markdown",
      "metadata": {
        "id": "tBE4cKToH2Mm"
      },
      "source": [
        "Para darle buen formato a los diccionarios, usar:\n",
        "- [Python Formatter](https://codebeautify.org/python-formatter-beautifier)"
      ]
    },
    {
      "cell_type": "code",
      "metadata": {
        "id": "910dkZrpibST",
        "cellView": "form"
      },
      "source": [
        "# @markdown Diccionario Sentinel 2: `imgCol_dict`\n",
        "imgCol_dict = {\n",
        "    1: [\n",
        "        \"COPERNICUS/S2_SR/20200102T153611_20200102T153743_T17MPN\",\n",
        "        \"COPERNICUS/S2_SR/20200107T153619_20200107T154047_T17MPN\",\n",
        "        \"COPERNICUS/S2_SR/20200112T153611_20200112T153613_T17MPN\",\n",
        "        \"COPERNICUS/S2_SR/20200117T153619_20200117T153613_T17MPN\",\n",
        "        \"COPERNICUS/S2_SR/20200122T153611_20200122T153612_T17MPN\",\n",
        "        \"COPERNICUS/S2_SR/20200127T153609_20200127T153611_T17MPN\",\n",
        "    ],\n",
        "    2: [\n",
        "        \"COPERNICUS/S2_SR/20200201T153611_20200201T153611_T17MPN\",\n",
        "        \"COPERNICUS/S2_SR/20200206T153619_20200206T153613_T17MPN\",\n",
        "        \"COPERNICUS/S2_SR/20200211T153611_20200211T153626_T17MPN\",\n",
        "        \"COPERNICUS/S2_SR/20200216T153619_20200216T154305_T17MPN\",\n",
        "        \"COPERNICUS/S2_SR/20200221T153611_20200221T154337_T17MPN\",\n",
        "        \"COPERNICUS/S2_SR/20200226T153619_20200226T154119_T17MPN\",\n",
        "    ],\n",
        "    3: [\n",
        "        \"COPERNICUS/S2_SR/20200302T153611_20200302T153614_T17MPN\",\n",
        "        \"COPERNICUS/S2_SR/20200307T153619_20200307T153616_T17MPN\",\n",
        "        \"COPERNICUS/S2_SR/20200312T153621_20200312T153615_T17MPN\",\n",
        "        \"COPERNICUS/S2_SR/20200317T153619_20200317T154424_T17MPN\",\n",
        "        \"COPERNICUS/S2_SR/20200322T153621_20200322T154411_T17MPN\",\n",
        "        \"COPERNICUS/S2_SR/20200327T153619_20200327T154304_T17MPN\",\n",
        "    ],\n",
        "    4: [\n",
        "        \"COPERNICUS/S2_SR/20200401T153621_20200401T153901_T17MPN\",\n",
        "        \"COPERNICUS/S2_SR/20200406T153619_20200406T154234_T17MPN\",\n",
        "        \"COPERNICUS/S2_SR/20200411T153621_20200411T153910_T17MPN\",\n",
        "        \"COPERNICUS/S2_SR/20200416T153619_20200416T154403_T17MPN\",\n",
        "        \"COPERNICUS/S2_SR/20200421T153621_20200421T154337_T17MPN\",\n",
        "        \"COPERNICUS/S2_SR/20200426T153619_20200426T153904_T17MPN\",\n",
        "    ],\n",
        "    5: [\n",
        "        \"COPERNICUS/S2_SR/20200501T153621_20200501T153850_T17MPN\",\n",
        "        \"COPERNICUS/S2_SR/20200506T153619_20200506T153616_T17MPN\",\n",
        "        \"COPERNICUS/S2_SR/20200511T153621_20200511T154343_T17MPN\",\n",
        "        \"COPERNICUS/S2_SR/20200516T153619_20200516T153618_T17MPN\",\n",
        "        \"COPERNICUS/S2_SR/20200516T153619_20200516T154501_T17MPN\",\n",
        "        \"COPERNICUS/S2_SR/20200521T153631_20200521T154352_T17MPN\",\n",
        "        \"COPERNICUS/S2_SR/20200526T153619_20200526T154127_T17MPN\",\n",
        "        \"COPERNICUS/S2_SR/20200531T153631_20200531T153940_T17MPN\",\n",
        "    ],\n",
        "    6: [\n",
        "        \"COPERNICUS/S2_SR/20200605T153619_20200605T153834_T17MPN\",\n",
        "        \"COPERNICUS/S2_SR/20200610T153631_20200610T154258_T17MPN\",\n",
        "        \"COPERNICUS/S2_SR/20200615T153619_20200615T153722_T17MPN\",\n",
        "        \"COPERNICUS/S2_SR/20200620T153631_20200620T154446_T17MPN\",\n",
        "        \"COPERNICUS/S2_SR/20200625T153619_20200625T153621_T17MPN\",\n",
        "        \"COPERNICUS/S2_SR/20200625T153619_20200625T154504_T17MPN\",\n",
        "        \"COPERNICUS/S2_SR/20200630T153621_20200630T153946_T17MPN\",\n",
        "    ],\n",
        "    7: [\n",
        "        \"COPERNICUS/S2_SR/20200705T153619_20200705T153621_T17MPN\",\n",
        "        \"COPERNICUS/S2_SR/20200710T153621_20200710T154423_T17MPN\",\n",
        "        \"COPERNICUS/S2_SR/20200715T153619_20200715T153620_T17MPN\",\n",
        "        \"COPERNICUS/S2_SR/20200715T153619_20200715T154503_T17MPN\",\n",
        "        \"COPERNICUS/S2_SR/20200720T153621_20200720T154406_T17MPN\",\n",
        "        \"COPERNICUS/S2_SR/20200725T153619_20200725T153621_T17MPN\",\n",
        "        \"COPERNICUS/S2_SR/20200730T153631_20200730T154345_T17MPN\",\n",
        "    ],\n",
        "    8: [\n",
        "        \"COPERNICUS/S2_SR/20200804T153619_20200804T154255_T17MPN\",\n",
        "        \"COPERNICUS/S2_SR/20200809T153631_20200809T154345_T17MPN\",\n",
        "        \"COPERNICUS/S2_SR/20200814T153619_20200814T153738_T17MPN\",\n",
        "        \"COPERNICUS/S2_SR/20200819T153631_20200819T153625_T17MPN\",\n",
        "        \"COPERNICUS/S2_SR/20200824T153619_20200824T154230_T17MPN\",\n",
        "        \"COPERNICUS/S2_SR/20200829T153621_20200829T154210_T17MPN\",\n",
        "    ],\n",
        "    9: [\n",
        "        \"COPERNICUS/S2_SR/20200903T153619_20200903T154357_T17MPN\",\n",
        "        \"COPERNICUS/S2_SR/20200908T153621_20200908T154046_T17MPN\",\n",
        "        \"COPERNICUS/S2_SR/20200913T153619_20200913T153628_T17MPN\",\n",
        "        \"COPERNICUS/S2_SR/20200918T153621_20200918T153624_T17MPN\",\n",
        "        \"COPERNICUS/S2_SR/20200923T153619_20200923T153831_T17MPN\",\n",
        "        \"COPERNICUS/S2_SR/20200928T153621_20200928T153624_T17MPN\",\n",
        "    ],\n",
        "    10: [\n",
        "        \"COPERNICUS/S2_SR/20201003T153619_20201003T153759_T17MPN\",\n",
        "        \"COPERNICUS/S2_SR/20201008T153631_20201008T153625_T17MPN\",\n",
        "        \"COPERNICUS/S2_SR/20201013T153619_20201013T153807_T17MPN\",\n",
        "        \"COPERNICUS/S2_SR/20201018T153621_20201018T153841_T17MPN\",\n",
        "        \"COPERNICUS/S2_SR/20201023T153619_20201023T154139_T17MPN\",\n",
        "        \"COPERNICUS/S2_SR/20201028T153621_20201028T154210_T17MPN\",\n",
        "    ],\n",
        "    11: [\n",
        "        \"COPERNICUS/S2_SR/20201102T153619_20201102T154334_T17MPN\",\n",
        "        \"COPERNICUS/S2_SR/20201107T153621_20201107T154039_T17MPN\",\n",
        "        \"COPERNICUS/S2_SR/20201112T153619_20201112T154104_T17MPN\",\n",
        "        \"COPERNICUS/S2_SR/20201117T153621_20201117T154056_T17MPN\",\n",
        "        \"COPERNICUS/S2_SR/20201122T153619_20201122T154415_T17MPN\",\n",
        "        \"COPERNICUS/S2_SR/20201127T153621_20201127T154054_T17MPN\",\n",
        "    ],\n",
        "    12: [\n",
        "        \"COPERNICUS/S2_SR/20201202T153619_20201202T154414_T17MPN\",\n",
        "        \"COPERNICUS/S2_SR/20201207T153621_20201207T154054_T17MPN\",\n",
        "        \"COPERNICUS/S2_SR/20201212T153619_20201212T154111_T17MPN\",\n",
        "        \"COPERNICUS/S2_SR/20201222T153619_20201222T154433_T17MPN\",\n",
        "        \"COPERNICUS/S2_SR/20201227T153621_20201227T154110_T17MPN\",\n",
        "    ],\n",
        "}"
      ],
      "execution_count": null,
      "outputs": []
    },
    {
      "cell_type": "code",
      "metadata": {
        "cellView": "form",
        "id": "3L404Wb0DQhG"
      },
      "source": [
        "# @markdown Diccionario Landsat 8 TOA: `imgCol_dict`\n",
        "\n",
        "imgCol_dict = {\n",
        "    1: ['LANDSAT/LC08/C01/T1_TOA/LC08_010065_20200116'],\n",
        "    2: ['LANDSAT/LC08/C01/T1_TOA/LC08_010065_20200201',\n",
        "      'LANDSAT/LC08/C01/T1_TOA/LC08_010065_20200217'],\n",
        "    3: ['LANDSAT/LC08/C01/T1_TOA/LC08_010065_20200304',\n",
        "      'LANDSAT/LC08/C01/T1_TOA/LC08_010065_20200320'],\n",
        "    4: ['LANDSAT/LC08/C01/T1_TOA/LC08_010065_20200405',\n",
        "      'LANDSAT/LC08/C01/T1_TOA/LC08_010065_20200421'],\n",
        "    5: ['LANDSAT/LC08/C01/T1_TOA/LC08_010065_20200507',\n",
        "      'LANDSAT/LC08/C01/T1_TOA/LC08_010065_20200523'],\n",
        "    6: ['LANDSAT/LC08/C01/T1_TOA/LC08_010065_20200608',\n",
        "      'LANDSAT/LC08/C01/T1_TOA/LC08_010065_20200624'],\n",
        "    7: ['LANDSAT/LC08/C01/T1_TOA/LC08_010065_20200726'],\n",
        "    8: ['LANDSAT/LC08/C01/T1_TOA/LC08_010065_20200811',\n",
        "      'LANDSAT/LC08/C01/T1_TOA/LC08_010065_20200827'],\n",
        "    9: ['LANDSAT/LC08/C01/T1_TOA/LC08_010065_20200912',\n",
        "      'LANDSAT/LC08/C01/T1_TOA/LC08_010065_20200928'],\n",
        "    10: ['LANDSAT/LC08/C01/T1_TOA/LC08_010065_20201014',\n",
        "      'LANDSAT/LC08/C01/T1_TOA/LC08_010065_20201030'],\n",
        "    11: ['LANDSAT/LC08/C01/T1_TOA/LC08_010065_20201115'],\n",
        "    12: ['LANDSAT/LC08/C01/T1_TOA/LC08_010065_20201201']\n",
        " }\n",
        "\n",
        "# @markdown Diccionario Landsat 8 Raw Scenes: `imgCol_dict`\n",
        "\n",
        "imgCol_dict = {\n",
        "    1: ['LANDSAT/LC08/C01/T1/LC08_010065_20200116'],\n",
        "    2: ['LANDSAT/LC08/C01/T1/LC08_010065_20200201',\n",
        "      'LANDSAT/LC08/C01/T1/LC08_010065_20200217'],\n",
        "    3: ['LANDSAT/LC08/C01/T1/LC08_010065_20200304',\n",
        "      'LANDSAT/LC08/C01/T1/LC08_010065_20200320'],\n",
        "    4: ['LANDSAT/LC08/C01/T1/LC08_010065_20200405',\n",
        "      'LANDSAT/LC08/C01/T1/LC08_010065_20200421'],\n",
        "    5: ['LANDSAT/LC08/C01/T1/LC08_010065_20200507',\n",
        "      'LANDSAT/LC08/C01/T1/LC08_010065_20200523'],\n",
        "    6: ['LANDSAT/LC08/C01/T1/LC08_010065_20200608',\n",
        "      'LANDSAT/LC08/C01/T1/LC08_010065_20200624'],\n",
        "    7: ['LANDSAT/LC08/C01/T1/LC08_010065_20200726'],\n",
        "    8: ['LANDSAT/LC08/C01/T1/LC08_010065_20200811',\n",
        "      'LANDSAT/LC08/C01/T1/LC08_010065_20200827'],\n",
        "    9: ['LANDSAT/LC08/C01/T1/LC08_010065_20200912',\n",
        "      'LANDSAT/LC08/C01/T1/LC08_010065_20200928'],\n",
        "    10: ['LANDSAT/LC08/C01/T1/LC08_010065_20201014',\n",
        "      'LANDSAT/LC08/C01/T1/LC08_010065_20201030'],\n",
        "    11: ['LANDSAT/LC08/C01/T1/LC08_010065_20201115'],\n",
        "    12: ['LANDSAT/LC08/C01/T1/LC08_010065_20201201']\n",
        "}"
      ],
      "execution_count": null,
      "outputs": []
    },
    {
      "cell_type": "code",
      "metadata": {
        "id": "_3IuU7tZ1fNo",
        "cellView": "form"
      },
      "source": [
        "# @markdown Diccionario Landsat 7: `imgCol_dict_L7`\n",
        "\n",
        "imgCol_dict = {\n",
        "    1: ['LANDSAT/LE07/C01/T1_SR/LE07_010065_20200108',\n",
        "        'LANDSAT/LE07/C01/T1_SR/LE07_010065_20200124'],\n",
        "    2: ['LANDSAT/LE07/C01/T1_SR/LE07_010065_20200209',\n",
        "      'LANDSAT/LE07/C01/T1_SR/LE07_010065_20200225'],\n",
        "    3: ['LANDSAT/LE07/C01/T1_SR/LE07_010065_20200312',\n",
        "      'LANDSAT/LE07/C01/T1_SR/LE07_010065_20200328'],\n",
        "    4: ['LANDSAT/LE07/C01/T1_SR/LE07_010065_20200429'],\n",
        "    5: ['LANDSAT/LE07/C01/T1_SR/LE07_010065_20200515',\n",
        "      'LANDSAT/LE07/C01/T1_SR/LE07_010065_20200531'],\n",
        "    6: [],\n",
        "    7: ['LANDSAT/LE07/C01/T1_SR/LE07_010065_20200702',\n",
        "      'LANDSAT/LE07/C01/T1_SR/LE07_010065_20200718'],\n",
        "    8: ['LANDSAT/LE07/C01/T1_SR/LE07_010065_20200803',\n",
        "      'LANDSAT/LE07/C01/T1_SR/LE07_010065_20200819'],\n",
        "    9: ['LANDSAT/LE07/C01/T1_SR/LE07_010065_20200904',\n",
        "      'LANDSAT/LE07/C01/T1_SR/LE07_010065_20200920'],\n",
        "    10: ['LANDSAT/LE07/C01/T1_SR/LE07_010065_20201006',\n",
        "      'LANDSAT/LE07/C01/T1_SR/LE07_010065_20201022'],\n",
        "    11: ['LANDSAT/LE07/C01/T1_SR/LE07_010065_20201107',\n",
        "      'LANDSAT/LE07/C01/T1_SR/LE07_010065_20201123'],\n",
        "    12: ['LANDSAT/LE07/C01/T1_SR/LE07_010065_20201209',\n",
        "      'LANDSAT/LE07/C01/T1_SR/LE07_010065_20201225']\n",
        "  }"
      ],
      "execution_count": null,
      "outputs": []
    },
    {
      "cell_type": "markdown",
      "metadata": {
        "id": "YD_ZfHHBcM5F"
      },
      "source": [
        "#### Obtener fechas "
      ]
    },
    {
      "cell_type": "markdown",
      "metadata": {
        "id": "6xPE-9TBcRDQ"
      },
      "source": [
        "Otra forma de obtener fechas\n",
        "\n",
        "- Desventaja: Requiere `pprint` para una mejor visualización del resultado (lista)."
      ]
    },
    {
      "cell_type": "code",
      "metadata": {
        "id": "tmbanCyddnga"
      },
      "source": [
        "# Cargar una imagen Landsat 5 TM\n",
        "collection = ee.ImageCollection(\"LANDSAT/LT05/C01/T1\")\\\n",
        "               .filterDate(\"2009-01-01\",\"2010-01-01\")\\\n",
        "               .filterMetadata('WRS_PATH', 'equals', 3)\\\n",
        "               .filterMetadata('WRS_ROW', 'equals', 68)"
      ],
      "execution_count": null,
      "outputs": []
    },
    {
      "cell_type": "code",
      "metadata": {
        "id": "mK5Hp34tcRki"
      },
      "source": [
        "# Funcion de extraer fecha\n",
        "from pprint import pprint\n",
        "def list_coll(coll):\n",
        "  '''\n",
        "  https://developers.google.com/earth-engine/apidocs/ee-date-format?hl=en\n",
        "  '''\n",
        "  func_ejv = lambda img: ee.String(ee.Image(img).date().format('YYYY-MM-dd H:mm:ss')).slice(0)\n",
        "  return pprint(coll.toList(coll.size(), 0).map(func_ejv).getInfo())\n",
        "\n",
        "# Problema: Retorna las fechas "
      ],
      "execution_count": null,
      "outputs": []
    },
    {
      "cell_type": "code",
      "metadata": {
        "id": "GQj3aOR22CSQ"
      },
      "source": [
        "list_coll(collection)"
      ],
      "execution_count": null,
      "outputs": []
    }
  ]
}
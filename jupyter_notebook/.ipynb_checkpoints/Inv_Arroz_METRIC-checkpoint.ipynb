{
 "cells": [
  {
   "cell_type": "markdown",
   "metadata": {
    "colab_type": "text",
    "id": "view-in-github"
   },
   "source": [
    "<a href=\"https://colab.research.google.com/github/vilcagamarracf/Inv_arroz_METRIC/blob/main/jupyter_notebook/Inv_Arroz_METRIC.ipynb\" target=\"_parent\"><img src=\"https://colab.research.google.com/assets/colab-badge.svg\" alt=\"Open In Colab\"/></a>"
   ]
  },
  {
   "cell_type": "markdown",
   "metadata": {
    "id": "9EDnXVzkgncn"
   },
   "source": [
    "<center>\n",
    "<h1>Aplicación del modelo METRIC en cultivos de Arroz, Lambayeque</h1>\n",
    "<h2> Investigación 2021 </h2>\n",
    "</center>\n",
    "\n",
    "**Information about this project**\n",
    "```\n",
    "FILE          : Inv-Arroz-METRIC.ipynb\n",
    "AUTHOR        : Cesar Francisco Vilca Gamarra \n",
    "EMAIL         : vilcagamarracf@gmail.com \n",
    "ORGANIZATION  : UNALM \n",
    "CREATION DATE : 29 April, 2021 \n",
    "DEPENDENCIES  : earthengine-api, os, folium, pandas, matplotlib, numpy ...  \n",
    "PURPOSE       : Download Landsat Products and have some fun\n",
    "```\n",
    "<center>\n",
    "<img src= 'https://external-content.duckduckgo.com/iu/?u=https%3A%2F%2Fimage.slideserve.com%2F327001%2Fhow-metric-works6-l.jpg&f=1&nofb=1' width=50%/>\n",
    "</center>"
   ]
  },
  {
   "cell_type": "markdown",
   "metadata": {
    "id": "x8uX4Xnji8SW"
   },
   "source": [
    "# *METRIC con Earth Engine*"
   ]
  },
  {
   "cell_type": "markdown",
   "metadata": {
    "id": "GD7Ii-GoX6W1"
   },
   "source": [
    "## 1. Inicio"
   ]
  },
  {
   "cell_type": "code",
   "execution_count": 1,
   "metadata": {
    "ExecuteTime": {
     "end_time": "2021-06-19T14:22:14.962572Z",
     "start_time": "2021-06-19T14:21:22.211819Z"
    },
    "cellView": "form",
    "colab": {
     "base_uri": "https://localhost:8080/"
    },
    "id": "y1o3KKEzso2r",
    "outputId": "5e5388ba-c363-4414-da9f-2fdb93ffc451",
    "scrolled": true
   },
   "outputs": [
    {
     "data": {
      "text/html": [
       "<p>To authorize access needed by Earth Engine, open the following\n",
       "        URL in a web browser and follow the instructions:</p>\n",
       "        <p><a href=https://accounts.google.com/o/oauth2/auth?client_id=517222506229-vsmmajv00ul0bs7p89v5m89qs8eb9359.apps.googleusercontent.com&scope=https%3A%2F%2Fwww.googleapis.com%2Fauth%2Fearthengine+https%3A%2F%2Fwww.googleapis.com%2Fauth%2Fdevstorage.full_control&redirect_uri=urn%3Aietf%3Awg%3Aoauth%3A2.0%3Aoob&response_type=code&code_challenge=zUorj-qvYCaxHfZcjz5_vkIUOE4Et_ly9HWemlKdE_0&code_challenge_method=S256>https://accounts.google.com/o/oauth2/auth?client_id=517222506229-vsmmajv00ul0bs7p89v5m89qs8eb9359.apps.googleusercontent.com&scope=https%3A%2F%2Fwww.googleapis.com%2Fauth%2Fearthengine+https%3A%2F%2Fwww.googleapis.com%2Fauth%2Fdevstorage.full_control&redirect_uri=urn%3Aietf%3Awg%3Aoauth%3A2.0%3Aoob&response_type=code&code_challenge=zUorj-qvYCaxHfZcjz5_vkIUOE4Et_ly9HWemlKdE_0&code_challenge_method=S256</a></p>\n",
       "        <p>The authorization workflow will generate a code, which you\n",
       "        should paste in the box below</p>\n",
       "        "
      ],
      "text/plain": [
       "<IPython.core.display.HTML object>"
      ]
     },
     "metadata": {},
     "output_type": "display_data"
    },
    {
     "name": "stdout",
     "output_type": "stream",
     "text": [
      "Enter verification code: 4/1AY0e-g6X8_QCzPXAAeQLyMY67N-QLugebye_oXWnyyZ74kqYr-q9Tr8vh1s\n",
      "\n",
      "Successfully saved authorization token.\n",
      "Ya estás logeado.\n",
      "GEE Version: 0.1.270\n"
     ]
    }
   ],
   "source": [
    "# Credenciales\n",
    "import ee\n",
    "ee.Initialize()\n",
    "ee.Authenticate()\n",
    "print('Ya estás logeado.')\n",
    "print('GEE Version:',ee.__version__)"
   ]
  },
  {
   "cell_type": "markdown",
   "metadata": {
    "id": "CxSC0Z7RjQ9N"
   },
   "source": [
    "Revisar alguna cosita extra que puede eliminarse de la parte 'importar librerías'"
   ]
  },
  {
   "cell_type": "code",
   "execution_count": 10,
   "metadata": {
    "ExecuteTime": {
     "end_time": "2021-06-19T14:26:01.839778Z",
     "start_time": "2021-06-19T14:26:01.814844Z"
    },
    "cellView": "form",
    "colab": {
     "base_uri": "https://localhost:8080/"
    },
    "id": "SJ6adBwQLhpA",
    "outputId": "1d3df565-652b-4f85-b980-aabe9239fa0f"
   },
   "outputs": [
    {
     "name": "stdout",
     "output_type": "stream",
     "text": [
      "mapdisplay(center, dicc, Tiles=\"OpensTreetMap\",zoom_start=10) listo!\n",
      "ee_get_dates(ic) listo!\n",
      "conv_fecha(img, getInfo=None) listo!\n",
      "roi, roi_clip y centroide listos!\n",
      "ver_rangos(icol, range_date= [Start_date, End_date]) listo!\n",
      "create_dateranges(init_date, time, range_1, range_2) listo!\n"
     ]
    }
   ],
   "source": [
    "# @markdown Importar librerías, funciones y más:\n",
    "# @markdown - `mapdisplay`: Variable global: `mapViz`\n",
    "# @markdown - `ee_get_dates`\n",
    "# @markdown - `conv_fecha`\n",
    "# @markdown - `ver_rangos`\n",
    "# @markdown - `ROI CHINCHA`\n",
    "# @markdown - `create_dateranges`\n",
    "\n",
    "# mapdisplay\n",
    "import folium \n",
    "def mapdisplay(center, dicc, Tiles=\"OpensTreetMap\",zoom_start=10):\n",
    "    '''\n",
    "    Crea mapas interactivos usando la librería `folium`\n",
    "\n",
    "    - `center`: Center of the map (Latitude and Longitude) (`list`)\n",
    "    - `dicc`: Earth Engine Geometries or Tiles dictionary (`dict`)\n",
    "    - `Tiles=`: \n",
    "    Mapbox Bright \n",
    "    Mapbox Control Room\n",
    "    Stamen Terrain\n",
    "    Stamen Toner\n",
    "    stamenwatercolor\n",
    "    cartodbpositron\n",
    "    - `zoom_start=`: Initial zoom level for the map (`int`)\n",
    "\n",
    "    Return: A folium.Map object\n",
    "    '''\n",
    "    # Centrado de imagen (El [::-1] lee inversamente la lista)\n",
    "    center = center[::-1]\n",
    "\n",
    "    # Agregando parámetros de visualización\n",
    "    global mapViz\n",
    "    mapViz = folium.Map(location=center,tiles=Tiles, zoom_start=zoom_start, control_scale=True)\n",
    "\n",
    "    # Seteando la visualización de Images\n",
    "    for k,v in dicc.items():\n",
    "      if ee.image.Image in [type(x) for x in v.values()]:\n",
    "        folium.TileLayer(tiles = v[\"tile_fetcher\"].url_format,\n",
    "                         attr  = 'Google Earth Engine',\n",
    "                         overlay =True,\n",
    "                         name  = k).add_to(mapViz)\n",
    "      else:\n",
    "        folium.GeoJson(data = v,\n",
    "                       name = k).add_to(mapViz)\n",
    "    # Agregar: Minimapa\n",
    "    # from folium.plugins import MiniMap\n",
    "    # minimap = MiniMap(\n",
    "    #     tile_layer=\"OpensTreetMap\", \n",
    "    #     position=\"bottomright\", \n",
    "    #     zoom_level_fixed=4)\n",
    "    # mapViz.add_child(minimap) # https://nbviewer.jupyter.org/github/python-visualization/folium/blob/master/examples/MiniMap.ipynb\n",
    "\n",
    "#     Fullscreen (no funciona en colab)\n",
    "    from folium import plugins\n",
    "    plugins.Fullscreen().add_to(mapViz)\n",
    "\n",
    "    # Agregando el control de layers\n",
    "    mapViz.add_child(folium.LayerControl())\n",
    "    return mapViz\n",
    "print('mapdisplay(center, dicc, Tiles=\"OpensTreetMap\",zoom_start=10) listo!')\n",
    "\n",
    "# ee_get_dates ----------------------------------------\n",
    "from datetime import datetime as dt\n",
    "def ee_get_dates(ic):\n",
    "  \"\"\"\n",
    "  Permite obtener información de la Fecha y Hora de toma de imágen por el satélite.\n",
    "  - ic: `ee.ImageCollection()`\n",
    "  \"\"\"\n",
    "  dates = ic.aggregate_array('system:time_start').getInfo()\n",
    "  anonym = lambda x: dt.utcfromtimestamp(x/1000).strftime('%Y-%m-%d %H:%M:%S')\n",
    "  return list(map(anonym, dates))\n",
    "print('ee_get_dates(ic) listo!')\n",
    "\n",
    "# conv_fecha ----------------------------------------\n",
    "def conv_fecha(img, getInfo=None):\n",
    "  '''\n",
    "  Convierte el formato de UNIX Time al formato %Y-%m-%d %H:%M:%S\n",
    "  img: ee.Image\n",
    "  getInfo = True : cuando se tiene ya el .getInfo() \n",
    "  '''\n",
    "  from datetime import datetime as dt\n",
    "  if getInfo is None:\n",
    "    return dt.utcfromtimestamp(img.getInfo()['properties'][\"system:time_start\"]/1000).strftime('%Y-%m-%d %H:%M:%S')\n",
    "  if getInfo==True:\n",
    "    return dt.utcfromtimestamp(img['properties'][\"system:time_start\"]/1000).strftime('%Y-%m-%d %H:%M:%S')\n",
    "print('conv_fecha(img, getInfo=None) listo!')\n",
    "\n",
    "# ROI CHINCHA ----------------------------------------\n",
    "\n",
    "area_total = ee.FeatureCollection('users/CesarVilca/area_total')\n",
    "roi_clip = area_total.geometry().bounds()\n",
    "\n",
    "centroide = [-76.0908, -13.4589]\n",
    "print('roi, roi_clip y centroide listos!')\n",
    "\n",
    "# ver_rangos\n",
    "\n",
    "Start_date = '2012-01-01'\n",
    "End_date   = '2021-01-31'\n",
    "range_date = [Start_date, End_date]\n",
    "\n",
    "def ver_rangos(img_col, range_date= [Start_date, End_date]):\n",
    "  \"\"\"\n",
    "  Devuelve los rangos de fechas existente en un rango inicial escrito manualmente como input.\n",
    "  Pasos:\n",
    "  1. `Reducer.minMax()` devuelve un valor min y max\n",
    "  2. `icol.reduceColumns()` devuelve un diccionario con el min-max\n",
    "  more info: https://developers.google.com/earth-engine/apidocs/ee-imagecollection-reducecolumns?hl=en\n",
    "  \"\"\"\n",
    "  \n",
    "  rango = img_col.reduceColumns(ee.Reducer.minMax(), [\"system:time_start\"]) # Retorna un ee.dictionary: {'max': 1608132402761, 'min': 1545060401000}\n",
    "\n",
    "  # Obtención de la fecha min y max del image collection en formato ISO standard 8601\n",
    "  # Javascript trabaja las fechas con milisegundos (se deja así)\n",
    "  # Python     trabaja las fechas con segundos (por eso /1000)\n",
    "  init_date = ee.Date(rango.get('min')).getInfo()['value']/1000.\n",
    "  last_date = ee.Date(rango.get('max')).getInfo()['value']/1000.\n",
    "\n",
    "  # Dar formato a las fechas  \n",
    "  from datetime import datetime as dt\n",
    "  init_date_f = dt.utcfromtimestamp(init_date).strftime('%Y-%m-%d') # %H:%M:%S\n",
    "  last_date_f = dt.utcfromtimestamp(last_date).strftime('%Y-%m-%d') # %H:%M:%S\n",
    "  \n",
    "  # Obtenga el rango de fechas de las imágenes en la colección.\n",
    "  range_date = [Start_date, End_date]\n",
    "  print('Total imágenes: {}'.format(img_col.size().getInfo()))\n",
    "  print('Rango Temporal Ingresado : {} - {}'.format(range_date[0], range_date[1]))\n",
    "  print('Rango Temporal Real      : {} - {}'.format(init_date_f, last_date_f))\n",
    "print('ver_rangos(icol, range_date= [Start_date, End_date]) listo!')\n",
    "\n",
    "# create_dateranges ----------------------------------------\n",
    "def create_dateranges(init_date, time, range_1, range_2):\n",
    "  '''\n",
    "  init_date: '20XX' for monthly dates, '20XX-XX' for daily dates(string)\n",
    "  time: 'year', 'month', 'day' (string)\n",
    "  range_1: 1, ... 12 for monthly values (int)\n",
    "  range_2: 1, ... 13 for monthly values (int)\n",
    "\n",
    "  Returns a date ranges in a list form.\n",
    "  '''\n",
    "  ranges = []\n",
    "  def create_dates(date, plus_time):\n",
    "     ''' \n",
    "     init_date: string values only, example:  '2013-1'\n",
    "     time: 'year', 'month', 'day'\n",
    "  \n",
    "     more info: https://developers.google.com/earth-engine/apidocs/ee-date-getrange\n",
    "     '''\n",
    "     var_time = ee.Date(date).getRange(plus_time).getInfo().get('dates')\n",
    "  \n",
    "     from datetime import datetime as dt #-%d\n",
    "     Start_Date = dt.utcfromtimestamp(var_time[0]/1000).strftime('%Y-%m')\n",
    "     End_Date   = dt.utcfromtimestamp(var_time[1]/1000).strftime('%Y-%m')\n",
    "     return  [Start_Date, End_Date, i-1]\n",
    "  \n",
    "  for i in range(range_1, range_2+1):\n",
    "    ranges.append(create_dates(init_date+'-'+str(i), time))\n",
    "  return ranges\n",
    "print('create_dateranges(init_date, time, range_1, range_2) listo!')"
   ]
  },
  {
   "cell_type": "code",
   "execution_count": 3,
   "metadata": {
    "ExecuteTime": {
     "end_time": "2021-06-19T14:24:05.366680Z",
     "start_time": "2021-06-19T14:24:03.650806Z"
    },
    "cellView": "form",
    "id": "fWlSyVJAkGnF"
   },
   "outputs": [],
   "source": [
    "# @markdown *Shapefile del Departamento de Lambayeque*\n",
    "\n",
    "# 24 Departamentos del Perú\n",
    "shpPeru = ee.FeatureCollection('users/CesarVilca/Departamentos_Peru')\n",
    "\n",
    "# Departamento de Lambayeque\n",
    "shpDep = ee.FeatureCollection('users/CesarVilca/Departamentos_Peru').filter(\n",
    "    ee.Filter.eq('NOMBDEP', 'LAMBAYEQUE'))\n",
    "\n",
    "roiPeru = shpPeru.geometry()\n",
    "roiDep  = shpDep.geometry()\n",
    "\n",
    "# Centroides\n",
    "centroidPeru = roiPeru.centroid().coordinates().getInfo()   \n",
    "centroidDep = roiDep.centroid().coordinates().getInfo()\n",
    "\n",
    "# https://htmlcolors.com/ para modificar el color\n",
    "# Visualización de FeatureCollection con .draw\n",
    "roiPeruDraw = shpPeru.draw(color = \"000000\", strokeWidth = 2, pointRadius = 2) \n",
    "roiDepDraw  = shpDep.draw(color = \"00FF00\", strokeWidth = 2, pointRadius = 2) \n",
    "\n",
    "# dicc_viz1 = {\n",
    "#     'Perú': roiPeruDraw.getMapId(),\n",
    "#     'Lambayeque': roiDepDraw.getMapId(),\n",
    "#     }  \n",
    "    \n",
    "# mapdisplay(centroidDep, dicc_viz1, zoom_start=9)"
   ]
  },
  {
   "cell_type": "markdown",
   "metadata": {
    "id": "fKa3EbYTq6ac"
   },
   "source": [
    "```\n",
    "Variables\n",
    "shpPeru  : FeatureCollection Perú\n",
    "shpDep   : FeatureCollection Lambayeque\n",
    "\n",
    "roiPeru, roiDep              # geometry\n",
    "centroidPeru, centroidRoi    # centroides\n",
    "\n",
    "Coordenadas:\n",
    "- Chongoyape: [-79.389, -6.639]\n",
    "- Oyotún    : [-79.309, -6.846]\n",
    "```"
   ]
  },
  {
   "cell_type": "markdown",
   "metadata": {
    "id": "thQr5-rLYC2O"
   },
   "source": [
    "## 2. Selección de imágenes"
   ]
  },
  {
   "cell_type": "markdown",
   "metadata": {
    "id": "PHotkTXtW47T"
   },
   "source": [
    "### Exploración de dataset \"Landsat 8 Surface Reflectance\""
   ]
  },
  {
   "cell_type": "code",
   "execution_count": 4,
   "metadata": {
    "ExecuteTime": {
     "end_time": "2021-06-19T14:24:32.266551Z",
     "start_time": "2021-06-19T14:24:29.104476Z"
    },
    "cellView": "form",
    "colab": {
     "base_uri": "https://localhost:8080/"
    },
    "id": "_Or-DdlMuRsi",
    "outputId": "095a5a0f-1bb5-40d1-dbfa-b4925426855b"
   },
   "outputs": [
    {
     "data": {
      "text/html": [
       "<div style=\"width:100%;\"><div style=\"position:relative;width:100%;height:0;padding-bottom:60%;\"><span style=\"color:#565656\">Make this Notebook Trusted to load map: File -> Trust Notebook</span><iframe src=\"about:blank\" style=\"position:absolute;width:100%;height:100%;left:0;top:0;border:none !important;\" data-html=%3C%21DOCTYPE%20html%3E%0A%3Chead%3E%20%20%20%20%0A%20%20%20%20%3Cmeta%20http-equiv%3D%22content-type%22%20content%3D%22text/html%3B%20charset%3DUTF-8%22%20/%3E%0A%20%20%20%20%0A%20%20%20%20%20%20%20%20%3Cscript%3E%0A%20%20%20%20%20%20%20%20%20%20%20%20L_NO_TOUCH%20%3D%20false%3B%0A%20%20%20%20%20%20%20%20%20%20%20%20L_DISABLE_3D%20%3D%20false%3B%0A%20%20%20%20%20%20%20%20%3C/script%3E%0A%20%20%20%20%0A%20%20%20%20%3Cstyle%3Ehtml%2C%20body%20%7Bwidth%3A%20100%25%3Bheight%3A%20100%25%3Bmargin%3A%200%3Bpadding%3A%200%3B%7D%3C/style%3E%0A%20%20%20%20%3Cstyle%3E%23map%20%7Bposition%3Aabsolute%3Btop%3A0%3Bbottom%3A0%3Bright%3A0%3Bleft%3A0%3B%7D%3C/style%3E%0A%20%20%20%20%3Cscript%20src%3D%22https%3A//cdn.jsdelivr.net/npm/leaflet%401.6.0/dist/leaflet.js%22%3E%3C/script%3E%0A%20%20%20%20%3Cscript%20src%3D%22https%3A//code.jquery.com/jquery-1.12.4.min.js%22%3E%3C/script%3E%0A%20%20%20%20%3Cscript%20src%3D%22https%3A//maxcdn.bootstrapcdn.com/bootstrap/3.2.0/js/bootstrap.min.js%22%3E%3C/script%3E%0A%20%20%20%20%3Cscript%20src%3D%22https%3A//cdnjs.cloudflare.com/ajax/libs/Leaflet.awesome-markers/2.0.2/leaflet.awesome-markers.js%22%3E%3C/script%3E%0A%20%20%20%20%3Clink%20rel%3D%22stylesheet%22%20href%3D%22https%3A//cdn.jsdelivr.net/npm/leaflet%401.6.0/dist/leaflet.css%22/%3E%0A%20%20%20%20%3Clink%20rel%3D%22stylesheet%22%20href%3D%22https%3A//maxcdn.bootstrapcdn.com/bootstrap/3.2.0/css/bootstrap.min.css%22/%3E%0A%20%20%20%20%3Clink%20rel%3D%22stylesheet%22%20href%3D%22https%3A//maxcdn.bootstrapcdn.com/bootstrap/3.2.0/css/bootstrap-theme.min.css%22/%3E%0A%20%20%20%20%3Clink%20rel%3D%22stylesheet%22%20href%3D%22https%3A//maxcdn.bootstrapcdn.com/font-awesome/4.6.3/css/font-awesome.min.css%22/%3E%0A%20%20%20%20%3Clink%20rel%3D%22stylesheet%22%20href%3D%22https%3A//cdnjs.cloudflare.com/ajax/libs/Leaflet.awesome-markers/2.0.2/leaflet.awesome-markers.css%22/%3E%0A%20%20%20%20%3Clink%20rel%3D%22stylesheet%22%20href%3D%22https%3A//cdn.jsdelivr.net/gh/python-visualization/folium/folium/templates/leaflet.awesome.rotate.min.css%22/%3E%0A%20%20%20%20%0A%20%20%20%20%20%20%20%20%20%20%20%20%3Cmeta%20name%3D%22viewport%22%20content%3D%22width%3Ddevice-width%2C%0A%20%20%20%20%20%20%20%20%20%20%20%20%20%20%20%20initial-scale%3D1.0%2C%20maximum-scale%3D1.0%2C%20user-scalable%3Dno%22%20/%3E%0A%20%20%20%20%20%20%20%20%20%20%20%20%3Cstyle%3E%0A%20%20%20%20%20%20%20%20%20%20%20%20%20%20%20%20%23map_d569f84ac6804df8af189f8e641ac5a3%20%7B%0A%20%20%20%20%20%20%20%20%20%20%20%20%20%20%20%20%20%20%20%20position%3A%20relative%3B%0A%20%20%20%20%20%20%20%20%20%20%20%20%20%20%20%20%20%20%20%20width%3A%20100.0%25%3B%0A%20%20%20%20%20%20%20%20%20%20%20%20%20%20%20%20%20%20%20%20height%3A%20100.0%25%3B%0A%20%20%20%20%20%20%20%20%20%20%20%20%20%20%20%20%20%20%20%20left%3A%200.0%25%3B%0A%20%20%20%20%20%20%20%20%20%20%20%20%20%20%20%20%20%20%20%20top%3A%200.0%25%3B%0A%20%20%20%20%20%20%20%20%20%20%20%20%20%20%20%20%7D%0A%20%20%20%20%20%20%20%20%20%20%20%20%3C/style%3E%0A%20%20%20%20%20%20%20%20%0A%3C/head%3E%0A%3Cbody%3E%20%20%20%20%0A%20%20%20%20%0A%20%20%20%20%20%20%20%20%20%20%20%20%3Cdiv%20class%3D%22folium-map%22%20id%3D%22map_d569f84ac6804df8af189f8e641ac5a3%22%20%3E%3C/div%3E%0A%20%20%20%20%20%20%20%20%0A%3C/body%3E%0A%3Cscript%3E%20%20%20%20%0A%20%20%20%20%0A%20%20%20%20%20%20%20%20%20%20%20%20var%20map_d569f84ac6804df8af189f8e641ac5a3%20%3D%20L.map%28%0A%20%20%20%20%20%20%20%20%20%20%20%20%20%20%20%20%22map_d569f84ac6804df8af189f8e641ac5a3%22%2C%0A%20%20%20%20%20%20%20%20%20%20%20%20%20%20%20%20%7B%0A%20%20%20%20%20%20%20%20%20%20%20%20%20%20%20%20%20%20%20%20center%3A%20%5B-6.351697244022021%2C%20-79.82344439536111%5D%2C%0A%20%20%20%20%20%20%20%20%20%20%20%20%20%20%20%20%20%20%20%20crs%3A%20L.CRS.EPSG3857%2C%0A%20%20%20%20%20%20%20%20%20%20%20%20%20%20%20%20%20%20%20%20zoom%3A%208%2C%0A%20%20%20%20%20%20%20%20%20%20%20%20%20%20%20%20%20%20%20%20zoomControl%3A%20true%2C%0A%20%20%20%20%20%20%20%20%20%20%20%20%20%20%20%20%20%20%20%20preferCanvas%3A%20false%2C%0A%20%20%20%20%20%20%20%20%20%20%20%20%20%20%20%20%7D%0A%20%20%20%20%20%20%20%20%20%20%20%20%29%3B%0A%20%20%20%20%20%20%20%20%20%20%20%20L.control.scale%28%29.addTo%28map_d569f84ac6804df8af189f8e641ac5a3%29%3B%0A%0A%20%20%20%20%20%20%20%20%20%20%20%20%0A%0A%20%20%20%20%20%20%20%20%0A%20%20%20%20%0A%20%20%20%20%20%20%20%20%20%20%20%20var%20tile_layer_aee900a14bd54f92a3f645a97b3ece27%20%3D%20L.tileLayer%28%0A%20%20%20%20%20%20%20%20%20%20%20%20%20%20%20%20%22https%3A//%7Bs%7D.tile.openstreetmap.org/%7Bz%7D/%7Bx%7D/%7By%7D.png%22%2C%0A%20%20%20%20%20%20%20%20%20%20%20%20%20%20%20%20%7B%22attribution%22%3A%20%22Data%20by%20%5Cu0026copy%3B%20%5Cu003ca%20href%3D%5C%22http%3A//openstreetmap.org%5C%22%5Cu003eOpenStreetMap%5Cu003c/a%5Cu003e%2C%20under%20%5Cu003ca%20href%3D%5C%22http%3A//www.openstreetmap.org/copyright%5C%22%5Cu003eODbL%5Cu003c/a%5Cu003e.%22%2C%20%22detectRetina%22%3A%20false%2C%20%22maxNativeZoom%22%3A%2018%2C%20%22maxZoom%22%3A%2018%2C%20%22minZoom%22%3A%200%2C%20%22noWrap%22%3A%20false%2C%20%22opacity%22%3A%201%2C%20%22subdomains%22%3A%20%22abc%22%2C%20%22tms%22%3A%20false%7D%0A%20%20%20%20%20%20%20%20%20%20%20%20%29.addTo%28map_d569f84ac6804df8af189f8e641ac5a3%29%3B%0A%20%20%20%20%20%20%20%20%0A%20%20%20%20%0A%20%20%20%20%20%20%20%20%20%20%20%20var%20tile_layer_b790b5d79fcd4d22ab45c26f671970af%20%3D%20L.tileLayer%28%0A%20%20%20%20%20%20%20%20%20%20%20%20%20%20%20%20%22https%3A//earthengine.googleapis.com/v1alpha/projects/earthengine-legacy/maps/39f446df8a168ef8915b858779907360-31b966071659785b232cf5b1b0e785ef/tiles/%7Bz%7D/%7Bx%7D/%7By%7D%22%2C%0A%20%20%20%20%20%20%20%20%20%20%20%20%20%20%20%20%7B%22attribution%22%3A%20%22Google%20Earth%20Engine%22%2C%20%22detectRetina%22%3A%20false%2C%20%22maxNativeZoom%22%3A%2018%2C%20%22maxZoom%22%3A%2018%2C%20%22minZoom%22%3A%200%2C%20%22noWrap%22%3A%20false%2C%20%22opacity%22%3A%201%2C%20%22subdomains%22%3A%20%22abc%22%2C%20%22tms%22%3A%20false%7D%0A%20%20%20%20%20%20%20%20%20%20%20%20%29.addTo%28map_d569f84ac6804df8af189f8e641ac5a3%29%3B%0A%20%20%20%20%20%20%20%20%0A%20%20%20%20%0A%20%20%20%20%20%20%20%20%20%20%20%20var%20tile_layer_978185b0418e4480ae4d248cadab80a6%20%3D%20L.tileLayer%28%0A%20%20%20%20%20%20%20%20%20%20%20%20%20%20%20%20%22https%3A//earthengine.googleapis.com/v1alpha/projects/earthengine-legacy/maps/fff93377f912e49e5ecc87fbb41da777-4d9b1a7ab0f2a50cd7e584aed9db4827/tiles/%7Bz%7D/%7Bx%7D/%7By%7D%22%2C%0A%20%20%20%20%20%20%20%20%20%20%20%20%20%20%20%20%7B%22attribution%22%3A%20%22Google%20Earth%20Engine%22%2C%20%22detectRetina%22%3A%20false%2C%20%22maxNativeZoom%22%3A%2018%2C%20%22maxZoom%22%3A%2018%2C%20%22minZoom%22%3A%200%2C%20%22noWrap%22%3A%20false%2C%20%22opacity%22%3A%201%2C%20%22subdomains%22%3A%20%22abc%22%2C%20%22tms%22%3A%20false%7D%0A%20%20%20%20%20%20%20%20%20%20%20%20%29.addTo%28map_d569f84ac6804df8af189f8e641ac5a3%29%3B%0A%20%20%20%20%20%20%20%20%0A%20%20%20%20%0A%0A%20%20%20%20%20%20%20%20function%20geo_json_08f285ad51bc4e89b8f906f48439912d_onEachFeature%28feature%2C%20layer%29%20%7B%0A%20%20%20%20%20%20%20%20%20%20%20%20layer.on%28%7B%0A%20%20%20%20%20%20%20%20%20%20%20%20%7D%29%3B%0A%20%20%20%20%20%20%20%20%7D%3B%0A%20%20%20%20%20%20%20%20var%20geo_json_08f285ad51bc4e89b8f906f48439912d%20%3D%20L.geoJson%28null%2C%20%7B%0A%20%20%20%20%20%20%20%20%20%20%20%20%20%20%20%20onEachFeature%3A%20geo_json_08f285ad51bc4e89b8f906f48439912d_onEachFeature%2C%0A%20%20%20%20%20%20%20%20%20%20%20%20%0A%20%20%20%20%20%20%20%20%7D%29%3B%0A%0A%20%20%20%20%20%20%20%20function%20geo_json_08f285ad51bc4e89b8f906f48439912d_add%20%28data%29%20%7B%0A%20%20%20%20%20%20%20%20%20%20%20%20geo_json_08f285ad51bc4e89b8f906f48439912d%0A%20%20%20%20%20%20%20%20%20%20%20%20%20%20%20%20.addData%28data%29%0A%20%20%20%20%20%20%20%20%20%20%20%20%20%20%20%20.addTo%28map_d569f84ac6804df8af189f8e641ac5a3%29%3B%0A%20%20%20%20%20%20%20%20%7D%0A%20%20%20%20%20%20%20%20%20%20%20%20geo_json_08f285ad51bc4e89b8f906f48439912d_add%28%7B%22coordinates%22%3A%20%5B-79.389%2C%20-6.639%5D%2C%20%22type%22%3A%20%22Point%22%7D%29%3B%0A%0A%20%20%20%20%20%20%20%20%0A%20%20%20%20%0A%0A%20%20%20%20%20%20%20%20function%20geo_json_3fce9c8c6ba144d4933ea4a8a422222c_onEachFeature%28feature%2C%20layer%29%20%7B%0A%20%20%20%20%20%20%20%20%20%20%20%20layer.on%28%7B%0A%20%20%20%20%20%20%20%20%20%20%20%20%7D%29%3B%0A%20%20%20%20%20%20%20%20%7D%3B%0A%20%20%20%20%20%20%20%20var%20geo_json_3fce9c8c6ba144d4933ea4a8a422222c%20%3D%20L.geoJson%28null%2C%20%7B%0A%20%20%20%20%20%20%20%20%20%20%20%20%20%20%20%20onEachFeature%3A%20geo_json_3fce9c8c6ba144d4933ea4a8a422222c_onEachFeature%2C%0A%20%20%20%20%20%20%20%20%20%20%20%20%0A%20%20%20%20%20%20%20%20%7D%29%3B%0A%0A%20%20%20%20%20%20%20%20function%20geo_json_3fce9c8c6ba144d4933ea4a8a422222c_add%20%28data%29%20%7B%0A%20%20%20%20%20%20%20%20%20%20%20%20geo_json_3fce9c8c6ba144d4933ea4a8a422222c%0A%20%20%20%20%20%20%20%20%20%20%20%20%20%20%20%20.addData%28data%29%0A%20%20%20%20%20%20%20%20%20%20%20%20%20%20%20%20.addTo%28map_d569f84ac6804df8af189f8e641ac5a3%29%3B%0A%20%20%20%20%20%20%20%20%7D%0A%20%20%20%20%20%20%20%20%20%20%20%20geo_json_3fce9c8c6ba144d4933ea4a8a422222c_add%28%7B%22coordinates%22%3A%20%5B-79.823%2C%20-6.351%5D%2C%20%22type%22%3A%20%22Point%22%7D%29%3B%0A%0A%20%20%20%20%20%20%20%20%0A%20%20%20%20%0A%0A%20%20%20%20%20%20%20%20function%20geo_json_9dfa3cb12e074d4f9a9fc5549250be20_onEachFeature%28feature%2C%20layer%29%20%7B%0A%20%20%20%20%20%20%20%20%20%20%20%20layer.on%28%7B%0A%20%20%20%20%20%20%20%20%20%20%20%20%7D%29%3B%0A%20%20%20%20%20%20%20%20%7D%3B%0A%20%20%20%20%20%20%20%20var%20geo_json_9dfa3cb12e074d4f9a9fc5549250be20%20%3D%20L.geoJson%28null%2C%20%7B%0A%20%20%20%20%20%20%20%20%20%20%20%20%20%20%20%20onEachFeature%3A%20geo_json_9dfa3cb12e074d4f9a9fc5549250be20_onEachFeature%2C%0A%20%20%20%20%20%20%20%20%20%20%20%20%0A%20%20%20%20%20%20%20%20%7D%29%3B%0A%0A%20%20%20%20%20%20%20%20function%20geo_json_9dfa3cb12e074d4f9a9fc5549250be20_add%20%28data%29%20%7B%0A%20%20%20%20%20%20%20%20%20%20%20%20geo_json_9dfa3cb12e074d4f9a9fc5549250be20%0A%20%20%20%20%20%20%20%20%20%20%20%20%20%20%20%20.addData%28data%29%0A%20%20%20%20%20%20%20%20%20%20%20%20%20%20%20%20.addTo%28map_d569f84ac6804df8af189f8e641ac5a3%29%3B%0A%20%20%20%20%20%20%20%20%7D%0A%20%20%20%20%20%20%20%20%20%20%20%20geo_json_9dfa3cb12e074d4f9a9fc5549250be20_add%28%7B%22coordinates%22%3A%20%5B-79.309%2C%20-6.846%5D%2C%20%22type%22%3A%20%22Point%22%7D%29%3B%0A%0A%20%20%20%20%20%20%20%20%0A%20%20%20%20%0A%20%20%20%20%20%20%20%20%20%20%20%20var%20layer_control_02d3e42feb904a0cb1c1d8aaa9499325%20%3D%20%7B%0A%20%20%20%20%20%20%20%20%20%20%20%20%20%20%20%20base_layers%20%3A%20%7B%0A%20%20%20%20%20%20%20%20%20%20%20%20%20%20%20%20%20%20%20%20%22openstreetmap%22%20%3A%20tile_layer_aee900a14bd54f92a3f645a97b3ece27%2C%0A%20%20%20%20%20%20%20%20%20%20%20%20%20%20%20%20%7D%2C%0A%20%20%20%20%20%20%20%20%20%20%20%20%20%20%20%20overlays%20%3A%20%20%7B%0A%20%20%20%20%20%20%20%20%20%20%20%20%20%20%20%20%20%20%20%20%22img_col%22%20%3A%20tile_layer_b790b5d79fcd4d22ab45c26f671970af%2C%0A%20%20%20%20%20%20%20%20%20%20%20%20%20%20%20%20%20%20%20%20%22Lambayeque%22%20%3A%20tile_layer_978185b0418e4480ae4d248cadab80a6%2C%0A%20%20%20%20%20%20%20%20%20%20%20%20%20%20%20%20%20%20%20%20%22Chongoyape%22%20%3A%20geo_json_08f285ad51bc4e89b8f906f48439912d%2C%0A%20%20%20%20%20%20%20%20%20%20%20%20%20%20%20%20%20%20%20%20%22centroide%22%20%3A%20geo_json_3fce9c8c6ba144d4933ea4a8a422222c%2C%0A%20%20%20%20%20%20%20%20%20%20%20%20%20%20%20%20%20%20%20%20%22Oyotun%22%20%3A%20geo_json_9dfa3cb12e074d4f9a9fc5549250be20%2C%0A%20%20%20%20%20%20%20%20%20%20%20%20%20%20%20%20%7D%2C%0A%20%20%20%20%20%20%20%20%20%20%20%20%7D%3B%0A%20%20%20%20%20%20%20%20%20%20%20%20L.control.layers%28%0A%20%20%20%20%20%20%20%20%20%20%20%20%20%20%20%20layer_control_02d3e42feb904a0cb1c1d8aaa9499325.base_layers%2C%0A%20%20%20%20%20%20%20%20%20%20%20%20%20%20%20%20layer_control_02d3e42feb904a0cb1c1d8aaa9499325.overlays%2C%0A%20%20%20%20%20%20%20%20%20%20%20%20%20%20%20%20%7B%22autoZIndex%22%3A%20true%2C%20%22collapsed%22%3A%20true%2C%20%22position%22%3A%20%22topright%22%7D%0A%20%20%20%20%20%20%20%20%20%20%20%20%29.addTo%28map_d569f84ac6804df8af189f8e641ac5a3%29%3B%0A%20%20%20%20%20%20%20%20%0A%3C/script%3E onload=\"this.contentDocument.open();this.contentDocument.write(    decodeURIComponent(this.getAttribute('data-html')));this.contentDocument.close();\" allowfullscreen webkitallowfullscreen mozallowfullscreen></iframe></div></div>"
      ],
      "text/plain": [
       "<folium.folium.Map at 0x1e0e2f16148>"
      ]
     },
     "execution_count": 4,
     "metadata": {},
     "output_type": "execute_result"
    }
   ],
   "source": [
    "# @markdown **Prueba**: Visualización rápida de imágenes Landsat y ROI\n",
    "Start_date = '2020-01-01'  #@param {type: \"date\"}\n",
    "End_date   = '2021-01-01'  #@param {type: \"date\"}\n",
    "range_date = [Start_date, End_date]\n",
    "\n",
    "img_col = ee.ImageCollection(\"LANDSAT/LC08/C01/T1_SR\")\\\n",
    ".filterDate(Start_date, End_date)\\\n",
    ".filterBounds(roiDep)\\\n",
    ".sort('CLOUD_COVER')\\\n",
    ".median().multiply(0.0001).select(['B4','B3','B2'])\n",
    "\n",
    "# Visualizacion: Mapdisplay\n",
    "chongoyape = ee.Geometry.Point([-79.389, -6.639])\n",
    "oyotun     = ee.Geometry.Point([-79.309, -6.846])\n",
    "centroide  = ee.Geometry.Point([-79.823, -6.351])\n",
    "\n",
    "dict_img = {\n",
    "    'img_col': img_col.getMapId({'min':0.0, 'max':0.3, 'bands': ['B4','B3','B2']}),\n",
    "    'Lambayeque': roiDepDraw.getMapId(),\n",
    "    'Chongoyape': chongoyape.getInfo(),\n",
    "    'centroide': centroide.getInfo(),\n",
    "    'Oyotun': oyotun.getInfo()\n",
    "    } # ,'roi': roi_clip.getInfo()\n",
    "\n",
    "mapdisplay(centroidDep, dict_img, zoom_start=8)"
   ]
  },
  {
   "cell_type": "code",
   "execution_count": 5,
   "metadata": {
    "ExecuteTime": {
     "end_time": "2021-06-19T14:24:46.674879Z",
     "start_time": "2021-06-19T14:24:39.816025Z"
    },
    "cellView": "form",
    "colab": {
     "base_uri": "https://localhost:8080/"
    },
    "id": "JRMbt5dvVUth",
    "outputId": "da399a81-56af-494c-f312-cb59c50f8443"
   },
   "outputs": [
    {
     "name": "stdout",
     "output_type": "stream",
     "text": [
      "Imagen Top\n",
      "Total imágenes: 155\n",
      "Rango Temporal Ingresado : 2011-12-17 - 2021-02-11\n",
      "Rango Temporal Real      : 2013-03-22 - 2021-02-03\n",
      "\n",
      "Mejor imagen:\n",
      "% nubosidad: 5.4\n",
      "Image ID: LANDSAT/LC08/C01/T1_SR/LC08_010064_20200811\n",
      "Fecha: 2020-08-11 15:27:52\n",
      "\n",
      "Imagen Bottom\n",
      "Total imágenes: 149\n",
      "Rango Temporal Ingresado : 2011-12-17 - 2021-02-11\n",
      "Rango Temporal Real      : 2013-03-27 - 2021-02-03\n",
      "\n",
      "Mejor imagen:\n",
      "% nubosidad: 0.75\n",
      "Image ID: LANDSAT/LC08/C01/T1_SR/LC08_010065_20160816\n",
      "Fecha: 2016-08-16 15:28:22\n"
     ]
    }
   ],
   "source": [
    "#@markdown Primera imagen registrada: `2013-03-24`\n",
    "\n",
    "Start_date = '2011-12-17'  #@param {type: \"date\"}\n",
    "End_date   = '2021-02-11'  #@param {type: \"date\"}\n",
    "range_date = [Start_date, End_date]\n",
    "\n",
    "img_col1 = ee.ImageCollection(\"LANDSAT/LC08/C01/T1_SR\")\\\n",
    "        .filterDate(Start_date, End_date)\\\n",
    "        .filterBounds(ee.Geometry.Point(-79.823, -6.351))\\\n",
    "        .sort('CLOUD_COVER')#\\.first()\n",
    "\n",
    "img_col2 = ee.ImageCollection(\"LANDSAT/LC08/C01/T1_SR\")\\\n",
    "        .filterDate(Start_date, End_date)\\\n",
    "        .filterBounds(ee.Geometry.Point(-79.309, -6.846))\\\n",
    "        .sort('CLOUD_COVER')#\\.first()\n",
    "\n",
    "# .filterBounds(roiDep)\\\n",
    "# .filterBounds(ee.Geometry.Point(-79.82, -6.35))\\\n",
    "\n",
    "bands = ['B4','B3','B2']\n",
    "img_rgb1 = img_col1.first().multiply(0.0001).select(bands)   #.clip(roi_clip)\n",
    "img_rgb2 = img_col2.first().multiply(0.0001).select(bands)   #.clip(roi_clip)\n",
    "\n",
    "# --- Visualizacion de imagen ----------\n",
    "\n",
    "print('Imagen Top')\n",
    "ver_rangos(img_col1, range_date=range_date)\n",
    "\n",
    "print('\\nMejor imagen:')\n",
    "print('% nubosidad:', img_col1.first().getInfo()['properties']['CLOUD_COVER'])\n",
    "print('Image ID:',img_col1.first().getInfo().get('id'))\n",
    "print('Fecha:', conv_fecha(img_col1.first()))\n",
    "\n",
    "print('\\nImagen Bottom')\n",
    "ver_rangos(img_col2, range_date=range_date)\n",
    "\n",
    "print('\\nMejor imagen:')\n",
    "print('% nubosidad:', img_col2.first().getInfo()['properties']['CLOUD_COVER'])\n",
    "print('Image ID:',img_col2.first().getInfo().get('id'))\n",
    "print('Fecha:', conv_fecha(img_col2.first()))"
   ]
  },
  {
   "cell_type": "code",
   "execution_count": 11,
   "metadata": {
    "ExecuteTime": {
     "end_time": "2021-06-19T14:26:09.383126Z",
     "start_time": "2021-06-19T14:26:04.919005Z"
    },
    "cellView": "form",
    "colab": {
     "base_uri": "https://localhost:8080/"
    },
    "id": "lNS5ecRC1zAR",
    "outputId": "7e975b3f-314c-46fb-f7fc-09fe3c2c5026",
    "scrolled": false
   },
   "outputs": [
    {
     "data": {
      "text/html": [
       "<div style=\"width:100%;\"><div style=\"position:relative;width:100%;height:0;padding-bottom:60%;\"><span style=\"color:#565656\">Make this Notebook Trusted to load map: File -> Trust Notebook</span><iframe src=\"about:blank\" style=\"position:absolute;width:100%;height:100%;left:0;top:0;border:none !important;\" data-html=%3C%21DOCTYPE%20html%3E%0A%3Chead%3E%20%20%20%20%0A%20%20%20%20%3Cmeta%20http-equiv%3D%22content-type%22%20content%3D%22text/html%3B%20charset%3DUTF-8%22%20/%3E%0A%20%20%20%20%0A%20%20%20%20%20%20%20%20%3Cscript%3E%0A%20%20%20%20%20%20%20%20%20%20%20%20L_NO_TOUCH%20%3D%20false%3B%0A%20%20%20%20%20%20%20%20%20%20%20%20L_DISABLE_3D%20%3D%20false%3B%0A%20%20%20%20%20%20%20%20%3C/script%3E%0A%20%20%20%20%0A%20%20%20%20%3Cstyle%3Ehtml%2C%20body%20%7Bwidth%3A%20100%25%3Bheight%3A%20100%25%3Bmargin%3A%200%3Bpadding%3A%200%3B%7D%3C/style%3E%0A%20%20%20%20%3Cstyle%3E%23map%20%7Bposition%3Aabsolute%3Btop%3A0%3Bbottom%3A0%3Bright%3A0%3Bleft%3A0%3B%7D%3C/style%3E%0A%20%20%20%20%3Cscript%20src%3D%22https%3A//cdn.jsdelivr.net/npm/leaflet%401.6.0/dist/leaflet.js%22%3E%3C/script%3E%0A%20%20%20%20%3Cscript%20src%3D%22https%3A//code.jquery.com/jquery-1.12.4.min.js%22%3E%3C/script%3E%0A%20%20%20%20%3Cscript%20src%3D%22https%3A//maxcdn.bootstrapcdn.com/bootstrap/3.2.0/js/bootstrap.min.js%22%3E%3C/script%3E%0A%20%20%20%20%3Cscript%20src%3D%22https%3A//cdnjs.cloudflare.com/ajax/libs/Leaflet.awesome-markers/2.0.2/leaflet.awesome-markers.js%22%3E%3C/script%3E%0A%20%20%20%20%3Clink%20rel%3D%22stylesheet%22%20href%3D%22https%3A//cdn.jsdelivr.net/npm/leaflet%401.6.0/dist/leaflet.css%22/%3E%0A%20%20%20%20%3Clink%20rel%3D%22stylesheet%22%20href%3D%22https%3A//maxcdn.bootstrapcdn.com/bootstrap/3.2.0/css/bootstrap.min.css%22/%3E%0A%20%20%20%20%3Clink%20rel%3D%22stylesheet%22%20href%3D%22https%3A//maxcdn.bootstrapcdn.com/bootstrap/3.2.0/css/bootstrap-theme.min.css%22/%3E%0A%20%20%20%20%3Clink%20rel%3D%22stylesheet%22%20href%3D%22https%3A//maxcdn.bootstrapcdn.com/font-awesome/4.6.3/css/font-awesome.min.css%22/%3E%0A%20%20%20%20%3Clink%20rel%3D%22stylesheet%22%20href%3D%22https%3A//cdnjs.cloudflare.com/ajax/libs/Leaflet.awesome-markers/2.0.2/leaflet.awesome-markers.css%22/%3E%0A%20%20%20%20%3Clink%20rel%3D%22stylesheet%22%20href%3D%22https%3A//cdn.jsdelivr.net/gh/python-visualization/folium/folium/templates/leaflet.awesome.rotate.min.css%22/%3E%0A%20%20%20%20%0A%20%20%20%20%20%20%20%20%20%20%20%20%3Cmeta%20name%3D%22viewport%22%20content%3D%22width%3Ddevice-width%2C%0A%20%20%20%20%20%20%20%20%20%20%20%20%20%20%20%20initial-scale%3D1.0%2C%20maximum-scale%3D1.0%2C%20user-scalable%3Dno%22%20/%3E%0A%20%20%20%20%20%20%20%20%20%20%20%20%3Cstyle%3E%0A%20%20%20%20%20%20%20%20%20%20%20%20%20%20%20%20%23map_bed71483705243ecaa9883ade6622475%20%7B%0A%20%20%20%20%20%20%20%20%20%20%20%20%20%20%20%20%20%20%20%20position%3A%20relative%3B%0A%20%20%20%20%20%20%20%20%20%20%20%20%20%20%20%20%20%20%20%20width%3A%20100.0%25%3B%0A%20%20%20%20%20%20%20%20%20%20%20%20%20%20%20%20%20%20%20%20height%3A%20100.0%25%3B%0A%20%20%20%20%20%20%20%20%20%20%20%20%20%20%20%20%20%20%20%20left%3A%200.0%25%3B%0A%20%20%20%20%20%20%20%20%20%20%20%20%20%20%20%20%20%20%20%20top%3A%200.0%25%3B%0A%20%20%20%20%20%20%20%20%20%20%20%20%20%20%20%20%7D%0A%20%20%20%20%20%20%20%20%20%20%20%20%3C/style%3E%0A%20%20%20%20%20%20%20%20%0A%20%20%20%20%3Cscript%20src%3D%22https%3A//cdnjs.cloudflare.com/ajax/libs/leaflet.fullscreen/1.4.2/Control.FullScreen.min.js%22%3E%3C/script%3E%0A%20%20%20%20%3Clink%20rel%3D%22stylesheet%22%20href%3D%22https%3A//cdnjs.cloudflare.com/ajax/libs/leaflet.fullscreen/1.4.2/Control.FullScreen.min.css%22/%3E%0A%3C/head%3E%0A%3Cbody%3E%20%20%20%20%0A%20%20%20%20%0A%20%20%20%20%20%20%20%20%20%20%20%20%3Cdiv%20class%3D%22folium-map%22%20id%3D%22map_bed71483705243ecaa9883ade6622475%22%20%3E%3C/div%3E%0A%20%20%20%20%20%20%20%20%0A%3C/body%3E%0A%3Cscript%3E%20%20%20%20%0A%20%20%20%20%0A%20%20%20%20%20%20%20%20%20%20%20%20var%20map_bed71483705243ecaa9883ade6622475%20%3D%20L.map%28%0A%20%20%20%20%20%20%20%20%20%20%20%20%20%20%20%20%22map_bed71483705243ecaa9883ade6622475%22%2C%0A%20%20%20%20%20%20%20%20%20%20%20%20%20%20%20%20%7B%0A%20%20%20%20%20%20%20%20%20%20%20%20%20%20%20%20%20%20%20%20center%3A%20%5B-6.351697244022021%2C%20-79.82344439536111%5D%2C%0A%20%20%20%20%20%20%20%20%20%20%20%20%20%20%20%20%20%20%20%20crs%3A%20L.CRS.EPSG3857%2C%0A%20%20%20%20%20%20%20%20%20%20%20%20%20%20%20%20%20%20%20%20zoom%3A%209%2C%0A%20%20%20%20%20%20%20%20%20%20%20%20%20%20%20%20%20%20%20%20zoomControl%3A%20true%2C%0A%20%20%20%20%20%20%20%20%20%20%20%20%20%20%20%20%20%20%20%20preferCanvas%3A%20false%2C%0A%20%20%20%20%20%20%20%20%20%20%20%20%20%20%20%20%7D%0A%20%20%20%20%20%20%20%20%20%20%20%20%29%3B%0A%20%20%20%20%20%20%20%20%20%20%20%20L.control.scale%28%29.addTo%28map_bed71483705243ecaa9883ade6622475%29%3B%0A%0A%20%20%20%20%20%20%20%20%20%20%20%20%0A%0A%20%20%20%20%20%20%20%20%0A%20%20%20%20%0A%20%20%20%20%20%20%20%20%20%20%20%20var%20tile_layer_a25f45dc8b034b3684ac092c104cadd7%20%3D%20L.tileLayer%28%0A%20%20%20%20%20%20%20%20%20%20%20%20%20%20%20%20%22https%3A//%7Bs%7D.tile.openstreetmap.org/%7Bz%7D/%7Bx%7D/%7By%7D.png%22%2C%0A%20%20%20%20%20%20%20%20%20%20%20%20%20%20%20%20%7B%22attribution%22%3A%20%22Data%20by%20%5Cu0026copy%3B%20%5Cu003ca%20href%3D%5C%22http%3A//openstreetmap.org%5C%22%5Cu003eOpenStreetMap%5Cu003c/a%5Cu003e%2C%20under%20%5Cu003ca%20href%3D%5C%22http%3A//www.openstreetmap.org/copyright%5C%22%5Cu003eODbL%5Cu003c/a%5Cu003e.%22%2C%20%22detectRetina%22%3A%20false%2C%20%22maxNativeZoom%22%3A%2018%2C%20%22maxZoom%22%3A%2018%2C%20%22minZoom%22%3A%200%2C%20%22noWrap%22%3A%20false%2C%20%22opacity%22%3A%201%2C%20%22subdomains%22%3A%20%22abc%22%2C%20%22tms%22%3A%20false%7D%0A%20%20%20%20%20%20%20%20%20%20%20%20%29.addTo%28map_bed71483705243ecaa9883ade6622475%29%3B%0A%20%20%20%20%20%20%20%20%0A%20%20%20%20%0A%20%20%20%20%20%20%20%20%20%20%20%20var%20tile_layer_6a7af842294e406599aa8840ad7c51c4%20%3D%20L.tileLayer%28%0A%20%20%20%20%20%20%20%20%20%20%20%20%20%20%20%20%22https%3A//earthengine.googleapis.com/v1alpha/projects/earthengine-legacy/maps/996bc3b6cf6ea190b8cfb74ee950d761-683bf7cda69478c903fcdfb6bf482a99/tiles/%7Bz%7D/%7Bx%7D/%7By%7D%22%2C%0A%20%20%20%20%20%20%20%20%20%20%20%20%20%20%20%20%7B%22attribution%22%3A%20%22Google%20Earth%20Engine%22%2C%20%22detectRetina%22%3A%20false%2C%20%22maxNativeZoom%22%3A%2018%2C%20%22maxZoom%22%3A%2018%2C%20%22minZoom%22%3A%200%2C%20%22noWrap%22%3A%20false%2C%20%22opacity%22%3A%201%2C%20%22subdomains%22%3A%20%22abc%22%2C%20%22tms%22%3A%20false%7D%0A%20%20%20%20%20%20%20%20%20%20%20%20%29.addTo%28map_bed71483705243ecaa9883ade6622475%29%3B%0A%20%20%20%20%20%20%20%20%0A%20%20%20%20%0A%20%20%20%20%20%20%20%20%20%20%20%20var%20tile_layer_187c22531bff445da4c58b3380cea608%20%3D%20L.tileLayer%28%0A%20%20%20%20%20%20%20%20%20%20%20%20%20%20%20%20%22https%3A//earthengine.googleapis.com/v1alpha/projects/earthengine-legacy/maps/bcb1b9bcb3d84aee17bd2189fbccb2a7-523d6f3612fa64f6bd9c4ad8aadd18ca/tiles/%7Bz%7D/%7Bx%7D/%7By%7D%22%2C%0A%20%20%20%20%20%20%20%20%20%20%20%20%20%20%20%20%7B%22attribution%22%3A%20%22Google%20Earth%20Engine%22%2C%20%22detectRetina%22%3A%20false%2C%20%22maxNativeZoom%22%3A%2018%2C%20%22maxZoom%22%3A%2018%2C%20%22minZoom%22%3A%200%2C%20%22noWrap%22%3A%20false%2C%20%22opacity%22%3A%201%2C%20%22subdomains%22%3A%20%22abc%22%2C%20%22tms%22%3A%20false%7D%0A%20%20%20%20%20%20%20%20%20%20%20%20%29.addTo%28map_bed71483705243ecaa9883ade6622475%29%3B%0A%20%20%20%20%20%20%20%20%0A%20%20%20%20%0A%0A%20%20%20%20%20%20%20%20function%20geo_json_25c3143e47e44789b802e063e5572f15_onEachFeature%28feature%2C%20layer%29%20%7B%0A%20%20%20%20%20%20%20%20%20%20%20%20layer.on%28%7B%0A%20%20%20%20%20%20%20%20%20%20%20%20%7D%29%3B%0A%20%20%20%20%20%20%20%20%7D%3B%0A%20%20%20%20%20%20%20%20var%20geo_json_25c3143e47e44789b802e063e5572f15%20%3D%20L.geoJson%28null%2C%20%7B%0A%20%20%20%20%20%20%20%20%20%20%20%20%20%20%20%20onEachFeature%3A%20geo_json_25c3143e47e44789b802e063e5572f15_onEachFeature%2C%0A%20%20%20%20%20%20%20%20%20%20%20%20%0A%20%20%20%20%20%20%20%20%7D%29%3B%0A%0A%20%20%20%20%20%20%20%20function%20geo_json_25c3143e47e44789b802e063e5572f15_add%20%28data%29%20%7B%0A%20%20%20%20%20%20%20%20%20%20%20%20geo_json_25c3143e47e44789b802e063e5572f15%0A%20%20%20%20%20%20%20%20%20%20%20%20%20%20%20%20.addData%28data%29%0A%20%20%20%20%20%20%20%20%20%20%20%20%20%20%20%20.addTo%28map_bed71483705243ecaa9883ade6622475%29%3B%0A%20%20%20%20%20%20%20%20%7D%0A%20%20%20%20%20%20%20%20%20%20%20%20geo_json_25c3143e47e44789b802e063e5572f15_add%28%7B%22coordinates%22%3A%20%5B-79.389%2C%20-6.639%5D%2C%20%22type%22%3A%20%22Point%22%7D%29%3B%0A%0A%20%20%20%20%20%20%20%20%0A%20%20%20%20%0A%0A%20%20%20%20%20%20%20%20function%20geo_json_24e146d474fa40b9b0e26091f538019b_onEachFeature%28feature%2C%20layer%29%20%7B%0A%20%20%20%20%20%20%20%20%20%20%20%20layer.on%28%7B%0A%20%20%20%20%20%20%20%20%20%20%20%20%7D%29%3B%0A%20%20%20%20%20%20%20%20%7D%3B%0A%20%20%20%20%20%20%20%20var%20geo_json_24e146d474fa40b9b0e26091f538019b%20%3D%20L.geoJson%28null%2C%20%7B%0A%20%20%20%20%20%20%20%20%20%20%20%20%20%20%20%20onEachFeature%3A%20geo_json_24e146d474fa40b9b0e26091f538019b_onEachFeature%2C%0A%20%20%20%20%20%20%20%20%20%20%20%20%0A%20%20%20%20%20%20%20%20%7D%29%3B%0A%0A%20%20%20%20%20%20%20%20function%20geo_json_24e146d474fa40b9b0e26091f538019b_add%20%28data%29%20%7B%0A%20%20%20%20%20%20%20%20%20%20%20%20geo_json_24e146d474fa40b9b0e26091f538019b%0A%20%20%20%20%20%20%20%20%20%20%20%20%20%20%20%20.addData%28data%29%0A%20%20%20%20%20%20%20%20%20%20%20%20%20%20%20%20.addTo%28map_bed71483705243ecaa9883ade6622475%29%3B%0A%20%20%20%20%20%20%20%20%7D%0A%20%20%20%20%20%20%20%20%20%20%20%20geo_json_24e146d474fa40b9b0e26091f538019b_add%28%7B%22coordinates%22%3A%20%5B-79.823%2C%20-6.351%5D%2C%20%22type%22%3A%20%22Point%22%7D%29%3B%0A%0A%20%20%20%20%20%20%20%20%0A%20%20%20%20%0A%0A%20%20%20%20%20%20%20%20function%20geo_json_9389933e083d4cc7b51e23b53483ba78_onEachFeature%28feature%2C%20layer%29%20%7B%0A%20%20%20%20%20%20%20%20%20%20%20%20layer.on%28%7B%0A%20%20%20%20%20%20%20%20%20%20%20%20%7D%29%3B%0A%20%20%20%20%20%20%20%20%7D%3B%0A%20%20%20%20%20%20%20%20var%20geo_json_9389933e083d4cc7b51e23b53483ba78%20%3D%20L.geoJson%28null%2C%20%7B%0A%20%20%20%20%20%20%20%20%20%20%20%20%20%20%20%20onEachFeature%3A%20geo_json_9389933e083d4cc7b51e23b53483ba78_onEachFeature%2C%0A%20%20%20%20%20%20%20%20%20%20%20%20%0A%20%20%20%20%20%20%20%20%7D%29%3B%0A%0A%20%20%20%20%20%20%20%20function%20geo_json_9389933e083d4cc7b51e23b53483ba78_add%20%28data%29%20%7B%0A%20%20%20%20%20%20%20%20%20%20%20%20geo_json_9389933e083d4cc7b51e23b53483ba78%0A%20%20%20%20%20%20%20%20%20%20%20%20%20%20%20%20.addData%28data%29%0A%20%20%20%20%20%20%20%20%20%20%20%20%20%20%20%20.addTo%28map_bed71483705243ecaa9883ade6622475%29%3B%0A%20%20%20%20%20%20%20%20%7D%0A%20%20%20%20%20%20%20%20%20%20%20%20geo_json_9389933e083d4cc7b51e23b53483ba78_add%28%7B%22coordinates%22%3A%20%5B-79.309%2C%20-6.846%5D%2C%20%22type%22%3A%20%22Point%22%7D%29%3B%0A%0A%20%20%20%20%20%20%20%20%0A%20%20%20%20%0A%20%20%20%20%20%20%20%20%20%20%20%20L.control.fullscreen%28%0A%20%20%20%20%20%20%20%20%20%20%20%20%20%20%20%20%7B%22forceSeparateButton%22%3A%20false%2C%20%22position%22%3A%20%22topleft%22%2C%20%22title%22%3A%20%22Full%20Screen%22%2C%20%22titleCancel%22%3A%20%22Exit%20Full%20Screen%22%7D%0A%20%20%20%20%20%20%20%20%20%20%20%20%29.addTo%28map_bed71483705243ecaa9883ade6622475%29%3B%0A%20%20%20%20%20%20%20%20%0A%20%20%20%20%0A%20%20%20%20%20%20%20%20%20%20%20%20var%20layer_control_3bfc9c93f12f49e4b9cda1ba99d735ec%20%3D%20%7B%0A%20%20%20%20%20%20%20%20%20%20%20%20%20%20%20%20base_layers%20%3A%20%7B%0A%20%20%20%20%20%20%20%20%20%20%20%20%20%20%20%20%20%20%20%20%22openstreetmap%22%20%3A%20tile_layer_a25f45dc8b034b3684ac092c104cadd7%2C%0A%20%20%20%20%20%20%20%20%20%20%20%20%20%20%20%20%7D%2C%0A%20%20%20%20%20%20%20%20%20%20%20%20%20%20%20%20overlays%20%3A%20%20%7B%0A%20%20%20%20%20%20%20%20%20%20%20%20%20%20%20%20%20%20%20%20%22imgtop%22%20%3A%20tile_layer_6a7af842294e406599aa8840ad7c51c4%2C%0A%20%20%20%20%20%20%20%20%20%20%20%20%20%20%20%20%20%20%20%20%22imgbot%22%20%3A%20tile_layer_187c22531bff445da4c58b3380cea608%2C%0A%20%20%20%20%20%20%20%20%20%20%20%20%20%20%20%20%20%20%20%20%22Chongoyape%22%20%3A%20geo_json_25c3143e47e44789b802e063e5572f15%2C%0A%20%20%20%20%20%20%20%20%20%20%20%20%20%20%20%20%20%20%20%20%22centroide%22%20%3A%20geo_json_24e146d474fa40b9b0e26091f538019b%2C%0A%20%20%20%20%20%20%20%20%20%20%20%20%20%20%20%20%20%20%20%20%22Oyotun%22%20%3A%20geo_json_9389933e083d4cc7b51e23b53483ba78%2C%0A%20%20%20%20%20%20%20%20%20%20%20%20%20%20%20%20%7D%2C%0A%20%20%20%20%20%20%20%20%20%20%20%20%7D%3B%0A%20%20%20%20%20%20%20%20%20%20%20%20L.control.layers%28%0A%20%20%20%20%20%20%20%20%20%20%20%20%20%20%20%20layer_control_3bfc9c93f12f49e4b9cda1ba99d735ec.base_layers%2C%0A%20%20%20%20%20%20%20%20%20%20%20%20%20%20%20%20layer_control_3bfc9c93f12f49e4b9cda1ba99d735ec.overlays%2C%0A%20%20%20%20%20%20%20%20%20%20%20%20%20%20%20%20%7B%22autoZIndex%22%3A%20true%2C%20%22collapsed%22%3A%20true%2C%20%22position%22%3A%20%22topright%22%7D%0A%20%20%20%20%20%20%20%20%20%20%20%20%29.addTo%28map_bed71483705243ecaa9883ade6622475%29%3B%0A%20%20%20%20%20%20%20%20%0A%3C/script%3E onload=\"this.contentDocument.open();this.contentDocument.write(    decodeURIComponent(this.getAttribute('data-html')));this.contentDocument.close();\" allowfullscreen webkitallowfullscreen mozallowfullscreen></iframe></div></div>"
      ],
      "text/plain": [
       "<folium.folium.Map at 0x1e0e4b57f48>"
      ]
     },
     "execution_count": 11,
     "metadata": {},
     "output_type": "execute_result"
    }
   ],
   "source": [
    "#@markdown Visualización\n",
    "chongoyape = ee.Geometry.Point([-79.389, -6.639])\n",
    "oyotun     = ee.Geometry.Point([-79.309, -6.846])\n",
    "centroide  = ee.Geometry.Point([-79.823, -6.351])\n",
    "\n",
    "dict_img = {\n",
    "    'imgtop': img_rgb1.clip(roiDep).getMapId({'min':0.0, 'max':0.3, 'bands': bands}),\n",
    "    'imgbot': img_rgb2.clip(roiDep).getMapId({'min':0.0, 'max':0.3, 'bands': bands}),\n",
    "\n",
    "    # 'Lambayeque': roiDepDraw.getMapId(),\n",
    "    'Chongoyape': chongoyape.getInfo(),\n",
    "\n",
    "    'centroide': centroide.getInfo(),\n",
    "    'Oyotun': oyotun.getInfo()\n",
    "    }\n",
    "\n",
    "mapdisplay(centroidDep, dict_img, zoom_start=9)"
   ]
  },
  {
   "cell_type": "markdown",
   "metadata": {
    "id": "QQtb9G82aEDd"
   },
   "source": [
    "### Generar visualización a partir de IDs"
   ]
  },
  {
   "cell_type": "markdown",
   "metadata": {
    "id": "Julub6gJF0xw"
   },
   "source": [
    "Para visualizar rápidamente imágenes landsat que abarquen un territorio usar:\n",
    "- [GEO GPS PERÚ: Ubica el PATH y ROW de tu distrito para imágenes LANDSAT](https://www.geogpsperu.com/2016/02/ubica-el-path-y-row-de-tu-distrito-para.html)"
   ]
  },
  {
   "cell_type": "code",
   "execution_count": null,
   "metadata": {
    "cellView": "form",
    "id": "vxX8MYKlakn2"
   },
   "outputs": [],
   "source": [
    "# @markdown Generador de IDs Anual\n",
    "\n",
    "longitud = -79.809 #@param [] {type:\"raw\", allow-input: true}\n",
    "latitud = -6.746 #@param [] {type:\"raw\", allow-input: true}\n",
    "coordenada = list([longitud,latitud])\n",
    "\n",
    "periodo = create_dateranges('2020','month', 1, 12)\n",
    "\n",
    "ID_snippet_name = \"COPERNICUS/S2_SR\" #@param [\"LANDSAT/LE07/C01/T1_SR\", \"LANDSAT/LC08/C01/T1\", \"LANDSAT/LC08/C01/T1_TOA\", \"LANDSAT/LC08/C01/T1_SR\", \"COPERNICUS/S2_SR\"]\n",
    "\n",
    "imgCol_generado = [ee.ImageCollection(ID_snippet_name)\\\n",
    "             .filterDate(periodo[i][0], periodo[i][1])\\\n",
    "             .filterBounds(ee.Geometry.Point(coordenada)) for i in range(12)] \n",
    "\n",
    "# Cantidad de imágenes por mes \n",
    "imgCol_generado_size = [imgCol_generado[i].size().getInfo() for i in range(12)]\n",
    "\n",
    "# Diccionario de Meses con su imágenes correspondientes\n",
    "imgCol_dict = {}\n",
    "\n",
    "for i in range(12):\n",
    "  IDs = []\n",
    "  imgCol_dict[i+1] = IDs\n",
    "  for j in range(imgCol_generado_size[i]):\n",
    "    IDs.append(imgCol_generado[i].getInfo()['features'][j]['id']) \n",
    "\n",
    "# imgCol_dict"
   ]
  },
  {
   "cell_type": "markdown",
   "metadata": {
    "id": "yg1HNQzwCY8W"
   },
   "source": [
    "#### Diccionarios generados"
   ]
  },
  {
   "cell_type": "markdown",
   "metadata": {
    "id": "tBE4cKToH2Mm"
   },
   "source": [
    "Para darle buen formato a los diccionarios, usar:\n",
    "- [Python Formatter](https://codebeautify.org/python-formatter-beautifier)"
   ]
  },
  {
   "cell_type": "code",
   "execution_count": null,
   "metadata": {
    "cellView": "form",
    "id": "910dkZrpibST"
   },
   "outputs": [],
   "source": [
    "# @markdown Diccionario Sentinel 2: `imgCol_dict`\n",
    "imgCol_dict = {\n",
    "    1: [\n",
    "        \"COPERNICUS/S2_SR/20200102T153611_20200102T153743_T17MPN\",\n",
    "        \"COPERNICUS/S2_SR/20200107T153619_20200107T154047_T17MPN\",\n",
    "        \"COPERNICUS/S2_SR/20200112T153611_20200112T153613_T17MPN\",\n",
    "        \"COPERNICUS/S2_SR/20200117T153619_20200117T153613_T17MPN\",\n",
    "        \"COPERNICUS/S2_SR/20200122T153611_20200122T153612_T17MPN\",\n",
    "        \"COPERNICUS/S2_SR/20200127T153609_20200127T153611_T17MPN\",\n",
    "    ],\n",
    "    2: [\n",
    "        \"COPERNICUS/S2_SR/20200201T153611_20200201T153611_T17MPN\",\n",
    "        \"COPERNICUS/S2_SR/20200206T153619_20200206T153613_T17MPN\",\n",
    "        \"COPERNICUS/S2_SR/20200211T153611_20200211T153626_T17MPN\",\n",
    "        \"COPERNICUS/S2_SR/20200216T153619_20200216T154305_T17MPN\",\n",
    "        \"COPERNICUS/S2_SR/20200221T153611_20200221T154337_T17MPN\",\n",
    "        \"COPERNICUS/S2_SR/20200226T153619_20200226T154119_T17MPN\",\n",
    "    ],\n",
    "    3: [\n",
    "        \"COPERNICUS/S2_SR/20200302T153611_20200302T153614_T17MPN\",\n",
    "        \"COPERNICUS/S2_SR/20200307T153619_20200307T153616_T17MPN\",\n",
    "        \"COPERNICUS/S2_SR/20200312T153621_20200312T153615_T17MPN\",\n",
    "        \"COPERNICUS/S2_SR/20200317T153619_20200317T154424_T17MPN\",\n",
    "        \"COPERNICUS/S2_SR/20200322T153621_20200322T154411_T17MPN\",\n",
    "        \"COPERNICUS/S2_SR/20200327T153619_20200327T154304_T17MPN\",\n",
    "    ],\n",
    "    4: [\n",
    "        \"COPERNICUS/S2_SR/20200401T153621_20200401T153901_T17MPN\",\n",
    "        \"COPERNICUS/S2_SR/20200406T153619_20200406T154234_T17MPN\",\n",
    "        \"COPERNICUS/S2_SR/20200411T153621_20200411T153910_T17MPN\",\n",
    "        \"COPERNICUS/S2_SR/20200416T153619_20200416T154403_T17MPN\",\n",
    "        \"COPERNICUS/S2_SR/20200421T153621_20200421T154337_T17MPN\",\n",
    "        \"COPERNICUS/S2_SR/20200426T153619_20200426T153904_T17MPN\",\n",
    "    ],\n",
    "    5: [\n",
    "        \"COPERNICUS/S2_SR/20200501T153621_20200501T153850_T17MPN\",\n",
    "        \"COPERNICUS/S2_SR/20200506T153619_20200506T153616_T17MPN\",\n",
    "        \"COPERNICUS/S2_SR/20200511T153621_20200511T154343_T17MPN\",\n",
    "        \"COPERNICUS/S2_SR/20200516T153619_20200516T153618_T17MPN\",\n",
    "        \"COPERNICUS/S2_SR/20200516T153619_20200516T154501_T17MPN\",\n",
    "        \"COPERNICUS/S2_SR/20200521T153631_20200521T154352_T17MPN\",\n",
    "        \"COPERNICUS/S2_SR/20200526T153619_20200526T154127_T17MPN\",\n",
    "        \"COPERNICUS/S2_SR/20200531T153631_20200531T153940_T17MPN\",\n",
    "    ],\n",
    "    6: [\n",
    "        \"COPERNICUS/S2_SR/20200605T153619_20200605T153834_T17MPN\",\n",
    "        \"COPERNICUS/S2_SR/20200610T153631_20200610T154258_T17MPN\",\n",
    "        \"COPERNICUS/S2_SR/20200615T153619_20200615T153722_T17MPN\",\n",
    "        \"COPERNICUS/S2_SR/20200620T153631_20200620T154446_T17MPN\",\n",
    "        \"COPERNICUS/S2_SR/20200625T153619_20200625T153621_T17MPN\",\n",
    "        \"COPERNICUS/S2_SR/20200625T153619_20200625T154504_T17MPN\",\n",
    "        \"COPERNICUS/S2_SR/20200630T153621_20200630T153946_T17MPN\",\n",
    "    ],\n",
    "    7: [\n",
    "        \"COPERNICUS/S2_SR/20200705T153619_20200705T153621_T17MPN\",\n",
    "        \"COPERNICUS/S2_SR/20200710T153621_20200710T154423_T17MPN\",\n",
    "        \"COPERNICUS/S2_SR/20200715T153619_20200715T153620_T17MPN\",\n",
    "        \"COPERNICUS/S2_SR/20200715T153619_20200715T154503_T17MPN\",\n",
    "        \"COPERNICUS/S2_SR/20200720T153621_20200720T154406_T17MPN\",\n",
    "        \"COPERNICUS/S2_SR/20200725T153619_20200725T153621_T17MPN\",\n",
    "        \"COPERNICUS/S2_SR/20200730T153631_20200730T154345_T17MPN\",\n",
    "    ],\n",
    "    8: [\n",
    "        \"COPERNICUS/S2_SR/20200804T153619_20200804T154255_T17MPN\",\n",
    "        \"COPERNICUS/S2_SR/20200809T153631_20200809T154345_T17MPN\",\n",
    "        \"COPERNICUS/S2_SR/20200814T153619_20200814T153738_T17MPN\",\n",
    "        \"COPERNICUS/S2_SR/20200819T153631_20200819T153625_T17MPN\",\n",
    "        \"COPERNICUS/S2_SR/20200824T153619_20200824T154230_T17MPN\",\n",
    "        \"COPERNICUS/S2_SR/20200829T153621_20200829T154210_T17MPN\",\n",
    "    ],\n",
    "    9: [\n",
    "        \"COPERNICUS/S2_SR/20200903T153619_20200903T154357_T17MPN\",\n",
    "        \"COPERNICUS/S2_SR/20200908T153621_20200908T154046_T17MPN\",\n",
    "        \"COPERNICUS/S2_SR/20200913T153619_20200913T153628_T17MPN\",\n",
    "        \"COPERNICUS/S2_SR/20200918T153621_20200918T153624_T17MPN\",\n",
    "        \"COPERNICUS/S2_SR/20200923T153619_20200923T153831_T17MPN\",\n",
    "        \"COPERNICUS/S2_SR/20200928T153621_20200928T153624_T17MPN\",\n",
    "    ],\n",
    "    10: [\n",
    "        \"COPERNICUS/S2_SR/20201003T153619_20201003T153759_T17MPN\",\n",
    "        \"COPERNICUS/S2_SR/20201008T153631_20201008T153625_T17MPN\",\n",
    "        \"COPERNICUS/S2_SR/20201013T153619_20201013T153807_T17MPN\",\n",
    "        \"COPERNICUS/S2_SR/20201018T153621_20201018T153841_T17MPN\",\n",
    "        \"COPERNICUS/S2_SR/20201023T153619_20201023T154139_T17MPN\",\n",
    "        \"COPERNICUS/S2_SR/20201028T153621_20201028T154210_T17MPN\",\n",
    "    ],\n",
    "    11: [\n",
    "        \"COPERNICUS/S2_SR/20201102T153619_20201102T154334_T17MPN\",\n",
    "        \"COPERNICUS/S2_SR/20201107T153621_20201107T154039_T17MPN\",\n",
    "        \"COPERNICUS/S2_SR/20201112T153619_20201112T154104_T17MPN\",\n",
    "        \"COPERNICUS/S2_SR/20201117T153621_20201117T154056_T17MPN\",\n",
    "        \"COPERNICUS/S2_SR/20201122T153619_20201122T154415_T17MPN\",\n",
    "        \"COPERNICUS/S2_SR/20201127T153621_20201127T154054_T17MPN\",\n",
    "    ],\n",
    "    12: [\n",
    "        \"COPERNICUS/S2_SR/20201202T153619_20201202T154414_T17MPN\",\n",
    "        \"COPERNICUS/S2_SR/20201207T153621_20201207T154054_T17MPN\",\n",
    "        \"COPERNICUS/S2_SR/20201212T153619_20201212T154111_T17MPN\",\n",
    "        \"COPERNICUS/S2_SR/20201222T153619_20201222T154433_T17MPN\",\n",
    "        \"COPERNICUS/S2_SR/20201227T153621_20201227T154110_T17MPN\",\n",
    "    ],\n",
    "}"
   ]
  },
  {
   "cell_type": "code",
   "execution_count": null,
   "metadata": {
    "cellView": "form",
    "id": "3L404Wb0DQhG"
   },
   "outputs": [],
   "source": [
    "# @markdown Diccionario Landsat 8 TOA: `imgCol_dict`\n",
    "\n",
    "imgCol_dict = {\n",
    "    1: ['LANDSAT/LC08/C01/T1_TOA/LC08_010065_20200116'],\n",
    "    2: ['LANDSAT/LC08/C01/T1_TOA/LC08_010065_20200201',\n",
    "      'LANDSAT/LC08/C01/T1_TOA/LC08_010065_20200217'],\n",
    "    3: ['LANDSAT/LC08/C01/T1_TOA/LC08_010065_20200304',\n",
    "      'LANDSAT/LC08/C01/T1_TOA/LC08_010065_20200320'],\n",
    "    4: ['LANDSAT/LC08/C01/T1_TOA/LC08_010065_20200405',\n",
    "      'LANDSAT/LC08/C01/T1_TOA/LC08_010065_20200421'],\n",
    "    5: ['LANDSAT/LC08/C01/T1_TOA/LC08_010065_20200507',\n",
    "      'LANDSAT/LC08/C01/T1_TOA/LC08_010065_20200523'],\n",
    "    6: ['LANDSAT/LC08/C01/T1_TOA/LC08_010065_20200608',\n",
    "      'LANDSAT/LC08/C01/T1_TOA/LC08_010065_20200624'],\n",
    "    7: ['LANDSAT/LC08/C01/T1_TOA/LC08_010065_20200726'],\n",
    "    8: ['LANDSAT/LC08/C01/T1_TOA/LC08_010065_20200811',\n",
    "      'LANDSAT/LC08/C01/T1_TOA/LC08_010065_20200827'],\n",
    "    9: ['LANDSAT/LC08/C01/T1_TOA/LC08_010065_20200912',\n",
    "      'LANDSAT/LC08/C01/T1_TOA/LC08_010065_20200928'],\n",
    "    10: ['LANDSAT/LC08/C01/T1_TOA/LC08_010065_20201014',\n",
    "      'LANDSAT/LC08/C01/T1_TOA/LC08_010065_20201030'],\n",
    "    11: ['LANDSAT/LC08/C01/T1_TOA/LC08_010065_20201115'],\n",
    "    12: ['LANDSAT/LC08/C01/T1_TOA/LC08_010065_20201201']\n",
    " }\n",
    "\n",
    "# @markdown Diccionario Landsat 8 Raw Scenes: `imgCol_dict`\n",
    "\n",
    "imgCol_dict = {\n",
    "    1: ['LANDSAT/LC08/C01/T1/LC08_010065_20200116'],\n",
    "    2: ['LANDSAT/LC08/C01/T1/LC08_010065_20200201',\n",
    "      'LANDSAT/LC08/C01/T1/LC08_010065_20200217'],\n",
    "    3: ['LANDSAT/LC08/C01/T1/LC08_010065_20200304',\n",
    "      'LANDSAT/LC08/C01/T1/LC08_010065_20200320'],\n",
    "    4: ['LANDSAT/LC08/C01/T1/LC08_010065_20200405',\n",
    "      'LANDSAT/LC08/C01/T1/LC08_010065_20200421'],\n",
    "    5: ['LANDSAT/LC08/C01/T1/LC08_010065_20200507',\n",
    "      'LANDSAT/LC08/C01/T1/LC08_010065_20200523'],\n",
    "    6: ['LANDSAT/LC08/C01/T1/LC08_010065_20200608',\n",
    "      'LANDSAT/LC08/C01/T1/LC08_010065_20200624'],\n",
    "    7: ['LANDSAT/LC08/C01/T1/LC08_010065_20200726'],\n",
    "    8: ['LANDSAT/LC08/C01/T1/LC08_010065_20200811',\n",
    "      'LANDSAT/LC08/C01/T1/LC08_010065_20200827'],\n",
    "    9: ['LANDSAT/LC08/C01/T1/LC08_010065_20200912',\n",
    "      'LANDSAT/LC08/C01/T1/LC08_010065_20200928'],\n",
    "    10: ['LANDSAT/LC08/C01/T1/LC08_010065_20201014',\n",
    "      'LANDSAT/LC08/C01/T1/LC08_010065_20201030'],\n",
    "    11: ['LANDSAT/LC08/C01/T1/LC08_010065_20201115'],\n",
    "    12: ['LANDSAT/LC08/C01/T1/LC08_010065_20201201']\n",
    "}"
   ]
  },
  {
   "cell_type": "code",
   "execution_count": null,
   "metadata": {
    "cellView": "form",
    "id": "_3IuU7tZ1fNo"
   },
   "outputs": [],
   "source": [
    "# @markdown Diccionario Landsat 7: `imgCol_dict_L7`\n",
    "\n",
    "imgCol_dict = {\n",
    "    1: ['LANDSAT/LE07/C01/T1_SR/LE07_010065_20200108',\n",
    "        'LANDSAT/LE07/C01/T1_SR/LE07_010065_20200124'],\n",
    "    2: ['LANDSAT/LE07/C01/T1_SR/LE07_010065_20200209',\n",
    "      'LANDSAT/LE07/C01/T1_SR/LE07_010065_20200225'],\n",
    "    3: ['LANDSAT/LE07/C01/T1_SR/LE07_010065_20200312',\n",
    "      'LANDSAT/LE07/C01/T1_SR/LE07_010065_20200328'],\n",
    "    4: ['LANDSAT/LE07/C01/T1_SR/LE07_010065_20200429'],\n",
    "    5: ['LANDSAT/LE07/C01/T1_SR/LE07_010065_20200515',\n",
    "      'LANDSAT/LE07/C01/T1_SR/LE07_010065_20200531'],\n",
    "    6: [],\n",
    "    7: ['LANDSAT/LE07/C01/T1_SR/LE07_010065_20200702',\n",
    "      'LANDSAT/LE07/C01/T1_SR/LE07_010065_20200718'],\n",
    "    8: ['LANDSAT/LE07/C01/T1_SR/LE07_010065_20200803',\n",
    "      'LANDSAT/LE07/C01/T1_SR/LE07_010065_20200819'],\n",
    "    9: ['LANDSAT/LE07/C01/T1_SR/LE07_010065_20200904',\n",
    "      'LANDSAT/LE07/C01/T1_SR/LE07_010065_20200920'],\n",
    "    10: ['LANDSAT/LE07/C01/T1_SR/LE07_010065_20201006',\n",
    "      'LANDSAT/LE07/C01/T1_SR/LE07_010065_20201022'],\n",
    "    11: ['LANDSAT/LE07/C01/T1_SR/LE07_010065_20201107',\n",
    "      'LANDSAT/LE07/C01/T1_SR/LE07_010065_20201123'],\n",
    "    12: ['LANDSAT/LE07/C01/T1_SR/LE07_010065_20201209',\n",
    "      'LANDSAT/LE07/C01/T1_SR/LE07_010065_20201225']\n",
    "  }"
   ]
  },
  {
   "cell_type": "markdown",
   "metadata": {
    "id": "b_w55-TxChG4"
   },
   "source": [
    "#### Visualización de imágenes Landsat por meses (2020)"
   ]
  },
  {
   "cell_type": "code",
   "execution_count": null,
   "metadata": {
    "cellView": "form",
    "id": "dPCeshoig5Ar"
   },
   "outputs": [],
   "source": [
    "# @markdown Diccionario Landsat 8 SR: `imgCol_dict`\n",
    "\n",
    "imgCol_dict = {\n",
    "    1: ['LANDSAT/LC08/C01/T1_SR/LC08_010065_20200116'],\n",
    "    2: [\n",
    "        'LANDSAT/LC08/C01/T1_SR/LC08_010065_20200201',\n",
    "        'LANDSAT/LC08/C01/T1_SR/LC08_010065_20200217'\n",
    "    ],  # buena foto\n",
    "    3: [\n",
    "        'LANDSAT/LC08/C01/T1_SR/LC08_010065_20200304',\n",
    "        'LANDSAT/LC08/C01/T1_SR/LC08_010065_20200320'\n",
    "    ],\n",
    "    4: [\n",
    "        'LANDSAT/LC08/C01/T1_SR/LC08_010065_20200405',\n",
    "        'LANDSAT/LC08/C01/T1_SR/LC08_010065_20200421'\n",
    "    ],  # buena foto\n",
    "    5: [\n",
    "        'LANDSAT/LC08/C01/T1_SR/LC08_010065_20200507',\n",
    "        'LANDSAT/LC08/C01/T1_SR/LC08_010065_20200523'\n",
    "    ],\n",
    "    6: [\n",
    "        'LANDSAT/LC08/C01/T1_SR/LC08_010065_20200608',\n",
    "        'LANDSAT/LC08/C01/T1_SR/LC08_010065_20200624'\n",
    "    ],\n",
    "    7: ['LANDSAT/LC08/C01/T1_SR/LC08_010065_20200726'],\n",
    "    8: [\n",
    "        'LANDSAT/LC08/C01/T1_SR/LC08_010065_20200811',\n",
    "        'LANDSAT/LC08/C01/T1_SR/LC08_010065_20200827'\n",
    "    ],\n",
    "    9: [\n",
    "        'LANDSAT/LC08/C01/T1_SR/LC08_010065_20200912',\n",
    "        'LANDSAT/LC08/C01/T1_SR/LC08_010065_20200928'\n",
    "    ],\n",
    "    10: [\n",
    "        'LANDSAT/LC08/C01/T1_SR/LC08_010065_20201014',\n",
    "        'LANDSAT/LC08/C01/T1_SR/LC08_010065_20201030'\n",
    "    ],\n",
    "    11: ['LANDSAT/LC08/C01/T1_SR/LC08_010065_20201115'],\n",
    "    12: ['LANDSAT/LC08/C01/T1_SR/LC08_010065_20201201']\n",
    "}"
   ]
  },
  {
   "cell_type": "code",
   "execution_count": null,
   "metadata": {
    "cellView": "form",
    "colab": {
     "base_uri": "https://localhost:8080/",
     "height": 957,
     "referenced_widgets": [
      "a779e94532064a4a9aadfe244c69fad6",
      "bf7bde1e13ad4b94a7e7248d40811d6b",
      "15de545f65344c358e71d1a6af3ef2dc",
      "0327e46cbf5e4103af38df93fb90cc9e",
      "3249d4abc0db4b0fae0f9bd73f2328e5",
      "d117f56643c04be5929de83cdd3f7559",
      "b49f05b3f7124066a77547cb1a424810"
     ]
    },
    "id": "k9V-77rXjIUq",
    "outputId": "3090cd34-c637-40c5-fb18-db4cb3a19b8e"
   },
   "outputs": [
    {
     "data": {
      "application/vnd.jupyter.widget-view+json": {
       "model_id": "a779e94532064a4a9aadfe244c69fad6",
       "version_major": 2,
       "version_minor": 0
      },
      "text/plain": [
       "interactive(children=(Dropdown(description='mes', options=(1, 2, 3, 4, 5, 6, 7, 8, 9, 10, 11, 12), value=1), O…"
      ]
     },
     "metadata": {
      "tags": []
     },
     "output_type": "display_data"
    }
   ],
   "source": [
    "# @markdown Visualización interactiva de imágenes con la librería `interact`\n",
    "\n",
    "from ipywidgets import interact \n",
    "# https://ipywidgets.readthedocs.io/en/latest/examples/Using%20Interact.html#\n",
    "from pprint import pprint\n",
    "\n",
    "Natural_Color  = ['B4', 'B3', 'B2']\n",
    "\n",
    "def visualizar_mes(mes):\n",
    "\n",
    "  # Diccionario para visualización\n",
    "  viz_dict = {}\n",
    "\n",
    "  # Generar diccionario de visualización\n",
    "  for i in range(len(imgCol_dict[mes])):\n",
    "    viz_dict[\n",
    "      conv_fecha(ee.Image(imgCol_dict[mes][i])) \n",
    "      ] \\\n",
    "      = ee.Image(imgCol_dict[mes][i])\\\n",
    "      .divide(10000)\\\n",
    "      .clip(roiDep)\\\n",
    "      .getMapId({'min':0,'max':0.3,'bands':Natural_Color})\n",
    "\n",
    "  # Presentar ID's\n",
    "  print(\"\\nID's disponibles:\")\n",
    "  pprint(imgCol_dict[mes])\n",
    "  print('')\n",
    "\n",
    "  # Mostrar el mapa leaflet\n",
    "  return mapdisplay([-79.809, -6.746], viz_dict, zoom_start=10)\n",
    "\n",
    "interact(visualizar_mes, mes=[1,2,3,4,5,6,7,8,9,10,11,12]);"
   ]
  },
  {
   "cell_type": "markdown",
   "metadata": {
    "id": "ULFPS5vAE1Qa"
   },
   "source": [
    "### Generar tabla de resultados"
   ]
  },
  {
   "cell_type": "code",
   "execution_count": null,
   "metadata": {
    "colab": {
     "base_uri": "https://localhost:8080/"
    },
    "id": "WrNXEd8B3ptu",
    "outputId": "0c210db0-8c8c-4e38-e44a-3f7c163cd229"
   },
   "outputs": [
    {
     "name": "stdout",
     "output_type": "stream",
     "text": [
      "21\n"
     ]
    }
   ],
   "source": [
    "latitud = -6.846 \n",
    "longitud = -79.309 \n",
    "coordenada = list([longitud,latitud])\n",
    "\n",
    "# icol_raw = ee.ImageCollection(\"LANDSAT/LC08/C01/T1\").filterDate('2020-1-1','2021-2-1').filterBounds(ee.Geometry.Point(coordenada))\n",
    "# print(icol_raw.size().getInfo())\n",
    "# icol_toa = ee.ImageCollection(\"LANDSAT/LC08/C01/T1_TOA\").filterDate('2020-1-1','2021-2-1').filterBounds(ee.Geometry.Point(coordenada))\n",
    "# print(icol_toa.size().getInfo())\n",
    "icol_sr = ee.ImageCollection(\"LANDSAT/LC08/C01/T1_SR\").filterDate('2020-1-1','2021-2-1').filterBounds(ee.Geometry.Point(coordenada))\n",
    "print(icol_sr.size().getInfo())\n",
    "\n",
    "lista_fechas = icol_sr.aggregate_array('system:time_start').getInfo()\n",
    "cantidad = len(lista_fechas)\n",
    "# ee_get_dates(icol)"
   ]
  },
  {
   "cell_type": "code",
   "execution_count": null,
   "metadata": {
    "colab": {
     "base_uri": "https://localhost:8080/"
    },
    "id": "6zP7tSjc5bCl",
    "outputId": "e65398cf-5043-484f-f898-e1d71fc1f4a0"
   },
   "outputs": [
    {
     "name": "stdout",
     "output_type": "stream",
     "text": [
      "    Número  Día Juliano    Sensor   Año  Mes  Día\n",
      "0        1           16  OLI/TIRS  2020    1   16\n",
      "1        2           32  OLI/TIRS  2020    2    1\n",
      "2        3           48  OLI/TIRS  2020    2   17\n",
      "3        4           64  OLI/TIRS  2020    3    4\n",
      "4        5           80  OLI/TIRS  2020    3   20\n",
      "5        6           96  OLI/TIRS  2020    4    5\n",
      "6        7          112  OLI/TIRS  2020    4   21\n",
      "7        8          128  OLI/TIRS  2020    5    7\n",
      "8        9          144  OLI/TIRS  2020    5   23\n",
      "9       10          160  OLI/TIRS  2020    6    8\n",
      "10      11          176  OLI/TIRS  2020    6   24\n",
      "11      12          208  OLI/TIRS  2020    7   26\n",
      "12      13          224  OLI/TIRS  2020    8   11\n",
      "13      14          240  OLI/TIRS  2020    8   27\n",
      "14      15          256  OLI/TIRS  2020    9   12\n",
      "15      16          272  OLI/TIRS  2020    9   28\n",
      "16      17          288  OLI/TIRS  2020   10   14\n",
      "17      18          304  OLI/TIRS  2020   10   30\n",
      "18      19          320  OLI/TIRS  2020   11   15\n",
      "19      20          336  OLI/TIRS  2020   12    1\n",
      "20      21            2  OLI/TIRS  2021    1    2\n"
     ]
    }
   ],
   "source": [
    "import pandas as pd\n",
    "\n",
    "df = pd.DataFrame(lista_fechas, columns = ['millis'])\n",
    "\n",
    "def add_date_info(df):\n",
    "  df['Número'] = [i for i in range(1, cantidad + 1)]\n",
    "  df['Timestamp'] = pd.to_datetime(df['millis'], unit='ms')\n",
    "  df['Día Juliano'] = pd.DatetimeIndex(df['Timestamp']).dayofyear\n",
    "  df['Sensor'] = ['OLI/TIRS' for i in range(1, cantidad + 1)]\n",
    "  df['Año'] = pd.DatetimeIndex(df['Timestamp']).year\n",
    "  df['Mes'] = pd.DatetimeIndex(df['Timestamp']).month\n",
    "  df['Día'] = pd.DatetimeIndex(df['Timestamp']).day\n",
    "  \n",
    "  df = df.drop(columns=['millis'])\n",
    "  df = df.drop(columns=['Timestamp'])\n",
    "  return df\n",
    "\n",
    "df = add_date_info(df)\n",
    "print(df)\n",
    "\n",
    "# Exportar como .csv\n",
    "# df.to_csv('datos_2020_L8.csv')"
   ]
  },
  {
   "cell_type": "markdown",
   "metadata": {
    "id": "9jdvgCL8gS0-"
   },
   "source": [
    "## 3. Balance de energía (en proceso)"
   ]
  },
  {
   "cell_type": "markdown",
   "metadata": {
    "id": "JclVJcRPl-_Z"
   },
   "source": [
    "Recursos de $\\LaTeX$\n",
    "- [LaTex mathematics for equations](https://en.wikibooks.org/wiki/LaTeX/Mathematics)\n",
    "- [Overleaf - Aligning equations with amsmath](https://www.overleaf.com/learn/latex/Aligning_equations_with_amsmath)"
   ]
  },
  {
   "cell_type": "markdown",
   "metadata": {
    "id": "PxaRXVQfDl9Y"
   },
   "source": [
    "Landsat 8 : [info aquí](https://developers.google.com/earth-engine/datasets/catalog/LANDSAT_LC08_C01_T1_SR)\n",
    "\n",
    "|Name\t|Units|\tScale|\tWavelength|\tDescription|\n",
    "|:-:|:-:|-|-|-|\n",
    "|B1\t\t|-|0.0001\t|0.435-0.451 μm\t|Band 1 (ultra blue) surface reflectance|\n",
    "|B2\t\t|-|0.0001\t|0.452-0.512 μm\t|Band 2 (blue) surface reflectance|\n",
    "|B3\t\t|-|0.0001\t|0.533-0.590 μm\t|Band 3 (green) surface reflectance|\n",
    "|B4\t\t|-|0.0001\t|0.636-0.673 μm\t|Band 4 (red) surface reflectance|\n",
    "|B5\t\t|-|0.0001\t|0.851-0.879 μm\t|Band 5 (near infrared) surface reflectance|\n",
    "|B6\t\t|-|0.0001\t|1.566-1.651 μm\t|Band 6 (shortwave infrared 1) surface reflec|-tance|\n",
    "|B7\t\t|-|0.0001\t|2.107-2.294 μm\t|Band 7 (shortwave infrared 2) surface reflectance|\n",
    "|B10\t|Kelvin\t|0.1\t|10.60-11.19 μm|Band 10 brightness temperature.|\n",
    "|B11\t|Kelvin\t|0.1\t|11.50-12.51 μm|Band 11 brightness temperature.|\n",
    "|sr_aerosol\t\t\t\t|Aerosol attributes\n",
    "\n",
    "Band B10 and B11, while originally collected with a resolution of 100m / pixel, has been resampled using cubic convolution to 30m.\n",
    "\n",
    "- [Conversión de valores de ND a radiancia](https://www.youtube.com/watch?v=kRN1ekslBH0&list=PLkMtpdwUewHG5JvNoZbOL7-c6_EXoS_UI)"
   ]
  },
  {
   "cell_type": "markdown",
   "metadata": {
    "id": "1DOUJEfS7dSf"
   },
   "source": [
    "### Albedo $\\alpha_{s}$"
   ]
  },
  {
   "cell_type": "markdown",
   "metadata": {
    "id": "9U_ziNOB8pgd"
   },
   "source": [
    "- Coeficientes de ponderación de la irradiancia exoatmosférica de la banda $\\lambda$\n",
    "\n",
    "$$\n",
    "\\alpha_s = \\sum_{b=1}^{n}[\\rho_{s,b} \\times \\omega_b]\n",
    "$$\n",
    "\n",
    "- $\\rho_\\lambda$ : Valor de la reflectancia de la banda $\\lambda$\n",
    "- $\\omega_\\lambda$ : Coef. de ponderación de la irradiancia exoatmosférica de la banda $\\lambda$ "
   ]
  },
  {
   "cell_type": "code",
   "execution_count": null,
   "metadata": {
    "cellView": "form",
    "id": "b3Z9TS2EiaVA"
   },
   "outputs": [],
   "source": [
    "# @markdown - Paleta NDVI (Yuri SIG) 20 Colores: `yuri_ndvi_pal`\n",
    "yuri_ndvi_pal = [\n",
    "    'ffffff', 'fffcff', 'fff9ff', 'fff7ff', 'fff4ff', 'fff2ff', 'ffefff',\n",
    "    'ffecff', 'ffeaff', 'ffe7ff', 'ffe5ff', 'ffe2ff', 'ffe0ff', 'ffddff',\n",
    "    'ffdaff', 'ffd8ff', 'ffd5ff', 'ffd3ff', 'ffd0ff', 'ffceff', 'ffcbff',\n",
    "    'ffc8ff', 'ffc6ff', 'ffc3ff', 'ffc1ff', 'ffbeff', 'ffbcff', 'ffb9ff',\n",
    "    'ffb6ff', 'ffb4ff', 'ffb1ff', 'ffafff', 'ffacff', 'ffaaff', 'ffa7ff',\n",
    "    'ffa4ff', 'ffa2ff', 'ff9fff', 'ff9dff', 'ff9aff', 'ff97ff', 'ff95ff',\n",
    "    'ff92ff', 'ff90ff', 'ff8dff', 'ff8bff', 'ff88ff', 'ff85ff', 'ff83ff',\n",
    "    'ff80ff', 'ff7eff', 'ff7bff', 'ff79ff', 'ff76ff', 'ff73ff', 'ff71ff',\n",
    "    'ff6eff', 'ff6cff', 'ff69ff', 'ff67ff', 'ff64ff', 'ff61ff', 'ff5fff',\n",
    "    'ff5cff', 'ff5aff', 'ff57ff', 'ff55ff', 'ff52ff', 'ff4fff', 'ff4dff',\n",
    "    'ff4aff', 'ff48ff', 'ff45ff', 'ff42ff', 'ff40ff', 'ff3dff', 'ff3bff',\n",
    "    'ff38ff', 'ff36ff', 'ff33ff', 'ff30ff', 'ff2eff', 'ff2bff', 'ff29ff',\n",
    "    'ff26ff', 'ff24ff', 'ff21ff', 'ff1eff', 'ff1cff', 'ff19ff', 'ff17ff',\n",
    "    'ff14ff', 'ff12ff', 'ff0fff', 'ff0cff', 'ff0aff', 'ff07ff', 'ff05ff',\n",
    "    'ff02ff', 'ff00ff', 'ff00ff', 'ff0af4', 'ff15e9', 'ff1fdf', 'ff2ad4',\n",
    "    'ff35c9', 'ff3fbf', 'ff4ab4', 'ff55aa', 'ff5f9f', 'ff6a94', 'ff748a',\n",
    "    'ff7f7f', 'ff8a74', 'ff946a', 'ff9f5f', 'ffaa55', 'ffb44a', 'ffbf3f',\n",
    "    'ffc935', 'ffd42a', 'ffdf1f', 'ffe915', 'fff40a', 'ffff00', 'ffff00',\n",
    "    'fffb00', 'fff700', 'fff300', 'fff000', 'ffec00', 'ffe800', 'ffe400',\n",
    "    'ffe100', 'ffdd00', 'ffd900', 'ffd500', 'ffd200', 'ffce00', 'ffca00',\n",
    "    'ffc600', 'ffc300', 'ffbf00', 'ffbb00', 'ffb700', 'ffb400', 'ffb000',\n",
    "    'ffac00', 'ffa800', 'ffa500', 'ffa500', 'f7a400', 'f0a300', 'e8a200',\n",
    "    'e1a200', 'd9a100', 'd2a000', 'ca9f00', 'c39f00', 'bb9e00', 'b49d00',\n",
    "    'ac9c00', 'a59c00', '9d9b00', '969a00', '8e9900', '879900', '7f9800',\n",
    "    '789700', '709700', '699600', '619500', '5a9400', '529400', '4b9300',\n",
    "    '439200', '349100', '2d9000', '258f00', '1e8e00', '168e00', '0f8d00',\n",
    "    '078c00', '008c00', '008c00', '008700', '008300', '007f00', '007a00',\n",
    "    '007600', '007200', '006e00', '006900', '006500', '006100', '005c00',\n",
    "    '005800', '005400', '005000', '004c00'\n",
    "]"
   ]
  },
  {
   "cell_type": "code",
   "execution_count": null,
   "metadata": {
    "id": "Ru_UBN9k_uV-"
   },
   "outputs": [],
   "source": [
    "image_ID = ee.Image('LANDSAT/LC08/C01/T1_SR/LC08_010065_20200116')"
   ]
  },
  {
   "cell_type": "code",
   "execution_count": null,
   "metadata": {
    "colab": {
     "base_uri": "https://localhost:8080/",
     "height": 854
    },
    "id": "MI8xYxQJXLRp",
    "outputId": "cbe8990f-f46f-4a90-fcf8-4e4188be507b"
   },
   "outputs": [
    {
     "data": {
      "text/html": [
       "<div style=\"width:100%;\"><div style=\"position:relative;width:100%;height:0;padding-bottom:60%;\"><span style=\"color:#565656\">Make this Notebook Trusted to load map: File -> Trust Notebook</span><iframe src=\"about:blank\" style=\"position:absolute;width:100%;height:100%;left:0;top:0;border:none !important;\" data-html=%3C%21DOCTYPE%20html%3E%0A%3Chead%3E%20%20%20%20%0A%20%20%20%20%3Cmeta%20http-equiv%3D%22content-type%22%20content%3D%22text/html%3B%20charset%3DUTF-8%22%20/%3E%0A%20%20%20%20%3Cscript%3EL_PREFER_CANVAS%3Dfalse%3B%20L_NO_TOUCH%3Dfalse%3B%20L_DISABLE_3D%3Dfalse%3B%3C/script%3E%0A%20%20%20%20%3Cscript%20src%3D%22https%3A//cdn.jsdelivr.net/npm/leaflet%401.4.0/dist/leaflet.js%22%3E%3C/script%3E%0A%20%20%20%20%3Cscript%20src%3D%22https%3A//code.jquery.com/jquery-1.12.4.min.js%22%3E%3C/script%3E%0A%20%20%20%20%3Cscript%20src%3D%22https%3A//maxcdn.bootstrapcdn.com/bootstrap/3.2.0/js/bootstrap.min.js%22%3E%3C/script%3E%0A%20%20%20%20%3Cscript%20src%3D%22https%3A//cdnjs.cloudflare.com/ajax/libs/Leaflet.awesome-markers/2.0.2/leaflet.awesome-markers.js%22%3E%3C/script%3E%0A%20%20%20%20%3Clink%20rel%3D%22stylesheet%22%20href%3D%22https%3A//cdn.jsdelivr.net/npm/leaflet%401.4.0/dist/leaflet.css%22/%3E%0A%20%20%20%20%3Clink%20rel%3D%22stylesheet%22%20href%3D%22https%3A//maxcdn.bootstrapcdn.com/bootstrap/3.2.0/css/bootstrap.min.css%22/%3E%0A%20%20%20%20%3Clink%20rel%3D%22stylesheet%22%20href%3D%22https%3A//maxcdn.bootstrapcdn.com/bootstrap/3.2.0/css/bootstrap-theme.min.css%22/%3E%0A%20%20%20%20%3Clink%20rel%3D%22stylesheet%22%20href%3D%22https%3A//maxcdn.bootstrapcdn.com/font-awesome/4.6.3/css/font-awesome.min.css%22/%3E%0A%20%20%20%20%3Clink%20rel%3D%22stylesheet%22%20href%3D%22https%3A//cdnjs.cloudflare.com/ajax/libs/Leaflet.awesome-markers/2.0.2/leaflet.awesome-markers.css%22/%3E%0A%20%20%20%20%3Clink%20rel%3D%22stylesheet%22%20href%3D%22https%3A//rawcdn.githack.com/python-visualization/folium/master/folium/templates/leaflet.awesome.rotate.css%22/%3E%0A%20%20%20%20%3Cstyle%3Ehtml%2C%20body%20%7Bwidth%3A%20100%25%3Bheight%3A%20100%25%3Bmargin%3A%200%3Bpadding%3A%200%3B%7D%3C/style%3E%0A%20%20%20%20%3Cstyle%3E%23map%20%7Bposition%3Aabsolute%3Btop%3A0%3Bbottom%3A0%3Bright%3A0%3Bleft%3A0%3B%7D%3C/style%3E%0A%20%20%20%20%0A%20%20%20%20%3Cmeta%20name%3D%22viewport%22%20content%3D%22width%3Ddevice-width%2C%0A%20%20%20%20%20%20%20%20initial-scale%3D1.0%2C%20maximum-scale%3D1.0%2C%20user-scalable%3Dno%22%20/%3E%0A%20%20%20%20%3Cstyle%3E%23map_7c3b1402bbdd43eab15c1ea3158bf898%20%7B%0A%20%20%20%20%20%20%20%20position%3A%20relative%3B%0A%20%20%20%20%20%20%20%20width%3A%20100.0%25%3B%0A%20%20%20%20%20%20%20%20height%3A%20100.0%25%3B%0A%20%20%20%20%20%20%20%20left%3A%200.0%25%3B%0A%20%20%20%20%20%20%20%20top%3A%200.0%25%3B%0A%20%20%20%20%20%20%20%20%7D%0A%20%20%20%20%3C/style%3E%0A%3C/head%3E%0A%3Cbody%3E%20%20%20%20%0A%20%20%20%20%0A%20%20%20%20%3Cdiv%20class%3D%22folium-map%22%20id%3D%22map_7c3b1402bbdd43eab15c1ea3158bf898%22%20%3E%3C/div%3E%0A%3C/body%3E%0A%3Cscript%3E%20%20%20%20%0A%20%20%20%20%0A%20%20%20%20%0A%20%20%20%20%20%20%20%20var%20bounds%20%3D%20null%3B%0A%20%20%20%20%0A%0A%20%20%20%20var%20map_7c3b1402bbdd43eab15c1ea3158bf898%20%3D%20L.map%28%0A%20%20%20%20%20%20%20%20%27map_7c3b1402bbdd43eab15c1ea3158bf898%27%2C%20%7B%0A%20%20%20%20%20%20%20%20center%3A%20%5B-6.846%2C%20-79.309%5D%2C%0A%20%20%20%20%20%20%20%20zoom%3A%209%2C%0A%20%20%20%20%20%20%20%20maxBounds%3A%20bounds%2C%0A%20%20%20%20%20%20%20%20layers%3A%20%5B%5D%2C%0A%20%20%20%20%20%20%20%20worldCopyJump%3A%20false%2C%0A%20%20%20%20%20%20%20%20crs%3A%20L.CRS.EPSG3857%2C%0A%20%20%20%20%20%20%20%20zoomControl%3A%20true%2C%0A%20%20%20%20%20%20%20%20%7D%29%3B%0AL.control.scale%28%29.addTo%28map_7c3b1402bbdd43eab15c1ea3158bf898%29%3B%0A%0A%20%20%20%20%0A%20%20%20%20var%20tile_layer_8470f701222c4f25a6ce9f8593f3e47d%20%3D%20L.tileLayer%28%0A%20%20%20%20%20%20%20%20%27https%3A//%7Bs%7D.tile.openstreetmap.org/%7Bz%7D/%7Bx%7D/%7By%7D.png%27%2C%0A%20%20%20%20%20%20%20%20%7B%0A%20%20%20%20%20%20%20%20%22attribution%22%3A%20null%2C%0A%20%20%20%20%20%20%20%20%22detectRetina%22%3A%20false%2C%0A%20%20%20%20%20%20%20%20%22maxNativeZoom%22%3A%2018%2C%0A%20%20%20%20%20%20%20%20%22maxZoom%22%3A%2018%2C%0A%20%20%20%20%20%20%20%20%22minZoom%22%3A%200%2C%0A%20%20%20%20%20%20%20%20%22noWrap%22%3A%20false%2C%0A%20%20%20%20%20%20%20%20%22opacity%22%3A%201%2C%0A%20%20%20%20%20%20%20%20%22subdomains%22%3A%20%22abc%22%2C%0A%20%20%20%20%20%20%20%20%22tms%22%3A%20false%0A%7D%29.addTo%28map_7c3b1402bbdd43eab15c1ea3158bf898%29%3B%0A%20%20%20%20var%20tile_layer_12784d5aa6be4b63ae5650751a073c19%20%3D%20L.tileLayer%28%0A%20%20%20%20%20%20%20%20%27https%3A//earthengine.googleapis.com/v1alpha/projects/earthengine-legacy/maps/7e099cc31fb8dac3bed689925b74b159-6010f5d32d896fd96604a6ad54c1a2b8/tiles/%7Bz%7D/%7Bx%7D/%7By%7D%27%2C%0A%20%20%20%20%20%20%20%20%7B%0A%20%20%20%20%20%20%20%20%22attribution%22%3A%20%22Google%20Earth%20Engine%22%2C%0A%20%20%20%20%20%20%20%20%22detectRetina%22%3A%20false%2C%0A%20%20%20%20%20%20%20%20%22maxNativeZoom%22%3A%2018%2C%0A%20%20%20%20%20%20%20%20%22maxZoom%22%3A%2018%2C%0A%20%20%20%20%20%20%20%20%22minZoom%22%3A%200%2C%0A%20%20%20%20%20%20%20%20%22noWrap%22%3A%20false%2C%0A%20%20%20%20%20%20%20%20%22opacity%22%3A%201%2C%0A%20%20%20%20%20%20%20%20%22subdomains%22%3A%20%22abc%22%2C%0A%20%20%20%20%20%20%20%20%22tms%22%3A%20false%0A%7D%29.addTo%28map_7c3b1402bbdd43eab15c1ea3158bf898%29%3B%0A%20%20%20%20var%20tile_layer_031ad28b5dfb485492633c0057670213%20%3D%20L.tileLayer%28%0A%20%20%20%20%20%20%20%20%27https%3A//earthengine.googleapis.com/v1alpha/projects/earthengine-legacy/maps/667797019546fc4acc100341b1d8d946-e041985050da5d8fbc8aa8039c4e9c11/tiles/%7Bz%7D/%7Bx%7D/%7By%7D%27%2C%0A%20%20%20%20%20%20%20%20%7B%0A%20%20%20%20%20%20%20%20%22attribution%22%3A%20%22Google%20Earth%20Engine%22%2C%0A%20%20%20%20%20%20%20%20%22detectRetina%22%3A%20false%2C%0A%20%20%20%20%20%20%20%20%22maxNativeZoom%22%3A%2018%2C%0A%20%20%20%20%20%20%20%20%22maxZoom%22%3A%2018%2C%0A%20%20%20%20%20%20%20%20%22minZoom%22%3A%200%2C%0A%20%20%20%20%20%20%20%20%22noWrap%22%3A%20false%2C%0A%20%20%20%20%20%20%20%20%22opacity%22%3A%201%2C%0A%20%20%20%20%20%20%20%20%22subdomains%22%3A%20%22abc%22%2C%0A%20%20%20%20%20%20%20%20%22tms%22%3A%20false%0A%7D%29.addTo%28map_7c3b1402bbdd43eab15c1ea3158bf898%29%3B%0A%20%20%20%20%0A%20%20%20%20%20%20%20%20%20%20%20%20var%20layer_control_bb784fd27b3d4ff7a59e759c566862cd%20%3D%20%7B%0A%20%20%20%20%20%20%20%20%20%20%20%20%20%20%20%20base_layers%20%3A%20%7B%20%22openstreetmap%22%20%3A%20tile_layer_8470f701222c4f25a6ce9f8593f3e47d%2C%20%7D%2C%0A%20%20%20%20%20%20%20%20%20%20%20%20%20%20%20%20overlays%20%3A%20%7B%20%22Albedo%22%20%3A%20tile_layer_12784d5aa6be4b63ae5650751a073c19%2C%22Imagen%22%20%3A%20tile_layer_031ad28b5dfb485492633c0057670213%2C%20%7D%0A%20%20%20%20%20%20%20%20%20%20%20%20%20%20%20%20%7D%3B%0A%20%20%20%20%20%20%20%20%20%20%20%20L.control.layers%28%0A%20%20%20%20%20%20%20%20%20%20%20%20%20%20%20%20layer_control_bb784fd27b3d4ff7a59e759c566862cd.base_layers%2C%0A%20%20%20%20%20%20%20%20%20%20%20%20%20%20%20%20layer_control_bb784fd27b3d4ff7a59e759c566862cd.overlays%2C%0A%20%20%20%20%20%20%20%20%20%20%20%20%20%20%20%20%7Bposition%3A%20%27topright%27%2C%0A%20%20%20%20%20%20%20%20%20%20%20%20%20%20%20%20%20collapsed%3A%20true%2C%0A%20%20%20%20%20%20%20%20%20%20%20%20%20%20%20%20%20autoZIndex%3A%20true%0A%20%20%20%20%20%20%20%20%20%20%20%20%20%20%20%20%7D%29.addTo%28map_7c3b1402bbdd43eab15c1ea3158bf898%29%3B%0A%20%20%20%20%20%20%20%20%20%20%20%20%0A%20%20%20%20%20%20%20%20%0A%3C/script%3E onload=\"this.contentDocument.open();this.contentDocument.write(    decodeURIComponent(this.getAttribute('data-html')));this.contentDocument.close();\" allowfullscreen webkitallowfullscreen mozallowfullscreen></iframe></div></div>"
      ],
      "text/plain": [
       "<folium.folium.Map at 0x7f81b015e690>"
      ]
     },
     "execution_count": 35,
     "metadata": {
      "tags": []
     },
     "output_type": "execute_result"
    }
   ],
   "source": [
    "# Albedo \n",
    "image = image_ID.multiply(0.0001)\n",
    "\n",
    "# Coeficientes de ponderación por banda (Da Silva et al., 2016)\n",
    "# https://www.scielo.br/j/rbeaa/a/sX6cJjNXWMfHQ5p4h33B8Zz/?lang=en\n",
    "\n",
    "albedo = image.expression(\n",
    "    '(0.3*B2 + 0.277*B3 + 0.233*B4 + 0.143*B5 + 0.036*B6 + 0.012*B7)',\n",
    "    {\n",
    "        'B2' : image.select('B2'),\n",
    "        'B3' : image.select('B3'),\n",
    "        'B4' : image.select('B4'),\n",
    "        'B5' : image.select('B5'),\n",
    "        'B6' : image.select('B6'),\n",
    "        'B7' : image.select('B7')\n",
    "    }\n",
    ")\n",
    "\n",
    "palette = [\n",
    "    'FFFFFF', 'CE7E45', 'DF923D', 'F1B555', 'FCD163', '99B718', '74A901',\n",
    "    '66A000', '529400', '3E8601', '207401', '056201', '004C00', '023B01',\n",
    "    '012E01', '011D01', '011301'\n",
    "  ]\n",
    "viz_params = {'min': 0.0, 'max': 0.5, 'palette': palette};\n",
    "\n",
    "mapdisplay([-79.309, -6.846], {'Albedo':albedo.getMapId(viz_params),\n",
    "                               'Imagen':image.getMapId({'min':0, 'max':0.3, 'bands':['B4','B3','B2']})},zoom_start=9)\n",
    "\n",
    "# mapdisplay([-79.309, -6.846], {'Albedo':albedo.clip(roiDep).getMapId(viz_params)},zoom_start=8)"
   ]
  },
  {
   "cell_type": "markdown",
   "metadata": {
    "id": "rd3kvs_G7ojO"
   },
   "source": [
    "### Radiación de onda corta entrante $R_{S\\downarrow}$"
   ]
  },
  {
   "cell_type": "markdown",
   "metadata": {
    "id": "G-Rxk3W-Gu_o"
   },
   "source": [
    "Morse et al. (2000)\n",
    "\n",
    "$$\n",
    "R_{S\\downarrow} = G_{sc} \\times \\cos(\\theta) \\times d_r \\times \\tau_{sw}\n",
    "$$\n",
    "\n",
    "Dónde:\n",
    "- $R_{S\\downarrow}$ : Radiación de onda corte entrante $[W/m²]$\n",
    "- $G_{sc}$ : Constante solar $[1367 \\space W/m²]$\n",
    "- $\\theta$ : Ángulo zenital solar $[rad]$\n",
    "- $d_r$ : Inversa de la distancia Sol-Tierra $[m^{-1}]$\n",
    "- $\\tau_{sw}$ : Es la transmitancia en un sentido con condiciones de claridad $[W/m² \\space K]$\n",
    "\n",
    "$$\n",
    "\\tau_{SW} = \\tau_B + \\tau_D\n",
    "$$\n",
    "\n",
    "Donde:\n",
    "- $\\tau_B$ es el índice de transmisividad de radiación directa y \n",
    "- $\\tau_D$ es índice de transmisividad de radiación difusa"
   ]
  },
  {
   "cell_type": "markdown",
   "metadata": {
    "id": "J6iaCcGGC8zd"
   },
   "source": [
    "La ecuación utilizada para el cálcula de $\\tau_B$ es:\n",
    "\n",
    "$$\n",
    "\\tau_B = 0.98 * \\exp \\left[ \\frac{-0.00146*P_{air}}{K_t * \\cos\\theta} - 0.075 * \\left( \\frac {W}{\\cos\\theta}\\right)^{0.4} \\right]\n",
    "$$\n",
    "\n",
    "$$\n",
    "P_{air} = 101.1 \\left( \\frac {293 - 0.0067 * z}{293}\\right)^{5.26}\n",
    "$$"
   ]
  },
  {
   "cell_type": "code",
   "execution_count": null,
   "metadata": {
    "id": "UvUkQTTcAvYr"
   },
   "outputs": [],
   "source": [
    "image_ID.getInfo()"
   ]
  },
  {
   "cell_type": "code",
   "execution_count": null,
   "metadata": {
    "colab": {
     "base_uri": "https://localhost:8080/"
    },
    "id": "J_E-xXlzAOi3",
    "outputId": "4ff800b1-3839-4be4-8d62-8dccd232017b"
   },
   "outputs": [
    {
     "data": {
      "text/plain": [
       "1.0166300340977714"
      ]
     },
     "execution_count": 50,
     "metadata": {
      "tags": []
     },
     "output_type": "execute_result"
    }
   ],
   "source": [
    "import math\n",
    "\n",
    "ang_zenital = image_ID.get('SOLAR_ZENITH_ANGLE').getInfo()*math.pi/180\n",
    "G_sc = 1367\n",
    "dr = 1/image_ID.get('EARTH_SUN_DISTANCE').getInfo()"
   ]
  },
  {
   "cell_type": "code",
   "execution_count": null,
   "metadata": {
    "colab": {
     "base_uri": "https://localhost:8080/"
    },
    "id": "bmaBIxY3BO38",
    "outputId": "9631b0c7-4f4e-48a2-a4f4-f836933054c6"
   },
   "outputs": [
    {
     "data": {
      "text/plain": [
       "1.0166300340977714"
      ]
     },
     "execution_count": 49,
     "metadata": {
      "tags": []
     },
     "output_type": "execute_result"
    }
   ],
   "source": [
    "1/0.983642"
   ]
  },
  {
   "cell_type": "code",
   "execution_count": null,
   "metadata": {
    "id": "cesyiyAp90UG"
   },
   "outputs": [],
   "source": [
    "# imagen = ee.Image('LANDSAT/LC08/C01/T1_SR/LC08_010065_20200116')\n",
    "zenitAngle = image.get('SOLAR_ZENITH_ANGLE').getInfo()\n",
    "zenitAngle"
   ]
  },
  {
   "cell_type": "code",
   "execution_count": null,
   "metadata": {
    "id": "5LH5JRYcQNpA"
   },
   "outputs": [],
   "source": [
    "R_s_entrante = 1367*cos(zenitAngle)*d_r*tau_sw"
   ]
  },
  {
   "cell_type": "markdown",
   "metadata": {
    "id": "UYQ3izhANkBb"
   },
   "source": [
    "### Radiación de onda larga saliente $R_{L\\uparrow}$"
   ]
  },
  {
   "cell_type": "markdown",
   "metadata": {
    "id": "OJUsxBsNNoab"
   },
   "source": [
    "- Morse et al., 2000.\n",
    "\n",
    "$$\n",
    "R_{L\\downarrow} = \\epsilon_0 * \\sigma * T_{s}^{4}\n",
    "$$\n",
    "\n",
    "Dónde:\n",
    "- $R_{L\\downarrow}$ : Radiación de onda larga saliente $[W/m²]$\n",
    "- $\\epsilon_0$ : Emisividad del ancho de banda de la superficie\n",
    "- $\\sigma$ : Constante de Stefan-Boltzmann $(5.67*10^{-8}[W/m²])$\n",
    "- $T_s$ : Temperatura de brillo de superficie $[K]$\n",
    "\n",
    "Para hallar la emisividad:\n",
    "\n",
    "$$\n",
    "\\epsilon_0 = 0.95 + 0.01 * LAI \\text{, cuando NDVI > 0 y LAI < 3} \n",
    "$$\n",
    "\n",
    "Dónde:\n",
    "- $\\text{LAI}$ : es el índice de área foliar\n",
    "- $\\text{NDVI}$ : El índice de vegetación de diferencia normalizada"
   ]
  },
  {
   "cell_type": "code",
   "execution_count": null,
   "metadata": {
    "id": "bHem_NzeQxrc"
   },
   "outputs": [],
   "source": [
    "R_l_saliente = emisividad*(5.67*10**-8)*temp_brillo**4"
   ]
  },
  {
   "cell_type": "markdown",
   "metadata": {
    "id": "0JvJ61pv7yMh"
   },
   "source": [
    "### Radiación de onda larga entrante $R_{L\\downarrow}$\n",
    "\n",
    "Bastiaansen et al. 1998:\n",
    "\n",
    "$$\n",
    "R_{L\\downarrow} = 1.08 * (-\\ln({\\tau_{sw})})^{0.265} * \\sigma * T_{0 ref}^{4}\n",
    "$$\n",
    "\n",
    "Dónde:\n",
    "- $R_{L\\downarrow}$ : Radiación de onda corta entrante\n",
    "- $\\tau_{sw}$ : Es la transmitancia en un sentido con condiciones de claridad\n",
    "- $\\sigma$ : Constante de Stefan-Boltzmann $(5.67*10^{-8} [W/m^{2}])$\n",
    "- $T_{0 ref}$ : Temperatura en un punto de referencia con buen riego\n"
   ]
  },
  {
   "cell_type": "markdown",
   "metadata": {
    "id": "qYiyY9Rc75It"
   },
   "source": [
    "### Radiación neta de la superficie $R_n$\n",
    "\n",
    "Morse et al. 2000:\n",
    "\n",
    "$$\n",
    "R_n = (1- \\alpha)R_{S\\downarrow} + (R_{L\\downarrow} - R_{L\\uparrow}) - (1- \\epsilon_0)R_{L\\downarrow}\n",
    "$$\n",
    "\n",
    "Dónde: \n",
    "- $R_n$ : Flujo de radiación neta $[W/m^2]$\n",
    "- $\\alpha$ : Albedo de superficie\n",
    "- $R_{S\\downarrow}$ : Radiación de onda corta entrante $[W/m^2]$\n",
    "- $R_{L\\downarrow}$ : Radiación de onda larga entrante $[W/m^2]$\n",
    "- $R_{L\\uparrow}$ : Radiación de onda larga saliente $[W/m^2]$\n",
    "- $\\epsilon_0$ : Emisividad del ancho de banda en la superficie"
   ]
  },
  {
   "cell_type": "markdown",
   "metadata": {
    "id": "7f_xsj2d7_5N"
   },
   "source": [
    "### Flujo de calor del suelo $G$"
   ]
  },
  {
   "cell_type": "markdown",
   "metadata": {
    "id": "gZcNs-CPb3Hr"
   },
   "source": [
    "> **Forma 1**\n",
    ">\n",
    ">Choudhury, Idso y Reginato (1987) o Allen, Pereira, Raes y Smith (1998)\n",
    ">\n",
    ">$$\n",
    "G = 0.4 * \\mathrm{e}^{-0.5* \\text{LAI}} * R_n\n",
    "$$\n",
    ">\n",
    ">Dónde:\n",
    ">- $G$ : Flujo de calor del suelo $[W/m^{2}]$\n",
    ">- $\\text{LAI}$ : Índice de área foliar\n",
    ">- $R_n$ : Flujo de radiación neta $[W/m^{2}]$"
   ]
  },
  {
   "cell_type": "markdown",
   "metadata": {
    "id": "5vcVN4WodoQi"
   },
   "source": [
    "> **Forma 2**\n",
    ">\n",
    "> Despeje de la relación de calor almacenado en el suelo y vegetación debida a la conducción $R_n$, según Bastiaanssen (2000)\n",
    ">\n",
    ">$$\n",
    "\\frac{G}{R_n} = \\frac{T_s}{\\alpha}(0.0038\\alpha + 0.0074\\alpha^{2})(1-0.98*\\text{NDVI}^4) \n",
    "$$\n",
    "> Dónde:\n",
    "> - $\\frac{G}{R_n}$ : Relación del calor almacenado en suelo y vegetación\n",
    "> - $T_s$ : Temperatura de brillo de superficie $[K]$\n",
    "> - $\\alpha$ : Albedo de superficie\n",
    "> - $\\text{NDVI}$ : Índice de vegetación de diferencia normalizada"
   ]
  },
  {
   "cell_type": "markdown",
   "metadata": {
    "id": "qHCpaxgP8IYe"
   },
   "source": [
    "### Momento de resistencia aerodinámica (MRA) o $Z_{om}$"
   ]
  },
  {
   "cell_type": "markdown",
   "metadata": {
    "id": "2594Jn0xe-6r"
   },
   "source": [
    "Chemin y Din Ahmad (2000), toman en cuenta las condiciones aerodinámicas de la vegetación la cual está en función de su altura y distribución espacial.\n",
    "\n",
    "$$\n",
    "Z_{om} = a + b*\\text{NDVI}\n",
    "$$\n",
    "\n",
    "Dónde:\n",
    "\n",
    "$$\n",
    "a = \\ln(0.02) - [b*(0.02)]\n",
    "$$\n",
    "\n",
    "$$\n",
    "b = \\frac{(\\text{NDVI}_{max}-0.02)}{\\ln(\\frac{h_v}{7}-\\ln(0.002)}\n",
    "$$\n",
    "\n",
    "- $\\text{NDVI}$ : Índice de vegetación de diferencia normalizada\n",
    "- $\\text{NDVI}_{max}$ : Valor local máximo del $\\text{NDVI}$\n",
    "- $h_v$ : altura promedio de la vegetación cuando se tiene $\\text{NDVI}_{max}$"
   ]
  },
  {
   "cell_type": "markdown",
   "metadata": {
    "id": "3-AP4MJA8QZm"
   },
   "source": [
    "### Selección de pixel caliente y frío"
   ]
  },
  {
   "cell_type": "markdown",
   "metadata": {
    "id": "okRlIwdOgo56"
   },
   "source": [
    "Requisito para conocer el aporte de flujo de calor sensible $H$ en el modelo de balance, cada pixel con vegetación requerirá de conocer un gradiente de temperatura $\\delta T$ en referencia a su condición aerodinámica a fin de estimar la densidad de su aporte, esto se logra a partir de la relación lineal que guardan las temperaturas entre dos superficies extremas con características distintas. \n",
    "\n",
    "Se han propuesto metodologías para la selección de estos puntos extremos denominándose **pixel frío** y **pixel caliente**, donde: \n",
    "- un **pixel frío** representa una superficie con vegetación densa y húmeda, mientras \n",
    "- un **pixel caliente** representa una superficie seca sin vegetación. \n",
    "\n",
    "Según el método de Olmedo et al. (2016), la selección de estos dos parámetros puede llevarse sobre el área de estudio y localizarlos mediante el cumplimiento de una serie de condiciones sobre otros parámetros conocidos como se muestra a continuación:\n",
    "\n",
    "$\\space$\n",
    "\n",
    "$$\n",
    "\\text{pixel frio} = \n",
    "\\begin{cases}\n",
    "  \\begin{gather*}\n",
    "    3 \\le \\text{LAI} \\le 6 \\\\\n",
    "    0.18 \\le \\alpha \\le 0.25 \\\\\n",
    "    0.03 \\le Z_{0m} \\le 0.08 \\\\\n",
    "    \\text{NDVI} \\ge \\text{NDVI}_{max} - 0.15 \\\\\n",
    "    T_s < T_{max} - 5 \n",
    "  \\end{gather*}\n",
    "\\end{cases}\n",
    "$$\n",
    "\n",
    "$\\space$\n",
    "\n",
    "$$\n",
    "\\text{pixel caliente} = \n",
    "\\begin{cases}\n",
    "  \\begin{gather*}\n",
    "    0.13 \\le \\alpha \\le 0.15 \\\\\n",
    "    Z_{0m} \\le 0.005 \\\\\n",
    "    0.1 \\le \\text{NDVI} \\le 0.28 \\\\\n",
    "    T_s > T_{max} - 5\n",
    "  \\end{gather*}\n",
    "\\end{cases}\n",
    "$$\n",
    "\n",
    "Dónde:\n",
    "- $\\alpha$ : Es el albedo de superficie\n",
    "- $\\text{LAI}$ : Índice de área foliar\n",
    "- $Z_{0m}$ : Momento de resistencia aerodinámica o MRA\n",
    "- $\\text{NDVI}$ : Índice de vegetación de diferencia normalizada y máximo $\\text{NDVI}_{max}$\n",
    "- $T_s$ : Temperatura de superficie y máximo valor $T_{max}$\n"
   ]
  },
  {
   "cell_type": "markdown",
   "metadata": {
    "id": "cyMopDsO8TRp"
   },
   "source": [
    "### Flujo de calor sensible $H$"
   ]
  },
  {
   "cell_type": "markdown",
   "metadata": {
    "id": "y-fY4J_PpDl5"
   },
   "source": [
    "Bastiaanssen et al. (1998)\n",
    "\n",
    "$$\n",
    "H = \\frac{\\rho_a c_p \\delta{T_a}}{r_{ah}}\n",
    "$$\n",
    "\n",
    "Dónde:\n",
    "- $H$ : Flujo de calor sensible $[W/m^{2}]$\n",
    "- $\\rho_a$ : Densidad del aire $[kg/m^{3}]$\n",
    "- $c_p$ : Calor específico del aire igual a $[1004 \\space J/kg/K]$\n",
    "- $\\delta{T_a}$ : Gradiente de temperatura $[°C]$\n",
    "- $r_{ah}$ : Resistencia aerodinámica al transporte de calor $[s/m]$ "
   ]
  },
  {
   "cell_type": "markdown",
   "metadata": {
    "id": "8v0tN1XP8XX8"
   },
   "source": [
    "### $\\lambda{ET}$ y $ET$ instantánea"
   ]
  },
  {
   "cell_type": "markdown",
   "metadata": {
    "id": "Gk0wobkd8c8m"
   },
   "source": [
    "### Evapotranspiración de cultivo $ET_c$ por día"
   ]
  },
  {
   "cell_type": "markdown",
   "metadata": {
    "id": "lhZSUDxOra0Z"
   },
   "source": [
    "La $ET_c$ diaria se puede calcular mediante la siguiente ecuación:\n",
    "\n",
    "$$\n",
    "ET_c[\\frac{mm}{d}] = C_{rad} * \\Lambda * ET_{24}\n",
    "$$"
   ]
  }
 ],
 "metadata": {
  "colab": {
   "authorship_tag": "ABX9TyM5Ql4Rd73OmdOZ+eBBJS2q",
   "collapsed_sections": [
    "GD7Ii-GoX6W1",
    "yg1HNQzwCY8W",
    "1DOUJEfS7dSf",
    "rd3kvs_G7ojO",
    "VspYZc97UA-S",
    "PHotkTXtW47T"
   ],
   "include_colab_link": true,
   "name": "Inv-Arroz-METRIC.ipynb",
   "provenance": []
  },
  "hide_input": false,
  "kernelspec": {
   "display_name": "Python 3",
   "language": "python",
   "name": "python3"
  },
  "language_info": {
   "codemirror_mode": {
    "name": "ipython",
    "version": 3
   },
   "file_extension": ".py",
   "mimetype": "text/x-python",
   "name": "python",
   "nbconvert_exporter": "python",
   "pygments_lexer": "ipython3",
   "version": "3.7.10"
  },
  "latex_envs": {
   "LaTeX_envs_menu_present": true,
   "autoclose": false,
   "autocomplete": true,
   "bibliofile": "biblio.bib",
   "cite_by": "apalike",
   "current_citInitial": 1,
   "eqLabelWithNumbers": true,
   "eqNumInitial": 1,
   "hotkeys": {
    "equation": "Ctrl-E",
    "itemize": "Ctrl-I"
   },
   "labels_anchors": false,
   "latex_user_defs": false,
   "report_style_numbering": false,
   "user_envs_cfg": false
  },
  "toc": {
   "base_numbering": 1,
   "nav_menu": {},
   "number_sections": true,
   "sideBar": true,
   "skip_h1_title": false,
   "title_cell": "Table of Contents",
   "title_sidebar": "Contents",
   "toc_cell": false,
   "toc_position": {},
   "toc_section_display": true,
   "toc_window_display": false
  },
  "varInspector": {
   "cols": {
    "lenName": 16,
    "lenType": 16,
    "lenVar": 40
   },
   "kernels_config": {
    "python": {
     "delete_cmd_postfix": "",
     "delete_cmd_prefix": "del ",
     "library": "var_list.py",
     "varRefreshCmd": "print(var_dic_list())"
    },
    "r": {
     "delete_cmd_postfix": ") ",
     "delete_cmd_prefix": "rm(",
     "library": "var_list.r",
     "varRefreshCmd": "cat(var_dic_list()) "
    }
   },
   "types_to_exclude": [
    "module",
    "function",
    "builtin_function_or_method",
    "instance",
    "_Feature"
   ],
   "window_display": false
  },
  "widgets": {
   "application/vnd.jupyter.widget-state+json": {
    "0327e46cbf5e4103af38df93fb90cc9e": {
     "model_module": "@jupyter-widgets/output",
     "model_name": "OutputModel",
     "state": {
      "_dom_classes": [],
      "_model_module": "@jupyter-widgets/output",
      "_model_module_version": "1.0.0",
      "_model_name": "OutputModel",
      "_view_count": null,
      "_view_module": "@jupyter-widgets/output",
      "_view_module_version": "1.0.0",
      "_view_name": "OutputView",
      "layout": "IPY_MODEL_b49f05b3f7124066a77547cb1a424810",
      "msg_id": "",
      "outputs": [
       {
        "metadata": {
         "tags": []
        },
        "output_type": "stream",
        "stream": "stdout",
        "text": "\nID's disponibles:\n['LANDSAT/LC08/C01/T1_SR/LC08_010065_20201201']\n\n"
       },
       {
        "metadata": {
         "tags": []
        },
        "output_type": "display_data",
        "text/html": "<div style=\"width:100%;\"><div style=\"position:relative;width:100%;height:0;padding-bottom:60%;\"><span style=\"color:#565656\">Make this Notebook Trusted to load map: File -> Trust Notebook</span><iframe src=\"about:blank\" style=\"position:absolute;width:100%;height:100%;left:0;top:0;border:none !important;\" data-html=%3C%21DOCTYPE%20html%3E%0A%3Chead%3E%20%20%20%20%0A%20%20%20%20%3Cmeta%20http-equiv%3D%22content-type%22%20content%3D%22text/html%3B%20charset%3DUTF-8%22%20/%3E%0A%20%20%20%20%3Cscript%3EL_PREFER_CANVAS%3Dfalse%3B%20L_NO_TOUCH%3Dfalse%3B%20L_DISABLE_3D%3Dfalse%3B%3C/script%3E%0A%20%20%20%20%3Cscript%20src%3D%22https%3A//cdn.jsdelivr.net/npm/leaflet%401.4.0/dist/leaflet.js%22%3E%3C/script%3E%0A%20%20%20%20%3Cscript%20src%3D%22https%3A//code.jquery.com/jquery-1.12.4.min.js%22%3E%3C/script%3E%0A%20%20%20%20%3Cscript%20src%3D%22https%3A//maxcdn.bootstrapcdn.com/bootstrap/3.2.0/js/bootstrap.min.js%22%3E%3C/script%3E%0A%20%20%20%20%3Cscript%20src%3D%22https%3A//cdnjs.cloudflare.com/ajax/libs/Leaflet.awesome-markers/2.0.2/leaflet.awesome-markers.js%22%3E%3C/script%3E%0A%20%20%20%20%3Clink%20rel%3D%22stylesheet%22%20href%3D%22https%3A//cdn.jsdelivr.net/npm/leaflet%401.4.0/dist/leaflet.css%22/%3E%0A%20%20%20%20%3Clink%20rel%3D%22stylesheet%22%20href%3D%22https%3A//maxcdn.bootstrapcdn.com/bootstrap/3.2.0/css/bootstrap.min.css%22/%3E%0A%20%20%20%20%3Clink%20rel%3D%22stylesheet%22%20href%3D%22https%3A//maxcdn.bootstrapcdn.com/bootstrap/3.2.0/css/bootstrap-theme.min.css%22/%3E%0A%20%20%20%20%3Clink%20rel%3D%22stylesheet%22%20href%3D%22https%3A//maxcdn.bootstrapcdn.com/font-awesome/4.6.3/css/font-awesome.min.css%22/%3E%0A%20%20%20%20%3Clink%20rel%3D%22stylesheet%22%20href%3D%22https%3A//cdnjs.cloudflare.com/ajax/libs/Leaflet.awesome-markers/2.0.2/leaflet.awesome-markers.css%22/%3E%0A%20%20%20%20%3Clink%20rel%3D%22stylesheet%22%20href%3D%22https%3A//rawcdn.githack.com/python-visualization/folium/master/folium/templates/leaflet.awesome.rotate.css%22/%3E%0A%20%20%20%20%3Cstyle%3Ehtml%2C%20body%20%7Bwidth%3A%20100%25%3Bheight%3A%20100%25%3Bmargin%3A%200%3Bpadding%3A%200%3B%7D%3C/style%3E%0A%20%20%20%20%3Cstyle%3E%23map%20%7Bposition%3Aabsolute%3Btop%3A0%3Bbottom%3A0%3Bright%3A0%3Bleft%3A0%3B%7D%3C/style%3E%0A%20%20%20%20%0A%20%20%20%20%3Cmeta%20name%3D%22viewport%22%20content%3D%22width%3Ddevice-width%2C%0A%20%20%20%20%20%20%20%20initial-scale%3D1.0%2C%20maximum-scale%3D1.0%2C%20user-scalable%3Dno%22%20/%3E%0A%20%20%20%20%3Cstyle%3E%23map_6eb096c229e34e06b572f76478496ae7%20%7B%0A%20%20%20%20%20%20%20%20position%3A%20relative%3B%0A%20%20%20%20%20%20%20%20width%3A%20100.0%25%3B%0A%20%20%20%20%20%20%20%20height%3A%20100.0%25%3B%0A%20%20%20%20%20%20%20%20left%3A%200.0%25%3B%0A%20%20%20%20%20%20%20%20top%3A%200.0%25%3B%0A%20%20%20%20%20%20%20%20%7D%0A%20%20%20%20%3C/style%3E%0A%3C/head%3E%0A%3Cbody%3E%20%20%20%20%0A%20%20%20%20%0A%20%20%20%20%3Cdiv%20class%3D%22folium-map%22%20id%3D%22map_6eb096c229e34e06b572f76478496ae7%22%20%3E%3C/div%3E%0A%3C/body%3E%0A%3Cscript%3E%20%20%20%20%0A%20%20%20%20%0A%20%20%20%20%0A%20%20%20%20%20%20%20%20var%20bounds%20%3D%20null%3B%0A%20%20%20%20%0A%0A%20%20%20%20var%20map_6eb096c229e34e06b572f76478496ae7%20%3D%20L.map%28%0A%20%20%20%20%20%20%20%20%27map_6eb096c229e34e06b572f76478496ae7%27%2C%20%7B%0A%20%20%20%20%20%20%20%20center%3A%20%5B-6.746%2C%20-79.809%5D%2C%0A%20%20%20%20%20%20%20%20zoom%3A%2010%2C%0A%20%20%20%20%20%20%20%20maxBounds%3A%20bounds%2C%0A%20%20%20%20%20%20%20%20layers%3A%20%5B%5D%2C%0A%20%20%20%20%20%20%20%20worldCopyJump%3A%20false%2C%0A%20%20%20%20%20%20%20%20crs%3A%20L.CRS.EPSG3857%2C%0A%20%20%20%20%20%20%20%20zoomControl%3A%20true%2C%0A%20%20%20%20%20%20%20%20%7D%29%3B%0AL.control.scale%28%29.addTo%28map_6eb096c229e34e06b572f76478496ae7%29%3B%0A%0A%20%20%20%20%0A%20%20%20%20var%20tile_layer_3a5c96dd3be54aa4855437c0119fa62e%20%3D%20L.tileLayer%28%0A%20%20%20%20%20%20%20%20%27https%3A//%7Bs%7D.tile.openstreetmap.org/%7Bz%7D/%7Bx%7D/%7By%7D.png%27%2C%0A%20%20%20%20%20%20%20%20%7B%0A%20%20%20%20%20%20%20%20%22attribution%22%3A%20null%2C%0A%20%20%20%20%20%20%20%20%22detectRetina%22%3A%20false%2C%0A%20%20%20%20%20%20%20%20%22maxNativeZoom%22%3A%2018%2C%0A%20%20%20%20%20%20%20%20%22maxZoom%22%3A%2018%2C%0A%20%20%20%20%20%20%20%20%22minZoom%22%3A%200%2C%0A%20%20%20%20%20%20%20%20%22noWrap%22%3A%20false%2C%0A%20%20%20%20%20%20%20%20%22opacity%22%3A%201%2C%0A%20%20%20%20%20%20%20%20%22subdomains%22%3A%20%22abc%22%2C%0A%20%20%20%20%20%20%20%20%22tms%22%3A%20false%0A%7D%29.addTo%28map_6eb096c229e34e06b572f76478496ae7%29%3B%0A%20%20%20%20var%20tile_layer_91b2ca63eb5d4e5fb2bab4f678483b5d%20%3D%20L.tileLayer%28%0A%20%20%20%20%20%20%20%20%27https%3A//earthengine.googleapis.com/v1alpha/projects/earthengine-legacy/maps/b6e402b149bf3dce124a481e01a2b262-d1a08499e0a11216e161291bfda460f0/tiles/%7Bz%7D/%7Bx%7D/%7By%7D%27%2C%0A%20%20%20%20%20%20%20%20%7B%0A%20%20%20%20%20%20%20%20%22attribution%22%3A%20%22Google%20Earth%20Engine%22%2C%0A%20%20%20%20%20%20%20%20%22detectRetina%22%3A%20false%2C%0A%20%20%20%20%20%20%20%20%22maxNativeZoom%22%3A%2018%2C%0A%20%20%20%20%20%20%20%20%22maxZoom%22%3A%2018%2C%0A%20%20%20%20%20%20%20%20%22minZoom%22%3A%200%2C%0A%20%20%20%20%20%20%20%20%22noWrap%22%3A%20false%2C%0A%20%20%20%20%20%20%20%20%22opacity%22%3A%201%2C%0A%20%20%20%20%20%20%20%20%22subdomains%22%3A%20%22abc%22%2C%0A%20%20%20%20%20%20%20%20%22tms%22%3A%20false%0A%7D%29.addTo%28map_6eb096c229e34e06b572f76478496ae7%29%3B%0A%20%20%20%20%0A%20%20%20%20%20%20%20%20%20%20%20%20var%20layer_control_a2b7b0b5b0db4b5b869b7ff7cdcb10f9%20%3D%20%7B%0A%20%20%20%20%20%20%20%20%20%20%20%20%20%20%20%20base_layers%20%3A%20%7B%20%22openstreetmap%22%20%3A%20tile_layer_3a5c96dd3be54aa4855437c0119fa62e%2C%20%7D%2C%0A%20%20%20%20%20%20%20%20%20%20%20%20%20%20%20%20overlays%20%3A%20%7B%20%222020-12-01%2015%3A28%3A38%22%20%3A%20tile_layer_91b2ca63eb5d4e5fb2bab4f678483b5d%2C%20%7D%0A%20%20%20%20%20%20%20%20%20%20%20%20%20%20%20%20%7D%3B%0A%20%20%20%20%20%20%20%20%20%20%20%20L.control.layers%28%0A%20%20%20%20%20%20%20%20%20%20%20%20%20%20%20%20layer_control_a2b7b0b5b0db4b5b869b7ff7cdcb10f9.base_layers%2C%0A%20%20%20%20%20%20%20%20%20%20%20%20%20%20%20%20layer_control_a2b7b0b5b0db4b5b869b7ff7cdcb10f9.overlays%2C%0A%20%20%20%20%20%20%20%20%20%20%20%20%20%20%20%20%7Bposition%3A%20%27topright%27%2C%0A%20%20%20%20%20%20%20%20%20%20%20%20%20%20%20%20%20collapsed%3A%20true%2C%0A%20%20%20%20%20%20%20%20%20%20%20%20%20%20%20%20%20autoZIndex%3A%20true%0A%20%20%20%20%20%20%20%20%20%20%20%20%20%20%20%20%7D%29.addTo%28map_6eb096c229e34e06b572f76478496ae7%29%3B%0A%20%20%20%20%20%20%20%20%20%20%20%20%0A%20%20%20%20%20%20%20%20%0A%3C/script%3E onload=\"this.contentDocument.open();this.contentDocument.write(    decodeURIComponent(this.getAttribute('data-html')));this.contentDocument.close();\" allowfullscreen webkitallowfullscreen mozallowfullscreen></iframe></div></div>",
        "text/plain": "<folium.folium.Map at 0x7f47754e95d0>"
       }
      ]
     }
    },
    "15de545f65344c358e71d1a6af3ef2dc": {
     "model_module": "@jupyter-widgets/controls",
     "model_name": "DropdownModel",
     "state": {
      "_dom_classes": [],
      "_model_module": "@jupyter-widgets/controls",
      "_model_module_version": "1.5.0",
      "_model_name": "DropdownModel",
      "_options_labels": [
       "1",
       "2",
       "3",
       "4",
       "5",
       "6",
       "7",
       "8",
       "9",
       "10",
       "11",
       "12"
      ],
      "_view_count": null,
      "_view_module": "@jupyter-widgets/controls",
      "_view_module_version": "1.5.0",
      "_view_name": "DropdownView",
      "description": "mes",
      "description_tooltip": null,
      "disabled": false,
      "index": 11,
      "layout": "IPY_MODEL_d117f56643c04be5929de83cdd3f7559",
      "style": "IPY_MODEL_3249d4abc0db4b0fae0f9bd73f2328e5"
     }
    },
    "3249d4abc0db4b0fae0f9bd73f2328e5": {
     "model_module": "@jupyter-widgets/controls",
     "model_name": "DescriptionStyleModel",
     "state": {
      "_model_module": "@jupyter-widgets/controls",
      "_model_module_version": "1.5.0",
      "_model_name": "DescriptionStyleModel",
      "_view_count": null,
      "_view_module": "@jupyter-widgets/base",
      "_view_module_version": "1.2.0",
      "_view_name": "StyleView",
      "description_width": ""
     }
    },
    "a779e94532064a4a9aadfe244c69fad6": {
     "model_module": "@jupyter-widgets/controls",
     "model_name": "VBoxModel",
     "state": {
      "_dom_classes": [
       "widget-interact"
      ],
      "_model_module": "@jupyter-widgets/controls",
      "_model_module_version": "1.5.0",
      "_model_name": "VBoxModel",
      "_view_count": null,
      "_view_module": "@jupyter-widgets/controls",
      "_view_module_version": "1.5.0",
      "_view_name": "VBoxView",
      "box_style": "",
      "children": [
       "IPY_MODEL_15de545f65344c358e71d1a6af3ef2dc",
       "IPY_MODEL_0327e46cbf5e4103af38df93fb90cc9e"
      ],
      "layout": "IPY_MODEL_bf7bde1e13ad4b94a7e7248d40811d6b"
     }
    },
    "b49f05b3f7124066a77547cb1a424810": {
     "model_module": "@jupyter-widgets/base",
     "model_name": "LayoutModel",
     "state": {
      "_model_module": "@jupyter-widgets/base",
      "_model_module_version": "1.2.0",
      "_model_name": "LayoutModel",
      "_view_count": null,
      "_view_module": "@jupyter-widgets/base",
      "_view_module_version": "1.2.0",
      "_view_name": "LayoutView",
      "align_content": null,
      "align_items": null,
      "align_self": null,
      "border": null,
      "bottom": null,
      "display": null,
      "flex": null,
      "flex_flow": null,
      "grid_area": null,
      "grid_auto_columns": null,
      "grid_auto_flow": null,
      "grid_auto_rows": null,
      "grid_column": null,
      "grid_gap": null,
      "grid_row": null,
      "grid_template_areas": null,
      "grid_template_columns": null,
      "grid_template_rows": null,
      "height": null,
      "justify_content": null,
      "justify_items": null,
      "left": null,
      "margin": null,
      "max_height": null,
      "max_width": null,
      "min_height": null,
      "min_width": null,
      "object_fit": null,
      "object_position": null,
      "order": null,
      "overflow": null,
      "overflow_x": null,
      "overflow_y": null,
      "padding": null,
      "right": null,
      "top": null,
      "visibility": null,
      "width": null
     }
    },
    "bf7bde1e13ad4b94a7e7248d40811d6b": {
     "model_module": "@jupyter-widgets/base",
     "model_name": "LayoutModel",
     "state": {
      "_model_module": "@jupyter-widgets/base",
      "_model_module_version": "1.2.0",
      "_model_name": "LayoutModel",
      "_view_count": null,
      "_view_module": "@jupyter-widgets/base",
      "_view_module_version": "1.2.0",
      "_view_name": "LayoutView",
      "align_content": null,
      "align_items": null,
      "align_self": null,
      "border": null,
      "bottom": null,
      "display": null,
      "flex": null,
      "flex_flow": null,
      "grid_area": null,
      "grid_auto_columns": null,
      "grid_auto_flow": null,
      "grid_auto_rows": null,
      "grid_column": null,
      "grid_gap": null,
      "grid_row": null,
      "grid_template_areas": null,
      "grid_template_columns": null,
      "grid_template_rows": null,
      "height": null,
      "justify_content": null,
      "justify_items": null,
      "left": null,
      "margin": null,
      "max_height": null,
      "max_width": null,
      "min_height": null,
      "min_width": null,
      "object_fit": null,
      "object_position": null,
      "order": null,
      "overflow": null,
      "overflow_x": null,
      "overflow_y": null,
      "padding": null,
      "right": null,
      "top": null,
      "visibility": null,
      "width": null
     }
    },
    "d117f56643c04be5929de83cdd3f7559": {
     "model_module": "@jupyter-widgets/base",
     "model_name": "LayoutModel",
     "state": {
      "_model_module": "@jupyter-widgets/base",
      "_model_module_version": "1.2.0",
      "_model_name": "LayoutModel",
      "_view_count": null,
      "_view_module": "@jupyter-widgets/base",
      "_view_module_version": "1.2.0",
      "_view_name": "LayoutView",
      "align_content": null,
      "align_items": null,
      "align_self": null,
      "border": null,
      "bottom": null,
      "display": null,
      "flex": null,
      "flex_flow": null,
      "grid_area": null,
      "grid_auto_columns": null,
      "grid_auto_flow": null,
      "grid_auto_rows": null,
      "grid_column": null,
      "grid_gap": null,
      "grid_row": null,
      "grid_template_areas": null,
      "grid_template_columns": null,
      "grid_template_rows": null,
      "height": null,
      "justify_content": null,
      "justify_items": null,
      "left": null,
      "margin": null,
      "max_height": null,
      "max_width": null,
      "min_height": null,
      "min_width": null,
      "object_fit": null,
      "object_position": null,
      "order": null,
      "overflow": null,
      "overflow_x": null,
      "overflow_y": null,
      "padding": null,
      "right": null,
      "top": null,
      "visibility": null,
      "width": null
     }
    }
   }
  }
 },
 "nbformat": 4,
 "nbformat_minor": 1
}

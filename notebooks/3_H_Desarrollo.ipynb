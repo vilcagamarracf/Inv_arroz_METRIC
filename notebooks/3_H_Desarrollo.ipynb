{
 "cells": [
  {
   "cell_type": "markdown",
   "id": "1d282a84",
   "metadata": {},
   "source": [
    "## Imports"
   ]
  },
  {
   "cell_type": "code",
   "execution_count": 3,
   "id": "43e9d605-cd5c-43cd-a0d8-c274399f1036",
   "metadata": {},
   "outputs": [],
   "source": [
    "import math\n",
    "from funciones import *"
   ]
  },
  {
   "cell_type": "code",
   "execution_count": 2,
   "id": "2283e03f-b8ca-4365-aaf9-435e0f7dcd6c",
   "metadata": {},
   "outputs": [
    {
     "data": {
      "text/plain": [
       "0.9165218524652456"
      ]
     },
     "execution_count": 2,
     "metadata": {},
     "output_type": "execute_result"
    }
   ],
   "source": [
    "h = 0.15\n",
    "z_om_w = 0.12*h\n",
    "\n",
    "# 3.1. u_200: Wind speed at a blending height assumed to be 200 m (eq 32)\n",
    "# filtrado_ws: Velocidad del viento medido por estación meteorológica a las 10:30 [Kh/hr]\n",
    "blending_h = 200 \n",
    "u_w = 1.8*1000/3600 # [m/s]\n",
    "z_x = 2.9  # altura del anemómetro, varía de 2 a 2.80m (relativo a cada estación)\n",
    "u_200 = u_w*math.log(blending_h/z_om_w)/math.log(z_x/z_om_w) # [m/s]  \n",
    "u_200"
   ]
  },
  {
   "cell_type": "code",
   "execution_count": 1,
   "id": "1285c4a6",
   "metadata": {
    "ExecuteTime": {
     "end_time": "2023-07-20T20:01:08.054823Z",
     "start_time": "2023-07-20T20:00:56.094375Z"
    }
   },
   "outputs": [
    {
     "name": "stderr",
     "output_type": "stream",
     "text": [
      "C:\\Users\\USUARIO\\Documents\\00-notebooks-2022\\funciones.py:477: SyntaxWarning: \"is\" with a literal. Did you mean \"==\"?\n",
      "  if lai_method is 0:\n",
      "C:\\Users\\USUARIO\\Documents\\00-notebooks-2022\\funciones.py:481: SyntaxWarning: \"is\" with a literal. Did you mean \"==\"?\n",
      "  if lai_method is 1:\n",
      "C:\\Users\\USUARIO\\Documents\\00-notebooks-2022\\funciones.py:486: SyntaxWarning: \"is\" with a literal. Did you mean \"==\"?\n",
      "  if lai_method is 2:\n",
      "C:\\Users\\USUARIO\\Documents\\00-notebooks-2022\\funciones.py:798: SyntaxWarning: \"is\" with a literal. Did you mean \"==\"?\n",
      "  if filtrado is 'cold':\n",
      "C:\\Users\\USUARIO\\Documents\\00-notebooks-2022\\funciones.py:816: SyntaxWarning: \"is\" with a literal. Did you mean \"==\"?\n",
      "  if filtrado is 'cold':\n"
     ]
    }
   ],
   "source": [
    "# ------------------------------------------------\n",
    "# Importando librerías utilizadas\n",
    "# ------------------------------------------------\n",
    "\n",
    "import ee          # Earth Engine Python API\n",
    "ee.Initialize()\n",
    "\n",
    "import os\n",
    "import numpy as np\n",
    "import math\n",
    "import pandas as pd   \n",
    "\n",
    "import geemap\n",
    "import geemap.colormaps as cmp    # Paletas para visualización de imágenes\n",
    "\n",
    "from geemap import cartoee        # Elaboración de gráficas\n",
    "import cartopy.crs as ccrs        # Importar sistema de coordenadas para gráficas \n",
    "\n",
    "from pprint import pprint\n",
    "import matplotlib.pyplot as plt\n",
    "\n",
    "# Funciones en archivo Funciones.py\n",
    "from funciones import *"
   ]
  },
  {
   "cell_type": "markdown",
   "id": "ca0fca67-9910-4b7a-9e89-c967b2c7e93b",
   "metadata": {},
   "source": [
    "---"
   ]
  },
  {
   "cell_type": "code",
   "execution_count": 48,
   "id": "77e4d74c-e4e5-4080-b2b0-f8f11f44dcee",
   "metadata": {},
   "outputs": [],
   "source": [
    "# ------------------------------------------------------------------------------------------------\n",
    "# Pruebas: En caso de realizar alguna edición al archivo 'funciones.py' realizar lo siguiente:\n",
    "# ------------------------------------------------------------------------------------------------\n",
    "\n",
    "import importlib\n",
    "import sys\n",
    "\n",
    "importlib.reload(sys.modules['funciones']) # Importa las funciones del archivo con las modificaciones aplicadas\n",
    "from funciones import *"
   ]
  },
  {
   "cell_type": "code",
   "execution_count": 33,
   "id": "f1eb6d7f-b6c0-4f1f-8693-5b106e228afd",
   "metadata": {},
   "outputs": [
    {
     "name": "stdout",
     "output_type": "stream",
     "text": [
      "0.8692961853185864 8.405264172603264 1.1601300527484308 2459181.09972 308.42229625655\n"
     ]
    }
   ],
   "source": [
    "# 1. Condiciones estables\n",
    "\n",
    "u_200 = 18.3154164577919\n",
    "z_om = 0.035434332 # 0.005 # 0.035434332\n",
    "\n",
    "pixel_elev = 232.551712\n",
    "pixel_ts = 290.869873\n",
    "\n",
    "Kc = 1.05\n",
    "Inst_ETr = 0.43 # mm/hr\n",
    "\n",
    "u_star = get_u_star(u_200, z_om)\n",
    "r_ah = get_rah(u_star)\n",
    "air_dens = get_air_dens(pixel_elev, 20+273.15)\n",
    "\n",
    "lambda_LE = ( 2.501-0.00236*(pixel_ts-273.15) ) * 10**6 # Eq 53\n",
    "LE = Inst_ETr * Kc * lambda_LE / 3600  # [W m-2]\n",
    "\n",
    "print(u_star, r_ah, air_dens, lambda_LE, LE)"
   ]
  },
  {
   "cell_type": "code",
   "execution_count": 50,
   "id": "97a2afba-08c8-40ef-bd75-f085e31b23f7",
   "metadata": {},
   "outputs": [
    {
     "data": {
      "text/plain": [
       "{'Ts': 290.869873,\n",
       " 'Ts_dem': 292.362609128,\n",
       " 'Z_om': 0.035434332,\n",
       " 'u_200': 17.780523937825766,\n",
       " 'u*': 0.8439088277210368,\n",
       " 'r_ah': 8.658120216102656,\n",
       " 'air_dens_p': 1.1601300527484308,\n",
       " 'R_n': 529.7671931,\n",
       " 'G': 60.68105961,\n",
       " 'LE': 308.42229625655,\n",
       " 'H0': 160.66383723345,\n",
       " 'dT0': 1.1942667933421582}"
      ]
     },
     "execution_count": 50,
     "metadata": {},
     "output_type": "execute_result"
    }
   ],
   "source": [
    "pix_values_f = {\n",
    "    'Ts_k': 290.869873,\n",
    "    'Ts': 290.869873 - 273.15,\n",
    "    'R_n': 529.7671931,\n",
    "    'G':60.68105961,\n",
    "    'Elev_m': 232.551712,\n",
    "    'LAI': 1.968574,\n",
    "    'Slope_d': 0\n",
    "}\n",
    "\n",
    "pix_values_fpros = procesado_inicial(pix_values_f, 34.92, 0.43, 1.05)\n",
    "pix_values_fpros"
   ]
  },
  {
   "cell_type": "code",
   "execution_count": 51,
   "id": "ffcbd355-832e-4ac0-8c0e-1c32a7422839",
   "metadata": {},
   "outputs": [
    {
     "data": {
      "text/plain": [
       "{'Ts': 314.259521,\n",
       " 'Ts_dem': 315.7452721305,\n",
       " 'Z_om': 0.005,\n",
       " 'u_200': 17.780523937825766,\n",
       " 'u*': 0.6879556574447105,\n",
       " 'r_ah': 10.620835809357704,\n",
       " 'air_dens_p': 1.1602762152961477,\n",
       " 'R_n': 601.9251246,\n",
       " 'G': 124.5408483,\n",
       " 'LE': 0.0,\n",
       " 'H0': 477.3842763,\n",
       " 'dT0': 4.352429076997993}"
      ]
     },
     "execution_count": 51,
     "metadata": {},
     "output_type": "execute_result"
    }
   ],
   "source": [
    "pix_values_c = {\n",
    "    'Ts_k': 314.259521,\n",
    "    'Ts': 314.259521 - 273.15,\n",
    "    'R_n': 601.9251246,\n",
    "    'G': 124.5408483,\n",
    "    'Elev_m': 231.477097,\n",
    "    'LAI': 0.022141,\n",
    "    'Slope_d': 0\n",
    "}\n",
    "\n",
    "pix_values_cpros = procesado_inicial(pix_values_c, 34.92, 0.43, Kc=0)\n",
    "pix_values_cpros"
   ]
  },
  {
   "cell_type": "code",
   "execution_count": 52,
   "id": "e2cccbcf-e8e7-49e0-a56e-c460a692c26e",
   "metadata": {},
   "outputs": [],
   "source": [
    "pix_f_procesado, pix_c_procesado = get_H(pix_values_fpros, pix_values_cpros)"
   ]
  },
  {
   "cell_type": "code",
   "execution_count": 56,
   "id": "74cd7256-02a2-4918-bafe-680cb152a255",
   "metadata": {},
   "outputs": [],
   "source": [
    "u_200 = 17.780523937825766"
   ]
  },
  {
   "cell_type": "code",
   "execution_count": 53,
   "id": "8c7a685c-1274-47fc-b9be-c1c48cb87f3c",
   "metadata": {},
   "outputs": [
    {
     "data": {
      "text/plain": [
       "{'Ts': 290.869873,\n",
       " 'Ts_dem': 292.362609128,\n",
       " 'Z_om': 0.035434332,\n",
       " 'u_200': 17.780523937825766,\n",
       " 'u*': 0.8439088277210368,\n",
       " 'r_ah': 8.658120216102656,\n",
       " 'air_dens_p': 1.1601300527484308,\n",
       " 'R_n': 529.7671931,\n",
       " 'G': 60.68105961,\n",
       " 'LE': 308.42229625655,\n",
       " 'H0': 160.66383723345,\n",
       " 'dT0': 1.1942667933421582,\n",
       " 'dT1': 1.194266793342159,\n",
       " 'H1': 160.66383723345012,\n",
       " 'a_coef': 0.13506426891232076,\n",
       " 'b_coef': -38.293475265829755}"
      ]
     },
     "execution_count": 53,
     "metadata": {},
     "output_type": "execute_result"
    }
   ],
   "source": [
    "pix_f_procesado"
   ]
  },
  {
   "cell_type": "code",
   "execution_count": 57,
   "id": "c1273dcb-cacb-4a79-9d62-2cd1b571c3ae",
   "metadata": {},
   "outputs": [],
   "source": [
    "pix_f_stability_cor = stability_corr(pix_f_procesado)\n",
    "pix_c_stability_cor = stability_corr(pix_c_procesado)"
   ]
  },
  {
   "cell_type": "code",
   "execution_count": 59,
   "id": "1e5e6ec1-cfe4-4c78-b687-c847cc385f91",
   "metadata": {},
   "outputs": [],
   "source": [
    "pix_f_iter = iteracion(u_200, pix_f_procesado, pix_values_f, pix_f_stability_cor, pix_f_procesado['H0'])\n",
    "pix_c_iter = iteracion(u_200, pix_c_procesado, pix_values_c, pix_c_stability_cor, pix_c_procesado['H0'])"
   ]
  },
  {
   "cell_type": "code",
   "execution_count": 60,
   "id": "9db246e7-b369-46a7-ba82-b81d72d0a7b4",
   "metadata": {},
   "outputs": [
    {
     "data": {
      "text/plain": [
       "{'Ts': 290.869873,\n",
       " 'Ts_dem': 292.362609128,\n",
       " 'Z_om': 0.035434332,\n",
       " 'u*': 0.9417907978108201,\n",
       " 'r_ah': 7.638071647299355,\n",
       " 'air_dens_p': 0.6042584438461526,\n",
       " 'dT0': 2.022764962793954}"
      ]
     },
     "execution_count": 60,
     "metadata": {},
     "output_type": "execute_result"
    }
   ],
   "source": [
    "pix_f_iter"
   ]
  },
  {
   "cell_type": "markdown",
   "id": "bef8b70a-7e3d-4971-aa41-06d6954e2d3b",
   "metadata": {},
   "source": [
    "---"
   ]
  },
  {
   "cell_type": "code",
   "execution_count": 15,
   "id": "3dd2a568-9da9-44b3-956e-c7011601e400",
   "metadata": {},
   "outputs": [
    {
     "name": "stdout",
     "output_type": "stream",
     "text": [
      "292.36812299999997\n",
      "292.366173\n",
      "292.365523\n",
      "292.364873\n"
     ]
    }
   ],
   "source": [
    "for elev in [2.5, 2.8, 2.9, 3]:\n",
    "    print(290.869873 + 6.5*(233-elev)/1000) # K"
   ]
  },
  {
   "cell_type": "code",
   "execution_count": 17,
   "id": "bb105bc1-76ed-428b-bc6c-a1c43ff8e293",
   "metadata": {},
   "outputs": [
    {
     "data": {
      "text/plain": [
       "0.035434332"
      ]
     },
     "execution_count": 17,
     "metadata": {},
     "output_type": "execute_result"
    }
   ],
   "source": [
    "##########################\n",
    "# 2. Emisividad e broadband\n",
    "##########################\n",
    "# 2.1. Z_om : Momentum roughness length \n",
    "pixel_lai = 1.968574 #pixel_values['LAI']\n",
    "pixel_slope = 0 #pixel_values['Slope_d']\n",
    "# Flat model momemtum roughnes length\n",
    "if pixel_lai < 0.2778:\n",
    "    Z_om_flat = 0.005 # m, represents roughness typical of bare agricultural soils\n",
    "else:\n",
    "    Z_om_flat = 0.018*pixel_lai\n",
    "\n",
    "# Adjusting momentm roughness length for slopes (Z_om_mtn)\n",
    "if pixel_slope < 5:\n",
    "    Z_om = Z_om_flat\n",
    "else:\n",
    "    Z_om = Z_om_flat * ( 1+(pixel_slope-5)/20 )\n",
    "\n",
    "Z_om_flat\n",
    "\n",
    "0.035434332"
   ]
  },
  {
   "cell_type": "code",
   "execution_count": 12,
   "id": "cd310c6e-9359-468b-872e-2a632599938e",
   "metadata": {},
   "outputs": [
    {
     "name": "stdout",
     "output_type": "stream",
     "text": [
      "z_x: 2.5 | u_200: 0.8391943394177256 | u_star: 0.03983029485995805\n",
      "z_x: 2.6 | u_200: 0.8325756996333659 | u_star: 0.03951615740478192\n",
      "z_x: 2.7 | u_200: 0.8263047024183553 | u_star: 0.039218519948941655\n",
      "z_x: 2.8 | u_200: 0.82035052411455 | u_star: 0.038935919523331204\n",
      "z_x: 2.9 | u_200: 0.8146860910802183 | u_star: 0.03866707114414831\n",
      "z_x: 3 | u_200: 0.8092875091338538 | u_star: 0.03841084073284865\n"
     ]
    }
   ],
   "source": [
    "# 3. u_star: Friction velocity\n",
    "# z_om_w: Roughness length for the weather station surface (Brutsaert, 1982) eq 40 en manual\n",
    "# z_om_w = 0.12*h     # h: Average vegetation height around the weather station \n",
    "# h = altura del grass de la estación met. (relativo a cada estación)\n",
    "h = 0.15\n",
    "z_om_w = 0.12*h\n",
    "\n",
    "# u_200: Wind speed at a blending height assumed to be 200 m (eq 32)\n",
    "blending_h = 200\n",
    "\n",
    "# dato_ws: Velocidad del viento medido por estación meteorológica a las 10:30 \n",
    "dato_ws = 1.6 \n",
    "u_w = dato_ws*1000/3600 # dato_ws en Km/hr -> m/s\n",
    "# z_x = 2.5  # altura del anemómetro, varía de 2 a 2.80m (relativo a cada estación)\n",
    "for z_x in [2.5, 2.6, 2.7, 2.8, 2.9, 3]:\n",
    "    u_200 = u_w*math.log(blending_h/z_om_w)/math.log(z_x/z_om_w) # [m/s]    \n",
    "    # u_200 = 18.3154164577919\n",
    "    # u*1: Friction velocity (eq 31)\n",
    "    u_star = get_u_star(u_200, 0.035434332) # Z_om = 0.035434332\n",
    "    \n",
    "    print(f'z_x: {z_x} | u_200: {u_200} | u_star: {u_star}')"
   ]
  },
  {
   "cell_type": "code",
   "execution_count": 13,
   "id": "15e0e785-e230-4b18-8880-82a391f50974",
   "metadata": {},
   "outputs": [
    {
     "data": {
      "text/plain": [
       "1.160130052748431"
      ]
     },
     "execution_count": 13,
     "metadata": {},
     "output_type": "execute_result"
    }
   ],
   "source": [
    "1000*101.3*( (293.15-0.0065*232.551712)/293.15)**5.26/1.01/293.15/287\n",
    "\n",
    "# =1000*101.3*(((293.15-0.0065*$E$7)/293.15)^5.26)/1.01/293/287\n",
    "\n",
    "1.1601300527484300"
   ]
  },
  {
   "cell_type": "code",
   "execution_count": 16,
   "id": "eb529930-e843-4c14-aa10-ff19290c75bb",
   "metadata": {},
   "outputs": [
    {
     "data": {
      "text/plain": [
       "1.49825"
      ]
     },
     "execution_count": 16,
     "metadata": {},
     "output_type": "execute_result"
    }
   ],
   "source": [
    "6.5*(233-2.5)/1000 "
   ]
  },
  {
   "cell_type": "markdown",
   "id": "95fd632a-eca8-4872-98bb-010c8d4c50b2",
   "metadata": {},
   "source": [
    "---"
   ]
  },
  {
   "cell_type": "code",
   "execution_count": 46,
   "id": "cf1facc9-3f9a-46df-ac3c-c768f6dc2131",
   "metadata": {},
   "outputs": [
    {
     "data": {
      "text/plain": [
       "19.79135695485659"
      ]
     },
     "execution_count": 46,
     "metadata": {},
     "output_type": "execute_result"
    }
   ],
   "source": [
    "pixel_elev = 232.551712\n",
    "pixel_ts = 290.869873 # °C\n",
    "\n",
    "##########################\n",
    "# 1. Ts_dem\n",
    "Tlapse_rate = 6.5   # C/km\n",
    "Elev_station = 2.5  # m\n",
    "Ts_dem = pixel_ts + Tlapse_rate/1000*(pixel_elev-Elev_station) # K"
   ]
  },
  {
   "cell_type": "code",
   "execution_count": 57,
   "id": "7060ce17-0cf7-49bc-a6c8-5aea6a1643dc",
   "metadata": {},
   "outputs": [
    {
     "name": "stdout",
     "output_type": "stream",
     "text": [
      "0.8692961853185864 8.405264172603264 1.1601300527484308\n"
     ]
    },
    {
     "data": {
      "text/plain": [
       "1.1601300527484308"
      ]
     },
     "execution_count": 57,
     "metadata": {},
     "output_type": "execute_result"
    }
   ],
   "source": [
    "# Selección de parámetros\n",
    "pixel_elev = 232.551712\n",
    "pixel_ts = 290.869873 # K\n",
    "\n",
    "##########################\n",
    "# 1. Ts_dem\n",
    "Tlapse_rate = 6.5   # C/km\n",
    "Elev_station = 2.5  # m\n",
    "Ts_dem = pixel_ts + Tlapse_rate/1000*(pixel_elev-Elev_station) # K\n",
    "    \n",
    "\n",
    "##########################\n",
    "# 2. Emisividad e broadband\n",
    "# 2.1. Z_om : Momentum roughness length \n",
    "pixel_lai = 1.968574 # pixel_values['LAI']\n",
    "pixel_slope = 0 # pixel_values['Slope_d']\n",
    "\n",
    "# Flat model momemtum roughnes length\n",
    "if pixel_lai < 0.2778:\n",
    "    Z_om_flat = 0.005 # m\n",
    "    # represents roughness typical of bare agricultural soils\n",
    "else:\n",
    "    Z_om_flat = 0.018*pixel_lai\n",
    "\n",
    "# Adjusting momentm roughness length for slopes (Z_om_mtn)\n",
    "if pixel_slope < 5:\n",
    "    Z_om = Z_om_flat\n",
    "else:\n",
    "    Z_om = Z_om_flat * ( 1+(pixel_slope-5)/20 )\n",
    "\n",
    "# Resultado: Z_om\n",
    "\n",
    "##########################\n",
    "# 3. u_star: Friction velocity\n",
    "# z_om_w: Roughness length for the weather station surface (Brutsaert, 1982) eq 40 en manual\n",
    "# z_om_w = 0.12*h     # h: Average vegetation height around the weather station \n",
    "# siendo h la altura del grass de la estación met (relativo a cada estación)\n",
    "h = 0.15\n",
    "z_om_w = 0.12*h\n",
    "\n",
    "# 3.1. u_200: Wind speed at a blending height assumed to be 200 m (eq 32)\n",
    "# filtrado_ws: Velocidad del viento medido por estación meteorológica a las 10:30 [Kh/hr]\n",
    "# blending_h = 200 \n",
    "# u_w = filtrado_ws*1000/3600 # [m/s]\n",
    "# z_x = 2.5  # altura del anemómetro, varía de 2 a 2.80m (relativo a cada estación)\n",
    "u_200 = 18.3154164577919 # u_w*math.log(blending_h/z_om_w)/math.log(z_x/z_om_w) # [m/s]    \n",
    "    \n",
    "# 3.2. u*1: Friction velocity (eq 31)\n",
    "u_star = get_u_star(u_200, Z_om)\n",
    "\n",
    "##########################\n",
    "# 4. r_ah1: Aerodynamic resistance (eq 30) [s/m]\n",
    "r_ah = get_rah(u_star)\n",
    "\n",
    "##########################\n",
    "# 5. Air density p (eq 37) For 20 °C: 293° = 273° + 20°\n",
    "air_dens_p = get_air_dens(pixel_elev, air_temp_K=20+273.15)\n",
    "\n",
    "##########################\n",
    "# 6. dT (eq 28)\n",
    "# resultado1 = get_dT(pixel_values, filtrado_ETr, Kc, r_ah, air_dens_p)\n",
    "# A continuación se debe obtener los coeficientes a y b\n",
    "\n",
    "print(u_star, r_ah, air_dens_p)"
   ]
  },
  {
   "cell_type": "code",
   "execution_count": 56,
   "id": "59ee80e0-6a4c-4142-830f-e02afc5a01ba",
   "metadata": {},
   "outputs": [
    {
     "data": {
      "text/plain": [
       "1.1601300527484308"
      ]
     },
     "execution_count": 56,
     "metadata": {},
     "output_type": "execute_result"
    }
   ],
   "source": [
    "1000*101.3*((293.15-0.0065*pixel_elev)/293.15)**5.26/(1.01*293.15*287)"
   ]
  },
  {
   "cell_type": "markdown",
   "id": "3c8840d8-df24-413f-901a-10bb9ad86946",
   "metadata": {},
   "source": [
    "---"
   ]
  },
  {
   "cell_type": "code",
   "execution_count": 30,
   "id": "69d76fc8-19f9-4c1e-b6ea-73d2bfebd6ce",
   "metadata": {},
   "outputs": [],
   "source": [
    "# Prueba\n",
    "u_200 = 18.3154164577919\n",
    "et_inst = 0.43\n",
    "elev = 232.551712\n",
    "ts = 290.869873\n",
    "Rn = 529.7671931\n",
    "G = 60.68105961\n",
    "z_om = 0.035434332\n",
    "ts_dem = ts + 6.5/1000*(elev - 2.5) # 292.365209128"
   ]
  },
  {
   "cell_type": "code",
   "execution_count": 39,
   "id": "f00387f0-74fd-4a30-b966-b83e080dc035",
   "metadata": {},
   "outputs": [
    {
     "name": "stdout",
     "output_type": "stream",
     "text": [
      "0.8692961853185864 8.405264172603264\n"
     ]
    }
   ],
   "source": [
    "u_star = get_u_star(u_200, z_om)\n",
    "r_ah = get_rah(u_star)\n",
    "print(u_star, r_ah)"
   ]
  },
  {
   "cell_type": "code",
   "execution_count": 44,
   "id": "10dd005b-4d5f-4d32-b6c3-af14edec4d00",
   "metadata": {},
   "outputs": [
    {
     "name": "stdout",
     "output_type": "stream",
     "text": [
      "1.1562717891771044 1.1607239759836263\n"
     ]
    },
    {
     "data": {
      "text/plain": [
       "1.1562717891771"
      ]
     },
     "execution_count": 44,
     "metadata": {},
     "output_type": "execute_result"
    }
   ],
   "source": [
    "dT1 = 0.131160627926246*ts_dem+(-37.1905326238396)\n",
    "p1 =1000*101.3*((293.15-0.0065*elev)/293.15)**5.26/(1.01*293*287)\n",
    "print(dT1, p1)\n",
    "\n",
    "1.1562717891771"
   ]
  },
  {
   "cell_type": "code",
   "execution_count": 27,
   "id": "2b323d60-35aa-4de6-a99e-f6b436d73c1d",
   "metadata": {},
   "outputs": [
    {
     "data": {
      "text/plain": [
       "8.405264172603289"
      ]
     },
     "execution_count": 27,
     "metadata": {},
     "output_type": "execute_result"
    }
   ],
   "source": [
    "math.log(2/0.1)/(0.869296185318584*0.41)"
   ]
  },
  {
   "cell_type": "markdown",
   "id": "8a1dfc03-558d-432c-b4da-d5d525449404",
   "metadata": {},
   "source": [
    "-----"
   ]
  },
  {
   "cell_type": "code",
   "execution_count": 2,
   "id": "10f17ef9",
   "metadata": {
    "ExecuteTime": {
     "end_time": "2023-07-20T20:01:16.885003Z",
     "start_time": "2023-07-20T20:01:16.513738Z"
    }
   },
   "outputs": [],
   "source": [
    "# ------------------------------------------------\n",
    "# Importando áreas de estudio\n",
    "# ------------------------------------------------\n",
    "\n",
    "# Importar asset público: Distrito de Ferreñafe\n",
    "asset_dist = ee.FeatureCollection('users/CesarVilca/distritos') \n",
    "dist_fcol = asset_dist.filterMetadata('DISTRITO', 'equals', 'FERREÑAFE')\n",
    "roi = dist_fcol.geometry().bounds()   # ee.Geometry tipo caja \n",
    "\n",
    "# Importar shapefile de Áreas voladas (archivo en local)\n",
    "ruta_ferrenafe = r'input/Ferreñafe_areas_2.shp'  \n",
    "\n",
    "# Lectura como FeatureCollection con geemap\n",
    "predios_agricolas = geemap.shp_to_ee(ruta_ferrenafe)\n",
    "predios_vis = ee.Image().paint(predios_agricolas, 2, 2)  # Ver solo bordes, no relleno\n",
    "\n",
    "predios_bound = predios_agricolas.geometry().bounds()\n",
    "predios_bound_vis = ee.Image().paint(predios_bound, 1, 1)  # Ver solo bordes, no relleno\n",
    "\n",
    "type(predios_agricolas) # Comprobación\n",
    "\n",
    "# ------------------------------------------------\n",
    "# Parámetros de visualización de mapas con geemap\n",
    "# ------------------------------------------------\n",
    "\n",
    "# Para imágenes Landsat 8 y 9 TOA\n",
    "vis_rgb = {'min': 0.0, 'max': 0.3, 'bands': ['B4', 'B3', 'B2']}\n",
    "\n",
    "# Paletas de colores\n",
    "albedo_cmap = ['68181f', 'd6604d', 'f9dbc7', 'd1e5f0', '2166ac', '053061']  # 0 - 0.5\n",
    "ndvi_cmap = ['ffffff', 'ce7e45', 'fad163', '74a909', '3a7405', '1a3b03']  # -0.2 - 1  '0048fb',\n",
    "ts_cmap = ['fefccc', 'fbd976', 'f08c39', 'ea4a33', 'e43d32', '812026']  # 280 - 330 en K o 6.85 - 56.85 en °C\n",
    "rn_cmp = ['560e0d', 'fd5903', 'fbfe04', '3aff01', '01feef', '0000fe', 'fd6dfd', 'ffffff']\n",
    "rn_cmp_r = ['ffffff', 'fd6dfd', '0000fe', '01feef', '3aff01', 'fbfe04', 'fd5903', '560e0d']\n",
    "\n",
    "# -------------------------------------------------------\n",
    "# Parámetros de visualización de gráficas con matplotlib\n",
    "# -------------------------------------------------------\n",
    "\n",
    "plt.rcParams['font.family'] = 'serif'  #'serif', 'Arial'  # default es 'sans-serif'\n",
    "plt.rcParams['xtick.labelsize'] = 12\n",
    "plt.rcParams['ytick.labelsize'] = 12\n",
    "plt.rcParams['axes.titlesize'] = 14\n",
    "plt.rcParams['axes.labelsize'] = 12\n",
    "plt.rcParams['figure.dpi'] = 72"
   ]
  },
  {
   "cell_type": "code",
   "execution_count": 4,
   "id": "80d7fb2e",
   "metadata": {
    "ExecuteTime": {
     "end_time": "2023-07-20T20:17:40.336032Z",
     "start_time": "2023-07-20T20:17:35.852022Z"
    }
   },
   "outputs": [
    {
     "name": "stdout",
     "output_type": "stream",
     "text": [
      "Productos y Rn de imagen 2022-01-13 procesada!\n",
      "Productos y Rn de imagen 2022-01-29 procesada!\n",
      "Productos y Rn de imagen 2022-03-10 procesada!\n",
      "Productos y Rn de imagen 2022-06-14 procesada!\n"
     ]
    }
   ],
   "source": [
    "# =============================================================\n",
    "# Inputs iniciales\n",
    "# =============================================================\n",
    "\n",
    "# 2 de Diciembre 2021: Almácigo\n",
    "# 4 de Enero 2022: Transplante\n",
    "\n",
    "# 8 Imágenes seleccionadas\n",
    "lista_ids = [\n",
    "    # 'LANDSAT/LC09/C02/T1/LC09_010065_20211212', # 0 - 12/12 - l9\n",
    "    'LANDSAT/LC09/C02/T1/LC09_010065_20220113',  # 1 - 01/13 - l9 OJO: NDVI negativos -> Posible riego 01 13\n",
    "    'LANDSAT/LC09/C02/T1/LC09_010065_20220129',  # 2 - 01/29 - l9\n",
    "    'LANDSAT/LC08/C02/T1/LC08_010065_20220310',  # 3 - 03/10 - l8\n",
    "    # 'LANDSAT/LC09/C02/T1/LC09_010065_20220403', # 4 - 04/03 - l9\n",
    "    # 'LANDSAT/LC09/C02/T1/LC09_010065_20220521', # 5 - 05/21 - l9\n",
    "    # 'LANDSAT/LC08/C02/T1/LC08_010065_20220529', # 6 - 05/29 - l8\n",
    "    'LANDSAT/LC08/C02/T1/LC08_010065_20220614'  # 7 - 06/14 - l8\n",
    "]\n",
    "\n",
    "# Importar DEM SRTM\n",
    "# Ojo: El mapa Aspect no se puede obtener en los límites -> usar áreas mayores al área de estudio\n",
    "dem = ee.Image(\"USGS/SRTMGL1_003\").clip(roi)\n",
    "\n",
    "# =============================================================\n",
    "# Procesar las imagenes e incluirlos en una lista\n",
    "# =============================================================\n",
    "\n",
    "lista_imgprocesadas = []\n",
    "\n",
    "for img_id in lista_ids:\n",
    "    \n",
    "    # Procesar la imagen a TOA\n",
    "    img_ee = ee.Image(img_id).clip(roi)\n",
    "    img_toa = convert_RAW_to_TOA(img_ee) \n",
    "\n",
    "    # Obtener fechas \n",
    "    img_date = img_ee.date()\n",
    "    fecha = img_date.format('YYYY-MM-dd').getInfo()\n",
    "\n",
    "    # Procesar Radiación Neta (produce un dict)\n",
    "    lai_method = 2  # 0: Savi con l=0.1, 1: Savi con L=0.5, 2: Relación NDVI - IAF \n",
    "    img_procesada = getRadiacionNeta(img_ee, roi, dem, lai_method=lai_method) # roi: Ferreñafe\n",
    "\n",
    "    print(f'Productos y Rn de imagen {fecha} procesada!')\n",
    "\n",
    "    # Agregar datos al dict\n",
    "    img_procesada['fecha'] = fecha\n",
    "    img_procesada['img_productos'] = img_procesada['img_productos'].clip(predios_agricolas)\n",
    "    img_procesada['img_toa'] = img_toa\n",
    "    \n",
    "    # Agregar a lista en blanco\n",
    "    lista_imgprocesadas.append(img_procesada)"
   ]
  },
  {
   "cell_type": "markdown",
   "id": "8e37779a",
   "metadata": {},
   "source": [
    "## Desarrollo H"
   ]
  },
  {
   "cell_type": "code",
   "execution_count": 5,
   "id": "87f59f02",
   "metadata": {
    "ExecuteTime": {
     "end_time": "2023-07-20T20:18:17.403308Z",
     "start_time": "2023-07-20T20:18:17.386357Z"
    }
   },
   "outputs": [
    {
     "name": "stdout",
     "output_type": "stream",
     "text": [
      "Procesando imagen 2022-03-10\n"
     ]
    }
   ],
   "source": [
    "# Selección de datos\n",
    "index = 2\n",
    "\n",
    "img_productos = lista_imgprocesadas[index]['img_productos']\n",
    "d2 = lista_imgprocesadas[index]['d2']\n",
    "R_n = lista_imgprocesadas[index]['img_Rn']\n",
    "fecha = lista_imgprocesadas[index]['fecha']\n",
    "\n",
    "print(f'Procesando imagen {fecha}')\n",
    "\n",
    "# Inputs principales\n",
    "img_productos_clipped = img_productos.clip(predios_agricolas)\n",
    "\n",
    "img_tempK = img_productos_clipped.select('Ts_k')\n",
    "img_tempC = img_productos_clipped.select('Ts_c')\n",
    "\n",
    "img_albedo = img_productos_clipped.select('albedo')\n",
    "img_ndvi = img_productos_clipped.select('NDVI')\n",
    "img_lai = img_productos_clipped.select('LAI')\n",
    "\n",
    "img_slope = img_productos_clipped.select('slope')\n",
    "dem = ee.Image(\"USGS/SRTMGL1_003\")"
   ]
  },
  {
   "cell_type": "code",
   "execution_count": 7,
   "id": "87af76a1",
   "metadata": {
    "ExecuteTime": {
     "end_time": "2023-07-20T20:19:07.540205Z",
     "start_time": "2023-07-20T20:19:06.118253Z"
    }
   },
   "outputs": [],
   "source": [
    "# =============================================================\n",
    "# Valores de pixel frío y caliente\n",
    "# Selección de datos mediante el'index'\n",
    "# =============================================================\n",
    "\n",
    "# Datos de estación: Velocidad de viento y ET\n",
    "list_weather_st = [\n",
    "    [1.6, 0.3],\n",
    "    [1.6, 0.69],\n",
    "    [3.2, 0.53],\n",
    "    [1.6, 0.46]\n",
    "] # km/h\n",
    "\n",
    "filtrado_ws, filtrado_et = list_weather_st[index]\n",
    "\n",
    "# Pixel frío\n",
    "list_coords_pixf = [\n",
    "    [-79.78527, -6.598056], # 0 '2022-01-13' n1: 50 n2: 10\n",
    "    [-79.78472, -6.598345], # 1 '2022-01-29' n1: 50 n2: 10\n",
    "    [-79.78445, -6.596984], # 2 '2022-03-10' n1: 50 n2: 5\n",
    "    [-79.778737, -6.604828] # 3 '2022-06-14' n1: 50 n2: 5\n",
    "]\n",
    "\n",
    "pixf_coord = list_coords_pixf[index]\n",
    "pixf_ee_coord = ee.Geometry.Point(pixf_coord)\n",
    "\n",
    "# Pixel caliente\n",
    "pix_c_values = get_pixel_values(pixf_ee_coord, d2, img_productos)\n",
    "\n",
    "list_coords_pixc = [\n",
    "    [-79.78198, -6.602693],  # 0 '2022-01-13' n1: 40 n2: 97 \n",
    "    [-79.778464, -6.605114], # 1 '2022-01-29' n1: 50 n2: 70\n",
    "    [-79.777924, -6.604045], # 2 '2022-03-10' n1: 3 n2: 80 \n",
    "    [-79.784729, -6.595629]  # 3 '2022-06-14' n1: 10 n2: 80 \n",
    "]\n",
    "\n",
    "pixc_coord = list_coords_pixc[index]\n",
    "pixc_ee_coord = ee.Geometry.Point(pixc_coord)"
   ]
  },
  {
   "cell_type": "code",
   "execution_count": 8,
   "id": "9cedd2bd",
   "metadata": {
    "ExecuteTime": {
     "end_time": "2023-07-20T20:19:09.739452Z",
     "start_time": "2023-07-20T20:19:09.707492Z"
    }
   },
   "outputs": [
    {
     "ename": "NameError",
     "evalue": "name 'get_u_star_sp' is not defined",
     "output_type": "error",
     "traceback": [
      "\u001b[1;31m---------------------------------------------------------------------------\u001b[0m",
      "\u001b[1;31mNameError\u001b[0m                                 Traceback (most recent call last)",
      "\u001b[1;32m~\\AppData\\Local\\Temp\\ipykernel_4908\\84249957.py\u001b[0m in \u001b[0;36m<module>\u001b[1;34m\u001b[0m\n\u001b[0;32m     22\u001b[0m \u001b[1;33m\u001b[0m\u001b[0m\n\u001b[0;32m     23\u001b[0m \u001b[1;31m# u*1: Friction velocity (eq 31)\u001b[0m\u001b[1;33m\u001b[0m\u001b[1;33m\u001b[0m\u001b[1;33m\u001b[0m\u001b[0m\n\u001b[1;32m---> 24\u001b[1;33m \u001b[0mimg_u_star\u001b[0m \u001b[1;33m=\u001b[0m \u001b[0mget_u_star_sp\u001b[0m\u001b[1;33m(\u001b[0m\u001b[0mu_200\u001b[0m\u001b[1;33m,\u001b[0m \u001b[0mimg_zom1\u001b[0m\u001b[1;33m)\u001b[0m\u001b[1;33m\u001b[0m\u001b[1;33m\u001b[0m\u001b[0m\n\u001b[0m\u001b[0;32m     25\u001b[0m \u001b[1;31m# get_stats(img_u_star, predios_agricolas, 30)\u001b[0m\u001b[1;33m\u001b[0m\u001b[1;33m\u001b[0m\u001b[1;33m\u001b[0m\u001b[0m\n\u001b[0;32m     26\u001b[0m \u001b[1;33m\u001b[0m\u001b[0m\n",
      "\u001b[1;31mNameError\u001b[0m: name 'get_u_star_sp' is not defined"
     ]
    }
   ],
   "source": [
    "##### Procesado Inicial #####\n",
    "# 1. Ts_dem\n",
    "img_tsdem = img_tempK.expression('img_ts + tlapse_rate/1000*(dem-Elev_station)',\n",
    "                                 {'img_ts':img_tempK,\n",
    "                                  'tlapse_rate':6.5,\n",
    "                                  'dem': dem,\n",
    "                                  'Elev_station': 3})\n",
    "\n",
    "# 2. Momentum roughness length Z_om\n",
    "# Flat model momemtum roughnes length\n",
    "# img_lai < 0.2778 -> Z_om = 0.005 # represents roughness typical of bare agricultural soils\n",
    "# img_lai >= 0.2778 -> Z_om = 0.018*img_lai\n",
    "img_zom1 = img_lai.where(img_lai.gte(0.2778), img_lai.multiply(0.018)).where(img_lai.lt(0.2778), 0.005).rename('Z_om')\n",
    "\n",
    "# 3. Friction velocity\n",
    "h = 0.15\n",
    "z_om_w = 0.12*h\n",
    "blending_h = 200\n",
    "u_w = filtrado_ws*1000/3600 # dato_ws en Km/hr -> m/s\n",
    "z_x = 2.5  # altura del anemómetro, varía de 2 a 2.80m (relativo a cada estación)\n",
    "u_200 = u_w*math.log(blending_h/z_om_w)/math.log(z_x/z_om_w) # [m/s]\n",
    "\n",
    "# u*1: Friction velocity (eq 31)\n",
    "img_u_star = get_u_star_sp(u_200, img_zom1)\n",
    "# get_stats(img_u_star, predios_agricolas, 30)\n",
    "\n",
    "img_r_ah = get_rah_sp(img_u_star)\n",
    "# get_stats(img_r_ah, predios_agricolas, 30)\n",
    "\n",
    "img_air_dens_p = get_air_dens_sp(dem, air_temp_K=20+273.15) # Para 20°\n",
    "# get_stats(img_air_dens_p, predios_agricolas, 30)\n",
    "\n",
    "img_lambdaLE = img_tempC.expression('( 2.501-0.002361*(Ts_c) )*10**6',{'Ts_c':img_tempC})\n",
    "# Kc = 1.05 # Kc = 0 para pixel caliente \n",
    "# Inst_ETr * Kc * lambda_LE / 3600 # Eq 53\n",
    "\n",
    "Inst_ETr = filtrado_et\n",
    "Kc = 0\n",
    "img_LE = img_lambdaLE.expression('Inst_ETr*Kc*lambda_LE/3600',\n",
    "                             {'Inst_ETr': Inst_ETr, 'Kc':Kc, 'lambda_LE': img_lambdaLE})\n",
    "\n",
    "img_Rn = R_n.select('R_n').clip(predios_agricolas).rename('0_Rn')\n",
    "img_G = img_tempK.expression('(Ts_K - 273.15)*(0.0038 + 0.0074*albedo)*(1-0.98*NDVI**4)',\n",
    "                             {'Ts_K': img_tempK,\n",
    "                              'albedo': img_albedo,\n",
    "                              'NDVI': img_ndvi}).multiply(R_n.select('R_n')).rename('1_G')\n",
    "\n",
    "img_H = img_Rn.subtract(img_G).subtract(img_LE).rename('H')\n",
    "img_H_stats = get_stats(img_H, predios_agricolas, 30)\n",
    "img_H_stats\n",
    "# H = R_n - G - LE "
   ]
  },
  {
   "cell_type": "markdown",
   "id": "3f1af843",
   "metadata": {},
   "source": [
    "## Otro"
   ]
  },
  {
   "cell_type": "code",
   "execution_count": null,
   "id": "27663ca6",
   "metadata": {},
   "outputs": [],
   "source": [
    "# =============================================================\n",
    "# Inputs iniciales\n",
    "# =============================================================\n",
    "\n",
    "index = 0 # Imagen Landsat: 0 1 Enero, 2 Marzo, 3 Junio \n",
    "lai_method = 2  # 0: Savi con l=0.1, 1: Savi con L=0.5, 2: Relación NDVI - IAF \n",
    "\n",
    "# En caso de guardar los archivos\n",
    "save_files = True\n",
    "ruta_base = os.getcwd() # A esta se anexará\n",
    "carpeta_output = 'output2'\n",
    "\n",
    "lista_imgprocesadas_ET = []\n",
    "\n",
    "for index in range(4):\n",
    "\n",
    "    # Selección de datos\n",
    "    img_productos = lista_imgprocesadas[index]['img_productos']\n",
    "    d2 = lista_imgprocesadas[index]['d2']\n",
    "    R_n = lista_imgprocesadas[index]['img_Rn']\n",
    "    fecha = lista_imgprocesadas[index]['fecha']\n",
    "\n",
    "    print(f'Procesando imagen {fecha}')\n",
    "    \n",
    "    # Generar estadísticas y guardar en DataFrame\n",
    "    img_productos_dict = get_stats(img_productos, predios_agricolas, 30)\n",
    "    img_productos_df = pd.DataFrame.from_dict(img_productos_dict, orient='index')\n",
    "\n",
    "    # =============================================================\n",
    "    # Valores de pixel frío y caliente\n",
    "    # Selección de datos mediante el'index'\n",
    "    # =============================================================\n",
    "\n",
    "    # Datos de estación: Velocidad de viento y ET\n",
    "    list_weather_st = [\n",
    "        [1.6, 0.3],\n",
    "        [1.6, 0.69],\n",
    "        [3.2, 0.53],\n",
    "        [1.6, 0.46]\n",
    "    ] # km/h\n",
    "\n",
    "    filtrado_ws, filtrado_et = list_weather_st[index]\n",
    "    \n",
    "    # Pixel frío\n",
    "    list_coords_pixf = [\n",
    "        [-79.78527, -6.598056], # 0 '2022-01-13' n1: 50 n2: 10\n",
    "        [-79.78472, -6.598345], # 1 '2022-01-29' n1: 50 n2: 10\n",
    "        [-79.78445, -6.596984], # 2 '2022-03-10' n1: 50 n2: 5\n",
    "        [-79.778737, -6.604828] # 3 '2022-06-14' n1: 50 n2: 5\n",
    "    ]\n",
    "\n",
    "    pixf_coord = list_coords_pixf[index]\n",
    "    pixf_ee_coord = ee.Geometry.Point(pixf_coord)\n",
    "\n",
    "    # Pixel caliente\n",
    "    pix_c_values = get_pixel_values(pixf_ee_coord, d2, img_productos)\n",
    "\n",
    "    list_coords_pixc = [\n",
    "        [-79.78198, -6.602693],  # 0 '2022-01-13' n1: 40 n2: 97 \n",
    "        [-79.778464, -6.605114], # 1 '2022-01-29' n1: 50 n2: 70\n",
    "        [-79.777924, -6.604045], # 2 '2022-03-10' n1: 3 n2: 80 \n",
    "        [-79.784729, -6.595629]  # 3 '2022-06-14' n1: 10 n2: 80 \n",
    "    ]\n",
    "\n",
    "    pixc_coord = list_coords_pixc[index]\n",
    "    pixc_ee_coord = ee.Geometry.Point(pixc_coord)\n",
    "\n",
    "    pix_h_values = get_pixel_values(pixc_ee_coord, d2, img_productos)\n",
    "\n",
    "    # =============================================================\n",
    "    # Flujo de calor sensible H - Proceso Iterativo\n",
    "    # =============================================================\n",
    "\n",
    "    n_iteraciones = 40 # <-- Establecer cantidad de iteraciones\n",
    "\n",
    "    iteracion_output = parte_iterativa(n_iteraciones, \n",
    "                                       pix_c_values, pix_h_values, \n",
    "                                       filtrado_ws, filtrado_et)\n",
    "\n",
    "    # Resultados del proceso iterativo\n",
    "    dict_pix_f_resultados = iteracion_output['dict_pix_f_resultados']\n",
    "    dict_pix_c_resultados = iteracion_output['dict_pix_c_resultados']\n",
    "    resultados_coef = iteracion_output['list_coef_resultados']\n",
    "    u_200 = iteracion_output['u_200']\n",
    "    list_stability_result = iteracion_output['list_stability_resultados']\n",
    "\n",
    "    # Coeficientes a y b\n",
    "    coefs_a = resultados_coef[0] \n",
    "    coefs_b = resultados_coef[1]\n",
    "    print('\\nCoeficientes:')\n",
    "    print(f'\\ta_coef: {coefs_a[-1]}')\n",
    "    print(f'\\tb_coef: {coefs_b[-1]}')\n",
    "\n",
    "    # ==============================================================\n",
    "    # - Gráfico 1: Pixel frío y caliente durante el proceso iterativo\n",
    "\n",
    "    # Plot Pixel Frío\n",
    "    # get_grafica_iteracion(fecha, dict_pix_f_resultados, 'Pixel Frío', 'blue', n_iteraciones, save_fig=save_files)\n",
    "    # plt.close()\n",
    "\n",
    "    # Plot Pixel Caliente\n",
    "    # get_grafica_iteracion(fecha, dict_pix_c_resultados, 'Pixel Caliente', 'red', n_iteraciones, save_fig=save_files)\n",
    "    # plt.close()\n",
    "\n",
    "    # ==============================================================\n",
    "    # - Gráfico 2: Gráfico 1 combinado\n",
    "\n",
    "    x_values = np.arange(1, n_iteraciones+2+1)\n",
    "\n",
    "    # Desarrollo de gráfica\n",
    "    fig, axs = plt.subplots(3,1, figsize=(10,12), layout='constrained', sharex=True)\n",
    "\n",
    "    title_name = f'{fecha} - Comparativa Pixel Frío y Pixel Caliente'\n",
    "    axs[0].set_title(title_name, fontsize='14')\n",
    "    ylabels = ['Rah', 'Air density', 'dT']\n",
    "\n",
    "    list_variables = ['r_ah', 'air_dens_p', 'dT0']\n",
    "\n",
    "    for n in range(0, 2+1):\n",
    "\n",
    "        variable = list_variables[n]\n",
    "        axs[n].plot(x_values, dict_pix_f_resultados[variable], 'b-', label='Pixel Frío')#, color='blue')\n",
    "        axs[n].plot(x_values, dict_pix_c_resultados[variable], 'r-', label='Pixel Caliente')#, color='red')\n",
    "\n",
    "        axs[n].set(xticks=np.arange(0, n_iteraciones+3, step=2), ylabel=ylabels[n])\n",
    "        axs[n].grid(alpha=0.2)\n",
    "\n",
    "    axs[0].legend(fontsize='12')\n",
    "    axs[2].set_xlabel('N° Iteraciones');\n",
    "\n",
    "    # Guardar\n",
    "    if save_files is True:\n",
    "        nombre_img = f'{fecha}_Comparativa-Pixeles.jpg'\n",
    "        plt.savefig(os.path.join(ruta_base, carpeta_output, nombre_img))\n",
    "\n",
    "    # ==================================================================\n",
    "    # - Gráfico 3: Coeficientes de selección de pixeles frío y caliente\n",
    "\n",
    "    fig, ax = plt.subplots(figsize=(10, 6), layout='constrained')\n",
    "\n",
    "    ax.plot(x_values, coefs_a, label='Coef a', color='blue')\n",
    "    ax.plot(x_values, coefs_b, label='Coef b', color='red')\n",
    "\n",
    "    title_name = f'{fecha} - Coeficientes a y b' \n",
    "    ax.set(title=title_name, xlabel='N° Iteraciones', xticks=np.arange(0, n_iteraciones+2+1, step=2))\n",
    "\n",
    "    texto = f'a: {round(coefs_a[-1], 4)}\\nb: {round(coefs_b[-1], 4)}'\n",
    "    ax.text(0.85, 0.5, s=texto, transform=ax.transAxes, fontsize=12)\n",
    "\n",
    "    ax.legend(fontsize=12, frameon=False, labelspacing=0.2, loc='best')\n",
    "    ax.grid(alpha=0.2)\n",
    "\n",
    "    # Guardar\n",
    "    if save_files is True:\n",
    "        nombre_img = f'{fecha}_Coeficientes.jpg'\n",
    "        plt.savefig(os.path.join(ruta_base, carpeta_output, nombre_img)) #, dpi=400);\n",
    "\n",
    "    # =============================================================\n",
    "    # Balance de energía: LE = Rn - G - H\n",
    "    # =============================================================\n",
    "\n",
    "    # Corrección de H\n",
    "    img_H = get_H_corregido(img_productos, iteracion_output)\n",
    "    img_H_stats = get_stats(img_H, predios_agricolas, 30)\n",
    "\n",
    "    # Componentes de balance de energía\n",
    "    img_Rn = R_n.select('R_n').clip(predios_agricolas)\n",
    "\n",
    "    img_tempK = img_productos.select('Ts_k')\n",
    "    img_G = img_tempK.expression('(Ts_K - 273.15)*(0.0038 + 0.0074*albedo)*(1-0.98*NDVI**4)',\n",
    "                                 {'Ts_K': img_tempK,\n",
    "                                  'albedo': img_productos.select('albedo'),\n",
    "                                  'NDVI': img_productos.select('NDVI')}).multiply(R_n.select('R_n'))\n",
    "\n",
    "    # Balance de Energía\n",
    "    img_LE = img_Rn.expression('Rn - G - H',\n",
    "                               {'Rn': img_Rn,\n",
    "                                'G': img_G,\n",
    "                                'H': img_H})\n",
    "    \n",
    "    img_LE_gt0 = img_LE.updateMask(img_LE.gt(0))\n",
    "    \n",
    "    # Unir los componentes en una sola imagen\n",
    "    img_final = ee.Image([img_Rn, img_G, img_H, img_LE, img_LE_gt0]).rename(['0_Rn', '1_G', '2_H', '3_LE', '3_LE_vis'])\n",
    "    img_final_stats = get_stats(img_final, predios_agricolas, 30)\n",
    "    img_final_stats_df = pd.DataFrame.from_dict(img_final_stats, orient='index', dtype='float') # .round(3)\n",
    "\n",
    "    # =============================================================\n",
    "    # Evapotranspiración del cultivo ETinst (mm/hr y mm/d)\n",
    "    # =============================================================\n",
    "\n",
    "    # ET (mm/hr)\n",
    "    img_lambda = img_tempK.expression('(2.501 - 0.00236*(Ts - 273.15))*10**6', {'Ts':img_tempK}).rename('lambda')\n",
    "    img_ET_inst = img_LE.expression('3600*img_LE/lambda', {'img_LE': img_LE,'lambda': img_lambda}).rename('ET')\n",
    "\n",
    "    # ET (mm/día)\n",
    "    img_ET_inst = img_ET_inst.multiply(24) # mm/hr * 24 hrs/dia = mm/dia\n",
    "\n",
    "    # Generar estadísticas y guardar en dataframe\n",
    "    img_ET_inst_stats = get_stats(img_ET_inst, predios_agricolas, 30)\n",
    "    img_ET_inst_stats_df = pd.DataFrame.from_dict(img_ET_inst_stats, orient='index', dtype='float')#.round(3)\n",
    "\n",
    "    # =============================================================\n",
    "    # Resultados del procesamiento\n",
    "    # =============================================================\n",
    "\n",
    "    # Generar dataframe final\n",
    "    lista_dfs = [\n",
    "        img_productos_df[['Ts_c', 'NDVI', 'LAI', 'albedo']], \n",
    "        img_final_stats_df, \n",
    "        img_ET_inst_stats_df\n",
    "    ]\n",
    "    df_stats = pd.concat(lista_dfs, axis=1)\n",
    "\n",
    "    print('\\nResultados:')\n",
    "    display(df_stats)\n",
    "\n",
    "    # Guardar dataframe final\n",
    "    if save_files is True:\n",
    "        nombre_csv = f'{fecha}_Resultados.csv'\n",
    "        df_stats.to_csv(os.path.join(ruta_base, carpeta_output, nombre_csv))\n",
    "    \n",
    "    # Agregar el resultado al diccionario\n",
    "    lista_imgprocesadas[index]['img_CompBalance'] = img_final\n",
    "    lista_imgprocesadas[index]['img_ETinst'] = img_ET_inst\n",
    "    \n",
    "    lista_imgprocesadas[index]['pix_frio'] = pix_c_values     # c de cold\n",
    "    lista_imgprocesadas[index]['pix_caliente'] = pix_h_values # h de hot\n",
    "    \n",
    "    # Finalmente agregamos cada imagen procesada a una lista\n",
    "    lista_imgprocesadas_ET.append(lista_imgprocesadas[index])"
   ]
  }
 ],
 "metadata": {
  "kernelspec": {
   "display_name": "Python 3 (ipykernel)",
   "language": "python",
   "name": "python3"
  },
  "language_info": {
   "codemirror_mode": {
    "name": "ipython",
    "version": 3
   },
   "file_extension": ".py",
   "mimetype": "text/x-python",
   "name": "python",
   "nbconvert_exporter": "python",
   "pygments_lexer": "ipython3",
   "version": "3.10.13"
  },
  "toc": {
   "base_numbering": 1,
   "nav_menu": {},
   "number_sections": true,
   "sideBar": true,
   "skip_h1_title": false,
   "title_cell": "Table of Contents",
   "title_sidebar": "Contents",
   "toc_cell": false,
   "toc_position": {},
   "toc_section_display": true,
   "toc_window_display": false
  }
 },
 "nbformat": 4,
 "nbformat_minor": 5
}

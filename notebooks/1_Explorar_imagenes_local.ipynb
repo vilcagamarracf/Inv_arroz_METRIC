{
 "cells": [
  {
   "cell_type": "markdown",
   "id": "58477968",
   "metadata": {},
   "source": [
    "# Visualizando imágenes"
   ]
  },
  {
   "cell_type": "markdown",
   "id": "216c8ca4",
   "metadata": {},
   "source": [
    "Libreta para seguir el conjunto de imagenes que vayan saliendo para el área de estudio."
   ]
  },
  {
   "cell_type": "markdown",
   "id": "97effb1a",
   "metadata": {},
   "source": [
    "### Inicio"
   ]
  },
  {
   "cell_type": "code",
   "execution_count": 1,
   "id": "b8771580",
   "metadata": {},
   "outputs": [
    {
     "data": {
      "text/plain": [
       "'C:\\\\Users\\\\usuario\\\\Documents\\\\00-notebooks-2022'"
      ]
     },
     "execution_count": 1,
     "metadata": {},
     "output_type": "execute_result"
    }
   ],
   "source": [
    "import os\n",
    "os.getcwd()"
   ]
  },
  {
   "cell_type": "code",
   "execution_count": 1,
   "id": "79d130a3",
   "metadata": {},
   "outputs": [],
   "source": [
    "# Earth Engine\n",
    "import ee\n",
    "ee.Initialize()\n",
    "\n",
    "# geemap\n",
    "import geemap\n",
    "import geemap.colormaps as cmp # Paletas para visualización de imágenes (cm se confunde con matplotlib)\n",
    "\n",
    "# Otras librerías\n",
    "import pandas as pd\n",
    "from ipywidgets import interact, fixed\n",
    "\n",
    "# Archivos .py con funciones\n",
    "from vis_tools import *"
   ]
  },
  {
   "cell_type": "code",
   "execution_count": 32,
   "id": "f8a10a02",
   "metadata": {},
   "outputs": [
    {
     "data": {
      "text/plain": [
       "<module 'vis_tools' from 'C:\\\\Users\\\\usuario\\\\Documents\\\\00-notebooks-2022\\\\vis_tools.py'>"
      ]
     },
     "execution_count": 32,
     "metadata": {},
     "output_type": "execute_result"
    }
   ],
   "source": [
    "# Por cada cambio se necesita usar importlib.reload\n",
    "import importlib # Para volver a importar el archivo funciones.py posterior a cada cambio\n",
    "import sys\n",
    "importlib.reload(sys.modules['vis_tools'])"
   ]
  },
  {
   "cell_type": "markdown",
   "id": "0ed511d1",
   "metadata": {},
   "source": [
    "### Assets y ROI"
   ]
  },
  {
   "cell_type": "code",
   "execution_count": 2,
   "id": "b73b10d9",
   "metadata": {},
   "outputs": [],
   "source": [
    "# Diccionario de visualización de imágenes Landsat 8 y 9 TOA\n",
    "vis_rgb = {'min': 0.0, 'max': 0.3, 'bands': ['B4', 'B3', 'B2']} "
   ]
  },
  {
   "cell_type": "code",
   "execution_count": 3,
   "id": "4fd9272e",
   "metadata": {},
   "outputs": [],
   "source": [
    "# Assets\n",
    "asset_dept = ee.FeatureCollection('users/CesarVilca/departamentos')\n",
    "asset_prov = ee.FeatureCollection('users/CesarVilca/provincias')\n",
    "asset_dist = ee.FeatureCollection('users/CesarVilca/distritos')\n",
    "\n",
    "# Filtrado\n",
    "deptSelectedName = 'LAMBAYEQUE'\n",
    "provSelectedName = 'FERREÑAFE' # 'FERREÑAFE' 'CHICLAYO'\n",
    "distSelectedName = 'FERREÑAFE' # 'FERREÑAFE' 'CHONGOYAPE'\n",
    "\n",
    "dept_fcol = asset_dept.filterMetadata('DEPARTAMEN', 'equals', deptSelectedName)\n",
    "prov_fcol = asset_prov.filterMetadata('PROVINCIA', 'equals', provSelectedName)\n",
    "dist_fcol = asset_dist.filterMetadata('DISTRITO', 'equals', distSelectedName)\n",
    "\n",
    "# ROI Caja\n",
    "roi = dist_fcol.geometry().bounds()\n",
    "\n",
    "empty = ee.Image().paint(dist_fcol, 2,2)\n",
    "empty2 = ee.Image().paint(roi, 2, 2)"
   ]
  },
  {
   "cell_type": "code",
   "execution_count": 6,
   "id": "803ba483",
   "metadata": {},
   "outputs": [
    {
     "data": {
      "application/vnd.jupyter.widget-view+json": {
       "model_id": "8a72418f6e5e49aeb89f2f97bfe9ea46",
       "version_major": 2,
       "version_minor": 0
      },
      "text/plain": [
       "Map(center=[-6.6205221157277006, -79.79111975903714], controls=(WidgetControl(options=['position', 'transparen…"
      ]
     },
     "metadata": {},
     "output_type": "display_data"
    }
   ],
   "source": [
    "# Visualización\n",
    "Map = geemap.Map(layer_ctrl = True) \n",
    "Map.centerObject(dist_fcol, 9)\n",
    "\n",
    "Map.addLayer(dept_fcol, {'color':'red'}, f'Departamento {deptSelectedName}')\n",
    "Map.addLayer(prov_fcol, {'color':'green'}, f'Provincia {provSelectedName} ')\n",
    "Map.addLayer(dist_fcol, {'color':'blue'}, f'Distrito {distSelectedName}')\n",
    "\n",
    "# Bordes\n",
    "Map.addLayer(empty , {}, 'Distrito Seleccionado')\n",
    "Map.addLayer(empty2, {}, 'Limites')\n",
    "\n",
    "Map"
   ]
  },
  {
   "cell_type": "code",
   "execution_count": 4,
   "id": "ccd02dae",
   "metadata": {},
   "outputs": [
    {
     "data": {
      "text/plain": [
       "ee.featurecollection.FeatureCollection"
      ]
     },
     "execution_count": 4,
     "metadata": {},
     "output_type": "execute_result"
    }
   ],
   "source": [
    "ruta_ferrenafe = r'files/Ferreñafe_areas.shp' # en Local\n",
    "# ruta_ferrenafe = r'/content/Ferreñafe_areas.shp' # en Colab\n",
    "\n",
    "predios_agricolas = geemap.shp_to_ee(ruta_ferrenafe)\n",
    "predios_vis = ee.Image().paint(predios_agricolas, 1, 1) # Para visualización con geemap\n",
    "\n",
    "predios_bound = predios_agricolas.geometry().bounds()\n",
    "predios_bound_vis = ee.Image().paint(predios_bound, 1, 1) # Para visualización con geemap\n",
    "\n",
    "type(predios_agricolas)"
   ]
  },
  {
   "cell_type": "markdown",
   "id": "b40ece91",
   "metadata": {},
   "source": [
    "### Landsat 8 y 9"
   ]
  },
  {
   "cell_type": "code",
   "execution_count": 5,
   "id": "2336e56f",
   "metadata": {},
   "outputs": [],
   "source": [
    "# Filtrado\n",
    "path = 10\n",
    "row = 65 # 64\n",
    "\n",
    "fecha = '2021-12'\n",
    "meses = 6"
   ]
  },
  {
   "cell_type": "code",
   "execution_count": 6,
   "id": "912d0a06",
   "metadata": {
    "scrolled": false
   },
   "outputs": [
    {
     "data": {
      "text/html": [
       "<div>\n",
       "<style scoped>\n",
       "    .dataframe tbody tr th:only-of-type {\n",
       "        vertical-align: middle;\n",
       "    }\n",
       "\n",
       "    .dataframe tbody tr th {\n",
       "        vertical-align: top;\n",
       "    }\n",
       "\n",
       "    .dataframe thead th {\n",
       "        text-align: right;\n",
       "    }\n",
       "</style>\n",
       "<table border=\"1\" class=\"dataframe\">\n",
       "  <thead>\n",
       "    <tr style=\"text-align: right;\">\n",
       "      <th></th>\n",
       "      <th>ID GEE</th>\n",
       "      <th>Fecha Precisa</th>\n",
       "      <th>Fecha Corta</th>\n",
       "      <th>Año</th>\n",
       "      <th>Mes</th>\n",
       "      <th>Día</th>\n",
       "      <th>Día Juliano</th>\n",
       "      <th>CLOUD_COVER</th>\n",
       "      <th>SUN_ELEVATION</th>\n",
       "    </tr>\n",
       "  </thead>\n",
       "  <tbody>\n",
       "    <tr>\n",
       "      <th>0</th>\n",
       "      <td>LANDSAT/LC08/C02/T1/LC08_010065_20211204</td>\n",
       "      <td>2021-12-04 10:28:39.679</td>\n",
       "      <td>2021-12-04</td>\n",
       "      <td>2021</td>\n",
       "      <td>12</td>\n",
       "      <td>4</td>\n",
       "      <td>338</td>\n",
       "      <td>41.76</td>\n",
       "      <td>61.231303</td>\n",
       "    </tr>\n",
       "    <tr>\n",
       "      <th>1</th>\n",
       "      <td>LANDSAT/LC09/C02/T1/LC09_010065_20211212</td>\n",
       "      <td>2021-12-12 10:28:36.901</td>\n",
       "      <td>2021-12-12</td>\n",
       "      <td>2021</td>\n",
       "      <td>12</td>\n",
       "      <td>12</td>\n",
       "      <td>346</td>\n",
       "      <td>46.70</td>\n",
       "      <td>60.112699</td>\n",
       "    </tr>\n",
       "    <tr>\n",
       "      <th>2</th>\n",
       "      <td>LANDSAT/LC08/C02/T1/LC08_010065_20211220</td>\n",
       "      <td>2021-12-20 10:28:37.250</td>\n",
       "      <td>2021-12-20</td>\n",
       "      <td>2021</td>\n",
       "      <td>12</td>\n",
       "      <td>20</td>\n",
       "      <td>354</td>\n",
       "      <td>67.62</td>\n",
       "      <td>59.196546</td>\n",
       "    </tr>\n",
       "    <tr>\n",
       "      <th>3</th>\n",
       "      <td>LANDSAT/LC09/C02/T1/LC09_010065_20211228</td>\n",
       "      <td>2021-12-28 10:28:35.288</td>\n",
       "      <td>2021-12-28</td>\n",
       "      <td>2021</td>\n",
       "      <td>12</td>\n",
       "      <td>28</td>\n",
       "      <td>362</td>\n",
       "      <td>83.58</td>\n",
       "      <td>58.451368</td>\n",
       "    </tr>\n",
       "    <tr>\n",
       "      <th>4</th>\n",
       "      <td>LANDSAT/LC08/C02/T1/LC08_010065_20220105</td>\n",
       "      <td>2022-01-05 10:28:32.585</td>\n",
       "      <td>2022-01-05</td>\n",
       "      <td>2022</td>\n",
       "      <td>1</td>\n",
       "      <td>5</td>\n",
       "      <td>5</td>\n",
       "      <td>42.07</td>\n",
       "      <td>57.964139</td>\n",
       "    </tr>\n",
       "    <tr>\n",
       "      <th>5</th>\n",
       "      <td>LANDSAT/LC09/C02/T1/LC09_010065_20220113</td>\n",
       "      <td>2022-01-13 10:28:31.598</td>\n",
       "      <td>2022-01-13</td>\n",
       "      <td>2022</td>\n",
       "      <td>1</td>\n",
       "      <td>13</td>\n",
       "      <td>13</td>\n",
       "      <td>32.94</td>\n",
       "      <td>57.699672</td>\n",
       "    </tr>\n",
       "    <tr>\n",
       "      <th>6</th>\n",
       "      <td>LANDSAT/LC08/C02/T1/LC08_010065_20220121</td>\n",
       "      <td>2022-01-21 10:28:28.991</td>\n",
       "      <td>2022-01-21</td>\n",
       "      <td>2022</td>\n",
       "      <td>1</td>\n",
       "      <td>21</td>\n",
       "      <td>21</td>\n",
       "      <td>37.22</td>\n",
       "      <td>57.678164</td>\n",
       "    </tr>\n",
       "    <tr>\n",
       "      <th>7</th>\n",
       "      <td>LANDSAT/LC09/C02/T1/LC09_010065_20220129</td>\n",
       "      <td>2022-01-29 10:28:34.396</td>\n",
       "      <td>2022-01-29</td>\n",
       "      <td>2022</td>\n",
       "      <td>1</td>\n",
       "      <td>29</td>\n",
       "      <td>29</td>\n",
       "      <td>21.12</td>\n",
       "      <td>57.843961</td>\n",
       "    </tr>\n",
       "    <tr>\n",
       "      <th>8</th>\n",
       "      <td>LANDSAT/LC08/C02/T1/LC08_010065_20220206</td>\n",
       "      <td>2022-02-06 10:28:25.404</td>\n",
       "      <td>2022-02-06</td>\n",
       "      <td>2022</td>\n",
       "      <td>2</td>\n",
       "      <td>6</td>\n",
       "      <td>37</td>\n",
       "      <td>52.05</td>\n",
       "      <td>58.152624</td>\n",
       "    </tr>\n",
       "    <tr>\n",
       "      <th>9</th>\n",
       "      <td>LANDSAT/LC09/C02/T1/LC09_010065_20220214</td>\n",
       "      <td>2022-02-14 10:28:30.097</td>\n",
       "      <td>2022-02-14</td>\n",
       "      <td>2022</td>\n",
       "      <td>2</td>\n",
       "      <td>14</td>\n",
       "      <td>45</td>\n",
       "      <td>88.04</td>\n",
       "      <td>58.557032</td>\n",
       "    </tr>\n",
       "    <tr>\n",
       "      <th>10</th>\n",
       "      <td>LANDSAT/LC08/C02/T1/LC08_010065_20220222</td>\n",
       "      <td>2022-02-22 10:28:19.582</td>\n",
       "      <td>2022-02-22</td>\n",
       "      <td>2022</td>\n",
       "      <td>2</td>\n",
       "      <td>22</td>\n",
       "      <td>53</td>\n",
       "      <td>38.32</td>\n",
       "      <td>58.952708</td>\n",
       "    </tr>\n",
       "    <tr>\n",
       "      <th>11</th>\n",
       "      <td>LANDSAT/LC09/C02/T1/LC09_010065_20220302</td>\n",
       "      <td>2022-03-02 10:28:18.905</td>\n",
       "      <td>2022-03-02</td>\n",
       "      <td>2022</td>\n",
       "      <td>3</td>\n",
       "      <td>2</td>\n",
       "      <td>61</td>\n",
       "      <td>79.20</td>\n",
       "      <td>59.298935</td>\n",
       "    </tr>\n",
       "    <tr>\n",
       "      <th>12</th>\n",
       "      <td>LANDSAT/LC08/C02/T1/LC08_010065_20220310</td>\n",
       "      <td>2022-03-10 10:28:16.344</td>\n",
       "      <td>2022-03-10</td>\n",
       "      <td>2022</td>\n",
       "      <td>3</td>\n",
       "      <td>10</td>\n",
       "      <td>69</td>\n",
       "      <td>29.20</td>\n",
       "      <td>59.460507</td>\n",
       "    </tr>\n",
       "    <tr>\n",
       "      <th>13</th>\n",
       "      <td>LANDSAT/LC09/C02/T1/LO09_010065_20220318</td>\n",
       "      <td>2022-03-18 10:28:18.136</td>\n",
       "      <td>2022-03-18</td>\n",
       "      <td>2022</td>\n",
       "      <td>3</td>\n",
       "      <td>18</td>\n",
       "      <td>77</td>\n",
       "      <td>24.91</td>\n",
       "      <td>59.452818</td>\n",
       "    </tr>\n",
       "    <tr>\n",
       "      <th>14</th>\n",
       "      <td>LANDSAT/LC08/C02/T1/LC08_010065_20220326</td>\n",
       "      <td>2022-03-26 10:28:05.040</td>\n",
       "      <td>2022-03-26</td>\n",
       "      <td>2022</td>\n",
       "      <td>3</td>\n",
       "      <td>26</td>\n",
       "      <td>85</td>\n",
       "      <td>93.24</td>\n",
       "      <td>59.135712</td>\n",
       "    </tr>\n",
       "    <tr>\n",
       "      <th>15</th>\n",
       "      <td>LANDSAT/LC09/C02/T1/LC09_010065_20220403</td>\n",
       "      <td>2022-04-03 10:28:14.419</td>\n",
       "      <td>2022-04-03</td>\n",
       "      <td>2022</td>\n",
       "      <td>4</td>\n",
       "      <td>3</td>\n",
       "      <td>93</td>\n",
       "      <td>4.83</td>\n",
       "      <td>58.593494</td>\n",
       "    </tr>\n",
       "    <tr>\n",
       "      <th>16</th>\n",
       "      <td>LANDSAT/LC08/C02/T1/LC08_010065_20220411</td>\n",
       "      <td>2022-04-11 10:28:07.262</td>\n",
       "      <td>2022-04-11</td>\n",
       "      <td>2022</td>\n",
       "      <td>4</td>\n",
       "      <td>11</td>\n",
       "      <td>101</td>\n",
       "      <td>76.52</td>\n",
       "      <td>57.728182</td>\n",
       "    </tr>\n",
       "    <tr>\n",
       "      <th>17</th>\n",
       "      <td>LANDSAT/LC09/C02/T1/LC09_010065_20220419</td>\n",
       "      <td>2022-04-19 10:28:04.859</td>\n",
       "      <td>2022-04-19</td>\n",
       "      <td>2022</td>\n",
       "      <td>4</td>\n",
       "      <td>19</td>\n",
       "      <td>109</td>\n",
       "      <td>39.91</td>\n",
       "      <td>56.710050</td>\n",
       "    </tr>\n",
       "    <tr>\n",
       "      <th>18</th>\n",
       "      <td>LANDSAT/LC08/C02/T1/LC08_010065_20220427</td>\n",
       "      <td>2022-04-27 10:28:03.632</td>\n",
       "      <td>2022-04-27</td>\n",
       "      <td>2022</td>\n",
       "      <td>4</td>\n",
       "      <td>27</td>\n",
       "      <td>117</td>\n",
       "      <td>63.67</td>\n",
       "      <td>55.501527</td>\n",
       "    </tr>\n",
       "    <tr>\n",
       "      <th>19</th>\n",
       "      <td>LANDSAT/LC09/C02/T1/LC09_010065_20220505</td>\n",
       "      <td>2022-05-05 10:28:00.205</td>\n",
       "      <td>2022-05-05</td>\n",
       "      <td>2022</td>\n",
       "      <td>5</td>\n",
       "      <td>5</td>\n",
       "      <td>125</td>\n",
       "      <td>42.47</td>\n",
       "      <td>54.184283</td>\n",
       "    </tr>\n",
       "  </tbody>\n",
       "</table>\n",
       "</div>"
      ],
      "text/plain": [
       "                                      ID GEE           Fecha Precisa  \\\n",
       "0   LANDSAT/LC08/C02/T1/LC08_010065_20211204 2021-12-04 10:28:39.679   \n",
       "1   LANDSAT/LC09/C02/T1/LC09_010065_20211212 2021-12-12 10:28:36.901   \n",
       "2   LANDSAT/LC08/C02/T1/LC08_010065_20211220 2021-12-20 10:28:37.250   \n",
       "3   LANDSAT/LC09/C02/T1/LC09_010065_20211228 2021-12-28 10:28:35.288   \n",
       "4   LANDSAT/LC08/C02/T1/LC08_010065_20220105 2022-01-05 10:28:32.585   \n",
       "5   LANDSAT/LC09/C02/T1/LC09_010065_20220113 2022-01-13 10:28:31.598   \n",
       "6   LANDSAT/LC08/C02/T1/LC08_010065_20220121 2022-01-21 10:28:28.991   \n",
       "7   LANDSAT/LC09/C02/T1/LC09_010065_20220129 2022-01-29 10:28:34.396   \n",
       "8   LANDSAT/LC08/C02/T1/LC08_010065_20220206 2022-02-06 10:28:25.404   \n",
       "9   LANDSAT/LC09/C02/T1/LC09_010065_20220214 2022-02-14 10:28:30.097   \n",
       "10  LANDSAT/LC08/C02/T1/LC08_010065_20220222 2022-02-22 10:28:19.582   \n",
       "11  LANDSAT/LC09/C02/T1/LC09_010065_20220302 2022-03-02 10:28:18.905   \n",
       "12  LANDSAT/LC08/C02/T1/LC08_010065_20220310 2022-03-10 10:28:16.344   \n",
       "13  LANDSAT/LC09/C02/T1/LO09_010065_20220318 2022-03-18 10:28:18.136   \n",
       "14  LANDSAT/LC08/C02/T1/LC08_010065_20220326 2022-03-26 10:28:05.040   \n",
       "15  LANDSAT/LC09/C02/T1/LC09_010065_20220403 2022-04-03 10:28:14.419   \n",
       "16  LANDSAT/LC08/C02/T1/LC08_010065_20220411 2022-04-11 10:28:07.262   \n",
       "17  LANDSAT/LC09/C02/T1/LC09_010065_20220419 2022-04-19 10:28:04.859   \n",
       "18  LANDSAT/LC08/C02/T1/LC08_010065_20220427 2022-04-27 10:28:03.632   \n",
       "19  LANDSAT/LC09/C02/T1/LC09_010065_20220505 2022-05-05 10:28:00.205   \n",
       "\n",
       "   Fecha Corta   Año  Mes  Día  Día Juliano  CLOUD_COVER  SUN_ELEVATION  \n",
       "0   2021-12-04  2021   12    4          338        41.76      61.231303  \n",
       "1   2021-12-12  2021   12   12          346        46.70      60.112699  \n",
       "2   2021-12-20  2021   12   20          354        67.62      59.196546  \n",
       "3   2021-12-28  2021   12   28          362        83.58      58.451368  \n",
       "4   2022-01-05  2022    1    5            5        42.07      57.964139  \n",
       "5   2022-01-13  2022    1   13           13        32.94      57.699672  \n",
       "6   2022-01-21  2022    1   21           21        37.22      57.678164  \n",
       "7   2022-01-29  2022    1   29           29        21.12      57.843961  \n",
       "8   2022-02-06  2022    2    6           37        52.05      58.152624  \n",
       "9   2022-02-14  2022    2   14           45        88.04      58.557032  \n",
       "10  2022-02-22  2022    2   22           53        38.32      58.952708  \n",
       "11  2022-03-02  2022    3    2           61        79.20      59.298935  \n",
       "12  2022-03-10  2022    3   10           69        29.20      59.460507  \n",
       "13  2022-03-18  2022    3   18           77        24.91      59.452818  \n",
       "14  2022-03-26  2022    3   26           85        93.24      59.135712  \n",
       "15  2022-04-03  2022    4    3           93         4.83      58.593494  \n",
       "16  2022-04-11  2022    4   11          101        76.52      57.728182  \n",
       "17  2022-04-19  2022    4   19          109        39.91      56.710050  \n",
       "18  2022-04-27  2022    4   27          117        63.67      55.501527  \n",
       "19  2022-05-05  2022    5    5          125        42.47      54.184283  "
      ]
     },
     "execution_count": 6,
     "metadata": {},
     "output_type": "execute_result"
    }
   ],
   "source": [
    "tier = 'T1'\n",
    "snippet_name = f\"LANDSAT/LC08/C02/{tier}\"\n",
    "\n",
    "# Generando L9 raw\n",
    "\n",
    "icol_l9 = (\n",
    "    ee.ImageCollection(f'LANDSAT/LC09/C02/{tier}')\n",
    "    .filterDate(fecha, ee.Date(fecha).advance(meses, 'month'))\n",
    "    .filterMetadata('WRS_PATH', 'equals', path)\n",
    "    .filterMetadata('WRS_ROW', 'equals', row)\n",
    ")\n",
    "\n",
    "reporteL9_raw = generar_reporte(icol_l9).sort_values('Fecha Corta')\n",
    "\n",
    "# Generando L8 raw\n",
    "\n",
    "icol_l8 = (\n",
    "    ee.ImageCollection(f'LANDSAT/LC08/C02/{tier}')\n",
    "    .filterDate(fecha, ee.Date(fecha).advance(meses, 'month'))\n",
    "    .filterMetadata('WRS_PATH', 'equals', path)\n",
    "    .filterMetadata('WRS_ROW', 'equals', row)\n",
    ")\n",
    "\n",
    "reporteL8_raw = generar_reporte(icol_l8)\n",
    "\n",
    "# Concatenar DataFrames\n",
    "df_l8_l9 = pd.concat([reporteL9_raw, reporteL8_raw])\n",
    "\n",
    "# Ordenar fechas\n",
    "df_l8_l9 = df_l8_l9.sort_values('Fecha Corta') # De mayor a menor usar: ,ascending=False\n",
    "\n",
    "df_l8_l9 = df_l8_l9.reset_index(drop=True)\n",
    "df_l8_l9"
   ]
  },
  {
   "cell_type": "code",
   "execution_count": 7,
   "id": "666152da",
   "metadata": {},
   "outputs": [],
   "source": [
    "# Guardar dataframe\n",
    "# df_l8_l9.to_csv('reporte-L8_L9.csv', index=False, encoding='utf-8-sig')"
   ]
  },
  {
   "cell_type": "code",
   "execution_count": 37,
   "id": "52bf490c",
   "metadata": {},
   "outputs": [
    {
     "data": {
      "text/plain": [
       "20"
      ]
     },
     "execution_count": 37,
     "metadata": {},
     "output_type": "execute_result"
    }
   ],
   "source": [
    "# Imagenes totales (Landsat 8 y 9)\n",
    "icol_l9.merge(icol_l8).size().getInfo()"
   ]
  },
  {
   "cell_type": "code",
   "execution_count": 10,
   "id": "9fd6c625",
   "metadata": {},
   "outputs": [],
   "source": [
    "# Exportar csv\n",
    "# df_l8_l9.to_csv('df_l8_l9.csv', index=False, encoding='utf-8-sig')"
   ]
  },
  {
   "cell_type": "code",
   "execution_count": 38,
   "id": "62496eec",
   "metadata": {
    "scrolled": false
   },
   "outputs": [
    {
     "data": {
      "application/vnd.jupyter.widget-view+json": {
       "model_id": "f4942e14ec4a4995ae9c82168d601be5",
       "version_major": 2,
       "version_minor": 0
      },
      "text/plain": [
       "interactive(children=(Dropdown(description='mes', options=(12, 1, 2, 3, 4, 5), value=12), Output()), _dom_clas…"
      ]
     },
     "metadata": {},
     "output_type": "display_data"
    },
    {
     "data": {
      "text/plain": [
       "<function vis_tools.ver_imgs_mensual(mes, df, snippet_name, roi)>"
      ]
     },
     "execution_count": 38,
     "metadata": {},
     "output_type": "execute_result"
    }
   ],
   "source": [
    "df_reporte = df_l8_l9\n",
    "  \n",
    "# Visualizar imágenes por mes\n",
    "mes = df_reporte['Mes'].unique().tolist()\n",
    "interact(ver_imgs_mensual, \n",
    "         mes=mes, \n",
    "         snippet_name =fixed(snippet_name), \n",
    "         df=fixed(df_reporte), \n",
    "         roi=fixed(predios_agricolas));"
   ]
  },
  {
   "cell_type": "markdown",
   "id": "7cc3a40b",
   "metadata": {},
   "source": [
    "### Sentinel-2"
   ]
  },
  {
   "cell_type": "code",
   "execution_count": 8,
   "id": "a1a88187",
   "metadata": {
    "scrolled": false
   },
   "outputs": [
    {
     "data": {
      "text/html": [
       "<div>\n",
       "<style scoped>\n",
       "    .dataframe tbody tr th:only-of-type {\n",
       "        vertical-align: middle;\n",
       "    }\n",
       "\n",
       "    .dataframe tbody tr th {\n",
       "        vertical-align: top;\n",
       "    }\n",
       "\n",
       "    .dataframe thead th {\n",
       "        text-align: right;\n",
       "    }\n",
       "</style>\n",
       "<table border=\"1\" class=\"dataframe\">\n",
       "  <thead>\n",
       "    <tr style=\"text-align: right;\">\n",
       "      <th></th>\n",
       "      <th>ID GEE</th>\n",
       "      <th>Fecha Precisa</th>\n",
       "      <th>Fecha Corta</th>\n",
       "      <th>Año</th>\n",
       "      <th>Mes</th>\n",
       "      <th>Día</th>\n",
       "      <th>Día Juliano</th>\n",
       "      <th>MEAN SOLAR ZENITH ANGLE</th>\n",
       "      <th>CLOUDY PIXEL PERCENTAGE</th>\n",
       "    </tr>\n",
       "  </thead>\n",
       "  <tbody>\n",
       "    <tr>\n",
       "      <th>0</th>\n",
       "      <td>COPERNICUS/S2/20211202T153621_20211202T154056_...</td>\n",
       "      <td>2021-12-02 10:45:07.038</td>\n",
       "      <td>2021-12-02</td>\n",
       "      <td>2021</td>\n",
       "      <td>12</td>\n",
       "      <td>2</td>\n",
       "      <td>336</td>\n",
       "      <td>25.107220</td>\n",
       "      <td>74.247100</td>\n",
       "    </tr>\n",
       "    <tr>\n",
       "      <th>1</th>\n",
       "      <td>COPERNICUS/S2/20211207T153619_20211207T153726_...</td>\n",
       "      <td>2021-12-07 10:45:02.453</td>\n",
       "      <td>2021-12-07</td>\n",
       "      <td>2021</td>\n",
       "      <td>12</td>\n",
       "      <td>7</td>\n",
       "      <td>341</td>\n",
       "      <td>25.872739</td>\n",
       "      <td>27.958400</td>\n",
       "    </tr>\n",
       "    <tr>\n",
       "      <th>2</th>\n",
       "      <td>COPERNICUS/S2/20211212T153621_20211212T154103_...</td>\n",
       "      <td>2021-12-12 10:45:06.775</td>\n",
       "      <td>2021-12-12</td>\n",
       "      <td>2021</td>\n",
       "      <td>12</td>\n",
       "      <td>12</td>\n",
       "      <td>346</td>\n",
       "      <td>26.540952</td>\n",
       "      <td>14.059200</td>\n",
       "    </tr>\n",
       "    <tr>\n",
       "      <th>3</th>\n",
       "      <td>COPERNICUS/S2/20211217T153609_20211217T153742_...</td>\n",
       "      <td>2021-12-17 10:45:01.362</td>\n",
       "      <td>2021-12-17</td>\n",
       "      <td>2021</td>\n",
       "      <td>12</td>\n",
       "      <td>17</td>\n",
       "      <td>351</td>\n",
       "      <td>27.156068</td>\n",
       "      <td>27.977200</td>\n",
       "    </tr>\n",
       "    <tr>\n",
       "      <th>4</th>\n",
       "      <td>COPERNICUS/S2/20211222T153621_20211222T154116_...</td>\n",
       "      <td>2021-12-22 10:45:08.640</td>\n",
       "      <td>2021-12-22</td>\n",
       "      <td>2021</td>\n",
       "      <td>12</td>\n",
       "      <td>22</td>\n",
       "      <td>356</td>\n",
       "      <td>27.636708</td>\n",
       "      <td>3.735200</td>\n",
       "    </tr>\n",
       "    <tr>\n",
       "      <th>5</th>\n",
       "      <td>COPERNICUS/S2/20211227T153619_20211227T153744_...</td>\n",
       "      <td>2021-12-27 10:45:03.076</td>\n",
       "      <td>2021-12-27</td>\n",
       "      <td>2021</td>\n",
       "      <td>12</td>\n",
       "      <td>27</td>\n",
       "      <td>361</td>\n",
       "      <td>28.058020</td>\n",
       "      <td>89.255500</td>\n",
       "    </tr>\n",
       "    <tr>\n",
       "      <th>6</th>\n",
       "      <td>COPERNICUS/S2/20220101T153621_20220101T154106_...</td>\n",
       "      <td>2022-01-01 10:45:09.178</td>\n",
       "      <td>2022-01-01</td>\n",
       "      <td>2022</td>\n",
       "      <td>1</td>\n",
       "      <td>1</td>\n",
       "      <td>1</td>\n",
       "      <td>28.337002</td>\n",
       "      <td>14.693500</td>\n",
       "    </tr>\n",
       "    <tr>\n",
       "      <th>7</th>\n",
       "      <td>COPERNICUS/S2/20220106T153619_20220106T153727_...</td>\n",
       "      <td>2022-01-06 10:45:03.572</td>\n",
       "      <td>2022-01-06</td>\n",
       "      <td>2022</td>\n",
       "      <td>1</td>\n",
       "      <td>6</td>\n",
       "      <td>6</td>\n",
       "      <td>28.547772</td>\n",
       "      <td>5.802700</td>\n",
       "    </tr>\n",
       "    <tr>\n",
       "      <th>8</th>\n",
       "      <td>COPERNICUS/S2/20220111T153621_20220111T154058_...</td>\n",
       "      <td>2022-01-11 10:45:08.654</td>\n",
       "      <td>2022-01-11</td>\n",
       "      <td>2022</td>\n",
       "      <td>1</td>\n",
       "      <td>11</td>\n",
       "      <td>11</td>\n",
       "      <td>28.615786</td>\n",
       "      <td>0.762000</td>\n",
       "    </tr>\n",
       "    <tr>\n",
       "      <th>9</th>\n",
       "      <td>COPERNICUS/S2/20220116T153619_20220116T153730_...</td>\n",
       "      <td>2022-01-16 10:45:03.128</td>\n",
       "      <td>2022-01-16</td>\n",
       "      <td>2022</td>\n",
       "      <td>1</td>\n",
       "      <td>16</td>\n",
       "      <td>16</td>\n",
       "      <td>28.618463</td>\n",
       "      <td>93.014300</td>\n",
       "    </tr>\n",
       "    <tr>\n",
       "      <th>10</th>\n",
       "      <td>COPERNICUS/S2/20220121T153621_20220121T153934_...</td>\n",
       "      <td>2022-01-21 10:45:07.445</td>\n",
       "      <td>2022-01-21</td>\n",
       "      <td>2022</td>\n",
       "      <td>1</td>\n",
       "      <td>21</td>\n",
       "      <td>21</td>\n",
       "      <td>28.493805</td>\n",
       "      <td>40.238500</td>\n",
       "    </tr>\n",
       "    <tr>\n",
       "      <th>11</th>\n",
       "      <td>COPERNICUS/S2/20220126T153619_20220126T153649_...</td>\n",
       "      <td>2022-01-26 10:45:01.518</td>\n",
       "      <td>2022-01-26</td>\n",
       "      <td>2022</td>\n",
       "      <td>1</td>\n",
       "      <td>26</td>\n",
       "      <td>26</td>\n",
       "      <td>28.325681</td>\n",
       "      <td>99.754934</td>\n",
       "    </tr>\n",
       "    <tr>\n",
       "      <th>12</th>\n",
       "      <td>COPERNICUS/S2/20220131T153621_20220131T153814_...</td>\n",
       "      <td>2022-01-31 10:45:07.558</td>\n",
       "      <td>2022-01-31</td>\n",
       "      <td>2022</td>\n",
       "      <td>1</td>\n",
       "      <td>31</td>\n",
       "      <td>31</td>\n",
       "      <td>28.046918</td>\n",
       "      <td>85.258682</td>\n",
       "    </tr>\n",
       "    <tr>\n",
       "      <th>13</th>\n",
       "      <td>COPERNICUS/S2/20220205T153619_20220205T153613_...</td>\n",
       "      <td>2022-02-05 10:45:01.885</td>\n",
       "      <td>2022-02-05</td>\n",
       "      <td>2022</td>\n",
       "      <td>2</td>\n",
       "      <td>5</td>\n",
       "      <td>36</td>\n",
       "      <td>27.761155</td>\n",
       "      <td>71.041476</td>\n",
       "    </tr>\n",
       "    <tr>\n",
       "      <th>14</th>\n",
       "      <td>COPERNICUS/S2/20220215T153609_20220215T153612_...</td>\n",
       "      <td>2022-02-15 10:45:01.233</td>\n",
       "      <td>2022-02-15</td>\n",
       "      <td>2022</td>\n",
       "      <td>2</td>\n",
       "      <td>15</td>\n",
       "      <td>46</td>\n",
       "      <td>27.068043</td>\n",
       "      <td>97.518618</td>\n",
       "    </tr>\n",
       "    <tr>\n",
       "      <th>15</th>\n",
       "      <td>COPERNICUS/S2/20220220T153621_20220220T153621_...</td>\n",
       "      <td>2022-02-20 10:45:09.286</td>\n",
       "      <td>2022-02-20</td>\n",
       "      <td>2022</td>\n",
       "      <td>2</td>\n",
       "      <td>20</td>\n",
       "      <td>51</td>\n",
       "      <td>26.691215</td>\n",
       "      <td>87.372899</td>\n",
       "    </tr>\n",
       "    <tr>\n",
       "      <th>16</th>\n",
       "      <td>COPERNICUS/S2/20220225T153619_20220225T153614_...</td>\n",
       "      <td>2022-02-25 10:45:03.207</td>\n",
       "      <td>2022-02-25</td>\n",
       "      <td>2022</td>\n",
       "      <td>2</td>\n",
       "      <td>25</td>\n",
       "      <td>56</td>\n",
       "      <td>26.407371</td>\n",
       "      <td>37.593269</td>\n",
       "    </tr>\n",
       "    <tr>\n",
       "      <th>17</th>\n",
       "      <td>COPERNICUS/S2/20220302T153621_20220302T153622_...</td>\n",
       "      <td>2022-03-02 10:45:11.024</td>\n",
       "      <td>2022-03-02</td>\n",
       "      <td>2022</td>\n",
       "      <td>3</td>\n",
       "      <td>2</td>\n",
       "      <td>61</td>\n",
       "      <td>26.125321</td>\n",
       "      <td>97.056287</td>\n",
       "    </tr>\n",
       "    <tr>\n",
       "      <th>18</th>\n",
       "      <td>COPERNICUS/S2/20220307T153619_20220307T153616_...</td>\n",
       "      <td>2022-03-07 10:45:05.086</td>\n",
       "      <td>2022-03-07</td>\n",
       "      <td>2022</td>\n",
       "      <td>3</td>\n",
       "      <td>7</td>\n",
       "      <td>66</td>\n",
       "      <td>25.979866</td>\n",
       "      <td>38.763773</td>\n",
       "    </tr>\n",
       "    <tr>\n",
       "      <th>19</th>\n",
       "      <td>COPERNICUS/S2/20220312T153621_20220312T153627_...</td>\n",
       "      <td>2022-03-12 10:45:11.545</td>\n",
       "      <td>2022-03-12</td>\n",
       "      <td>2022</td>\n",
       "      <td>3</td>\n",
       "      <td>12</td>\n",
       "      <td>71</td>\n",
       "      <td>25.880749</td>\n",
       "      <td>23.365135</td>\n",
       "    </tr>\n",
       "    <tr>\n",
       "      <th>20</th>\n",
       "      <td>COPERNICUS/S2/20220322T153621_20220322T153622_...</td>\n",
       "      <td>2022-03-22 10:45:10.593</td>\n",
       "      <td>2022-03-22</td>\n",
       "      <td>2022</td>\n",
       "      <td>3</td>\n",
       "      <td>22</td>\n",
       "      <td>81</td>\n",
       "      <td>26.091916</td>\n",
       "      <td>44.418197</td>\n",
       "    </tr>\n",
       "    <tr>\n",
       "      <th>21</th>\n",
       "      <td>COPERNICUS/S2/20220327T153619_20220327T154047_...</td>\n",
       "      <td>2022-03-27 10:45:04.649</td>\n",
       "      <td>2022-03-27</td>\n",
       "      <td>2022</td>\n",
       "      <td>3</td>\n",
       "      <td>27</td>\n",
       "      <td>86</td>\n",
       "      <td>26.413236</td>\n",
       "      <td>94.794619</td>\n",
       "    </tr>\n",
       "    <tr>\n",
       "      <th>22</th>\n",
       "      <td>COPERNICUS/S2/20220401T153621_20220401T154251_...</td>\n",
       "      <td>2022-04-01 10:45:09.554</td>\n",
       "      <td>2022-04-01</td>\n",
       "      <td>2022</td>\n",
       "      <td>4</td>\n",
       "      <td>1</td>\n",
       "      <td>91</td>\n",
       "      <td>26.822971</td>\n",
       "      <td>85.501179</td>\n",
       "    </tr>\n",
       "    <tr>\n",
       "      <th>23</th>\n",
       "      <td>COPERNICUS/S2/20220406T153619_20220406T154150_...</td>\n",
       "      <td>2022-04-06 10:45:04.341</td>\n",
       "      <td>2022-04-06</td>\n",
       "      <td>2022</td>\n",
       "      <td>4</td>\n",
       "      <td>6</td>\n",
       "      <td>96</td>\n",
       "      <td>27.392617</td>\n",
       "      <td>4.979217</td>\n",
       "    </tr>\n",
       "    <tr>\n",
       "      <th>24</th>\n",
       "      <td>COPERNICUS/S2/20220411T153621_20220411T154026_...</td>\n",
       "      <td>2022-04-11 10:45:09.571</td>\n",
       "      <td>2022-04-11</td>\n",
       "      <td>2022</td>\n",
       "      <td>4</td>\n",
       "      <td>11</td>\n",
       "      <td>101</td>\n",
       "      <td>28.032713</td>\n",
       "      <td>74.864463</td>\n",
       "    </tr>\n",
       "    <tr>\n",
       "      <th>25</th>\n",
       "      <td>COPERNICUS/S2/20220416T153619_20220416T153615_...</td>\n",
       "      <td>2022-04-16 10:45:02.318</td>\n",
       "      <td>2022-04-16</td>\n",
       "      <td>2022</td>\n",
       "      <td>4</td>\n",
       "      <td>16</td>\n",
       "      <td>106</td>\n",
       "      <td>28.804145</td>\n",
       "      <td>17.048835</td>\n",
       "    </tr>\n",
       "    <tr>\n",
       "      <th>26</th>\n",
       "      <td>COPERNICUS/S2/20220421T153621_20220421T153959_...</td>\n",
       "      <td>2022-04-21 10:45:12.042</td>\n",
       "      <td>2022-04-21</td>\n",
       "      <td>2022</td>\n",
       "      <td>4</td>\n",
       "      <td>21</td>\n",
       "      <td>111</td>\n",
       "      <td>29.601750</td>\n",
       "      <td>15.523336</td>\n",
       "    </tr>\n",
       "    <tr>\n",
       "      <th>27</th>\n",
       "      <td>COPERNICUS/S2/20220426T153609_20220426T154437_...</td>\n",
       "      <td>2022-04-26 10:45:00.909</td>\n",
       "      <td>2022-04-26</td>\n",
       "      <td>2022</td>\n",
       "      <td>4</td>\n",
       "      <td>26</td>\n",
       "      <td>116</td>\n",
       "      <td>30.517687</td>\n",
       "      <td>19.154528</td>\n",
       "    </tr>\n",
       "    <tr>\n",
       "      <th>28</th>\n",
       "      <td>COPERNICUS/S2/20220501T153621_20220501T154228_...</td>\n",
       "      <td>2022-05-01 10:45:12.570</td>\n",
       "      <td>2022-05-01</td>\n",
       "      <td>2022</td>\n",
       "      <td>5</td>\n",
       "      <td>1</td>\n",
       "      <td>121</td>\n",
       "      <td>31.396933</td>\n",
       "      <td>41.835946</td>\n",
       "    </tr>\n",
       "    <tr>\n",
       "      <th>29</th>\n",
       "      <td>COPERNICUS/S2/20220506T153619_20220506T153615_...</td>\n",
       "      <td>2022-05-06 10:45:03.505</td>\n",
       "      <td>2022-05-06</td>\n",
       "      <td>2022</td>\n",
       "      <td>5</td>\n",
       "      <td>6</td>\n",
       "      <td>126</td>\n",
       "      <td>32.348364</td>\n",
       "      <td>11.313536</td>\n",
       "    </tr>\n",
       "    <tr>\n",
       "      <th>30</th>\n",
       "      <td>COPERNICUS/S2/20220511T153621_20220511T154121_...</td>\n",
       "      <td>2022-05-11 10:45:11.052</td>\n",
       "      <td>2022-05-11</td>\n",
       "      <td>2022</td>\n",
       "      <td>5</td>\n",
       "      <td>11</td>\n",
       "      <td>131</td>\n",
       "      <td>33.240860</td>\n",
       "      <td>4.515304</td>\n",
       "    </tr>\n",
       "  </tbody>\n",
       "</table>\n",
       "</div>"
      ],
      "text/plain": [
       "                                               ID GEE           Fecha Precisa  \\\n",
       "0   COPERNICUS/S2/20211202T153621_20211202T154056_... 2021-12-02 10:45:07.038   \n",
       "1   COPERNICUS/S2/20211207T153619_20211207T153726_... 2021-12-07 10:45:02.453   \n",
       "2   COPERNICUS/S2/20211212T153621_20211212T154103_... 2021-12-12 10:45:06.775   \n",
       "3   COPERNICUS/S2/20211217T153609_20211217T153742_... 2021-12-17 10:45:01.362   \n",
       "4   COPERNICUS/S2/20211222T153621_20211222T154116_... 2021-12-22 10:45:08.640   \n",
       "5   COPERNICUS/S2/20211227T153619_20211227T153744_... 2021-12-27 10:45:03.076   \n",
       "6   COPERNICUS/S2/20220101T153621_20220101T154106_... 2022-01-01 10:45:09.178   \n",
       "7   COPERNICUS/S2/20220106T153619_20220106T153727_... 2022-01-06 10:45:03.572   \n",
       "8   COPERNICUS/S2/20220111T153621_20220111T154058_... 2022-01-11 10:45:08.654   \n",
       "9   COPERNICUS/S2/20220116T153619_20220116T153730_... 2022-01-16 10:45:03.128   \n",
       "10  COPERNICUS/S2/20220121T153621_20220121T153934_... 2022-01-21 10:45:07.445   \n",
       "11  COPERNICUS/S2/20220126T153619_20220126T153649_... 2022-01-26 10:45:01.518   \n",
       "12  COPERNICUS/S2/20220131T153621_20220131T153814_... 2022-01-31 10:45:07.558   \n",
       "13  COPERNICUS/S2/20220205T153619_20220205T153613_... 2022-02-05 10:45:01.885   \n",
       "14  COPERNICUS/S2/20220215T153609_20220215T153612_... 2022-02-15 10:45:01.233   \n",
       "15  COPERNICUS/S2/20220220T153621_20220220T153621_... 2022-02-20 10:45:09.286   \n",
       "16  COPERNICUS/S2/20220225T153619_20220225T153614_... 2022-02-25 10:45:03.207   \n",
       "17  COPERNICUS/S2/20220302T153621_20220302T153622_... 2022-03-02 10:45:11.024   \n",
       "18  COPERNICUS/S2/20220307T153619_20220307T153616_... 2022-03-07 10:45:05.086   \n",
       "19  COPERNICUS/S2/20220312T153621_20220312T153627_... 2022-03-12 10:45:11.545   \n",
       "20  COPERNICUS/S2/20220322T153621_20220322T153622_... 2022-03-22 10:45:10.593   \n",
       "21  COPERNICUS/S2/20220327T153619_20220327T154047_... 2022-03-27 10:45:04.649   \n",
       "22  COPERNICUS/S2/20220401T153621_20220401T154251_... 2022-04-01 10:45:09.554   \n",
       "23  COPERNICUS/S2/20220406T153619_20220406T154150_... 2022-04-06 10:45:04.341   \n",
       "24  COPERNICUS/S2/20220411T153621_20220411T154026_... 2022-04-11 10:45:09.571   \n",
       "25  COPERNICUS/S2/20220416T153619_20220416T153615_... 2022-04-16 10:45:02.318   \n",
       "26  COPERNICUS/S2/20220421T153621_20220421T153959_... 2022-04-21 10:45:12.042   \n",
       "27  COPERNICUS/S2/20220426T153609_20220426T154437_... 2022-04-26 10:45:00.909   \n",
       "28  COPERNICUS/S2/20220501T153621_20220501T154228_... 2022-05-01 10:45:12.570   \n",
       "29  COPERNICUS/S2/20220506T153619_20220506T153615_... 2022-05-06 10:45:03.505   \n",
       "30  COPERNICUS/S2/20220511T153621_20220511T154121_... 2022-05-11 10:45:11.052   \n",
       "\n",
       "   Fecha Corta   Año  Mes  Día  Día Juliano  MEAN SOLAR ZENITH ANGLE  \\\n",
       "0   2021-12-02  2021   12    2          336                25.107220   \n",
       "1   2021-12-07  2021   12    7          341                25.872739   \n",
       "2   2021-12-12  2021   12   12          346                26.540952   \n",
       "3   2021-12-17  2021   12   17          351                27.156068   \n",
       "4   2021-12-22  2021   12   22          356                27.636708   \n",
       "5   2021-12-27  2021   12   27          361                28.058020   \n",
       "6   2022-01-01  2022    1    1            1                28.337002   \n",
       "7   2022-01-06  2022    1    6            6                28.547772   \n",
       "8   2022-01-11  2022    1   11           11                28.615786   \n",
       "9   2022-01-16  2022    1   16           16                28.618463   \n",
       "10  2022-01-21  2022    1   21           21                28.493805   \n",
       "11  2022-01-26  2022    1   26           26                28.325681   \n",
       "12  2022-01-31  2022    1   31           31                28.046918   \n",
       "13  2022-02-05  2022    2    5           36                27.761155   \n",
       "14  2022-02-15  2022    2   15           46                27.068043   \n",
       "15  2022-02-20  2022    2   20           51                26.691215   \n",
       "16  2022-02-25  2022    2   25           56                26.407371   \n",
       "17  2022-03-02  2022    3    2           61                26.125321   \n",
       "18  2022-03-07  2022    3    7           66                25.979866   \n",
       "19  2022-03-12  2022    3   12           71                25.880749   \n",
       "20  2022-03-22  2022    3   22           81                26.091916   \n",
       "21  2022-03-27  2022    3   27           86                26.413236   \n",
       "22  2022-04-01  2022    4    1           91                26.822971   \n",
       "23  2022-04-06  2022    4    6           96                27.392617   \n",
       "24  2022-04-11  2022    4   11          101                28.032713   \n",
       "25  2022-04-16  2022    4   16          106                28.804145   \n",
       "26  2022-04-21  2022    4   21          111                29.601750   \n",
       "27  2022-04-26  2022    4   26          116                30.517687   \n",
       "28  2022-05-01  2022    5    1          121                31.396933   \n",
       "29  2022-05-06  2022    5    6          126                32.348364   \n",
       "30  2022-05-11  2022    5   11          131                33.240860   \n",
       "\n",
       "    CLOUDY PIXEL PERCENTAGE  \n",
       "0                 74.247100  \n",
       "1                 27.958400  \n",
       "2                 14.059200  \n",
       "3                 27.977200  \n",
       "4                  3.735200  \n",
       "5                 89.255500  \n",
       "6                 14.693500  \n",
       "7                  5.802700  \n",
       "8                  0.762000  \n",
       "9                 93.014300  \n",
       "10                40.238500  \n",
       "11                99.754934  \n",
       "12                85.258682  \n",
       "13                71.041476  \n",
       "14                97.518618  \n",
       "15                87.372899  \n",
       "16                37.593269  \n",
       "17                97.056287  \n",
       "18                38.763773  \n",
       "19                23.365135  \n",
       "20                44.418197  \n",
       "21                94.794619  \n",
       "22                85.501179  \n",
       "23                 4.979217  \n",
       "24                74.864463  \n",
       "25                17.048835  \n",
       "26                15.523336  \n",
       "27                19.154528  \n",
       "28                41.835946  \n",
       "29                11.313536  \n",
       "30                 4.515304  "
      ]
     },
     "execution_count": 8,
     "metadata": {},
     "output_type": "execute_result"
    }
   ],
   "source": [
    "# Filtrado Sentinel-2\n",
    "snippet_name_s2 = 'COPERNICUS/S2'\n",
    "# snippet_name_s2 = 'COPERNICUS/S2_SR'\n",
    "\n",
    "icol_s2_sr = (\n",
    "    ee.ImageCollection(snippet_name_s2)\n",
    "    .filterDate(fecha, ee.Date(fecha).advance(meses, 'month'))\n",
    "    .filterBounds(predios_agricolas)\n",
    ")\n",
    "\n",
    "reporteS2 = generar_reporte(icol_s2_sr)\n",
    "reporteS2"
   ]
  },
  {
   "cell_type": "code",
   "execution_count": 9,
   "id": "830ecd72",
   "metadata": {},
   "outputs": [],
   "source": [
    "# Exportar .csv\n",
    "# reporteS2.to_csv('reporte-S2.csv', index=False, encoding='utf-8-sig')"
   ]
  },
  {
   "cell_type": "code",
   "execution_count": 29,
   "id": "05c73cbf",
   "metadata": {
    "scrolled": false
   },
   "outputs": [
    {
     "data": {
      "application/vnd.jupyter.widget-view+json": {
       "model_id": "9362ed5f90594823b6b3e36ed3122315",
       "version_major": 2,
       "version_minor": 0
      },
      "text/plain": [
       "interactive(children=(Dropdown(description='mes', options=(12, 1, 2, 3, 4, 5), value=12), Output()), _dom_clas…"
      ]
     },
     "metadata": {},
     "output_type": "display_data"
    }
   ],
   "source": [
    "df_reporte = reporteS2\n",
    "\n",
    "# Ver imágenes por mes\n",
    "mes = df_reporte['Mes'].unique().tolist()\n",
    "interact(ver_imgs_mensual, \n",
    "         mes=mes, \n",
    "         snippet_name =fixed(snippet_name_s2), \n",
    "         df=fixed(df_reporte), \n",
    "         roi=fixed(predios_agricolas));"
   ]
  },
  {
   "cell_type": "markdown",
   "id": "82c5c158",
   "metadata": {},
   "source": [
    "### Histórico de imágenes Landsat y Sentinel-2"
   ]
  },
  {
   "cell_type": "markdown",
   "id": "be59adf6",
   "metadata": {},
   "source": [
    "**Gráficas interactivas con plotly**\n",
    "\n",
    "Referencias:\n",
    "- [Python Figure Reference: layout](https://plotly.com/python/reference/layout/)"
   ]
  },
  {
   "cell_type": "code",
   "execution_count": 10,
   "id": "47780147",
   "metadata": {},
   "outputs": [],
   "source": [
    "import plotly.graph_objects as go"
   ]
  },
  {
   "cell_type": "code",
   "execution_count": 51,
   "id": "4f63fa53",
   "metadata": {
    "scrolled": false
   },
   "outputs": [
    {
     "data": {
      "application/vnd.plotly.v1+json": {
       "config": {
        "plotlyServerURL": "https://plot.ly"
       },
       "data": [
        {
         "hovertemplate": "%{y}%",
         "line": {
          "width": 2
         },
         "marker": {
          "color": "rgba(0, 0, 0, 0.7)"
         },
         "mode": "lines+markers",
         "name": "LC08/C02/T1 ",
         "type": "scatter",
         "x": [
          "2021-12-04T10:28:39.679000",
          "2021-12-20T10:28:37.250000",
          "2022-01-05T10:28:32.585000",
          "2022-01-21T10:28:28.991000",
          "2022-02-06T10:28:25.404000",
          "2022-02-22T10:28:19.582000",
          "2022-03-10T10:28:16.344000",
          "2022-03-26T10:28:05.040000",
          "2022-04-11T10:28:07.262000",
          "2022-04-27T10:28:03.632000"
         ],
         "xhoverformat": "%d-%m-%Y",
         "y": [
          41.76,
          67.62,
          42.07,
          37.22,
          52.05,
          38.32,
          29.2,
          93.24,
          76.52,
          63.67
         ]
        },
        {
         "hovertemplate": "%{y:.2f}%",
         "line": {
          "dash": "dot",
          "width": 2
         },
         "marker": {
          "color": "rgba(0, 0, 0, 0.7)"
         },
         "mode": "lines+markers",
         "name": "Sentinel-2",
         "type": "scatter",
         "x": [
          "2021-12-02T10:45:07.038000",
          "2021-12-07T10:45:02.453000",
          "2021-12-12T10:45:06.775000",
          "2021-12-17T10:45:01.362000",
          "2021-12-22T10:45:08.640000",
          "2021-12-27T10:45:03.076000",
          "2022-01-01T10:45:09.178000",
          "2022-01-06T10:45:03.572000",
          "2022-01-11T10:45:08.654000",
          "2022-01-16T10:45:03.128000",
          "2022-01-21T10:45:07.445000",
          "2022-01-26T10:45:01.518000",
          "2022-01-31T10:45:07.558000",
          "2022-02-05T10:45:01.885000",
          "2022-02-15T10:45:01.233000",
          "2022-02-20T10:45:09.286000",
          "2022-02-25T10:45:03.207000",
          "2022-03-02T10:45:11.024000",
          "2022-03-07T10:45:05.086000",
          "2022-03-12T10:45:11.545000",
          "2022-03-22T10:45:10.593000",
          "2022-03-27T10:45:04.649000",
          "2022-04-01T10:45:09.554000",
          "2022-04-06T10:45:04.341000",
          "2022-04-11T10:45:09.571000",
          "2022-04-16T10:45:02.318000",
          "2022-04-21T10:45:12.042000",
          "2022-04-26T10:45:00.909000",
          "2022-05-01T10:45:12.570000",
          "2022-05-06T10:45:03.505000",
          "2022-05-11T10:45:11.052000"
         ],
         "xhoverformat": "%d-%m-%Y",
         "y": [
          74.2471,
          27.9584,
          14.0592,
          27.9772,
          3.7352,
          89.2555,
          14.6935,
          5.8027,
          0.762,
          93.0143,
          40.2385,
          99.7549344560901,
          85.2586819552689,
          71.0414763056526,
          97.5186180536893,
          87.3728985637075,
          37.5932694317537,
          97.0562871390606,
          38.7637731792529,
          23.3651348203888,
          44.418197019917,
          94.7946191286691,
          85.5011794917734,
          4.97921705634686,
          74.8644629579862,
          17.0488345681683,
          15.5233360207829,
          19.1545283525934,
          41.8359461315656,
          11.3135357878706,
          4.51530353250321
         ]
        },
        {
         "hovertemplate": "%{y}%",
         "line": {
          "width": 2
         },
         "marker": {
          "color": "blue",
          "size": 7
         },
         "mode": "lines+markers",
         "name": "LC09/C02/T1",
         "type": "scatter",
         "x": [
          "2021-12-12T10:28:36.901000",
          "2021-12-28T10:28:35.288000",
          "2022-01-13T10:28:31.598000",
          "2022-01-29T10:28:34.396000",
          "2022-02-14T10:28:30.097000",
          "2022-03-02T10:28:18.905000",
          "2022-03-18T10:28:18.136000",
          "2022-04-03T10:28:14.419000",
          "2022-04-19T10:28:04.859000",
          "2022-05-05T10:28:00.205000"
         ],
         "xhoverformat": "%d-%m-%Y",
         "y": [
          46.7,
          83.58,
          32.94,
          21.12,
          88.04,
          79.2,
          24.91,
          4.83,
          39.91,
          42.47
         ]
        }
       ],
       "layout": {
        "font": {
         "family": "sans-serif"
        },
        "height": 400,
        "hovermode": "x unified",
        "legend": {
         "orientation": "h",
         "x": 0.27,
         "y": -0.1
        },
        "margin": {
         "b": 25,
         "l": 0,
         "r": 0,
         "t": 75
        },
        "plot_bgcolor": "white",
        "template": {
         "data": {
          "bar": [
           {
            "error_x": {
             "color": "#2a3f5f"
            },
            "error_y": {
             "color": "#2a3f5f"
            },
            "marker": {
             "line": {
              "color": "#E5ECF6",
              "width": 0.5
             },
             "pattern": {
              "fillmode": "overlay",
              "size": 10,
              "solidity": 0.2
             }
            },
            "type": "bar"
           }
          ],
          "barpolar": [
           {
            "marker": {
             "line": {
              "color": "#E5ECF6",
              "width": 0.5
             },
             "pattern": {
              "fillmode": "overlay",
              "size": 10,
              "solidity": 0.2
             }
            },
            "type": "barpolar"
           }
          ],
          "carpet": [
           {
            "aaxis": {
             "endlinecolor": "#2a3f5f",
             "gridcolor": "white",
             "linecolor": "white",
             "minorgridcolor": "white",
             "startlinecolor": "#2a3f5f"
            },
            "baxis": {
             "endlinecolor": "#2a3f5f",
             "gridcolor": "white",
             "linecolor": "white",
             "minorgridcolor": "white",
             "startlinecolor": "#2a3f5f"
            },
            "type": "carpet"
           }
          ],
          "choropleth": [
           {
            "colorbar": {
             "outlinewidth": 0,
             "ticks": ""
            },
            "type": "choropleth"
           }
          ],
          "contour": [
           {
            "colorbar": {
             "outlinewidth": 0,
             "ticks": ""
            },
            "colorscale": [
             [
              0,
              "#0d0887"
             ],
             [
              0.1111111111111111,
              "#46039f"
             ],
             [
              0.2222222222222222,
              "#7201a8"
             ],
             [
              0.3333333333333333,
              "#9c179e"
             ],
             [
              0.4444444444444444,
              "#bd3786"
             ],
             [
              0.5555555555555556,
              "#d8576b"
             ],
             [
              0.6666666666666666,
              "#ed7953"
             ],
             [
              0.7777777777777778,
              "#fb9f3a"
             ],
             [
              0.8888888888888888,
              "#fdca26"
             ],
             [
              1,
              "#f0f921"
             ]
            ],
            "type": "contour"
           }
          ],
          "contourcarpet": [
           {
            "colorbar": {
             "outlinewidth": 0,
             "ticks": ""
            },
            "type": "contourcarpet"
           }
          ],
          "heatmap": [
           {
            "colorbar": {
             "outlinewidth": 0,
             "ticks": ""
            },
            "colorscale": [
             [
              0,
              "#0d0887"
             ],
             [
              0.1111111111111111,
              "#46039f"
             ],
             [
              0.2222222222222222,
              "#7201a8"
             ],
             [
              0.3333333333333333,
              "#9c179e"
             ],
             [
              0.4444444444444444,
              "#bd3786"
             ],
             [
              0.5555555555555556,
              "#d8576b"
             ],
             [
              0.6666666666666666,
              "#ed7953"
             ],
             [
              0.7777777777777778,
              "#fb9f3a"
             ],
             [
              0.8888888888888888,
              "#fdca26"
             ],
             [
              1,
              "#f0f921"
             ]
            ],
            "type": "heatmap"
           }
          ],
          "heatmapgl": [
           {
            "colorbar": {
             "outlinewidth": 0,
             "ticks": ""
            },
            "colorscale": [
             [
              0,
              "#0d0887"
             ],
             [
              0.1111111111111111,
              "#46039f"
             ],
             [
              0.2222222222222222,
              "#7201a8"
             ],
             [
              0.3333333333333333,
              "#9c179e"
             ],
             [
              0.4444444444444444,
              "#bd3786"
             ],
             [
              0.5555555555555556,
              "#d8576b"
             ],
             [
              0.6666666666666666,
              "#ed7953"
             ],
             [
              0.7777777777777778,
              "#fb9f3a"
             ],
             [
              0.8888888888888888,
              "#fdca26"
             ],
             [
              1,
              "#f0f921"
             ]
            ],
            "type": "heatmapgl"
           }
          ],
          "histogram": [
           {
            "marker": {
             "pattern": {
              "fillmode": "overlay",
              "size": 10,
              "solidity": 0.2
             }
            },
            "type": "histogram"
           }
          ],
          "histogram2d": [
           {
            "colorbar": {
             "outlinewidth": 0,
             "ticks": ""
            },
            "colorscale": [
             [
              0,
              "#0d0887"
             ],
             [
              0.1111111111111111,
              "#46039f"
             ],
             [
              0.2222222222222222,
              "#7201a8"
             ],
             [
              0.3333333333333333,
              "#9c179e"
             ],
             [
              0.4444444444444444,
              "#bd3786"
             ],
             [
              0.5555555555555556,
              "#d8576b"
             ],
             [
              0.6666666666666666,
              "#ed7953"
             ],
             [
              0.7777777777777778,
              "#fb9f3a"
             ],
             [
              0.8888888888888888,
              "#fdca26"
             ],
             [
              1,
              "#f0f921"
             ]
            ],
            "type": "histogram2d"
           }
          ],
          "histogram2dcontour": [
           {
            "colorbar": {
             "outlinewidth": 0,
             "ticks": ""
            },
            "colorscale": [
             [
              0,
              "#0d0887"
             ],
             [
              0.1111111111111111,
              "#46039f"
             ],
             [
              0.2222222222222222,
              "#7201a8"
             ],
             [
              0.3333333333333333,
              "#9c179e"
             ],
             [
              0.4444444444444444,
              "#bd3786"
             ],
             [
              0.5555555555555556,
              "#d8576b"
             ],
             [
              0.6666666666666666,
              "#ed7953"
             ],
             [
              0.7777777777777778,
              "#fb9f3a"
             ],
             [
              0.8888888888888888,
              "#fdca26"
             ],
             [
              1,
              "#f0f921"
             ]
            ],
            "type": "histogram2dcontour"
           }
          ],
          "mesh3d": [
           {
            "colorbar": {
             "outlinewidth": 0,
             "ticks": ""
            },
            "type": "mesh3d"
           }
          ],
          "parcoords": [
           {
            "line": {
             "colorbar": {
              "outlinewidth": 0,
              "ticks": ""
             }
            },
            "type": "parcoords"
           }
          ],
          "pie": [
           {
            "automargin": true,
            "type": "pie"
           }
          ],
          "scatter": [
           {
            "marker": {
             "colorbar": {
              "outlinewidth": 0,
              "ticks": ""
             }
            },
            "type": "scatter"
           }
          ],
          "scatter3d": [
           {
            "line": {
             "colorbar": {
              "outlinewidth": 0,
              "ticks": ""
             }
            },
            "marker": {
             "colorbar": {
              "outlinewidth": 0,
              "ticks": ""
             }
            },
            "type": "scatter3d"
           }
          ],
          "scattercarpet": [
           {
            "marker": {
             "colorbar": {
              "outlinewidth": 0,
              "ticks": ""
             }
            },
            "type": "scattercarpet"
           }
          ],
          "scattergeo": [
           {
            "marker": {
             "colorbar": {
              "outlinewidth": 0,
              "ticks": ""
             }
            },
            "type": "scattergeo"
           }
          ],
          "scattergl": [
           {
            "marker": {
             "colorbar": {
              "outlinewidth": 0,
              "ticks": ""
             }
            },
            "type": "scattergl"
           }
          ],
          "scattermapbox": [
           {
            "marker": {
             "colorbar": {
              "outlinewidth": 0,
              "ticks": ""
             }
            },
            "type": "scattermapbox"
           }
          ],
          "scatterpolar": [
           {
            "marker": {
             "colorbar": {
              "outlinewidth": 0,
              "ticks": ""
             }
            },
            "type": "scatterpolar"
           }
          ],
          "scatterpolargl": [
           {
            "marker": {
             "colorbar": {
              "outlinewidth": 0,
              "ticks": ""
             }
            },
            "type": "scatterpolargl"
           }
          ],
          "scatterternary": [
           {
            "marker": {
             "colorbar": {
              "outlinewidth": 0,
              "ticks": ""
             }
            },
            "type": "scatterternary"
           }
          ],
          "surface": [
           {
            "colorbar": {
             "outlinewidth": 0,
             "ticks": ""
            },
            "colorscale": [
             [
              0,
              "#0d0887"
             ],
             [
              0.1111111111111111,
              "#46039f"
             ],
             [
              0.2222222222222222,
              "#7201a8"
             ],
             [
              0.3333333333333333,
              "#9c179e"
             ],
             [
              0.4444444444444444,
              "#bd3786"
             ],
             [
              0.5555555555555556,
              "#d8576b"
             ],
             [
              0.6666666666666666,
              "#ed7953"
             ],
             [
              0.7777777777777778,
              "#fb9f3a"
             ],
             [
              0.8888888888888888,
              "#fdca26"
             ],
             [
              1,
              "#f0f921"
             ]
            ],
            "type": "surface"
           }
          ],
          "table": [
           {
            "cells": {
             "fill": {
              "color": "#EBF0F8"
             },
             "line": {
              "color": "white"
             }
            },
            "header": {
             "fill": {
              "color": "#C8D4E3"
             },
             "line": {
              "color": "white"
             }
            },
            "type": "table"
           }
          ]
         },
         "layout": {
          "annotationdefaults": {
           "arrowcolor": "#2a3f5f",
           "arrowhead": 0,
           "arrowwidth": 1
          },
          "autotypenumbers": "strict",
          "coloraxis": {
           "colorbar": {
            "outlinewidth": 0,
            "ticks": ""
           }
          },
          "colorscale": {
           "diverging": [
            [
             0,
             "#8e0152"
            ],
            [
             0.1,
             "#c51b7d"
            ],
            [
             0.2,
             "#de77ae"
            ],
            [
             0.3,
             "#f1b6da"
            ],
            [
             0.4,
             "#fde0ef"
            ],
            [
             0.5,
             "#f7f7f7"
            ],
            [
             0.6,
             "#e6f5d0"
            ],
            [
             0.7,
             "#b8e186"
            ],
            [
             0.8,
             "#7fbc41"
            ],
            [
             0.9,
             "#4d9221"
            ],
            [
             1,
             "#276419"
            ]
           ],
           "sequential": [
            [
             0,
             "#0d0887"
            ],
            [
             0.1111111111111111,
             "#46039f"
            ],
            [
             0.2222222222222222,
             "#7201a8"
            ],
            [
             0.3333333333333333,
             "#9c179e"
            ],
            [
             0.4444444444444444,
             "#bd3786"
            ],
            [
             0.5555555555555556,
             "#d8576b"
            ],
            [
             0.6666666666666666,
             "#ed7953"
            ],
            [
             0.7777777777777778,
             "#fb9f3a"
            ],
            [
             0.8888888888888888,
             "#fdca26"
            ],
            [
             1,
             "#f0f921"
            ]
           ],
           "sequentialminus": [
            [
             0,
             "#0d0887"
            ],
            [
             0.1111111111111111,
             "#46039f"
            ],
            [
             0.2222222222222222,
             "#7201a8"
            ],
            [
             0.3333333333333333,
             "#9c179e"
            ],
            [
             0.4444444444444444,
             "#bd3786"
            ],
            [
             0.5555555555555556,
             "#d8576b"
            ],
            [
             0.6666666666666666,
             "#ed7953"
            ],
            [
             0.7777777777777778,
             "#fb9f3a"
            ],
            [
             0.8888888888888888,
             "#fdca26"
            ],
            [
             1,
             "#f0f921"
            ]
           ]
          },
          "colorway": [
           "#636efa",
           "#EF553B",
           "#00cc96",
           "#ab63fa",
           "#FFA15A",
           "#19d3f3",
           "#FF6692",
           "#B6E880",
           "#FF97FF",
           "#FECB52"
          ],
          "font": {
           "color": "#2a3f5f"
          },
          "geo": {
           "bgcolor": "white",
           "lakecolor": "white",
           "landcolor": "#E5ECF6",
           "showlakes": true,
           "showland": true,
           "subunitcolor": "white"
          },
          "hoverlabel": {
           "align": "left"
          },
          "hovermode": "closest",
          "mapbox": {
           "style": "light"
          },
          "paper_bgcolor": "white",
          "plot_bgcolor": "#E5ECF6",
          "polar": {
           "angularaxis": {
            "gridcolor": "white",
            "linecolor": "white",
            "ticks": ""
           },
           "bgcolor": "#E5ECF6",
           "radialaxis": {
            "gridcolor": "white",
            "linecolor": "white",
            "ticks": ""
           }
          },
          "scene": {
           "xaxis": {
            "backgroundcolor": "#E5ECF6",
            "gridcolor": "white",
            "gridwidth": 2,
            "linecolor": "white",
            "showbackground": true,
            "ticks": "",
            "zerolinecolor": "white"
           },
           "yaxis": {
            "backgroundcolor": "#E5ECF6",
            "gridcolor": "white",
            "gridwidth": 2,
            "linecolor": "white",
            "showbackground": true,
            "ticks": "",
            "zerolinecolor": "white"
           },
           "zaxis": {
            "backgroundcolor": "#E5ECF6",
            "gridcolor": "white",
            "gridwidth": 2,
            "linecolor": "white",
            "showbackground": true,
            "ticks": "",
            "zerolinecolor": "white"
           }
          },
          "shapedefaults": {
           "line": {
            "color": "#2a3f5f"
           }
          },
          "ternary": {
           "aaxis": {
            "gridcolor": "white",
            "linecolor": "white",
            "ticks": ""
           },
           "baxis": {
            "gridcolor": "white",
            "linecolor": "white",
            "ticks": ""
           },
           "bgcolor": "#E5ECF6",
           "caxis": {
            "gridcolor": "white",
            "linecolor": "white",
            "ticks": ""
           }
          },
          "title": {
           "x": 0.05
          },
          "xaxis": {
           "automargin": true,
           "gridcolor": "white",
           "linecolor": "white",
           "ticks": "",
           "title": {
            "standoff": 15
           },
           "zerolinecolor": "white",
           "zerolinewidth": 2
          },
          "yaxis": {
           "automargin": true,
           "gridcolor": "white",
           "linecolor": "white",
           "ticks": "",
           "title": {
            "standoff": 15
           },
           "zerolinecolor": "white",
           "zerolinewidth": 2
          }
         }
        },
        "title": {
         "text": "Imágenes LC09/C02/T1_TOA y LC08/C02/T1"
        },
        "width": 800,
        "xaxis": {
         "dtick": "M1",
         "gridcolor": "#7f7f7f",
         "linecolor": "black",
         "mirror": true,
         "showline": true,
         "tickformat": "%m-%Y"
        },
        "yaxis": {
         "gridcolor": "#7f7f7f",
         "linecolor": "black",
         "mirror": true,
         "range": [
          0,
          100
         ],
         "showline": false,
         "title": {
          "text": "Nubosidad (%)"
         }
        }
       }
      },
      "text/html": [
       "<div>                            <div id=\"cccd0875-5c69-459c-9ca4-708a7fda1ee0\" class=\"plotly-graph-div\" style=\"height:400px; width:800px;\"></div>            <script type=\"text/javascript\">                require([\"plotly\"], function(Plotly) {                    window.PLOTLYENV=window.PLOTLYENV || {};                                    if (document.getElementById(\"cccd0875-5c69-459c-9ca4-708a7fda1ee0\")) {                    Plotly.newPlot(                        \"cccd0875-5c69-459c-9ca4-708a7fda1ee0\",                        [{\"hovertemplate\":\"%{y}%\",\"line\":{\"width\":2},\"marker\":{\"color\":\"rgba(0, 0, 0, 0.7)\"},\"mode\":\"lines+markers\",\"name\":\"LC08/C02/T1 \",\"x\":[\"2021-12-04T10:28:39.679000\",\"2021-12-20T10:28:37.250000\",\"2022-01-05T10:28:32.585000\",\"2022-01-21T10:28:28.991000\",\"2022-02-06T10:28:25.404000\",\"2022-02-22T10:28:19.582000\",\"2022-03-10T10:28:16.344000\",\"2022-03-26T10:28:05.040000\",\"2022-04-11T10:28:07.262000\",\"2022-04-27T10:28:03.632000\"],\"xhoverformat\":\"%d-%m-%Y\",\"y\":[41.76,67.62,42.07,37.22,52.05,38.32,29.2,93.24,76.52,63.67],\"type\":\"scatter\"},{\"hovertemplate\":\"%{y:.2f}%\",\"line\":{\"dash\":\"dot\",\"width\":2},\"marker\":{\"color\":\"rgba(0, 0, 0, 0.7)\"},\"mode\":\"lines+markers\",\"name\":\"Sentinel-2\",\"x\":[\"2021-12-02T10:45:07.038000\",\"2021-12-07T10:45:02.453000\",\"2021-12-12T10:45:06.775000\",\"2021-12-17T10:45:01.362000\",\"2021-12-22T10:45:08.640000\",\"2021-12-27T10:45:03.076000\",\"2022-01-01T10:45:09.178000\",\"2022-01-06T10:45:03.572000\",\"2022-01-11T10:45:08.654000\",\"2022-01-16T10:45:03.128000\",\"2022-01-21T10:45:07.445000\",\"2022-01-26T10:45:01.518000\",\"2022-01-31T10:45:07.558000\",\"2022-02-05T10:45:01.885000\",\"2022-02-15T10:45:01.233000\",\"2022-02-20T10:45:09.286000\",\"2022-02-25T10:45:03.207000\",\"2022-03-02T10:45:11.024000\",\"2022-03-07T10:45:05.086000\",\"2022-03-12T10:45:11.545000\",\"2022-03-22T10:45:10.593000\",\"2022-03-27T10:45:04.649000\",\"2022-04-01T10:45:09.554000\",\"2022-04-06T10:45:04.341000\",\"2022-04-11T10:45:09.571000\",\"2022-04-16T10:45:02.318000\",\"2022-04-21T10:45:12.042000\",\"2022-04-26T10:45:00.909000\",\"2022-05-01T10:45:12.570000\",\"2022-05-06T10:45:03.505000\",\"2022-05-11T10:45:11.052000\"],\"xhoverformat\":\"%d-%m-%Y\",\"y\":[74.2471,27.9584,14.0592,27.9772,3.7352,89.2555,14.6935,5.8027,0.762,93.0143,40.2385,99.7549344560901,85.2586819552689,71.0414763056526,97.5186180536893,87.3728985637075,37.5932694317537,97.0562871390606,38.7637731792529,23.3651348203888,44.418197019917,94.7946191286691,85.5011794917734,4.97921705634686,74.8644629579862,17.0488345681683,15.5233360207829,19.1545283525934,41.8359461315656,11.3135357878706,4.51530353250321],\"type\":\"scatter\"},{\"hovertemplate\":\"%{y}%\",\"line\":{\"width\":2},\"marker\":{\"color\":\"blue\",\"size\":7},\"mode\":\"lines+markers\",\"name\":\"LC09/C02/T1\",\"x\":[\"2021-12-12T10:28:36.901000\",\"2021-12-28T10:28:35.288000\",\"2022-01-13T10:28:31.598000\",\"2022-01-29T10:28:34.396000\",\"2022-02-14T10:28:30.097000\",\"2022-03-02T10:28:18.905000\",\"2022-03-18T10:28:18.136000\",\"2022-04-03T10:28:14.419000\",\"2022-04-19T10:28:04.859000\",\"2022-05-05T10:28:00.205000\"],\"xhoverformat\":\"%d-%m-%Y\",\"y\":[46.7,83.58,32.94,21.12,88.04,79.2,24.91,4.83,39.91,42.47],\"type\":\"scatter\"}],                        {\"template\":{\"data\":{\"bar\":[{\"error_x\":{\"color\":\"#2a3f5f\"},\"error_y\":{\"color\":\"#2a3f5f\"},\"marker\":{\"line\":{\"color\":\"#E5ECF6\",\"width\":0.5},\"pattern\":{\"fillmode\":\"overlay\",\"size\":10,\"solidity\":0.2}},\"type\":\"bar\"}],\"barpolar\":[{\"marker\":{\"line\":{\"color\":\"#E5ECF6\",\"width\":0.5},\"pattern\":{\"fillmode\":\"overlay\",\"size\":10,\"solidity\":0.2}},\"type\":\"barpolar\"}],\"carpet\":[{\"aaxis\":{\"endlinecolor\":\"#2a3f5f\",\"gridcolor\":\"white\",\"linecolor\":\"white\",\"minorgridcolor\":\"white\",\"startlinecolor\":\"#2a3f5f\"},\"baxis\":{\"endlinecolor\":\"#2a3f5f\",\"gridcolor\":\"white\",\"linecolor\":\"white\",\"minorgridcolor\":\"white\",\"startlinecolor\":\"#2a3f5f\"},\"type\":\"carpet\"}],\"choropleth\":[{\"colorbar\":{\"outlinewidth\":0,\"ticks\":\"\"},\"type\":\"choropleth\"}],\"contour\":[{\"colorbar\":{\"outlinewidth\":0,\"ticks\":\"\"},\"colorscale\":[[0.0,\"#0d0887\"],[0.1111111111111111,\"#46039f\"],[0.2222222222222222,\"#7201a8\"],[0.3333333333333333,\"#9c179e\"],[0.4444444444444444,\"#bd3786\"],[0.5555555555555556,\"#d8576b\"],[0.6666666666666666,\"#ed7953\"],[0.7777777777777778,\"#fb9f3a\"],[0.8888888888888888,\"#fdca26\"],[1.0,\"#f0f921\"]],\"type\":\"contour\"}],\"contourcarpet\":[{\"colorbar\":{\"outlinewidth\":0,\"ticks\":\"\"},\"type\":\"contourcarpet\"}],\"heatmap\":[{\"colorbar\":{\"outlinewidth\":0,\"ticks\":\"\"},\"colorscale\":[[0.0,\"#0d0887\"],[0.1111111111111111,\"#46039f\"],[0.2222222222222222,\"#7201a8\"],[0.3333333333333333,\"#9c179e\"],[0.4444444444444444,\"#bd3786\"],[0.5555555555555556,\"#d8576b\"],[0.6666666666666666,\"#ed7953\"],[0.7777777777777778,\"#fb9f3a\"],[0.8888888888888888,\"#fdca26\"],[1.0,\"#f0f921\"]],\"type\":\"heatmap\"}],\"heatmapgl\":[{\"colorbar\":{\"outlinewidth\":0,\"ticks\":\"\"},\"colorscale\":[[0.0,\"#0d0887\"],[0.1111111111111111,\"#46039f\"],[0.2222222222222222,\"#7201a8\"],[0.3333333333333333,\"#9c179e\"],[0.4444444444444444,\"#bd3786\"],[0.5555555555555556,\"#d8576b\"],[0.6666666666666666,\"#ed7953\"],[0.7777777777777778,\"#fb9f3a\"],[0.8888888888888888,\"#fdca26\"],[1.0,\"#f0f921\"]],\"type\":\"heatmapgl\"}],\"histogram\":[{\"marker\":{\"pattern\":{\"fillmode\":\"overlay\",\"size\":10,\"solidity\":0.2}},\"type\":\"histogram\"}],\"histogram2d\":[{\"colorbar\":{\"outlinewidth\":0,\"ticks\":\"\"},\"colorscale\":[[0.0,\"#0d0887\"],[0.1111111111111111,\"#46039f\"],[0.2222222222222222,\"#7201a8\"],[0.3333333333333333,\"#9c179e\"],[0.4444444444444444,\"#bd3786\"],[0.5555555555555556,\"#d8576b\"],[0.6666666666666666,\"#ed7953\"],[0.7777777777777778,\"#fb9f3a\"],[0.8888888888888888,\"#fdca26\"],[1.0,\"#f0f921\"]],\"type\":\"histogram2d\"}],\"histogram2dcontour\":[{\"colorbar\":{\"outlinewidth\":0,\"ticks\":\"\"},\"colorscale\":[[0.0,\"#0d0887\"],[0.1111111111111111,\"#46039f\"],[0.2222222222222222,\"#7201a8\"],[0.3333333333333333,\"#9c179e\"],[0.4444444444444444,\"#bd3786\"],[0.5555555555555556,\"#d8576b\"],[0.6666666666666666,\"#ed7953\"],[0.7777777777777778,\"#fb9f3a\"],[0.8888888888888888,\"#fdca26\"],[1.0,\"#f0f921\"]],\"type\":\"histogram2dcontour\"}],\"mesh3d\":[{\"colorbar\":{\"outlinewidth\":0,\"ticks\":\"\"},\"type\":\"mesh3d\"}],\"parcoords\":[{\"line\":{\"colorbar\":{\"outlinewidth\":0,\"ticks\":\"\"}},\"type\":\"parcoords\"}],\"pie\":[{\"automargin\":true,\"type\":\"pie\"}],\"scatter\":[{\"marker\":{\"colorbar\":{\"outlinewidth\":0,\"ticks\":\"\"}},\"type\":\"scatter\"}],\"scatter3d\":[{\"line\":{\"colorbar\":{\"outlinewidth\":0,\"ticks\":\"\"}},\"marker\":{\"colorbar\":{\"outlinewidth\":0,\"ticks\":\"\"}},\"type\":\"scatter3d\"}],\"scattercarpet\":[{\"marker\":{\"colorbar\":{\"outlinewidth\":0,\"ticks\":\"\"}},\"type\":\"scattercarpet\"}],\"scattergeo\":[{\"marker\":{\"colorbar\":{\"outlinewidth\":0,\"ticks\":\"\"}},\"type\":\"scattergeo\"}],\"scattergl\":[{\"marker\":{\"colorbar\":{\"outlinewidth\":0,\"ticks\":\"\"}},\"type\":\"scattergl\"}],\"scattermapbox\":[{\"marker\":{\"colorbar\":{\"outlinewidth\":0,\"ticks\":\"\"}},\"type\":\"scattermapbox\"}],\"scatterpolar\":[{\"marker\":{\"colorbar\":{\"outlinewidth\":0,\"ticks\":\"\"}},\"type\":\"scatterpolar\"}],\"scatterpolargl\":[{\"marker\":{\"colorbar\":{\"outlinewidth\":0,\"ticks\":\"\"}},\"type\":\"scatterpolargl\"}],\"scatterternary\":[{\"marker\":{\"colorbar\":{\"outlinewidth\":0,\"ticks\":\"\"}},\"type\":\"scatterternary\"}],\"surface\":[{\"colorbar\":{\"outlinewidth\":0,\"ticks\":\"\"},\"colorscale\":[[0.0,\"#0d0887\"],[0.1111111111111111,\"#46039f\"],[0.2222222222222222,\"#7201a8\"],[0.3333333333333333,\"#9c179e\"],[0.4444444444444444,\"#bd3786\"],[0.5555555555555556,\"#d8576b\"],[0.6666666666666666,\"#ed7953\"],[0.7777777777777778,\"#fb9f3a\"],[0.8888888888888888,\"#fdca26\"],[1.0,\"#f0f921\"]],\"type\":\"surface\"}],\"table\":[{\"cells\":{\"fill\":{\"color\":\"#EBF0F8\"},\"line\":{\"color\":\"white\"}},\"header\":{\"fill\":{\"color\":\"#C8D4E3\"},\"line\":{\"color\":\"white\"}},\"type\":\"table\"}]},\"layout\":{\"annotationdefaults\":{\"arrowcolor\":\"#2a3f5f\",\"arrowhead\":0,\"arrowwidth\":1},\"autotypenumbers\":\"strict\",\"coloraxis\":{\"colorbar\":{\"outlinewidth\":0,\"ticks\":\"\"}},\"colorscale\":{\"diverging\":[[0,\"#8e0152\"],[0.1,\"#c51b7d\"],[0.2,\"#de77ae\"],[0.3,\"#f1b6da\"],[0.4,\"#fde0ef\"],[0.5,\"#f7f7f7\"],[0.6,\"#e6f5d0\"],[0.7,\"#b8e186\"],[0.8,\"#7fbc41\"],[0.9,\"#4d9221\"],[1,\"#276419\"]],\"sequential\":[[0.0,\"#0d0887\"],[0.1111111111111111,\"#46039f\"],[0.2222222222222222,\"#7201a8\"],[0.3333333333333333,\"#9c179e\"],[0.4444444444444444,\"#bd3786\"],[0.5555555555555556,\"#d8576b\"],[0.6666666666666666,\"#ed7953\"],[0.7777777777777778,\"#fb9f3a\"],[0.8888888888888888,\"#fdca26\"],[1.0,\"#f0f921\"]],\"sequentialminus\":[[0.0,\"#0d0887\"],[0.1111111111111111,\"#46039f\"],[0.2222222222222222,\"#7201a8\"],[0.3333333333333333,\"#9c179e\"],[0.4444444444444444,\"#bd3786\"],[0.5555555555555556,\"#d8576b\"],[0.6666666666666666,\"#ed7953\"],[0.7777777777777778,\"#fb9f3a\"],[0.8888888888888888,\"#fdca26\"],[1.0,\"#f0f921\"]]},\"colorway\":[\"#636efa\",\"#EF553B\",\"#00cc96\",\"#ab63fa\",\"#FFA15A\",\"#19d3f3\",\"#FF6692\",\"#B6E880\",\"#FF97FF\",\"#FECB52\"],\"font\":{\"color\":\"#2a3f5f\"},\"geo\":{\"bgcolor\":\"white\",\"lakecolor\":\"white\",\"landcolor\":\"#E5ECF6\",\"showlakes\":true,\"showland\":true,\"subunitcolor\":\"white\"},\"hoverlabel\":{\"align\":\"left\"},\"hovermode\":\"closest\",\"mapbox\":{\"style\":\"light\"},\"paper_bgcolor\":\"white\",\"plot_bgcolor\":\"#E5ECF6\",\"polar\":{\"angularaxis\":{\"gridcolor\":\"white\",\"linecolor\":\"white\",\"ticks\":\"\"},\"bgcolor\":\"#E5ECF6\",\"radialaxis\":{\"gridcolor\":\"white\",\"linecolor\":\"white\",\"ticks\":\"\"}},\"scene\":{\"xaxis\":{\"backgroundcolor\":\"#E5ECF6\",\"gridcolor\":\"white\",\"gridwidth\":2,\"linecolor\":\"white\",\"showbackground\":true,\"ticks\":\"\",\"zerolinecolor\":\"white\"},\"yaxis\":{\"backgroundcolor\":\"#E5ECF6\",\"gridcolor\":\"white\",\"gridwidth\":2,\"linecolor\":\"white\",\"showbackground\":true,\"ticks\":\"\",\"zerolinecolor\":\"white\"},\"zaxis\":{\"backgroundcolor\":\"#E5ECF6\",\"gridcolor\":\"white\",\"gridwidth\":2,\"linecolor\":\"white\",\"showbackground\":true,\"ticks\":\"\",\"zerolinecolor\":\"white\"}},\"shapedefaults\":{\"line\":{\"color\":\"#2a3f5f\"}},\"ternary\":{\"aaxis\":{\"gridcolor\":\"white\",\"linecolor\":\"white\",\"ticks\":\"\"},\"baxis\":{\"gridcolor\":\"white\",\"linecolor\":\"white\",\"ticks\":\"\"},\"bgcolor\":\"#E5ECF6\",\"caxis\":{\"gridcolor\":\"white\",\"linecolor\":\"white\",\"ticks\":\"\"}},\"title\":{\"x\":0.05},\"xaxis\":{\"automargin\":true,\"gridcolor\":\"white\",\"linecolor\":\"white\",\"ticks\":\"\",\"title\":{\"standoff\":15},\"zerolinecolor\":\"white\",\"zerolinewidth\":2},\"yaxis\":{\"automargin\":true,\"gridcolor\":\"white\",\"linecolor\":\"white\",\"ticks\":\"\",\"title\":{\"standoff\":15},\"zerolinecolor\":\"white\",\"zerolinewidth\":2}}},\"yaxis\":{\"range\":[0,100],\"title\":{\"text\":\"Nubosidad (%)\"},\"showline\":false,\"linecolor\":\"black\",\"mirror\":true,\"gridcolor\":\"#7f7f7f\"},\"margin\":{\"t\":75,\"b\":25,\"l\":0,\"r\":0},\"legend\":{\"x\":0.27,\"y\":-0.1,\"orientation\":\"h\"},\"font\":{\"family\":\"sans-serif\"},\"plot_bgcolor\":\"white\",\"width\":800,\"height\":400,\"hovermode\":\"x unified\",\"title\":{\"text\":\"Im\\u00e1genes LC09/C02/T1_TOA y LC08/C02/T1\"},\"xaxis\":{\"showline\":true,\"linecolor\":\"black\",\"mirror\":true,\"gridcolor\":\"#7f7f7f\",\"dtick\":\"M1\",\"tickformat\":\"%m-%Y\"}},                        {\"responsive\": true}                    ).then(function(){\n",
       "                            \n",
       "var gd = document.getElementById('cccd0875-5c69-459c-9ca4-708a7fda1ee0');\n",
       "var x = new MutationObserver(function (mutations, observer) {{\n",
       "        var display = window.getComputedStyle(gd).display;\n",
       "        if (!display || display === 'none') {{\n",
       "            console.log([gd, 'removed!']);\n",
       "            Plotly.purge(gd);\n",
       "            observer.disconnect();\n",
       "        }}\n",
       "}});\n",
       "\n",
       "// Listen for the removal of the full notebook cells\n",
       "var notebookContainer = gd.closest('#notebook-container');\n",
       "if (notebookContainer) {{\n",
       "    x.observe(notebookContainer, {childList: true});\n",
       "}}\n",
       "\n",
       "// Listen for the clearing of the current output cell\n",
       "var outputEl = gd.closest('.output');\n",
       "if (outputEl) {{\n",
       "    x.observe(outputEl, {childList: true});\n",
       "}}\n",
       "\n",
       "                        })                };                });            </script>        </div>"
      ]
     },
     "metadata": {},
     "output_type": "display_data"
    }
   ],
   "source": [
    "# Visualización con Plotly\n",
    "\n",
    "fig = go.Figure()\n",
    "\n",
    "fig.add_trace(\n",
    "    go.Scatter(x=reporteL8_raw['Fecha Precisa'], \n",
    "               y=reporteL8_raw['CLOUD_COVER'],\n",
    "               name='LC08/C02/T1 ', \n",
    "               marker_color= 'rgba(0, 0, 0, 0.7)',\n",
    "               mode='lines+markers',\n",
    "               xhoverformat=\"%d-%m-%Y\",\n",
    "               hovertemplate='%{y}%',\n",
    "               line = dict(width=2)\n",
    "               )\n",
    "    )\n",
    "\n",
    "fig.add_trace(\n",
    "    go.Scatter(x=reporteS2['Fecha Precisa'], \n",
    "               y=reporteS2['CLOUDY PIXEL PERCENTAGE'],\n",
    "               name='Sentinel-2', \n",
    "               marker_color= 'rgba(0, 0, 0, 0.7)',\n",
    "               mode='lines+markers',\n",
    "               xhoverformat=\"%d-%m-%Y\",\n",
    "               hovertemplate='%{y:.2f}%',\n",
    "               line = dict(width=2, dash='dot')\n",
    "               )\n",
    "    )\n",
    "\n",
    "fig.add_trace(\n",
    "    go.Scatter(x=reporteL9_raw['Fecha Precisa'], \n",
    "               y=reporteL9_raw['CLOUD_COVER'], \n",
    "               name='LC09/C02/T1', \n",
    "               marker_color= 'blue',\n",
    "               mode='lines+markers', marker_size=7,\n",
    "               xhoverformat=\"%d-%m-%Y\",\n",
    "               hovertemplate='%{y}%',\n",
    "               line = dict(width=2)\n",
    "              #  line = dict(width=2, dash='dot')\n",
    "               )\n",
    "    )\n",
    "\n",
    "# fig.update_traces(mode = 'markers', marker_size=7)\n",
    "\n",
    "# Título y hover\n",
    "title_plotly = 'Imágenes LC09/C02/T1_TOA y LC08/C02/T1'\n",
    "\n",
    "fig.update_layout(\n",
    "    plot_bgcolor = \"white\",\n",
    "    width = 800,\n",
    "    height = 400,\n",
    "    hovermode=\"x unified\",\n",
    "    title = title_plotly,\n",
    "    yaxis_range = [0,100],\n",
    "#     xaxis_range = [fecha, pd.to_datetime(fecha) + relativedelta(months=meses)],\n",
    "#  https://stackoverflow.com/questions/4130922/how-to-increment-datetime-by-custom-months-in-python-without-using-library\n",
    "    margin=dict(t=75, b=25, l=0, r=0),\n",
    "    legend=dict(x=0.27, y=-0.10),\n",
    "    legend_orientation='h',\n",
    "    font_family='sans-serif'\n",
    ")\n",
    "\n",
    "# Nombres en ejes\n",
    "fig.update_yaxes(title_text='Nubosidad (%)',\n",
    "                 showline=False, linecolor='black', mirror=True,\n",
    "                 gridcolor='#7f7f7f'\n",
    ")\n",
    "\n",
    "# Obtener ticks mensuales\n",
    "fig.update_xaxes(\n",
    "    showline=True, \n",
    "    linecolor='black', mirror=True,\n",
    "    gridcolor='#7f7f7f',\n",
    "    dtick='M1', tickformat='%m-%Y'\n",
    "    )\n",
    "\n",
    "fig.show()"
   ]
  },
  {
   "cell_type": "markdown",
   "id": "9d2bcba2",
   "metadata": {},
   "source": [
    "**Exportar gráfica como archivo `.html`**\n",
    "\n",
    "- [Plotly: Interactive HTML Export in Python](https://plotly.com/python/interactive-html-export/)"
   ]
  },
  {
   "cell_type": "code",
   "execution_count": 52,
   "id": "5597b3d1",
   "metadata": {
    "scrolled": true
   },
   "outputs": [],
   "source": [
    "# Exportar grafica como archivo html\n",
    "fig.write_html('plotly.html')"
   ]
  }
 ],
 "metadata": {
  "kernelspec": {
   "display_name": "Python 3 (ipykernel)",
   "language": "python",
   "name": "python3"
  },
  "language_info": {
   "codemirror_mode": {
    "name": "ipython",
    "version": 3
   },
   "file_extension": ".py",
   "mimetype": "text/x-python",
   "name": "python",
   "nbconvert_exporter": "python",
   "pygments_lexer": "ipython3",
   "version": "3.7.13"
  },
  "toc": {
   "base_numbering": 1,
   "nav_menu": {},
   "number_sections": true,
   "sideBar": true,
   "skip_h1_title": false,
   "title_cell": "Table of Contents",
   "title_sidebar": "Contents",
   "toc_cell": false,
   "toc_position": {},
   "toc_section_display": true,
   "toc_window_display": false
  }
 },
 "nbformat": 4,
 "nbformat_minor": 5
}

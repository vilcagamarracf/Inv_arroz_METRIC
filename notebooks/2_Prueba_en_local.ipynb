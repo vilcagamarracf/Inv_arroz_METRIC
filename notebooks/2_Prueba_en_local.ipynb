{
 "cells": [
  {
   "cell_type": "markdown",
   "metadata": {
    "id": "W_Ok2STPL9m1"
   },
   "source": [
    "---\n",
    "\n",
    "<p> Segunda Libreta sobre el trabajo de investigación: </p>\n",
    "\n",
    "<center>\n",
    "\n",
    "<p> \n",
    "<b>\n",
    "\"Estimación de la evapotranspiración espacio-temporal en arrozales usando imágenes satelitales, Departamento de Lambayeque\" \n",
    "</b>\n",
    "</p>\n",
    "\n",
    "</center>\n",
    "\n",
    "Autor: Cesar Francisco Vilca Gamarra \n",
    "\n",
    "Repositorio alojado en [GitHub](https://github.com/vilcagamarracf/Inv_arroz_METRIC) \n",
    "\n",
    "Marzo, 2022\n",
    "\n",
    "---"
   ]
  },
  {
   "cell_type": "markdown",
   "metadata": {
    "id": "bhWO77DAG-_T"
   },
   "source": [
    "# Balance de Energía Superficial - Modelo METRIC"
   ]
  },
  {
   "cell_type": "markdown",
   "metadata": {
    "id": "yGEm2NBONUMg"
   },
   "source": [
    "**Satellite-Based Energy Balance for Mapping Evapotranspiration With Internalized Calibration (METRIC)**\n",
    "\n",
    "- METRIC is an image-processing model for calculating ET as a residual of the surface energy balance. \n",
    "- METRIC was developed by the University of Idaho for application to Landsat satellite imagery to maximize ET product resolution (30 m).\n",
    "- METRIC uses as its foundation the pioneering SEBAL energy balance process developed in the Netherlands by Bastiaanssen et al.\n",
    "\n",
    "Aplicación de referencia:\n",
    "- [geeSEBAL en GitHub](https://github.com/et-brasil/geeSEBAL/blob/a8242225bcb184329372ee0dbdc411d1e9d5c766/JavaScrpit/tools.js)"
   ]
  },
  {
   "cell_type": "markdown",
   "metadata": {
    "id": "ghw91D31HckJ"
   },
   "source": [
    "## Inicio"
   ]
  },
  {
   "cell_type": "markdown",
   "metadata": {
    "id": "yJYzzuyBRJaz"
   },
   "source": [
    "Ejecutar todas las celdas ubicadas en esta sección para su uso posterior:\n",
    "- Ingreso de creedenciales para usar Earth Engine en Colab (importa `ee` y luego `ee.Authenticate()`)\n",
    "- Importar librerías como [`geemap`](https://geemap.org/), `pandas`, `matplotlib` entre otras.\n",
    "- Ejecutar funciones realizadas para agilizar procesos repetitivos en ciertas ocasiones."
   ]
  },
  {
   "cell_type": "markdown",
   "metadata": {
    "id": "2d-RIVQ-6KQU"
   },
   "source": [
    "Es necesario desarrollar funciones para ciertos componentes reutilizables:\n",
    "- Modelo digital de elevación DEM\n",
    "- Mapa de pendientes (grados)\n",
    "- Mapa del Coseno del ángulo solar de incidencia Cosθ\n",
    "- Mapa de transmitancias τ\n",
    "- Mapa de albedo α\n",
    "- Mapa de NDVI\n",
    "- Mapa de LAI\n",
    "- Mapa de Temperatura superficial en Kelvin\n",
    "- Mapa de emisividad ε\n",
    "- Mapa de Temperatura superficial corregido a partir de mapa de elevación `ts_dem`\n",
    "\n",
    "Para poder estimar:\n",
    "- R_n\n",
    "- G\n",
    "- H\n",
    "\n",
    "Puede revisar las funciones en el [repositorio de GitHub](github.com/vilcagamarracf/Inv_arroz_METRIC/tree/main/files/scripts)"
   ]
  },
  {
   "cell_type": "markdown",
   "metadata": {
    "id": "sh_bgyB5KF0E"
   },
   "source": [
    "**Ingreso de creedenciales para uso de Earth Engine**"
   ]
  },
  {
   "cell_type": "code",
   "execution_count": 1,
   "metadata": {
    "colab": {
     "base_uri": "https://localhost:8080/",
     "height": 35
    },
    "id": "11vY3CVRKjix",
    "outputId": "5d6dc0f9-c747-4b06-ced0-5e7d404d63f9",
    "scrolled": true
   },
   "outputs": [
    {
     "name": "stdout",
     "output_type": "stream",
     "text": [
      "Populating the interactive namespace from numpy and matplotlib\n"
     ]
    }
   ],
   "source": [
    "import os\n",
    "os.getcwd() # %pwd\n",
    "\n",
    "import ee\n",
    "ee.Initialize()\n",
    "\n",
    "import numpy as np\n",
    "import math\n",
    "import pandas as pd\n",
    "\n",
    "from pprint import pprint\n",
    "\n",
    "import matplotlib.pyplot as plt\n",
    "# import matplotlib.dates as mpl_dates # Modificar fechas por formato\n",
    "# date_format = mpl_dates.DateFormatter('%Y-%m')\n",
    "\n",
    "# Prueba: Cambiando estilo de fuente \n",
    "plt.rcParams['font.family'] = 'serif'  # default es 'sans-serif'\n",
    "# plt.rcParams['font.family'] = 'sans-serif'\n",
    "\n",
    "import geemap\n",
    "import geemap.colormaps as cmp # Paletas para visualización de imágenes (cm se confunde con matplotlib)\n",
    "\n",
    "%pylab inline \n",
    "from geemap import cartoee"
   ]
  },
  {
   "cell_type": "code",
   "execution_count": 2,
   "metadata": {},
   "outputs": [],
   "source": [
    "# Funciones en archivo Funciones.py\n",
    "from funciones import *\n",
    "from vis_tools import *"
   ]
  },
  {
   "cell_type": "code",
   "execution_count": 11,
   "metadata": {
    "id": "5tku8KkuNUJH",
    "outputId": "e85cc9aa-5f8c-448f-ed36-28e8b4af167b"
   },
   "outputs": [
    {
     "data": {
      "text/plain": [
       "<module 'funciones' from 'C:\\\\Users\\\\usuario\\\\Documents\\\\00-notebooks-2022\\\\funciones.py'>"
      ]
     },
     "execution_count": 11,
     "metadata": {},
     "output_type": "execute_result"
    }
   ],
   "source": [
    "# Por cada cambio se necesita usar importlib.reload\n",
    "import importlib # Para volver a importar el archivo funciones.py posterior a cada cambio\n",
    "import sys\n",
    "importlib.reload(sys.modules['funciones'])"
   ]
  },
  {
   "cell_type": "markdown",
   "metadata": {
    "id": "aMDe9UpFefjo"
   },
   "source": [
    "### Assets "
   ]
  },
  {
   "cell_type": "code",
   "execution_count": 3,
   "metadata": {
    "cellView": "form",
    "id": "joF53xHzavNT"
   },
   "outputs": [],
   "source": [
    "# Diccionario de visualización de imágenes Landsat 8 y 9 TOA\n",
    "vis_rgb = {'min': 0.0, 'max': 0.3, 'bands': ['B4', 'B3', 'B2']} \n",
    "\n",
    "# Assets\n",
    "asset_dept = ee.FeatureCollection('users/CesarVilca/departamentos')\n",
    "asset_prov = ee.FeatureCollection('users/CesarVilca/provincias')\n",
    "asset_dist = ee.FeatureCollection('users/CesarVilca/distritos')\n",
    "\n",
    "# Filtrado\n",
    "deptSelectedName = 'LAMBAYEQUE'\n",
    "provSelectedName = 'FERREÑAFE' # 'FERREÑAFE' 'CHICLAYO'\n",
    "distSelectedName = 'FERREÑAFE' # 'FERREÑAFE' 'CHONGOYAPE'\n",
    "\n",
    "dept_fcol = asset_dept.filterMetadata('DEPARTAMEN', 'equals', deptSelectedName)\n",
    "prov_fcol = asset_prov.filterMetadata('PROVINCIA', 'equals', provSelectedName)\n",
    "dist_fcol = asset_dist.filterMetadata('DISTRITO', 'equals', distSelectedName)\n",
    "\n",
    "# ROI Caja\n",
    "roi = dist_fcol.geometry().bounds()\n",
    "\n",
    "empty = ee.Image().paint(dist_fcol, 2,2)\n",
    "empty2 = ee.Image().paint(roi, 2, 2)"
   ]
  },
  {
   "cell_type": "code",
   "execution_count": 4,
   "metadata": {
    "id": "v9a9qxdIvNK3",
    "tags": []
   },
   "outputs": [
    {
     "data": {
      "application/vnd.jupyter.widget-view+json": {
       "model_id": "218e5f940f1e4b6c915e422368381ca7",
       "version_major": 2,
       "version_minor": 0
      },
      "text/plain": [
       "Map(center=[-6.6205221157277006, -79.79111975903714], controls=(WidgetControl(options=['position', 'transparen…"
      ]
     },
     "metadata": {},
     "output_type": "display_data"
    }
   ],
   "source": [
    "# Visualización\n",
    "Map = geemap.Map(layer_ctrl = True) \n",
    "Map.centerObject(dist_fcol, 9)\n",
    "\n",
    "Map.addLayer(dept_fcol, {'color':'red'}, f'Departamento {deptSelectedName}')\n",
    "Map.addLayer(prov_fcol, {'color':'green'}, f'Provincia {provSelectedName} ')\n",
    "Map.addLayer(dist_fcol, {'color':'blue'}, f'Distrito {distSelectedName}')\n",
    "\n",
    "# Bordes\n",
    "Map.addLayer(empty , {}, 'Distrito Seleccionado')\n",
    "Map.addLayer(empty2, {}, 'Limites')\n",
    "\n",
    "Map"
   ]
  },
  {
   "cell_type": "code",
   "execution_count": 5,
   "metadata": {
    "colab": {
     "base_uri": "https://localhost:8080/"
    },
    "id": "8gKpf8OFcTlm",
    "outputId": "a32f31f1-1c5b-43e5-b35f-c7c00c6a9aa0",
    "scrolled": false
   },
   "outputs": [
    {
     "data": {
      "text/plain": [
       "ee.featurecollection.FeatureCollection"
      ]
     },
     "execution_count": 5,
     "metadata": {},
     "output_type": "execute_result"
    }
   ],
   "source": [
    "# Área de evaluación: Ferreñafe - Áreas voladas\n",
    "ruta_ferrenafe = r'files/Ferreñafe_areas_2.shp' # en Local\n",
    "\n",
    "# Lectura como FeatureCollection con geemap\n",
    "predios_agricolas = geemap.shp_to_ee(ruta_ferrenafe)\n",
    "predios_vis = ee.Image().paint(predios_agricolas, 1, 1) # Para visualización con geemap\n",
    "\n",
    "predios_bound = predios_agricolas.geometry().bounds()\n",
    "predios_bound_vis = ee.Image().paint(predios_bound, 1, 1) # Para visualización con geemap\n",
    "\n",
    "type(predios_agricolas)"
   ]
  },
  {
   "cell_type": "code",
   "execution_count": 6,
   "metadata": {},
   "outputs": [
    {
     "data": {
      "image/png": "[encoded data removed]",
      "text/plain": [
       "<Figure size 576x432 with 1 Axes>"
      ]
     },
     "metadata": {
      "needs_background": "light"
     },
     "output_type": "display_data"
    }
   ],
   "source": [
    "image = predios_vis#.blend(predios_bound_vis)\n",
    "vis_params = {'color':'black'}\n",
    "title_map = 'Área de interés'\n",
    "\n",
    "get_grafica_cartoee_color(image, vis_params, title_map=title_map, text='Hola mundo')"
   ]
  },
  {
   "cell_type": "code",
   "execution_count": 6,
   "metadata": {
    "id": "QqU_Ls6eGey_"
   },
   "outputs": [],
   "source": [
    "# 8 Imágenes seleccionadas\n",
    "ids = [\n",
    "    'LANDSAT/LC09/C02/T1/LC09_010065_20211212', # 0 - 12/12 - l9\n",
    "    'LANDSAT/LC09/C02/T1/LC09_010065_20220113', # 1 - 01/13 - l9 OJO: NDVI negativos -> Posible riego 01 13\n",
    "    'LANDSAT/LC09/C02/T1/LC09_010065_20220129', # 2 - 01/29 - l9\n",
    "    'LANDSAT/LC08/C02/T1/LC08_010065_20220310', # 3 - 03/10 - l8\n",
    "    'LANDSAT/LC09/C02/T1/LC09_010065_20220403', # 4 - 04/03 - l9\n",
    "    'LANDSAT/LC09/C02/T1/LC09_010065_20220521', # 5 - 05/21 - l9\n",
    "    'LANDSAT/LC08/C02/T1/LC08_010065_20220529', # 6 - 05/29 - l8\n",
    "    'LANDSAT/LC08/C02/T1/LC08_010065_20220614'  # 7 - 06/14 - l8\n",
    "      ]\n",
    "\n",
    "# Inputs\n",
    "# Ojo: El mapa Aspect no se puede obtener en los límites -> usar áreas mayores a la que necesitas\n",
    "dem = ee.Image(\"USGS/SRTMGL1_003\").clip(roi) "
   ]
  },
  {
   "cell_type": "markdown",
   "metadata": {
    "id": "MB2Go4w3JURJ"
   },
   "source": [
    "## Balance de Energía Superficial"
   ]
  },
  {
   "cell_type": "markdown",
   "metadata": {
    "id": "2J0DCXqySC40"
   },
   "source": [
    "En esta sección se desarrollará los 3 componentes de la ecuación de balance de energía superficial:\n",
    "- Radiación Neta $R_n$\n",
    "- Flujo de calor del suelo $G$\n",
    "- Flujo de calor sensible del aire $H$\n",
    "\n",
    "Tendremos como valores input imágenes satelitales Landsat 8 y 9, así como datos meteorológicos.\n"
   ]
  },
  {
   "cell_type": "markdown",
   "metadata": {
    "id": "ovNHmH7UXZvr"
   },
   "source": [
    "\n",
    "Reporte con imágenes Landsat 8 y 9 unidos con sus respectivos datos de Evapotranspiración horaria y velocidad de viento de la estación meteorológica INIA Vista Florida."
   ]
  },
  {
   "cell_type": "markdown",
   "metadata": {
    "id": "7ORTC88PSBDF"
   },
   "source": [
    "### Radiación Neta $R_n$"
   ]
  },
  {
   "cell_type": "markdown",
   "metadata": {
    "id": "-BB4Gm9lM6yB"
   },
   "source": [
    "The net radiation flux at the surface ($R_n$) represents the actual radiant energy available at the surface.\n",
    "\n",
    "$$\n",
    "R_n = R_{S\\downarrow} - \\alpha R_{S\\downarrow} + R_{L\\downarrow} - R_{L\\uparrow} - (1- \\varepsilon_0)R_{L\\downarrow}\n",
    "$$\n",
    "\n",
    "$$\n",
    "R_n = (1- \\alpha)R_{S\\downarrow} + (R_{L\\downarrow} - R_{L\\uparrow}) - (1- \\varepsilon_0)R_{L\\downarrow}\n",
    "$$\n",
    "\n",
    "$$\n",
    "\\text{Net surface radiation} = \\text{gains} - \\text{losses}\n",
    "$$\n",
    "\n",
    "Dónde: \n",
    "- $R_n \\;$ : Flujo de radiación neta $[W/m^2]$\n",
    "- $\\alpha \\;\\;\\;\\;$ : Albedo de superficie $[-]$\n",
    "- $R_{S\\downarrow}$ : Radiación de onda corta entrante $[W/m^2]$\n",
    "- $R_{L\\downarrow}$ : Radiación de onda larga entrante $[W/m^2]$\n",
    "- $R_{L\\uparrow}$ : Radiación de onda larga saliente $[W/m^2]$\n",
    "- $\\epsilon_0 \\;\\;\\;$ : Emisividad del ancho de banda en la superficie / broad-band surface thermal emissivity\n",
    "\n",
    "El término $(1- \\epsilon_0)R_{L\\downarrow}$ representa la fracción de radiación entrante de onda larga (incoming long-wave radiation) reflejada desde la superficie."
   ]
  },
  {
   "cell_type": "code",
   "execution_count": 8,
   "metadata": {},
   "outputs": [
    {
     "data": {
      "text/plain": [
       "['LANDSAT/LC09/C02/T1/LC09_010065_20211212',\n",
       " 'LANDSAT/LC09/C02/T1/LC09_010065_20220113',\n",
       " 'LANDSAT/LC09/C02/T1/LC09_010065_20220129',\n",
       " 'LANDSAT/LC08/C02/T1/LC08_010065_20220310',\n",
       " 'LANDSAT/LC09/C02/T1/LC09_010065_20220403',\n",
       " 'LANDSAT/LC09/C02/T1/LC09_010065_20220521',\n",
       " 'LANDSAT/LC08/C02/T1/LC08_010065_20220529',\n",
       " 'LANDSAT/LC08/C02/T1/LC08_010065_20220614']"
      ]
     },
     "execution_count": 8,
     "metadata": {},
     "output_type": "execute_result"
    }
   ],
   "source": [
    "ids"
   ]
  },
  {
   "cell_type": "code",
   "execution_count": 76,
   "metadata": {
    "colab": {
     "base_uri": "https://localhost:8080/"
    },
    "id": "59lOsMLnE5jp",
    "outputId": "2c67438f-f5c1-4cf3-a681-2dbfbe555efc"
   },
   "outputs": [
    {
     "name": "stdout",
     "output_type": "stream",
     "text": [
      "Rn de imagen 10-03-2022 procesada!\n"
     ]
    }
   ],
   "source": [
    "# Imagen Landsat seleccionada por index\n",
    "img_id = ids[3] # 3 para Marzo, 7 para Junio\n",
    "img_ee = ee.Image(img_id).clip(roi)\n",
    "img_toa = convert_RAW_to_TOA(img_ee)\n",
    "\n",
    "img_date = img_ee.date()\n",
    "img_date_format1 = img_date.format('dd-MM-YYYY').getInfo()\n",
    "img_date_format2 = img_date.format('YYYY-MM-dd').getInfo()\n",
    "\n",
    "# Radiación Neta\n",
    "R_n, img_sr_tasumi, img_productos, d2, doy = getRadiacionNeta(img_ee, roi, dem) # roi: Ferreñafe\n",
    "\n",
    "print(f'Rn de imagen {img_date_format1} procesada!')"
   ]
  },
  {
   "cell_type": "code",
   "execution_count": 77,
   "metadata": {
    "id": "5hPligMtvNK5",
    "outputId": "22ca83fd-2915-49ad-d2d9-7b933d37a883",
    "scrolled": false
   },
   "outputs": [
    {
     "name": "stdout",
     "output_type": "stream",
     "text": [
      "Fecha: 10-03-2022\n"
     ]
    },
    {
     "data": {
      "text/html": [
       "<div>\n",
       "<style scoped>\n",
       "    .dataframe tbody tr th:only-of-type {\n",
       "        vertical-align: middle;\n",
       "    }\n",
       "\n",
       "    .dataframe tbody tr th {\n",
       "        vertical-align: top;\n",
       "    }\n",
       "\n",
       "    .dataframe thead th {\n",
       "        text-align: right;\n",
       "    }\n",
       "</style>\n",
       "<table border=\"1\" class=\"dataframe\">\n",
       "  <thead>\n",
       "    <tr style=\"text-align: right;\">\n",
       "      <th></th>\n",
       "      <th>R_l_in</th>\n",
       "      <th>R_l_out</th>\n",
       "      <th>R_n</th>\n",
       "      <th>R_s_in</th>\n",
       "    </tr>\n",
       "  </thead>\n",
       "  <tbody>\n",
       "    <tr>\n",
       "      <th>max</th>\n",
       "      <td>378.17</td>\n",
       "      <td>464.26</td>\n",
       "      <td>692.10</td>\n",
       "      <td>846.35</td>\n",
       "    </tr>\n",
       "    <tr>\n",
       "      <th>mean</th>\n",
       "      <td>352.99</td>\n",
       "      <td>436.03</td>\n",
       "      <td>584.35</td>\n",
       "      <td>805.88</td>\n",
       "    </tr>\n",
       "    <tr>\n",
       "      <th>median</th>\n",
       "      <td>352.32</td>\n",
       "      <td>435.36</td>\n",
       "      <td>580.56</td>\n",
       "      <td>804.72</td>\n",
       "    </tr>\n",
       "    <tr>\n",
       "      <th>min</th>\n",
       "      <td>349.42</td>\n",
       "      <td>432.02</td>\n",
       "      <td>530.02</td>\n",
       "      <td>772.17</td>\n",
       "    </tr>\n",
       "    <tr>\n",
       "      <th>mode</th>\n",
       "      <td>351.81</td>\n",
       "      <td>433.87</td>\n",
       "      <td>576.52</td>\n",
       "      <td>804.72</td>\n",
       "    </tr>\n",
       "    <tr>\n",
       "      <th>stdDev</th>\n",
       "      <td>2.75</td>\n",
       "      <td>3.05</td>\n",
       "      <td>26.53</td>\n",
       "      <td>11.13</td>\n",
       "    </tr>\n",
       "  </tbody>\n",
       "</table>\n",
       "</div>"
      ],
      "text/plain": [
       "        R_l_in  R_l_out     R_n  R_s_in\n",
       "max     378.17   464.26  692.10  846.35\n",
       "mean    352.99   436.03  584.35  805.88\n",
       "median  352.32   435.36  580.56  804.72\n",
       "min     349.42   432.02  530.02  772.17\n",
       "mode    351.81   433.87  576.52  804.72\n",
       "stdDev    2.75     3.05   26.53   11.13"
      ]
     },
     "metadata": {},
     "output_type": "display_data"
    },
    {
     "data": {
      "text/html": [
       "<div>\n",
       "<style scoped>\n",
       "    .dataframe tbody tr th:only-of-type {\n",
       "        vertical-align: middle;\n",
       "    }\n",
       "\n",
       "    .dataframe tbody tr th {\n",
       "        vertical-align: top;\n",
       "    }\n",
       "\n",
       "    .dataframe thead th {\n",
       "        text-align: right;\n",
       "    }\n",
       "</style>\n",
       "<table border=\"1\" class=\"dataframe\">\n",
       "  <thead>\n",
       "    <tr style=\"text-align: right;\">\n",
       "      <th></th>\n",
       "      <th>LAI</th>\n",
       "      <th>NDVI</th>\n",
       "      <th>Ts_c</th>\n",
       "      <th>Ts_k</th>\n",
       "      <th>albedo</th>\n",
       "      <th>cos_theta</th>\n",
       "      <th>e_0</th>\n",
       "      <th>e_NB</th>\n",
       "      <th>slope</th>\n",
       "      <th>t_sw</th>\n",
       "    </tr>\n",
       "  </thead>\n",
       "  <tbody>\n",
       "    <tr>\n",
       "      <th>max</th>\n",
       "      <td>1.824434</td>\n",
       "      <td>0.813376</td>\n",
       "      <td>29.774638</td>\n",
       "      <td>302.924638</td>\n",
       "      <td>0.210209</td>\n",
       "      <td>0.907059</td>\n",
       "      <td>0.968244</td>\n",
       "      <td>0.976021</td>\n",
       "      <td>6.230337</td>\n",
       "      <td>0.673971</td>\n",
       "    </tr>\n",
       "    <tr>\n",
       "      <th>mean</th>\n",
       "      <td>1.572042</td>\n",
       "      <td>0.695226</td>\n",
       "      <td>25.568658</td>\n",
       "      <td>298.718658</td>\n",
       "      <td>0.156955</td>\n",
       "      <td>0.863718</td>\n",
       "      <td>0.965720</td>\n",
       "      <td>0.975188</td>\n",
       "      <td>1.691963</td>\n",
       "      <td>0.673854</td>\n",
       "    </tr>\n",
       "    <tr>\n",
       "      <th>median</th>\n",
       "      <td>1.644671</td>\n",
       "      <td>0.728591</td>\n",
       "      <td>25.418676</td>\n",
       "      <td>298.576604</td>\n",
       "      <td>0.163518</td>\n",
       "      <td>0.862504</td>\n",
       "      <td>0.966491</td>\n",
       "      <td>0.975418</td>\n",
       "      <td>1.588081</td>\n",
       "      <td>0.673852</td>\n",
       "    </tr>\n",
       "    <tr>\n",
       "      <th>min</th>\n",
       "      <td>0.210231</td>\n",
       "      <td>0.057734</td>\n",
       "      <td>24.818607</td>\n",
       "      <td>297.968607</td>\n",
       "      <td>0.038788</td>\n",
       "      <td>0.827631</td>\n",
       "      <td>0.952102</td>\n",
       "      <td>0.970694</td>\n",
       "      <td>0.000000</td>\n",
       "      <td>0.673761</td>\n",
       "    </tr>\n",
       "    <tr>\n",
       "      <th>mode</th>\n",
       "      <td>1.714635</td>\n",
       "      <td>0.759826</td>\n",
       "      <td>25.326676</td>\n",
       "      <td>298.455434</td>\n",
       "      <td>0.163518</td>\n",
       "      <td>0.862504</td>\n",
       "      <td>0.967103</td>\n",
       "      <td>0.975661</td>\n",
       "      <td>0.930384</td>\n",
       "      <td>0.673836</td>\n",
       "    </tr>\n",
       "    <tr>\n",
       "      <th>stdDev</th>\n",
       "      <td>0.254732</td>\n",
       "      <td>0.119245</td>\n",
       "      <td>0.557017</td>\n",
       "      <td>0.557017</td>\n",
       "      <td>0.030689</td>\n",
       "      <td>0.011982</td>\n",
       "      <td>0.002547</td>\n",
       "      <td>0.000841</td>\n",
       "      <td>0.967461</td>\n",
       "      <td>0.000031</td>\n",
       "    </tr>\n",
       "  </tbody>\n",
       "</table>\n",
       "</div>"
      ],
      "text/plain": [
       "             LAI      NDVI       Ts_c        Ts_k    albedo  cos_theta  \\\n",
       "max     1.824434  0.813376  29.774638  302.924638  0.210209   0.907059   \n",
       "mean    1.572042  0.695226  25.568658  298.718658  0.156955   0.863718   \n",
       "median  1.644671  0.728591  25.418676  298.576604  0.163518   0.862504   \n",
       "min     0.210231  0.057734  24.818607  297.968607  0.038788   0.827631   \n",
       "mode    1.714635  0.759826  25.326676  298.455434  0.163518   0.862504   \n",
       "stdDev  0.254732  0.119245   0.557017    0.557017  0.030689   0.011982   \n",
       "\n",
       "             e_0      e_NB     slope      t_sw  \n",
       "max     0.968244  0.976021  6.230337  0.673971  \n",
       "mean    0.965720  0.975188  1.691963  0.673854  \n",
       "median  0.966491  0.975418  1.588081  0.673852  \n",
       "min     0.952102  0.970694  0.000000  0.673761  \n",
       "mode    0.967103  0.975661  0.930384  0.673836  \n",
       "stdDev  0.002547  0.000841  0.967461  0.000031  "
      ]
     },
     "metadata": {},
     "output_type": "display_data"
    }
   ],
   "source": [
    "print(f'Fecha: {img_date_format1}')\n",
    "\n",
    "# Producir tabla con valores de los flujos [W/m^2] necesarios para obtener Radiación Neta \n",
    "R_n_stats = get_stats(R_n, predios_agricolas, 10)\n",
    "R_n_stats_df = pd.DataFrame.from_dict(R_n_stats, orient='index').round(2)\n",
    "display(R_n_stats_df) \n",
    "\n",
    "# Producir tabla de estadísticos sobre los productos elaborados\n",
    "img_prod_stats = get_stats(img_productos, predios_agricolas, 30)\n",
    "img_prod_stats_df = pd.DataFrame.from_dict(img_prod_stats, orient='index', dtype='float')#.round(3)\n",
    "display(img_prod_stats_df)"
   ]
  },
  {
   "cell_type": "code",
   "execution_count": null,
   "metadata": {},
   "outputs": [],
   "source": [
    "# Notar\n",
    "print(type(img_prod_stats['max']['LAI'])) # float\n",
    "print(type(img_prod_stats_df['LAI']['max'])) # numpy.float64"
   ]
  },
  {
   "cell_type": "markdown",
   "metadata": {
    "heading_collapsed": true,
    "id": "hr-x77CIvNK6"
   },
   "source": [
    "###### Prueba: Obtener gráficas de cada variable"
   ]
  },
  {
   "cell_type": "markdown",
   "metadata": {
    "hidden": true,
    "id": "txJfVCjkvNK6"
   },
   "source": [
    "Basado en las rampas de colores usadas en la aplicación [EEFLUX](http://eeflux-level1.appspot.com/):\n",
    "- Temperatura Superficial ![](http://eeflux-level1.appspot.com/css/lst_legend.png)\n",
    "- Albedo ![](http://eeflux-level1.appspot.com/css/albedo_legend.png)\n",
    "- NDVI ![](http://eeflux-level1.appspot.com/css/ndvi_legend.png)\n",
    "- ETrF ![](http://eeflux-level1.appspot.com/css/etrf_legend.png)\n",
    "- EToF ![](http://eeflux-level1.appspot.com/css/etof_legend.png)\n",
    "- Actual ET (mm/day) ![](http://eeflux-level1.appspot.com/css/eta_legend.png)\n",
    "\n",
    "Para identificar cada color se puede usar el siguiente [enlace](https://www.ginifab.com/feeds/pms/pms_color_in_image.php)."
   ]
  },
  {
   "cell_type": "code",
   "execution_count": null,
   "metadata": {
    "hidden": true,
    "id": "UIdg9Qo-SDVT"
   },
   "outputs": [],
   "source": [
    "albedo_cmap = ['68181f', 'd6604d', 'f9dbc7', 'd1e5f0', '2166ac', '053061'] # 0 - 0.5\n",
    "ndvi_cmap = ['0048fb', 'ffffff', 'ce7e45', 'fad163', '74a909', '3a7405', '1a3b03'] # -0.2 - 1\n",
    "ts_cmap = ['fefccc', 'fbd976', 'f08c39', 'ea4a33', 'e43d32', '812026'] # 280 - 330 en K o 6.85 - 56.85 en °C\n",
    "rn_cmp = ['560e0d', 'fd5903', 'fbfe04', '3aff01', '01feef', '0000fe', 'fd6dfd', 'ffffff']\n",
    "rn_cmp_r = ['ffffff', 'fd6dfd', '0000fe', '01feef', '3aff01', 'fbfe04', 'fd5903', '560e0d']\n",
    "# Revertir lista\n",
    "# https://datagy.io/python-reverse-list/s\n",
    "# cmp.plot_colormaps(width=12, height=0.4)"
   ]
  },
  {
   "cell_type": "markdown",
   "metadata": {
    "hidden": true,
    "id": "VedMduilSDVT"
   },
   "source": [
    "Generar gráfica de prueba."
   ]
  },
  {
   "cell_type": "code",
   "execution_count": null,
   "metadata": {
    "hidden": true
   },
   "outputs": [],
   "source": [
    "ids"
   ]
  },
  {
   "cell_type": "code",
   "execution_count": null,
   "metadata": {
    "hidden": true
   },
   "outputs": [],
   "source": [
    "print(img_productos.bandNames().getInfo())"
   ]
  },
  {
   "cell_type": "code",
   "execution_count": null,
   "metadata": {
    "hidden": true,
    "id": "hdaV9CezSDVT",
    "outputId": "1c056a61-2e28-4c88-9c17-461c286e649c"
   },
   "outputs": [],
   "source": [
    "# Generar \n",
    "# for id_ in ids:\n",
    "# Imagen Landsat\n",
    "variable = 'Rn'\n",
    "img_id = ids[3]\n",
    "landsat_id = img_id[11:12]\n",
    "img_ee = ee.Image(img_id).clip(roi)\n",
    "img_toa = convert_RAW_to_TOA(img_ee)\n",
    "\n",
    "img_date = img_ee.date()\n",
    "img_date_format1 = img_date.format('dd-MM-YYYY').getInfo()\n",
    "img_date_format2 = img_date.format('YYYY-MM-dd').getInfo()\n",
    "\n",
    "# Radiación Neta\n",
    "R_n, img_sr_tasumi, img_productos, d2, doy = getRadiacionNeta(img_ee, roi, dem) # roi: Ferreñafe\n",
    "\n",
    "# Imágenes\n",
    "# img_productos.bandNames().getInfo() \n",
    "# ['NDVI', 'LAI', 'albedo', 'Ts_k', 'Ts_c', 't_sw', 'e_0', 'e_NB', 'cos_theta', 'slope']\n",
    "img_ndvi = img_productos.select('NDVI')\n",
    "# img_savi = img_productos.select('SAVI')\n",
    "img_lai  = img_productos.select('LAI')\n",
    "img_albedo = img_productos.select('albedo')\n",
    "img_Ts_c = img_productos.select('Ts_c')\n",
    "# img_Ts_K = img_productos.select('Ts_k')\n",
    "\n",
    "# cos_theta_rel = img_productos.select('cos_theta')\n",
    "# t_sw = img_productos.select('t_sw')\n",
    "# e_0  = img_productos.select('e_0')\n",
    "\n",
    "print(f'Rn de imagen {img_date_format1} procesada!')\n",
    "\n",
    "\n",
    "# Estadisticas\n",
    "R_n_stats = get_stats(R_n, predios_agricolas, 10)\n",
    "R_n_stats_df = pd.DataFrame.from_dict(R_n_stats, orient='index').round(2)\n",
    "\n",
    "img_prod_stats = get_stats(img_productos, predios_agricolas, 30)\n",
    "img_prod_stats_df = pd.DataFrame.from_dict(img_prod_stats, orient='index')#.round(3)\n",
    "\n",
    "display(R_n_stats_df)"
   ]
  },
  {
   "cell_type": "code",
   "execution_count": null,
   "metadata": {
    "hidden": true
   },
   "outputs": [],
   "source": [
    "# R_n\n",
    "vis_params_R_n = {'min': R_n_stats['min']['R_n'],\n",
    "                  'max': R_n_stats['max']['R_n'], \n",
    "                  'palette': cmp.get_palette('RdYlGn_r')}\n",
    "\n",
    "print(f\"Rangos: {vis_params_R_n['min']} - {vis_params_R_n['max']}\")\n",
    "\n",
    "image = R_n.select('R_n').clip(predios_agricolas).blend(predios_vis)\n",
    "vis_params = vis_params_R_n\n",
    "variable = 'Rn'\n",
    "title_map = f'{variable}\\n{img_date_format1}'\n",
    "label = '$[\\; W/m^2 \\;]$'\n",
    "ruta = f'{variable}_{img_date_format2}_L{landsat_id}'\n",
    "\n",
    "get_grafica_cartoee_color(image, \n",
    "                          vis_params, \n",
    "                          text=title_map, \n",
    "                          label=label)#,save_fig=ruta)"
   ]
  },
  {
   "cell_type": "markdown",
   "metadata": {
    "hidden": true,
    "id": "9jKtwLfbSDVU"
   },
   "source": [
    "-----"
   ]
  },
  {
   "cell_type": "markdown",
   "metadata": {
    "hidden": true,
    "id": "smDWbOKiSDVU"
   },
   "source": [
    "Generando estadísticas de cada imagen."
   ]
  },
  {
   "cell_type": "code",
   "execution_count": null,
   "metadata": {
    "hidden": true,
    "id": "jON5lY7gSDVU",
    "outputId": "5163dd60-88f7-4153-b16f-a288f9ab8e21",
    "scrolled": false
   },
   "outputs": [],
   "source": [
    "for id_ in ids:\n",
    "\n",
    "    # Imagen Landsat\n",
    "    img_id = id_\n",
    "    landsat_id = img_id[11:12]\n",
    "    img_ee = ee.Image(img_id).clip(roi)\n",
    "    img_toa = convert_RAW_to_TOA(img_ee)\n",
    "    img_date = img_ee.date()\n",
    "    img_date_format1 = img_date.format('dd-MM-YYYY').getInfo()\n",
    "    img_date_format2 = img_date.format('YYYY-MM-dd').getInfo()\n",
    "\n",
    "    # Radiación Neta\n",
    "    R_n, img_sr_tasumi, img_productos, d2, doy = getRadiacionNeta(img_ee, roi, dem) # roi: Ferreñafe\n",
    "\n",
    "    # Imágenes\n",
    "    img_ndvi = img_productos.select('NDVI')\n",
    "    img_savi = img_productos.select('SAVI')\n",
    "    img_lai  = img_productos.select('LAI')\n",
    "    img_albedo = img_productos.select('albedo')\n",
    "    img_Ts_c = img_productos.select('Ts_c')\n",
    "    # img_Ts_K = img_productos.select('Ts_k')\n",
    "\n",
    "    # cos_theta_rel = img_productos.select('cos_theta')\n",
    "    # t_sw = img_productos.select('t_sw')\n",
    "    # e_0  = img_productos.select('e_0')\n",
    "\n",
    "    print(f'Procesando Rn de imagen {img_date_format1}...')\n",
    "    \n",
    "    \n",
    "    # Estadisticas --------------------------------------------------------------------------------\n",
    "    \n",
    "    R_n_stats = get_stats(R_n, predios_agricolas, 10)\n",
    "    R_n_stats_df = pd.DataFrame.from_dict(R_n_stats, orient='index').round(2)\n",
    "\n",
    "    img_prod_stats = get_stats(img_productos, predios_agricolas, 30)\n",
    "    img_prod_stats_df = pd.DataFrame.from_dict(img_prod_stats, orient='index')#.round(3)\n",
    "    \n",
    "    # Guardar dataframe\n",
    "    # img_prod_stats_df.to_csv(f'Estadisticas_{img_date_format2}.csv')\n",
    "    \n",
    "    # Mostrar dataframe\n",
    "#     display(R_n_stats_df)\n",
    "    print(f\"Rangos min-max: {R_n_stats_df['R_n']['min']} - {R_n_stats_df['R_n']['max']}\")\n",
    "#     nombre_csv = f'R_n_stats_{img_date_format2}.csv'\n",
    "#     R_n_stats_df.to_csv(nombre_csv)\n",
    "#     print(f\"R_n min-max: {R_n_stats_df['R_n'].min()} - {R_n_stats_df['R_n'].max()}\")\n",
    "#     display(img_prod_stats_df)"
   ]
  },
  {
   "cell_type": "markdown",
   "metadata": {
    "hidden": true,
    "id": "HSiqGa3uSDVV"
   },
   "source": [
    "Generando gráficas de cada variable para cada imagen."
   ]
  },
  {
   "cell_type": "code",
   "execution_count": null,
   "metadata": {
    "hidden": true,
    "id": "hPriIhSivNK6",
    "outputId": "cfc50989-7924-484d-970f-2db184feea25",
    "scrolled": true
   },
   "outputs": [],
   "source": [
    "# Inputs iniciales\n",
    "\n",
    "for id_ in ids:\n",
    "\n",
    "    # Imagen Landsat\n",
    "    img_id = id_\n",
    "    landsat_id = img_id[11:12]\n",
    "    img_ee = ee.Image(img_id).clip(roi)\n",
    "    img_toa = convert_RAW_to_TOA(img_ee)\n",
    "    img_date = img_ee.date()\n",
    "    img_date_format1 = img_date.format('dd-MM-YYYY').getInfo()\n",
    "    img_date_format2 = img_date.format('YYYY-MM-dd').getInfo()\n",
    "\n",
    "    # Radiación Neta\n",
    "    R_n, img_sr_tasumi, img_productos, d2, doy = getRadiacionNeta(img_ee, roi, dem) # roi: Ferreñafe\n",
    "\n",
    "    # Imágenes\n",
    "    img_ndvi = img_productos.select('NDVI')\n",
    "    img_savi = img_productos.select('SAVI')\n",
    "    img_lai  = img_productos.select('LAI')\n",
    "    img_albedo = img_productos.select('albedo')\n",
    "    img_Ts_c = img_productos.select('Ts_c')\n",
    "    # img_Ts_K = img_productos.select('Ts_k')\n",
    "\n",
    "    # cos_theta_rel = img_productos.select('cos_theta')\n",
    "    # t_sw = img_productos.select('t_sw')\n",
    "    # e_0  = img_productos.select('e_0')\n",
    "\n",
    "    print(f'Procesando Rn de imagen {img_date_format1}...')\n",
    "    \n",
    "    \n",
    "    # Estadisticas --------------------------------------------------------------------------------\n",
    "    \n",
    "    R_n_stats = get_stats(R_n, predios_agricolas, 10)\n",
    "    R_n_stats_df = pd.DataFrame.from_dict(R_n_stats, orient='index').round(2)\n",
    "\n",
    "#     img_prod_stats = get_stats(img_productos, predios_agricolas, 30)\n",
    "#     img_prod_stats_df = pd.DataFrame.from_dict(img_prod_stats, orient='index')#.round(3)\n",
    "\n",
    "    \n",
    "    # R_n --------------------------------------------------------------------------------------\n",
    "    \n",
    "    variable = 'Rn'\n",
    "    vis_params_R_n = {'min': 0, #R_n_stats['min']['R_n'],\n",
    "                      'max': 700, #R_n_stats['max']['R_n'], \n",
    "                      'palette': rn_cmp_r}#cmp.get_palette('gist_rainbow_r')} # gist_rainbow, RdYlGn_r\n",
    "\n",
    "    image = R_n.select('R_n').clip(predios_agricolas).blend(predios_vis)\n",
    "    vis_params = vis_params_R_n\n",
    "    variable = 'R_n'\n",
    "    label = '$[\\; W/m^2 \\;]$'\n",
    "    title_map = f'{img_date_format1}\\n{variable}'\n",
    "    ruta = f'{variable}_{img_date_format2}_L{landsat_id}'\n",
    "    \n",
    "    print(f\"R_n min-max: {R_n_stats_df['R_n'].min()} - {R_n_stats_df['R_n'].max()}\")\n",
    "    \n",
    "    get_grafica_cartoee_color(image, vis_params, text=title_map, label=label, save_fig=None)\n",
    "\n",
    "    \n",
    "    # Albedo --------------------------------------------------------------------------------------\n",
    "    \n",
    "#     vis_params_alb = {'min': 0, #img_prod_stats['min']['albedo'], \n",
    "#                       'max': 0.5, #img_prod_stats['max']['albedo'], \n",
    "#                       'palette': albedo_cmap} #cmp.get_palette('afmhot')} # RdYlGn_r\n",
    "\n",
    "#     image = img_albedo.clip(predios_agricolas).blend(predios_vis)\n",
    "#     # image = image.updateMask(image.lte(0.22).And(image.gt(0.17)))\n",
    "\n",
    "#     vis_params = vis_params_alb\n",
    "#     variable = 'Albedo'\n",
    "#     label = '$[\\; - \\;]$'\n",
    "#     title_map = f'{variable}\\n{img_date_format1}'\n",
    "#     ruta = f'{variable}_{img_date_format2}_L{landsat_id}'\n",
    "\n",
    "#     get_grafica_cartoee_color(image, vis_params, title_map, label, save_fig=ruta)\n",
    "\n",
    "    \n",
    "#     # Temperatura Superficial -------------------------------------------------------------------\n",
    "    \n",
    "#     vis_params_ts = {'min': 10,#img_prod_stats['min']['Ts_c'],\n",
    "#                      'max': 35,#img_prod_stats['max']['Ts_c'],\n",
    "#                      'palette': cmp.get_palette('RdYlBu_r')}\n",
    "\n",
    "#     image = img_Ts_c.clip(predios_agricolas).blend(predios_vis)\n",
    "#     vis_params = vis_params_ts\n",
    "#     variable = 'Ts'\n",
    "#     label = '$[\\; °C \\;]$'\n",
    "#     title_map = f'{variable}\\n{img_date_format1}'\n",
    "#     ruta = f'{variable}_{img_date_format2}_L{landsat_id}'\n",
    "\n",
    "#     get_grafica_cartoee_color(image, vis_params, title_map, label, save_fig=None)\n",
    "\n",
    "    \n",
    "    # NDVI --------------------------------------------------------------------------------------\n",
    "    \n",
    "#     vis_params_ndvi = {'min': -0.2, \n",
    "#                        'max': 1, # img_prod_stats['max']['NDVI'], \n",
    "#                        'palette': ndvi_cmap} #cmp.get_palette('ndvi')}\n",
    "\n",
    "#     image = img_ndvi.clip(predios_agricolas).blend(predios_vis)\n",
    "\n",
    "# #     if img_prod_stats['min']['NDVI'] < 0:\n",
    "#       # image = image.where(image.lte(0), 0) # Asignar valor 0 a negativos\n",
    "# #       image = image.updateMask(image.gt(0)) # Eliminar pixeles negativos y mantener positivos\n",
    "\n",
    "#     vis_params = vis_params_ndvi\n",
    "#     variable = 'NDVI'\n",
    "#     title_map = f'{variable}\\n{img_date_format1}'\n",
    "#     label = '$[\\; - \\;]$'\n",
    "#     ruta = f'{variable}_{img_date_format2}_L{landsat_id}'\n",
    "\n",
    "#     get_grafica_cartoee_color(image, vis_params, title_map, label, save_fig=ruta)\n",
    "\n",
    "    \n",
    "#     # LAI --------------------------------------------------------------------------------------\n",
    "    \n",
    "#     vis_params_lai = {'min': 0, \n",
    "#                       'max': img_prod_stats['max']['LAI'], \n",
    "#                       'palette': cmp.get_palette('RdYlGn')}\n",
    "\n",
    "#     image = img_lai.clip(predios_agricolas).blend(predios_vis)\n",
    "\n",
    "#     # if img_prod_stats['LAI']['min'] < 0:\n",
    "#       # image = image.where(image.lte(0), 0) # Asignar valor 0 a negativos\n",
    "#       # image = image.updateMask(image.gt(0)) # Eliminar pixeles negativos y mantener positivos\n",
    "    \n",
    "#     vis_params = vis_params_lai\n",
    "#     variable = 'LAI'\n",
    "#     title_map = f'{variable}\\n{img_date_format1}'\n",
    "#     label = '$[\\; - \\;]$'\n",
    "#     ruta = f'{title_map}_{img_date_format2}_L{landsat_id}'\n",
    "\n",
    "#     get_grafica_cartoee_color(image, vis_params, title_map, label, save_fig=None)\n",
    "    "
   ]
  },
  {
   "cell_type": "markdown",
   "metadata": {
    "heading_collapsed": true,
    "id": "MMDMHZbYCQbN"
   },
   "source": [
    "###### Prueba: Elaboración de boxplot"
   ]
  },
  {
   "cell_type": "markdown",
   "metadata": {
    "hidden": true,
    "id": "aODXXjzh_Ju0"
   },
   "source": [
    "Matplotlib - Boxplot:\n",
    "- https://matplotlib.org/stable/gallery/index.html#statistics\n",
    "- https://matplotlib.org/stable/gallery/statistics/boxplot.html#sphx-glr-gallery-statistics-boxplot-py\n",
    "\n",
    "Ojo con los ee.Reducer:\n",
    "- [Reducer / Statistics of an Image Region - Pixels in the region](https://developers.google.com/earth-engine/guides/reducers_reduce_region#pixels-in-the-region)\n",
    "- [Reducer / Weighted Reductions](https://developers.google.com/earth-engine/guides/reducers_weighting): By default, reducers applied to imagery weight the inputs according to the mask value. This is relevant in the context of fractional pixels created through operations such as clip(). Adjust this behavior by calling unweighted() on the reducer. Using an unweighted reducer forces all pixels in the region to have the same weight. \n",
    "- [ee.Reducer.median](https://developers.google.com/earth-engine/apidocs/ee-reducer-median)\n",
    "- [ee.Reducer.mean](https://developers.google.com/earth-engine/apidocs/ee-reducer-mean)"
   ]
  },
  {
   "cell_type": "code",
   "execution_count": null,
   "metadata": {
    "colab": {
     "base_uri": "https://localhost:8080/"
    },
    "hidden": true,
    "id": "_oKGUDhWAdUa",
    "outputId": "7643bca5-c363-4b74-9f68-1018adfb656c",
    "scrolled": true
   },
   "outputs": [],
   "source": [
    "# Inputs\n",
    "# Ojo: El mapa Aspect no se puede obtener en los límites -> usar áreas mayores a la que necesitas\n",
    "dem = ee.Image(\"USGS/SRTMGL1_003\").clip(roi) \n",
    "\n",
    "lista_dates = []\n",
    "lista_ndvi_boxplot = []\n",
    "lista_savi_boxplot = []\n",
    "lista_lai_boxplot = []\n",
    "lista_albedo_boxplot = []\n",
    "\n",
    "lista_boxplot = []\n",
    "\n",
    "for id in ids:\n",
    "    \n",
    "    # Imagen Landsat\n",
    "    img_id = id\n",
    "    img_ee = ee.Image(img_id).clip(roi)\n",
    "    img_toa = convert_RAW_to_TOA(img_ee)\n",
    "    img_date = img_ee.date().format('YYYY-MM-dd').getInfo()\n",
    "    lista_dates.append(img_date)\n",
    "\n",
    "    # Radiación Neta\n",
    "    R_n, img_sr_tasumi, img_productos, d2, doy = getRadiacionNeta(img_ee, roi, dem) # roi: Ferreñafe\n",
    "\n",
    "    # Imágenes\n",
    "    img_ndvi = img_productos.select('NDVI')\n",
    "    img_savi = img_productos.select('SAVI')\n",
    "    img_lai  = img_productos.select('LAI')\n",
    "    img_albedo = img_productos.select('albedo')\n",
    "\n",
    "    # Convertir ee.Image a numpy.array\n",
    "    ndvi_list_values = img_ndvi.reduceRegion(ee.Reducer.toList(), predios_agricolas, 30).get('NDVI').getInfo()\n",
    "    savi_list_values = img_savi.reduceRegion(ee.Reducer.toList(), predios_agricolas, 30).get('SAVI').getInfo()\n",
    "    lai_list_values  = img_lai.reduceRegion(ee.Reducer.toList(), predios_agricolas, 30).get('LAI').getInfo()\n",
    "    albedo_list_values = img_albedo.reduceRegion(ee.Reducer.toList(), predios_agricolas, 30).get('albedo').getInfo()\n",
    "\n",
    "    # ndvi_array = np.array(ndvi_list_values)\n",
    "    # lista_prueba = ndvi_array.flatten('C').tolist() # https://www.javatpoint.com/numpy-flatten\n",
    "\n",
    "    lista_ndvi_boxplot.append(ndvi_list_values)\n",
    "    lista_savi_boxplot.append(savi_list_values)\n",
    "    lista_lai_boxplot.append(lai_list_values)\n",
    "    lista_albedo_boxplot.append(albedo_list_values)\n",
    "\n",
    "    print(f'Rn de imagen {img_date} procesada!') "
   ]
  },
  {
   "cell_type": "code",
   "execution_count": null,
   "metadata": {
    "colab": {
     "base_uri": "https://localhost:8080/",
     "height": 390
    },
    "hidden": true,
    "id": "HFjXO4nGPDV8",
    "outputId": "76bcad98-1243-4f36-9fe4-577352f09f2a"
   },
   "outputs": [],
   "source": [
    "# Visualización de Boxplot con Matplotlib\n",
    "title_boxplot = 'Boxplot'\n",
    "lista_boxplot = lista_albedo_boxplot \n",
    "# lista_ndvi_boxplot, lista_savi_boxplot, lista_lai_boxplot, lista_albedo_boxplot\n",
    "\n",
    "# Boxplot NDVI\n",
    "fig, axs = plt.subplots(nrows=1, ncols=2, figsize=(18, 6), sharey=True)\n",
    "\n",
    "axs[0].boxplot(lista_boxplot,labels=lista_dates)\n",
    "axs[0].set_title(title_boxplot)\n",
    "axs[0].axhline(0, color='k', ls='--', lw=1)\n",
    "\n",
    "axs[1].boxplot(lista_boxplot,\n",
    "               labels=lista_dates,\n",
    "               showfliers=False)\n",
    "axs[1].set_title(f'{title_boxplot} showfliers=False')\n",
    "axs[1].axhline(0, color='k', ls='--', lw=1)\n",
    "\n",
    "# axs[0].set_ylim(top=1)\n",
    "# axs[1].set_ylim(top=1)\n",
    "\n",
    "fig.subplots_adjust(wspace=0.05)\n",
    "plt.show()"
   ]
  },
  {
   "cell_type": "code",
   "execution_count": null,
   "metadata": {
    "hidden": true,
    "id": "rSp9H3NxvNK8",
    "outputId": "2f1e266c-aed0-46d3-ed94-3297198d028e"
   },
   "outputs": [],
   "source": [
    "# Boxplot grupal\n",
    "lista_parametros = [lista_ndvi_boxplot, lista_savi_boxplot, \n",
    "                    lista_lai_boxplot, lista_albedo_boxplot]\n",
    "lista_parametros_titles = ['NDVI', 'SAVI', 'LAI', 'Albedo']\n",
    "\n",
    "fig, axs = plt.subplots(nrows=2, ncols=2, figsize=(16, 12))\n",
    "axs = axs.flatten()\n",
    "\n",
    "for i, lista in enumerate(lista_parametros):\n",
    "    axs[i].boxplot(lista,\n",
    "                   labels=lista_dates,\n",
    "                   showfliers=True)\n",
    "    axs[i].set_title(lista_parametros_titles[i]+' Boxplot')\n",
    "    axs[i].axhline(0, color='k', ls='--', lw=1)\n",
    "#     axs[i].set_ylim(top=1)\n",
    "\n",
    "fig.subplots_adjust(wspace=0.1)\n",
    "plt.show()"
   ]
  },
  {
   "cell_type": "markdown",
   "metadata": {
    "hidden": true,
    "id": "qkfvh9-rvNK8"
   },
   "source": [
    "**Boxplot con seaborn**\n",
    "\n",
    "Boxplot:\n",
    "- https://seaborn.pydata.org/generated/seaborn.boxplot.html\n",
    "\n",
    "Para control de gráfico\n",
    "- https://seaborn.pydata.org/tutorial/aesthetics.html\n",
    "- https://stackoverflow.com/questions/58476654/how-to-remove-or-hide-x-axis-labels-from-a-seaborn-matplotlib-plot\n",
    "- https://python-graph-gallery.com/33-control-colors-of-boxplot-seaborn\n",
    "\n",
    "Links para customizar el boxplot:\n",
    "- https://matplotlib.org/stable/tutorials/intermediate/legend_guide.html\n",
    "- https://matplotlib.org/stable/gallery/text_labels_and_annotations/legend_demo.html\n",
    "- https://matplotlib.org/stable/gallery/text_labels_and_annotations/custom_legends.html"
   ]
  },
  {
   "cell_type": "code",
   "execution_count": null,
   "metadata": {
    "hidden": true,
    "id": "FD2Gur__vNK8"
   },
   "outputs": [],
   "source": [
    "# Creamos una función que genere dataframes\n",
    "def prepare_df_vertical(lista_escogida, lista_title):\n",
    "    \n",
    "    lista_pd = []\n",
    "    \n",
    "    for i, lista in enumerate(lista_escogida):\n",
    "        prueba = pd.DataFrame(list(zip(lista)), columns=['Valores'])\n",
    "        prueba['Fecha'] = lista_dates[i]\n",
    "        prueba['Tipo'] = lista_title\n",
    "        lista_pd.append(prueba)\n",
    "\n",
    "    df = pd.concat(lista_pd)\n",
    "    \n",
    "    return df"
   ]
  },
  {
   "cell_type": "code",
   "execution_count": null,
   "metadata": {
    "hidden": true,
    "id": "1iC1tCXkvNK8",
    "outputId": "de4f2344-c3b2-432c-cdf8-fe0cf6da4233"
   },
   "outputs": [],
   "source": [
    "# Una vez creado la función, generar dataframes y luego concatenarlos entre si\n",
    "# lista_parametros = [lista_ndvi_boxplot, lista_savi_boxplot, lista_lai_boxplot, lista_albedo_boxplot]\n",
    "lista_parametros = [lista_ndvi_boxplot, lista_savi_boxplot, lista_albedo_boxplot]\n",
    "\n",
    "# lista_parametros_titles = ['NDVI', 'SAVI', 'LAI', 'Albedo']\n",
    "lista_parametros_titles = ['NDVI', 'SAVI', 'Albedo']\n",
    "\n",
    "listas = []\n",
    "\n",
    "for i, lista in enumerate(lista_parametros):\n",
    "    df = prepare_df_vertical(lista, lista_parametros_titles[i])\n",
    "    listas.append(df)\n",
    "\n",
    "df_final = pd.concat(listas)\n",
    "df_final"
   ]
  },
  {
   "cell_type": "code",
   "execution_count": null,
   "metadata": {
    "hidden": true,
    "id": "dk6BQSaevNK8",
    "outputId": "f667862e-1491-4b87-b582-8a3df67363df"
   },
   "outputs": [],
   "source": [
    "# Widget para seleccionar un color html\n",
    "import ipywidgets as widgets\n",
    "\n",
    "widgets.ColorPicker(\n",
    "    concise=False,\n",
    "    description='Pick a color',\n",
    "    value='blue',\n",
    "    disabled=False\n",
    ")"
   ]
  },
  {
   "cell_type": "code",
   "execution_count": null,
   "metadata": {
    "hidden": true,
    "id": "_Wham6i4vNK9"
   },
   "outputs": [],
   "source": [
    "import seaborn as sns"
   ]
  },
  {
   "cell_type": "code",
   "execution_count": null,
   "metadata": {
    "hidden": true,
    "id": "fQVrDh99vNK9",
    "outputId": "a81a4a59-ceb2-497f-a873-4f0a095388fd"
   },
   "outputs": [],
   "source": [
    "# Obteniendo DDS sabiendo que comenzó el '2021-12-01'\n",
    "# lista_dates = ['2021-12-12', '2022-01-13', '2022-01-29', '2022-03-10', '2022-04-03']\n",
    "\n",
    "# https://stackoverflow.com/questions/12126318/subtracting-dates-with-python\n",
    "\n",
    "dds = []\n",
    "\n",
    "from datetime import datetime\n",
    "inicio_camp = datetime(2021, 12, 1)\n",
    "\n",
    "for fechas in lista_dates:\n",
    "    fecha_dt = datetime.strptime(fechas, '%Y-%m-%d')\n",
    "    dif = fecha_dt - inicio_camp\n",
    "    dds.append(dif.days)\n",
    "\n",
    "dds"
   ]
  },
  {
   "cell_type": "code",
   "execution_count": null,
   "metadata": {
    "hidden": true,
    "id": "25Oci3DPvNK9",
    "outputId": "04601669-55d5-4f24-fae4-7ef4dd3bead5"
   },
   "outputs": [],
   "source": [
    "# Boxplot con seaborn\n",
    "fig = plt.figure(figsize=(8,5)) # Recibe valores en pulgadas, para cambiar usar cm = 1/2.54\n",
    "\n",
    "ax = sns.boxplot(x=\"Fecha\", y=\"Valores\", hue=\"Tipo\", data=df_final, \n",
    "                 palette=['#1bb61e','#99da0b','#f53232'], \n",
    "                 fliersize=0, \n",
    "                 linewidth=1.5,\n",
    "                 width=0.4, showcaps=False,\n",
    "#                 medianprops={\"color\": \"white\", \"linewidth\": 1.5},\n",
    "                boxprops={\"edgecolor\": \"black\",\"linewidth\": 1}\n",
    "                )\n",
    "titulo = 'Boxplot - Parametros NDVI, SAVI y Albedo'\n",
    "ax.set_title(titulo) # , fonts2_Prueba_en_local.ipynbze=20, fontfamily='serif'\n",
    "\n",
    "ax.set_ylim(top=1)\n",
    "\n",
    "ax.axhline(0, color='k', ls='--', lw=1)\n",
    "# ax.axhline(0.17, color='g', ls='--', lw=1)\n",
    "# ax.axhline(0.22, color='g', ls='--', lw=1)\n",
    "\n",
    "ax.set(xlabel=None, ylabel=None)  # remove the axis label, 'DDS'\n",
    "\n",
    "# ax.tick_params(axis='x', labelsize=16)  \n",
    "# ax.tick_params(axis='y', labelsize=16) \n",
    "\n",
    "# --- Prueba: Días despues de siembra DDS ---- \n",
    "# x_ticks_labels = dds # Alterando xtickslabels: 'DDS'\n",
    "# ax.set_xticklabels(x_ticks_labels)\n",
    "# ax.set(xlabel='DDS')\n",
    "# ---------- \n",
    "\n",
    "ax.legend(title='', loc='upper left'\n",
    "#           bbox_to_anchor=(1, 1), loc='upper left', borderaxespad=0.\n",
    "         )\n",
    "# ax.get_legend().remove() # Remover leyenda\n",
    "sns.despine()\n",
    "ax.yaxis.grid(True, alpha=0.3)\n",
    "plt.tight_layout()\n",
    "\n",
    "path_name = 'images/Boxplot_8x5_'\n",
    "plt.savefig(f'{path_name}Prueba.jpeg', dpi=300)"
   ]
  },
  {
   "cell_type": "code",
   "execution_count": null,
   "metadata": {
    "hidden": true,
    "id": "_HEGOav9vNK9",
    "outputId": "2472ac68-0c26-4400-80c9-8632bb58e71f"
   },
   "outputs": [],
   "source": [
    "# violinplot con seaborn\n",
    "fig = plt.figure(figsize=(8,5))\n",
    "\n",
    "ax = sns.violinplot(x=\"Fecha\", y=\"Valores\", hue=\"Tipo\", data=df_final, \n",
    "                    palette=\"Spectral\", \n",
    "#                     fliersize=0,\n",
    "                    linewidth=1\n",
    "                   )\n",
    "\n",
    "ax.set_title('Violinplot - Parametros NDVI, SAVI y Albedo') # , fontsize=20\n",
    "\n",
    "ax.set_ylim(top=1)\n",
    "\n",
    "ax.axhline(0, color='k', ls='--', lw=1)\n",
    "# ax.axhline(0.17, color='g', ls='--', lw=1)\n",
    "# ax.axhline(0.22, color='g', ls='--', lw=1)\n",
    "\n",
    "ax.set(xlabel=None)  # remove the axis label\n",
    "ax.set(ylabel=None)\n",
    "\n",
    "ax.tick_params(axis='x') # , labelsize=16\n",
    "ax.tick_params(axis='y') # , labelsize=16\n",
    "\n",
    "ax.legend(title='', loc='upper left')\n",
    "\n",
    "sns.despine()\n",
    "ax.yaxis.grid(True, alpha=0.3)\n",
    "\n",
    "plt.tight_layout()\n",
    "\n",
    "path_name = 'images/Violinplot_8x5_'\n",
    "plt.savefig(f'{path_name}prueba.jpeg', dpi=300)"
   ]
  },
  {
   "cell_type": "code",
   "execution_count": null,
   "metadata": {
    "hidden": true,
    "id": "6-QR4I54c2eB"
   },
   "outputs": [],
   "source": [
    "# Guardar un array como .txt\n",
    "ruta = r'/Users/usuario/Documents/00-notebooks-2022/files/'\n",
    "\n",
    "array_albedo = np.array(lista_albedo_boxplot)\n",
    "array_nvdi = np.array(lista_ndvi_boxplot)\n",
    "array_savi = np.array(lista_savi_boxplot)\n",
    "array_lai  = np.array(lista_lai_boxplot)\n",
    "\n",
    "# numpy.savetxt(fname, X, fmt='%.18e', delimiter=' ', newline='\\n', header='', footer='', comments='# ', encoding=None)[source]\n",
    "np.savetxt(f'{ruta}array_albedo.txt', array_albedo)\n",
    "np.savetxt(f'{ruta}array_nvdi.txt', array_nvdi)\n",
    "np.savetxt(f'{ruta}array_savi.txt', array_savi)\n",
    "np.savetxt(f'{ruta}array_lai.txt', array_lai)"
   ]
  },
  {
   "cell_type": "code",
   "execution_count": null,
   "metadata": {
    "hidden": true,
    "id": "oo1Vp718oyFX"
   },
   "outputs": [],
   "source": [
    "# Lectura de numpy.array en .txt para leer boxplot\n",
    "np_albedo = np.loadtxt(f'{ruta}array_albedo.txt').tolist()"
   ]
  },
  {
   "cell_type": "code",
   "execution_count": null,
   "metadata": {
    "hidden": true,
    "id": "w2ZM--EIo_51"
   },
   "outputs": [],
   "source": [
    "# Boxplot\n",
    "plt.figure(figsize=(9, 6))\n",
    "plt.boxplot(np_albedo);"
   ]
  },
  {
   "cell_type": "code",
   "execution_count": null,
   "metadata": {
    "hidden": true,
    "id": "SYqye3TGUoBc"
   },
   "outputs": [],
   "source": [
    "def get_boxplot(lista, title):\n",
    "  title_boxplot = title\n",
    "  lista_boxplot = lista\n",
    "  # Boxplot NDVI\n",
    "  fig, axs = plt.subplots(nrows=1, ncols=2, figsize=(18, 6), sharey=True)\n",
    "\n",
    "  axs[0].boxplot(lista_boxplot,labels=lista_dates)\n",
    "  axs[0].set_title(title_boxplot)\n",
    "  # axs[0].set_ylim(top=1)\n",
    "  axs[0].axhline(0, color='k', ls='--', lw=1)\n",
    "\n",
    "  axs[1].boxplot(lista_boxplot,\n",
    "                labels=lista_dates,\n",
    "                showfliers=False)\n",
    "  axs[1].set_title(f'{title_boxplot} showfliers=False')\n",
    "  # axs[1].set_ylim(top=1)\n",
    "  axs[1].axhline(0, color='k', ls='--', lw=1)\n",
    "\n",
    "  fig.subplots_adjust(wspace=0.05)\n",
    "  plt.show()"
   ]
  },
  {
   "cell_type": "code",
   "execution_count": null,
   "metadata": {
    "hidden": true,
    "id": "C3mQXbJSUpUN"
   },
   "outputs": [],
   "source": [
    "get_boxplot(lista_ndvi_boxplot, 'Albedo boxplot')"
   ]
  },
  {
   "cell_type": "code",
   "execution_count": null,
   "metadata": {
    "hidden": true,
    "id": "z3dBjisZUtOL"
   },
   "outputs": [],
   "source": [
    "get_boxplot(lista_savi_boxplot, 'SAVI boxplot')"
   ]
  },
  {
   "cell_type": "code",
   "execution_count": null,
   "metadata": {
    "hidden": true,
    "id": "4zmnKshKUv6L"
   },
   "outputs": [],
   "source": [
    "get_boxplot(lista_lai_boxplot, 'LAI boxplot')"
   ]
  },
  {
   "cell_type": "code",
   "execution_count": null,
   "metadata": {
    "hidden": true,
    "id": "UIQvfhP9Ml71"
   },
   "outputs": [],
   "source": [
    "# Visualizando una solo boxplot\n",
    "fig, ax1 = plt.subplots(nrows=1, ncols=1, figsize=(6, 6), sharey=True)\n",
    "ax1.boxplot(lista_boxplot[0],\n",
    "            labels=[lista_dates[0]],\n",
    "            showfliers=False)\n",
    "ax1.set_ylim(0,1)\n",
    "ax1.set_title('NDVI Boxplot');"
   ]
  },
  {
   "cell_type": "code",
   "execution_count": null,
   "metadata": {
    "hidden": true,
    "id": "KlpqXAkL_UQl"
   },
   "outputs": [],
   "source": [
    "# Prueba de Matplotlib: Object-based method\n",
    "fig, axs = plt.subplots(nrows=1, ncols=5, figsize=(12, 6), sharey=True)\n",
    "axs[0].boxplot(lista_boxplot[0],\n",
    "                 labels=[lista_dates[0]])\n",
    "axs[0].set_title('NDVI boxplot')\n",
    "axs[0].set_ylim(0,1)\n",
    "\n",
    "axs[1].boxplot(lista_boxplot[1],\n",
    "                 labels=[lista_dates[1]])\n",
    "axs[1].set_title('NDVI boxplot')\n",
    "axs[1].set_ylim(0,1)\n",
    "\n",
    "axs[2].boxplot(lista_boxplot[2],\n",
    "                 labels=[lista_dates[2]])\n",
    "axs[2].set_title('NDVI boxplot')\n",
    "axs[2].set_ylim(0,1)\n",
    "\n",
    "axs[3].boxplot(lista_boxplot[3],\n",
    "                 labels=[lista_dates[3]])\n",
    "axs[3].set_title('NDVI boxplot')\n",
    "axs[3].set_ylim(0,1)\n",
    "\n",
    "axs[4].boxplot(lista_boxplot[4],\n",
    "                 labels=[lista_dates[4]])\n",
    "axs[4].set_title('NDVI boxplot')\n",
    "axs[4].set_ylim(0,1)\n",
    "\n",
    "plt.show()"
   ]
  },
  {
   "cell_type": "code",
   "execution_count": null,
   "metadata": {
    "hidden": true,
    "id": "DVSWky8SrAgL"
   },
   "outputs": [],
   "source": [
    "# Primer camino para obtener pixeles de imagen dentro de una region rectangular\n",
    "prueba = img_ndvi.sampleRectangle(region=predios_agricolas, defaultValue=0)\n",
    "prueba.get('B5').getInfo()#.get('NDVI')\n",
    "\n",
    "array = np.array(prueba.get('B5').getInfo())\n",
    "# array\n",
    "\n",
    "# plt.imshow(array)\n",
    "# plt.show()\n",
    "\n",
    "# Reducir a 1 dimension \n",
    "lista_prueba = array.flatten('C').tolist() # https://www.javatpoint.com/numpy-flatten\n",
    "\n",
    "# Elaborar boxplot:\n",
    "# https://matplotlib.org/stable/api/_as_gen/matplotlib.pyplot.boxplot.html\n",
    "\n",
    "plt.boxplot(lista_prueba);"
   ]
  },
  {
   "cell_type": "markdown",
   "metadata": {
    "id": "vK3O-V6IlFmU"
   },
   "source": [
    "#### Evaluando parámetros de Radiación Neta\n"
   ]
  },
  {
   "cell_type": "markdown",
   "metadata": {
    "heading_collapsed": true,
    "id": "GbkkKf6p3Tgn"
   },
   "source": [
    "##### Radiación Neta"
   ]
  },
  {
   "cell_type": "code",
   "execution_count": null,
   "metadata": {
    "hidden": true,
    "id": "TToM9Gdb1UZb",
    "outputId": "37c76d2f-8bb3-4fab-ec0f-17d85cbf636f"
   },
   "outputs": [],
   "source": [
    "# ['R_l_in', 'R_l_out', 'R_n', 'R_s_in']\n",
    "R_n_stats_df['R_n']"
   ]
  },
  {
   "cell_type": "code",
   "execution_count": null,
   "metadata": {
    "hidden": true,
    "id": "IMnyDzeb3w-k",
    "outputId": "f355b4d7-d798-4317-e17e-64d0138e6a26"
   },
   "outputs": [],
   "source": [
    "# Visualización cartoee\n",
    "vis_params_R_n = {'min': R_n_stats['min']['R_n'],\n",
    "                  'max': R_n_stats['max']['R_n'], \n",
    "                  'palette': cmp.get_palette('RdYlGn_r')}\n",
    "\n",
    "image = R_n.select('R_n').clip(predios_agricolas).blend(predios_vis)\n",
    "vis_params = vis_params_R_n\n",
    "title_map = f'R_n\\n{img_date_format1}' # dd-mm-YYYY\n",
    "label = '$[\\; W/m^2 \\;]$'\n",
    "\n",
    "get_grafica_cartoee_color(image, vis_params, title_map, label, save_fig=None)"
   ]
  },
  {
   "cell_type": "code",
   "execution_count": null,
   "metadata": {
    "hidden": true,
    "id": "WbfszpTx0EnW"
   },
   "outputs": [],
   "source": [
    "# Visualización geemap\n",
    "Map = geemap.Map()#height='800px') \n",
    "Map.centerObject(predios_bound, 16)\n",
    "\n",
    "Map.addLayer(img_toa.clip(predios_bound), vis_rgb, 'RGB TOA')\n",
    "Map.addLayer(image, vis_params_R_n, title_map) \n",
    "\n",
    "Map.add_colorbar(vis_params_R_n, label=label, orientation=\"vertical\")\n",
    "\n",
    "Map"
   ]
  },
  {
   "cell_type": "code",
   "execution_count": null,
   "metadata": {
    "hidden": true,
    "id": "LfG2OiDvwj5g"
   },
   "outputs": [],
   "source": [
    "# El exportar requiere una escala -> No es posible descargar tal como está \n",
    "# (el valor 10 se asemeja al mapa realizado pero no es el mismo)\n",
    "# geemap.ee_export_image(\n",
    "#     R_n, filename='R_n_10.tif', scale=10, region=predios_agricolas.geometry()\n",
    "# )"
   ]
  },
  {
   "cell_type": "markdown",
   "metadata": {
    "heading_collapsed": true,
    "id": "IHEZtE9ylTJy"
   },
   "source": [
    "##### Albedo"
   ]
  },
  {
   "cell_type": "markdown",
   "metadata": {
    "hidden": true,
    "id": "W4WGSUm2ViV3"
   },
   "source": [
    "Según Hiroguchi, Ikuo (1992), los valores típicos de albedo superficial para campos de arroz es de 0.17 - 0.22."
   ]
  },
  {
   "cell_type": "code",
   "execution_count": 83,
   "metadata": {
    "hidden": true,
    "id": "hiXxTP9QOcMW",
    "outputId": "b7c888df-f376-42a4-9296-49de8828e086"
   },
   "outputs": [
    {
     "data": {
      "text/plain": [
       "max       0.210209\n",
       "mean      0.156955\n",
       "median    0.163518\n",
       "min       0.038788\n",
       "mode      0.163518\n",
       "stdDev    0.030689\n",
       "Name: albedo, dtype: float64"
      ]
     },
     "execution_count": 83,
     "metadata": {},
     "output_type": "execute_result"
    }
   ],
   "source": [
    "img_prod_stats_df['albedo']"
   ]
  },
  {
   "cell_type": "code",
   "execution_count": 86,
   "metadata": {
    "hidden": true,
    "id": "HVlUuTXi08BU"
   },
   "outputs": [
    {
     "data": {
      "image/png": "[encoded data removed]",
      "text/plain": [
       "<Figure size 576x432 with 2 Axes>"
      ]
     },
     "metadata": {
      "needs_background": "light"
     },
     "output_type": "display_data"
    }
   ],
   "source": [
    "# Visualización\n",
    "vis_params_alb = {'min': 0,#,float(img_prod_stats['min']['albedo']), \n",
    "                  'max': 0.25,#,float(img_prod_stats['max']['albedo']), \n",
    "                  'palette': cmp.get_palette('afmhot')} # RdYlGn_r, afmhot\n",
    "\n",
    "image_alb = img_productos.select('albedo').clip(predios_agricolas).blend(predios_vis)\n",
    "# image = image.updateMask(image.lte(0.22).And(image.gt(0.17)))\n",
    "\n",
    "vis_params = vis_params_alb\n",
    "title_map = f'Albedo\\n{img_date_format1}'\n",
    "label = '$[\\; W/m^2 \\;]$'\n",
    "\n",
    "get_grafica_cartoee_color(image_alb, vis_params, text=title_map, label=label, save_fig=None)"
   ]
  },
  {
   "cell_type": "code",
   "execution_count": 87,
   "metadata": {
    "hidden": true,
    "id": "oj2a3646mcAL"
   },
   "outputs": [
    {
     "data": {
      "application/vnd.jupyter.widget-view+json": {
       "model_id": "8dfd854c77b2431ea2d6dc46859262ac",
       "version_major": 2,
       "version_minor": 0
      },
      "text/plain": [
       "Map(center=[-6.600107155901065, -79.78025931943186], controls=(WidgetControl(options=['position', 'transparent…"
      ]
     },
     "metadata": {},
     "output_type": "display_data"
    }
   ],
   "source": [
    "# geemap\n",
    "Map = geemap.Map()\n",
    "Map.centerObject(predios_bound, 16)\n",
    "\n",
    "Map.addLayer(img_toa.clip(predios_bound), vis_rgb, 'RGB TOA')\n",
    "Map.addLayer(image_alb, vis_params_alb , 'img_albedo') \n",
    "\n",
    "Map.add_colorbar(vis_params_alb, label=\"Albedo [-]\", orientation=\"vertical\")\n",
    "\n",
    "Map"
   ]
  },
  {
   "cell_type": "markdown",
   "metadata": {
    "id": "tml03El_oKa6"
   },
   "source": [
    "##### Temperatura Superficial (Tasumi, 2003)"
   ]
  },
  {
   "cell_type": "code",
   "execution_count": null,
   "metadata": {
    "id": "mSyO7k-C4Cb_",
    "outputId": "95bc55c8-3ab9-42b0-f572-ed93832e68eb",
    "scrolled": true
   },
   "outputs": [],
   "source": [
    "print(f'Fecha: {img_date_format1}')\n",
    "img_prod_stats_df['Ts_c']"
   ]
  },
  {
   "cell_type": "code",
   "execution_count": null,
   "metadata": {
    "id": "ocx1udYgCBMM",
    "outputId": "e2b8e680-9b9c-4873-e4c6-5679886f4819"
   },
   "outputs": [],
   "source": [
    "# Visualización\n",
    "vis_params_ts = {'min': img_prod_stats['min']['Ts_c'],\n",
    "                 'max': img_prod_stats['max']['Ts_c'],\n",
    "                 'palette': cmp.get_palette('RdYlBu_r')}\n",
    "\n",
    "image = img_Ts_c.clip(predios_agricolas).blend(predios_vis)\n",
    "vis_params = vis_params_ts\n",
    "title_map = f'T_s\\n{img_date_format1}'\n",
    "label = '$[\\; °C \\;]$'\n",
    "\n",
    "get_grafica_cartoee_color(image, vis_params, text=title_map, label=label, save_fig=None)"
   ]
  },
  {
   "cell_type": "code",
   "execution_count": null,
   "metadata": {
    "id": "XECkrd3OoOdp"
   },
   "outputs": [],
   "source": [
    "# Visualización\n",
    "Map = geemap.Map()\n",
    "Map.centerObject(predios_bound, 16)\n",
    "\n",
    "Map.addLayer(img_toa.clip(predios_bound), vis_rgb, 'RGB TOA')\n",
    "Map.addLayer(image, vis_params_ts, title_map) \n",
    "\n",
    "Map.add_colorbar(vis_params_ts, label='Ts [°C]', orientation=\"vertical\")\n",
    "Map"
   ]
  },
  {
   "cell_type": "markdown",
   "metadata": {
    "heading_collapsed": true,
    "id": "m5aDAmI4byWN"
   },
   "source": [
    "###### Comparativa entre productos TOA y SR"
   ]
  },
  {
   "cell_type": "markdown",
   "metadata": {
    "hidden": true
   },
   "source": [
    "**Brightness Temperature - Landsat 9 T1_TOA**"
   ]
  },
  {
   "cell_type": "code",
   "execution_count": null,
   "metadata": {
    "hidden": true,
    "id": "k4cOtEjgxDei"
   },
   "outputs": [],
   "source": [
    "# Landsat 9 T1_TOA\n",
    "img_ee = (\n",
    "    ee.Image('LANDSAT/LC09/C02/T1_TOA/LC09_010065_20220113')\n",
    "    .clip(predios_bound)\n",
    "    .select('B10')\n",
    "    .subtract(273.15) # en °C\n",
    ")\n",
    "\n",
    "stats = get_stats(img_ee, predios_agricolas, 30)\n",
    "display(stats)"
   ]
  },
  {
   "cell_type": "code",
   "execution_count": null,
   "metadata": {
    "hidden": true,
    "id": "dRvpYAsCYRVn"
   },
   "outputs": [],
   "source": [
    "vis_rgb_toa = {\n",
    "    'min':stats['min']['B10'],\n",
    "    'max':stats['max']['B10'],\n",
    "    'palette':cmp.get_palette('RdYlBu_r')\n",
    "}\n",
    "\n",
    "img = img_ee.clip(predios_agricolas).blend(predios_vis)\n",
    "\n",
    "Map = geemap.Map()\n",
    "Map.centerObject(img_ee, 16)\n",
    "Map.addLayer(img, vis_rgb_toa, 'img_toa')\n",
    "Map.add_colorbar(vis_rgb_toa, label='[°C]', orientation=\"vertical\")\n",
    "Map"
   ]
  },
  {
   "cell_type": "markdown",
   "metadata": {
    "hidden": true,
    "id": "sHwI3CO9hylf"
   },
   "source": [
    "**Surface Temperature - Landsat 9 T1_L2**"
   ]
  },
  {
   "cell_type": "code",
   "execution_count": null,
   "metadata": {
    "hidden": true,
    "id": "6yEInFXQxE9Z"
   },
   "outputs": [],
   "source": [
    "img_ee = (\n",
    "    ee.Image('LANDSAT/LC09/C02/T1_L2/LC09_010065_20220113')\n",
    "    .clip(predios_bound)\n",
    "    .select('ST_B10')\n",
    "    .multiply(0.00341802).add(149.0)\n",
    "    .subtract(273.15) # en °C\n",
    ")\n",
    "\n",
    "stats = get_stats(img_ee, predios_agricolas, 30)\n",
    "display(stats)"
   ]
  },
  {
   "cell_type": "code",
   "execution_count": null,
   "metadata": {
    "hidden": true,
    "id": "dFcooNkUhFAX"
   },
   "outputs": [],
   "source": [
    "vis_rgb_SR = {\n",
    "    'min':stats['min']['ST_B10'],\n",
    "    'max':stats['max']['ST_B10'],\n",
    "    'palette':cmp.get_palette('RdYlBu_r')\n",
    "}\n",
    "\n",
    "image = img_ee.clip(predios_agricolas).blend(predios_vis)\n",
    "\n",
    "Map = geemap.Map()\n",
    "Map.centerObject(img_ee, 16)\n",
    "Map.addLayer(image, vis_rgb_SR, 'img_L9_SR')\n",
    "Map.add_colorbar(vis_rgb_SR, label='[°C]', orientation=\"vertical\")\n",
    "Map"
   ]
  },
  {
   "cell_type": "markdown",
   "metadata": {
    "heading_collapsed": true,
    "id": "nrEDl6LmhE1_"
   },
   "source": [
    "##### e_NB, e_0"
   ]
  },
  {
   "cell_type": "markdown",
   "metadata": {
    "hidden": true
   },
   "source": [
    "**Narrow band transmissivity e_NB**: representing the surface emissivity within the band range of the satellite thermal sensor.\n",
    "- Requerido para: Outgoing long-wave radiation\n",
    "    \n",
    "**Broad-band surface emissivity e_0** \n",
    "- Requerido para: Surface Temperature (Ts)"
   ]
  },
  {
   "cell_type": "code",
   "execution_count": null,
   "metadata": {
    "hidden": true,
    "id": "uN1v5UeRpasw",
    "scrolled": true
   },
   "outputs": [],
   "source": [
    "image_ee = ee.Image('LANDSAT/LC09/C02/T1/LC09_010065_20220113') # 13-01-2022\n",
    "img_toa = convert_RAW_to_TOA(image_ee).clip(predios_agricolas)\n",
    "\n",
    "img_ndvi = get_ndvi_L8(img_toa)\n",
    "ndvi_stats = get_stats(img_ndvi, predios_agricolas, 30)\n",
    "\n",
    "img_savi = get_savi_L8(img_toa)\n",
    "savi_stats = get_stats(img_savi, predios_agricolas, 30)\n",
    "\n",
    "img_lai = get_lai_L8(img_savi)\n",
    "lai_stats = get_stats(img_lai, predios_agricolas, 30)\n",
    "\n",
    "display(ndvi_stats) # OJO: valores negativos en fecha 01_13\n",
    "display(savi_stats)\n",
    "display(lai_stats)"
   ]
  },
  {
   "cell_type": "code",
   "execution_count": null,
   "metadata": {
    "hidden": true,
    "id": "PkniIl7rpFdA"
   },
   "outputs": [],
   "source": [
    "ndvi_cmap = ['0048fb', 'ffffff', 'ce7e45', 'fad163', '74a909', '3a7405', '1a3b03'] # -0.2 - 1\n",
    "\n",
    "vis_ndvi = {'min': -0.2,\n",
    "            'max': 1,\n",
    "            'palette': ndvi_cmap} #cmp.palettes.afmhot\n",
    "\n",
    "vis_lai = {'min':lai_stats['min']['LAI'],\n",
    "           'max':lai_stats['max']['LAI'],\n",
    "           'palette':cmp.get_palette('terrain')}\n",
    "\n",
    "Map = geemap.Map()\n",
    "Map.centerObject(predios_bound, 16)\n",
    "\n",
    "Map.addLayer(img_toa, vis_rgb, 'RGB TOA')\n",
    "Map.addLayer(img_ndvi, vis_ndvi, 'NDVI')\n",
    "# Map.addLayer(img_lai, vis_lai, 'LAI')\n",
    "\n",
    "Map"
   ]
  },
  {
   "cell_type": "code",
   "execution_count": null,
   "metadata": {
    "hidden": true,
    "id": "VDgidsdW8z3Z"
   },
   "outputs": [],
   "source": [
    "# e_0 : Surface emissivity is computed using an empirical equation by Tasumi (2003) based on soil and vegetative\n",
    "# thermal spectral emissivities housed in the MODIS UCSB Emissivity Library (2004)\n",
    "e_0 = img_lai.expression( '0.95 + 0.01*LAI', {'LAI':img_lai}).rename('e_0') # LAI <= 3 y NDVI > 0\n",
    "\n",
    "e_0 = e_0.where(img_ndvi.lt(0), 0.985) # NDVI < 0\n",
    "e_0 = e_0.where(img_lai.gt(3), 0.98).rename('e_0') # LAI > 3; NDVI > 0\n",
    "\n",
    "e_0_stats_dict = get_stats(e_0, predios_agricolas, 30)\n",
    "e_0_stats_df = pd.DataFrame.from_dict(e_0_stats_dict, orient='index').round(3)\n",
    "display(e_0_stats_df)\n",
    "\n",
    "# e_NB\n",
    "e_NB = img_lai.expression('0.97 + 0.0033*LAI', {'LAI':img_lai}).rename('e_NB') # LAI <= 3 y NDVI > 0\n",
    "\n",
    "e_NB = e_NB.where(img_ndvi.lt(0), 0.985) # NDVI < 0\n",
    "e_NB = e_NB.where(img_lai.gt(3).And(img_ndvi.gt(0)), 0.98) # LAI > 3; NDVI > 0\n",
    "\n",
    "e_NB_stats_dict = get_stats(e_NB, predios_agricolas, 30)\n",
    "e_NB_stats_df = pd.DataFrame.from_dict(e_NB_stats_dict, orient='index').round(3)\n",
    "display(e_NB_stats_df)"
   ]
  },
  {
   "cell_type": "code",
   "execution_count": null,
   "metadata": {
    "hidden": true,
    "id": "WAqVqRvC4Y-e"
   },
   "outputs": [],
   "source": [
    "# Verificación \n",
    "img_s2_01_11 = ee.Image('COPERNICUS/S2_SR/20220111T153621_20220111T154058_T17MPN').multiply(0.0001).clip(predios_bound)\n",
    "img_s2_01_16 = ee.Image('COPERNICUS/S2_SR/20220116T153619_20220116T153730_T17MPN').multiply(0.0001).clip(predios_bound)\n",
    "# Nota: El día 01_13 se registra valores negativos de NDVI -> \n",
    "# Pudo haber riego ya que en la imagen img_s2_01_16 se logra ver rastros "
   ]
  },
  {
   "cell_type": "markdown",
   "metadata": {
    "hidden": true
   },
   "source": [
    "**Broad-band surface emissivity e_0** "
   ]
  },
  {
   "cell_type": "code",
   "execution_count": null,
   "metadata": {
    "hidden": true,
    "id": "nQ9fNAP0v1f6"
   },
   "outputs": [],
   "source": [
    "vis_e_0 = {'min': e_0_stats_dict['min']['e_0'],\n",
    "           'max': e_0_stats_dict['max']['e_0'],\n",
    "           'palette':cmp.get_palette('binary')}\n",
    "\n",
    "Map = geemap.Map()\n",
    "Map.centerObject(predios_bound, 16)\n",
    "\n",
    "Map.addLayer(img_toa, vis_rgb, 'RGB TOA')\n",
    "Map.addLayer(img_s2_01_11, vis_rgb, 'img_s2_01_11')\n",
    "Map.addLayer(img_s2_01_16, vis_rgb, 'img_s2_01_16')\n",
    "\n",
    "Map.addLayer(e_0, vis_e_0, 'e_0')\n",
    "Map.add_colorbar(vis_e_0, label='[-]', orientation=\"vertical\")\n",
    "Map"
   ]
  },
  {
   "cell_type": "markdown",
   "metadata": {
    "hidden": true
   },
   "source": [
    "**Narrow band transmissivity e_NB**"
   ]
  },
  {
   "cell_type": "code",
   "execution_count": null,
   "metadata": {
    "hidden": true,
    "id": "T5t6y1PLdogf"
   },
   "outputs": [],
   "source": [
    "e_NB_stats_df['e_NB']"
   ]
  },
  {
   "cell_type": "code",
   "execution_count": null,
   "metadata": {
    "hidden": true,
    "id": "vNQI35JUeM-m",
    "scrolled": false
   },
   "outputs": [],
   "source": [
    "# Visualización\n",
    "vis_params_e_nb = {'min': e_NB_stats_dict['min']['e_NB'],\n",
    "                   'max': e_NB_stats_dict['max']['e_NB'],\n",
    "                   'palette': cmp.get_palette('binary')}\n",
    "\n",
    "image = img_productos.select('e_NB').clip(predios_agricolas)\n",
    "\n",
    "vis_params = vis_params_e_nb\n",
    "title_map = 'e_nb'\n",
    "label = '$[\\; - \\;]$'\n",
    "\n",
    "Map = geemap.Map()\n",
    "Map.centerObject(predios_bound, 16)\n",
    "\n",
    "Map.addLayer(img_toa.clip(predios_bound), vis_rgb, 'RGB TOA')\n",
    "Map.addLayer(e_NB, vis_params_e_nb, title_map) \n",
    "\n",
    "Map.add_colorbar(vis_params_e_nb, label=label, orientation=\"vertical\")\n",
    "\n",
    "Map"
   ]
  },
  {
   "cell_type": "markdown",
   "metadata": {
    "heading_collapsed": true,
    "id": "WaHUOkX5z3mS"
   },
   "source": [
    "##### NDVI"
   ]
  },
  {
   "cell_type": "code",
   "execution_count": null,
   "metadata": {
    "hidden": true,
    "id": "dbY3CujxkEFj",
    "outputId": "3e51130e-b1bf-4713-d2cc-2a8525561c91"
   },
   "outputs": [],
   "source": [
    "print(f'Fecha: {img_date_format1}')\n",
    "img_prod_stats_df['NDVI']"
   ]
  },
  {
   "cell_type": "code",
   "execution_count": null,
   "metadata": {
    "hidden": true
   },
   "outputs": [],
   "source": [
    "# Visualización\n",
    "ndvi_cmap = ['0048fb', 'ffffff', 'ce7e45', 'fad163', '74a909', '3a7405', '1a3b03'] # -0.2 - 1\n",
    "\n",
    "vis_params_ndvi = {'min': -0.2, \n",
    "                   'max': 1, \n",
    "                   'palette': ndvi_cmap}\n",
    "\n",
    "image = img_ndvi.clip(predios_agricolas)\n",
    "\n",
    "if img_prod_stats['min']['NDVI'] < 0:\n",
    "  # image = image.where(image.lte(0), 0) # Asignar valor 0 a negativos\n",
    "  image = image.updateMask(image.gt(0)) # Eliminar pixeles negativos y mantener positivos\n",
    "    \n",
    "vis_params = vis_params_ndvi\n",
    "title_map = f'NDVI\\n{img_date_format1}'\n",
    "label = '$[\\; - \\;]$'\n",
    "\n",
    "get_grafica_cartoee_color(image, vis_params, text=title_map, label=label)"
   ]
  },
  {
   "cell_type": "code",
   "execution_count": null,
   "metadata": {
    "hidden": true,
    "id": "Uo-GkEXkz3mT"
   },
   "outputs": [],
   "source": [
    "# Visualización\n",
    "Map = geemap.Map()\n",
    "Map.centerObject(predios_bound, 16)\n",
    "\n",
    "Map.addLayer(img_toa.clip(predios_bound), vis_rgb, 'RGB TOA')\n",
    "Map.addLayer(image, vis_params_ndvi, title_map) \n",
    "\n",
    "Map.add_colorbar(vis_params_ndvi, label= 'NDVI [-]', orientation= 'vertical')\n",
    "\n",
    "Map"
   ]
  },
  {
   "cell_type": "markdown",
   "metadata": {
    "id": "GdZ4SrwrnpXn"
   },
   "source": [
    "##### Área Foliar / LAI"
   ]
  },
  {
   "cell_type": "markdown",
   "metadata": {},
   "source": [
    "Los valores típicos de albedo para arroz se encuentran en el manual SEBAL 2002.\n",
    "\n",
    "Arroz: 0.17 - 0.22"
   ]
  },
  {
   "cell_type": "markdown",
   "metadata": {
    "heading_collapsed": true
   },
   "source": [
    "###### **LAI a partir de NDVI con medición en campo**"
   ]
  },
  {
   "cell_type": "markdown",
   "metadata": {
    "hidden": true
   },
   "source": [
    "La relación NDVI-LAI se ha agregado a la función ``getRadiacionNeta(img_ee, roi, dem)``"
   ]
  },
  {
   "cell_type": "code",
   "execution_count": null,
   "metadata": {
    "hidden": true
   },
   "outputs": [],
   "source": [
    "# get_stats(img_ndvi, predios_agricolas, 30)\n",
    "\n",
    "# # LAI a partir de NDVI: IAF = 2.1362*NDVI + 0.0869\n",
    "# img_LAI_eq = img_ndvi.multiply(2.1362).add(0.0869).rename('LAI')\n",
    "\n",
    "# img_LAI_stats = get_stats(img_LAI_eq, predios_agricolas, 30)\n",
    "# img_LAI_stats"
   ]
  },
  {
   "cell_type": "markdown",
   "metadata": {
    "hidden": true
   },
   "source": [
    "---"
   ]
  },
  {
   "cell_type": "code",
   "execution_count": null,
   "metadata": {
    "hidden": true
   },
   "outputs": [],
   "source": [
    "print(f'Fecha: {img_date_format1}')\n",
    "img_prod_stats_df['LAI']"
   ]
  },
  {
   "cell_type": "code",
   "execution_count": null,
   "metadata": {
    "hidden": true,
    "scrolled": false
   },
   "outputs": [],
   "source": [
    "# Visualización\n",
    "\n",
    "vis_params_lai = {'min': img_prod_stats['min']['LAI'],\n",
    "                  'max': img_prod_stats['max']['LAI'], \n",
    "                  'palette': cmp.get_palette('YlGn')} # cmp.get_palette('RdYlGn')\n",
    "\n",
    "image = img_lai.clip(predios_agricolas)\n",
    "title_map = f'LAI\\n{img_date_format1}'\n",
    "label = '$[\\; - \\;]$'\n",
    "\n",
    "get_grafica_cartoee_color(image, vis_params_lai, text=title_map, label=label)"
   ]
  },
  {
   "cell_type": "code",
   "execution_count": null,
   "metadata": {
    "hidden": true
   },
   "outputs": [],
   "source": [
    "# Visualización\n",
    "Map = geemap.Map()\n",
    "Map.centerObject(predios_bound, 16)\n",
    "\n",
    "# Map.addLayer(img_toa.clip(predios_bound), vis_rgb, 'RGB TOA')\n",
    "Map.addLayer(image, vis_params_lai, 'LAI') \n",
    "\n",
    "Map.add_colorbar(vis_params_lai, label= 'LAI [-]', orientation= 'vertical')\n",
    "\n",
    "Map"
   ]
  },
  {
   "cell_type": "markdown",
   "metadata": {
    "heading_collapsed": true
   },
   "source": [
    "###### LAI mediante fórmula en artículo METRIC"
   ]
  },
  {
   "cell_type": "code",
   "execution_count": null,
   "metadata": {
    "hidden": true
   },
   "outputs": [],
   "source": [
    "# Incorporar la siguiente expresión\n",
    "# savi = image_toa.expression(\n",
    "#     '(nir - red) / (nir + red + L) * (1+L)',\n",
    "#     {'red' : image_toa.select('B4'),\n",
    "#     'nir' : image_toa.select('B5'),\n",
    "#     'L'   : ee.Number(0.5)}\n",
    "#     ).rename('SAVI')\n",
    "    \n",
    "# lai = image_savi.expression(\n",
    "#     '- (log((0.69 - savi)/0.59))/(0.91)',\n",
    "#     {'savi' : image_savi.where(image_savi.gt(0.689), 0.689)} # Evitar huecos\n",
    "#     ).rename('LAI')\n",
    "\n",
    "# Índices de vegetación (eq. 23, 19 y 18)\n",
    "img_ndvi = get_ndvi_L8(img_toa)\n",
    "    \n",
    "# Obtener LAI 1: mediante SAVI\n",
    "img_savi = get_savi_L8(img_toa)\n",
    "img_lai  = get_lai_L8(img_savi)"
   ]
  },
  {
   "cell_type": "code",
   "execution_count": null,
   "metadata": {
    "hidden": true,
    "id": "Dfg-IBJfkX1h",
    "outputId": "8ebd531f-828d-42a0-d487-0c8132afde60",
    "scrolled": true
   },
   "outputs": [],
   "source": [
    "# print(f'Fecha: {img_date_format1}')\n",
    "# img_prod_stats_df['LAI']"
   ]
  },
  {
   "cell_type": "code",
   "execution_count": null,
   "metadata": {
    "hidden": true,
    "id": "mXOeVvgfDscL",
    "outputId": "82fc087e-775c-4540-be06-dba3648bb931"
   },
   "outputs": [],
   "source": [
    "# # Visualización\n",
    "# vis_params_lai = {'min': -0.2, \n",
    "#                   'max': img_prod_stats['max']['LAI'], \n",
    "#                   'palette': ndvi_cmap} # cmp.get_palette('RdYlGn')\n",
    "\n",
    "# image = img_lai.clip(predios_agricolas).blend(predios_vis)#.updateMask(img_lai.gt(0.5))\n",
    "\n",
    "# # Para obtener G con la equación empírica de Tasumi es necesario el mapa de LAI\n",
    "# # Para: \n",
    "# #     LAI < 0.5 : G = 1.8*(Ts_K - 273.15) + 0.084*Rn\n",
    "# #     LAI >= 0.5 : G = 0.05*Rn + 0.18*exp() \n",
    "\n",
    "# # if img_prod_stats['LAI']['min'] < 0:\n",
    "#   # image = image.where(image.lte(0), 0) # Asignar valor 0 a negativos\n",
    "#   # image = image.updateMask(image.gt(0)) # Eliminar pixeles negativos y mantener positivos\n",
    "\n",
    "# vis_params = vis_params_lai\n",
    "# title_map = f'LAI\\n{img_date_format1}'\n",
    "# label = '$[\\; - \\;]$'\n",
    "\n",
    "# get_grafica_cartoee_color(image, vis_params, text=title_map, label=label)"
   ]
  },
  {
   "cell_type": "code",
   "execution_count": null,
   "metadata": {
    "hidden": true
   },
   "outputs": [],
   "source": [
    "# # Visualización\n",
    "# # vis_params_lai = {'min': -0.2, \n",
    "# #                   'max': 2,#img_prod_stats['max']['LAI'], \n",
    "# #                   'palette': cmp.get_palette('YlGn')} # cmp.get_palette('RdYlGn')\n",
    "\n",
    "# vis_params_lai = {'min': img_prod_stats['min']['LAI'],  \n",
    "#                   'max': img_prod_stats['max']['LAI'], \n",
    "#                   'palette': cmp.get_palette('YlGn')} # cmp.get_palette('RdYlGn')\n",
    "\n",
    "# image = img_lai.clip(predios_agricolas).blend(predios_vis)\n",
    "\n",
    "# vis_params = vis_params_lai\n",
    "# title_map = f'LAI\\n{img_date_format1}'\n",
    "# label = '$[\\; - \\;]$'\n",
    "\n",
    "# get_grafica_cartoee_color(image, vis_params, text=title_map, label=label)"
   ]
  },
  {
   "cell_type": "code",
   "execution_count": null,
   "metadata": {
    "hidden": true,
    "id": "2oK1tfuVnpXo"
   },
   "outputs": [],
   "source": [
    "# # Visualización\n",
    "# Map = geemap.Map()\n",
    "# Map.centerObject(predios_bound, 16)\n",
    "\n",
    "# Map.addLayer(img_toa.clip(predios_bound), vis_rgb, 'RGB TOA')\n",
    "# Map.addLayer(image, vis_params_lai, 'LAI') \n",
    "\n",
    "# Map.add_colorbar(vis_params_lai, label=\"LAI [-]\", orientation=\"vertical\")\n",
    "\n",
    "# Map"
   ]
  },
  {
   "cell_type": "markdown",
   "metadata": {
    "heading_collapsed": true
   },
   "source": [
    "###### **LAI para Idaho (Manual METRIC)**"
   ]
  },
  {
   "cell_type": "code",
   "execution_count": null,
   "metadata": {
    "hidden": true
   },
   "outputs": [],
   "source": [
    "img_LAI_manual = img_savi.clip(predios_agricolas).pow(3).multiply(11).where(img_savi.gt(0.817), 6).rename('LAI')\n",
    "\n",
    "img_LAI_manual_stats = get_stats(img_LAI_manual, predios_agricolas, 30)\n",
    "img_LAI_manual_stats"
   ]
  },
  {
   "cell_type": "code",
   "execution_count": null,
   "metadata": {
    "hidden": true
   },
   "outputs": [],
   "source": [
    "# Visualización\n",
    "vis_params = {'min': img_LAI_manual_stats['min']['LAI'],\n",
    "              'max': img_LAI_manual_stats['max']['LAI'],\n",
    "              'palette': ndvi_cmap}#cmp.get_palette('YlGn')}\n",
    "\n",
    "title_map = f'LAI\\n{img_date_format1}'\n",
    "label = '$[\\; - \\;]$'\n",
    "\n",
    "get_grafica_cartoee_color(img_LAI_manual.blend(predios_vis), vis_params, text=title_map, label=label)"
   ]
  },
  {
   "cell_type": "code",
   "execution_count": null,
   "metadata": {
    "hidden": true
   },
   "outputs": [],
   "source": [
    "# Visualización\n",
    "vis_params = {'min': img_LAI_manual_stats['min']['LAI'],\n",
    "              'max': img_LAI_manual_stats['max']['LAI'],\n",
    "              'palette': cmp.get_palette('YlGn')}\n",
    "\n",
    "Map = geemap.Map()\n",
    "Map.centerObject(predios_bound, 16)\n",
    "\n",
    "Map.addLayer(img_toa.clip(predios_bound), vis_rgb, 'RGB TOA')\n",
    "Map.addLayer(img_LAI_manual, vis_params, 'LAI') \n",
    "\n",
    "Map.add_colorbar(vis_params, label= 'LAI [-]', orientation= 'vertical')\n",
    "\n",
    "Map"
   ]
  },
  {
   "cell_type": "markdown",
   "metadata": {
    "heading_collapsed": true,
    "id": "QesHc_-BNQjo"
   },
   "source": [
    "### Flujo de calor del suelo / Soil Heat Flux $G$"
   ]
  },
  {
   "cell_type": "markdown",
   "metadata": {
    "heading_collapsed": true,
    "hidden": true,
    "id": "CfwHgfrvp_2l"
   },
   "source": [
    "#### Desarrollo"
   ]
  },
  {
   "cell_type": "markdown",
   "metadata": {
    "hidden": true,
    "id": "Awz4khj7lcGx"
   },
   "source": [
    "Flujo de calor del suelo $G$\n",
    "\n",
    "$$\n",
    "\\frac{G}{R_n} = ( T_s - 273.15 ) (0.0038 + 0.0074 \\alpha ) (1-0.98 \\; \\text{NDVI}^4) \\; \\; \\; \\; \\text{(26)}\n",
    "$$\n",
    "\n",
    "Where:\n",
    "- $T_s$ : surface temperature (K)\n",
    "- $\\alpha$ : surface albedo"
   ]
  },
  {
   "cell_type": "code",
   "execution_count": null,
   "metadata": {
    "hidden": true
   },
   "outputs": [],
   "source": [
    "# Obtener G/R_n\n",
    "\n",
    "# Forma 1: Usando expression\n",
    "G_Rn = img_Ts_K.expression(\n",
    "        '(Ts_K - 273.15)*(0.0038 + 0.0074*albedo)*(1-0.98*NDVI**4)',\n",
    "        {'Ts_K': img_Ts_K,\n",
    "         'albedo': img_albedo,\n",
    "         'NDVI': img_ndvi}\n",
    "    ).rename('G_Rn').clip(predios_agricolas)\n",
    "\n",
    "# Forma 2: Usando métodos de forma lineal (menos comprensible)\n",
    "# G_R_n = (\n",
    "#     img_Ts_c # Ts - 273.15\n",
    "#     .multiply(img_albedo.multiply(0.0074).add(0.0038)) # albedo*0.0074 + 0.0038\n",
    "#     .multiply(img_ndvi.select('NDVI').pow(4).multiply(-0.98).add(1)) \n",
    "#     .rename('G_R_n').clip(predios_agricolas)\n",
    "# ) # img_Ts_c = img_Ts_k.subtract(273.15)\n",
    "\n",
    "\n",
    "# Rangos de G/R_n\n",
    "G_Rn_minmax = G_Rn.reduceRegion(ee.Reducer.minMax(),\n",
    "                                geometry=predios_agricolas,\n",
    "                                scale=30).values().reverse().getInfo()\n",
    "print(f'G_Rn_minmax: {G_Rn_minmax}')\n",
    "\n",
    "\n",
    "# Obtener G\n",
    "G = G_Rn.multiply(R_n.select('R_n')).rename('G')\n",
    "\n",
    "# Rangos de G\n",
    "G_minmax = G.reduceRegion(ee.Reducer.minMax(), scale=30).values().reverse().getInfo()\n",
    "print(f'G_minmax: {G_minmax[0]:.5f} W/m² - {G_minmax[1]:.5f} W/m²')"
   ]
  },
  {
   "cell_type": "code",
   "execution_count": null,
   "metadata": {
    "hidden": true,
    "scrolled": true
   },
   "outputs": [],
   "source": [
    "img_prod_stats_df['LAI']"
   ]
  },
  {
   "cell_type": "code",
   "execution_count": null,
   "metadata": {
    "hidden": true
   },
   "outputs": [],
   "source": [
    "# # Forma 2: Tasumi (2003) using soil heat flux data collected by Wright (1982), \n",
    "# # USDA-ARS for irrigated crops near Kimberly, Idaho\n",
    "\n",
    "# if pix_lai.getInfo() < 0.5:\n",
    "#     G_pix = ee.Number.expression(\n",
    "#         '1.8*(pix_ts-273.15)+0.084*R_n_calculated', # (pix_ts-273.15) cuando pix_ts es en Kelvin para obtener °C\n",
    "#         {'pix_ts':pix_ts,   # pix_ts está en K\n",
    "#          'R_n_calculated':R_n_calculated\n",
    "#          }\n",
    "#         )\n",
    "# else:\n",
    "#     G_pix = ee.Number.expression(\n",
    "#         '0.05 + 0.18*pix_lai*R_n_calculated',\n",
    "#         {'pix_lai':pix_lai.multiply(-0.521).exp(),\n",
    "#          'R_n_calculated':R_n_calculated\n",
    "#          }\n",
    "#         )"
   ]
  },
  {
   "cell_type": "code",
   "execution_count": null,
   "metadata": {
    "cellView": "form",
    "hidden": true,
    "id": "Qxl6GgOLnMBb",
    "scrolled": false
   },
   "outputs": [],
   "source": [
    "# Visualización: Flujo de calor del suelo G\n",
    "vis_rgb_tasumi = {'min': 0.0,\n",
    "                  'max': 0.3,\n",
    "                  'bands': ['B4_SR', 'B3_SR', 'B2_SR']}\n",
    "\n",
    "G_vis = {'min':G_minmax[0],\n",
    "         'max':G_minmax[1], \n",
    "         'palette': cmp.get_palette('RdYlGn_r')}\n",
    "\n",
    "\n",
    "Map = geemap.Map(layer_ctrl=True)#height='800px') \n",
    "Map.centerObject(predios_agricolas, 16)\n",
    "\n",
    "Map.addLayer(img_sr_tasumi.clip(predios_bound), vis_rgb_tasumi, 'RGB SR') \n",
    "\n",
    "Map.addLayer(G, G_vis, 'G') \n",
    "# Map.addLayer(G.updateMask(G.gt(0)), {'min':0, 'max': G_minmax[1], 'palette': cmp.get_palette('RdYlGn_r')}, 'G_gt0') \n",
    "\n",
    "Map.addLayer(empty, {}, 'Chongoyape')\n",
    "Map.addLayer(empty2, {}, 'Chongoyape_caja')\n",
    "\n",
    "Map"
   ]
  },
  {
   "cell_type": "markdown",
   "metadata": {
    "id": "bSAKu9ZTNUFQ"
   },
   "source": [
    "### Flujo de calor sensible / Sensible Heat Flux $H$"
   ]
  },
  {
   "cell_type": "markdown",
   "metadata": {
    "heading_collapsed": true,
    "id": "Tu10XDKxC2Rc"
   },
   "source": [
    "#### Descripción"
   ]
  },
  {
   "cell_type": "markdown",
   "metadata": {
    "hidden": true,
    "id": "m-06Hgq1b5SM"
   },
   "source": [
    "METRIC differs from previous applications of SEBAL principally in how the 'H function' is calibrated for each specific satellite image. In both METRIC and SEBAL, H (W m-2) is estimated from an aerodynamic function\n",
    "\n",
    "$$\n",
    "H = \\rho_{\\text{air}} C_p \\frac{dT}{ r_{\\text{ah}} } \n",
    "$$\n",
    "\n",
    "Where:\n",
    "- $\\rho_{\\text{air}}$ : air density (kg m-3)\n",
    "- $C_p$ : specific heat of air at constant pressure (J kg-1 K-1)\n",
    "- $r_{\\text{ah}}$ : aerodynamic resistance (s m-1) between two near surface heights, z1 and z2 (generally 0.1 and 2 m) computed as a function of estimated aerodynamic roughness of the particular pixel. \n",
    "\n",
    "In METRIC, the $r_{\\text{ah}}$ calculation **uses wind speed extrapolated from some blending height above the ground surface (typically 100 to 200 m) and an iterative stability correction scheme based on the Monin-Obhukov functions (Allen et al. 1996)**. The *dT* parameter (K) represents the near-surface temperature difference between z1 and z2. \n",
    "- *dT* is used because of the difficulty in estimating surface temperature ($T_s$) accurately from satellite due to uncertainty in atmospheric attenuation or contamination and radiometric calibration of the sensor. \n",
    "\n",
    "- In addition, $T_s$, as measured by satellite (i.e., radiometric or kinetic temperature) **can deviate from** the \"aerodynamic\" temperature that derives the heat transfer process by several degrees (Kustas et al. 1994; Norman et al. 1995; Qualls and Brutsaert 1996). \n",
    "> Además, la Ts , medida por satélite (es decir, la temperatura radiométrica o cinética) **puede desviarse de** la temperatura \"aerodinámica\" que deriva del proceso de transferencia de calor en varios grados (Kustas et al. 1994; Norman et al. 1995; Qualls y Brutsaert 1996).\n",
    "\n",
    "The temperature gradient *dT* is designed to \"float\" above the surface, beyond the height for sensible heat roughness ($z_{oh}$) and zero plane displacement, and can be approximated as a relatively simple linear function of $T_s$ as pioneered by Bastiaanssen (1995)\n",
    "\n",
    "$$\n",
    "dT = a + b \\; T_{s \\; \\text{datum}}\n",
    "$$\n",
    "\n",
    "where:\n",
    "\n",
    "- $a$ and $b$ : empirically determined constants for a given satellite image  \n",
    "- $T_{s \\; \\text{datum}}$ : surface temperature adjusted to a common elevation data for each image pixel using a digital elevation model and customized lapse rate. \n",
    "\n",
    "Bastiaanssen (1995) provided empirical evidence for using the linear relation between *dT* and $T_s$. Theoretically, assuming some essentially constant temperature at a blending height well above the surface, for example at 100-200 m, where temperature is nearly independent of $H$, and with all instability effects incorporated into $r_{\\text{ah}}$, Eq. (28) suggests that *dT* and thus, $T_s$, will be largely proportional to H for a fixed aerodynamic condition. Therefore, one can anticipate a segment of the temperature profile, represented by *dT*, to be proportional to both $H$ and to $T_s$. \n",
    "\n"
   ]
  },
  {
   "cell_type": "markdown",
   "metadata": {
    "hidden": true,
    "id": "2VZewBWqnC96"
   },
   "source": [
    "The application of Eq. (29) appears to extend well across a range of surface roughness, because as roughness increases and $r_{ah}$ decreases, *dT*, for the same value of $H$, decreases due to a more efficient transfer of $H$, and $T_s$ reduces for the same reason. \n",
    "\n",
    "The determination of a and b is described in a following section. \n",
    "\n",
    "The use of *dT* indexed to $T_s$ that does not rely on absolute values for $T_s$ substantially reduces error in the calculation of $H$. This approach constitutes on one of the pioneering components of the SEBAL model developed by Bastiaanssen (1995). \n",
    "\n",
    "The use of $T_{s \\; \\text{datum}}$ in Eq. (29) corrects for cooling impacts on $T_s$ due to increasing evaluation within an image that are not related to *dT* and sensible heat flux."
   ]
  },
  {
   "cell_type": "markdown",
   "metadata": {
    "hidden": true,
    "id": "vxnSiTHnqumr"
   },
   "source": [
    "**Aerodynamic Transport**\n",
    "\n",
    "The value for $r_{\\text{ah}}$ is **strongly influenced by** the buoyancy within the boundary layer **driven by** the rate of sensible heat flux. Because both $r_{\\text{ah}}$ and $H$ are unknown at each pixel, an iterative solution is required. \n",
    "\n",
    "During the first iteration, $r_{\\text{ah}}$ is computed assuming neutral stability\n",
    "\n",
    "$$\n",
    "r_{\\text{ah}} = \\frac{\\ln{(z_2/z_1)}}{{u*} \\; k} \\; \\; \\; \\; \\qquad (30)\n",
    "$$\n",
    "\n",
    "Where:\n",
    "- $z_1$ and $z_2$ : heights above the zero-plane displacement of the vegetation where the endpoints of *dT* are defined \n",
    "- $u*$ : friction velocity (m s-1) \n",
    "- $k$ : von Karman's constant **(0.41)**. \n",
    "\n",
    "Friction velocity $u*$ is computed during the first iteration using **the logarithmic wind law for neutral atmospheric conditions**\n",
    "\n",
    "$$\n",
    "u* = \\frac{ ku_{200} }{ \\ln{(200/z_{om})} } \\; \\; \\; \\; \\qquad (31)\n",
    "$$\n",
    "\n",
    "Where:\n",
    "- $u_{200}$ : wind speed (m s-1) at a blending height assumed to be 200 m, and\n",
    "- $z_{om}$ : momentum roughness length (m). $z_{om}$ is a measure of the form drag and skin friction for the layer of air that interacts with the surface.\n",
    "\n",
    "$u*$ is computed for each pixel inside the process model **using a specific roughness length for each pixel**, but with $u_{200}$ assumed to be constant over all pixels of the image since it is defined as occuring at a \"blending height\" unaffected by surface features. Eqs. (30) and (31) support the use of a temperature gradient defined between two heights that are both above the surface. This allows one to estimate $r_{\\text{ah}}$ without having to estimate a second aerodynamic roughness for sensible heat transfer ($z_{oh}$), since height $z_1$ is defined to be at an elevation above $z_{oh}$. This is an advantage because $z_{oh}$ can be difficult to estimate for sparse vegetation. \n",
    "\n"
   ]
  },
  {
   "cell_type": "markdown",
   "metadata": {
    "hidden": true,
    "id": "tgV47wc7Xbua"
   },
   "source": [
    "The wind speed at an assumed blending height (200 m) above the weather station, $u_{200}$, is calculated as\n",
    "\n",
    "$$\n",
    "u_{200} = \\frac{ u_w \\ln{(200/z_{omw})} }{ \\ln{(z_x/z_{omw})} } \\qquad (32)\n",
    "$$\n",
    "\n",
    "Where:\n",
    "- $u_w$ : wind speed measured at a weather station at $z_x$ height above the surface\n",
    "- $z_{omw}$ : the roughness length for the weather station surface, similar to Allen and Wright (1997).\n",
    "\n",
    "All units for $z$ are the same. The value for $u_{200}$ is assumed constant for the satellite image. This asumption allows for the use of a constant relation between *dT* and $T_s$.\n",
    "\n",
    "Tasumi et al. (2005b) showed ET as calculated by METRIC to be relatively insensitive to the value for $z_{om}$. In METRIC, the momentum roughness length $z_{om}$ **is estimated for each pixel according to land use type or amount of vegetation**. General landuse type is used where the variation in $z_{om}$ as a function of vegetation amount is not well established. General values are given in Brutsaert (1982) and Allen et al. (1996). In agricultural areas, $z_{om}$ and, in turn, crop height is generally proportional to the LAI, and is therefore calculated as a function of LAI for “short” agricultural crops (less than about 1 m in height) using a relationship from Tasumi (2003)\n",
    "\n",
    "$$\n",
    "z_{om} = 0.018 \\; \\text{LAI} \\qquad (33)\n",
    "$$\n",
    "\n",
    "where $z_{om}$ has units of m and LAI is dimensionless.\n",
    "\n",
    "A minimum value for $z_{om} = 0.005$ m represents roughness typical of bare agricultural soils. Eq. (33) tends to underestimate $z_{om}$ for corn which is typically 2 to 3 m in height (Tasumi 2003), and a different function would be required for vines and trees. Because of the difficulties in estimating $z_{om}$ from a general function of LAI for all vegetation types within an image, Bastiaanssen (2000) suggested customizing a function for $z_{om}$ based on NDVI that is developed for each satellite image \n",
    "\n",
    "$$\n",
    "z_{om} = \\exp{[( a_1 \\text{NDVI}) + b_1]} \\qquad (34a)\n",
    "$$\n",
    "\n",
    "or, as modified by Allen (2002)\n",
    "\n",
    "$$\n",
    "z_{om} = \\exp{[( a_1 \\text{NDVI}/\\alpha) + b_1]} \\qquad (34b)\n",
    "$$\n",
    "\n",
    "where\n",
    "- $a_1$ and $b_1$ : regression constants derived from a plot of $\\ln{(z_{om})}$ versus NDVI or $\\ln{(z_{om})}$ versus NDVI/$\\alpha$ for two or more conditions in the image representing specific vegetation types. \n",
    "\n",
    "Eqs. (34a) and (34b) must be fitted to local vegetation and conditions. Generally $\\alpha$ is lower for taller vegetation such as trees due to shading. Therefore, the use of albedo helps to distinguish between tall and short vegetation types that may have similar NDVI, but different albedo. Variations on Eqs. (34a) and (34b) can be explored by the user to improve the predictive accuracy, including use of other parameters.\n",
    "\n",
    "\n",
    "\n",
    "\n"
   ]
  },
  {
   "cell_type": "markdown",
   "metadata": {
    "hidden": true,
    "id": "eqgOOyXNpbnl"
   },
   "source": [
    "**The effects of mountainous terrain and elevation on wind speed** are complicated and difficult to quantify (Oke 1987). In METRIC, $z_{om}$ for image pixels in mountains is adjusted on a rudimentary basis to attempt to account for effects of general terrain roughness on momentum and heat transfer. \n",
    "\n",
    "An empirical adjustment is made by multiplying $z_{om}$, as calculated using Eqs. (33) and (34a) and (34b) or from general land classification, by a function determined locally in Idaho **using slope** as computed from a digital elevation model\n",
    "\n",
    "$$\n",
    "z_{om_min} = z_{om} \\left( 1 + \\frac{(180/\\pi)s - 5}{20} \\right) \\qquad (35)\n",
    "$$\n",
    "\n",
    "To further adjust the heat transfer equation for mountanious terrain, $u_{200}$ at mountainous image pixels is multiplied by a wind speed weighting coefficient ($\\omega$) before computing $u*$ and $r_{ah}$. $w$ is calculated as\n",
    "\n",
    "$$\n",
    "\\omega = 1+0.1 \\left( \\frac{\\text{Elevation} - \\text{Elevation}_{\\text{station}}}{1000} \\right) \\qquad (36)\n",
    "$$\n",
    "\n",
    "where:\n",
    "- $\\text{Elevation}$: elevation of the pixel (m), and \n",
    "- $\\text{Elevation}_{\\text{station}}$: elevation where the wind speed is measured. \n",
    "\n",
    "Equations (35) and (36) were developed during METRIC applications in mountainous regions of southern Idaho (Tasumi 2003).\n"
   ]
  },
  {
   "cell_type": "markdown",
   "metadata": {
    "hidden": true,
    "id": "2LNE1YPTpJmf"
   },
   "source": [
    "**Air density** in the aerodynamic equation is calculated using standard equations for mean atmospheric pressure and the universal gas law and simplifying for the effect of vapor pressure (virtual temperature is estimated as 1.01 $T_s$) as done by Allen et al. (1998)\n",
    "\n",
    "$$\n",
    "\\rho_{air} = \\frac{1000P}{1.01(T_s - dT)R}\n",
    "$$\n",
    "\n",
    "where:\n",
    "- $\\rho_{air}$ : air density (kg m-3)\n",
    "- $P$ : mean atmospheric pressure for the pixel elevation (kPa)\n",
    "- $R$ : specific gas constant (287 J kg-1 K-1)\n",
    "- $T_s - dT$ : surrogate (K) for near-surface air temperature at the pixel \n"
   ]
  },
  {
   "cell_type": "markdown",
   "metadata": {
    "id": "44dTpCUr7XQB"
   },
   "source": [
    "#### Selección de pixeles Frío y Caliente"
   ]
  },
  {
   "cell_type": "markdown",
   "metadata": {
    "id": "aWAZr8MeZIyN"
   },
   "source": [
    "**Referencia**\n",
    "- Bhattarai, N., Quackenbush, L. J., Im, J., & Shaw, S. B. (2017). A new optimized algorithm for automating endmember pixel selection in the SEBAL and METRIC models. *Remote Sensing of Environment*, 196, 178-192. [10.1016/j.rse.2017.05.009](http://dx.doi.org/10.1016/j.rse.2017.05.009)\n",
    "\n",
    "**Selección de pixeles fríos y calientes**\n",
    "\n",
    "- In terms of identifying a cold pixel, the search method seeks to find\n",
    "the coldest pixels with the highest NDVI. There is not necessarily one\n",
    "pixel that has both the lowest Ts and the highest NDVI. Thus, instead\n",
    "of searching for a single pixel, the method searches for a subset of pixels that have both low NDVI and high Ts.\n",
    "- Specifically, the cold pixel selection process starts by searching for **pixels that have a Ts value within the lowest n1% (e.g. n1 = 1) of the Ts histogram** and NDVI values in\n",
    "the top n2% (e.g. n2 = 1) of the NDVI histogram.\n",
    "- The search continues by increasing the value of n2 first (i.e. increasing n2 in increments of 1 up to 10, keeping n1 = 1) and then increasing n1 (up to 10 in increments of 1) until 10 pixels are identified."
   ]
  },
  {
   "cell_type": "code",
   "execution_count": 7,
   "metadata": {
    "id": "Wo4sbbEovNLP"
   },
   "outputs": [],
   "source": [
    "# Datos\n",
    "# 2 de Diciembre 2021: Almácigo\n",
    "# 4 de Enero 2022: Transplante\n",
    "\n",
    "# 8 Imágenes seleccionadas\n",
    "ids = [\n",
    "    'LANDSAT/LC09/C02/T1/LC09_010065_20211212', # 0 - 12/12 - l9\n",
    "    'LANDSAT/LC09/C02/T1/LC09_010065_20220113', # 1 - 01/13 - l9 OJO: NDVI negativos -> Posible riego 01 13\n",
    "    'LANDSAT/LC09/C02/T1/LC09_010065_20220129', # 2 - 01/29 - l9\n",
    "    'LANDSAT/LC08/C02/T1/LC08_010065_20220310', # 3 - 03/10 - l8\n",
    "    'LANDSAT/LC09/C02/T1/LC09_010065_20220403', # 4 - 04/03 - l9\n",
    "    'LANDSAT/LC09/C02/T1/LC09_010065_20220521', # 5 - 05/21 - l9\n",
    "    'LANDSAT/LC08/C02/T1/LC08_010065_20220529', # 6 - 05/29 - l8\n",
    "    'LANDSAT/LC08/C02/T1/LC08_010065_20220614'  # 7 - 06/14 - l8\n",
    "      ]\n",
    "\n",
    "# Ojo: El mapa Aspect no se puede obtener en los límites -> usar áreas mayores a la que necesitas\n",
    "dem = ee.Image(\"USGS/SRTMGL1_003\").clip(roi) \n",
    "\n",
    "# dem.reduceRegion(ee.Reducer.minMax(), geometry=predios_agricolas,scale=30).getInfo() \n",
    "# {'elevation_max': 54, 'elevation_min': 40}"
   ]
  },
  {
   "cell_type": "code",
   "execution_count": 8,
   "metadata": {
    "id": "oU7Mv-EfSDVj"
   },
   "outputs": [],
   "source": [
    "albedo_cmap = ['68181f', 'd6604d', 'f9dbc7', 'd1e5f0', '2166ac', '053061'] # 0 - 0.5\n",
    "ndvi_cmap = ['0048fb', 'ffffff', 'ce7e45', 'fad163', '74a909', '3a7405', '1a3b03'] # -0.2 - 1\n",
    "ts_cmap = ['fefccc', 'fbd976', 'f08c39', 'ea4a33', 'e43d32', '812026'] # 280 - 330 en K o 6.85 - 56.85 en °C\n",
    "rn_cmp = ['560e0d', 'fd5903', 'fbfe04', '3aff01', '01feef', '0000fe', 'fd6dfd', 'ffffff']\n",
    "rn_cmp_r = ['ffffff', 'fd6dfd', '0000fe', '01feef', '3aff01', 'fbfe04', 'fd5903', '560e0d']\n",
    "# Revertir lista\n",
    "# https://datagy.io/python-reverse-list/s\n",
    "# cmp.plot_colormaps(width=12, height=0.4)"
   ]
  },
  {
   "cell_type": "code",
   "execution_count": 9,
   "metadata": {
    "colab": {
     "base_uri": "https://localhost:8080/",
     "height": 256
    },
    "id": "kFjg_auLnbnJ",
    "outputId": "51bffe85-3636-42e9-e5bf-ef9ac1c06d8c",
    "scrolled": true
   },
   "outputs": [
    {
     "name": "stdout",
     "output_type": "stream",
     "text": [
      "Rn de imagen 14-06-2022 procesada!\n"
     ]
    },
    {
     "data": {
      "text/html": [
       "<div>\n",
       "<style scoped>\n",
       "    .dataframe tbody tr th:only-of-type {\n",
       "        vertical-align: middle;\n",
       "    }\n",
       "\n",
       "    .dataframe tbody tr th {\n",
       "        vertical-align: top;\n",
       "    }\n",
       "\n",
       "    .dataframe thead th {\n",
       "        text-align: right;\n",
       "    }\n",
       "</style>\n",
       "<table border=\"1\" class=\"dataframe\">\n",
       "  <thead>\n",
       "    <tr style=\"text-align: right;\">\n",
       "      <th></th>\n",
       "      <th>LAI</th>\n",
       "      <th>NDVI</th>\n",
       "      <th>Ts_c</th>\n",
       "      <th>Ts_k</th>\n",
       "      <th>albedo</th>\n",
       "      <th>cos_theta</th>\n",
       "      <th>e_0</th>\n",
       "      <th>e_NB</th>\n",
       "      <th>slope</th>\n",
       "      <th>t_sw</th>\n",
       "    </tr>\n",
       "  </thead>\n",
       "  <tbody>\n",
       "    <tr>\n",
       "      <th>max</th>\n",
       "      <td>1.293844</td>\n",
       "      <td>0.564996</td>\n",
       "      <td>31.877328</td>\n",
       "      <td>305.027328</td>\n",
       "      <td>0.314651</td>\n",
       "      <td>0.807201</td>\n",
       "      <td>0.962938</td>\n",
       "      <td>0.974270</td>\n",
       "      <td>6.230337</td>\n",
       "      <td>0.659322</td>\n",
       "    </tr>\n",
       "    <tr>\n",
       "      <th>mean</th>\n",
       "      <td>0.651017</td>\n",
       "      <td>0.264075</td>\n",
       "      <td>28.578469</td>\n",
       "      <td>301.728469</td>\n",
       "      <td>0.190679</td>\n",
       "      <td>0.766265</td>\n",
       "      <td>0.956510</td>\n",
       "      <td>0.972148</td>\n",
       "      <td>1.693220</td>\n",
       "      <td>0.659186</td>\n",
       "    </tr>\n",
       "    <tr>\n",
       "      <th>median</th>\n",
       "      <td>0.683745</td>\n",
       "      <td>0.278310</td>\n",
       "      <td>28.172278</td>\n",
       "      <td>301.324194</td>\n",
       "      <td>0.192801</td>\n",
       "      <td>0.764497</td>\n",
       "      <td>0.956815</td>\n",
       "      <td>0.972252</td>\n",
       "      <td>1.860348</td>\n",
       "      <td>0.659186</td>\n",
       "    </tr>\n",
       "    <tr>\n",
       "      <th>min</th>\n",
       "      <td>0.268857</td>\n",
       "      <td>0.085178</td>\n",
       "      <td>24.021048</td>\n",
       "      <td>297.171048</td>\n",
       "      <td>0.085689</td>\n",
       "      <td>0.723844</td>\n",
       "      <td>0.952689</td>\n",
       "      <td>0.970887</td>\n",
       "      <td>0.000000</td>\n",
       "      <td>0.659062</td>\n",
       "    </tr>\n",
       "    <tr>\n",
       "      <th>mode</th>\n",
       "      <td>0.699269</td>\n",
       "      <td>0.286231</td>\n",
       "      <td>27.079272</td>\n",
       "      <td>300.231551</td>\n",
       "      <td>0.202662</td>\n",
       "      <td>0.763783</td>\n",
       "      <td>0.957000</td>\n",
       "      <td>0.972312</td>\n",
       "      <td>0.930388</td>\n",
       "      <td>0.659183</td>\n",
       "    </tr>\n",
       "    <tr>\n",
       "      <th>stdDev</th>\n",
       "      <td>0.191059</td>\n",
       "      <td>0.089439</td>\n",
       "      <td>1.638042</td>\n",
       "      <td>1.638042</td>\n",
       "      <td>0.042736</td>\n",
       "      <td>0.014451</td>\n",
       "      <td>0.001911</td>\n",
       "      <td>0.000630</td>\n",
       "      <td>0.962314</td>\n",
       "      <td>0.000038</td>\n",
       "    </tr>\n",
       "  </tbody>\n",
       "</table>\n",
       "</div>"
      ],
      "text/plain": [
       "             LAI      NDVI       Ts_c        Ts_k    albedo  cos_theta  \\\n",
       "max     1.293844  0.564996  31.877328  305.027328  0.314651   0.807201   \n",
       "mean    0.651017  0.264075  28.578469  301.728469  0.190679   0.766265   \n",
       "median  0.683745  0.278310  28.172278  301.324194  0.192801   0.764497   \n",
       "min     0.268857  0.085178  24.021048  297.171048  0.085689   0.723844   \n",
       "mode    0.699269  0.286231  27.079272  300.231551  0.202662   0.763783   \n",
       "stdDev  0.191059  0.089439   1.638042    1.638042  0.042736   0.014451   \n",
       "\n",
       "             e_0      e_NB     slope      t_sw  \n",
       "max     0.962938  0.974270  6.230337  0.659322  \n",
       "mean    0.956510  0.972148  1.693220  0.659186  \n",
       "median  0.956815  0.972252  1.860348  0.659186  \n",
       "min     0.952689  0.970887  0.000000  0.659062  \n",
       "mode    0.957000  0.972312  0.930388  0.659183  \n",
       "stdDev  0.001911  0.000630  0.962314  0.000038  "
      ]
     },
     "metadata": {},
     "output_type": "display_data"
    }
   ],
   "source": [
    "# Imagen Landsat\n",
    "img_id = ids[7] # 3,7\n",
    "img_ee = ee.Image(img_id).clip(roi)\n",
    "img_toa = convert_RAW_to_TOA(img_ee)\n",
    "\n",
    "# img_date = img_ee.date().format('YYYY-MM-dd').getInfo()\n",
    "\n",
    "img_date = img_ee.date()\n",
    "img_date_format1 = img_date.format('dd-MM-YYYY').getInfo()\n",
    "img_date_format2 = img_date.format('YYYY-MM-dd').getInfo()\n",
    "\n",
    "# Radiación Neta\n",
    "R_n, img_sr_tasumi, img_productos, d2, doy = getRadiacionNeta(img_ee, roi, dem) # roi: Ferreñafe\n",
    "\n",
    "# Imágenes\n",
    "img_ndvi = img_productos.select('NDVI')\n",
    "# img_savi = img_productos.select('SAVI')\n",
    "img_lai  = img_productos.select('LAI')\n",
    "img_albedo = img_productos.select('albedo')\n",
    "img_Ts_c = img_productos.select('Ts_c')\n",
    "img_Ts_k = img_productos.select('Ts_k')\n",
    "img_slope = img_productos.select('slope')\n",
    "\n",
    "cos_theta_rel = img_productos.select('cos_theta')\n",
    "t_sw = img_productos.select('t_sw')\n",
    "e_0  = img_productos.select('e_0')\n",
    "\n",
    "img_toa = img_toa.clip(predios_bound)\n",
    "\n",
    "img_Ts_c = img_Ts_c.clip(predios_agricolas)\n",
    "img_ndvi = img_ndvi.clip(predios_agricolas)\n",
    "img_albedo = img_albedo.clip(predios_agricolas)\n",
    "\n",
    "print(f'Rn de imagen {img_date_format1} procesada!')\n",
    "\n",
    "img_productos_dict = get_stats(img_productos, predios_agricolas, 30)\n",
    "img_productos_df = pd.DataFrame.from_dict(img_productos_dict, orient='index')\n",
    "\n",
    "\n",
    "# Diccionarios de visualización\n",
    "vis_params_ndvi = {\n",
    "    'min': -0.2, # img_productos_dict['min']['NDVI'],\n",
    "    'max': 1,    # img_productos_dict['max']['NDVI'],\n",
    "    'palette': ndvi_cmap # cmp.get_palette('RdYlGn')\n",
    "}\n",
    "\n",
    "vis_params_ts = {\n",
    "    'min': img_productos_dict['min']['Ts_c'],\n",
    "    'max': img_productos_dict['max']['Ts_c'],\n",
    "    'palette':cmp.get_palette('RdYlBu_r')\n",
    "}\n",
    "\n",
    "vis_params_alb = {\n",
    "    'min': 0,\n",
    "    'max': 0.25,\n",
    "    'palette': cmp.get_palette('afmhot') #cmp.get_palette('afmhot') albedo_cmap\n",
    "}\n",
    "\n",
    "\n",
    "# cmp.palettes.gist_rainbow\n",
    "display(img_productos_df)"
   ]
  },
  {
   "cell_type": "markdown",
   "metadata": {
    "id": "s_6Tm2-SSDVj"
   },
   "source": [
    "Imagen Sentinel-2 que servirá de ayuda para una mejor selección de pixeles fríos y calientes."
   ]
  },
  {
   "cell_type": "code",
   "execution_count": null,
   "metadata": {
    "colab": {
     "base_uri": "https://localhost:8080/"
    },
    "id": "anjCmNHESDVj",
    "outputId": "67558921-4692-45fc-e176-c232537976ad"
   },
   "outputs": [],
   "source": [
    "# img_s2_id = 'COPERNICUS/S2/20220615T153619_20220615T154006_T17MPN' # 2022-06-14\n",
    "# # img_s2_id = 'COPERNICUS/S2/20211212T153621_20211212T154103_T17MPN' # 2021-12-12\n",
    "\n",
    "# img_s2 = ee.Image(img_s2_id) \n",
    "# img_s2_vis = img_s2.multiply(0.0001).clip(predios_bound)\n",
    "# img_s2_date = img_s2.date().format('YYYY-MM-dd').getInfo()\n",
    "\n",
    "# print(img_s2_date)"
   ]
  },
  {
   "cell_type": "code",
   "execution_count": null,
   "metadata": {
    "id": "MhMgqo_GSDVj"
   },
   "outputs": [],
   "source": [
    "# vis_rgb_s2 = {'min': 0.0, 'max': 0.3, 'bands': ['B4', 'B3', 'B2'], 'gamma': 0.4} "
   ]
  },
  {
   "cell_type": "markdown",
   "metadata": {
    "id": "q5JpdU0KvNLQ"
   },
   "source": [
    "A continuación se realizará el friltrado de pixeles. Mediante la revisión de mapas de temperatura, NDVI y albedo es posible visualizar focos de calor."
   ]
  },
  {
   "cell_type": "markdown",
   "metadata": {
    "heading_collapsed": true,
    "id": "Sh8L6LOOyhHG"
   },
   "source": [
    "##### Pixeles Fríos"
   ]
  },
  {
   "cell_type": "markdown",
   "metadata": {
    "hidden": true,
    "id": "hGjKxMWPcdOn"
   },
   "source": [
    "Pixeles Fríos: \n",
    "Encontrar el grupo de pixeles con\n",
    "- NDVI alto\n",
    "- Temperatura superficial baja\n",
    "\n",
    "Procedimiento:\n",
    "- Obtener percentil n1 para imagen NDVI con valores positivos [(ee.Reducer.percentile)](https://developers.google.com/earth-engine/apidocs/ee-reducer-percentile)\n",
    "- Obtener valores de NDVI > n1 \n",
    "- Recortar mapa de temperatura para valores Ts < $n_2$ en función de valores de NDVI > $n_1$\n",
    "- Seleccionar un pixel y anotar coordenadas"
   ]
  },
  {
   "cell_type": "code",
   "execution_count": null,
   "metadata": {
    "hidden": true,
    "scrolled": true
   },
   "outputs": [],
   "source": [
    "# # Prueba For\n",
    "# for n2_i in [10, 20, 30, 40, 50]:\n",
    "#     # Selección de Pixel Frío - Recorte de mapas\n",
    "#     n1 =  50  # n1 : Percentil para NDVI\n",
    "#     n2 =  n2_i  # n2 : Percentil para temperatura\n",
    "\n",
    "#     pixeles_frios = recorte_por_percentiles(\n",
    "#         n1, n2, img_ndvi, img_Ts_k, predios_agricolas, filtrado='cold').subtract(273.15)\n",
    "\n",
    "#     pixeles_frios_minmax = (\n",
    "#         pixeles_frios.reduceRegion(ee.Reducer.minMax(), scale=30)\n",
    "#         .values().reverse().getInfo()\n",
    "#     )\n",
    "\n",
    "#     # Inputs para gráfico\n",
    "#     paleta = 'RdYlBu_r'  # Rampa de color azul y rojo\n",
    "#     # paleta = 'binary_r'  # Color negro indica el pixel más frío\n",
    "\n",
    "#     vis_params_pix = {\n",
    "#         'min': pixeles_frios_minmax[0],\n",
    "#         'max': pixeles_frios_minmax[1],\n",
    "#         'palette': cmp.get_palette(paleta)\n",
    "#     }\n",
    "\n",
    "#     image = pixeles_frios.blend(predios_vis)\n",
    "#     vis_params = vis_params_pix\n",
    "\n",
    "#     title_map = f'Pix Fríos \\n{img_date}\\nn1: {n1} - n2: {n2}'\n",
    "#     path_fig = f'/pixeles/{img_date}/{img_date}_n1_{n1}_n2_{n2}_Pix_F_{paleta}'\n",
    "#     label = '$[\\; °C\\;]$'\n",
    "\n",
    "#     # Resultado\n",
    "#     print(img_date)\n",
    "#     print(f'Tmin - Tmax: {pixeles_frios_minmax}')\n",
    "\n",
    "#     get_grafica_cartoee_color(image, \n",
    "#                               vis_params, \n",
    "#                               title_map, \n",
    "#                               label,\n",
    "#                               save_fig=path_fig)"
   ]
  },
  {
   "cell_type": "code",
   "execution_count": 16,
   "metadata": {
    "colab": {
     "base_uri": "https://localhost:8080/",
     "height": 411
    },
    "hidden": true,
    "id": "2o3mvCBZSDVl",
    "outputId": "e78846cb-d1cc-423b-85c1-bc27e5865f48",
    "scrolled": false
   },
   "outputs": [
    {
     "name": "stdout",
     "output_type": "stream",
     "text": [
      "14-06-2022\n",
      "Tmin - Tmax: [24.02104843881108, 26.50912001156297]\n"
     ]
    },
    {
     "data": {
      "image/png": "[encoded data removed]",
      "text/plain": [
       "<Figure size 576x432 with 2 Axes>"
      ]
     },
     "metadata": {
      "needs_background": "light"
     },
     "output_type": "display_data"
    }
   ],
   "source": [
    "# Selección de Pixel Frío - Recorte de mapas\n",
    "n1 =  50  # n1 : Percentil para NDVI\n",
    "n2 =  10  # n2 : Percentil para temperatura\n",
    "\n",
    "pixeles_frios_K = recorte_por_percentiles(\n",
    "    n1, n2, img_ndvi, img_Ts_k, predios_agricolas, filtrado='cold')\n",
    "\n",
    "pixeles_frios_C = pixeles_frios_K.subtract(273.15)\n",
    "pixeles_frios_minmax = (\n",
    "    pixeles_frios_C.reduceRegion(ee.Reducer.minMax(), scale=30)\n",
    "    .values().reverse().getInfo()\n",
    ")\n",
    "\n",
    "# Inputs para gráfico\n",
    "paleta = 'RdYlBu_r'  # Rampa de color azul y rojo\n",
    "# paleta = 'binary_r'  # Color negro indica el pixel más frío\n",
    "\n",
    "vis_params_pix = {\n",
    "    'min': pixeles_frios_minmax[0],\n",
    "    'max': pixeles_frios_minmax[1],\n",
    "    'palette': cmp.get_palette(paleta)\n",
    "}\n",
    "\n",
    "image = pixeles_frios_C.blend(predios_vis)\n",
    "vis_params = vis_params_pix\n",
    "\n",
    "title_map = f'Pix Fríos \\n{img_date_format1}\\nn1: {n1} - n2: {n2}'\n",
    "path_fig = f'/pixeles/{img_date_format1}_n1_{n1}_n2_{n2}_Pix_F_{paleta}'\n",
    "label = '$[\\; °C\\;]$'\n",
    "\n",
    "# Resultado\n",
    "print(img_date_format1)\n",
    "print(f'Tmin - Tmax: {pixeles_frios_minmax}')\n",
    "\n",
    "get_grafica_cartoee_color(image, \n",
    "                          vis_params, \n",
    "                          text=title_map, \n",
    "                          label=label,\n",
    "                          save_fig=path_fig)"
   ]
  },
  {
   "cell_type": "code",
   "execution_count": null,
   "metadata": {
    "colab": {
     "referenced_widgets": [
      "e55c0963694f49d5aa7846a93d27555f"
     ]
    },
    "hidden": true,
    "id": "vzvob9k-SDVl",
    "outputId": "7a0cce9b-3b82-4f94-b61c-10aa1fcffaed",
    "scrolled": false
   },
   "outputs": [],
   "source": [
    "# Visualización\n",
    "vis_params_pix = {\n",
    "    'min': pixeles_frios_minmax[0],\n",
    "    'max': pixeles_frios_minmax[1],\n",
    "    'palette': cmp.get_palette('binary') # Color negro el pixel más frío\n",
    "}\n",
    "\n",
    "image = pixeles_frios_C.blend(predios_vis)\n",
    "vis_params = vis_params_pix\n",
    "title_map = 'Pixeles fríos'\n",
    "label = '$[\\; °C\\;]$'\n",
    "\n",
    "\n",
    "# Obtener visualización con geemap.Map\n",
    "Map = geemap.Map()\n",
    "Map.centerObject(predios_agricolas, 16)\n",
    "\n",
    "Map.addLayer(img_toa.clip(predios_bound).blend(predios_vis), vis_rgb, 'RGB TOA')\n",
    "# Map.addLayer(img_s2_vis.blend(predios_vis), vis_rgb_s2, f'Sentinel {img_s2_date}')\n",
    "\n",
    "Map.addLayer(img_Ts_c, vis_params_ts, 'img_Ts_c')\n",
    "Map.addLayer(img_ndvi, vis_params_ndvi, 'img_ndvi')\n",
    "Map.addLayer(img_albedo, vis_params_alb, 'img_albedo')\n",
    "\n",
    "Map.addLayer(image, vis_params, title_map)\n",
    "\n",
    "Map.add_colorbar(vis_params_ndvi, label=\"NDVI [-]\", orientation=\"horizontal\")\n",
    "Map.add_colorbar(vis_params_alb, label=\"Albedo [-]\", orientation=\"horizontal\")#, discrete=True)\n",
    "Map.add_colorbar(vis_params, label=\"Ts [°C]\", orientation=\"horizontal\")\n",
    "Map.add_colorbar(vis_params_ts, label=\"Ts [°C]\", orientation=\"horizontal\")\n",
    "\n",
    "Map"
   ]
  },
  {
   "cell_type": "code",
   "execution_count": null,
   "metadata": {
    "hidden": true,
    "scrolled": true
   },
   "outputs": [],
   "source": [
    "# Map.user_rois.geometry().coordinates().getInfo() \n",
    "\n",
    "# '2022-03-10': [-79.784451, -6.597031]\n",
    "# '2022-06-14': [-79.778717, -6.60486]"
   ]
  },
  {
   "cell_type": "code",
   "execution_count": 18,
   "metadata": {
    "hidden": true
   },
   "outputs": [
    {
     "name": "stdout",
     "output_type": "stream",
     "text": [
      "14-06-2022\n",
      "n1: 50 - n2: 10\n",
      "Pixel Frío: [-79.778717, -6.60486]\n"
     ]
    },
    {
     "data": {
      "text/plain": [
       "{'Albedo': 0.18027227029185394,\n",
       " 'Elev_m': 45,\n",
       " 'G': 52.054210600211356,\n",
       " 'LAI': 1.2312135011441645,\n",
       " 'NDVI': 0.535677137507801,\n",
       " 'R_n': 459.1414018222289,\n",
       " 'Slope_d': 2.084105344420737,\n",
       " 'T_sw': 0.6590966639583984,\n",
       " 'Ts': 24.02104843881108,\n",
       " 'e_0': 0.9623121350114416}"
      ]
     },
     "execution_count": 18,
     "metadata": {},
     "output_type": "execute_result"
    }
   ],
   "source": [
    "# Pixel Frío\n",
    "print(img_date_format1)\n",
    "\n",
    "pix_cold_n1 = n1 \n",
    "pix_cold_n2 = n2\n",
    "print(f'n1: {pix_cold_n1} - n2: {pix_cold_n2}')\n",
    "\n",
    "# Ejemplo de pixel: \n",
    "# coordenada = [-79.784444, -6.597026] # '2022-03-10'\n",
    "# coordenada = [-79.784451, -6.597031] # '2022-03-10'\n",
    "coordenada = [-79.778717, -6.60486]  # '2022-06-14'\n",
    "# coordenada = [-79.778724, -6.604617] # '2022-06-14'\n",
    "\n",
    "pix_cold = ee.Geometry.Point(coordenada)\n",
    "\n",
    "# pix_cold = Map.user_rois.geometry()\n",
    "print(f'Pixel Frío: {pix_cold.coordinates().getInfo()}')\n",
    "\n",
    "pix_cold_values = get_pixel_values(pix_cold, pixeles_frios_K, d2, img_productos, dem)\n",
    "pix_cold_values\n",
    "# print(f'Rn: {pix_hot_values[0]:.5f} W/m²\\nG : {pix_hot_values[1]:.5f} W/m²')"
   ]
  },
  {
   "cell_type": "code",
   "execution_count": null,
   "metadata": {
    "hidden": true,
    "id": "Hz7UQusvSDVm",
    "outputId": "ca8fa7ae-d0b6-4a53-d0ec-026dd1fd257e",
    "scrolled": true
   },
   "outputs": [],
   "source": [
    "pix_cold_values"
   ]
  },
  {
   "cell_type": "code",
   "execution_count": null,
   "metadata": {
    "hidden": true,
    "id": "V0IQllfwSDVm",
    "outputId": "7a662ebb-1a6e-4e0b-933e-b51febbe4288",
    "scrolled": true
   },
   "outputs": [],
   "source": [
    "pix_cold_values['Albedo']"
   ]
  },
  {
   "cell_type": "code",
   "execution_count": null,
   "metadata": {
    "hidden": true
   },
   "outputs": [],
   "source": [
    "print(pix_cold_values['Ts'])\n",
    "print(pix_cold_values['Ts']+273.15)"
   ]
  },
  {
   "cell_type": "markdown",
   "metadata": {
    "heading_collapsed": true,
    "id": "4WuYVteHyk_O"
   },
   "source": [
    "##### Pixeles Calientes"
   ]
  },
  {
   "cell_type": "markdown",
   "metadata": {
    "hidden": true
   },
   "source": [
    "1. Primero visualizamos con el total de extensión"
   ]
  },
  {
   "cell_type": "code",
   "execution_count": 19,
   "metadata": {
    "hidden": true,
    "id": "vcBGGayPSDVs",
    "outputId": "d6ac5fc7-97da-469d-8422-f851b1302c3a",
    "scrolled": false
   },
   "outputs": [
    {
     "name": "stdout",
     "output_type": "stream",
     "text": [
      "Tmin - Tmax: [30.49357716136774, 31.87732831242232]\n"
     ]
    },
    {
     "data": {
      "image/png": "[encoded data removed]",
      "text/plain": [
       "<Figure size 576x432 with 2 Axes>"
      ]
     },
     "metadata": {
      "needs_background": "light"
     },
     "output_type": "display_data"
    }
   ],
   "source": [
    "# Selección de Pixel Caliente - Recorte de mapas\n",
    "n1 =  50 # n1 : Percentil para NDVI\n",
    "n2 =  70 # n2 : Percentil para temperatura\n",
    "\n",
    "pixeles_hot_K = recorte_por_percentiles(\n",
    "    n1, n2, img_ndvi, img_Ts_k, \n",
    "    geometry=predios_agricolas # ee_Rectangle, predios_agricolas\n",
    ")\n",
    "    \n",
    "pixeles_hot_C = pixeles_hot_K.subtract(273.15) \n",
    "\n",
    "pixeles_hot_minmax = (\n",
    "    pixeles_hot_C.reduceRegion(ee.Reducer.minMax(), scale=30)\n",
    "    .values().reverse().getInfo()\n",
    ")\n",
    "\n",
    "print(f'Tmin - Tmax: {pixeles_hot_minmax}')\n",
    "\n",
    "# Obtener gráfica con cartoee\n",
    "paleta = 'RdYlBu_r'\n",
    "# paleta = 'binary_r' # Color negro o rojo el pixel más caliente\n",
    "\n",
    "vis_params_pix = {\n",
    "    'min': pixeles_hot_minmax[0],\n",
    "    'max': pixeles_hot_minmax[1],\n",
    "    'palette': cmp.get_palette(paleta) \n",
    "}\n",
    "\n",
    "# ee_RectangleVis = ee.Image().paint(ee_Rectangle, 1, 1)\n",
    "image = pixeles_hot_C.blend(predios_vis) # predios_vis, ee_RectangleVis\n",
    "vis_params = vis_params_pix\n",
    "title_map = f'Pix Calientes \\n{img_date_format2}\\nn1: {n1} - n2: {n2}'\n",
    "path_fig  = f'/pixeles/{img_date_format1}_n1_{n1}_n2_{n2}_Pix_C_{paleta}'\n",
    "\n",
    "label = '$[\\; °C\\;]$'\n",
    "\n",
    "get_grafica_cartoee_color(image, \n",
    "                          vis_params, \n",
    "                          text=title_map, \n",
    "                          label=label,\n",
    "                          save_fig=None)"
   ]
  },
  {
   "cell_type": "markdown",
   "metadata": {
    "hidden": true
   },
   "source": [
    "2. Determinamos una zona a evaluar"
   ]
  },
  {
   "cell_type": "code",
   "execution_count": null,
   "metadata": {
    "hidden": true
   },
   "outputs": [],
   "source": [
    "# En la parte inferior izquierda se encuentra un área de estacionamiento el cual afecta en la temperatura \n",
    "# superficial a las áreas cercanas. Por ello, es necesario trazar otra área mas específica para que \n",
    "# no se afecte la selección de pixeles.\n",
    "\n",
    "# 1. Primero se debe correr por defecto el código\n",
    "# 2. Una vez ubicada el área, dibujamos un rectángulo en dicha zona para obtener sus coordenadas\n",
    "# Map.user_rois.geometry().coordinates().getInfo()\n",
    "# Produce:\n",
    "# [[[-79.779268, -6.605731],\n",
    "#   [-79.779268, -6.603185],\n",
    "#   [-79.777055, -6.603185],\n",
    "#   [-79.777055, -6.605731],\n",
    "#   [-79.779268, -6.605731]]]\n",
    "\n",
    "# 3. Le damos el formato a las coordenadas\n",
    "# https://developers.google.com/earth-engine/apidocs/ee-geometry-rectangle\n",
    "ee_Rectangle = ee.Geometry.Rectangle([\n",
    "    [-79.779268, -6.603185],\n",
    "    [-79.777055, -6.605731]\n",
    "])\n",
    "# 4. Asignamos la nueva geometría como input en geometría"
   ]
  },
  {
   "cell_type": "code",
   "execution_count": null,
   "metadata": {
    "hidden": true
   },
   "outputs": [],
   "source": [
    "# Selección de Pixel Caliente - Recorte de mapas\n",
    "n1 =  50 # n1 : Percentil para NDVI\n",
    "n2 =  70 # n2 : Percentil para temperatura\n",
    "\n",
    "pixeles_hot_K = recorte_por_percentiles(\n",
    "    n1, n2, img_ndvi, img_Ts_k, \n",
    "    geometry=ee_Rectangle # ee_Rectangle, predios_agricolas\n",
    ")\n",
    "    \n",
    "pixeles_hot_C = pixeles_hot_K.subtract(273.15) \n",
    "\n",
    "pixeles_hot_minmax = (\n",
    "    pixeles_hot_C.reduceRegion(ee.Reducer.minMax(), scale=30)\n",
    "    .values().reverse().getInfo()\n",
    ")\n",
    "\n",
    "print(f'Tmin - Tmax: {pixeles_hot_minmax}')\n",
    "\n",
    "# Obtener gráfica con cartoee\n",
    "paleta = 'RdYlBu_r'\n",
    "# paleta = 'binary_r' # Color negro o rojo el pixel más caliente\n",
    "\n",
    "vis_params_pix = {\n",
    "    'min': pixeles_hot_minmax[0],\n",
    "    'max': pixeles_hot_minmax[1],\n",
    "    'palette': cmp.get_palette(paleta) \n",
    "}\n",
    "\n",
    "# ee_RectangleVis = ee.Image().paint(ee_Rectangle, 1, 1)\n",
    "image = pixeles_hot_C.blend(predios_vis) # predios_vis, ee_RectangleVis\n",
    "vis_params = vis_params_pix\n",
    "title_map = f'Pix Calientes \\n{img_date_format2}\\nn1: {n1} - n2: {n2}'\n",
    "path_fig  = f'/pixeles/{img_date_format1}_n1_{n1}_n2_{n2}_Pix_C_{paleta}'\n",
    "\n",
    "label = '$[\\; °C\\;]$'\n",
    "\n",
    "get_grafica_cartoee_color(image, \n",
    "                          vis_params, \n",
    "                          text=title_map, \n",
    "                          label=label,\n",
    "                          save_fig=None)"
   ]
  },
  {
   "cell_type": "code",
   "execution_count": 20,
   "metadata": {
    "colab": {
     "referenced_widgets": [
      "94859cc6c0bf426b9c2ca1f3493eef68"
     ]
    },
    "hidden": true,
    "id": "96RhxuHMSDVt",
    "outputId": "adb1a07a-d785-4621-975b-2f639280fa0c",
    "scrolled": false
   },
   "outputs": [
    {
     "data": {
      "application/vnd.jupyter.widget-view+json": {
       "model_id": "fd3a9389eb894dc0b1142e7ff0c8ab05",
       "version_major": 2,
       "version_minor": 0
      },
      "text/plain": [
       "Map(center=[-6.599795740070353, -79.78072031868163], controls=(WidgetControl(options=['position', 'transparent…"
      ]
     },
     "metadata": {},
     "output_type": "display_data"
    }
   ],
   "source": [
    "# Visualización\n",
    "vis_params_pix = {\n",
    "    'min': pixeles_hot_minmax[0],\n",
    "    'max': pixeles_hot_minmax[1],\n",
    "    'palette': cmp.get_palette('binary') # Color negro el pixel más frío\n",
    "}\n",
    "\n",
    "image = pixeles_hot_C#.blend(predios_vis)\n",
    "vis_params = vis_params_pix\n",
    "title_map = 'Pixeles calientes'\n",
    "label = '$[\\; °C\\;]$'\n",
    "\n",
    "# Obtener visualización con geemap.Map\n",
    "Map = geemap.Map()\n",
    "Map.centerObject(predios_agricolas, 16)\n",
    "\n",
    "Map.addLayer(img_toa.clip(predios_bound).blend(predios_vis), vis_rgb, 'RGB TOA')\n",
    "# Map.addLayer(img_s2_vis.blend(predios_vis), vis_rgb_s2, f'Sentinel {img_s2_date}')\n",
    "\n",
    "# Map.addLayer(img_Ts_c, vis_params_ts, 'img_Ts_c')\n",
    "Map.addLayer(img_ndvi, vis_params_ndvi, 'img_ndvi')\n",
    "# Map.addLayer(img_albedo, vis_params_alb, 'img_albedo')\n",
    "\n",
    "Map.addLayer(image, vis_params, title_map)\n",
    "# Map.addLayer(ee_Rectangle, {}, 'ee_Rectangle')\n",
    "\n",
    "Map.add_colorbar(vis_params_ndvi, label=\"NDVI [-]\", orientation=\"horizontal\")\n",
    "Map.add_colorbar(vis_params_alb, label=\"Albedo [-]\", orientation=\"horizontal\")#, discrete=True)\n",
    "Map.add_colorbar(vis_params, label=\"Ts [°C]\", orientation=\"horizontal\")\n",
    "Map.add_colorbar(vis_params_ts, label=\"Ts [°C]\", orientation=\"horizontal\")\n",
    "\n",
    "Map"
   ]
  },
  {
   "cell_type": "code",
   "execution_count": null,
   "metadata": {
    "hidden": true
   },
   "outputs": [],
   "source": [
    "# Map.user_rois.geometry().coordinates().getInfo()\n",
    "# '2022-03-10': [-79.777915, -6.604077]\n",
    "# '2022-06-14': [-79.784722, -6.595663]"
   ]
  },
  {
   "cell_type": "code",
   "execution_count": null,
   "metadata": {
    "hidden": true
   },
   "outputs": [],
   "source": [
    "# # Visualización\n",
    "# Map = geemap.Map()\n",
    "# Map.centerObject(predios_bound, 16)\n",
    "\n",
    "# # Map.addLayer(img_toa.clip(predios_bound), vis_rgb, 'RGB TOA')\n",
    "# # Map.addLayer(image, vis_params_ts, title_map) \n",
    "# image_prueba = pixeles_hot.clip(ee_Rectangle) \n",
    "# Map.addLayer(image_prueba, vis_params, title_map)\n",
    "# # Map.add_colorbar(vis_params_ts, label='Ts [°C]', orientation=\"vertical\")\n",
    "# Map"
   ]
  },
  {
   "cell_type": "code",
   "execution_count": 21,
   "metadata": {
    "hidden": true,
    "scrolled": false
   },
   "outputs": [
    {
     "name": "stdout",
     "output_type": "stream",
     "text": [
      "n1: 50 - n2: 70\n",
      "14-06-2022\n",
      "Pixel Caliente: [-79.784722, -6.595663]\n"
     ]
    },
    {
     "data": {
      "text/plain": [
       "{'Albedo': 0.09296234673562581,\n",
       " 'Elev_m': 45,\n",
       " 'G': 72.15933814018655,\n",
       " 'LAI': 0.30989732334047115,\n",
       " 'NDVI': 0.104389721627409,\n",
       " 'R_n': 504.447449401512,\n",
       " 'Slope_d': 0,\n",
       " 'T_sw': 0.6592193096535455,\n",
       " 'Ts': 31.87732831242232,\n",
       " 'e_0': 0.9530989732334046}"
      ]
     },
     "execution_count": 21,
     "metadata": {},
     "output_type": "execute_result"
    }
   ],
   "source": [
    "# Pixel Caliente\n",
    "pix_hot_n1 = n1 \n",
    "pix_hot_n2 = n2\n",
    "print(f'n1: {pix_hot_n1} - n2: {pix_hot_n2}')\n",
    "\n",
    "# Ejemplo de pixel: \n",
    "# pix_hot_coord = [-79.777924, -6.604048] # 1 - '2022-03-10'\n",
    "# pix_hot_coord = [-79.777671, -6.60432]  # 2 - '2022-03-10'\n",
    "pix_hot_coord = [-79.784722, -6.595663] # 1 - '2022-06-14'\n",
    "\n",
    "pix_hot = ee.Geometry.Point(pix_hot_coord)\n",
    "\n",
    "print(img_date_format1)\n",
    "\n",
    "# pix_hot = Map.user_rois.geometry()\n",
    "print(f'Pixel Caliente: {pix_hot.coordinates().getInfo()}')\n",
    "\n",
    "pix_hot_values = get_pixel_values(pix_hot, pixeles_hot_K, d2, img_productos, dem)\n",
    "pix_hot_values\n",
    "# print(f'Rn: {pix_hot_values[0]:.5f} W/m²\\nG : {pix_hot_values[1]:.5f} W/m²')"
   ]
  },
  {
   "cell_type": "code",
   "execution_count": null,
   "metadata": {
    "hidden": true,
    "id": "ICEhn-GbSDVt",
    "outputId": "db0665fb-4386-4060-bc85-a0529adbb40d",
    "scrolled": true
   },
   "outputs": [],
   "source": [
    "pix_hot_values"
   ]
  },
  {
   "cell_type": "code",
   "execution_count": null,
   "metadata": {
    "hidden": true,
    "id": "uZHTbGZlSDVt",
    "outputId": "b22eee58-ae45-41d0-effe-79c7fcac1234"
   },
   "outputs": [],
   "source": [
    "pix_hot_values['Albedo']"
   ]
  },
  {
   "cell_type": "code",
   "execution_count": null,
   "metadata": {
    "hidden": true
   },
   "outputs": [],
   "source": [
    "print(pix_hot_values['Ts']) # K\n",
    "print(pix_hot_values['Ts']-273.15) # C"
   ]
  },
  {
   "cell_type": "markdown",
   "metadata": {
    "heading_collapsed": true
   },
   "source": [
    "#### Selección datos de estación"
   ]
  },
  {
   "cell_type": "code",
   "execution_count": null,
   "metadata": {
    "hidden": true
   },
   "outputs": [],
   "source": [
    "# 8 Imágenes seleccionadas\n",
    "# ids = [\n",
    "#     'LANDSAT/LC09/C02/T1/LC09_010065_20211212', # 0 - 12/12 - l9\n",
    "#     'LANDSAT/LC09/C02/T1/LC09_010065_20220113', # 1 - 01/13 - l9 OJO: NDVI negativos -> Posible riego 01 13\n",
    "#     'LANDSAT/LC09/C02/T1/LC09_010065_20220129', # 2 - 01/29 - l9\n",
    "#     'LANDSAT/LC08/C02/T1/LC08_010065_20220310', # 3 - 03/10 - l8\n",
    "#     'LANDSAT/LC09/C02/T1/LC09_010065_20220403', # 4 - 04/03 - l9\n",
    "#     'LANDSAT/LC09/C02/T1/LC09_010065_20220521', # 5 - 05/21 - l9\n",
    "#     'LANDSAT/LC08/C02/T1/LC08_010065_20220529', # 6 - 05/29 - l8\n",
    "#     'LANDSAT/LC08/C02/T1/LC08_010065_20220614'  # 7 - 06/14 - l8\n",
    "#       ]\n",
    "\n",
    "fechas_imgs = []\n",
    "\n",
    "for img_id in ids:\n",
    "    img_ee = ee.Image(img_id)\n",
    "    img_date = img_ee.date().format('YYYY-MM-dd').getInfo()\n",
    "    fechas_imgs.append(img_date)\n",
    "\n",
    "# fechas_imgs = '2021-12-12',\n",
    "#  '2022-01-13',\n",
    "#  '2022-01-29',\n",
    "#  '2022-03-10',\n",
    "#  '2022-04-03',\n",
    "#  '2022-05-21',\n",
    "#  '2022-05-29',\n",
    "#  '2022-06-14']"
   ]
  },
  {
   "cell_type": "code",
   "execution_count": null,
   "metadata": {
    "hidden": true,
    "scrolled": false
   },
   "outputs": [],
   "source": [
    "ruta_csv = 'EE_Vista_Florida.csv'\n",
    "df_estacion_vf = pd.read_csv(ruta_csv, na_values='---') \n",
    "df_estacion_vf.Date = pd.to_datetime(df_estacion_vf.Date, format='%d/%m/%Y')\n",
    "# df_estacion_vf\n",
    "\n",
    "# Cambio de formato en columna Time de object a numeric (para visualizar mejor con matplotlib)\n",
    "df_prueba = df_estacion_vf.copy()\n",
    "df_prueba['Time'] = pd.to_numeric(df_prueba['Time'].str.replace(\":\", \".\"))\n",
    "\n",
    "# Extraemos los datos de la estación para las fechas de existencia de imagen satelital\n",
    "datos_hora_imagen = df_prueba[df_prueba['Date'].isin(fechas_imgs)]\n",
    "# datos_hora_imagen\n",
    "\n",
    "# Visualizamos y comparamos los dataframes según la hora de filtrado\n",
    "display(datos_hora_imagen[datos_hora_imagen['Time']==10.30])\n",
    "display(datos_hora_imagen[datos_hora_imagen['Time']==11.00])"
   ]
  },
  {
   "cell_type": "code",
   "execution_count": null,
   "metadata": {
    "hidden": true
   },
   "outputs": [],
   "source": [
    "filtrado_ws = (\n",
    "    datos_hora_imagen[(datos_hora_imagen['Date'] == img_date) & (datos_hora_imagen['Time']==10.30)]['Wind Speed']\n",
    "    .values[0]\n",
    ")\n",
    "\n",
    "print(filtrado_ws) # [km/h]\n",
    "\n",
    "filtrado_et = (\n",
    "    datos_hora_imagen[(datos_hora_imagen['Date'] == img_date) & (datos_hora_imagen['Time']==11)]['ET']\n",
    "    .values[0]\n",
    ")\n",
    "print(filtrado_et)"
   ]
  },
  {
   "cell_type": "markdown",
   "metadata": {
    "id": "Se1NaOormhRr"
   },
   "source": [
    "#### Parte iterativa"
   ]
  },
  {
   "cell_type": "markdown",
   "metadata": {
    "id": "hug-Db0BSDVu"
   },
   "source": [
    "Replicando la hoja en excel:\n",
    "\n",
    "1. Ts_dem\n",
    "1. R_n\n",
    "2. G\n",
    "3. Zom_flat (flat model momentum roughness length)\n",
    "4. Zom (Adjusting momentum roughness length for slopes)\n",
    "5. Wind coeff (Mountain wind speed adjustment coefficient)\n",
    "\n",
    "Primer paso para la primera iteración\n",
    "\n",
    "7. u*1 (Friction velocity, is computed using logarithmic wind law for neutral atmospheric conditions)\n",
    "    - u_200 (Wind speed at a [blending height](https://glossary.ametsoc.org/wiki/Blending_height) assumed to be 200 m) \n",
    "        - u_w (Wind speed measured at a weather station at Z_x height above the surface)\n",
    "        - Z_om_w (Roughness length for the weather station surface)\n",
    "        - Z_x\n",
    "    - Z_om\n",
    "8. rah1 : Aerodynamic resistance between two near surface heights, during the first iteration, the aerodynamic resistance to heat transport is computed for neutral atmospheric stability conditions\n",
    "\n",
    "A partir de aquí ya se necesita calcular para ambos tipos de pixeles\n",
    "9. dT1 (Temperature difference T1-T2 between two heights z1 and z2)\n",
    "10. p1 (Air density)\n",
    "11. H1\n",
    "12. L1 \n",
    "\n",
    "Corrección\n",
    "\n",
    "12. Ym200 1\n",
    "13. Yh(z2)1\n",
    "14. Yh(z1)1"
   ]
  },
  {
   "cell_type": "markdown",
   "metadata": {},
   "source": [
    "**Proceso**\n",
    "\n",
    "Procesado inicial (asumiendo condiciones atmosféricas neutrales)\n",
    "1. H y dT\n",
    "1. Corrección por estabilidad\n",
    "1. Iteraciones\n",
    "    1. Iteración (u_star, r_ah, air_dens_p y dT)\n",
    "    1. H y dT\n",
    "    1. Corrección por estabilidad"
   ]
  },
  {
   "cell_type": "markdown",
   "metadata": {},
   "source": [
    "##### Funciones"
   ]
  },
  {
   "cell_type": "markdown",
   "metadata": {},
   "source": [
    "**Stability Correction Functions**\n",
    "\n",
    "In order to account for the buoyancy effects generated by surface heating, METRICtm\n",
    "and SEBAL apply the Monin-Obukhov theory in an iterative process.\n",
    "\n",
    "Atmospheric conditions of stability have a large effect on the aerodynamic resistance\n",
    "(rah) and must be considered in the computation of sensible heat flux (H), especially for\n",
    "dry conditions.\n",
    "\n",
    "METRICtm and SEBAL repeat the computation of H through a number of iterations, each one correcting for buoyancy effects, **until the value for rah stabilizes**. Stabilization usually occurs after four or five iterations. \n",
    "\n",
    "**The Monin-Obukhov length (L) is used to define the stability conditions of the atmosphere in the iterative process** (note, this is not the same “L” as used in the SAVI computation). L is the height at which forces of buoyancy (or lack of) and mechanical mixing are equal. \n",
    "\n",
    "Se realiza la longitud de Monin-Obukhov, luego se corrige la velocidad de fricción u*, luego se corrige la resistencia aerodinámica r_ah ."
   ]
  },
  {
   "cell_type": "markdown",
   "metadata": {
    "heading_collapsed": true
   },
   "source": [
    "##### Primera iteración (Prueba)"
   ]
  },
  {
   "cell_type": "markdown",
   "metadata": {
    "hidden": true
   },
   "source": [
    "Para el pixel caliente, se asume que el suelo debe estar lo suficientemente seco para producir un valor de LE igual a 0. Para obtener dicho valor, se considera un Kc igual a 0 para resultar en LE igual a 0.\n",
    "\n",
    "- LE: latent energy consumed by ET, latent heat flux"
   ]
  },
  {
   "cell_type": "code",
   "execution_count": null,
   "metadata": {
    "hidden": true,
    "hide_input": false,
    "scrolled": false
   },
   "outputs": [],
   "source": [
    "# Primera iteración\n",
    "pix_c_procesado_inicial = procesado_inicial(pix_c_values, filtrado_ws, filtrado_et, Kc=1.05)\n",
    "pix_h_procesado_inicial = procesado_inicial(pix_h_values, filtrado_ws, filtrado_et, Kc=0) \n",
    "\n",
    "u_200 = pix_c_procesado_inicial['u_200']\n",
    "\n",
    "print('Resultados de primera iteración (asumiendo condiciones atmosféricas neutrales)')\n",
    "display(pix_c_procesado_inicial)\n",
    "display(pix_h_procesado_inicial)"
   ]
  },
  {
   "cell_type": "code",
   "execution_count": null,
   "metadata": {
    "hidden": true,
    "scrolled": false
   },
   "outputs": [],
   "source": [
    "# Obtener dT y luego H\n",
    "pix_c_procesado, pix_h_procesado = get_H(pix_c_procesado_inicial, pix_h_procesado_inicial)\n",
    "# Agrega dT1 y H1\n",
    "\n",
    "# Corrección por estabilidad\n",
    "pix_c_stability_cor = stability_corr(pix_c_procesado)\n",
    "pix_h_stability_cor = stability_corr(pix_h_procesado)\n",
    "\n",
    "display(pix_c_procesado, pix_c_stability_cor)\n",
    "display(pix_h_procesado, pix_h_stability_cor)"
   ]
  },
  {
   "cell_type": "markdown",
   "metadata": {
    "hidden": true
   },
   "source": [
    "La variación entre densidades del agua depende del parámetro dT0 que en el pixel caliente sale con valor alto. Para la primera iteración se usó el dato de 20°C de temperatura para obtener las densidades del agua. El parámetro dT depende de H."
   ]
  },
  {
   "cell_type": "code",
   "execution_count": null,
   "metadata": {
    "hidden": true,
    "scrolled": false
   },
   "outputs": [],
   "source": [
    "# Segunda iteración\n",
    "pix_c_iter = iteracion(u_200, pix_c_procesado, pix_c_values, pix_c_stability_cor, pix_c_procesado_inicial['H0'])\n",
    "pix_h_iter = iteracion(u_200, pix_h_procesado, pix_h_values, pix_h_stability_cor, pix_h_procesado_inicial['H0'])\n",
    "\n",
    "# Coeficientes\n",
    "pix_c_post_iter, pix_h_post_iter = get_H(pix_c_iter, pix_h_iter)\n",
    "\n",
    "display(pix_c_iter, pix_c_post_iter)\n",
    "display(pix_h_iter, pix_h_post_iter)"
   ]
  },
  {
   "cell_type": "code",
   "execution_count": null,
   "metadata": {
    "hidden": true
   },
   "outputs": [],
   "source": [
    "# Corrección por estabilidad\n",
    "pix_c_stability_cor = stability_corr(pix_c_post_iter)\n",
    "pix_h_stability_cor = stability_corr(pix_h_post_iter)\n",
    "\n",
    "display(pix_c_post_iter, pix_c_stability_cor)\n",
    "display(pix_h_post_iter, pix_h_stability_cor)"
   ]
  },
  {
   "cell_type": "markdown",
   "metadata": {
    "hidden": true
   },
   "source": [
    "----"
   ]
  },
  {
   "cell_type": "markdown",
   "metadata": {
    "heading_collapsed": true
   },
   "source": [
    "##### Evaluación de fecha: 2022-03-10"
   ]
  },
  {
   "cell_type": "code",
   "execution_count": null,
   "metadata": {
    "hidden": true
   },
   "outputs": [],
   "source": [
    "fecha = img_date_format2 # 2022-03-10\n",
    "filtrado_ws = 3.2  # km/h\n",
    "filtrado_et = 0.53  # mm/h\n",
    "\n",
    "print(fecha)\n",
    "\n",
    "# pix_c_values = pix_cold_values\n",
    "# pix_h_values = pix_hot_values\n",
    "\n",
    "# n1: 50 - n2: 10\n",
    "# 10-03-2022\n",
    "# Pixel Frío: [-79.784451, -6.597031]\n",
    "\n",
    "pix_c_values = {'Albedo': 0.14747657998818953,\n",
    " 'Elev_m': 47,\n",
    " 'G': 50.78114735764667,\n",
    " 'LAI': 1.6667277490774906,\n",
    " 'NDVI': 0.7395504864139549,\n",
    " 'R_n': 591.7990797337761,\n",
    " 'Slope_d': 0,\n",
    " 'T_sw': 0.6738504697590708,\n",
    " 'Ts': 24.818606619310742,\n",
    " 'e_0': 0.9666672774907749}\n",
    "\n",
    "\n",
    "# n1: 50 - n2: 70\n",
    "# 10-03-2022\n",
    "# Pixel Caliente: [-79.777671, -6.60432]\n",
    "\n",
    "pix_h_values = {'Albedo': 0.06610982200184219,\n",
    " 'Elev_m': 45,\n",
    " 'G': 76.4373511015453,\n",
    " 'LAI': 0.5352382716049381,\n",
    " 'NDVI': 0.20987654320987645,\n",
    " 'R_n': 662.8517020631945,\n",
    " 'Slope_d': 0.9336038688610028,\n",
    " 'T_sw': 0.6738631666008162,\n",
    " 'Ts': 26.9363186058946,\n",
    " 'e_0': 0.9553523827160494}\n",
    "\n",
    "display('pixel frío', pix_c_values) # Pixel frío seleccionado\n",
    "display('pixel caliente', pix_h_values) # Pixel caliente seleccionado"
   ]
  },
  {
   "cell_type": "code",
   "execution_count": null,
   "metadata": {
    "hidden": true
   },
   "outputs": [],
   "source": [
    "fin_iteraciones = 40\n",
    "\n",
    "# Establecer listas de inicio\n",
    "resultados_pix_f = [[], [], []]\n",
    "resultados_pix_c = [[], [], []]\n",
    "list_variables = ['r_ah', 'air_dens_p', 'dT0']\n",
    "\n",
    "resultados_coef = [[], []]\n",
    "list_variables_coef = ['a_coef', 'b_coef']\n",
    "\n",
    "# 1er Iteración\n",
    "pix_c_procesado_inicial = procesado_inicial(pix_c_values, filtrado_ws, filtrado_et, Kc=1.05)\n",
    "pix_h_procesado_inicial = procesado_inicial(pix_h_values, filtrado_ws, filtrado_et, Kc=0) \n",
    "\n",
    "u_200 = pix_c_procesado_inicial['u_200']\n",
    "\n",
    "resultados_pix_f = guardar_resultados(resultados_pix_f, pix_c_procesado_inicial, list_variables)\n",
    "resultados_pix_c = guardar_resultados(resultados_pix_c, pix_h_procesado_inicial, list_variables)\n",
    "\n",
    "pix_c_procesado, pix_h_procesado = get_H(pix_c_procesado_inicial, pix_h_procesado_inicial)\n",
    "\n",
    "resultados_coef = guardar_resultados(resultados_coef, pix_c_procesado, list_variables_coef)\n",
    "\n",
    "pix_c_stability_cor = stability_corr(pix_c_procesado)\n",
    "pix_h_stability_cor = stability_corr(pix_h_procesado)\n",
    "\n",
    "# 2da iteración\n",
    "pix_c_iter = iteracion(u_200, pix_c_procesado, pix_c_values, pix_c_stability_cor, pix_c_procesado_inicial['H0'])\n",
    "pix_h_iter = iteracion(u_200, pix_h_procesado, pix_h_values, pix_h_stability_cor, pix_h_procesado_inicial['H0'])\n",
    "\n",
    "resultados_pix_f = guardar_resultados(resultados_pix_f, pix_c_iter, list_variables)\n",
    "resultados_pix_c = guardar_resultados(resultados_pix_c, pix_h_iter, list_variables)\n",
    "\n",
    "pix_c_post_iter, pix_h_post_iter = get_H(pix_c_iter, pix_h_iter)\n",
    "\n",
    "resultados_coef = guardar_resultados(resultados_coef, pix_c_post_iter, list_variables_coef)\n",
    "\n",
    "pix_c_stability_cor = stability_corr(pix_c_post_iter)\n",
    "pix_h_stability_cor = stability_corr(pix_h_post_iter)\n",
    "\n",
    "# Proceso Iterativo (es necesario realizar una iteracion para luego utilizar el bucle while)\n",
    "x = 0\n",
    "\n",
    "while x < fin_iteraciones:\n",
    "    \n",
    "    pix_c_iter = iteracion(u_200, pix_c_post_iter, pix_c_values, pix_c_stability_cor, pix_c_procesado_inicial['H0'])\n",
    "    pix_h_iter = iteracion(u_200, pix_h_post_iter, pix_h_values, pix_h_stability_cor, pix_h_procesado_inicial['H0'])\n",
    "    \n",
    "    resultados_pix_f = guardar_resultados(resultados_pix_f, pix_c_iter, list_variables)\n",
    "    resultados_pix_c = guardar_resultados(resultados_pix_c, pix_h_iter, list_variables)\n",
    "    \n",
    "    pix_c_post_iter, pix_h_post_iter = get_H(pix_c_iter, pix_h_iter)\n",
    "    \n",
    "    resultados_coef = guardar_resultados(resultados_coef, pix_c_post_iter, list_variables_coef)\n",
    "\n",
    "    pix_c_stability_cor = stability_corr(pix_c_post_iter)\n",
    "    pix_h_stability_cor = stability_corr(pix_h_post_iter)\n",
    "    \n",
    "    x+=1\n",
    "\n",
    "print(f'{x} iteraciones realizadas!')\n",
    "\n",
    "\n",
    "# Elaborando los diccionarios para ploteo\n",
    "resultados_pix_c_dict = {}\n",
    "resultados_pix_h_dict = {}\n",
    "\n",
    "for i in range(3):\n",
    "    resultados_pix_c_dict[list_variables[i]] = resultados_pix_f[i]\n",
    "    resultados_pix_h_dict[list_variables[i]] = resultados_pix_c[i]\n",
    "\n",
    "print(resultados_pix_c_dict.keys())\n",
    "print(resultados_pix_h_dict.keys())\n",
    "\n",
    "# pd.DataFrame(resultados_pix_c_dict).to_csv('resultados_pix_c_csv.csv')\n",
    "# pd.DataFrame(resultados_pix_h_dict).to_csv('resultados_pix_h_csv.csv')"
   ]
  },
  {
   "cell_type": "markdown",
   "metadata": {
    "hidden": true
   },
   "source": [
    "**Parte iterativa: Resultados**\n",
    "\n",
    "This iterative process is repeated until the successive values for **dT_hot** and **r_ah** at the \"hot\" pixel have stabilized. \n",
    "\n",
    "Next, compute the final corrected value or the sensible heat flux (H) at each pixel, which will be used in the computation of the instantaneous ET at each pixel."
   ]
  },
  {
   "cell_type": "code",
   "execution_count": null,
   "metadata": {
    "hidden": true
   },
   "outputs": [],
   "source": [
    "# ruta = 'images/parte_iterativa/'\n",
    "# os.mkdir(ruta)\n",
    "os.listdir('images/parte_iterativa/')"
   ]
  },
  {
   "cell_type": "code",
   "execution_count": null,
   "metadata": {
    "hidden": true
   },
   "outputs": [],
   "source": [
    "# Pixel frío\n",
    "# fecha = '2022-03-10'\n",
    "resultados = resultados_pix_c_dict\n",
    "color_l = 'blue' # 'darkred', 'blue'\n",
    "pixel = 'Frío' # 'Frío', 'Caliente'\n",
    "title_name = f'Pixel {pixel}'\n",
    "\n",
    "valores = [i for i in range (1, fin_iteraciones+2+1)]\n",
    "xlabels = ['Rah', 'Air density', 'dT']\n",
    "\n",
    "fig, axs = plt.subplots(3,1,figsize=(10,12), layout='constrained') # Ojo con plt.figure(1, figsize=(12,6))\n",
    "axs[0].set_title(f'Resultados {title_name} {fecha}', fontsize='14')\n",
    "\n",
    "for n in range(0,3):\n",
    "\n",
    "    variable = list_variables[n]\n",
    "\n",
    "    # Estilos\n",
    "    axs[n].set_ylabel(xlabels[n], fontsize='12')\n",
    "    axs[n].grid(alpha=0.2)\n",
    "        \n",
    "    # Gráfica\n",
    "    axs[n].set_xticks(np.arange(0, fin_iteraciones+2+1, step=2))\n",
    "    axs[n].plot(valores, resultados[variable], color=color_l)\n",
    "\n",
    "axs[2].set_xlabel('N° Iteraciones', fontsize='12')\n",
    "\n",
    "# Guardar gráfica\n",
    "ruta = 'images/parte_iterativa/'\n",
    "nombre_img = f'{fecha}-{title_name}.jpg'\n",
    "fig.savefig(ruta+nombre_img)"
   ]
  },
  {
   "cell_type": "code",
   "execution_count": null,
   "metadata": {
    "hidden": true
   },
   "outputs": [],
   "source": [
    "# Pixel Caliente\n",
    "# fecha = '2022-03-10'\n",
    "resultados = resultados_pix_h_dict\n",
    "color_l = 'red' # 'darkred', 'blue'\n",
    "pixel = 'Caliente' # 'Frío', 'Caliente'\n",
    "title_name = f'Pixel {pixel}'\n",
    "\n",
    "valores = [i for i in range (1, fin_iteraciones+2+1)]\n",
    "xlabels = ['Rah', 'Air density', 'dT']\n",
    "\n",
    "fig, axs = plt.subplots(3,1,figsize=(10,12), layout='constrained') # Ojo con plt.figure(1, figsize=(12,6))\n",
    "axs[0].set_title(f'Resultados {title_name} {fecha}', fontsize='14')\n",
    "\n",
    "for n in range(0,3):\n",
    "\n",
    "    variable = list_variables[n]\n",
    "\n",
    "    # Estilos\n",
    "    axs[n].set_ylabel(xlabels[n], fontsize='12')\n",
    "    axs[n].grid(alpha=0.2)\n",
    "        \n",
    "    # Gráfica\n",
    "    axs[n].set_xticks(np.arange(0, fin_iteraciones+2+1, step=2))\n",
    "    axs[n].plot(valores, resultados[variable], color=color_l)\n",
    "\n",
    "axs[2].set_xlabel('N° Iteraciones', fontsize='12')\n",
    "\n",
    "# Guardar gráfica\n",
    "ruta = 'images/parte_iterativa/'\n",
    "nombre_img = f'{fecha}-{title_name}.jpg'\n",
    "fig.savefig(ruta+nombre_img)"
   ]
  },
  {
   "cell_type": "markdown",
   "metadata": {
    "hidden": true
   },
   "source": [
    "**Coeficientes a y b**"
   ]
  },
  {
   "cell_type": "code",
   "execution_count": null,
   "metadata": {
    "hidden": true
   },
   "outputs": [],
   "source": [
    "coef_a = resultados_coef[0] \n",
    "coef_b = resultados_coef[1]\n",
    "\n",
    "# resultados.keys()\n",
    "print('a_coef: ', coef_a[-1])\n",
    "print('b_coef: ', coef_b[-1])\n",
    "\n",
    "plt.figure(figsize=(10,6), layout='constrained') # valores = [i for i in range (1, fin_iteraciones+3)]\n",
    "\n",
    "title_name = f'{fecha} - Coeficientes a y b' \n",
    "plt.title(title_name, fontsize='14')\n",
    "plt.xlabel('N° Iteraciones', fontsize='12')\n",
    "\n",
    "plt.xticks(np.arange(0, fin_iteraciones+3, step=2))\n",
    "\n",
    "plt.plot(valores, coef_a, label='Coef a', color='blue')\n",
    "plt.plot(valores, coef_b, label='Coef b', color='red')\n",
    "plt.grid(alpha=0.2)\n",
    "\n",
    "texto = f'a:    {round(coef_a[-1], 4)}\\nb: {round(coef_b[-1], 4)}'\n",
    "plt.annotate(texto, xy=(fin_iteraciones-1, -400), fontsize='12')\n",
    "\n",
    "plt.legend(fontsize='12', frameon=False, labelspacing=0.2)\n",
    "\n",
    "# Guardar gráfica\n",
    "ruta = 'images/parte_iterativa/'\n",
    "nombre_img = f'{title_name}.jpg'\n",
    "plt.savefig(ruta+nombre_img, dpi=400);"
   ]
  },
  {
   "cell_type": "markdown",
   "metadata": {
    "hidden": true
   },
   "source": [
    "**Comparativa de resultados entre ambos tipos de pixeles Frío y Caliente**"
   ]
  },
  {
   "cell_type": "code",
   "execution_count": null,
   "metadata": {
    "hidden": true,
    "scrolled": false
   },
   "outputs": [],
   "source": [
    "# Desarrollo de gráfica\n",
    "# valores = [i for i in range (1, fin_iteraciones+3)]\n",
    "\n",
    "fig, axs = plt.subplots(3,1, figsize=(10,12), layout='constrained')#, sharex=True)\n",
    "\n",
    "title_name = f'{fecha} - Comparativa Pixel Frío y Pixel Caliente'\n",
    "axs[0].set_title(title_name, fontsize='14')\n",
    "\n",
    "for n in range(0,3):\n",
    "    \n",
    "    variable = list_variables[n]\n",
    "    axs[n].set_ylabel(xlabels[n], fontsize='12')\n",
    "    axs[n].set_xticks(np.arange(0, fin_iteraciones+3, step=2))\n",
    "    axs[n].plot(valores, resultados_pix_c_dict[variable], 'b-',label='Pixel Frío')#, color='blue')\n",
    "    axs[n].plot(valores, resultados_pix_h_dict[variable], 'r-',label='Pixel Caliente')#, color='red')\n",
    "    axs[n].grid(alpha=0.2)\n",
    "\n",
    "axs[0].legend(fontsize='12')\n",
    "axs[2].set_xlabel('N° Iteraciones', fontsize='12');\n",
    "\n",
    "ruta = 'images/parte_iterativa/'\n",
    "nombre_img = f'{title_name}.jpg'\n",
    "fig.savefig(ruta+nombre_img, dpi=400);"
   ]
  },
  {
   "cell_type": "markdown",
   "metadata": {},
   "source": [
    "##### Evaluación de fecha 2022-06-14"
   ]
  },
  {
   "cell_type": "code",
   "execution_count": 10,
   "metadata": {},
   "outputs": [
    {
     "name": "stdout",
     "output_type": "stream",
     "text": [
      "2022-06-14\n"
     ]
    },
    {
     "data": {
      "text/plain": [
       "'pixel frío'"
      ]
     },
     "metadata": {},
     "output_type": "display_data"
    },
    {
     "data": {
      "text/plain": [
       "{'Albedo': 0.18027227029185394,\n",
       " 'Elev_m': 45,\n",
       " 'G': 52.054210600211356,\n",
       " 'LAI': 1.2312135011441645,\n",
       " 'NDVI': 0.535677137507801,\n",
       " 'R_n': 459.1414018222289,\n",
       " 'Slope_d': 2.084105344420737,\n",
       " 'T_sw': 0.6590966639583984,\n",
       " 'Ts': 24.02104843881108,\n",
       " 'e_0': 0.9623121350114416}"
      ]
     },
     "metadata": {},
     "output_type": "display_data"
    },
    {
     "data": {
      "text/plain": [
       "'pixel caliente'"
      ]
     },
     "metadata": {},
     "output_type": "display_data"
    },
    {
     "data": {
      "text/plain": [
       "{'Albedo': 0.09296234673562581,\n",
       " 'Elev_m': 45,\n",
       " 'G': 72.15933814018655,\n",
       " 'LAI': 0.30989732334047115,\n",
       " 'NDVI': 0.104389721627409,\n",
       " 'R_n': 504.447449401512,\n",
       " 'Slope_d': 0,\n",
       " 'T_sw': 0.6592193096535455,\n",
       " 'Ts': 31.87732831242232,\n",
       " 'e_0': 0.9530989732334046}"
      ]
     },
     "metadata": {},
     "output_type": "display_data"
    }
   ],
   "source": [
    "# Ingresar aquí los valores de cada pixel seleccionado para esta fecha\n",
    "\n",
    "fecha = img_date_format2 # 2022-06-14\n",
    "filtrado_ws = 1.6  # km/h\n",
    "filtrado_et = 0.46  # mm/h\n",
    "\n",
    "print(fecha)\n",
    "\n",
    "# 14-06-2022\n",
    "# n1: 50 - n2: 10\n",
    "# Pixel Frío: [-79.778717, -6.60486]\n",
    "\n",
    "pix_c_values = {'Albedo': 0.18027227029185394,\n",
    " 'Elev_m': 45,\n",
    " 'G': 52.054210600211356,\n",
    " 'LAI': 1.2312135011441645,\n",
    " 'NDVI': 0.535677137507801,\n",
    " 'R_n': 459.1414018222289,\n",
    " 'Slope_d': 2.084105344420737,\n",
    " 'T_sw': 0.6590966639583984,\n",
    " 'Ts': 24.02104843881108,\n",
    " 'e_0': 0.9623121350114416}\n",
    "\n",
    "# n1: 50 - n2: 70\n",
    "# 14-06-2022\n",
    "# Pixel Caliente: [-79.784722, -6.595663]\n",
    "pix_h_values = {'Albedo': 0.09296234673562581,\n",
    " 'Elev_m': 45,\n",
    " 'G': 72.15933814018655,\n",
    " 'LAI': 0.30989732334047115,\n",
    " 'NDVI': 0.104389721627409,\n",
    " 'R_n': 504.447449401512,\n",
    " 'Slope_d': 0,\n",
    " 'T_sw': 0.6592193096535455,\n",
    " 'Ts': 31.87732831242232,\n",
    " 'e_0': 0.9530989732334046}\n",
    "\n",
    "display('pixel frío', pix_c_values) # Pixel frío seleccionado\n",
    "display('pixel caliente', pix_h_values) # Pixel caliente seleccionado"
   ]
  },
  {
   "cell_type": "code",
   "execution_count": 11,
   "metadata": {},
   "outputs": [
    {
     "name": "stdout",
     "output_type": "stream",
     "text": [
      "40 iteraciones realizadas!\n",
      "dict_keys(['r_ah', 'air_dens_p', 'dT0'])\n",
      "dict_keys(['r_ah', 'air_dens_p', 'dT0'])\n"
     ]
    }
   ],
   "source": [
    "fin_iteraciones = 40\n",
    "\n",
    "# Establecer listas de inicio\n",
    "resultados_pix_f = [[], [], []]\n",
    "resultados_pix_c = [[], [], []]\n",
    "list_variables = ['r_ah', 'air_dens_p', 'dT0']\n",
    "\n",
    "resultados_coef = [[], []]\n",
    "list_variables_coef = ['a_coef', 'b_coef']\n",
    "\n",
    "# 1er Iteración\n",
    "pix_c_procesado_inicial = procesado_inicial(pix_c_values, filtrado_ws, filtrado_et, Kc=1.05)\n",
    "pix_h_procesado_inicial = procesado_inicial(pix_h_values, filtrado_ws, filtrado_et, Kc=0) \n",
    "\n",
    "u_200 = pix_c_procesado_inicial['u_200']\n",
    "\n",
    "resultados_pix_f = guardar_resultados(resultados_pix_f, pix_c_procesado_inicial, list_variables)\n",
    "resultados_pix_c = guardar_resultados(resultados_pix_c, pix_h_procesado_inicial, list_variables)\n",
    "\n",
    "pix_c_procesado, pix_h_procesado = get_H(pix_c_procesado_inicial, pix_h_procesado_inicial)\n",
    "\n",
    "resultados_coef = guardar_resultados(resultados_coef, pix_c_procesado, list_variables_coef)\n",
    "\n",
    "pix_c_stability_cor = stability_corr(pix_c_procesado)\n",
    "pix_h_stability_cor = stability_corr(pix_h_procesado)\n",
    "\n",
    "# 2da iteración\n",
    "pix_c_iter = iteracion(u_200, pix_c_procesado, pix_c_values, pix_c_stability_cor, pix_c_procesado_inicial['H0'])\n",
    "pix_h_iter = iteracion(u_200, pix_h_procesado, pix_h_values, pix_h_stability_cor, pix_h_procesado_inicial['H0'])\n",
    "\n",
    "resultados_pix_f = guardar_resultados(resultados_pix_f, pix_c_iter, list_variables)\n",
    "resultados_pix_c = guardar_resultados(resultados_pix_c, pix_h_iter, list_variables)\n",
    "\n",
    "pix_c_post_iter, pix_h_post_iter = get_H(pix_c_iter, pix_h_iter)\n",
    "\n",
    "resultados_coef = guardar_resultados(resultados_coef, pix_c_post_iter, list_variables_coef)\n",
    "\n",
    "pix_c_stability_cor = stability_corr(pix_c_post_iter)\n",
    "pix_h_stability_cor = stability_corr(pix_h_post_iter)\n",
    "\n",
    "# Proceso Iterativo (es necesario realizar una iteracion para luego utilizar el bucle while)\n",
    "x = 0\n",
    "\n",
    "while x < fin_iteraciones:\n",
    "    \n",
    "    pix_c_iter = iteracion(u_200, pix_c_post_iter, pix_c_values, pix_c_stability_cor, pix_c_procesado_inicial['H0'])\n",
    "    pix_h_iter = iteracion(u_200, pix_h_post_iter, pix_h_values, pix_h_stability_cor, pix_h_procesado_inicial['H0'])\n",
    "    \n",
    "    resultados_pix_f = guardar_resultados(resultados_pix_f, pix_c_iter, list_variables)\n",
    "    resultados_pix_c = guardar_resultados(resultados_pix_c, pix_h_iter, list_variables)\n",
    "    \n",
    "    pix_c_post_iter, pix_h_post_iter = get_H(pix_c_iter, pix_h_iter)\n",
    "    \n",
    "    resultados_coef = guardar_resultados(resultados_coef, pix_c_post_iter, list_variables_coef)\n",
    "\n",
    "    pix_c_stability_cor = stability_corr(pix_c_post_iter)\n",
    "    pix_h_stability_cor = stability_corr(pix_h_post_iter)\n",
    "    \n",
    "    x+=1\n",
    "\n",
    "print(f'{x} iteraciones realizadas!')\n",
    "\n",
    "\n",
    "# Elaborando los diccionarios para ploteo\n",
    "resultados_pix_c_dict = {}\n",
    "resultados_pix_h_dict = {}\n",
    "\n",
    "for i in range(3):\n",
    "    resultados_pix_c_dict[list_variables[i]] = resultados_pix_f[i]\n",
    "    resultados_pix_h_dict[list_variables[i]] = resultados_pix_c[i]\n",
    "\n",
    "print(resultados_pix_c_dict.keys())\n",
    "print(resultados_pix_h_dict.keys())\n",
    "\n",
    "# pd.DataFrame(resultados_pix_c_dict).to_csv('resultados_pix_c_csv.csv')\n",
    "# pd.DataFrame(resultados_pix_h_dict).to_csv('resultados_pix_h_csv.csv')"
   ]
  },
  {
   "cell_type": "code",
   "execution_count": 12,
   "metadata": {},
   "outputs": [
    {
     "data": {
      "text/plain": [
       "['2022-03-10 - Coeficientes a y b.jpg',\n",
       " '2022-03-10 - Comparativa Pixel Frío y Pixel Caliente.jpg',\n",
       " '2022-03-10-Pixel Caliente.jpg',\n",
       " '2022-03-10-Pixel Frío.jpg',\n",
       " '2022-06-14 - Coeficientes a y b.jpg',\n",
       " '2022-06-14 - Comparativa Pixel Frío y Pixel Caliente.jpg',\n",
       " '2022-06-14-Pixel Caliente.jpg',\n",
       " '2022-06-14-Pixel Frío.jpg']"
      ]
     },
     "execution_count": 12,
     "metadata": {},
     "output_type": "execute_result"
    }
   ],
   "source": [
    "# ruta = 'images/parte_iterativa/'\n",
    "# os.mkdir(ruta)\n",
    "os.listdir('images/parte_iterativa/')"
   ]
  },
  {
   "cell_type": "code",
   "execution_count": 13,
   "metadata": {},
   "outputs": [
    {
     "data": {
      "image/png": "[encoded data removed]",
      "text/plain": [
       "<Figure size 720x864 with 3 Axes>"
      ]
     },
     "metadata": {
      "needs_background": "light"
     },
     "output_type": "display_data"
    }
   ],
   "source": [
    "# Pixel frío\n",
    "# fecha = img_date_format2 # '2022-06-14'\n",
    "resultados = resultados_pix_c_dict\n",
    "color_l = 'blue' # 'darkred', 'blue'\n",
    "pixel = 'Frío' # 'Frío', 'Caliente'\n",
    "title_name = f'Pixel {pixel}'\n",
    "\n",
    "valores = [i for i in range (1, fin_iteraciones+2+1)]\n",
    "xlabels = ['Rah', 'Air density', 'dT']\n",
    "\n",
    "fig, axs = plt.subplots(3,1,figsize=(10,12), layout='constrained') # Ojo con plt.figure(1, figsize=(12,6))\n",
    "axs[0].set_title(f'{fecha} - Resultados {title_name}', fontsize='14')\n",
    "\n",
    "for n in range(0,3):\n",
    "\n",
    "    variable = list_variables[n]\n",
    "\n",
    "    # Estilos\n",
    "    axs[n].set_ylabel(xlabels[n], fontsize='12')\n",
    "    axs[n].grid(alpha=0.2)\n",
    "        \n",
    "    # Gráfica\n",
    "    axs[n].set_xticks(np.arange(0, fin_iteraciones+2+1, step=2))\n",
    "    axs[n].plot(valores, resultados[variable], color=color_l)\n",
    "\n",
    "axs[2].set_xlabel('N° Iteraciones', fontsize='12')\n",
    "\n",
    "# Guardar gráfica\n",
    "ruta = 'images/parte_iterativa/'\n",
    "nombre_img = f'{fecha}-{title_name}.jpg'\n",
    "fig.savefig(ruta+nombre_img)"
   ]
  },
  {
   "cell_type": "code",
   "execution_count": 43,
   "metadata": {},
   "outputs": [
    {
     "data": {
      "image/png": "[encoded data removed]",
      "text/plain": [
       "<Figure size 720x864 with 3 Axes>"
      ]
     },
     "metadata": {
      "needs_background": "light"
     },
     "output_type": "display_data"
    }
   ],
   "source": [
    "# Pixel Caliente\n",
    "# fecha = img_date_format2 # '2022-06-14'\n",
    "resultados = resultados_pix_h_dict\n",
    "color_l = 'red' # 'darkred', 'blue'\n",
    "pixel = 'Caliente' # 'Frío', 'Caliente'\n",
    "title_name = f'Pixel {pixel}'\n",
    "\n",
    "valores = [i for i in range (1, fin_iteraciones+2+1)]\n",
    "xlabels = ['Rah', 'Air density', 'dT']\n",
    "\n",
    "fig, axs = plt.subplots(3,1,figsize=(10,12), layout='constrained') # Ojo con plt.figure(1, figsize=(12,6))\n",
    "axs[0].set_title(f'{fecha} - Resultados {title_name}', fontsize='14')\n",
    "\n",
    "for n in range(0,3):\n",
    "\n",
    "    variable = list_variables[n]\n",
    "\n",
    "    # Estilos\n",
    "    axs[n].set_ylabel(xlabels[n], fontsize='12')\n",
    "    axs[n].grid(alpha=0.2)\n",
    "        \n",
    "    # Gráfica\n",
    "    axs[n].set_xticks(np.arange(0, fin_iteraciones+2+1, step=2))\n",
    "    axs[n].plot(valores, resultados[variable], color=color_l)\n",
    "\n",
    "axs[2].set_xlabel('N° Iteraciones', fontsize='12')\n",
    "\n",
    "# Guardar gráfica\n",
    "ruta = 'images/parte_iterativa/'\n",
    "nombre_img = f'{fecha}-{title_name}.jpg'\n",
    "fig.savefig(ruta+nombre_img)"
   ]
  },
  {
   "cell_type": "markdown",
   "metadata": {},
   "source": [
    "**Coeficientes a y b**"
   ]
  },
  {
   "cell_type": "code",
   "execution_count": 14,
   "metadata": {},
   "outputs": [
    {
     "name": "stdout",
     "output_type": "stream",
     "text": [
      "a_coef:  0.3606538901960066\n",
      "b_coef:  -6.9496020216888095\n"
     ]
    },
    {
     "data": {
      "image/png": "[encoded data removed]",
      "text/plain": [
       "<Figure size 720x432 with 1 Axes>"
      ]
     },
     "metadata": {
      "needs_background": "light"
     },
     "output_type": "display_data"
    }
   ],
   "source": [
    "coef_a = resultados_coef[0] \n",
    "coef_b = resultados_coef[1]\n",
    "\n",
    "# resultados.keys()\n",
    "print('a_coef: ', coef_a[-1])\n",
    "print('b_coef: ', coef_b[-1])\n",
    "\n",
    "plt.figure(figsize=(10,6), layout='constrained') # valores = [i for i in range (1, fin_iteraciones+3)]\n",
    "\n",
    "title_name = f'{fecha} - Coeficientes a y b' \n",
    "plt.title(title_name, fontsize='14')\n",
    "plt.xlabel('N° Iteraciones', fontsize='12')\n",
    "\n",
    "plt.xticks(np.arange(0, fin_iteraciones+3, step=2))\n",
    "\n",
    "plt.plot(valores, coef_a, label='Coef a', color='blue')\n",
    "plt.plot(valores, coef_b, label='Coef b', color='red')\n",
    "plt.grid(alpha=0.2)\n",
    "\n",
    "texto = f'a:   {round(coef_a[-1], 4)}\\nb:  {round(coef_b[-1], 4)}'\n",
    "plt.annotate(texto, xy=(fin_iteraciones-1, -175), fontsize='12')\n",
    "\n",
    "plt.legend(fontsize='12', frameon=False, labelspacing=0.2)\n",
    "\n",
    "# Guardar gráfica\n",
    "ruta = 'images/parte_iterativa/'\n",
    "nombre_img = f'{title_name}.jpg'\n",
    "plt.savefig(ruta+nombre_img)#, dpi=400);"
   ]
  },
  {
   "cell_type": "markdown",
   "metadata": {},
   "source": [
    "**Comparativa de resultados entre ambos tipos de pixeles Frío y Caliente**"
   ]
  },
  {
   "cell_type": "code",
   "execution_count": 15,
   "metadata": {
    "scrolled": false
   },
   "outputs": [
    {
     "data": {
      "image/png": "[encoded data removed]",
      "text/plain": [
       "<Figure size 720x864 with 3 Axes>"
      ]
     },
     "metadata": {
      "needs_background": "light"
     },
     "output_type": "display_data"
    }
   ],
   "source": [
    "# Desarrollo de gráfica\n",
    "# valores = [i for i in range (1, fin_iteraciones+3)]\n",
    "\n",
    "fig, axs = plt.subplots(3,1, figsize=(10,12), layout='constrained')#, sharex=True)\n",
    "\n",
    "title_name = f'{fecha} - Comparativa Pixel Frío y Pixel Caliente'\n",
    "axs[0].set_title(title_name, fontsize='14')\n",
    "\n",
    "for n in range(0,3):\n",
    "    \n",
    "    variable = list_variables[n]\n",
    "    axs[n].set_ylabel(xlabels[n], fontsize='12')\n",
    "    axs[n].set_xticks(np.arange(0, fin_iteraciones+3, step=2))\n",
    "    axs[n].plot(valores, resultados_pix_c_dict[variable], 'b-',label='Pixel Frío')#, color='blue')\n",
    "    axs[n].plot(valores, resultados_pix_h_dict[variable], 'r-',label='Pixel Caliente')#, color='red')\n",
    "    axs[n].grid(alpha=0.2)\n",
    "\n",
    "axs[0].legend(fontsize='12')\n",
    "axs[2].set_xlabel('N° Iteraciones', fontsize='12');\n",
    "\n",
    "ruta = 'images/parte_iterativa/'\n",
    "nombre_img = f'{title_name}.jpg'\n",
    "fig.savefig(ruta+nombre_img, dpi=400);"
   ]
  },
  {
   "cell_type": "markdown",
   "metadata": {},
   "source": [
    "---"
   ]
  },
  {
   "cell_type": "markdown",
   "metadata": {},
   "source": [
    "**H corregido**"
   ]
  },
  {
   "cell_type": "markdown",
   "metadata": {},
   "source": [
    "Por hacer:\n",
    "- Concluir con el desarrollo del parámetro H corregido. \n",
    "\n",
    "$$\n",
    "H = \\rho_{air}C_p\\frac{dT}{r_{ah}}\n",
    "$$\n",
    "\n",
    "Para ello se requiere:\n",
    "    - revisar parámetro por parámetro\n",
    "    - desarrollar las funciones\n",
    "    - revisar con el excel"
   ]
  },
  {
   "cell_type": "code",
   "execution_count": 16,
   "metadata": {},
   "outputs": [],
   "source": [
    "# Inputs principales\n",
    "img_tempK = img_productos.select('Ts_k').clip(predios_agricolas)\n",
    "dem = ee.Image(\"USGS/SRTMGL1_003\").clip(predios_agricolas) "
   ]
  },
  {
   "cell_type": "code",
   "execution_count": 17,
   "metadata": {},
   "outputs": [],
   "source": [
    "# 1. Air density\n",
    "air_pressureP = dem.expression(\n",
    "    '101.3*( (293.15-0.0065*dem_elev)/293.15)**5.26',\n",
    "    {'dem_elev': dem})\n",
    "\n",
    "air_dens_p = air_pressureP.expression(\n",
    "    '1000*air_pressureP/(1.01*(air_tempK)*287)',\n",
    "    {'air_pressureP':air_pressureP,\n",
    "     'air_tempK':img_tempK})\n",
    "\n",
    "# 2. Air Specific Heat Cp\n",
    "Cp = 1004"
   ]
  },
  {
   "cell_type": "code",
   "execution_count": 18,
   "metadata": {},
   "outputs": [
    {
     "data": {
      "text/plain": [
       "{'max': {'dT': -2066.7571064794697},\n",
       " 'mean': {'dT': -2098.480635285517},\n",
       " 'median': {'dT': -2095.6193580356726},\n",
       " 'min': {'dT': -2121.3551249720717},\n",
       " 'mode': {'dT': -2088.390402948621},\n",
       " 'stdDev': {'dT': 11.371770217591864}}"
      ]
     },
     "execution_count": 18,
     "metadata": {},
     "output_type": "execute_result"
    }
   ],
   "source": [
    "# 3. dT\n",
    "# 3.1. Ts_dem\n",
    "Ts_dem = img_tempK.expression(\n",
    "    'img_tempK + Tlapse_rate/1000*(dem_elev-elev_station)',\n",
    "    {'img_tempK': img_tempK,\n",
    "     'Tlapse_rate': 6.5,\n",
    "     'dem_elev': dem,\n",
    "     'elev_station': 3})\n",
    "\n",
    "# Observar como actúa la corrección por temperatura usando el DEM\n",
    "# display(get_stats(img_tempK, predios_agricolas, 30))\n",
    "# get_stats(Ts_dem, predios_agricolas, 30)\n",
    "\n",
    "# 3.2. dT\n",
    "coef_a = resultados_coef[0][-1]\n",
    "coef_b = resultados_coef[1][-1]\n",
    "\n",
    "img_dT = Ts_dem.multiply(coef_b).add(coef_a).rename('dT') # dT = a + b*Ts_dem\n",
    "get_stats(img_dT, predios_agricolas, 30)"
   ]
  },
  {
   "cell_type": "code",
   "execution_count": 53,
   "metadata": {},
   "outputs": [
    {
     "data": {
      "text/html": [
       "<div>\n",
       "<style scoped>\n",
       "    .dataframe tbody tr th:only-of-type {\n",
       "        vertical-align: middle;\n",
       "    }\n",
       "\n",
       "    .dataframe tbody tr th {\n",
       "        vertical-align: top;\n",
       "    }\n",
       "\n",
       "    .dataframe thead th {\n",
       "        text-align: right;\n",
       "    }\n",
       "</style>\n",
       "<table border=\"1\" class=\"dataframe\">\n",
       "  <thead>\n",
       "    <tr style=\"text-align: right;\">\n",
       "      <th></th>\n",
       "      <th>LAI</th>\n",
       "      <th>NDVI</th>\n",
       "      <th>Ts_c</th>\n",
       "      <th>Ts_k</th>\n",
       "      <th>albedo</th>\n",
       "      <th>cos_theta</th>\n",
       "      <th>e_0</th>\n",
       "      <th>e_NB</th>\n",
       "      <th>slope</th>\n",
       "      <th>t_sw</th>\n",
       "    </tr>\n",
       "  </thead>\n",
       "  <tbody>\n",
       "    <tr>\n",
       "      <th>max</th>\n",
       "      <td>1.293844</td>\n",
       "      <td>0.564996</td>\n",
       "      <td>31.877328</td>\n",
       "      <td>305.027328</td>\n",
       "      <td>0.314651</td>\n",
       "      <td>0.807201</td>\n",
       "      <td>0.962938</td>\n",
       "      <td>0.974270</td>\n",
       "      <td>6.230337</td>\n",
       "      <td>0.659322</td>\n",
       "    </tr>\n",
       "    <tr>\n",
       "      <th>mean</th>\n",
       "      <td>0.651017</td>\n",
       "      <td>0.264075</td>\n",
       "      <td>28.578469</td>\n",
       "      <td>301.728469</td>\n",
       "      <td>0.190679</td>\n",
       "      <td>0.766265</td>\n",
       "      <td>0.956510</td>\n",
       "      <td>0.972148</td>\n",
       "      <td>1.693220</td>\n",
       "      <td>0.659186</td>\n",
       "    </tr>\n",
       "    <tr>\n",
       "      <th>median</th>\n",
       "      <td>0.683745</td>\n",
       "      <td>0.278310</td>\n",
       "      <td>28.172278</td>\n",
       "      <td>301.324194</td>\n",
       "      <td>0.192801</td>\n",
       "      <td>0.764497</td>\n",
       "      <td>0.956815</td>\n",
       "      <td>0.972252</td>\n",
       "      <td>1.860348</td>\n",
       "      <td>0.659186</td>\n",
       "    </tr>\n",
       "    <tr>\n",
       "      <th>min</th>\n",
       "      <td>0.268857</td>\n",
       "      <td>0.085178</td>\n",
       "      <td>24.021048</td>\n",
       "      <td>297.171048</td>\n",
       "      <td>0.085689</td>\n",
       "      <td>0.723844</td>\n",
       "      <td>0.952689</td>\n",
       "      <td>0.970887</td>\n",
       "      <td>0.000000</td>\n",
       "      <td>0.659062</td>\n",
       "    </tr>\n",
       "    <tr>\n",
       "      <th>mode</th>\n",
       "      <td>0.699269</td>\n",
       "      <td>0.286231</td>\n",
       "      <td>27.079272</td>\n",
       "      <td>300.231551</td>\n",
       "      <td>0.202662</td>\n",
       "      <td>0.763783</td>\n",
       "      <td>0.957000</td>\n",
       "      <td>0.972312</td>\n",
       "      <td>0.930388</td>\n",
       "      <td>0.659183</td>\n",
       "    </tr>\n",
       "    <tr>\n",
       "      <th>stdDev</th>\n",
       "      <td>0.191059</td>\n",
       "      <td>0.089439</td>\n",
       "      <td>1.638042</td>\n",
       "      <td>1.638042</td>\n",
       "      <td>0.042736</td>\n",
       "      <td>0.014451</td>\n",
       "      <td>0.001911</td>\n",
       "      <td>0.000630</td>\n",
       "      <td>0.962314</td>\n",
       "      <td>0.000038</td>\n",
       "    </tr>\n",
       "  </tbody>\n",
       "</table>\n",
       "</div>"
      ],
      "text/plain": [
       "             LAI      NDVI       Ts_c        Ts_k    albedo  cos_theta  \\\n",
       "max     1.293844  0.564996  31.877328  305.027328  0.314651   0.807201   \n",
       "mean    0.651017  0.264075  28.578469  301.728469  0.190679   0.766265   \n",
       "median  0.683745  0.278310  28.172278  301.324194  0.192801   0.764497   \n",
       "min     0.268857  0.085178  24.021048  297.171048  0.085689   0.723844   \n",
       "mode    0.699269  0.286231  27.079272  300.231551  0.202662   0.763783   \n",
       "stdDev  0.191059  0.089439   1.638042    1.638042  0.042736   0.014451   \n",
       "\n",
       "             e_0      e_NB     slope      t_sw  \n",
       "max     0.962938  0.974270  6.230337  0.659322  \n",
       "mean    0.956510  0.972148  1.693220  0.659186  \n",
       "median  0.956815  0.972252  1.860348  0.659186  \n",
       "min     0.952689  0.970887  0.000000  0.659062  \n",
       "mode    0.957000  0.972312  0.930388  0.659183  \n",
       "stdDev  0.001911  0.000630  0.962314  0.000038  "
      ]
     },
     "execution_count": 53,
     "metadata": {},
     "output_type": "execute_result"
    }
   ],
   "source": [
    "img_productos_df"
   ]
  },
  {
   "cell_type": "code",
   "execution_count": 24,
   "metadata": {},
   "outputs": [],
   "source": [
    "# 4. rah\n",
    "# 4.1. Z_om\n",
    "# 2. Momentum roughness length Z_om\n",
    "img_lai = img_productos.select('LAI').clip(predios_agricolas)\n",
    "img_slope = img_productos.select('slope').clip(predios_agricolas)"
   ]
  },
  {
   "cell_type": "code",
   "execution_count": 26,
   "metadata": {},
   "outputs": [
    {
     "data": {
      "text/plain": [
       "{'max': {'Z_om': 0.02328919941034575},\n",
       " 'mean': {'Z_om': 0.011718442810433735},\n",
       " 'median': {'Z_om': 0.012266014285036974},\n",
       " 'min': {'Z_om': 0.005},\n",
       " 'mode': {'Z_om': 0.012623972012740844},\n",
       " 'stdDev': {'Z_om': 0.00343881737071093}}"
      ]
     },
     "execution_count": 26,
     "metadata": {},
     "output_type": "execute_result"
    }
   ],
   "source": [
    "# Flat model momemtum roughnes length\n",
    "# img_lai < 0.2778 -> Z_om = 0.005 # represents roughness typical of bare agricultural soils\n",
    "# img_lai >= 0.2778 -> Z_om = 0.018*img_lai\n",
    "img_zom1 = img_lai.where(img_lai.gte(0.2778), img_lai.multiply(0.018)).where(img_lai.lt(0.2778), 0.005).rename('Z_om')\n",
    "get_stats(img_zom1, predios_agricolas, 30)"
   ]
  },
  {
   "cell_type": "code",
   "execution_count": 27,
   "metadata": {},
   "outputs": [
    {
     "data": {
      "text/plain": [
       "{'max': {'Z_om': 0.02328919941034575},\n",
       " 'mean': {'Z_om': 0.011720017919625476},\n",
       " 'median': {'Z_om': 0.012266014285036974},\n",
       " 'min': {'Z_om': 0.005},\n",
       " 'mode': {'Z_om': 0.012623972012740844},\n",
       " 'stdDev': {'Z_om': 0.0034390238899356293}}"
      ]
     },
     "execution_count": 27,
     "metadata": {},
     "output_type": "execute_result"
    }
   ],
   "source": [
    "# Adjusting momentum roughness length for slopes\n",
    "img_slope_gt5 = img_slope.gte(5)\n",
    "img_zom2 = img_zom1.where(img_slope.gte(5), img_slope.subtract(5).divide(20).add(1).multiply(img_zom))\n",
    "get_stats(img_zom2, predios_agricolas, 30)"
   ]
  },
  {
   "cell_type": "code",
   "execution_count": 29,
   "metadata": {},
   "outputs": [
    {
     "data": {
      "application/vnd.jupyter.widget-view+json": {
       "model_id": "b875b5dd1a204be7b6ee9fa570320601",
       "version_major": 2,
       "version_minor": 0
      },
      "text/plain": [
       "Map(center=[-6.599795740070353, -79.78072031868163], controls=(WidgetControl(options=['position', 'transparent…"
      ]
     },
     "metadata": {},
     "output_type": "display_data"
    }
   ],
   "source": [
    "Map = geemap.Map()\n",
    "Map.centerObject(predios_agricolas, 16)\n",
    "Map.addLayer(img_slope.gte(5), {}, 'img_slope_gte5')\n",
    "Map"
   ]
  },
  {
   "cell_type": "code",
   "execution_count": 34,
   "metadata": {},
   "outputs": [
    {
     "data": {
      "application/vnd.jupyter.widget-view+json": {
       "model_id": "5291fc6db27f49089ec884fd0f73ad75",
       "version_major": 2,
       "version_minor": 0
      },
      "text/plain": [
       "Map(center=[-6.599795740070353, -79.78072031868163], controls=(WidgetControl(options=['position', 'transparent…"
      ]
     },
     "metadata": {},
     "output_type": "display_data"
    }
   ],
   "source": [
    "vis_zom = {'min':0.005,\n",
    "          'max':0.02328919941034575,\n",
    "          'palette':cmp.get_palette('RdYlBu_r')}\n",
    "\n",
    "Map = geemap.Map()\n",
    "Map.centerObject(predios_agricolas, 16)\n",
    "Map.addLayer(img_zom1, vis_zom, 'img_zom1')\n",
    "Map.addLayer(img_slope.gte(5), {}, 'img_slope_gte5')\n",
    "Map.addLayer(img_zom2, vis_zom, 'img_zom2', opacity=0.8)\n",
    "Map"
   ]
  },
  {
   "cell_type": "code",
   "execution_count": null,
   "metadata": {},
   "outputs": [],
   "source": [
    "img_zom_adjusted = img_zom.where(img_slope.lt(5), img_zom).where(img_slope.gte(5), )"
   ]
  },
  {
   "cell_type": "code",
   "execution_count": null,
   "metadata": {},
   "outputs": [],
   "source": [
    "# Adjusting momentm roughness length for slopes (Z_om_mtn)\n",
    "if pixel_slope < 5:\n",
    "    Z_om = Z_om_flat\n",
    "else:\n",
    "    Z_om = Z_om_flat * ( 1+(pixel_slope-5)/20 )\n",
    "    \n",
    "# 4.1. u_star\n",
    "# u*1: Friction velocity (eq 31)\n",
    "k_const = 0.41 # von Karman's constant\n",
    "if correccion == None:\n",
    "    u_star = k_const*u_200*1/(math.log(200/Z_om)) # blending height: 200 m \n",
    "        \n",
    "get_u_star(u_200, Z_om"
   ]
  },
  {
   "cell_type": "code",
   "execution_count": null,
   "metadata": {},
   "outputs": [],
   "source": []
  },
  {
   "cell_type": "code",
   "execution_count": null,
   "metadata": {},
   "outputs": [],
   "source": [
    "# rah\n",
    "u_200"
   ]
  },
  {
   "cell_type": "code",
   "execution_count": null,
   "metadata": {},
   "outputs": [],
   "source": [
    "get_rah(u_star"
   ]
  },
  {
   "cell_type": "code",
   "execution_count": null,
   "metadata": {},
   "outputs": [],
   "source": [
    "# LAI a partir de NDVI: IAF = 2.1362*NDVI + 0.0869\n",
    "img_LAI_eq = image.multiply(2.1362).add(0.0869).rename('LAI')\n",
    "\n",
    "img_LAI_stats = get_stats(img_LAI_eq, predios_agricolas, 30)\n",
    "img_LAI_stats"
   ]
  },
  {
   "cell_type": "code",
   "execution_count": null,
   "metadata": {
    "scrolled": false
   },
   "outputs": [],
   "source": [
    "# Visualización\n",
    "vis_params_lai = {'min': img_LAI_stats['min']['LAI'],\n",
    "                  'max': img_LAI_stats['max']['LAI'], \n",
    "                  'palette': cmp.get_palette('YlGn')} # cmp.get_palette('RdYlGn')\n",
    "\n",
    "title_map = f'LAI\\n{img_date_format1}'\n",
    "label = '$[\\; - \\;]$'\n",
    "\n",
    "get_grafica_cartoee_color(img_LAI_eq, vis_params_lai, text=title_map, label=label)"
   ]
  },
  {
   "cell_type": "code",
   "execution_count": null,
   "metadata": {},
   "outputs": [],
   "source": [
    "# 2. Momentum roughness length Z_om\n",
    "pixel_lai = pixel_values['LAI']\n",
    "pixel_slope = pixel_values['Slope_d']\n",
    "# Flat model momemtum roughnes length\n",
    "if pixel_lai < 0.2778:\n",
    "    Z_om_flat = 0.005 # m\n",
    "    # represents roughness typical of bare agricultural soils\n",
    "else:\n",
    "    Z_om_flat = 0.018*pixel_lai\n",
    "\n",
    "# Adjusting momentm roughness length for slopes (Z_om_mtn)\n",
    "if pixel_slope < 5:\n",
    "    Z_om = Z_om_flat\n",
    "else:\n",
    "    Z_om = Z_om_flat * ( 1+(pixel_slope-5)/20 )"
   ]
  },
  {
   "cell_type": "code",
   "execution_count": null,
   "metadata": {},
   "outputs": [],
   "source": [
    "def get_u_star(u_200, Z_om, correccion=None):\n",
    "    \n",
    "    \"\"\"u_star Friction velocity\n",
    "    Inputs:\n",
    "    - u_200\n",
    "    - Z_om\n",
    "    - correccion (opcional): La corrección se aplica cuando se realiza la iteración con valores de \n",
    "    correción por estabilidad y200m\n",
    "    Retorna:\n",
    "    - u_star\n",
    "    \"\"\"\n",
    "    \n",
    "    # u*1: Friction velocity (eq 31)\n",
    "    k_const = 0.41 # von Karman's constant\n",
    "    if correccion == None:\n",
    "        u_star = k_const*u_200*1/(math.log(200/Z_om)) # blending height: 200 m \n",
    "    else: \n",
    "        y200m = correccion['y200m']\n",
    "        u_star = k_const*u_200*1/(math.log(200/Z_om) - y200m)\n",
    "    \n",
    "    return u_star"
   ]
  },
  {
   "cell_type": "code",
   "execution_count": null,
   "metadata": {},
   "outputs": [],
   "source": [
    "def get_rah(u_star, correccion=None):\n",
    "    \n",
    "    '''r_ah Aerodynamic resistance (eq 30) [s/m]\n",
    "    Inputs:\n",
    "    - u_star\n",
    "    - correccion (opcional): La corrección se aplica cuando se realiza la iteración con valores de \n",
    "    correción por estabilidad yhz2 e yhz1\n",
    "    Retorna:\n",
    "    - r_ah \n",
    "    '''\n",
    "    \n",
    "    # r_ah 1 Aerodynamic resistance (eq 30) [s/m]\n",
    "    k_const = 0.41\n",
    "    z2 = 2\n",
    "    z1 = 0.1\n",
    "    \n",
    "    if correccion == None:\n",
    "        r_ah = math.log(z2/z1)/(u_star*k_const)\n",
    "    else:\n",
    "        yhz1 = correccion['yhz1']\n",
    "        yhz2 = correccion['yhz2']\n",
    "        r_ah = ( math.log(z2/z1) + yhz1 - yhz2 )/(u_star*k_const)\n",
    "        # La correccion se aplica cuando se realiza la iteración con valores\n",
    "        # de correccion por estabilidad yhz2, yhz1\n",
    "    \n",
    "    return r_ah"
   ]
  },
  {
   "cell_type": "code",
   "execution_count": null,
   "metadata": {},
   "outputs": [],
   "source": [
    "# Visualización\n",
    "vis_params_ts = {'min': img_prod_stats['min']['Ts_k'],\n",
    "                 'max': img_prod_stats['max']['Ts_k'],\n",
    "                 'palette': cmp.get_palette('RdYlBu_r')}\n",
    "\n",
    "Map = geemap.Map()\n",
    "Map.centerObject(predios_bound, 16)\n",
    "\n",
    "Map.addLayer(img_toa.clip(predios_bound), vis_rgb, 'RGB TOA')\n",
    "Map.addLayer(dem, {}, 'dem')\n",
    "Map.addLayer(img_tempK, vis_params_ts, 'Ts_k')\n",
    "Map.addLayer(Ts_dem, {}, 'Ts_dem')\n",
    "\n",
    "Map.add_colorbar(vis_params_ts, label=\"Ts [K]\", orientation=\"vertical\")\n",
    "\n",
    "Map"
   ]
  },
  {
   "cell_type": "code",
   "execution_count": null,
   "metadata": {},
   "outputs": [],
   "source": [
    "# rah\n",
    "Hcor = air_dens*Cp*dT/rah"
   ]
  },
  {
   "cell_type": "markdown",
   "metadata": {},
   "source": [
    "- https://matplotlib.org/stable/tutorials/intermediate/constrainedlayout_guide.html\n",
    "- https://matplotlib.org/stable/tutorials/intermediate/legend_guide.html#sphx-glr-tutorials-intermediate-legend-guide-py\n",
    "- https://matplotlib.org/stable/gallery/pyplots/annotate_transform.html#sphx-glr-gallery-pyplots-annotate-transform-py"
   ]
  },
  {
   "cell_type": "markdown",
   "metadata": {
    "id": "pabct91tNWnT"
   },
   "source": [
    "### $\\lambda{ET}$ y $ET$ instantánea"
   ]
  },
  {
   "cell_type": "markdown",
   "metadata": {
    "id": "9BFlEdU1khWU"
   },
   "source": [
    "Energía latente consumida por la evapotranspiración $LE \\; (W m^{-2})$\n",
    "\n",
    "$$\n",
    "LE = R_n - G - H\n",
    "$$"
   ]
  },
  {
   "cell_type": "markdown",
   "metadata": {
    "id": "adj7xFapkjMe"
   },
   "source": [
    "Evapotranspiración instantánea al momento de toma de imagen.\n",
    "\n",
    "$$\n",
    "ET_{inst} = 3,600 \\frac{LE}{\\lambda \\; \\rho_w} \n",
    "$$"
   ]
  },
  {
   "cell_type": "markdown",
   "metadata": {
    "id": "amOhUsVJNUJt"
   },
   "source": [
    "Calor latente de vaporización $\\lambda \\; (J kg^{-1})$ \n",
    "\n",
    "$$\n",
    "\\lambda = [2.501 - 0.00236 \\; ( T_s - 273.15)] \\times 10^6\n",
    "$$\n",
    "\n",
    "\n",
    "\n",
    "\n"
   ]
  },
  {
   "cell_type": "markdown",
   "metadata": {
    "id": "daCOnK6dO_ip"
   },
   "source": [
    "Fracción de evapotranspiración de referencia $ET_rF$\n",
    "\n",
    "> $ET_rF$ is the same as the well-known crop coefficient, $K_c$. When used with an alfalfa reference basis, and is used to extrapolate ET from the image time to periods of 24 h or longer.\n",
    "\n",
    "$$\n",
    "ET_rF = \\frac{ET_{inst}}{ET_r}\n",
    "$$"
   ]
  },
  {
   "cell_type": "markdown",
   "metadata": {
    "id": "o_vZ_O3KNYex"
   },
   "source": [
    "### Evapotranspiración de cultivo $ET_c$ por día"
   ]
  },
  {
   "cell_type": "markdown",
   "metadata": {
    "id": "TmDnkVOuXn9d"
   },
   "source": [
    "> In the METRIC process, $ET_{24}$ is estimated by assuming that the instantaneous $ET_rF$ computed at image time is the same as the average $ET_rF$ over the 24 h average. "
   ]
  },
  {
   "cell_type": "markdown",
   "metadata": {
    "id": "_twIKBx23snC"
   },
   "source": [
    "## Pruebas"
   ]
  },
  {
   "cell_type": "markdown",
   "metadata": {
    "heading_collapsed": true
   },
   "source": [
    "#### Parte iterativa"
   ]
  },
  {
   "cell_type": "markdown",
   "metadata": {
    "hidden": true,
    "id": "HcEONLQkI3UR"
   },
   "source": [
    "**Longitud de la rugosidad que gobierna la transferencia de momentum / Momentum roughness length $z_{om}$ [m]**"
   ]
  },
  {
   "cell_type": "markdown",
   "metadata": {
    "hidden": true,
    "id": "Tts5RwLsDBXc"
   },
   "source": [
    "Measure of the form drag and skin friction for the layer of air that interacts with the surface. \n",
    "\n",
    "$$\n",
    "z_{om} = 0.018 \\; \\text{LAI} \\qquad (33)\n",
    "$$"
   ]
  },
  {
   "cell_type": "code",
   "execution_count": null,
   "metadata": {
    "hidden": true,
    "id": "9ZRayGslE2ar"
   },
   "outputs": [],
   "source": [
    "# img_lai.select('LAI').reduceRegion(ee.Reducer.minMax(), scale=30).getInfo()"
   ]
  },
  {
   "cell_type": "code",
   "execution_count": null,
   "metadata": {
    "hidden": true,
    "id": "d4EwKhKWFDj1"
   },
   "outputs": [],
   "source": [
    "# Momentum roughness length z_om (m) - Tasumi (2003)\n",
    "# z_om = img_lai.select('LAI').multiply(0.018).rename('z_om')\n",
    "# z_om.reduceRegion(ee.Reducer.minMax(), scale=30).getInfo()"
   ]
  },
  {
   "cell_type": "code",
   "execution_count": null,
   "metadata": {
    "cellView": "form",
    "hidden": true,
    "id": "Vq25Man4C8xs"
   },
   "outputs": [],
   "source": [
    "# @markdown Visualización: LAI y NDVI\n",
    "\n",
    "# # NDVI > 0 \n",
    "# img_ndvi_gt0 = img_ndvi.updateMask(img_ndvi.select('NDVI').gt(0)).select('NDVI')\n",
    "\n",
    "# Map = geemap.Map(height='800px') \n",
    "# Map.centerObject(roi, 11)\n",
    "\n",
    "# # Map.addLayer(img_sr_tasumi, {'bands': ['B4_SR', 'B3_SR', 'B2_SR'], 'max': 0.3, 'min': 0.0}, 'RGB SR') \n",
    "\n",
    "# Map.addLayer(img_toa, vis_rgb, 'img_toa')\n",
    "# Map.addLayer(img_lai.select('LAI'), vis_ndvi, 'img_lai')\n",
    "# Map.addLayer(img_ndvi.select('NDVI'), vis_ndvi, 'img_ndvi')\n",
    "# Map.addLayer(img_ndvi_gt0, vis_ndvi, 'img_ndvi_gt0')\n",
    "\n",
    "# Map.addLayer(empty, {}, 'Chongoyape')\n",
    "# Map.addLayer(empty2, {}, 'Chongoyape_caja')\n",
    "\n",
    "# Map"
   ]
  },
  {
   "cell_type": "markdown",
   "metadata": {
    "hidden": true,
    "id": "45gNRwfUOktp"
   },
   "source": [
    "**Velocidad de viento a la altura w $u_w$ $[\\text{m s}^{-1}]$**"
   ]
  },
  {
   "cell_type": "markdown",
   "metadata": {
    "hidden": true,
    "id": "ovgq8JMPy5hl"
   },
   "source": [
    "Datos de estación Vista Florida 2021-2022. Inicio: `1/10/2021`"
   ]
  },
  {
   "cell_type": "code",
   "execution_count": null,
   "metadata": {
    "hidden": true,
    "id": "4--zud6NSDVy"
   },
   "outputs": [],
   "source": [
    "# 8 Imágenes seleccionadas\n",
    "# ids = [\n",
    "#     'LANDSAT/LC09/C02/T1/LC09_010065_20211212', # 0 - 12/12 - l9\n",
    "#     'LANDSAT/LC09/C02/T1/LC09_010065_20220113', # 1 - 01/13 - l9 OJO: NDVI negativos -> Posible riego 01 13\n",
    "#     'LANDSAT/LC09/C02/T1/LC09_010065_20220129', # 2 - 01/29 - l9\n",
    "#     'LANDSAT/LC08/C02/T1/LC08_010065_20220310', # 3 - 03/10 - l8\n",
    "#     'LANDSAT/LC09/C02/T1/LC09_010065_20220403', # 4 - 04/03 - l9\n",
    "#     'LANDSAT/LC09/C02/T1/LC09_010065_20220521', # 5 - 05/21 - l9\n",
    "#     'LANDSAT/LC08/C02/T1/LC08_010065_20220529', # 6 - 05/29 - l8\n",
    "#     'LANDSAT/LC08/C02/T1/LC08_010065_20220614'  # 7 - 06/14 - l8\n",
    "#       ]\n",
    "\n",
    "fechas_imgs = []\n",
    "\n",
    "for img_id in ids:\n",
    "    img_ee = ee.Image(img_id)\n",
    "    img_date = img_ee.date().format('YYYY-MM-dd').getInfo()\n",
    "    fechas_imgs.append(img_date)\n",
    "\n",
    "# fechas_imgs = '2021-12-12',\n",
    "#  '2022-01-13',\n",
    "#  '2022-01-29',\n",
    "#  '2022-03-10',\n",
    "#  '2022-04-03',\n",
    "#  '2022-05-21',\n",
    "#  '2022-05-29',\n",
    "#  '2022-06-14']"
   ]
  },
  {
   "cell_type": "code",
   "execution_count": null,
   "metadata": {
    "hidden": true,
    "id": "a9ADnHGKSDVy",
    "outputId": "b531efa7-a198-4395-9a38-0b2eb2ebe4a1",
    "scrolled": false
   },
   "outputs": [],
   "source": [
    "ruta_csv = 'EE_Vista_Florida.csv'\n",
    "df_estacion_vf = pd.read_csv(ruta_csv, na_values='---') \n",
    "df_estacion_vf.Date = pd.to_datetime(df_estacion_vf.Date, format='%d/%m/%Y')\n",
    "# df_estacion_vf\n",
    "\n",
    "# Cambio de formato en columna Time de object a numeric (para visualizar mejor con matplotlib)\n",
    "df_prueba = df_estacion_vf.copy()\n",
    "df_prueba['Time'] = pd.to_numeric(df_prueba['Time'].str.replace(\":\", \".\"))\n",
    "\n",
    "# Extraemos los datos de la estación para las fechas de existencia de imagen satelital\n",
    "datos_hora_imagen = df_prueba[df_prueba['Date'].isin(fechas_imgs)]\n",
    "# datos_hora_imagen\n",
    "\n",
    "# Visualizamos y comparamos los dataframes según la hora de filtrado\n",
    "display(datos_hora_imagen[datos_hora_imagen['Time']==10.30])\n",
    "display(datos_hora_imagen[datos_hora_imagen['Time']==11.00])"
   ]
  },
  {
   "cell_type": "code",
   "execution_count": null,
   "metadata": {
    "hidden": true,
    "id": "i32zzPrMSDVy",
    "outputId": "42dc86eb-e70d-46d7-ae71-4dc78bbed4a8"
   },
   "outputs": [],
   "source": [
    "fecha = img_date\n",
    "hora = 10.30\n",
    "\n",
    "print(fecha)\n",
    "filtrado = datos_hora_imagen[(datos_hora_imagen['Date']==fecha) & (datos_hora_imagen['Time']==hora)]\n",
    "filtrado"
   ]
  },
  {
   "cell_type": "code",
   "execution_count": null,
   "metadata": {
    "hidden": true,
    "id": "LI9h1n2rSDVy",
    "outputId": "aa537ad3-4e2a-4efa-8f45-a921ab48c9fb"
   },
   "outputs": [],
   "source": [
    "datos_hora_imagen[(datos_hora_imagen['Date']==fecha) & (datos_hora_imagen['Time']>=10)].head(13)"
   ]
  },
  {
   "cell_type": "code",
   "execution_count": null,
   "metadata": {
    "hidden": true,
    "id": "lYlMDSeMSDVy",
    "outputId": "e2731294-09bc-4d49-871f-42fe70486d91"
   },
   "outputs": [],
   "source": [
    "filtrado_ws = (\n",
    "    datos_hora_imagen[(datos_hora_imagen['Date'] == img_date) & (datos_hora_imagen['Time']==10.30)]['Wind Speed']\n",
    "    .values[0]\n",
    ")\n",
    "\n",
    "print(filtrado_ws) # [km/h]\n",
    "\n",
    "filtrado_et = (\n",
    "    datos_hora_imagen[(datos_hora_imagen['Date'] == img_date) & (datos_hora_imagen['Time']==11)]['ET']\n",
    "    .values[0]\n",
    ")\n",
    "print(filtrado_et)"
   ]
  },
  {
   "cell_type": "markdown",
   "metadata": {
    "hidden": true,
    "id": "hWvSU4vsSDVy"
   },
   "source": [
    "**Código pasado: Lectura de archivo .csv y visualización con plotly**"
   ]
  },
  {
   "cell_type": "code",
   "execution_count": null,
   "metadata": {
    "cellView": "form",
    "hidden": true,
    "id": "AIf6t1mrJNXJ",
    "scrolled": true
   },
   "outputs": [],
   "source": [
    "# @markdown Generar reporte de velocidad de viento\n",
    "\n",
    "# # Lectura de datos de la estación meteorológica Tinajones\n",
    "ruta_csv = 'https://raw.githubusercontent.com/vilcagamarracf/Inv_arroz_METRIC/main/files/Tinajones_datos_met_2021.csv'\n",
    "\n",
    "# df_tinajones = pd.read_csv(ruta_csv, na_values='S/D')\n",
    "df_tinajones.FECHA = pd.to_datetime(df_tinajones.FECHA, format='%d/%m/%Y')\n",
    "\n",
    "vel_viento_15hr = df_tinajones[df_tinajones['HORA']=='15:00']\n",
    "\n",
    "# # Lectura de datos del reporte de imágenes satelitales generado con Earth Engine\n",
    "ruta_reportel8 = 'https://raw.githubusercontent.com/vilcagamarracf/Inv_arroz_METRIC/main/files/reporteL8_RAW_2021.csv'\n",
    "\n",
    "# df_reportel8 = pd.read_csv(ruta_reportel8)\n",
    "fechas_reportel8 = df_reportel8['Fecha Corta'].tolist()\n",
    "\n",
    "vel_viento_15hr = vel_viento_15hr[vel_viento_15hr['FECHA'].isin(fechas_reportel8)]\n",
    "vel_viento_15hr"
   ]
  },
  {
   "cell_type": "code",
   "execution_count": null,
   "metadata": {
    "hidden": true,
    "id": "SkkijN50Jx4M",
    "scrolled": true
   },
   "outputs": [],
   "source": [
    "vel_viento_ruta = 'https://raw.githubusercontent.com/vilcagamarracf/Inv_arroz_METRIC/main/files/vel_viento_15hr.csv'\n",
    "vel_viento_15hr = pd.read_csv(vel_viento_ruta)\n",
    "vel_viento_15hr"
   ]
  },
  {
   "cell_type": "code",
   "execution_count": null,
   "metadata": {
    "hidden": true,
    "id": "XAzbZRCjKYh6"
   },
   "outputs": [],
   "source": [
    "# @markdown Visualización de datos de velocidad de viento [m/s]\n",
    "plt.figure(figsize=(15,6))\n",
    "\n",
    "# Eje Y izquierdo\n",
    "plt.plot(vel_viento_15hr['FECHA'].apply(pd.to_datetime), \n",
    "         vel_viento_15hr['VELOCIDAD DEL VIENTO (m/s)'], \n",
    "         'd-')\n",
    "\n",
    "plt.title('Velocidad del viento 15:00 hrs'), \n",
    "plt.ylabel('VELOCIDAD DEL VIENTO [m/s]')\n",
    "\n",
    "# Eje X : Fechas\n",
    "fechas_2020_2021 = pd.date_range(start='2021', end='2022', freq='MS')\n",
    "plt.xticks(fechas_2020_2021), plt.gca().xaxis.set_major_formatter(date_format) # Formato '%Y-%m'\n",
    "\n",
    "plt.grid();"
   ]
  },
  {
   "cell_type": "code",
   "execution_count": null,
   "metadata": {
    "cellView": "form",
    "hidden": true,
    "id": "s3oTFtR2Q3JN"
   },
   "outputs": [],
   "source": [
    "import plotly.graph_objects as go\n",
    "\n",
    "# @markdown Gráfica con Plotly: Sentinel-2, Landsat 8 y Landsat 9\n",
    "\n",
    "fig = go.Figure()\n",
    "\n",
    "fig.add_trace(\n",
    "    go.Scatter(x=vel_viento_15hr['FECHA'].apply(pd.to_datetime), \n",
    "               y=vel_viento_15hr['VELOCIDAD DEL VIENTO (m/s)'],\n",
    "               name='Sentinel-2', \n",
    "              #  marker_color= 'rgba(0, 0, 0, 0.7)',\n",
    "               mode='lines+markers',\n",
    "               xhoverformat=\"%d-%m-%Y\",\n",
    "               hovertemplate='%{y:.2f} m/s',\n",
    "               line = dict(width=2)#, dash='dot')\n",
    "               )\n",
    "    )\n",
    "\n",
    "# fig.update_traces(mode = 'markers', marker_size=7)\n",
    "\n",
    "# Título y hover\n",
    "title_plotly = 'Velocidad del viento 15:00 hrs - Estación Tinajones'\n",
    "\n",
    "fig.update_layout(\n",
    "    plot_bgcolor = \"white\",\n",
    "    width = 1000,\n",
    "    height = 400,\n",
    "    hovermode=\"x unified\",\n",
    "    title = title_plotly,\n",
    "    # yaxis_range = [0,100],\n",
    "    # xaxis_range = [fecha, pd.to_datetime(fecha) + relativedelta(months=meses)] \n",
    "    margin=dict(t=75, b=25, l=0, r=0),\n",
    "    legend=dict(x=0.3, y=1.10),\n",
    "    legend_orientation='h',\n",
    "    # https://plotly.com/python/reference/layout/#layout-legend-orientation\n",
    "    )\n",
    "\n",
    "# Nombres en ejes\n",
    "fig.update_yaxes(title_text='VELOCIDAD DEL VIENTO [m/s]',\n",
    "                 showline=True, linecolor='black', mirror=True,\n",
    "                 gridcolor='#7f7f7f'\n",
    ")\n",
    "\n",
    "# Obtener ticks mensuales\n",
    "fig.update_xaxes(\n",
    "    showline=True, linecolor='black', mirror=True,\n",
    "    gridcolor='#7f7f7f',\n",
    "    dtick='M1', tickformat='%m-%Y'\n",
    "    )\n",
    "\n",
    "fig.show()\n",
    "# fig.write_html(\"prueba_plotly.html\")"
   ]
  },
  {
   "cell_type": "markdown",
   "metadata": {
    "hidden": true,
    "id": "h_-Cbo7oI0by"
   },
   "source": [
    "**Wind speed at an assumed blending height (200 m) above the weather station $u_{200}$ [m s-1]**"
   ]
  },
  {
   "cell_type": "markdown",
   "metadata": {
    "hidden": true,
    "id": "pffdY1qjIvSS"
   },
   "source": [
    "Is calculated as\n",
    "\n",
    "$$\n",
    "u_{200} = \\frac{ u_w \\ln{(200/z_{omw})} }{ \\ln{(z_x/z_{omw})} } \\qquad (32)\n",
    "$$\n",
    "\n",
    "Where:\n",
    "- $u_w$ : wind speed measured at a weather station at $z_x$ height above the surface\n",
    "- $z_{omw}$ : the roughness length for the weather station surface, similar to Allen and Wright (1997).\n",
    "\n",
    "All units for $z$ are the same. The value for $u_{200}$ is assumed constant for the satellite image. This asumption allows for the use of a constant relation between *dT* and $T_s$."
   ]
  },
  {
   "cell_type": "code",
   "execution_count": null,
   "metadata": {
    "hidden": true,
    "id": "AKt8tkkUVNUH",
    "outputId": "f807019d-e7c8-4977-a6ae-ce37084d88a0"
   },
   "outputs": [],
   "source": [
    "# Velocidad del viento medido por estación meteorológica a las 10:30 [m/s]\n",
    "u_w = filtrado_ws*10/36 # filtrado_ws en km/hr -> m/s\n",
    "\n",
    "z_omw = 0.12*0.15  # z_omw = 0.12*h donde h es la altura del grass de la estación met (relativo a cada estación)\n",
    "z_x = 2.5          # altura del equipo que mide la velocidad del viento, varía de 2 a 2.80m (relativo a cada estación)\n",
    "\n",
    "u_200 = u_w*math.log(200/z_omw)/math.log(z_x/z_omw)\n",
    "u_200 # (m/s)"
   ]
  },
  {
   "cell_type": "markdown",
   "metadata": {
    "hidden": true,
    "id": "nHXjiP1iXAaM"
   },
   "source": [
    "**Friction velocity $u*$ [m s-1]**"
   ]
  },
  {
   "cell_type": "markdown",
   "metadata": {
    "hidden": true,
    "id": "NJcVeD85W-9t"
   },
   "source": [
    "is computed during the first iteration using **the logarithmic wind law for neutral atmospheric conditions**\n",
    "\n",
    "$$\n",
    "u* = \\frac{ k \\; u_{200} }{ \\ln{(200/z_{om})} } \\; \\; \\; \\; \\qquad (31)\n",
    "$$\n",
    "\n",
    "Where:\n",
    "- $u_{200}$ : wind speed (m s-1) at a blending height assumed to be 200 m, and\n",
    "- $z_{om}$ : momentum roughness length (m). $z_{om}$ is a measure of the form drag and skin friction for the layer of air that interacts with the surface.\n",
    "- $k$ : von Karman's constant **(0.41)**. \n",
    "\n",
    "$u*$ is computed for each pixel inside the process model **using a specific roughness length for each pixel**, but with $u_{200}$ assumed to be constant over all pixels of the image since it is defined as occuring at a \"blending height\" unaffected by surface features. Eqs. (30) and (31) support the use of a temperature gradient defined between two heights that are both above the surface. This allows one to estimate $r_{\\text{ah}}$ without having to estimate a second aerodynamic roughness for sensible heat transfer ($z_{oh}$), since height $z_1$ is defined to be at an elevation above $z_{oh}$. This is an advantage because $z_{oh}$ can be difficult to estimate for sparse vegetation."
   ]
  },
  {
   "cell_type": "markdown",
   "metadata": {
    "hidden": true,
    "id": "YXyg0DhXSDV_"
   },
   "source": [
    "Más info:\n",
    "- [Log wind profile](https://en.wikipedia.org/wiki/Log_wind_profile#cite_note-1): The log wind profile is a semi-empirical relationship commonly used to describe the vertical distribution of horizontal mean wind speeds within the lowest portion of the planetary boundary layer.\n",
    "- [Friction velocity - Shear velocity](https://en.wikipedia.org/wiki/Shear_velocity)\n",
    "- [Roughness length $(z_0)$](https://en.wikipedia.org/wiki/Roughness_length): Is a corrective measure to account for the effect of the roughness of a surface on wind flow. That is, the value of the roughness length depends on the terrain."
   ]
  },
  {
   "cell_type": "code",
   "execution_count": null,
   "metadata": {
    "hidden": true,
    "id": "NCRocmkjXTye",
    "outputId": "0bcc9f80-a2f1-4da7-cbc9-16c880231eec"
   },
   "outputs": [],
   "source": [
    "# u*1\n",
    "k_const = 0.41\n",
    "u_star = k_const*u_200/(math.log(200/z_omw))\n",
    "u_star"
   ]
  },
  {
   "cell_type": "markdown",
   "metadata": {
    "hidden": true,
    "id": "L5_fjZk9eq1g"
   },
   "source": [
    "**Aerodynamic resistance $r_{ah}$ [s m-1] between two near surface heights $z_1$ and $z_2$**"
   ]
  },
  {
   "cell_type": "markdown",
   "metadata": {
    "hidden": true,
    "id": "5a_FGf0ff32T"
   },
   "source": [
    "The value for $r_{\\text{ah}}$ is **strongly influenced by** the buoyancy within the boundary layer **driven by** the rate of sensible heat flux. Because both $r_{\\text{ah}}$ and $H$ are unknown at each pixel, an iterative solution is required. \n",
    "\n",
    "During the first iteration, $r_{\\text{ah}}$ is computed assuming neutral stability\n",
    "\n",
    "$$\n",
    "r_{\\text{ah}} = \\frac{\\ln{(z_2/z_1)}}{{u*} \\; k} \\; \\; \\; \\; \\qquad (30)\n",
    "$$"
   ]
  },
  {
   "cell_type": "markdown",
   "metadata": {
    "heading_collapsed": true,
    "id": "H2MsNvbFokNJ"
   },
   "source": [
    "#### Prueba cartoee"
   ]
  },
  {
   "cell_type": "markdown",
   "metadata": {
    "hidden": true,
    "id": "zr-gb6EVI5iB"
   },
   "source": [
    "`cartoee` es la integración de `cartopy` con Google Earth Engine.\n",
    "\n",
    "- cartoee: https://github.com/KMarkert/cartoee\n",
    "- geemap.cartoee https://geemap.org/cartoee/ https://github.com/giswqs/geemap/blob/master/geemap/cartoee.py\n"
   ]
  },
  {
   "cell_type": "code",
   "execution_count": null,
   "metadata": {
    "hidden": true,
    "id": "jom65G3CvDMc"
   },
   "outputs": [],
   "source": [
    "# Instalar\n",
    "%%capture\n",
    "!pip install cartopy scipy"
   ]
  },
  {
   "cell_type": "code",
   "execution_count": null,
   "metadata": {
    "hidden": true,
    "id": "Qu0XzSj2uzZs"
   },
   "outputs": [],
   "source": [
    "# Importar librerías\n",
    "from geemap import cartoee # import the cartoee functionality from geemap\n",
    "%pylab inline"
   ]
  },
  {
   "cell_type": "markdown",
   "metadata": {
    "hidden": true,
    "id": "zlCpNEjvYNn6"
   },
   "source": [
    "##### Ejemplos"
   ]
  },
  {
   "cell_type": "markdown",
   "metadata": {
    "heading_collapsed": true,
    "hidden": true,
    "id": "uDyEdyOOYSLZ"
   },
   "source": [
    "###### Visualización de imagen Landsat 9 TOA"
   ]
  },
  {
   "cell_type": "code",
   "execution_count": null,
   "metadata": {
    "colab": {
     "base_uri": "https://localhost:8080/",
     "height": 631
    },
    "hidden": true,
    "id": "DKOGiDffu7cb",
    "outputId": "55550d78-ce78-4397-9dd5-2e1a401906a5"
   },
   "outputs": [],
   "source": [
    "img = ee.Image('LANDSAT/LC09/C02/T1_TOA/LC09_010065_20220403')\n",
    "img_date = img.date().format('YYYY-MM-dd').getInfo()\n",
    "\n",
    "vis = {\"bands\": ['B4', 'B3', 'B2'], \"min\": 0, \"max\": 0.3, \"gamma\": 1.3}\n",
    "\n",
    "fig = plt.figure(figsize=(10, 10))\n",
    "\n",
    "# use cartoee to get a map\n",
    "ax = cartoee.get_map(img, vis_params=vis)\n",
    "\n",
    "# pad the view for some visual appeal (pad de padding)\n",
    "cartoee.pad_view(ax)\n",
    "\n",
    "ax.set_title(f' LANDSAT 9, Fecha: {img_date}')\n",
    "\n",
    "# add the gridlines and specify that the xtick labels be rotated 45 degrees\n",
    "cartoee.add_gridlines(ax, interval=0.5, xtick_rotation=45, linestyle=\":\")\n",
    "\n",
    "show()"
   ]
  },
  {
   "cell_type": "markdown",
   "metadata": {
    "heading_collapsed": true,
    "hidden": true,
    "id": "fdPKtN5FJOVJ"
   },
   "source": [
    "###### Prueba con bucle for para 5 imágenes Landsat "
   ]
  },
  {
   "cell_type": "code",
   "execution_count": null,
   "metadata": {
    "hidden": true,
    "id": "IccSQ-pOyVYW"
   },
   "outputs": [],
   "source": [
    "ids = ['LANDSAT/LC09/C02/T1_TOA/LC09_010065_20211212',\n",
    "       'LANDSAT/LC09/C02/T1_TOA/LC09_010065_20220113',\n",
    "       'LANDSAT/LC09/C02/T1_TOA/LC09_010065_20220129',\n",
    "       'LANDSAT/LC08/C02/T1_TOA/LC08_010065_20220310',\n",
    "       'LANDSAT/LC09/C02/T1_TOA/LC09_010065_20220403']\n",
    "\n",
    "for id in ids:\n",
    "\n",
    "  img = ee.Image(id)\n",
    "  img_date = img.date().format('YYYY-MM-dd').getInfo()\n",
    "\n",
    "  # define the visualization parameters to view\n",
    "  vis = {\"bands\": ['B4', 'B3', 'B2'], \"min\": 0, \"max\": 0.3, \"gamma\": 1.3}\n",
    "\n",
    "  fig = plt.figure(figsize=(10, 7))\n",
    "\n",
    "  # here is the bounding box of the map extent we want to use\n",
    "  # formatted a [E,S,W,N]\n",
    "  zoom_region = [-79.787761, -6.607186, -79.771781, -6.593991]\n",
    "\n",
    "  # plot the map over the region of interest\n",
    "  ax = cartoee.get_map(img.clip(predios_bound), vis_params=vis, region=zoom_region)\n",
    "  \n",
    "  ax.set_title(f'Fecha: {img_date}')\n",
    "\n",
    "  # add the gridlines and specify that the xtick labels be rotated 45 degrees\n",
    "  cartoee.add_gridlines(ax, interval=0.0025, xtick_rotation=45, linestyle=\":\")\n",
    "\n",
    "  cartoee.add_north_arrow(ax, text='N', xy=(0.95, 0.97), fontsize=20)\n",
    "  show()"
   ]
  },
  {
   "cell_type": "markdown",
   "metadata": {
    "heading_collapsed": true,
    "hidden": true,
    "id": "Xe6vTITDYjHJ"
   },
   "source": [
    "###### Imagen SRTM con barra de color al costado"
   ]
  },
  {
   "cell_type": "code",
   "execution_count": null,
   "metadata": {
    "colab": {
     "base_uri": "https://localhost:8080/",
     "height": 662
    },
    "hidden": true,
    "id": "GwkOaJGTz162",
    "outputId": "d82b8a68-0fa1-4ae1-f49c-9c68656ba81a"
   },
   "outputs": [],
   "source": [
    "# get an image\n",
    "srtm = ee.Image(\"CGIAR/SRTM90_V4\")\n",
    "\n",
    "palette = geemap.colormaps.palettes.dem\n",
    "\n",
    "region = [70, 15, 140, 60]  # define bounding box to request data\n",
    "# vis = {'min': 0, 'max': 5000}  # define visualization parameters for image\n",
    "vis = {'palette': palette, 'min': 0.0, 'max': 6000.0, 'opacity': 1.0}\n",
    "\n",
    "fig = plt.figure(figsize=(15, 10))\n",
    "\n",
    "# use cartoee to get a map\n",
    "ax = cartoee.get_map(srtm, region=region, vis_params=vis)\n",
    "\n",
    "# add a colorbar to the map using the visualization params we passed to the map\n",
    "cartoee.add_colorbar(\n",
    "    ax,\n",
    "    vis,\n",
    "    loc=\"bottom\",\n",
    "    label=\"Elevation\",\n",
    "    orientation=\"horizontal\",\n",
    "    posOpts=[0.25, 0.05, 0.5, 0.02],\n",
    ")\n",
    "\n",
    "# add gridlines to the map at a specified interval\n",
    "cartoee.add_gridlines(ax, interval=[10, 10], linestyle=\":\")\n",
    "\n",
    "# add coastlines using the cartopy api\n",
    "# ax.coastlines(color=\"red\")\n",
    "\n",
    "show()"
   ]
  },
  {
   "cell_type": "markdown",
   "metadata": {
    "heading_collapsed": true,
    "hidden": true,
    "id": "Sc9_-CuBY2Op"
   },
   "source": [
    "###### Albedo a partir de una imagen Landsat 9 más su barra de color "
   ]
  },
  {
   "cell_type": "code",
   "execution_count": null,
   "metadata": {
    "colab": {
     "base_uri": "https://localhost:8080/",
     "height": 411
    },
    "hidden": true,
    "id": "Jqr3eOQ2Mjns",
    "outputId": "5120c945-f8e9-4ae5-ce91-4572d42c93f9"
   },
   "outputs": [],
   "source": [
    "# Previamente se necesita haber ejecutado las celdas de código sobre Radiación Neta \n",
    "vis_params_alb = {'min': albedo_stats[0]['Mínimo'], \n",
    "                  'max': albedo_stats[0]['Máximo'], \n",
    "                  # 'palette': cmp.get_palette(cmap_name='RdYlGn_r')}\n",
    "                  'palette': cmp.get_palette(cmap_name='hot')}\n",
    "                  # 'palette': cmp.palettes.ndvi} # pero esta paleta sí \n",
    "                  # 'palette': cmp.palettes.RdYlGn_r} # No reconoce la paleta \n",
    "\n",
    "img_ee = img_albedo.clip(predios_agricolas)#.visualize(**vis_params_alb) #ee.Image('LANDSAT/LC09/C02/T1_TOA/LC09_010065_20220403')\n",
    "\n",
    "zoom_region = [-79.787761, -6.607186, -79.771781, -6.593991]\n",
    "\n",
    "fig = plt.figure(figsize=(8,6))\n",
    "\n",
    "# plot the result with cartoee using a PlateCarre projection (default)\n",
    "ax = cartoee.get_map(img_ee, region=zoom_region, vis_params=vis_params_alb)\n",
    "cb = cartoee.add_colorbar(ax, vis_params=vis_params_alb, loc='right', label=\"Albedo [-]\")\n",
    "\n",
    "# ax.set_title(label='Albedo, 2022-04-03')#, fontsize=15)\n",
    "\n",
    "ax.text(-79.78185, -6.595, 'Albedo, 2022-04-03', fontsize=14)\n",
    "\n",
    "cartoee.add_gridlines(ax, interval=0.0025, xtick_rotation=45, linestyle=\":\")\n",
    "\n",
    "plt.show()"
   ]
  },
  {
   "cell_type": "code",
   "execution_count": null,
   "metadata": {
    "hidden": true,
    "id": "Nsetziz7n9xp"
   },
   "outputs": [],
   "source": [
    "# fig.savefig('albedo8x6_text.jpg')"
   ]
  }
 ],
 "metadata": {
  "colab": {
   "collapsed_sections": [
    "7ORTC88PSBDF",
    "hr-x77CIvNK6",
    "MMDMHZbYCQbN",
    "vK3O-V6IlFmU",
    "GbkkKf6p3Tgn",
    "IHEZtE9ylTJy",
    "tml03El_oKa6",
    "m5aDAmI4byWN",
    "sHwI3CO9hylf",
    "nrEDl6LmhE1_",
    "WaHUOkX5z3mS",
    "GdZ4SrwrnpXn",
    "QesHc_-BNQjo",
    "CfwHgfrvp_2l",
    "Tu10XDKxC2Rc",
    "HcEONLQkI3UR",
    "45gNRwfUOktp",
    "hWvSU4vsSDVy",
    "h_-Cbo7oI0by",
    "nHXjiP1iXAaM",
    "L5_fjZk9eq1g",
    "pabct91tNWnT",
    "o_vZ_O3KNYex",
    "_twIKBx23snC",
    "Ne9yzqNMhG6x",
    "6lHvAqia9_Ow",
    "0wAcePAHSDVm",
    "8YxBfdTJfs31",
    "qHiKJacKSDVu",
    "npauSbbdSDWC",
    "7j3E5kxVQ1vS",
    "n2Vpz9gLsOjk",
    "OyaPsZOyvxw0",
    "RzJS4Xyc9b8D",
    "nfsQ_pcNFefH",
    "6pxsGG7W5d2P",
    "6BY4p9jqGg3w",
    "gxG7bTEwvNLi",
    "H2MsNvbFokNJ",
    "zlCpNEjvYNn6",
    "uDyEdyOOYSLZ",
    "fdPKtN5FJOVJ",
    "Xe6vTITDYjHJ",
    "Sc9_-CuBY2Op",
    "5pRkJIfm95hY",
    "L_kbNO4LH_0m",
    "154-SZRuH4U3"
   ],
   "provenance": [],
   "toc_visible": true
  },
  "kernelspec": {
   "display_name": "Python 3 (ipykernel)",
   "language": "python",
   "name": "python3"
  },
  "language_info": {
   "codemirror_mode": {
    "name": "ipython",
    "version": 3
   },
   "file_extension": ".py",
   "mimetype": "text/x-python",
   "name": "python",
   "nbconvert_exporter": "python",
   "pygments_lexer": "ipython3",
   "version": "3.7.13"
  },
  "toc": {
   "base_numbering": 1,
   "nav_menu": {},
   "number_sections": true,
   "sideBar": true,
   "skip_h1_title": false,
   "title_cell": "Table of Contents",
   "title_sidebar": "Contents",
   "toc_cell": false,
   "toc_position": {},
   "toc_section_display": true,
   "toc_window_display": false
  },
  "widgets": {
   "application/vnd.jupyter.widget-state+json": {
    "0028af2a29d742a3ba79182899c3764f": {
     "model_module": "jupyter-leaflet",
     "model_module_version": "^0.16.0",
     "model_name": "LeafletTileLayerModel",
     "state": {
      "_model_module": "jupyter-leaflet",
      "_model_module_version": "^0.16.0",
      "_model_name": "LeafletTileLayerModel",
      "_view_count": null,
      "_view_module": "jupyter-leaflet",
      "_view_module_version": "^0.16.0",
      "_view_name": "LeafletTileLayerView",
      "attribution": "Google Earth Engine",
      "base": false,
      "bottom": true,
      "bounds": null,
      "detect_retina": false,
      "loading": false,
      "max_native_zoom": 18,
      "max_zoom": 24,
      "min_native_zoom": 0,
      "min_zoom": 0,
      "name": "20220206",
      "no_wrap": false,
      "opacity": 1,
      "options": [
       "attribution",
       "bounds",
       "detect_retina",
       "max_native_zoom",
       "max_zoom",
       "min_native_zoom",
       "min_zoom",
       "no_wrap",
       "tile_size",
       "tms"
      ],
      "popup": null,
      "popup_max_height": null,
      "popup_max_width": 300,
      "popup_min_width": 50,
      "show_loading": false,
      "tile_size": 256,
      "tms": false,
      "url": "https://earthengine.googleapis.com/v1alpha/projects/earthengine-legacy/maps/7b1225554b7b749fcfdc49305dafddba-2cdf86b16ee76f9e5c2a838a331ac69b/tiles/{z}/{x}/{y}",
      "visible": true
     }
    },
    "01570eb3fb3c49fda7e51c72f0cf2782": {
     "model_module": "@jupyter-widgets/base",
     "model_module_version": "1.2.0",
     "model_name": "LayoutModel",
     "state": {
      "_model_module": "@jupyter-widgets/base",
      "_model_module_version": "1.2.0",
      "_model_name": "LayoutModel",
      "_view_count": null,
      "_view_module": "@jupyter-widgets/base",
      "_view_module_version": "1.2.0",
      "_view_name": "LayoutView",
      "align_content": null,
      "align_items": null,
      "align_self": null,
      "border": null,
      "bottom": null,
      "display": null,
      "flex": null,
      "flex_flow": null,
      "grid_area": null,
      "grid_auto_columns": null,
      "grid_auto_flow": null,
      "grid_auto_rows": null,
      "grid_column": null,
      "grid_gap": null,
      "grid_row": null,
      "grid_template_areas": null,
      "grid_template_columns": null,
      "grid_template_rows": null,
      "height": null,
      "justify_content": null,
      "justify_items": null,
      "left": null,
      "margin": null,
      "max_height": null,
      "max_width": null,
      "min_height": null,
      "min_width": null,
      "object_fit": null,
      "object_position": null,
      "order": null,
      "overflow": null,
      "overflow_x": null,
      "overflow_y": null,
      "padding": null,
      "right": null,
      "top": null,
      "visibility": null,
      "width": null
     }
    },
    "035ab3a5314c42078b23f39e44bf4d27": {
     "model_module": "@jupyter-widgets/controls",
     "model_module_version": "1.5.0",
     "model_name": "ToggleButtonModel",
     "state": {
      "_dom_classes": [],
      "_model_module": "@jupyter-widgets/controls",
      "_model_module_version": "1.5.0",
      "_model_name": "ToggleButtonModel",
      "_view_count": null,
      "_view_module": "@jupyter-widgets/controls",
      "_view_module_version": "1.5.0",
      "_view_name": "ToggleButtonView",
      "button_style": "",
      "description": "",
      "description_tooltip": null,
      "disabled": false,
      "icon": "globe",
      "layout": "IPY_MODEL_83b9b602914e4d0c8a2e0e4bf10e663c",
      "style": "IPY_MODEL_bba0a1f413aa44bfabb2b8f5e68ce012",
      "tooltip": "Search location/data",
      "value": false
     }
    },
    "03c4571fd8394ef1a05c024a4d15bd7d": {
     "model_module": "@jupyter-widgets/base",
     "model_module_version": "1.2.0",
     "model_name": "LayoutModel",
     "state": {
      "_model_module": "@jupyter-widgets/base",
      "_model_module_version": "1.2.0",
      "_model_name": "LayoutModel",
      "_view_count": null,
      "_view_module": "@jupyter-widgets/base",
      "_view_module_version": "1.2.0",
      "_view_name": "LayoutView",
      "align_content": null,
      "align_items": null,
      "align_self": null,
      "border": null,
      "bottom": null,
      "display": null,
      "flex": null,
      "flex_flow": null,
      "grid_area": null,
      "grid_auto_columns": null,
      "grid_auto_flow": null,
      "grid_auto_rows": null,
      "grid_column": null,
      "grid_gap": null,
      "grid_row": null,
      "grid_template_areas": null,
      "grid_template_columns": null,
      "grid_template_rows": null,
      "height": null,
      "justify_content": null,
      "justify_items": null,
      "left": null,
      "margin": null,
      "max_height": null,
      "max_width": null,
      "min_height": null,
      "min_width": null,
      "object_fit": null,
      "object_position": null,
      "order": null,
      "overflow": null,
      "overflow_x": null,
      "overflow_y": null,
      "padding": null,
      "right": null,
      "top": null,
      "visibility": null,
      "width": null
     }
    },
    "09cba970704a4eb394fb3fd8f5710a3e": {
     "model_module": "@jupyter-widgets/controls",
     "model_module_version": "1.5.0",
     "model_name": "ToggleButtonModel",
     "state": {
      "_dom_classes": [],
      "_model_module": "@jupyter-widgets/controls",
      "_model_module_version": "1.5.0",
      "_model_name": "ToggleButtonModel",
      "_view_count": null,
      "_view_module": "@jupyter-widgets/controls",
      "_view_module_version": "1.5.0",
      "_view_name": "ToggleButtonView",
      "button_style": "",
      "description": "",
      "description_tooltip": null,
      "disabled": false,
      "icon": "wrench",
      "layout": "IPY_MODEL_f0a5d86801eb49ca8e9a3ccebabde69f",
      "style": "IPY_MODEL_da17edf9e2a542c7b31d9c046cd32ef6",
      "tooltip": "Toolbar",
      "value": false
     }
    },
    "09f51ee634c64e6ba9ece93acaa64799": {
     "model_module": "@jupyter-widgets/controls",
     "model_module_version": "1.5.0",
     "model_name": "VBoxModel",
     "state": {
      "_dom_classes": [],
      "_model_module": "@jupyter-widgets/controls",
      "_model_module_version": "1.5.0",
      "_model_name": "VBoxModel",
      "_view_count": null,
      "_view_module": "@jupyter-widgets/controls",
      "_view_module_version": "1.5.0",
      "_view_name": "VBoxView",
      "box_style": "",
      "children": [
       "IPY_MODEL_8ca675ac4fad4951a140289692580722"
      ],
      "layout": "IPY_MODEL_6dea706511704698b44b1345994bde51"
     }
    },
    "0e280aa715ca4056a2f545cab86b7a09": {
     "model_module": "jupyter-leaflet",
     "model_module_version": "^0.16.0",
     "model_name": "LeafletDrawControlModel",
     "state": {
      "_model_module": "jupyter-leaflet",
      "_model_module_version": "^0.16.0",
      "_model_name": "LeafletDrawControlModel",
      "_view_count": null,
      "_view_module": "jupyter-leaflet",
      "_view_module_version": "^0.16.0",
      "_view_name": "LeafletDrawControlView",
      "circle": {
       "shapeOptions": {
        "color": "#3388ff"
       }
      },
      "circlemarker": {},
      "data": [],
      "edit": true,
      "marker": {
       "shapeOptions": {
        "color": "#3388ff"
       }
      },
      "options": [
       "position"
      ],
      "polygon": {
       "shapeOptions": {}
      },
      "polyline": {
       "shapeOptions": {}
      },
      "position": "topleft",
      "rectangle": {
       "shapeOptions": {
        "color": "#3388ff"
       }
      },
      "remove": true
     }
    },
    "1248487969d7473a9cbbe4b485b7bd29": {
     "model_module": "jupyter-leaflet",
     "model_module_version": "^0.16.0",
     "model_name": "LeafletMapStyleModel",
     "state": {
      "_model_module": "jupyter-leaflet",
      "_model_module_version": "^0.16.0",
      "_model_name": "LeafletMapStyleModel",
      "_view_count": null,
      "_view_module": "@jupyter-widgets/base",
      "_view_module_version": "1.2.0",
      "_view_name": "StyleView",
      "cursor": "grab"
     }
    },
    "14b11b79c7ef4d35b7cc276a7c5b4f9c": {
     "model_module": "@jupyter-widgets/controls",
     "model_module_version": "1.5.0",
     "model_name": "HBoxModel",
     "state": {
      "_dom_classes": [],
      "_model_module": "@jupyter-widgets/controls",
      "_model_module_version": "1.5.0",
      "_model_name": "HBoxModel",
      "_view_count": null,
      "_view_module": "@jupyter-widgets/controls",
      "_view_module_version": "1.5.0",
      "_view_name": "HBoxView",
      "box_style": "",
      "children": [
       "IPY_MODEL_574c4d4799c44ca69d81f7f502860fff"
      ],
      "layout": "IPY_MODEL_a9ab631f84234de3921c220968a33e07"
     }
    },
    "16900b275461460593951f8294400cb3": {
     "model_module": "@jupyter-widgets/base",
     "model_module_version": "1.2.0",
     "model_name": "LayoutModel",
     "state": {
      "_model_module": "@jupyter-widgets/base",
      "_model_module_version": "1.2.0",
      "_model_name": "LayoutModel",
      "_view_count": null,
      "_view_module": "@jupyter-widgets/base",
      "_view_module_version": "1.2.0",
      "_view_name": "LayoutView",
      "align_content": null,
      "align_items": null,
      "align_self": null,
      "border": null,
      "bottom": null,
      "display": null,
      "flex": null,
      "flex_flow": null,
      "grid_area": null,
      "grid_auto_columns": null,
      "grid_auto_flow": null,
      "grid_auto_rows": null,
      "grid_column": null,
      "grid_gap": null,
      "grid_row": null,
      "grid_template_areas": null,
      "grid_template_columns": null,
      "grid_template_rows": null,
      "height": "28px",
      "justify_content": null,
      "justify_items": null,
      "left": null,
      "margin": null,
      "max_height": null,
      "max_width": null,
      "min_height": null,
      "min_width": null,
      "object_fit": null,
      "object_position": null,
      "order": null,
      "overflow": null,
      "overflow_x": null,
      "overflow_y": null,
      "padding": "0px 0px 0px 4px",
      "right": null,
      "top": null,
      "visibility": null,
      "width": "28px"
     }
    },
    "1806cc25be534b35a6ebf70e2d108240": {
     "model_module": "@jupyter-widgets/base",
     "model_module_version": "1.2.0",
     "model_name": "LayoutModel",
     "state": {
      "_model_module": "@jupyter-widgets/base",
      "_model_module_version": "1.2.0",
      "_model_name": "LayoutModel",
      "_view_count": null,
      "_view_module": "@jupyter-widgets/base",
      "_view_module_version": "1.2.0",
      "_view_name": "LayoutView",
      "align_content": null,
      "align_items": null,
      "align_self": null,
      "border": null,
      "bottom": null,
      "display": null,
      "flex": null,
      "flex_flow": null,
      "grid_area": null,
      "grid_auto_columns": null,
      "grid_auto_flow": null,
      "grid_auto_rows": null,
      "grid_column": null,
      "grid_gap": null,
      "grid_row": null,
      "grid_template_areas": null,
      "grid_template_columns": null,
      "grid_template_rows": null,
      "height": "800px",
      "justify_content": null,
      "justify_items": null,
      "left": null,
      "margin": null,
      "max_height": null,
      "max_width": null,
      "min_height": null,
      "min_width": null,
      "object_fit": null,
      "object_position": null,
      "order": null,
      "overflow": null,
      "overflow_x": null,
      "overflow_y": null,
      "padding": null,
      "right": null,
      "top": null,
      "visibility": null,
      "width": null
     }
    },
    "1978250860204202983a42cf92f0ec7b": {
     "model_module": "jupyter-leaflet",
     "model_module_version": "^0.16.0",
     "model_name": "LeafletMapStyleModel",
     "state": {
      "_model_module": "jupyter-leaflet",
      "_model_module_version": "^0.16.0",
      "_model_name": "LeafletMapStyleModel",
      "_view_count": null,
      "_view_module": "@jupyter-widgets/base",
      "_view_module_version": "1.2.0",
      "_view_name": "StyleView",
      "cursor": "grab"
     }
    },
    "1a0ca996f9f94c22ab088e7011e86f66": {
     "model_module": "jupyter-leaflet",
     "model_module_version": "^0.15.0",
     "model_name": "LeafletWidgetControlModel",
     "state": {
      "_model_module": "jupyter-leaflet",
      "_model_module_version": "^0.15.0",
      "_model_name": "LeafletWidgetControlModel",
      "_view_count": null,
      "_view_module": "jupyter-leaflet",
      "_view_module_version": "^0.15.0",
      "_view_name": "LeafletWidgetControlView",
      "max_height": null,
      "max_width": null,
      "min_height": null,
      "min_width": null,
      "options": [
       "position",
       "transparent_bg"
      ],
      "position": "bottomright",
      "transparent_bg": false,
      "widget": "IPY_MODEL_3114ac1055964ec386418fcbd6df2295"
     }
    },
    "1e3ac848909a40a8b5713f3b723f8cbd": {
     "model_module": "@jupyter-widgets/output",
     "model_module_version": "1.0.0",
     "model_name": "OutputModel",
     "state": {
      "_dom_classes": [],
      "_model_module": "@jupyter-widgets/output",
      "_model_module_version": "1.0.0",
      "_model_name": "OutputModel",
      "_view_count": null,
      "_view_module": "@jupyter-widgets/output",
      "_view_module_version": "1.0.0",
      "_view_name": "OutputView",
      "layout": "IPY_MODEL_70dd1b1d7a0241a0b457ab2900db21a5",
      "msg_id": "",
      "outputs": [
       {
        "data": {
         "image/png": "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\n",
         "text/plain": "<Figure size 28.8x288 with 1 Axes>"
        },
        "metadata": {
         "needs_background": "light"
        },
        "output_type": "display_data"
       }
      ]
     }
    },
    "1eb1afd145d447ccb99f5a547ba6b504": {
     "model_module": "@jupyter-widgets/base",
     "model_module_version": "1.2.0",
     "model_name": "LayoutModel",
     "state": {
      "_model_module": "@jupyter-widgets/base",
      "_model_module_version": "1.2.0",
      "_model_name": "LayoutModel",
      "_view_count": null,
      "_view_module": "@jupyter-widgets/base",
      "_view_module_version": "1.2.0",
      "_view_name": "LayoutView",
      "align_content": null,
      "align_items": null,
      "align_self": null,
      "border": null,
      "bottom": null,
      "display": null,
      "flex": null,
      "flex_flow": null,
      "grid_area": null,
      "grid_auto_columns": null,
      "grid_auto_flow": null,
      "grid_auto_rows": null,
      "grid_column": null,
      "grid_gap": null,
      "grid_row": null,
      "grid_template_areas": null,
      "grid_template_columns": null,
      "grid_template_rows": null,
      "height": null,
      "justify_content": null,
      "justify_items": null,
      "left": null,
      "margin": null,
      "max_height": null,
      "max_width": null,
      "min_height": null,
      "min_width": null,
      "object_fit": null,
      "object_position": null,
      "order": null,
      "overflow": null,
      "overflow_x": null,
      "overflow_y": null,
      "padding": null,
      "right": null,
      "top": null,
      "visibility": null,
      "width": null
     }
    },
    "1f8b9053f96d4d51b7c3bdddc4008d22": {
     "model_module": "jupyter-leaflet",
     "model_module_version": "^0.15.0",
     "model_name": "LeafletMapStyleModel",
     "state": {
      "_model_module": "jupyter-leaflet",
      "_model_module_version": "^0.15.0",
      "_model_name": "LeafletMapStyleModel",
      "_view_count": null,
      "_view_module": "@jupyter-widgets/base",
      "_view_module_version": "1.2.0",
      "_view_name": "StyleView",
      "cursor": "grab"
     }
    },
    "1fa66695a70c4adab00fa25e9abeaec9": {
     "model_module": "@jupyter-widgets/controls",
     "model_module_version": "1.5.0",
     "model_name": "ToggleButtonModel",
     "state": {
      "_dom_classes": [],
      "_model_module": "@jupyter-widgets/controls",
      "_model_module_version": "1.5.0",
      "_model_name": "ToggleButtonModel",
      "_view_count": null,
      "_view_module": "@jupyter-widgets/controls",
      "_view_module_version": "1.5.0",
      "_view_name": "ToggleButtonView",
      "button_style": "",
      "description": "",
      "description_tooltip": null,
      "disabled": false,
      "icon": "wrench",
      "layout": "IPY_MODEL_aa0701b2e48742a2b7180c42881ab149",
      "style": "IPY_MODEL_f1bc5886e07246718b2f8438ea6f5803",
      "tooltip": "Toolbar",
      "value": false
     }
    },
    "21c5caa86939483eb871f634c903eac2": {
     "model_module": "jupyter-leaflet",
     "model_module_version": "^0.16.0",
     "model_name": "LeafletMapModel",
     "state": {
      "_dom_classes": [],
      "_model_module": "jupyter-leaflet",
      "_model_module_version": "^0.16.0",
      "_model_name": "LeafletMapModel",
      "_view_count": null,
      "_view_module": "jupyter-leaflet",
      "_view_module_version": "^0.16.0",
      "_view_name": "LeafletMapView",
      "bottom": 8697183,
      "bounce_at_zoom_limits": true,
      "box_zoom": true,
      "center": [
       -6.600211501838919,
       -79.78018963282872
      ],
      "close_popup_on_click": true,
      "controls": [
       "IPY_MODEL_988e674bdbf1400e979b7003dc294b2d",
       "IPY_MODEL_bea81ce2f5db45cd9a9ddc02b4333392",
       "IPY_MODEL_2ada0f2bb5f646da9356cc62fa3fb52a",
       "IPY_MODEL_901febfcf007485a825c7f13e3d561bc",
       "IPY_MODEL_6a3384a618744c3ca2551a8acd422a85",
       "IPY_MODEL_d44fe0cf832843c0851f44b50d497427",
       "IPY_MODEL_0e280aa715ca4056a2f545cab86b7a09",
       "IPY_MODEL_ccee0ccb69a04dbaa967416212355932",
       "IPY_MODEL_5134839b67c64bb39d58ea3882e333a4"
      ],
      "crs": {
       "custom": false,
       "name": "EPSG3857"
      },
      "default_style": "IPY_MODEL_fc1a92359bf14282ac356b62205a5be6",
      "double_click_zoom": true,
      "dragging": true,
      "dragging_style": "IPY_MODEL_2a035b77852d4fb29b988ed4022df8f4",
      "east": -79.76524829864503,
      "fullscreen": false,
      "inertia": true,
      "inertia_deceleration": 3000,
      "inertia_max_speed": 1500,
      "interpolation": "bilinear",
      "keyboard": true,
      "keyboard_pan_offset": 80,
      "keyboard_zoom_offset": 1,
      "layers": [
       "IPY_MODEL_effc10ef76a94242b46256c60d19fa67",
       "IPY_MODEL_72cb74c4522340a7804f018137f6abb1",
       "IPY_MODEL_d01e52320e53449e9cfeae696217e2ed",
       "IPY_MODEL_9b886edfb6bc43b08b81153deb313f48"
      ],
      "layout": "IPY_MODEL_b8350cc42131462f9c42c876d9080835",
      "left": 4669886,
      "max_zoom": 24,
      "min_zoom": 1,
      "modisdate": "2022-04-22",
      "north": -6.593823086150921,
      "options": [
       "bounce_at_zoom_limits",
       "box_zoom",
       "center",
       "close_popup_on_click",
       "double_click_zoom",
       "dragging",
       "fullscreen",
       "inertia",
       "inertia_deceleration",
       "inertia_max_speed",
       "interpolation",
       "keyboard",
       "keyboard_pan_offset",
       "keyboard_zoom_offset",
       "max_zoom",
       "min_zoom",
       "prefer_canvas",
       "scroll_wheel_zoom",
       "tap",
       "tap_tolerance",
       "touch_zoom",
       "world_copy_jump",
       "zoom",
       "zoom_animation_threshold",
       "zoom_delta",
       "zoom_snap",
       "zoom_start"
      ],
      "prefer_canvas": false,
      "right": 4671278,
      "scroll_wheel_zoom": true,
      "south": -6.606612360758266,
      "style": "IPY_MODEL_1248487969d7473a9cbbe4b485b7bd29",
      "tap": true,
      "tap_tolerance": 15,
      "top": 8696583,
      "touch_zoom": true,
      "west": -79.79511737823488,
      "window_url": "https://8gj3w0kqnim-496ff2e9c6d22116-0-colab.googleusercontent.com/outputframe.html?vrz=colab-20220421-060046-RC00_443335036",
      "world_copy_jump": false,
      "zoom": 16,
      "zoom_animation_threshold": 4,
      "zoom_delta": 1,
      "zoom_snap": 1,
      "zoom_start": 12
     }
    },
    "26c073dc79a8496c9a341ae16f715d14": {
     "model_module": "jupyter-leaflet",
     "model_module_version": "^0.15.0",
     "model_name": "LeafletWidgetControlModel",
     "state": {
      "_model_module": "jupyter-leaflet",
      "_model_module_version": "^0.15.0",
      "_model_name": "LeafletWidgetControlModel",
      "_view_count": null,
      "_view_module": "jupyter-leaflet",
      "_view_module_version": "^0.15.0",
      "_view_name": "LeafletWidgetControlView",
      "max_height": null,
      "max_width": null,
      "min_height": null,
      "min_width": null,
      "options": [
       "position",
       "transparent_bg"
      ],
      "position": "topright",
      "transparent_bg": false,
      "widget": "IPY_MODEL_09f51ee634c64e6ba9ece93acaa64799"
     }
    },
    "298637e09be84d2f8c7e45239dbd38a6": {
     "model_module": "jupyter-leaflet",
     "model_module_version": "^0.16.0",
     "model_name": "LeafletTileLayerModel",
     "state": {
      "_model_module": "jupyter-leaflet",
      "_model_module_version": "^0.16.0",
      "_model_name": "LeafletTileLayerModel",
      "_view_count": null,
      "_view_module": "jupyter-leaflet",
      "_view_module_version": "^0.16.0",
      "_view_name": "LeafletTileLayerView",
      "attribution": "Google Earth Engine",
      "base": false,
      "bottom": true,
      "bounds": null,
      "detect_retina": false,
      "loading": false,
      "max_native_zoom": 18,
      "max_zoom": 24,
      "min_native_zoom": 0,
      "min_zoom": 0,
      "name": "Limite Distrito",
      "no_wrap": false,
      "opacity": 1,
      "options": [
       "attribution",
       "bounds",
       "detect_retina",
       "max_native_zoom",
       "max_zoom",
       "min_native_zoom",
       "min_zoom",
       "no_wrap",
       "tile_size",
       "tms"
      ],
      "popup": null,
      "popup_max_height": null,
      "popup_max_width": 300,
      "popup_min_width": 50,
      "show_loading": false,
      "tile_size": 256,
      "tms": false,
      "url": "https://earthengine.googleapis.com/v1alpha/projects/earthengine-legacy/maps/cada51a39811ea25693eaa6528207b4d-546a57ee7f214bc80be918d6f3a65c01/tiles/{z}/{x}/{y}",
      "visible": true
     }
    },
    "2a035b77852d4fb29b988ed4022df8f4": {
     "model_module": "jupyter-leaflet",
     "model_module_version": "^0.16.0",
     "model_name": "LeafletMapStyleModel",
     "state": {
      "_model_module": "jupyter-leaflet",
      "_model_module_version": "^0.16.0",
      "_model_name": "LeafletMapStyleModel",
      "_view_count": null,
      "_view_module": "@jupyter-widgets/base",
      "_view_module_version": "1.2.0",
      "_view_name": "StyleView",
      "cursor": "move"
     }
    },
    "2ada0f2bb5f646da9356cc62fa3fb52a": {
     "model_module": "jupyter-leaflet",
     "model_module_version": "^0.16.0",
     "model_name": "LeafletScaleControlModel",
     "state": {
      "_model_module": "jupyter-leaflet",
      "_model_module_version": "^0.16.0",
      "_model_name": "LeafletScaleControlModel",
      "_view_count": null,
      "_view_module": "jupyter-leaflet",
      "_view_module_version": "^0.16.0",
      "_view_name": "LeafletScaleControlView",
      "imperial": true,
      "max_width": 100,
      "metric": true,
      "options": [
       "imperial",
       "max_width",
       "metric",
       "position",
       "update_when_idle"
      ],
      "position": "bottomleft",
      "update_when_idle": false
     }
    },
    "3114ac1055964ec386418fcbd6df2295": {
     "model_module": "@jupyter-widgets/output",
     "model_module_version": "1.0.0",
     "model_name": "OutputModel",
     "state": {
      "_dom_classes": [],
      "_model_module": "@jupyter-widgets/output",
      "_model_module_version": "1.0.0",
      "_model_name": "OutputModel",
      "_view_count": null,
      "_view_module": "@jupyter-widgets/output",
      "_view_module_version": "1.0.0",
      "_view_name": "OutputView",
      "layout": "IPY_MODEL_03c4571fd8394ef1a05c024a4d15bd7d",
      "msg_id": "",
      "outputs": [
       {
        "data": {
         "image/png": "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\n",
         "text/plain": "<Figure size 28.8x288 with 1 Axes>"
        },
        "metadata": {
         "needs_background": "light"
        },
        "output_type": "display_data"
       }
      ]
     }
    },
    "31e2e4b63fad4cc29e03cd3a65826492": {
     "model_module": "jupyter-leaflet",
     "model_module_version": "^0.16.0",
     "model_name": "LeafletWidgetControlModel",
     "state": {
      "_model_module": "jupyter-leaflet",
      "_model_module_version": "^0.16.0",
      "_model_name": "LeafletWidgetControlModel",
      "_view_count": null,
      "_view_module": "jupyter-leaflet",
      "_view_module_version": "^0.16.0",
      "_view_name": "LeafletWidgetControlView",
      "max_height": null,
      "max_width": null,
      "min_height": null,
      "min_width": null,
      "options": [
       "position",
       "transparent_bg"
      ],
      "position": "topleft",
      "transparent_bg": false,
      "widget": "IPY_MODEL_896f0e14c5a94fa5a12efe89bb2241a0"
     }
    },
    "34f1433956fe487ca435414bb2eeafcf": {
     "model_module": "@jupyter-widgets/base",
     "model_module_version": "1.2.0",
     "model_name": "LayoutModel",
     "state": {
      "_model_module": "@jupyter-widgets/base",
      "_model_module_version": "1.2.0",
      "_model_name": "LayoutModel",
      "_view_count": null,
      "_view_module": "@jupyter-widgets/base",
      "_view_module_version": "1.2.0",
      "_view_name": "LayoutView",
      "align_content": null,
      "align_items": null,
      "align_self": null,
      "border": null,
      "bottom": null,
      "display": null,
      "flex": null,
      "flex_flow": null,
      "grid_area": null,
      "grid_auto_columns": null,
      "grid_auto_flow": null,
      "grid_auto_rows": null,
      "grid_column": null,
      "grid_gap": null,
      "grid_row": null,
      "grid_template_areas": null,
      "grid_template_columns": null,
      "grid_template_rows": null,
      "height": null,
      "justify_content": null,
      "justify_items": null,
      "left": null,
      "margin": null,
      "max_height": null,
      "max_width": null,
      "min_height": null,
      "min_width": null,
      "object_fit": null,
      "object_position": null,
      "order": null,
      "overflow": null,
      "overflow_x": null,
      "overflow_y": null,
      "padding": null,
      "right": null,
      "top": null,
      "visibility": null,
      "width": null
     }
    },
    "39329773390d4de3ba247f2258097062": {
     "model_module": "jupyter-leaflet",
     "model_module_version": "^0.16.0",
     "model_name": "LeafletTileLayerModel",
     "state": {
      "_model_module": "jupyter-leaflet",
      "_model_module_version": "^0.16.0",
      "_model_name": "LeafletTileLayerModel",
      "_view_count": null,
      "_view_module": "jupyter-leaflet",
      "_view_module_version": "^0.16.0",
      "_view_name": "LeafletTileLayerView",
      "attribution": "Google Earth Engine",
      "base": false,
      "bottom": true,
      "bounds": null,
      "detect_retina": false,
      "loading": false,
      "max_native_zoom": 18,
      "max_zoom": 24,
      "min_native_zoom": 0,
      "min_zoom": 0,
      "name": "20211220",
      "no_wrap": false,
      "opacity": 1,
      "options": [
       "attribution",
       "bounds",
       "detect_retina",
       "max_native_zoom",
       "max_zoom",
       "min_native_zoom",
       "min_zoom",
       "no_wrap",
       "tile_size",
       "tms"
      ],
      "popup": null,
      "popup_max_height": null,
      "popup_max_width": 300,
      "popup_min_width": 50,
      "show_loading": false,
      "tile_size": 256,
      "tms": false,
      "url": "https://earthengine.googleapis.com/v1alpha/projects/earthengine-legacy/maps/40b9da2ef875c8b9820d0de627c960bc-d4ee08a7d74a6bd7f7c2e326956bf058/tiles/{z}/{x}/{y}",
      "visible": true
     }
    },
    "3c8b1a285340436c83dabdd1580ac38e": {
     "model_module": "jupyter-leaflet",
     "model_module_version": "^0.15.0",
     "model_name": "LeafletScaleControlModel",
     "state": {
      "_model_module": "jupyter-leaflet",
      "_model_module_version": "^0.15.0",
      "_model_name": "LeafletScaleControlModel",
      "_view_count": null,
      "_view_module": "jupyter-leaflet",
      "_view_module_version": "^0.15.0",
      "_view_name": "LeafletScaleControlView",
      "imperial": true,
      "max_width": 100,
      "metric": true,
      "options": [
       "imperial",
       "max_width",
       "metric",
       "position",
       "update_when_idle"
      ],
      "position": "bottomleft",
      "update_when_idle": false
     }
    },
    "3fb51a610a524f05beb343d22bd5bef2": {
     "model_module": "@jupyter-widgets/controls",
     "model_module_version": "1.5.0",
     "model_name": "DescriptionStyleModel",
     "state": {
      "_model_module": "@jupyter-widgets/controls",
      "_model_module_version": "1.5.0",
      "_model_name": "DescriptionStyleModel",
      "_view_count": null,
      "_view_module": "@jupyter-widgets/base",
      "_view_module_version": "1.2.0",
      "_view_name": "StyleView",
      "description_width": ""
     }
    },
    "477184a859424d6dbd195e19db153f8a": {
     "model_module": "jupyter-leaflet",
     "model_module_version": "^0.16.0",
     "model_name": "LeafletMapModel",
     "state": {
      "_dom_classes": [],
      "_model_module": "jupyter-leaflet",
      "_model_module_version": "^0.16.0",
      "_model_name": "LeafletMapModel",
      "_view_count": null,
      "_view_module": "jupyter-leaflet",
      "_view_module_version": "^0.16.0",
      "_view_name": "LeafletMapView",
      "bottom": 1087659,
      "bounce_at_zoom_limits": true,
      "box_zoom": true,
      "center": [
       -6.6255181220513455,
       -79.7985741891281
      ],
      "close_popup_on_click": true,
      "controls": [
       "IPY_MODEL_31e2e4b63fad4cc29e03cd3a65826492",
       "IPY_MODEL_8e39efabb85c4769b77173413b7cbc41",
       "IPY_MODEL_e145b14ba1e44c1b93edfa72a228e1a5",
       "IPY_MODEL_e3ae36c76ad34384940abf8081a39fbe",
       "IPY_MODEL_b510787654ec490b9f61b9f879e44999",
       "IPY_MODEL_589a950d76324634add8d1d5eabe18de",
       "IPY_MODEL_904a33484b144a8ea559cfb239ae22d1",
       "IPY_MODEL_9e1d70fac199455da457c0384f192678"
      ],
      "crs": {
       "custom": false,
       "name": "EPSG3857"
      },
      "default_style": "IPY_MODEL_1978250860204202983a42cf92f0ec7b",
      "double_click_zoom": true,
      "dragging": true,
      "dragging_style": "IPY_MODEL_69fa1787ff7b428aa47ce7118acf568b",
      "east": -79.67903137207033,
      "fullscreen": false,
      "inertia": true,
      "inertia_deceleration": 3000,
      "inertia_max_speed": 1500,
      "interpolation": "bilinear",
      "keyboard": true,
      "keyboard_pan_offset": 80,
      "keyboard_zoom_offset": 1,
      "layers": [
       "IPY_MODEL_5b2795c7920246739d757b875c8cca54",
       "IPY_MODEL_4a6e2cc034bd414faedf1b2c850647ce",
       "IPY_MODEL_e5374e9b2b2940edac6fcbdec8110ee6",
       "IPY_MODEL_6325886bfe984681889ffaac32ce7ac0",
       "IPY_MODEL_39329773390d4de3ba247f2258097062",
       "IPY_MODEL_d62846c0569f49c58dc390ede5a3950a",
       "IPY_MODEL_a08456f0d5d54412bfd5848e15c863b5",
       "IPY_MODEL_c590ba513fa648d8b1f205d01a12fb04",
       "IPY_MODEL_53d8bb612dfe4962b87768d5454351e3",
       "IPY_MODEL_5a0988c808a6445ea836318f64325940",
       "IPY_MODEL_0028af2a29d742a3ba79182899c3764f",
       "IPY_MODEL_6d4523315ef4460a856ee7624d41479a",
       "IPY_MODEL_298637e09be84d2f8c7e45239dbd38a6",
       "IPY_MODEL_eec700aefe14417292f15c3eae20140d",
       "IPY_MODEL_e8c16644446e48ecade63d1a09f07ea1"
      ],
      "layout": "IPY_MODEL_1806cc25be534b35a6ebf70e2d108240",
      "left": 583020,
      "max_zoom": 24,
      "min_zoom": 1,
      "modisdate": "2022-04-13",
      "north": -6.557350527870049,
      "options": [
       "bounce_at_zoom_limits",
       "box_zoom",
       "center",
       "close_popup_on_click",
       "double_click_zoom",
       "dragging",
       "fullscreen",
       "inertia",
       "inertia_deceleration",
       "inertia_max_speed",
       "interpolation",
       "keyboard",
       "keyboard_pan_offset",
       "keyboard_zoom_offset",
       "max_zoom",
       "min_zoom",
       "prefer_canvas",
       "scroll_wheel_zoom",
       "tap",
       "tap_tolerance",
       "touch_zoom",
       "world_copy_jump",
       "zoom",
       "zoom_animation_threshold",
       "zoom_delta",
       "zoom_snap",
       "zoom_start"
      ],
      "prefer_canvas": false,
      "right": 584412,
      "scroll_wheel_zoom": true,
      "south": -6.6937624301628516,
      "style": "IPY_MODEL_a849439318444b82b32cd8527d15a358",
      "tap": true,
      "tap_tolerance": 15,
      "top": 1086859,
      "touch_zoom": true,
      "west": -79.91798400878908,
      "window_url": "https://we2hq5k0ara-496ff2e9c6d22116-0-colab.googleusercontent.com/outputframe.html?vrz=colab-20220412-060046-RC00_441141632",
      "world_copy_jump": false,
      "zoom": 13,
      "zoom_animation_threshold": 4,
      "zoom_delta": 1,
      "zoom_snap": 1,
      "zoom_start": 12
     }
    },
    "4a6e2cc034bd414faedf1b2c850647ce": {
     "model_module": "jupyter-leaflet",
     "model_module_version": "^0.16.0",
     "model_name": "LeafletTileLayerModel",
     "state": {
      "_model_module": "jupyter-leaflet",
      "_model_module_version": "^0.16.0",
      "_model_name": "LeafletTileLayerModel",
      "_view_count": null,
      "_view_module": "jupyter-leaflet",
      "_view_module_version": "^0.16.0",
      "_view_name": "LeafletTileLayerView",
      "attribution": "Google",
      "base": false,
      "bottom": true,
      "bounds": null,
      "detect_retina": false,
      "loading": false,
      "max_native_zoom": 18,
      "max_zoom": 22,
      "min_native_zoom": 0,
      "min_zoom": 0,
      "name": "Google Maps",
      "no_wrap": false,
      "opacity": 1,
      "options": [
       "attribution",
       "bounds",
       "detect_retina",
       "max_native_zoom",
       "max_zoom",
       "min_native_zoom",
       "min_zoom",
       "no_wrap",
       "tile_size",
       "tms"
      ],
      "popup": null,
      "popup_max_height": null,
      "popup_max_width": 300,
      "popup_min_width": 50,
      "show_loading": false,
      "tile_size": 256,
      "tms": false,
      "url": "https://mt1.google.com/vt/lyrs=m&x={x}&y={y}&z={z}",
      "visible": true
     }
    },
    "5134839b67c64bb39d58ea3882e333a4": {
     "model_module": "jupyter-leaflet",
     "model_module_version": "^0.16.0",
     "model_name": "LeafletWidgetControlModel",
     "state": {
      "_model_module": "jupyter-leaflet",
      "_model_module_version": "^0.16.0",
      "_model_name": "LeafletWidgetControlModel",
      "_view_count": null,
      "_view_module": "jupyter-leaflet",
      "_view_module_version": "^0.16.0",
      "_view_name": "LeafletWidgetControlView",
      "max_height": null,
      "max_width": null,
      "min_height": null,
      "min_width": null,
      "options": [
       "position",
       "transparent_bg"
      ],
      "position": "bottomright",
      "transparent_bg": false,
      "widget": "IPY_MODEL_1e3ac848909a40a8b5713f3b723f8cbd"
     }
    },
    "53d8bb612dfe4962b87768d5454351e3": {
     "model_module": "jupyter-leaflet",
     "model_module_version": "^0.16.0",
     "model_name": "LeafletTileLayerModel",
     "state": {
      "_model_module": "jupyter-leaflet",
      "_model_module_version": "^0.16.0",
      "_model_name": "LeafletTileLayerModel",
      "_view_count": null,
      "_view_module": "jupyter-leaflet",
      "_view_module_version": "^0.16.0",
      "_view_name": "LeafletTileLayerView",
      "attribution": "Google Earth Engine",
      "base": false,
      "bottom": true,
      "bounds": null,
      "detect_retina": false,
      "loading": false,
      "max_native_zoom": 18,
      "max_zoom": 24,
      "min_native_zoom": 0,
      "min_zoom": 0,
      "name": "20220121",
      "no_wrap": false,
      "opacity": 1,
      "options": [
       "attribution",
       "bounds",
       "detect_retina",
       "max_native_zoom",
       "max_zoom",
       "min_native_zoom",
       "min_zoom",
       "no_wrap",
       "tile_size",
       "tms"
      ],
      "popup": null,
      "popup_max_height": null,
      "popup_max_width": 300,
      "popup_min_width": 50,
      "show_loading": false,
      "tile_size": 256,
      "tms": false,
      "url": "https://earthengine.googleapis.com/v1alpha/projects/earthengine-legacy/maps/c726f9021957e8e8f529042aab6a1930-a7dd80a07cea2f35812132082cee85ae/tiles/{z}/{x}/{y}",
      "visible": true
     }
    },
    "55fbb5f826094a15bfb9e263a4178074": {
     "model_module": "jupyter-leaflet",
     "model_module_version": "^0.15.0",
     "model_name": "LeafletMapStyleModel",
     "state": {
      "_model_module": "jupyter-leaflet",
      "_model_module_version": "^0.15.0",
      "_model_name": "LeafletMapStyleModel",
      "_view_count": null,
      "_view_module": "@jupyter-widgets/base",
      "_view_module_version": "1.2.0",
      "_view_name": "StyleView",
      "cursor": "grab"
     }
    },
    "574c4d4799c44ca69d81f7f502860fff": {
     "model_module": "@jupyter-widgets/controls",
     "model_module_version": "1.5.0",
     "model_name": "ToggleButtonModel",
     "state": {
      "_dom_classes": [],
      "_model_module": "@jupyter-widgets/controls",
      "_model_module_version": "1.5.0",
      "_model_name": "ToggleButtonModel",
      "_view_count": null,
      "_view_module": "@jupyter-widgets/controls",
      "_view_module_version": "1.5.0",
      "_view_name": "ToggleButtonView",
      "button_style": "",
      "description": "",
      "description_tooltip": null,
      "disabled": false,
      "icon": "globe",
      "layout": "IPY_MODEL_db54401f099a42e989b95227f5dd34b9",
      "style": "IPY_MODEL_3fb51a610a524f05beb343d22bd5bef2",
      "tooltip": "Search location/data",
      "value": false
     }
    },
    "589a950d76324634add8d1d5eabe18de": {
     "model_module": "jupyter-leaflet",
     "model_module_version": "^0.16.0",
     "model_name": "LeafletAttributionControlModel",
     "state": {
      "_model_module": "jupyter-leaflet",
      "_model_module_version": "^0.16.0",
      "_model_name": "LeafletAttributionControlModel",
      "_view_count": null,
      "_view_module": "jupyter-leaflet",
      "_view_module_version": "^0.16.0",
      "_view_name": "LeafletAttributionControlView",
      "options": [
       "position",
       "prefix"
      ],
      "position": "bottomright",
      "prefix": "ipyleaflet"
     }
    },
    "5a0988c808a6445ea836318f64325940": {
     "model_module": "jupyter-leaflet",
     "model_module_version": "^0.16.0",
     "model_name": "LeafletTileLayerModel",
     "state": {
      "_model_module": "jupyter-leaflet",
      "_model_module_version": "^0.16.0",
      "_model_name": "LeafletTileLayerModel",
      "_view_count": null,
      "_view_module": "jupyter-leaflet",
      "_view_module_version": "^0.16.0",
      "_view_name": "LeafletTileLayerView",
      "attribution": "Google Earth Engine",
      "base": false,
      "bottom": true,
      "bounds": null,
      "detect_retina": false,
      "loading": false,
      "max_native_zoom": 18,
      "max_zoom": 24,
      "min_native_zoom": 0,
      "min_zoom": 0,
      "name": "20220129",
      "no_wrap": false,
      "opacity": 1,
      "options": [
       "attribution",
       "bounds",
       "detect_retina",
       "max_native_zoom",
       "max_zoom",
       "min_native_zoom",
       "min_zoom",
       "no_wrap",
       "tile_size",
       "tms"
      ],
      "popup": null,
      "popup_max_height": null,
      "popup_max_width": 300,
      "popup_min_width": 50,
      "show_loading": false,
      "tile_size": 256,
      "tms": false,
      "url": "https://earthengine.googleapis.com/v1alpha/projects/earthengine-legacy/maps/1d4ea4f99111c61d46390b633b93dee5-eb938270c8387805c12891f9504284f9/tiles/{z}/{x}/{y}",
      "visible": true
     }
    },
    "5b2795c7920246739d757b875c8cca54": {
     "model_module": "jupyter-leaflet",
     "model_module_version": "^0.16.0",
     "model_name": "LeafletTileLayerModel",
     "state": {
      "_model_module": "jupyter-leaflet",
      "_model_module_version": "^0.16.0",
      "_model_name": "LeafletTileLayerModel",
      "_view_count": null,
      "_view_module": "jupyter-leaflet",
      "_view_module_version": "^0.16.0",
      "_view_name": "LeafletTileLayerView",
      "attribution": "&copy; <a href=\"https://www.openstreetmap.org/copyright\">OpenStreetMap</a> contributors",
      "base": true,
      "bottom": true,
      "bounds": null,
      "detect_retina": false,
      "loading": false,
      "max_native_zoom": 18,
      "max_zoom": 19,
      "min_native_zoom": 0,
      "min_zoom": 1,
      "name": "OpenStreetMap.Mapnik",
      "no_wrap": false,
      "opacity": 1,
      "options": [
       "attribution",
       "bounds",
       "detect_retina",
       "max_native_zoom",
       "max_zoom",
       "min_native_zoom",
       "min_zoom",
       "no_wrap",
       "tile_size",
       "tms"
      ],
      "popup": null,
      "popup_max_height": null,
      "popup_max_width": 300,
      "popup_min_width": 50,
      "show_loading": false,
      "tile_size": 256,
      "tms": false,
      "url": "https://a.tile.openstreetmap.org/{z}/{x}/{y}.png",
      "visible": true
     }
    },
    "6325886bfe984681889ffaac32ce7ac0": {
     "model_module": "jupyter-leaflet",
     "model_module_version": "^0.16.0",
     "model_name": "LeafletTileLayerModel",
     "state": {
      "_model_module": "jupyter-leaflet",
      "_model_module_version": "^0.16.0",
      "_model_name": "LeafletTileLayerModel",
      "_view_count": null,
      "_view_module": "jupyter-leaflet",
      "_view_module_version": "^0.16.0",
      "_view_name": "LeafletTileLayerView",
      "attribution": "Google Earth Engine",
      "base": false,
      "bottom": true,
      "bounds": null,
      "detect_retina": false,
      "loading": false,
      "max_native_zoom": 18,
      "max_zoom": 24,
      "min_native_zoom": 0,
      "min_zoom": 0,
      "name": "20211212",
      "no_wrap": false,
      "opacity": 1,
      "options": [
       "attribution",
       "bounds",
       "detect_retina",
       "max_native_zoom",
       "max_zoom",
       "min_native_zoom",
       "min_zoom",
       "no_wrap",
       "tile_size",
       "tms"
      ],
      "popup": null,
      "popup_max_height": null,
      "popup_max_width": 300,
      "popup_min_width": 50,
      "show_loading": false,
      "tile_size": 256,
      "tms": false,
      "url": "https://earthengine.googleapis.com/v1alpha/projects/earthengine-legacy/maps/4dc6e8822011b498633946532dc9269c-6b8d0d3d6ba7a58aed180b8f5a4dbf33/tiles/{z}/{x}/{y}",
      "visible": true
     }
    },
    "66b348c3dd154b31a1040426b9dc0aee": {
     "model_module": "jupyter-leaflet",
     "model_module_version": "^0.15.0",
     "model_name": "LeafletAttributionControlModel",
     "state": {
      "_model_module": "jupyter-leaflet",
      "_model_module_version": "^0.15.0",
      "_model_name": "LeafletAttributionControlModel",
      "_view_count": null,
      "_view_module": "jupyter-leaflet",
      "_view_module_version": "^0.15.0",
      "_view_name": "LeafletAttributionControlView",
      "options": [
       "position",
       "prefix"
      ],
      "position": "bottomright",
      "prefix": "ipyleaflet"
     }
    },
    "673cf59bc7254fd097c74f8640729431": {
     "model_module": "jupyter-leaflet",
     "model_module_version": "^0.15.0",
     "model_name": "LeafletWidgetControlModel",
     "state": {
      "_model_module": "jupyter-leaflet",
      "_model_module_version": "^0.15.0",
      "_model_name": "LeafletWidgetControlModel",
      "_view_count": null,
      "_view_module": "jupyter-leaflet",
      "_view_module_version": "^0.15.0",
      "_view_name": "LeafletWidgetControlView",
      "max_height": null,
      "max_width": null,
      "min_height": null,
      "min_width": null,
      "options": [
       "position",
       "transparent_bg"
      ],
      "position": "topleft",
      "transparent_bg": false,
      "widget": "IPY_MODEL_14b11b79c7ef4d35b7cc276a7c5b4f9c"
     }
    },
    "67c1d8f0bb534d5b8398c248a9f739b8": {
     "model_module": "@jupyter-widgets/base",
     "model_module_version": "1.2.0",
     "model_name": "LayoutModel",
     "state": {
      "_model_module": "@jupyter-widgets/base",
      "_model_module_version": "1.2.0",
      "_model_name": "LayoutModel",
      "_view_count": null,
      "_view_module": "@jupyter-widgets/base",
      "_view_module_version": "1.2.0",
      "_view_name": "LayoutView",
      "align_content": null,
      "align_items": null,
      "align_self": null,
      "border": null,
      "bottom": null,
      "display": null,
      "flex": null,
      "flex_flow": null,
      "grid_area": null,
      "grid_auto_columns": null,
      "grid_auto_flow": null,
      "grid_auto_rows": null,
      "grid_column": null,
      "grid_gap": null,
      "grid_row": null,
      "grid_template_areas": null,
      "grid_template_columns": null,
      "grid_template_rows": null,
      "height": null,
      "justify_content": null,
      "justify_items": null,
      "left": null,
      "margin": null,
      "max_height": null,
      "max_width": null,
      "min_height": null,
      "min_width": null,
      "object_fit": null,
      "object_position": null,
      "order": null,
      "overflow": null,
      "overflow_x": null,
      "overflow_y": null,
      "padding": null,
      "right": null,
      "top": null,
      "visibility": null,
      "width": null
     }
    },
    "69fa1787ff7b428aa47ce7118acf568b": {
     "model_module": "jupyter-leaflet",
     "model_module_version": "^0.16.0",
     "model_name": "LeafletMapStyleModel",
     "state": {
      "_model_module": "jupyter-leaflet",
      "_model_module_version": "^0.16.0",
      "_model_name": "LeafletMapStyleModel",
      "_view_count": null,
      "_view_module": "@jupyter-widgets/base",
      "_view_module_version": "1.2.0",
      "_view_name": "StyleView",
      "cursor": "move"
     }
    },
    "6a3384a618744c3ca2551a8acd422a85": {
     "model_module": "jupyter-leaflet",
     "model_module_version": "^0.16.0",
     "model_name": "LeafletMeasureControlModel",
     "state": {
      "_custom_units": {},
      "_model_module": "jupyter-leaflet",
      "_model_module_version": "^0.16.0",
      "_model_name": "LeafletMeasureControlModel",
      "_view_count": null,
      "_view_module": "jupyter-leaflet",
      "_view_module_version": "^0.16.0",
      "_view_name": "LeafletMeasureControlView",
      "active_color": "orange",
      "capture_z_index": 10000,
      "completed_color": "#C8F2BE",
      "options": [
       "active_color",
       "capture_z_index",
       "completed_color",
       "popup_options",
       "position",
       "primary_area_unit",
       "primary_length_unit",
       "secondary_area_unit",
       "secondary_length_unit"
      ],
      "popup_options": {
       "autoPanPadding": [
        10,
        10
       ],
       "className": "leaflet-measure-resultpopup"
      },
      "position": "bottomleft",
      "primary_area_unit": "acres",
      "primary_length_unit": "kilometers",
      "secondary_area_unit": null,
      "secondary_length_unit": null
     }
    },
    "6d4523315ef4460a856ee7624d41479a": {
     "model_module": "jupyter-leaflet",
     "model_module_version": "^0.16.0",
     "model_name": "LeafletTileLayerModel",
     "state": {
      "_model_module": "jupyter-leaflet",
      "_model_module_version": "^0.16.0",
      "_model_name": "LeafletTileLayerModel",
      "_view_count": null,
      "_view_module": "jupyter-leaflet",
      "_view_module_version": "^0.16.0",
      "_view_name": "LeafletTileLayerView",
      "attribution": "Google Earth Engine",
      "base": false,
      "bottom": true,
      "bounds": null,
      "detect_retina": false,
      "loading": false,
      "max_native_zoom": 18,
      "max_zoom": 24,
      "min_native_zoom": 0,
      "min_zoom": 0,
      "name": "20220310",
      "no_wrap": false,
      "opacity": 1,
      "options": [
       "attribution",
       "bounds",
       "detect_retina",
       "max_native_zoom",
       "max_zoom",
       "min_native_zoom",
       "min_zoom",
       "no_wrap",
       "tile_size",
       "tms"
      ],
      "popup": null,
      "popup_max_height": null,
      "popup_max_width": 300,
      "popup_min_width": 50,
      "show_loading": false,
      "tile_size": 256,
      "tms": false,
      "url": "https://earthengine.googleapis.com/v1alpha/projects/earthengine-legacy/maps/07c2fda19e2146111d62f269e187512d-e4752661e557cc3ee22d60d59d20693d/tiles/{z}/{x}/{y}",
      "visible": true
     }
    },
    "6dea706511704698b44b1345994bde51": {
     "model_module": "@jupyter-widgets/base",
     "model_module_version": "1.2.0",
     "model_name": "LayoutModel",
     "state": {
      "_model_module": "@jupyter-widgets/base",
      "_model_module_version": "1.2.0",
      "_model_name": "LayoutModel",
      "_view_count": null,
      "_view_module": "@jupyter-widgets/base",
      "_view_module_version": "1.2.0",
      "_view_name": "LayoutView",
      "align_content": null,
      "align_items": null,
      "align_self": null,
      "border": null,
      "bottom": null,
      "display": null,
      "flex": null,
      "flex_flow": null,
      "grid_area": null,
      "grid_auto_columns": null,
      "grid_auto_flow": null,
      "grid_auto_rows": null,
      "grid_column": null,
      "grid_gap": null,
      "grid_row": null,
      "grid_template_areas": null,
      "grid_template_columns": null,
      "grid_template_rows": null,
      "height": null,
      "justify_content": null,
      "justify_items": null,
      "left": null,
      "margin": null,
      "max_height": null,
      "max_width": null,
      "min_height": null,
      "min_width": null,
      "object_fit": null,
      "object_position": null,
      "order": null,
      "overflow": null,
      "overflow_x": null,
      "overflow_y": null,
      "padding": null,
      "right": null,
      "top": null,
      "visibility": null,
      "width": null
     }
    },
    "70dd1b1d7a0241a0b457ab2900db21a5": {
     "model_module": "@jupyter-widgets/base",
     "model_module_version": "1.2.0",
     "model_name": "LayoutModel",
     "state": {
      "_model_module": "@jupyter-widgets/base",
      "_model_module_version": "1.2.0",
      "_model_name": "LayoutModel",
      "_view_count": null,
      "_view_module": "@jupyter-widgets/base",
      "_view_module_version": "1.2.0",
      "_view_name": "LayoutView",
      "align_content": null,
      "align_items": null,
      "align_self": null,
      "border": null,
      "bottom": null,
      "display": null,
      "flex": null,
      "flex_flow": null,
      "grid_area": null,
      "grid_auto_columns": null,
      "grid_auto_flow": null,
      "grid_auto_rows": null,
      "grid_column": null,
      "grid_gap": null,
      "grid_row": null,
      "grid_template_areas": null,
      "grid_template_columns": null,
      "grid_template_rows": null,
      "height": null,
      "justify_content": null,
      "justify_items": null,
      "left": null,
      "margin": null,
      "max_height": null,
      "max_width": null,
      "min_height": null,
      "min_width": null,
      "object_fit": null,
      "object_position": null,
      "order": null,
      "overflow": null,
      "overflow_x": null,
      "overflow_y": null,
      "padding": null,
      "right": null,
      "top": null,
      "visibility": null,
      "width": null
     }
    },
    "72cb74c4522340a7804f018137f6abb1": {
     "model_module": "jupyter-leaflet",
     "model_module_version": "^0.16.0",
     "model_name": "LeafletTileLayerModel",
     "state": {
      "_model_module": "jupyter-leaflet",
      "_model_module_version": "^0.16.0",
      "_model_name": "LeafletTileLayerModel",
      "_view_count": null,
      "_view_module": "jupyter-leaflet",
      "_view_module_version": "^0.16.0",
      "_view_name": "LeafletTileLayerView",
      "attribution": "Google",
      "base": false,
      "bottom": true,
      "bounds": null,
      "detect_retina": false,
      "loading": false,
      "max_native_zoom": 18,
      "max_zoom": 22,
      "min_native_zoom": 0,
      "min_zoom": 0,
      "name": "Google Maps",
      "no_wrap": false,
      "opacity": 1,
      "options": [
       "attribution",
       "bounds",
       "detect_retina",
       "max_native_zoom",
       "max_zoom",
       "min_native_zoom",
       "min_zoom",
       "no_wrap",
       "tile_size",
       "tms"
      ],
      "popup": null,
      "popup_max_height": null,
      "popup_max_width": 300,
      "popup_min_width": 50,
      "show_loading": false,
      "tile_size": 256,
      "tms": false,
      "url": "https://mt1.google.com/vt/lyrs=m&x={x}&y={y}&z={z}",
      "visible": true
     }
    },
    "76beaa96875741c492b76b67ce3f5557": {
     "model_module": "@jupyter-widgets/controls",
     "model_module_version": "1.5.0",
     "model_name": "DescriptionStyleModel",
     "state": {
      "_model_module": "@jupyter-widgets/controls",
      "_model_module_version": "1.5.0",
      "_model_name": "DescriptionStyleModel",
      "_view_count": null,
      "_view_module": "@jupyter-widgets/base",
      "_view_module_version": "1.2.0",
      "_view_name": "StyleView",
      "description_width": ""
     }
    },
    "82ebcd50a6ab4eb7bbd43b0b2b05c420": {
     "model_module": "jupyter-leaflet",
     "model_module_version": "^0.15.0",
     "model_name": "LeafletTileLayerModel",
     "state": {
      "_model_module": "jupyter-leaflet",
      "_model_module_version": "^0.15.0",
      "_model_name": "LeafletTileLayerModel",
      "_view_count": null,
      "_view_module": "jupyter-leaflet",
      "_view_module_version": "^0.15.0",
      "_view_name": "LeafletTileLayerView",
      "attribution": "&copy; <a href=\"https://www.openstreetmap.org/copyright\">OpenStreetMap</a> contributors",
      "base": true,
      "bottom": true,
      "detect_retina": false,
      "loading": false,
      "max_native_zoom": 18,
      "max_zoom": 19,
      "min_native_zoom": 0,
      "min_zoom": 1,
      "name": "OpenStreetMap.Mapnik",
      "no_wrap": false,
      "opacity": 1,
      "options": [
       "attribution",
       "detect_retina",
       "max_native_zoom",
       "max_zoom",
       "min_native_zoom",
       "min_zoom",
       "no_wrap",
       "tile_size",
       "tms"
      ],
      "popup": null,
      "popup_max_height": null,
      "popup_max_width": 300,
      "popup_min_width": 50,
      "show_loading": false,
      "tile_size": 256,
      "tms": false,
      "url": "https://a.tile.openstreetmap.org/{z}/{x}/{y}.png",
      "visible": true
     }
    },
    "83b9b602914e4d0c8a2e0e4bf10e663c": {
     "model_module": "@jupyter-widgets/base",
     "model_module_version": "1.2.0",
     "model_name": "LayoutModel",
     "state": {
      "_model_module": "@jupyter-widgets/base",
      "_model_module_version": "1.2.0",
      "_model_name": "LayoutModel",
      "_view_count": null,
      "_view_module": "@jupyter-widgets/base",
      "_view_module_version": "1.2.0",
      "_view_name": "LayoutView",
      "align_content": null,
      "align_items": null,
      "align_self": null,
      "border": null,
      "bottom": null,
      "display": null,
      "flex": null,
      "flex_flow": null,
      "grid_area": null,
      "grid_auto_columns": null,
      "grid_auto_flow": null,
      "grid_auto_rows": null,
      "grid_column": null,
      "grid_gap": null,
      "grid_row": null,
      "grid_template_areas": null,
      "grid_template_columns": null,
      "grid_template_rows": null,
      "height": "28px",
      "justify_content": null,
      "justify_items": null,
      "left": null,
      "margin": null,
      "max_height": null,
      "max_width": null,
      "min_height": null,
      "min_width": null,
      "object_fit": null,
      "object_position": null,
      "order": null,
      "overflow": null,
      "overflow_x": null,
      "overflow_y": null,
      "padding": "0px 0px 0px 4px",
      "right": null,
      "top": null,
      "visibility": null,
      "width": "28px"
     }
    },
    "896f0e14c5a94fa5a12efe89bb2241a0": {
     "model_module": "@jupyter-widgets/controls",
     "model_module_version": "1.5.0",
     "model_name": "HBoxModel",
     "state": {
      "_dom_classes": [],
      "_model_module": "@jupyter-widgets/controls",
      "_model_module_version": "1.5.0",
      "_model_name": "HBoxModel",
      "_view_count": null,
      "_view_module": "@jupyter-widgets/controls",
      "_view_module_version": "1.5.0",
      "_view_name": "HBoxView",
      "box_style": "",
      "children": [
       "IPY_MODEL_035ab3a5314c42078b23f39e44bf4d27"
      ],
      "layout": "IPY_MODEL_67c1d8f0bb534d5b8398c248a9f739b8"
     }
    },
    "8ca675ac4fad4951a140289692580722": {
     "model_module": "@jupyter-widgets/controls",
     "model_module_version": "1.5.0",
     "model_name": "ToggleButtonModel",
     "state": {
      "_dom_classes": [],
      "_model_module": "@jupyter-widgets/controls",
      "_model_module_version": "1.5.0",
      "_model_name": "ToggleButtonModel",
      "_view_count": null,
      "_view_module": "@jupyter-widgets/controls",
      "_view_module_version": "1.5.0",
      "_view_name": "ToggleButtonView",
      "button_style": "",
      "description": "",
      "description_tooltip": null,
      "disabled": false,
      "icon": "wrench",
      "layout": "IPY_MODEL_e109b21ebd6549099aef9b874e875425",
      "style": "IPY_MODEL_76beaa96875741c492b76b67ce3f5557",
      "tooltip": "Toolbar",
      "value": false
     }
    },
    "8e39efabb85c4769b77173413b7cbc41": {
     "model_module": "jupyter-leaflet",
     "model_module_version": "^0.16.0",
     "model_name": "LeafletZoomControlModel",
     "state": {
      "_model_module": "jupyter-leaflet",
      "_model_module_version": "^0.16.0",
      "_model_name": "LeafletZoomControlModel",
      "_view_count": null,
      "_view_module": "jupyter-leaflet",
      "_view_module_version": "^0.16.0",
      "_view_name": "LeafletZoomControlView",
      "options": [
       "position",
       "zoom_in_text",
       "zoom_in_title",
       "zoom_out_text",
       "zoom_out_title"
      ],
      "position": "topleft",
      "zoom_in_text": "+",
      "zoom_in_title": "Zoom in",
      "zoom_out_text": "-",
      "zoom_out_title": "Zoom out"
     }
    },
    "901febfcf007485a825c7f13e3d561bc": {
     "model_module": "jupyter-leaflet",
     "model_module_version": "^0.16.0",
     "model_name": "LeafletFullScreenControlModel",
     "state": {
      "_model_module": "jupyter-leaflet",
      "_model_module_version": "^0.16.0",
      "_model_name": "LeafletFullScreenControlModel",
      "_view_count": null,
      "_view_module": "jupyter-leaflet",
      "_view_module_version": "^0.16.0",
      "_view_name": "LeafletFullScreenControlView",
      "options": [
       "position"
      ],
      "position": "topleft"
     }
    },
    "904a33484b144a8ea559cfb239ae22d1": {
     "model_module": "jupyter-leaflet",
     "model_module_version": "^0.16.0",
     "model_name": "LeafletDrawControlModel",
     "state": {
      "_model_module": "jupyter-leaflet",
      "_model_module_version": "^0.16.0",
      "_model_name": "LeafletDrawControlModel",
      "_view_count": null,
      "_view_module": "jupyter-leaflet",
      "_view_module_version": "^0.16.0",
      "_view_name": "LeafletDrawControlView",
      "circle": {
       "shapeOptions": {
        "color": "#3388ff"
       }
      },
      "circlemarker": {},
      "data": [],
      "edit": true,
      "marker": {
       "shapeOptions": {
        "color": "#3388ff"
       }
      },
      "options": [
       "position"
      ],
      "polygon": {
       "shapeOptions": {}
      },
      "polyline": {
       "shapeOptions": {}
      },
      "position": "topleft",
      "rectangle": {
       "shapeOptions": {
        "color": "#3388ff"
       }
      },
      "remove": true
     }
    },
    "988e674bdbf1400e979b7003dc294b2d": {
     "model_module": "jupyter-leaflet",
     "model_module_version": "^0.16.0",
     "model_name": "LeafletWidgetControlModel",
     "state": {
      "_model_module": "jupyter-leaflet",
      "_model_module_version": "^0.16.0",
      "_model_name": "LeafletWidgetControlModel",
      "_view_count": null,
      "_view_module": "jupyter-leaflet",
      "_view_module_version": "^0.16.0",
      "_view_name": "LeafletWidgetControlView",
      "max_height": null,
      "max_width": null,
      "min_height": null,
      "min_width": null,
      "options": [
       "position",
       "transparent_bg"
      ],
      "position": "topleft",
      "transparent_bg": false,
      "widget": "IPY_MODEL_c29917b9deb04b999ec35bb96a8c0aea"
     }
    },
    "9b886edfb6bc43b08b81153deb313f48": {
     "model_module": "jupyter-leaflet",
     "model_module_version": "^0.16.0",
     "model_name": "LeafletTileLayerModel",
     "state": {
      "_model_module": "jupyter-leaflet",
      "_model_module_version": "^0.16.0",
      "_model_name": "LeafletTileLayerModel",
      "_view_count": null,
      "_view_module": "jupyter-leaflet",
      "_view_module_version": "^0.16.0",
      "_view_name": "LeafletTileLayerView",
      "attribution": "Google Earth Engine",
      "base": false,
      "bottom": true,
      "bounds": null,
      "detect_retina": false,
      "loading": false,
      "max_native_zoom": 18,
      "max_zoom": 24,
      "min_native_zoom": 0,
      "min_zoom": 0,
      "name": "img_ts_c_masked",
      "no_wrap": false,
      "opacity": 1,
      "options": [
       "attribution",
       "bounds",
       "detect_retina",
       "max_native_zoom",
       "max_zoom",
       "min_native_zoom",
       "min_zoom",
       "no_wrap",
       "tile_size",
       "tms"
      ],
      "popup": null,
      "popup_max_height": null,
      "popup_max_width": 300,
      "popup_min_width": 50,
      "show_loading": false,
      "tile_size": 256,
      "tms": false,
      "url": "https://earthengine.googleapis.com/v1alpha/projects/earthengine-legacy/maps/98c6cc6c7f35dab18609424374524853-5c8f9429d1d99ff6e042d9a11a14edb5/tiles/{z}/{x}/{y}",
      "visible": true
     }
    },
    "9d30bf316c274cfd97995574772d79e5": {
     "model_module": "jupyter-leaflet",
     "model_module_version": "^0.15.0",
     "model_name": "LeafletFullScreenControlModel",
     "state": {
      "_model_module": "jupyter-leaflet",
      "_model_module_version": "^0.15.0",
      "_model_name": "LeafletFullScreenControlModel",
      "_view_count": null,
      "_view_module": "jupyter-leaflet",
      "_view_module_version": "^0.15.0",
      "_view_name": "LeafletFullScreenControlView",
      "options": [
       "position"
      ],
      "position": "topleft"
     }
    },
    "9e1d70fac199455da457c0384f192678": {
     "model_module": "jupyter-leaflet",
     "model_module_version": "^0.16.0",
     "model_name": "LeafletWidgetControlModel",
     "state": {
      "_model_module": "jupyter-leaflet",
      "_model_module_version": "^0.16.0",
      "_model_name": "LeafletWidgetControlModel",
      "_view_count": null,
      "_view_module": "jupyter-leaflet",
      "_view_module_version": "^0.16.0",
      "_view_name": "LeafletWidgetControlView",
      "max_height": null,
      "max_width": null,
      "min_height": null,
      "min_width": null,
      "options": [
       "position",
       "transparent_bg"
      ],
      "position": "topright",
      "transparent_bg": false,
      "widget": "IPY_MODEL_c0d0e9a218d44224a6e619c1baec9f06"
     }
    },
    "a08456f0d5d54412bfd5848e15c863b5": {
     "model_module": "jupyter-leaflet",
     "model_module_version": "^0.16.0",
     "model_name": "LeafletTileLayerModel",
     "state": {
      "_model_module": "jupyter-leaflet",
      "_model_module_version": "^0.16.0",
      "_model_name": "LeafletTileLayerModel",
      "_view_count": null,
      "_view_module": "jupyter-leaflet",
      "_view_module_version": "^0.16.0",
      "_view_name": "LeafletTileLayerView",
      "attribution": "Google Earth Engine",
      "base": false,
      "bottom": true,
      "bounds": null,
      "detect_retina": false,
      "loading": false,
      "max_native_zoom": 18,
      "max_zoom": 24,
      "min_native_zoom": 0,
      "min_zoom": 0,
      "name": "20220105",
      "no_wrap": false,
      "opacity": 1,
      "options": [
       "attribution",
       "bounds",
       "detect_retina",
       "max_native_zoom",
       "max_zoom",
       "min_native_zoom",
       "min_zoom",
       "no_wrap",
       "tile_size",
       "tms"
      ],
      "popup": null,
      "popup_max_height": null,
      "popup_max_width": 300,
      "popup_min_width": 50,
      "show_loading": false,
      "tile_size": 256,
      "tms": false,
      "url": "https://earthengine.googleapis.com/v1alpha/projects/earthengine-legacy/maps/b090829fbcd27706434ebd8efa893991-1b1751a4270ceef3032c65532bdda831/tiles/{z}/{x}/{y}",
      "visible": true
     }
    },
    "a7173ed141114fb79ffb4b3f1abe323f": {
     "model_module": "@jupyter-widgets/controls",
     "model_module_version": "1.5.0",
     "model_name": "DescriptionStyleModel",
     "state": {
      "_model_module": "@jupyter-widgets/controls",
      "_model_module_version": "1.5.0",
      "_model_name": "DescriptionStyleModel",
      "_view_count": null,
      "_view_module": "@jupyter-widgets/base",
      "_view_module_version": "1.2.0",
      "_view_name": "StyleView",
      "description_width": ""
     }
    },
    "a849439318444b82b32cd8527d15a358": {
     "model_module": "jupyter-leaflet",
     "model_module_version": "^0.16.0",
     "model_name": "LeafletMapStyleModel",
     "state": {
      "_model_module": "jupyter-leaflet",
      "_model_module_version": "^0.16.0",
      "_model_name": "LeafletMapStyleModel",
      "_view_count": null,
      "_view_module": "@jupyter-widgets/base",
      "_view_module_version": "1.2.0",
      "_view_name": "StyleView",
      "cursor": "grab"
     }
    },
    "a9ab631f84234de3921c220968a33e07": {
     "model_module": "@jupyter-widgets/base",
     "model_module_version": "1.2.0",
     "model_name": "LayoutModel",
     "state": {
      "_model_module": "@jupyter-widgets/base",
      "_model_module_version": "1.2.0",
      "_model_name": "LayoutModel",
      "_view_count": null,
      "_view_module": "@jupyter-widgets/base",
      "_view_module_version": "1.2.0",
      "_view_name": "LayoutView",
      "align_content": null,
      "align_items": null,
      "align_self": null,
      "border": null,
      "bottom": null,
      "display": null,
      "flex": null,
      "flex_flow": null,
      "grid_area": null,
      "grid_auto_columns": null,
      "grid_auto_flow": null,
      "grid_auto_rows": null,
      "grid_column": null,
      "grid_gap": null,
      "grid_row": null,
      "grid_template_areas": null,
      "grid_template_columns": null,
      "grid_template_rows": null,
      "height": null,
      "justify_content": null,
      "justify_items": null,
      "left": null,
      "margin": null,
      "max_height": null,
      "max_width": null,
      "min_height": null,
      "min_width": null,
      "object_fit": null,
      "object_position": null,
      "order": null,
      "overflow": null,
      "overflow_x": null,
      "overflow_y": null,
      "padding": null,
      "right": null,
      "top": null,
      "visibility": null,
      "width": null
     }
    },
    "aa0701b2e48742a2b7180c42881ab149": {
     "model_module": "@jupyter-widgets/base",
     "model_module_version": "1.2.0",
     "model_name": "LayoutModel",
     "state": {
      "_model_module": "@jupyter-widgets/base",
      "_model_module_version": "1.2.0",
      "_model_name": "LayoutModel",
      "_view_count": null,
      "_view_module": "@jupyter-widgets/base",
      "_view_module_version": "1.2.0",
      "_view_name": "LayoutView",
      "align_content": null,
      "align_items": null,
      "align_self": null,
      "border": null,
      "bottom": null,
      "display": null,
      "flex": null,
      "flex_flow": null,
      "grid_area": null,
      "grid_auto_columns": null,
      "grid_auto_flow": null,
      "grid_auto_rows": null,
      "grid_column": null,
      "grid_gap": null,
      "grid_row": null,
      "grid_template_areas": null,
      "grid_template_columns": null,
      "grid_template_rows": null,
      "height": "28px",
      "justify_content": null,
      "justify_items": null,
      "left": null,
      "margin": null,
      "max_height": null,
      "max_width": null,
      "min_height": null,
      "min_width": null,
      "object_fit": null,
      "object_position": null,
      "order": null,
      "overflow": null,
      "overflow_x": null,
      "overflow_y": null,
      "padding": "0px 0px 0px 4px",
      "right": null,
      "top": null,
      "visibility": null,
      "width": "28px"
     }
    },
    "b510787654ec490b9f61b9f879e44999": {
     "model_module": "jupyter-leaflet",
     "model_module_version": "^0.16.0",
     "model_name": "LeafletMeasureControlModel",
     "state": {
      "_custom_units": {},
      "_model_module": "jupyter-leaflet",
      "_model_module_version": "^0.16.0",
      "_model_name": "LeafletMeasureControlModel",
      "_view_count": null,
      "_view_module": "jupyter-leaflet",
      "_view_module_version": "^0.16.0",
      "_view_name": "LeafletMeasureControlView",
      "active_color": "orange",
      "capture_z_index": 10000,
      "completed_color": "#C8F2BE",
      "options": [
       "active_color",
       "capture_z_index",
       "completed_color",
       "popup_options",
       "position",
       "primary_area_unit",
       "primary_length_unit",
       "secondary_area_unit",
       "secondary_length_unit"
      ],
      "popup_options": {
       "autoPanPadding": [
        10,
        10
       ],
       "className": "leaflet-measure-resultpopup"
      },
      "position": "bottomleft",
      "primary_area_unit": "acres",
      "primary_length_unit": "kilometers",
      "secondary_area_unit": null,
      "secondary_length_unit": null
     }
    },
    "b8350cc42131462f9c42c876d9080835": {
     "model_module": "@jupyter-widgets/base",
     "model_module_version": "1.2.0",
     "model_name": "LayoutModel",
     "state": {
      "_model_module": "@jupyter-widgets/base",
      "_model_module_version": "1.2.0",
      "_model_name": "LayoutModel",
      "_view_count": null,
      "_view_module": "@jupyter-widgets/base",
      "_view_module_version": "1.2.0",
      "_view_name": "LayoutView",
      "align_content": null,
      "align_items": null,
      "align_self": null,
      "border": null,
      "bottom": null,
      "display": null,
      "flex": null,
      "flex_flow": null,
      "grid_area": null,
      "grid_auto_columns": null,
      "grid_auto_flow": null,
      "grid_auto_rows": null,
      "grid_column": null,
      "grid_gap": null,
      "grid_row": null,
      "grid_template_areas": null,
      "grid_template_columns": null,
      "grid_template_rows": null,
      "height": "600px",
      "justify_content": null,
      "justify_items": null,
      "left": null,
      "margin": null,
      "max_height": null,
      "max_width": null,
      "min_height": null,
      "min_width": null,
      "object_fit": null,
      "object_position": null,
      "order": null,
      "overflow": null,
      "overflow_x": null,
      "overflow_y": null,
      "padding": null,
      "right": null,
      "top": null,
      "visibility": null,
      "width": null
     }
    },
    "bba0a1f413aa44bfabb2b8f5e68ce012": {
     "model_module": "@jupyter-widgets/controls",
     "model_module_version": "1.5.0",
     "model_name": "DescriptionStyleModel",
     "state": {
      "_model_module": "@jupyter-widgets/controls",
      "_model_module_version": "1.5.0",
      "_model_name": "DescriptionStyleModel",
      "_view_count": null,
      "_view_module": "@jupyter-widgets/base",
      "_view_module_version": "1.2.0",
      "_view_name": "StyleView",
      "description_width": ""
     }
    },
    "be3e5c4b8af949e0909631e4eef211e6": {
     "model_module": "@jupyter-widgets/controls",
     "model_module_version": "1.5.0",
     "model_name": "ToggleButtonModel",
     "state": {
      "_dom_classes": [],
      "_model_module": "@jupyter-widgets/controls",
      "_model_module_version": "1.5.0",
      "_model_name": "ToggleButtonModel",
      "_view_count": null,
      "_view_module": "@jupyter-widgets/controls",
      "_view_module_version": "1.5.0",
      "_view_name": "ToggleButtonView",
      "button_style": "",
      "description": "",
      "description_tooltip": null,
      "disabled": false,
      "icon": "globe",
      "layout": "IPY_MODEL_16900b275461460593951f8294400cb3",
      "style": "IPY_MODEL_a7173ed141114fb79ffb4b3f1abe323f",
      "tooltip": "Search location/data",
      "value": false
     }
    },
    "bea81ce2f5db45cd9a9ddc02b4333392": {
     "model_module": "jupyter-leaflet",
     "model_module_version": "^0.16.0",
     "model_name": "LeafletZoomControlModel",
     "state": {
      "_model_module": "jupyter-leaflet",
      "_model_module_version": "^0.16.0",
      "_model_name": "LeafletZoomControlModel",
      "_view_count": null,
      "_view_module": "jupyter-leaflet",
      "_view_module_version": "^0.16.0",
      "_view_name": "LeafletZoomControlView",
      "options": [
       "position",
       "zoom_in_text",
       "zoom_in_title",
       "zoom_out_text",
       "zoom_out_title"
      ],
      "position": "topleft",
      "zoom_in_text": "+",
      "zoom_in_title": "Zoom in",
      "zoom_out_text": "-",
      "zoom_out_title": "Zoom out"
     }
    },
    "c0d0e9a218d44224a6e619c1baec9f06": {
     "model_module": "@jupyter-widgets/controls",
     "model_module_version": "1.5.0",
     "model_name": "VBoxModel",
     "state": {
      "_dom_classes": [],
      "_model_module": "@jupyter-widgets/controls",
      "_model_module_version": "1.5.0",
      "_model_name": "VBoxModel",
      "_view_count": null,
      "_view_module": "@jupyter-widgets/controls",
      "_view_module_version": "1.5.0",
      "_view_name": "VBoxView",
      "box_style": "",
      "children": [
       "IPY_MODEL_09cba970704a4eb394fb3fd8f5710a3e"
      ],
      "layout": "IPY_MODEL_34f1433956fe487ca435414bb2eeafcf"
     }
    },
    "c1aa62e4f44941568f63d50b097c104d": {
     "model_module": "jupyter-leaflet",
     "model_module_version": "^0.15.0",
     "model_name": "LeafletTileLayerModel",
     "state": {
      "_model_module": "jupyter-leaflet",
      "_model_module_version": "^0.15.0",
      "_model_name": "LeafletTileLayerModel",
      "_view_count": null,
      "_view_module": "jupyter-leaflet",
      "_view_module_version": "^0.15.0",
      "_view_name": "LeafletTileLayerView",
      "attribution": "Google Earth Engine",
      "base": false,
      "bottom": true,
      "detect_retina": false,
      "loading": false,
      "max_native_zoom": 18,
      "max_zoom": 24,
      "min_native_zoom": 0,
      "min_zoom": 0,
      "name": "Img TOA",
      "no_wrap": false,
      "opacity": 1,
      "options": [
       "attribution",
       "detect_retina",
       "max_native_zoom",
       "max_zoom",
       "min_native_zoom",
       "min_zoom",
       "no_wrap",
       "tile_size",
       "tms"
      ],
      "popup": null,
      "popup_max_height": null,
      "popup_max_width": 300,
      "popup_min_width": 50,
      "show_loading": false,
      "tile_size": 256,
      "tms": false,
      "url": "https://earthengine.googleapis.com/v1alpha/projects/earthengine-legacy/maps/e3f45772215666e255e63779bfb7e90f-20c6df813c38b5d0c53cb96d60688d81/tiles/{z}/{x}/{y}",
      "visible": true
     }
    },
    "c1b8ce65be1c4ec8998e4ea46681497a": {
     "model_module": "@jupyter-widgets/base",
     "model_module_version": "1.2.0",
     "model_name": "LayoutModel",
     "state": {
      "_model_module": "@jupyter-widgets/base",
      "_model_module_version": "1.2.0",
      "_model_name": "LayoutModel",
      "_view_count": null,
      "_view_module": "@jupyter-widgets/base",
      "_view_module_version": "1.2.0",
      "_view_name": "LayoutView",
      "align_content": null,
      "align_items": null,
      "align_self": null,
      "border": null,
      "bottom": null,
      "display": null,
      "flex": null,
      "flex_flow": null,
      "grid_area": null,
      "grid_auto_columns": null,
      "grid_auto_flow": null,
      "grid_auto_rows": null,
      "grid_column": null,
      "grid_gap": null,
      "grid_row": null,
      "grid_template_areas": null,
      "grid_template_columns": null,
      "grid_template_rows": null,
      "height": "600px",
      "justify_content": null,
      "justify_items": null,
      "left": null,
      "margin": null,
      "max_height": null,
      "max_width": null,
      "min_height": null,
      "min_width": null,
      "object_fit": null,
      "object_position": null,
      "order": null,
      "overflow": null,
      "overflow_x": null,
      "overflow_y": null,
      "padding": null,
      "right": null,
      "top": null,
      "visibility": null,
      "width": null
     }
    },
    "c29917b9deb04b999ec35bb96a8c0aea": {
     "model_module": "@jupyter-widgets/controls",
     "model_module_version": "1.5.0",
     "model_name": "HBoxModel",
     "state": {
      "_dom_classes": [],
      "_model_module": "@jupyter-widgets/controls",
      "_model_module_version": "1.5.0",
      "_model_name": "HBoxModel",
      "_view_count": null,
      "_view_module": "@jupyter-widgets/controls",
      "_view_module_version": "1.5.0",
      "_view_name": "HBoxView",
      "box_style": "",
      "children": [
       "IPY_MODEL_be3e5c4b8af949e0909631e4eef211e6"
      ],
      "layout": "IPY_MODEL_01570eb3fb3c49fda7e51c72f0cf2782"
     }
    },
    "c4d9e644875949a982757d0b89577e9c": {
     "model_module": "jupyter-leaflet",
     "model_module_version": "^0.15.0",
     "model_name": "LeafletTileLayerModel",
     "state": {
      "_model_module": "jupyter-leaflet",
      "_model_module_version": "^0.15.0",
      "_model_name": "LeafletTileLayerModel",
      "_view_count": null,
      "_view_module": "jupyter-leaflet",
      "_view_module_version": "^0.15.0",
      "_view_name": "LeafletTileLayerView",
      "attribution": "Google",
      "base": false,
      "bottom": true,
      "detect_retina": false,
      "loading": false,
      "max_native_zoom": 18,
      "max_zoom": 22,
      "min_native_zoom": 0,
      "min_zoom": 0,
      "name": "Google Maps",
      "no_wrap": false,
      "opacity": 1,
      "options": [
       "attribution",
       "detect_retina",
       "max_native_zoom",
       "max_zoom",
       "min_native_zoom",
       "min_zoom",
       "no_wrap",
       "tile_size",
       "tms"
      ],
      "popup": null,
      "popup_max_height": null,
      "popup_max_width": 300,
      "popup_min_width": 50,
      "show_loading": false,
      "tile_size": 256,
      "tms": false,
      "url": "https://mt1.google.com/vt/lyrs=m&x={x}&y={y}&z={z}",
      "visible": true
     }
    },
    "c590ba513fa648d8b1f205d01a12fb04": {
     "model_module": "jupyter-leaflet",
     "model_module_version": "^0.16.0",
     "model_name": "LeafletTileLayerModel",
     "state": {
      "_model_module": "jupyter-leaflet",
      "_model_module_version": "^0.16.0",
      "_model_name": "LeafletTileLayerModel",
      "_view_count": null,
      "_view_module": "jupyter-leaflet",
      "_view_module_version": "^0.16.0",
      "_view_name": "LeafletTileLayerView",
      "attribution": "Google Earth Engine",
      "base": false,
      "bottom": true,
      "bounds": null,
      "detect_retina": false,
      "loading": false,
      "max_native_zoom": 18,
      "max_zoom": 24,
      "min_native_zoom": 0,
      "min_zoom": 0,
      "name": "20220113",
      "no_wrap": false,
      "opacity": 1,
      "options": [
       "attribution",
       "bounds",
       "detect_retina",
       "max_native_zoom",
       "max_zoom",
       "min_native_zoom",
       "min_zoom",
       "no_wrap",
       "tile_size",
       "tms"
      ],
      "popup": null,
      "popup_max_height": null,
      "popup_max_width": 300,
      "popup_min_width": 50,
      "show_loading": false,
      "tile_size": 256,
      "tms": false,
      "url": "https://earthengine.googleapis.com/v1alpha/projects/earthengine-legacy/maps/f564e3bb57e276d6f2bb4ae72a212e6c-8f1faeebae50ff0e40c4c7d297f6b7b1/tiles/{z}/{x}/{y}",
      "visible": true
     }
    },
    "c71deb3be3584062ab734c8e9caa28df": {
     "model_module": "jupyter-leaflet",
     "model_module_version": "^0.15.0",
     "model_name": "LeafletTileLayerModel",
     "state": {
      "_model_module": "jupyter-leaflet",
      "_model_module_version": "^0.15.0",
      "_model_name": "LeafletTileLayerModel",
      "_view_count": null,
      "_view_module": "jupyter-leaflet",
      "_view_module_version": "^0.15.0",
      "_view_name": "LeafletTileLayerView",
      "attribution": "Google Earth Engine",
      "base": false,
      "bottom": true,
      "detect_retina": false,
      "loading": false,
      "max_native_zoom": 18,
      "max_zoom": 24,
      "min_native_zoom": 0,
      "min_zoom": 0,
      "name": "Img S2",
      "no_wrap": false,
      "opacity": 1,
      "options": [
       "attribution",
       "detect_retina",
       "max_native_zoom",
       "max_zoom",
       "min_native_zoom",
       "min_zoom",
       "no_wrap",
       "tile_size",
       "tms"
      ],
      "popup": null,
      "popup_max_height": null,
      "popup_max_width": 300,
      "popup_min_width": 50,
      "show_loading": false,
      "tile_size": 256,
      "tms": false,
      "url": "https://earthengine.googleapis.com/v1alpha/projects/earthengine-legacy/maps/93e048cd5fda3d16cceb47ffcb9a185f-3396feba7b1833fdd19a533244c47087/tiles/{z}/{x}/{y}",
      "visible": true
     }
    },
    "c8f9572ed54e4c469f6cbc96e899b7a3": {
     "model_module": "jupyter-leaflet",
     "model_module_version": "^0.15.0",
     "model_name": "LeafletMapModel",
     "state": {
      "_dom_classes": [],
      "_model_module": "jupyter-leaflet",
      "_model_module_version": "^0.15.0",
      "_model_name": "LeafletMapModel",
      "_view_count": null,
      "_view_module": "jupyter-leaflet",
      "_view_module_version": "^0.15.0",
      "_view_name": "LeafletMapView",
      "bottom": 0,
      "bounce_at_zoom_limits": true,
      "box_zoom": true,
      "center": [
       -6.600211501838919,
       -79.78018963282872
      ],
      "close_popup_on_click": true,
      "controls": [
       "IPY_MODEL_27c910dcff784f6091a2ae3aa7a2fe54",
       "IPY_MODEL_703cd0e7a34248c4b3874fa19210e385",
       "IPY_MODEL_73770932a6834a11b0be0f1d311f6092",
       "IPY_MODEL_8ba4feb6d43f4761b90cfcd2a2e1d575",
       "IPY_MODEL_604e8c08406b458d8b2170faed40a62e",
       "IPY_MODEL_f0b286e4179b4ad4aef6add821274b11",
       "IPY_MODEL_6e85f70289fb4c71acbfc653ffb29a12",
       "IPY_MODEL_d6ce3b6642704ace8d772fd67fb49788",
       "IPY_MODEL_a8a3587ac85e4a3dae494d3b4ce0e033",
       "IPY_MODEL_ddd8edf9c73144a5aced3d18199191fe"
      ],
      "crs": {
       "custom": false,
       "name": "EPSG3857"
      },
      "default_style": "IPY_MODEL_87b89f58306943648f7d02538ed69798",
      "double_click_zoom": true,
      "dragging": true,
      "dragging_style": "IPY_MODEL_740af9819c484f50b2a642fad9e72097",
      "east": 0,
      "fullscreen": false,
      "inertia": true,
      "inertia_deceleration": 3000,
      "inertia_max_speed": 1500,
      "interpolation": "bilinear",
      "keyboard": true,
      "keyboard_pan_offset": 80,
      "keyboard_zoom_offset": 1,
      "layers": [
       "IPY_MODEL_3a56769a963345509af4fe1cdd512138",
       "IPY_MODEL_0c5d9364c6fe49578bb5918080181aa1",
       "IPY_MODEL_4538ed19944049a8913a4ee91a540928",
       "IPY_MODEL_7d3e4abca82f4adcb0924747229b1dfd",
       "IPY_MODEL_6b8235d1a67d436099e719ed5995e668"
      ],
      "layout": "IPY_MODEL_2d8dc23435b043c2a2bf6d755de1821b",
      "left": 9007199254740991,
      "max_zoom": 24,
      "min_zoom": 1,
      "modisdate": "2022-04-22",
      "north": 0,
      "options": [
       "bounce_at_zoom_limits",
       "box_zoom",
       "center",
       "close_popup_on_click",
       "double_click_zoom",
       "dragging",
       "fullscreen",
       "inertia",
       "inertia_deceleration",
       "inertia_max_speed",
       "interpolation",
       "keyboard",
       "keyboard_pan_offset",
       "keyboard_zoom_offset",
       "max_zoom",
       "min_zoom",
       "prefer_canvas",
       "scroll_wheel_zoom",
       "tap",
       "tap_tolerance",
       "touch_zoom",
       "world_copy_jump",
       "zoom",
       "zoom_animation_threshold",
       "zoom_delta",
       "zoom_snap",
       "zoom_start"
      ],
      "prefer_canvas": false,
      "right": 0,
      "scroll_wheel_zoom": true,
      "south": 0,
      "style": "IPY_MODEL_eda557bc2eab4230ac0a9b0b7f904422",
      "tap": true,
      "tap_tolerance": 15,
      "top": 9007199254740991,
      "touch_zoom": true,
      "west": 0,
      "window_url": "",
      "world_copy_jump": false,
      "zoom": 16,
      "zoom_animation_threshold": 4,
      "zoom_delta": 1,
      "zoom_snap": 1,
      "zoom_start": 12
     }
    },
    "ccee0ccb69a04dbaa967416212355932": {
     "model_module": "jupyter-leaflet",
     "model_module_version": "^0.16.0",
     "model_name": "LeafletWidgetControlModel",
     "state": {
      "_model_module": "jupyter-leaflet",
      "_model_module_version": "^0.16.0",
      "_model_name": "LeafletWidgetControlModel",
      "_view_count": null,
      "_view_module": "jupyter-leaflet",
      "_view_module_version": "^0.16.0",
      "_view_name": "LeafletWidgetControlView",
      "max_height": null,
      "max_width": null,
      "min_height": null,
      "min_width": null,
      "options": [
       "position",
       "transparent_bg"
      ],
      "position": "topright",
      "transparent_bg": false,
      "widget": "IPY_MODEL_f46b4b560d474c66b2f07cdc2ec0c807"
     }
    },
    "cf4bdf2fa8a544edb087e3e4ee77a9fd": {
     "model_module": "jupyter-leaflet",
     "model_module_version": "^0.15.0",
     "model_name": "LeafletMapModel",
     "state": {
      "_dom_classes": [],
      "_dragging": false,
      "_model_module": "jupyter-leaflet",
      "_model_module_version": "^0.15.0",
      "_model_name": "LeafletMapModel",
      "_view_count": null,
      "_view_module": "jupyter-leaflet",
      "_view_module_version": "^0.15.0",
      "_view_name": "LeafletMapView",
      "bottom": 8697202.222229004,
      "bounce_at_zoom_limits": true,
      "box_zoom": true,
      "center": [
       -6.600627495184447,
       -79.7799808266123
      ],
      "close_popup_on_click": true,
      "controls": [
       "IPY_MODEL_673cf59bc7254fd097c74f8640729431",
       "IPY_MODEL_dc60a9b3553341328435fa55464c51de",
       "IPY_MODEL_3c8b1a285340436c83dabdd1580ac38e",
       "IPY_MODEL_9d30bf316c274cfd97995574772d79e5",
       "IPY_MODEL_fe17be417c474c78911c9f7e922abdaa",
       "IPY_MODEL_66b348c3dd154b31a1040426b9dc0aee",
       "IPY_MODEL_e04760c661174b66a50461eff2ad39d9",
       "IPY_MODEL_26c073dc79a8496c9a341ae16f715d14",
       "IPY_MODEL_1a0ca996f9f94c22ab088e7011e86f66"
      ],
      "crs": {
       "custom": false,
       "name": "EPSG3857"
      },
      "default_style": "IPY_MODEL_55fbb5f826094a15bfb9e263a4178074",
      "double_click_zoom": true,
      "dragging": true,
      "dragging_style": "IPY_MODEL_f20bcb6b13494e30ad6cab48c06b46af",
      "east": -79.7650462868174,
      "fullscreen": false,
      "inertia": true,
      "inertia_deceleration": 3000,
      "inertia_max_speed": 1500,
      "interpolation": "bilinear",
      "keyboard": true,
      "keyboard_pan_offset": 80,
      "keyboard_zoom_offset": 1,
      "layers": [
       "IPY_MODEL_82ebcd50a6ab4eb7bbd43b0b2b05c420",
       "IPY_MODEL_c4d9e644875949a982757d0b89577e9c",
       "IPY_MODEL_c1aa62e4f44941568f63d50b097c104d",
       "IPY_MODEL_c71deb3be3584062ab734c8e9caa28df",
       "IPY_MODEL_e41c34784c9146509fad70d66feeca40"
      ],
      "layout": "IPY_MODEL_c1b8ce65be1c4ec8998e4ea46681497a",
      "left": 4669895.414433519,
      "max_zoom": 24,
      "min_zoom": 1,
      "modisdate": "2022-04-13",
      "north": -6.59423282187991,
      "options": [
       "bounce_at_zoom_limits",
       "box_zoom",
       "center",
       "close_popup_on_click",
       "double_click_zoom",
       "dragging",
       "fullscreen",
       "inertia",
       "inertia_deceleration",
       "inertia_max_speed",
       "interpolation",
       "keyboard",
       "keyboard_pan_offset",
       "keyboard_zoom_offset",
       "max_zoom",
       "min_zoom",
       "prefer_canvas",
       "scroll_wheel_zoom",
       "tap",
       "tap_tolerance",
       "touch_zoom",
       "world_copy_jump",
       "zoom",
       "zoom_animation_threshold",
       "zoom_delta",
       "zoom_snap",
       "zoom_start"
      ],
      "prefer_canvas": false,
      "right": 4671287.414433519,
      "scroll_wheel_zoom": true,
      "south": -6.607022085904519,
      "style": "IPY_MODEL_55fbb5f826094a15bfb9e263a4178074",
      "tap": true,
      "tap_tolerance": 15,
      "top": 8696602.222229004,
      "touch_zoom": true,
      "west": -79.79491536640722,
      "window_url": "https://ex21edhepxp-496ff2e9c6d22116-0-colab.googleusercontent.com/outputframe.html?vrz=colab-20220412-060046-RC00_441141632",
      "world_copy_jump": false,
      "zoom": 16,
      "zoom_animation_threshold": 4,
      "zoom_delta": 1,
      "zoom_snap": 1,
      "zoom_start": 12
     }
    },
    "d01e52320e53449e9cfeae696217e2ed": {
     "model_module": "jupyter-leaflet",
     "model_module_version": "^0.16.0",
     "model_name": "LeafletTileLayerModel",
     "state": {
      "_model_module": "jupyter-leaflet",
      "_model_module_version": "^0.16.0",
      "_model_name": "LeafletTileLayerModel",
      "_view_count": null,
      "_view_module": "jupyter-leaflet",
      "_view_module_version": "^0.16.0",
      "_view_name": "LeafletTileLayerView",
      "attribution": "Google Earth Engine",
      "base": false,
      "bottom": true,
      "bounds": null,
      "detect_retina": false,
      "loading": false,
      "max_native_zoom": 18,
      "max_zoom": 24,
      "min_native_zoom": 0,
      "min_zoom": 0,
      "name": "img_toa",
      "no_wrap": false,
      "opacity": 1,
      "options": [
       "attribution",
       "bounds",
       "detect_retina",
       "max_native_zoom",
       "max_zoom",
       "min_native_zoom",
       "min_zoom",
       "no_wrap",
       "tile_size",
       "tms"
      ],
      "popup": null,
      "popup_max_height": null,
      "popup_max_width": 300,
      "popup_min_width": 50,
      "show_loading": false,
      "tile_size": 256,
      "tms": false,
      "url": "https://earthengine.googleapis.com/v1alpha/projects/earthengine-legacy/maps/eb468a35b6c67bf75a1e9e6bfeeb55be-496ed6d691dccab4d72f8bd47e94032c/tiles/{z}/{x}/{y}",
      "visible": true
     }
    },
    "d44fe0cf832843c0851f44b50d497427": {
     "model_module": "jupyter-leaflet",
     "model_module_version": "^0.16.0",
     "model_name": "LeafletAttributionControlModel",
     "state": {
      "_model_module": "jupyter-leaflet",
      "_model_module_version": "^0.16.0",
      "_model_name": "LeafletAttributionControlModel",
      "_view_count": null,
      "_view_module": "jupyter-leaflet",
      "_view_module_version": "^0.16.0",
      "_view_name": "LeafletAttributionControlView",
      "options": [
       "position",
       "prefix"
      ],
      "position": "bottomright",
      "prefix": "ipyleaflet"
     }
    },
    "d62846c0569f49c58dc390ede5a3950a": {
     "model_module": "jupyter-leaflet",
     "model_module_version": "^0.16.0",
     "model_name": "LeafletTileLayerModel",
     "state": {
      "_model_module": "jupyter-leaflet",
      "_model_module_version": "^0.16.0",
      "_model_name": "LeafletTileLayerModel",
      "_view_count": null,
      "_view_module": "jupyter-leaflet",
      "_view_module_version": "^0.16.0",
      "_view_name": "LeafletTileLayerView",
      "attribution": "Google Earth Engine",
      "base": false,
      "bottom": true,
      "bounds": null,
      "detect_retina": false,
      "loading": false,
      "max_native_zoom": 18,
      "max_zoom": 24,
      "min_native_zoom": 0,
      "min_zoom": 0,
      "name": "20211228",
      "no_wrap": false,
      "opacity": 1,
      "options": [
       "attribution",
       "bounds",
       "detect_retina",
       "max_native_zoom",
       "max_zoom",
       "min_native_zoom",
       "min_zoom",
       "no_wrap",
       "tile_size",
       "tms"
      ],
      "popup": null,
      "popup_max_height": null,
      "popup_max_width": 300,
      "popup_min_width": 50,
      "show_loading": false,
      "tile_size": 256,
      "tms": false,
      "url": "https://earthengine.googleapis.com/v1alpha/projects/earthengine-legacy/maps/736483d9765634ac7cc902ca884d7024-4589f9fc4a3081b09a9e13a52b3aea93/tiles/{z}/{x}/{y}",
      "visible": true
     }
    },
    "da17edf9e2a542c7b31d9c046cd32ef6": {
     "model_module": "@jupyter-widgets/controls",
     "model_module_version": "1.5.0",
     "model_name": "DescriptionStyleModel",
     "state": {
      "_model_module": "@jupyter-widgets/controls",
      "_model_module_version": "1.5.0",
      "_model_name": "DescriptionStyleModel",
      "_view_count": null,
      "_view_module": "@jupyter-widgets/base",
      "_view_module_version": "1.2.0",
      "_view_name": "StyleView",
      "description_width": ""
     }
    },
    "db54401f099a42e989b95227f5dd34b9": {
     "model_module": "@jupyter-widgets/base",
     "model_module_version": "1.2.0",
     "model_name": "LayoutModel",
     "state": {
      "_model_module": "@jupyter-widgets/base",
      "_model_module_version": "1.2.0",
      "_model_name": "LayoutModel",
      "_view_count": null,
      "_view_module": "@jupyter-widgets/base",
      "_view_module_version": "1.2.0",
      "_view_name": "LayoutView",
      "align_content": null,
      "align_items": null,
      "align_self": null,
      "border": null,
      "bottom": null,
      "display": null,
      "flex": null,
      "flex_flow": null,
      "grid_area": null,
      "grid_auto_columns": null,
      "grid_auto_flow": null,
      "grid_auto_rows": null,
      "grid_column": null,
      "grid_gap": null,
      "grid_row": null,
      "grid_template_areas": null,
      "grid_template_columns": null,
      "grid_template_rows": null,
      "height": "28px",
      "justify_content": null,
      "justify_items": null,
      "left": null,
      "margin": null,
      "max_height": null,
      "max_width": null,
      "min_height": null,
      "min_width": null,
      "object_fit": null,
      "object_position": null,
      "order": null,
      "overflow": null,
      "overflow_x": null,
      "overflow_y": null,
      "padding": "0px 0px 0px 4px",
      "right": null,
      "top": null,
      "visibility": null,
      "width": "28px"
     }
    },
    "dc60a9b3553341328435fa55464c51de": {
     "model_module": "jupyter-leaflet",
     "model_module_version": "^0.15.0",
     "model_name": "LeafletZoomControlModel",
     "state": {
      "_model_module": "jupyter-leaflet",
      "_model_module_version": "^0.15.0",
      "_model_name": "LeafletZoomControlModel",
      "_view_count": null,
      "_view_module": "jupyter-leaflet",
      "_view_module_version": "^0.15.0",
      "_view_name": "LeafletZoomControlView",
      "options": [
       "position",
       "zoom_in_text",
       "zoom_in_title",
       "zoom_out_text",
       "zoom_out_title"
      ],
      "position": "topleft",
      "zoom_in_text": "+",
      "zoom_in_title": "Zoom in",
      "zoom_out_text": "-",
      "zoom_out_title": "Zoom out"
     }
    },
    "e04760c661174b66a50461eff2ad39d9": {
     "model_module": "jupyter-leaflet",
     "model_module_version": "^0.15.0",
     "model_name": "LeafletDrawControlModel",
     "state": {
      "_model_module": "jupyter-leaflet",
      "_model_module_version": "^0.15.0",
      "_model_name": "LeafletDrawControlModel",
      "_view_count": null,
      "_view_module": "jupyter-leaflet",
      "_view_module_version": "^0.15.0",
      "_view_name": "LeafletDrawControlView",
      "circle": {
       "shapeOptions": {
        "color": "#3388ff"
       }
      },
      "circlemarker": {},
      "data": [],
      "edit": true,
      "marker": {
       "shapeOptions": {
        "color": "#3388ff"
       }
      },
      "options": [
       "position"
      ],
      "polygon": {
       "shapeOptions": {}
      },
      "polyline": {
       "shapeOptions": {}
      },
      "position": "topleft",
      "rectangle": {
       "shapeOptions": {
        "color": "#3388ff"
       }
      },
      "remove": true
     }
    },
    "e109b21ebd6549099aef9b874e875425": {
     "model_module": "@jupyter-widgets/base",
     "model_module_version": "1.2.0",
     "model_name": "LayoutModel",
     "state": {
      "_model_module": "@jupyter-widgets/base",
      "_model_module_version": "1.2.0",
      "_model_name": "LayoutModel",
      "_view_count": null,
      "_view_module": "@jupyter-widgets/base",
      "_view_module_version": "1.2.0",
      "_view_name": "LayoutView",
      "align_content": null,
      "align_items": null,
      "align_self": null,
      "border": null,
      "bottom": null,
      "display": null,
      "flex": null,
      "flex_flow": null,
      "grid_area": null,
      "grid_auto_columns": null,
      "grid_auto_flow": null,
      "grid_auto_rows": null,
      "grid_column": null,
      "grid_gap": null,
      "grid_row": null,
      "grid_template_areas": null,
      "grid_template_columns": null,
      "grid_template_rows": null,
      "height": "28px",
      "justify_content": null,
      "justify_items": null,
      "left": null,
      "margin": null,
      "max_height": null,
      "max_width": null,
      "min_height": null,
      "min_width": null,
      "object_fit": null,
      "object_position": null,
      "order": null,
      "overflow": null,
      "overflow_x": null,
      "overflow_y": null,
      "padding": "0px 0px 0px 4px",
      "right": null,
      "top": null,
      "visibility": null,
      "width": "28px"
     }
    },
    "e145b14ba1e44c1b93edfa72a228e1a5": {
     "model_module": "jupyter-leaflet",
     "model_module_version": "^0.16.0",
     "model_name": "LeafletScaleControlModel",
     "state": {
      "_model_module": "jupyter-leaflet",
      "_model_module_version": "^0.16.0",
      "_model_name": "LeafletScaleControlModel",
      "_view_count": null,
      "_view_module": "jupyter-leaflet",
      "_view_module_version": "^0.16.0",
      "_view_name": "LeafletScaleControlView",
      "imperial": true,
      "max_width": 100,
      "metric": true,
      "options": [
       "imperial",
       "max_width",
       "metric",
       "position",
       "update_when_idle"
      ],
      "position": "bottomleft",
      "update_when_idle": false
     }
    },
    "e3ae36c76ad34384940abf8081a39fbe": {
     "model_module": "jupyter-leaflet",
     "model_module_version": "^0.16.0",
     "model_name": "LeafletFullScreenControlModel",
     "state": {
      "_model_module": "jupyter-leaflet",
      "_model_module_version": "^0.16.0",
      "_model_name": "LeafletFullScreenControlModel",
      "_view_count": null,
      "_view_module": "jupyter-leaflet",
      "_view_module_version": "^0.16.0",
      "_view_name": "LeafletFullScreenControlView",
      "options": [
       "position"
      ],
      "position": "topleft"
     }
    },
    "e41c34784c9146509fad70d66feeca40": {
     "model_module": "jupyter-leaflet",
     "model_module_version": "^0.15.0",
     "model_name": "LeafletTileLayerModel",
     "state": {
      "_model_module": "jupyter-leaflet",
      "_model_module_version": "^0.15.0",
      "_model_name": "LeafletTileLayerModel",
      "_view_count": null,
      "_view_module": "jupyter-leaflet",
      "_view_module_version": "^0.15.0",
      "_view_name": "LeafletTileLayerView",
      "attribution": "Google Earth Engine",
      "base": false,
      "bottom": true,
      "detect_retina": false,
      "loading": false,
      "max_native_zoom": 18,
      "max_zoom": 24,
      "min_native_zoom": 0,
      "min_zoom": 0,
      "name": "Ts °C",
      "no_wrap": false,
      "opacity": 1,
      "options": [
       "attribution",
       "detect_retina",
       "max_native_zoom",
       "max_zoom",
       "min_native_zoom",
       "min_zoom",
       "no_wrap",
       "tile_size",
       "tms"
      ],
      "popup": null,
      "popup_max_height": null,
      "popup_max_width": 300,
      "popup_min_width": 50,
      "show_loading": false,
      "tile_size": 256,
      "tms": false,
      "url": "https://earthengine.googleapis.com/v1alpha/projects/earthengine-legacy/maps/f5accf775d4894a098811d4abdcdb28a-3cab3696f91ceec750ff2f93b77d93f0/tiles/{z}/{x}/{y}",
      "visible": true
     }
    },
    "e5374e9b2b2940edac6fcbdec8110ee6": {
     "model_module": "jupyter-leaflet",
     "model_module_version": "^0.16.0",
     "model_name": "LeafletTileLayerModel",
     "state": {
      "_model_module": "jupyter-leaflet",
      "_model_module_version": "^0.16.0",
      "_model_name": "LeafletTileLayerModel",
      "_view_count": null,
      "_view_module": "jupyter-leaflet",
      "_view_module_version": "^0.16.0",
      "_view_name": "LeafletTileLayerView",
      "attribution": "Google Earth Engine",
      "base": false,
      "bottom": true,
      "bounds": null,
      "detect_retina": false,
      "loading": false,
      "max_native_zoom": 18,
      "max_zoom": 24,
      "min_native_zoom": 0,
      "min_zoom": 0,
      "name": "20211204",
      "no_wrap": false,
      "opacity": 1,
      "options": [
       "attribution",
       "bounds",
       "detect_retina",
       "max_native_zoom",
       "max_zoom",
       "min_native_zoom",
       "min_zoom",
       "no_wrap",
       "tile_size",
       "tms"
      ],
      "popup": null,
      "popup_max_height": null,
      "popup_max_width": 300,
      "popup_min_width": 50,
      "show_loading": false,
      "tile_size": 256,
      "tms": false,
      "url": "https://earthengine.googleapis.com/v1alpha/projects/earthengine-legacy/maps/a8ff773a337ba2d0df4bcf2bfcbac0ca-7ff355d3217a0a6a99f3a03b25a4db86/tiles/{z}/{x}/{y}",
      "visible": true
     }
    },
    "e8c16644446e48ecade63d1a09f07ea1": {
     "model_module": "jupyter-leaflet",
     "model_module_version": "^0.16.0",
     "model_name": "LeafletTileLayerModel",
     "state": {
      "_model_module": "jupyter-leaflet",
      "_model_module_version": "^0.16.0",
      "_model_name": "LeafletTileLayerModel",
      "_view_count": null,
      "_view_module": "jupyter-leaflet",
      "_view_module_version": "^0.16.0",
      "_view_name": "LeafletTileLayerView",
      "attribution": "Google Earth Engine",
      "base": false,
      "bottom": true,
      "bounds": null,
      "detect_retina": false,
      "loading": false,
      "max_native_zoom": 18,
      "max_zoom": 24,
      "min_native_zoom": 0,
      "min_zoom": 0,
      "name": "Area de estudio",
      "no_wrap": false,
      "opacity": 1,
      "options": [
       "attribution",
       "bounds",
       "detect_retina",
       "max_native_zoom",
       "max_zoom",
       "min_native_zoom",
       "min_zoom",
       "no_wrap",
       "tile_size",
       "tms"
      ],
      "popup": null,
      "popup_max_height": null,
      "popup_max_width": 300,
      "popup_min_width": 50,
      "show_loading": false,
      "tile_size": 256,
      "tms": false,
      "url": "https://earthengine.googleapis.com/v1alpha/projects/earthengine-legacy/maps/55e8170c039d66c46a23633d7527ed8e-4b8361db6fcf5b19717bfa86039a4911/tiles/{z}/{x}/{y}",
      "visible": true
     }
    },
    "eec700aefe14417292f15c3eae20140d": {
     "model_module": "jupyter-leaflet",
     "model_module_version": "^0.16.0",
     "model_name": "LeafletTileLayerModel",
     "state": {
      "_model_module": "jupyter-leaflet",
      "_model_module_version": "^0.16.0",
      "_model_name": "LeafletTileLayerModel",
      "_view_count": null,
      "_view_module": "jupyter-leaflet",
      "_view_module_version": "^0.16.0",
      "_view_name": "LeafletTileLayerView",
      "attribution": "Google Earth Engine",
      "base": false,
      "bottom": true,
      "bounds": null,
      "detect_retina": false,
      "loading": false,
      "max_native_zoom": 18,
      "max_zoom": 24,
      "min_native_zoom": 0,
      "min_zoom": 0,
      "name": "Limite Bound",
      "no_wrap": false,
      "opacity": 1,
      "options": [
       "attribution",
       "bounds",
       "detect_retina",
       "max_native_zoom",
       "max_zoom",
       "min_native_zoom",
       "min_zoom",
       "no_wrap",
       "tile_size",
       "tms"
      ],
      "popup": null,
      "popup_max_height": null,
      "popup_max_width": 300,
      "popup_min_width": 50,
      "show_loading": false,
      "tile_size": 256,
      "tms": false,
      "url": "https://earthengine.googleapis.com/v1alpha/projects/earthengine-legacy/maps/f37a10cda3b95b35b548e691059e2055-7d6b007499b1a30f52ccb35fb6bfdf03/tiles/{z}/{x}/{y}",
      "visible": true
     }
    },
    "effc10ef76a94242b46256c60d19fa67": {
     "model_module": "jupyter-leaflet",
     "model_module_version": "^0.16.0",
     "model_name": "LeafletTileLayerModel",
     "state": {
      "_model_module": "jupyter-leaflet",
      "_model_module_version": "^0.16.0",
      "_model_name": "LeafletTileLayerModel",
      "_view_count": null,
      "_view_module": "jupyter-leaflet",
      "_view_module_version": "^0.16.0",
      "_view_name": "LeafletTileLayerView",
      "attribution": "&copy; <a href=\"https://www.openstreetmap.org/copyright\">OpenStreetMap</a> contributors",
      "base": true,
      "bottom": true,
      "bounds": null,
      "detect_retina": false,
      "loading": false,
      "max_native_zoom": 18,
      "max_zoom": 19,
      "min_native_zoom": 0,
      "min_zoom": 1,
      "name": "OpenStreetMap.Mapnik",
      "no_wrap": false,
      "opacity": 1,
      "options": [
       "attribution",
       "bounds",
       "detect_retina",
       "max_native_zoom",
       "max_zoom",
       "min_native_zoom",
       "min_zoom",
       "no_wrap",
       "tile_size",
       "tms"
      ],
      "popup": null,
      "popup_max_height": null,
      "popup_max_width": 300,
      "popup_min_width": 50,
      "show_loading": false,
      "tile_size": 256,
      "tms": false,
      "url": "https://a.tile.openstreetmap.org/{z}/{x}/{y}.png",
      "visible": true
     }
    },
    "f0a5d86801eb49ca8e9a3ccebabde69f": {
     "model_module": "@jupyter-widgets/base",
     "model_module_version": "1.2.0",
     "model_name": "LayoutModel",
     "state": {
      "_model_module": "@jupyter-widgets/base",
      "_model_module_version": "1.2.0",
      "_model_name": "LayoutModel",
      "_view_count": null,
      "_view_module": "@jupyter-widgets/base",
      "_view_module_version": "1.2.0",
      "_view_name": "LayoutView",
      "align_content": null,
      "align_items": null,
      "align_self": null,
      "border": null,
      "bottom": null,
      "display": null,
      "flex": null,
      "flex_flow": null,
      "grid_area": null,
      "grid_auto_columns": null,
      "grid_auto_flow": null,
      "grid_auto_rows": null,
      "grid_column": null,
      "grid_gap": null,
      "grid_row": null,
      "grid_template_areas": null,
      "grid_template_columns": null,
      "grid_template_rows": null,
      "height": "28px",
      "justify_content": null,
      "justify_items": null,
      "left": null,
      "margin": null,
      "max_height": null,
      "max_width": null,
      "min_height": null,
      "min_width": null,
      "object_fit": null,
      "object_position": null,
      "order": null,
      "overflow": null,
      "overflow_x": null,
      "overflow_y": null,
      "padding": "0px 0px 0px 4px",
      "right": null,
      "top": null,
      "visibility": null,
      "width": "28px"
     }
    },
    "f1bc5886e07246718b2f8438ea6f5803": {
     "model_module": "@jupyter-widgets/controls",
     "model_module_version": "1.5.0",
     "model_name": "DescriptionStyleModel",
     "state": {
      "_model_module": "@jupyter-widgets/controls",
      "_model_module_version": "1.5.0",
      "_model_name": "DescriptionStyleModel",
      "_view_count": null,
      "_view_module": "@jupyter-widgets/base",
      "_view_module_version": "1.2.0",
      "_view_name": "StyleView",
      "description_width": ""
     }
    },
    "f20bcb6b13494e30ad6cab48c06b46af": {
     "model_module": "jupyter-leaflet",
     "model_module_version": "^0.15.0",
     "model_name": "LeafletMapStyleModel",
     "state": {
      "_model_module": "jupyter-leaflet",
      "_model_module_version": "^0.15.0",
      "_model_name": "LeafletMapStyleModel",
      "_view_count": null,
      "_view_module": "@jupyter-widgets/base",
      "_view_module_version": "1.2.0",
      "_view_name": "StyleView",
      "cursor": "move"
     }
    },
    "f46b4b560d474c66b2f07cdc2ec0c807": {
     "model_module": "@jupyter-widgets/controls",
     "model_module_version": "1.5.0",
     "model_name": "VBoxModel",
     "state": {
      "_dom_classes": [],
      "_model_module": "@jupyter-widgets/controls",
      "_model_module_version": "1.5.0",
      "_model_name": "VBoxModel",
      "_view_count": null,
      "_view_module": "@jupyter-widgets/controls",
      "_view_module_version": "1.5.0",
      "_view_name": "VBoxView",
      "box_style": "",
      "children": [
       "IPY_MODEL_1fa66695a70c4adab00fa25e9abeaec9"
      ],
      "layout": "IPY_MODEL_1eb1afd145d447ccb99f5a547ba6b504"
     }
    },
    "fc1a92359bf14282ac356b62205a5be6": {
     "model_module": "jupyter-leaflet",
     "model_module_version": "^0.16.0",
     "model_name": "LeafletMapStyleModel",
     "state": {
      "_model_module": "jupyter-leaflet",
      "_model_module_version": "^0.16.0",
      "_model_name": "LeafletMapStyleModel",
      "_view_count": null,
      "_view_module": "@jupyter-widgets/base",
      "_view_module_version": "1.2.0",
      "_view_name": "StyleView",
      "cursor": "grab"
     }
    },
    "fe17be417c474c78911c9f7e922abdaa": {
     "model_module": "jupyter-leaflet",
     "model_module_version": "^0.15.0",
     "model_name": "LeafletMeasureControlModel",
     "state": {
      "_custom_units": {},
      "_model_module": "jupyter-leaflet",
      "_model_module_version": "^0.15.0",
      "_model_name": "LeafletMeasureControlModel",
      "_view_count": null,
      "_view_module": "jupyter-leaflet",
      "_view_module_version": "^0.15.0",
      "_view_name": "LeafletMeasureControlView",
      "active_color": "orange",
      "capture_z_index": 10000,
      "completed_color": "#C8F2BE",
      "options": [
       "active_color",
       "capture_z_index",
       "completed_color",
       "popup_options",
       "position",
       "primary_area_unit",
       "primary_length_unit",
       "secondary_area_unit",
       "secondary_length_unit"
      ],
      "popup_options": {
       "autoPanPadding": [
        10,
        10
       ],
       "className": "leaflet-measure-resultpopup"
      },
      "position": "bottomleft",
      "primary_area_unit": "acres",
      "primary_length_unit": "kilometers",
      "secondary_area_unit": null,
      "secondary_length_unit": null
     }
    }
   }
  }
 },
 "nbformat": 4,
 "nbformat_minor": 1
}

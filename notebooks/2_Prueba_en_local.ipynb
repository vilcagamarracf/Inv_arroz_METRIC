{
 "cells": [
  {
   "cell_type": "markdown",
   "metadata": {
    "id": "W_Ok2STPL9m1"
   },
   "source": [
    "<p> Segunda Libreta sobre el trabajo de investigación: </p>\n",
    "\n",
    "<center>\n",
    "\n",
    "<p> \n",
    "<b>\n",
    "\"Estimación de la evapotranspiración espacio-temporal en arrozales usando imágenes satelitales, Departamento de Lambayeque\" \n",
    "</b>\n",
    "</p>\n",
    "\n",
    "</center>\n",
    "\n",
    "Autor: Cesar Francisco Vilca Gamarra\n",
    "\n",
    "Marzo, 2022"
   ]
  },
  {
   "cell_type": "markdown",
   "metadata": {
    "id": "bhWO77DAG-_T"
   },
   "source": [
    "# 2. Balance de Energía Superficial - Modelo METRIC"
   ]
  },
  {
   "cell_type": "markdown",
   "metadata": {
    "id": "yGEm2NBONUMg"
   },
   "source": [
    "**Satellite-Based Energy Balance for Mapping Evapotranspiration With Internalized Calibration (METRIC)**\n",
    "\n",
    "- METRIC is an image-processing model for calculating ET as a residual of the surface energy balance. \n",
    "- METRIC was developed by the University of Idaho for application to Landsat satellite imagery to maximize ET product resolution (30 m).\n",
    "- METRIC uses as its foundation the pioneering SEBAL energy balance process developed in the Netherlands by Bastiaanssen et al.\n",
    "\n",
    "Aplicación de referencia:\n",
    "- [geeSEBAL en GitHub](https://github.com/et-brasil/geeSEBAL/blob/a8242225bcb184329372ee0dbdc411d1e9d5c766/JavaScrpit/tools.js)"
   ]
  },
  {
   "cell_type": "markdown",
   "metadata": {
    "id": "ghw91D31HckJ"
   },
   "source": [
    "## Inicio"
   ]
  },
  {
   "cell_type": "markdown",
   "metadata": {
    "id": "yJYzzuyBRJaz"
   },
   "source": [
    "Ejecutar todas las celdas ubicadas en esta sección para su uso posterior:\n",
    "- Ingreso de creedenciales para usar Earth Engine en Colab (importa `ee` y luego `ee.Authenticate()`)\n",
    "- Importar librerías como `geemap`, `pandas`, `matplotlib` entre otras.\n",
    "- Ejecutar funciones realizadas para agilizar procesos repetitivos en ciertas ocasiones."
   ]
  },
  {
   "cell_type": "markdown",
   "metadata": {
    "id": "sh_bgyB5KF0E"
   },
   "source": [
    "#### Ingreso de creedenciales para uso de Earth Engine"
   ]
  },
  {
   "cell_type": "markdown",
   "metadata": {
    "id": "nbeKcJ65-2YS"
   },
   "source": [
    "[geemap](https://geemap.org/) es un paquete de Python para obtener visualizaciones interactivas con Google Earth Engine (GEE)."
   ]
  },
  {
   "cell_type": "code",
   "execution_count": null,
   "metadata": {
    "colab": {
     "base_uri": "https://localhost:8080/"
    },
    "id": "_b4NxMaWvNKw",
    "outputId": "2df24f0f-38a2-492c-9bff-bb771342a45c"
   },
   "outputs": [],
   "source": [
    "import os\n",
    "os.getcwd() # %pwd"
   ]
  },
  {
   "cell_type": "code",
   "execution_count": 1,
   "metadata": {
    "colab": {
     "base_uri": "https://localhost:8080/",
     "height": 35
    },
    "id": "11vY3CVRKjix",
    "outputId": "5d6dc0f9-c747-4b06-ced0-5e7d404d63f9",
    "scrolled": true
   },
   "outputs": [
    {
     "name": "stdout",
     "output_type": "stream",
     "text": [
      "Populating the interactive namespace from numpy and matplotlib\n"
     ]
    }
   ],
   "source": [
    "import ee\n",
    "ee.Initialize()\n",
    "\n",
    "import importlib # Para volver a importar el archivo funciones.py posterior a cada cambio\n",
    "import numpy as np\n",
    "import math\n",
    "import pandas as pd\n",
    "\n",
    "from pprint import pprint\n",
    "\n",
    "import matplotlib.pyplot as plt\n",
    "# import matplotlib.dates as mpl_dates # Modificar fechas por formato\n",
    "# date_format = mpl_dates.DateFormatter('%Y-%m')\n",
    "\n",
    "# Prueba: Cambiando estilo de fuente, default es 'sans-serif'\n",
    "plt.rcParams['font.family'] = 'serif' \n",
    "# plt.rcParams['font.family'] = 'sans-serif'\n",
    "\n",
    "import geemap\n",
    "import geemap.colormaps as cmp # Paletas para visualización de imágenes (cm se confunde con matplotlib)\n",
    "\n",
    "# Importar \n",
    "%pylab inline \n",
    "from geemap import cartoee\n",
    "\n",
    "from funciones import *\n",
    "from vis_tools import *"
   ]
  },
  {
   "cell_type": "code",
   "execution_count": null,
   "metadata": {
    "id": "5tku8KkuNUJH",
    "outputId": "e85cc9aa-5f8c-448f-ed36-28e8b4af167b"
   },
   "outputs": [],
   "source": [
    "# Por cada cambio se necesita usar importlib.reload\n",
    "import importlib # Para volver a importar el archivo funciones.py posterior a cada cambio\n",
    "import sys\n",
    "importlib.reload(sys.modules['funciones'])"
   ]
  },
  {
   "cell_type": "markdown",
   "metadata": {
    "heading_collapsed": true,
    "id": "JrnLPUR_Mhfo",
    "tags": []
   },
   "source": [
    "#### Funciones"
   ]
  },
  {
   "cell_type": "markdown",
   "metadata": {
    "hidden": true,
    "id": "2d-RIVQ-6KQU"
   },
   "source": [
    "Es necesario desarrollar funciones para ciertos componentes reutilizables:\n",
    "- Modelo digital de elevación DEM\n",
    "- Mapa de pendientes (grados)\n",
    "- Mapa del Coseno del ángulo solar de incidencia Cosθ\n",
    "- Mapa de transmitancias τ\n",
    "- Mapa de albedo α\n",
    "- Mapa de NDVI\n",
    "- Mapa de LAI\n",
    "- Mapa de Temperatura superficial en Kelvin\n",
    "- Mapa de emisividad ε\n",
    "- Mapa de Temperatura superficial corregido a partir de mapa de elevación `ts_dem`\n",
    "\n",
    "Para poder estimar:\n",
    "- R_n\n",
    "- G\n",
    "- H\n",
    "\n",
    "Puede revisar las funciones en el repositorio de GitHub:\n",
    "- https://github.com/vilcagamarracf/Inv_arroz_METRIC/tree/main/files/scripts"
   ]
  },
  {
   "cell_type": "code",
   "execution_count": 2,
   "metadata": {
    "hidden": true,
    "id": "oC-qMyI2SDVO"
   },
   "outputs": [],
   "source": [
    "# Función para realizar gráficas de cartoee con barra de color\n",
    "def get_grafica_cartoee_color(image, vis_params, title_map, label, save_fig=None):\n",
    "    \n",
    "    zoom_region = [-79.771781, -6.607186, -79.787761, -6.593991]\n",
    "\n",
    "    fig = plt.figure(figsize=(8,6))\n",
    "\n",
    "    # ee.Image a plotear\n",
    "    ax = cartoee.get_map(image, region=zoom_region, vis_params=vis_params)\n",
    "\n",
    "    # Añadir barra de color\n",
    "    # https://matplotlib.org/stable/api/colorbar_api.html#module-matplotlib.colorbar   \n",
    "    cb = cartoee.add_colorbar(\n",
    "        ax, \n",
    "        vis_params=vis_params, \n",
    "        loc='right', \n",
    "        label=label, \n",
    "        posOpts=[0.86, 0.25, 0.02, 0.5]\n",
    "    )# drawedges=True, extend='both')\n",
    "\n",
    "    # Añadir grillas\n",
    "    cartoee.add_gridlines(\n",
    "        ax, \n",
    "        interval=0.005, \n",
    "        ytick_rotation=90, \n",
    "        linestyle=\":\", \n",
    "        linewidth=0\n",
    "    ) # xtick_rotation=45\n",
    "\n",
    "    # Añadir texto\n",
    "    ax.text(-79.7768, -6.5962, title_map, fontsize=14)\n",
    "\n",
    "    # add scale bar\n",
    "    scale_bar_dict = {\n",
    "          \"length\": 100, \n",
    "          \"xy\": (0.9, 0.05), \n",
    "          \"linewidth\": 2,\n",
    "          \"fontsize\": 12,\n",
    "          \"color\": \"black\",\n",
    "          \"unit\": \"m\",\n",
    "          \"ha\": \"center\",\n",
    "          \"va\": \"bottom\",    \n",
    "    }\n",
    "    cartoee.add_scale_bar_lite(ax, **scale_bar_dict)\n",
    "    \n",
    "    ax.tick_params(axis = 'both', labelsize = 11)\n",
    "    \n",
    "    # Guardar graficas\n",
    "    if save_fig != None:\n",
    "        # plt.savefig(f'/Users/usuario/Downloads/{title_map}_{img_date}.jpg')\n",
    "        # plt.savefig(f'/content/{title_map}_{img_date}.jpg')\n",
    "        ruta = r'C:/Users/usuario/Documents/00-notebooks-2022/images/cartoee/'\n",
    "        ruta_img = ruta + save_fig + '.jpg'\n",
    "        plt.savefig(ruta_img)#, dpi=300)\n",
    "\n",
    "    plt.show()"
   ]
  },
  {
   "cell_type": "markdown",
   "metadata": {
    "heading_collapsed": true,
    "id": "aMDe9UpFefjo"
   },
   "source": [
    "## Assets "
   ]
  },
  {
   "cell_type": "code",
   "execution_count": 3,
   "metadata": {
    "hidden": true,
    "id": "iR-qZ6u1bzn8"
   },
   "outputs": [],
   "source": [
    "# Diccionario de visualización de imágenes Landsat 8 y 9 TOA\n",
    "vis_rgb = {'min': 0.0, 'max': 0.3, 'bands': ['B4', 'B3', 'B2']} "
   ]
  },
  {
   "cell_type": "code",
   "execution_count": 4,
   "metadata": {
    "cellView": "form",
    "hidden": true,
    "id": "joF53xHzavNT"
   },
   "outputs": [],
   "source": [
    "# Assets\n",
    "asset_dept = ee.FeatureCollection('users/CesarVilca/departamentos')\n",
    "asset_prov = ee.FeatureCollection('users/CesarVilca/provincias')\n",
    "asset_dist = ee.FeatureCollection('users/CesarVilca/distritos')\n",
    "\n",
    "# Filtrado\n",
    "deptSelectedName = 'LAMBAYEQUE'\n",
    "provSelectedName = 'FERREÑAFE' # 'FERREÑAFE' 'CHICLAYO'\n",
    "distSelectedName = 'FERREÑAFE' # 'FERREÑAFE' 'CHONGOYAPE'\n",
    "\n",
    "dept_fcol = asset_dept.filterMetadata('DEPARTAMEN', 'equals', deptSelectedName)\n",
    "prov_fcol = asset_prov.filterMetadata('PROVINCIA', 'equals', provSelectedName)\n",
    "dist_fcol = asset_dist.filterMetadata('DISTRITO', 'equals', distSelectedName)\n",
    "\n",
    "# ROI Caja\n",
    "roi = dist_fcol.geometry().bounds()\n",
    "\n",
    "empty = ee.Image().paint(dist_fcol, 2,2)\n",
    "empty2 = ee.Image().paint(roi, 2, 2)"
   ]
  },
  {
   "cell_type": "code",
   "execution_count": 5,
   "metadata": {
    "hidden": true,
    "id": "v9a9qxdIvNK3",
    "tags": []
   },
   "outputs": [
    {
     "data": {
      "application/vnd.jupyter.widget-view+json": {
       "model_id": "dfa89475814d4ee4a57ffa68ac3f0f74",
       "version_major": 2,
       "version_minor": 0
      },
      "text/plain": [
       "Map(center=[-6.6205221157277006, -79.79111975903714], controls=(WidgetControl(options=['position', 'transparen…"
      ]
     },
     "metadata": {},
     "output_type": "display_data"
    }
   ],
   "source": [
    "# Visualización\n",
    "Map = geemap.Map(layer_ctrl = True) \n",
    "Map.centerObject(dist_fcol, 9)\n",
    "\n",
    "Map.addLayer(dept_fcol, {'color':'red'}, f'Departamento {deptSelectedName}')\n",
    "Map.addLayer(prov_fcol, {'color':'green'}, f'Provincia {provSelectedName} ')\n",
    "Map.addLayer(dist_fcol, {'color':'blue'}, f'Distrito {distSelectedName}')\n",
    "\n",
    "# Bordes\n",
    "Map.addLayer(empty , {}, 'Distrito Seleccionado')\n",
    "Map.addLayer(empty2, {}, 'Limites')\n",
    "\n",
    "Map"
   ]
  },
  {
   "cell_type": "code",
   "execution_count": 6,
   "metadata": {
    "colab": {
     "base_uri": "https://localhost:8080/"
    },
    "hidden": true,
    "id": "8gKpf8OFcTlm",
    "outputId": "a32f31f1-1c5b-43e5-b35f-c7c00c6a9aa0",
    "scrolled": false
   },
   "outputs": [
    {
     "data": {
      "text/plain": [
       "ee.featurecollection.FeatureCollection"
      ]
     },
     "execution_count": 6,
     "metadata": {},
     "output_type": "execute_result"
    }
   ],
   "source": [
    "# Área de evaluación: Ferreñafe - Áreas voladas\n",
    "ruta_ferrenafe = r'files/Ferreñafe_areas_2.shp' # en Local\n",
    "\n",
    "# Lectura como FeatureCollection con geemap\n",
    "predios_agricolas = geemap.shp_to_ee(ruta_ferrenafe)\n",
    "predios_vis = ee.Image().paint(predios_agricolas, 1, 1) # Para visualización con geemap\n",
    "\n",
    "predios_bound = predios_agricolas.geometry().bounds()\n",
    "predios_bound_vis = ee.Image().paint(predios_bound, 1, 1) # Para visualización con geemap\n",
    "\n",
    "type(predios_agricolas)"
   ]
  },
  {
   "cell_type": "markdown",
   "metadata": {
    "id": "MB2Go4w3JURJ"
   },
   "source": [
    "## Balance de Energía Superficial"
   ]
  },
  {
   "cell_type": "markdown",
   "metadata": {
    "id": "2J0DCXqySC40"
   },
   "source": [
    "En esta sección se desarrollará los 3 componentes de la ecuación de balance de energía superficial:\n",
    "- Radiación Neta $R_n$\n",
    "- Flujo de calor del suelo $G$\n",
    "- Flujo de calor sensible del aire $H$\n",
    "\n",
    "Tendremos como valores input imágenes satelitales Landsat 8 y 9, así como datos meteorológicos.\n"
   ]
  },
  {
   "cell_type": "markdown",
   "metadata": {
    "id": "ovNHmH7UXZvr"
   },
   "source": [
    "\n",
    "Reporte con imágenes Landsat 8 y 9 unidos con sus respectivos datos de Evapotranspiración horaria y velocidad de viento de la estación meteorológica INIA Vista Florida."
   ]
  },
  {
   "cell_type": "markdown",
   "metadata": {
    "heading_collapsed": true,
    "id": "7ORTC88PSBDF"
   },
   "source": [
    "### Radiación Neta $R_n$"
   ]
  },
  {
   "cell_type": "markdown",
   "metadata": {
    "hidden": true,
    "id": "-BB4Gm9lM6yB"
   },
   "source": [
    "The net radiation flux at the surface ($R_n$) represents the actual radiant energy available at the surface.\n",
    "\n",
    "$$\n",
    "R_n = R_{S\\downarrow} - \\alpha R_{S\\downarrow} + R_{L\\downarrow} - R_{L\\uparrow} - (1- \\varepsilon_0)R_{L\\downarrow}\n",
    "$$\n",
    "\n",
    "$$\n",
    "R_n = (1- \\alpha)R_{S\\downarrow} + (R_{L\\downarrow} - R_{L\\uparrow}) - (1- \\varepsilon_0)R_{L\\downarrow}\n",
    "$$\n",
    "\n",
    "$$\n",
    "\\text{Net surface radiation} = \\text{gains} - \\text{losses}\n",
    "$$\n",
    "\n",
    "Dónde: \n",
    "- $R_n \\;$ : Flujo de radiación neta $[W/m^2]$\n",
    "- $\\alpha \\;\\;\\;\\;$ : Albedo de superficie $[-]$\n",
    "- $R_{S\\downarrow}$ : Radiación de onda corta entrante $[W/m^2]$\n",
    "- $R_{L\\downarrow}$ : Radiación de onda larga entrante $[W/m^2]$\n",
    "- $R_{L\\uparrow}$ : Radiación de onda larga saliente $[W/m^2]$\n",
    "- $\\epsilon_0 \\;\\;\\;$ : Emisividad del ancho de banda en la superficie / broad-band surface thermal emissivity\n",
    "\n",
    "El término $(1- \\epsilon_0)R_{L\\downarrow}$ representa la fracción de radiación entrante de onda larga (incoming long-wave radiation) reflejada desde la superficie."
   ]
  },
  {
   "cell_type": "code",
   "execution_count": 7,
   "metadata": {
    "hidden": true,
    "id": "QqU_Ls6eGey_"
   },
   "outputs": [],
   "source": [
    "# 8 Imágenes seleccionadas\n",
    "ids = [\n",
    "    'LANDSAT/LC09/C02/T1/LC09_010065_20211212', # 0 - 12/12 - l9\n",
    "    'LANDSAT/LC09/C02/T1/LC09_010065_20220113', # 1 - 01/13 - l9 OJO: NDVI negativos -> Posible riego 01 13\n",
    "    'LANDSAT/LC09/C02/T1/LC09_010065_20220129', # 2 - 01/29 - l9\n",
    "    'LANDSAT/LC08/C02/T1/LC08_010065_20220310', # 3 - 03/10 - l8\n",
    "    'LANDSAT/LC09/C02/T1/LC09_010065_20220403', # 4 - 04/03 - l9\n",
    "    'LANDSAT/LC09/C02/T1/LC09_010065_20220521', # 5 - 05/21 - l9\n",
    "    'LANDSAT/LC08/C02/T1/LC08_010065_20220529', # 6 - 05/29 - l8\n",
    "    'LANDSAT/LC08/C02/T1/LC08_010065_20220614'  # 7 - 06/14 - l8\n",
    "      ]\n",
    "\n",
    "# Inputs\n",
    "# Ojo: El mapa Aspect no se puede obtener en los límites -> usar áreas mayores a la que necesitas\n",
    "dem = ee.Image(\"USGS/SRTMGL1_003\").clip(roi) "
   ]
  },
  {
   "cell_type": "code",
   "execution_count": 8,
   "metadata": {
    "colab": {
     "base_uri": "https://localhost:8080/"
    },
    "hidden": true,
    "id": "59lOsMLnE5jp",
    "outputId": "2c67438f-f5c1-4cf3-a681-2dbfbe555efc"
   },
   "outputs": [
    {
     "name": "stdout",
     "output_type": "stream",
     "text": [
      "Rn de imagen 10-03-2022 procesada!\n"
     ]
    }
   ],
   "source": [
    "# Imagen Landsat seleccionada por index\n",
    "img_id = ids[3]\n",
    "img_ee = ee.Image(img_id).clip(roi)\n",
    "img_toa = convert_RAW_to_TOA(img_ee)\n",
    "\n",
    "img_date = img_ee.date()\n",
    "img_date_format1 = img_date.format('dd-MM-YYYY').getInfo()\n",
    "img_date_format2 = img_date.format('YYYY-MM-dd').getInfo()\n",
    "\n",
    "# Radiación Neta\n",
    "R_n, img_sr_tasumi, img_productos, d2, doy = getRadiacionNeta(img_ee, roi, dem) # roi: Ferreñafe\n",
    "\n",
    "# Imágenes\n",
    "img_ndvi = img_productos.select('NDVI')\n",
    "img_savi = img_productos.select('SAVI')\n",
    "img_lai  = img_productos.select('LAI')\n",
    "img_albedo = img_productos.select('albedo')\n",
    "img_Ts_c = img_productos.select('Ts_c')\n",
    "img_Ts_K = img_productos.select('Ts_k')\n",
    "\n",
    "# cos_theta_rel = img_productos.select('cos_theta')\n",
    "# t_sw = img_productos.select('t_sw')\n",
    "# e_0  = img_productos.select('e_0')\n",
    "\n",
    "print(f'Rn de imagen {img_date_format1} procesada!')"
   ]
  },
  {
   "cell_type": "code",
   "execution_count": 9,
   "metadata": {
    "hidden": true,
    "id": "5hPligMtvNK5",
    "outputId": "22ca83fd-2915-49ad-d2d9-7b933d37a883",
    "scrolled": false
   },
   "outputs": [
    {
     "name": "stdout",
     "output_type": "stream",
     "text": [
      "Fecha: 10-03-2022\n"
     ]
    },
    {
     "data": {
      "text/html": [
       "<div>\n",
       "<style scoped>\n",
       "    .dataframe tbody tr th:only-of-type {\n",
       "        vertical-align: middle;\n",
       "    }\n",
       "\n",
       "    .dataframe tbody tr th {\n",
       "        vertical-align: top;\n",
       "    }\n",
       "\n",
       "    .dataframe thead th {\n",
       "        text-align: right;\n",
       "    }\n",
       "</style>\n",
       "<table border=\"1\" class=\"dataframe\">\n",
       "  <thead>\n",
       "    <tr style=\"text-align: right;\">\n",
       "      <th></th>\n",
       "      <th>R_l_in</th>\n",
       "      <th>R_l_out</th>\n",
       "      <th>R_n</th>\n",
       "      <th>R_s_in</th>\n",
       "    </tr>\n",
       "  </thead>\n",
       "  <tbody>\n",
       "    <tr>\n",
       "      <th>max</th>\n",
       "      <td>378.75</td>\n",
       "      <td>462.20</td>\n",
       "      <td>692.36</td>\n",
       "      <td>846.36</td>\n",
       "    </tr>\n",
       "    <tr>\n",
       "      <th>mean</th>\n",
       "      <td>353.51</td>\n",
       "      <td>434.10</td>\n",
       "      <td>584.64</td>\n",
       "      <td>805.84</td>\n",
       "    </tr>\n",
       "    <tr>\n",
       "      <th>median</th>\n",
       "      <td>352.81</td>\n",
       "      <td>433.62</td>\n",
       "      <td>580.54</td>\n",
       "      <td>804.72</td>\n",
       "    </tr>\n",
       "    <tr>\n",
       "      <th>min</th>\n",
       "      <td>350.02</td>\n",
       "      <td>429.42</td>\n",
       "      <td>530.35</td>\n",
       "      <td>772.18</td>\n",
       "    </tr>\n",
       "    <tr>\n",
       "      <th>mode</th>\n",
       "      <td>352.31</td>\n",
       "      <td>431.89</td>\n",
       "      <td>572.49</td>\n",
       "      <td>804.72</td>\n",
       "    </tr>\n",
       "    <tr>\n",
       "      <th>stdDev</th>\n",
       "      <td>2.77</td>\n",
       "      <td>3.14</td>\n",
       "      <td>26.64</td>\n",
       "      <td>11.12</td>\n",
       "    </tr>\n",
       "  </tbody>\n",
       "</table>\n",
       "</div>"
      ],
      "text/plain": [
       "        R_l_in  R_l_out     R_n  R_s_in\n",
       "max     378.75   462.20  692.36  846.36\n",
       "mean    353.51   434.10  584.64  805.84\n",
       "median  352.81   433.62  580.54  804.72\n",
       "min     350.02   429.42  530.35  772.18\n",
       "mode    352.31   431.89  572.49  804.72\n",
       "stdDev    2.77     3.14   26.64   11.12"
      ]
     },
     "metadata": {},
     "output_type": "display_data"
    },
    {
     "data": {
      "text/html": [
       "<div>\n",
       "<style scoped>\n",
       "    .dataframe tbody tr th:only-of-type {\n",
       "        vertical-align: middle;\n",
       "    }\n",
       "\n",
       "    .dataframe tbody tr th {\n",
       "        vertical-align: top;\n",
       "    }\n",
       "\n",
       "    .dataframe thead th {\n",
       "        text-align: right;\n",
       "    }\n",
       "</style>\n",
       "<table border=\"1\" class=\"dataframe\">\n",
       "  <thead>\n",
       "    <tr style=\"text-align: right;\">\n",
       "      <th></th>\n",
       "      <th>LAI</th>\n",
       "      <th>NDVI</th>\n",
       "      <th>SAVI</th>\n",
       "      <th>Ts_c</th>\n",
       "      <th>Ts_k</th>\n",
       "      <th>albedo</th>\n",
       "      <th>cos_theta</th>\n",
       "      <th>e_0</th>\n",
       "      <th>e_NB</th>\n",
       "      <th>slope</th>\n",
       "      <th>t_sw</th>\n",
       "    </tr>\n",
       "  </thead>\n",
       "  <tbody>\n",
       "    <tr>\n",
       "      <th>max</th>\n",
       "      <td>1.824356</td>\n",
       "      <td>0.813376</td>\n",
       "      <td>0.577836</td>\n",
       "      <td>29.890949</td>\n",
       "      <td>303.040949</td>\n",
       "      <td>0.210209</td>\n",
       "      <td>0.907059</td>\n",
       "      <td>0.968244</td>\n",
       "      <td>0.976020</td>\n",
       "      <td>6.230337</td>\n",
       "      <td>0.673972</td>\n",
       "    </tr>\n",
       "    <tr>\n",
       "      <th>mean</th>\n",
       "      <td>1.004234</td>\n",
       "      <td>0.695226</td>\n",
       "      <td>0.439253</td>\n",
       "      <td>25.679101</td>\n",
       "      <td>298.829101</td>\n",
       "      <td>0.156955</td>\n",
       "      <td>0.863685</td>\n",
       "      <td>0.960042</td>\n",
       "      <td>0.973314</td>\n",
       "      <td>1.693220</td>\n",
       "      <td>0.673856</td>\n",
       "    </tr>\n",
       "    <tr>\n",
       "      <th>median</th>\n",
       "      <td>1.051343</td>\n",
       "      <td>0.728591</td>\n",
       "      <td>0.462851</td>\n",
       "      <td>25.549557</td>\n",
       "      <td>298.704816</td>\n",
       "      <td>0.163518</td>\n",
       "      <td>0.862504</td>\n",
       "      <td>0.960515</td>\n",
       "      <td>0.973465</td>\n",
       "      <td>1.860348</td>\n",
       "      <td>0.673853</td>\n",
       "    </tr>\n",
       "    <tr>\n",
       "      <th>min</th>\n",
       "      <td>-0.139684</td>\n",
       "      <td>0.057734</td>\n",
       "      <td>0.020029</td>\n",
       "      <td>24.946229</td>\n",
       "      <td>298.096229</td>\n",
       "      <td>0.038789</td>\n",
       "      <td>0.827631</td>\n",
       "      <td>0.948603</td>\n",
       "      <td>0.969539</td>\n",
       "      <td>0.000000</td>\n",
       "      <td>0.673762</td>\n",
       "    </tr>\n",
       "    <tr>\n",
       "      <th>mode</th>\n",
       "      <td>1.074093</td>\n",
       "      <td>0.759826</td>\n",
       "      <td>0.490374</td>\n",
       "      <td>25.421164</td>\n",
       "      <td>298.579211</td>\n",
       "      <td>0.163518</td>\n",
       "      <td>0.862504</td>\n",
       "      <td>0.961979</td>\n",
       "      <td>0.973954</td>\n",
       "      <td>0.930388</td>\n",
       "      <td>0.673840</td>\n",
       "    </tr>\n",
       "    <tr>\n",
       "      <th>stdDev</th>\n",
       "      <td>0.357172</td>\n",
       "      <td>0.119245</td>\n",
       "      <td>0.097244</td>\n",
       "      <td>0.560218</td>\n",
       "      <td>0.560218</td>\n",
       "      <td>0.030689</td>\n",
       "      <td>0.011948</td>\n",
       "      <td>0.003572</td>\n",
       "      <td>0.001179</td>\n",
       "      <td>0.962314</td>\n",
       "      <td>0.000031</td>\n",
       "    </tr>\n",
       "  </tbody>\n",
       "</table>\n",
       "</div>"
      ],
      "text/plain": [
       "             LAI      NDVI      SAVI       Ts_c        Ts_k    albedo  \\\n",
       "max     1.824356  0.813376  0.577836  29.890949  303.040949  0.210209   \n",
       "mean    1.004234  0.695226  0.439253  25.679101  298.829101  0.156955   \n",
       "median  1.051343  0.728591  0.462851  25.549557  298.704816  0.163518   \n",
       "min    -0.139684  0.057734  0.020029  24.946229  298.096229  0.038789   \n",
       "mode    1.074093  0.759826  0.490374  25.421164  298.579211  0.163518   \n",
       "stdDev  0.357172  0.119245  0.097244   0.560218    0.560218  0.030689   \n",
       "\n",
       "        cos_theta       e_0      e_NB     slope      t_sw  \n",
       "max      0.907059  0.968244  0.976020  6.230337  0.673972  \n",
       "mean     0.863685  0.960042  0.973314  1.693220  0.673856  \n",
       "median   0.862504  0.960515  0.973465  1.860348  0.673853  \n",
       "min      0.827631  0.948603  0.969539  0.000000  0.673762  \n",
       "mode     0.862504  0.961979  0.973954  0.930388  0.673840  \n",
       "stdDev   0.011948  0.003572  0.001179  0.962314  0.000031  "
      ]
     },
     "metadata": {},
     "output_type": "display_data"
    }
   ],
   "source": [
    "print(f'Fecha: {img_date_format1}')\n",
    "\n",
    "# Producir tabla con valores de los flujos [W/m^2] necesarios para obtener Radiación Neta \n",
    "R_n_stats = get_stats(R_n, predios_agricolas, 10)\n",
    "R_n_stats_df = pd.DataFrame.from_dict(R_n_stats, orient='index').round(2)\n",
    "display(R_n_stats_df) \n",
    "\n",
    "# Producir tabla de estadísticos sobre los productos elaborados\n",
    "img_prod_stats = get_stats(img_productos, predios_agricolas, 30)\n",
    "img_prod_stats_df = pd.DataFrame.from_dict(img_prod_stats, orient='index', dtype='float')#.round(3)\n",
    "display(img_prod_stats_df)"
   ]
  },
  {
   "cell_type": "code",
   "execution_count": 43,
   "metadata": {
    "hidden": true
   },
   "outputs": [
    {
     "name": "stdout",
     "output_type": "stream",
     "text": [
      "<class 'float'>\n",
      "<class 'numpy.float64'>\n"
     ]
    }
   ],
   "source": [
    "# Notar\n",
    "print(type(img_prod_stats['max']['LAI'])) # float\n",
    "print(type(img_prod_stats_df['LAI']['max'])) # numpy.float64"
   ]
  },
  {
   "cell_type": "markdown",
   "metadata": {
    "heading_collapsed": true,
    "hidden": true,
    "id": "hr-x77CIvNK6"
   },
   "source": [
    "###### Prueba: Obtener gráficas de cada variable"
   ]
  },
  {
   "cell_type": "markdown",
   "metadata": {
    "hidden": true,
    "id": "txJfVCjkvNK6"
   },
   "source": [
    "Basado en las rampas de colores usadas en la aplicación [EEFLUX](http://eeflux-level1.appspot.com/):\n",
    "- Temperatura Superficial ![](http://eeflux-level1.appspot.com/css/lst_legend.png)\n",
    "- Albedo ![](http://eeflux-level1.appspot.com/css/albedo_legend.png)\n",
    "- NDVI ![](http://eeflux-level1.appspot.com/css/ndvi_legend.png)\n",
    "- ETrF ![](http://eeflux-level1.appspot.com/css/etrf_legend.png)\n",
    "- EToF ![](http://eeflux-level1.appspot.com/css/etof_legend.png)\n",
    "- Actual ET (mm/day) ![](http://eeflux-level1.appspot.com/css/eta_legend.png)\n",
    "\n",
    "Para identificar cada color se puede usar el siguiente [enlace](https://www.ginifab.com/feeds/pms/pms_color_in_image.php)."
   ]
  },
  {
   "cell_type": "code",
   "execution_count": 10,
   "metadata": {
    "hidden": true,
    "id": "UIdg9Qo-SDVT"
   },
   "outputs": [],
   "source": [
    "albedo_cmap = ['68181f', 'd6604d', 'f9dbc7', 'd1e5f0', '2166ac', '053061'] # 0 - 0.5\n",
    "ndvi_cmap = ['0048fb', 'ffffff', 'ce7e45', 'fad163', '74a909', '3a7405', '1a3b03'] # -0.2 - 1\n",
    "ts_cmap = ['fefccc', 'fbd976', 'f08c39', 'ea4a33', 'e43d32', '812026'] # 280 - 330 en K o 6.85 - 56.85 en °C\n",
    "rn_cmp = ['560e0d', 'fd5903', 'fbfe04', '3aff01', '01feef', '0000fe', 'fd6dfd', 'ffffff']\n",
    "rn_cmp_r = ['ffffff', 'fd6dfd', '0000fe', '01feef', '3aff01', 'fbfe04', 'fd5903', '560e0d']\n",
    "# Revertir lista\n",
    "# https://datagy.io/python-reverse-list/s\n",
    "# cmp.plot_colormaps(width=12, height=0.4)"
   ]
  },
  {
   "cell_type": "markdown",
   "metadata": {
    "hidden": true,
    "id": "VedMduilSDVT"
   },
   "source": [
    "Generar gráfica de prueba."
   ]
  },
  {
   "cell_type": "code",
   "execution_count": 11,
   "metadata": {
    "hidden": true,
    "id": "hdaV9CezSDVT",
    "outputId": "1c056a61-2e28-4c88-9c17-461c286e649c"
   },
   "outputs": [
    {
     "name": "stdout",
     "output_type": "stream",
     "text": [
      "Rn de imagen 13-01-2022 procesada!\n"
     ]
    },
    {
     "data": {
      "text/html": [
       "<div>\n",
       "<style scoped>\n",
       "    .dataframe tbody tr th:only-of-type {\n",
       "        vertical-align: middle;\n",
       "    }\n",
       "\n",
       "    .dataframe tbody tr th {\n",
       "        vertical-align: top;\n",
       "    }\n",
       "\n",
       "    .dataframe thead th {\n",
       "        text-align: right;\n",
       "    }\n",
       "</style>\n",
       "<table border=\"1\" class=\"dataframe\">\n",
       "  <thead>\n",
       "    <tr style=\"text-align: right;\">\n",
       "      <th></th>\n",
       "      <th>R_l_in</th>\n",
       "      <th>R_l_out</th>\n",
       "      <th>R_n</th>\n",
       "      <th>R_s_in</th>\n",
       "    </tr>\n",
       "  </thead>\n",
       "  <tbody>\n",
       "    <tr>\n",
       "      <th>max</th>\n",
       "      <td>355.79</td>\n",
       "      <td>431.81</td>\n",
       "      <td>704.02</td>\n",
       "      <td>849.49</td>\n",
       "    </tr>\n",
       "    <tr>\n",
       "      <th>mean</th>\n",
       "      <td>329.84</td>\n",
       "      <td>401.28</td>\n",
       "      <td>622.51</td>\n",
       "      <td>799.22</td>\n",
       "    </tr>\n",
       "    <tr>\n",
       "      <th>median</th>\n",
       "      <td>327.86</td>\n",
       "      <td>398.86</td>\n",
       "      <td>623.52</td>\n",
       "      <td>799.13</td>\n",
       "    </tr>\n",
       "    <tr>\n",
       "      <th>min</th>\n",
       "      <td>318.57</td>\n",
       "      <td>389.04</td>\n",
       "      <td>532.21</td>\n",
       "      <td>760.33</td>\n",
       "    </tr>\n",
       "    <tr>\n",
       "      <th>mode</th>\n",
       "      <td>325.87</td>\n",
       "      <td>395.88</td>\n",
       "      <td>616.56</td>\n",
       "      <td>799.13</td>\n",
       "    </tr>\n",
       "    <tr>\n",
       "      <th>stdDev</th>\n",
       "      <td>7.05</td>\n",
       "      <td>8.28</td>\n",
       "      <td>27.34</td>\n",
       "      <td>12.54</td>\n",
       "    </tr>\n",
       "  </tbody>\n",
       "</table>\n",
       "</div>"
      ],
      "text/plain": [
       "        R_l_in  R_l_out     R_n  R_s_in\n",
       "max     355.79   431.81  704.02  849.49\n",
       "mean    329.84   401.28  622.51  799.22\n",
       "median  327.86   398.86  623.52  799.13\n",
       "min     318.57   389.04  532.21  760.33\n",
       "mode    325.87   395.88  616.56  799.13\n",
       "stdDev    7.05     8.28   27.34   12.54"
      ]
     },
     "metadata": {},
     "output_type": "display_data"
    }
   ],
   "source": [
    "# Generar \n",
    "# for id_ in ids:\n",
    "# Imagen Landsat\n",
    "variable = 'Rn'\n",
    "img_id = ids[1]\n",
    "landsat_id = img_id[11:12]\n",
    "img_ee = ee.Image(img_id).clip(roi)\n",
    "img_toa = convert_RAW_to_TOA(img_ee)\n",
    "\n",
    "img_date = img_ee.date()\n",
    "img_date_format1 = img_date.format('dd-MM-YYYY').getInfo()\n",
    "img_date_format2 = img_date.format('YYYY-MM-dd').getInfo()\n",
    "\n",
    "# Radiación Neta\n",
    "R_n, img_sr_tasumi, img_productos, d2, doy = getRadiacionNeta(img_ee, roi, dem) # roi: Ferreñafe\n",
    "\n",
    "# Imágenes\n",
    "img_ndvi = img_productos.select('NDVI')\n",
    "img_savi = img_productos.select('SAVI')\n",
    "img_lai  = img_productos.select('LAI')\n",
    "img_albedo = img_productos.select('albedo')\n",
    "img_Ts_c = img_productos.select('Ts_c')\n",
    "# img_Ts_K = img_productos.select('Ts_k')\n",
    "\n",
    "# cos_theta_rel = img_productos.select('cos_theta')\n",
    "# t_sw = img_productos.select('t_sw')\n",
    "# e_0  = img_productos.select('e_0')\n",
    "\n",
    "print(f'Rn de imagen {img_date_format1} procesada!')\n",
    "\n",
    "\n",
    "# Estadisticas\n",
    "R_n_stats = get_stats(R_n, predios_agricolas, 10)\n",
    "R_n_stats_df = pd.DataFrame.from_dict(R_n_stats, orient='index').round(2)\n",
    "\n",
    "img_prod_stats = get_stats(img_productos, predios_agricolas, 30)\n",
    "img_prod_stats_df = pd.DataFrame.from_dict(img_prod_stats, orient='index')#.round(3)\n",
    "\n",
    "display(R_n_stats_df)"
   ]
  },
  {
   "cell_type": "code",
   "execution_count": 12,
   "metadata": {
    "hidden": true,
    "id": "EyLvVLD0SDVT",
    "outputId": "a4858f84-b6b8-43d6-8363-34410dc48b70",
    "scrolled": false
   },
   "outputs": [
    {
     "data": {
      "image/png": "[encoded data removed]",
      "text/plain": [
       "<Figure size 576x432 with 2 Axes>"
      ]
     },
     "metadata": {
      "needs_background": "light"
     },
     "output_type": "display_data"
    }
   ],
   "source": [
    "# R_n\n",
    "vis_params_R_n = {'min': R_n_stats['min']['R_n'],\n",
    "                  'max': R_n_stats['max']['R_n'], \n",
    "                  'palette': cmp.get_palette('RdYlGn_r')}\n",
    "\n",
    "image = R_n.select('R_n').clip(predios_agricolas).blend(predios_vis)\n",
    "vis_params = vis_params_R_n\n",
    "variable = 'R_n'\n",
    "title_map = f'{variable}\\n{img_date_format1}'\n",
    "label = '$[\\; W/m^2 \\;]$'\n",
    "ruta = f'{variable}_{img_date_format2}_L{landsat_id}'\n",
    "\n",
    "get_grafica_cartoee_color(image, \n",
    "                          vis_params, \n",
    "                          title_map, \n",
    "                          label,\n",
    "                          save_fig=None)"
   ]
  },
  {
   "cell_type": "code",
   "execution_count": null,
   "metadata": {
    "hidden": true,
    "id": "rwk15F7uSDVU",
    "outputId": "2d77673e-a0d6-4194-df8c-652312b17ddb",
    "scrolled": false
   },
   "outputs": [],
   "source": [
    "# R_n\n",
    "vis_params_R_n = {'min': 500,\n",
    "                  'max': 700, \n",
    "                  'palette': rn_cmp_r}\n",
    "\n",
    "image = R_n.select('R_n').clip(predios_agricolas).blend(predios_vis)\n",
    "vis_params = vis_params_R_n\n",
    "variable = 'R_n'\n",
    "title_map = f'{variable}\\n{img_date_format1}'\n",
    "label = '$[\\; W/m^2 \\;]$'\n",
    "ruta = f'{variable}_{img_date}_L{landsat_id}'\n",
    "\n",
    "get_grafica_cartoee_color(image, \n",
    "                          vis_params, \n",
    "                          title_map, \n",
    "                          label,\n",
    "                          save_fig=None)"
   ]
  },
  {
   "cell_type": "markdown",
   "metadata": {
    "hidden": true,
    "id": "9jKtwLfbSDVU"
   },
   "source": [
    "-----"
   ]
  },
  {
   "cell_type": "markdown",
   "metadata": {
    "hidden": true,
    "id": "smDWbOKiSDVU"
   },
   "source": [
    "Generando estadísticas de cada imagen."
   ]
  },
  {
   "cell_type": "code",
   "execution_count": 13,
   "metadata": {
    "hidden": true,
    "id": "jON5lY7gSDVU",
    "outputId": "5163dd60-88f7-4153-b16f-a288f9ab8e21",
    "scrolled": false
   },
   "outputs": [
    {
     "name": "stdout",
     "output_type": "stream",
     "text": [
      "Procesando Rn de imagen 12-12-2021...\n"
     ]
    },
    {
     "data": {
      "text/html": [
       "<div>\n",
       "<style scoped>\n",
       "    .dataframe tbody tr th:only-of-type {\n",
       "        vertical-align: middle;\n",
       "    }\n",
       "\n",
       "    .dataframe tbody tr th {\n",
       "        vertical-align: top;\n",
       "    }\n",
       "\n",
       "    .dataframe thead th {\n",
       "        text-align: right;\n",
       "    }\n",
       "</style>\n",
       "<table border=\"1\" class=\"dataframe\">\n",
       "  <thead>\n",
       "    <tr style=\"text-align: right;\">\n",
       "      <th></th>\n",
       "      <th>R_l_in</th>\n",
       "      <th>R_l_out</th>\n",
       "      <th>R_n</th>\n",
       "      <th>R_s_in</th>\n",
       "    </tr>\n",
       "  </thead>\n",
       "  <tbody>\n",
       "    <tr>\n",
       "      <th>max</th>\n",
       "      <td>357.33</td>\n",
       "      <td>434.10</td>\n",
       "      <td>707.21</td>\n",
       "      <td>868.55</td>\n",
       "    </tr>\n",
       "    <tr>\n",
       "      <th>mean</th>\n",
       "      <td>336.62</td>\n",
       "      <td>409.46</td>\n",
       "      <td>612.19</td>\n",
       "      <td>822.22</td>\n",
       "    </tr>\n",
       "    <tr>\n",
       "      <th>median</th>\n",
       "      <td>337.13</td>\n",
       "      <td>409.88</td>\n",
       "      <td>607.44</td>\n",
       "      <td>822.35</td>\n",
       "    </tr>\n",
       "    <tr>\n",
       "      <th>min</th>\n",
       "      <td>315.91</td>\n",
       "      <td>387.52</td>\n",
       "      <td>517.22</td>\n",
       "      <td>786.20</td>\n",
       "    </tr>\n",
       "    <tr>\n",
       "      <th>mode</th>\n",
       "      <td>339.11</td>\n",
       "      <td>412.13</td>\n",
       "      <td>587.50</td>\n",
       "      <td>822.35</td>\n",
       "    </tr>\n",
       "    <tr>\n",
       "      <th>stdDev</th>\n",
       "      <td>7.97</td>\n",
       "      <td>9.20</td>\n",
       "      <td>36.18</td>\n",
       "      <td>11.77</td>\n",
       "    </tr>\n",
       "  </tbody>\n",
       "</table>\n",
       "</div>"
      ],
      "text/plain": [
       "        R_l_in  R_l_out     R_n  R_s_in\n",
       "max     357.33   434.10  707.21  868.55\n",
       "mean    336.62   409.46  612.19  822.22\n",
       "median  337.13   409.88  607.44  822.35\n",
       "min     315.91   387.52  517.22  786.20\n",
       "mode    339.11   412.13  587.50  822.35\n",
       "stdDev    7.97     9.20   36.18   11.77"
      ]
     },
     "metadata": {},
     "output_type": "display_data"
    },
    {
     "data": {
      "text/html": [
       "<div>\n",
       "<style scoped>\n",
       "    .dataframe tbody tr th:only-of-type {\n",
       "        vertical-align: middle;\n",
       "    }\n",
       "\n",
       "    .dataframe tbody tr th {\n",
       "        vertical-align: top;\n",
       "    }\n",
       "\n",
       "    .dataframe thead th {\n",
       "        text-align: right;\n",
       "    }\n",
       "</style>\n",
       "<table border=\"1\" class=\"dataframe\">\n",
       "  <thead>\n",
       "    <tr style=\"text-align: right;\">\n",
       "      <th></th>\n",
       "      <th>LAI</th>\n",
       "      <th>NDVI</th>\n",
       "      <th>SAVI</th>\n",
       "      <th>Ts_c</th>\n",
       "      <th>Ts_k</th>\n",
       "      <th>albedo</th>\n",
       "      <th>cos_theta</th>\n",
       "      <th>e_0</th>\n",
       "      <th>e_NB</th>\n",
       "      <th>slope</th>\n",
       "      <th>t_sw</th>\n",
       "    </tr>\n",
       "  </thead>\n",
       "  <tbody>\n",
       "    <tr>\n",
       "      <th>max</th>\n",
       "      <td>0.554053</td>\n",
       "      <td>0.467943</td>\n",
       "      <td>0.333643</td>\n",
       "      <td>26.499555</td>\n",
       "      <td>299.649555</td>\n",
       "      <td>0.238991</td>\n",
       "      <td>0.913931</td>\n",
       "      <td>0.985000</td>\n",
       "      <td>0.985000</td>\n",
       "      <td>6.230337</td>\n",
       "      <td>0.674302</td>\n",
       "    </tr>\n",
       "    <tr>\n",
       "      <th>mean</th>\n",
       "      <td>-0.038473</td>\n",
       "      <td>0.132272</td>\n",
       "      <td>0.077424</td>\n",
       "      <td>22.041137</td>\n",
       "      <td>295.191137</td>\n",
       "      <td>0.146637</td>\n",
       "      <td>0.865209</td>\n",
       "      <td>0.950857</td>\n",
       "      <td>0.970399</td>\n",
       "      <td>1.693220</td>\n",
       "      <td>0.674189</td>\n",
       "    </tr>\n",
       "    <tr>\n",
       "      <th>median</th>\n",
       "      <td>-0.045099</td>\n",
       "      <td>0.130938</td>\n",
       "      <td>0.077111</td>\n",
       "      <td>22.151023</td>\n",
       "      <td>295.318546</td>\n",
       "      <td>0.153726</td>\n",
       "      <td>0.865418</td>\n",
       "      <td>0.949588</td>\n",
       "      <td>0.969878</td>\n",
       "      <td>1.860348</td>\n",
       "      <td>0.674185</td>\n",
       "    </tr>\n",
       "    <tr>\n",
       "      <th>min</th>\n",
       "      <td>-0.284271</td>\n",
       "      <td>-0.208173</td>\n",
       "      <td>-0.074184</td>\n",
       "      <td>17.408391</td>\n",
       "      <td>290.558391</td>\n",
       "      <td>0.041380</td>\n",
       "      <td>0.827308</td>\n",
       "      <td>0.948287</td>\n",
       "      <td>0.969435</td>\n",
       "      <td>0.000000</td>\n",
       "      <td>0.674101</td>\n",
       "    </tr>\n",
       "    <tr>\n",
       "      <th>mode</th>\n",
       "      <td>-0.037012</td>\n",
       "      <td>0.134693</td>\n",
       "      <td>0.079208</td>\n",
       "      <td>22.596147</td>\n",
       "      <td>296.593129</td>\n",
       "      <td>0.170473</td>\n",
       "      <td>0.865418</td>\n",
       "      <td>0.949588</td>\n",
       "      <td>0.969878</td>\n",
       "      <td>0.930388</td>\n",
       "      <td>0.674179</td>\n",
       "    </tr>\n",
       "    <tr>\n",
       "      <th>stdDev</th>\n",
       "      <td>0.079890</td>\n",
       "      <td>0.064392</td>\n",
       "      <td>0.042190</td>\n",
       "      <td>1.746728</td>\n",
       "      <td>1.746728</td>\n",
       "      <td>0.040240</td>\n",
       "      <td>0.012435</td>\n",
       "      <td>0.006404</td>\n",
       "      <td>0.002731</td>\n",
       "      <td>0.962314</td>\n",
       "      <td>0.000039</td>\n",
       "    </tr>\n",
       "  </tbody>\n",
       "</table>\n",
       "</div>"
      ],
      "text/plain": [
       "             LAI      NDVI      SAVI       Ts_c        Ts_k    albedo  \\\n",
       "max     0.554053  0.467943  0.333643  26.499555  299.649555  0.238991   \n",
       "mean   -0.038473  0.132272  0.077424  22.041137  295.191137  0.146637   \n",
       "median -0.045099  0.130938  0.077111  22.151023  295.318546  0.153726   \n",
       "min    -0.284271 -0.208173 -0.074184  17.408391  290.558391  0.041380   \n",
       "mode   -0.037012  0.134693  0.079208  22.596147  296.593129  0.170473   \n",
       "stdDev  0.079890  0.064392  0.042190   1.746728    1.746728  0.040240   \n",
       "\n",
       "        cos_theta       e_0      e_NB     slope      t_sw  \n",
       "max      0.913931  0.985000  0.985000  6.230337  0.674302  \n",
       "mean     0.865209  0.950857  0.970399  1.693220  0.674189  \n",
       "median   0.865418  0.949588  0.969878  1.860348  0.674185  \n",
       "min      0.827308  0.948287  0.969435  0.000000  0.674101  \n",
       "mode     0.865418  0.949588  0.969878  0.930388  0.674179  \n",
       "stdDev   0.012435  0.006404  0.002731  0.962314  0.000039  "
      ]
     },
     "metadata": {},
     "output_type": "display_data"
    },
    {
     "name": "stdout",
     "output_type": "stream",
     "text": [
      "Procesando Rn de imagen 13-01-2022...\n"
     ]
    },
    {
     "data": {
      "text/html": [
       "<div>\n",
       "<style scoped>\n",
       "    .dataframe tbody tr th:only-of-type {\n",
       "        vertical-align: middle;\n",
       "    }\n",
       "\n",
       "    .dataframe tbody tr th {\n",
       "        vertical-align: top;\n",
       "    }\n",
       "\n",
       "    .dataframe thead th {\n",
       "        text-align: right;\n",
       "    }\n",
       "</style>\n",
       "<table border=\"1\" class=\"dataframe\">\n",
       "  <thead>\n",
       "    <tr style=\"text-align: right;\">\n",
       "      <th></th>\n",
       "      <th>R_l_in</th>\n",
       "      <th>R_l_out</th>\n",
       "      <th>R_n</th>\n",
       "      <th>R_s_in</th>\n",
       "    </tr>\n",
       "  </thead>\n",
       "  <tbody>\n",
       "    <tr>\n",
       "      <th>max</th>\n",
       "      <td>355.79</td>\n",
       "      <td>431.81</td>\n",
       "      <td>704.02</td>\n",
       "      <td>849.49</td>\n",
       "    </tr>\n",
       "    <tr>\n",
       "      <th>mean</th>\n",
       "      <td>329.84</td>\n",
       "      <td>401.28</td>\n",
       "      <td>622.51</td>\n",
       "      <td>799.22</td>\n",
       "    </tr>\n",
       "    <tr>\n",
       "      <th>median</th>\n",
       "      <td>327.86</td>\n",
       "      <td>398.86</td>\n",
       "      <td>623.52</td>\n",
       "      <td>799.13</td>\n",
       "    </tr>\n",
       "    <tr>\n",
       "      <th>min</th>\n",
       "      <td>318.57</td>\n",
       "      <td>389.04</td>\n",
       "      <td>532.21</td>\n",
       "      <td>760.33</td>\n",
       "    </tr>\n",
       "    <tr>\n",
       "      <th>mode</th>\n",
       "      <td>325.87</td>\n",
       "      <td>395.88</td>\n",
       "      <td>616.56</td>\n",
       "      <td>799.13</td>\n",
       "    </tr>\n",
       "    <tr>\n",
       "      <th>stdDev</th>\n",
       "      <td>7.05</td>\n",
       "      <td>8.28</td>\n",
       "      <td>27.34</td>\n",
       "      <td>12.54</td>\n",
       "    </tr>\n",
       "  </tbody>\n",
       "</table>\n",
       "</div>"
      ],
      "text/plain": [
       "        R_l_in  R_l_out     R_n  R_s_in\n",
       "max     355.79   431.81  704.02  849.49\n",
       "mean    329.84   401.28  622.51  799.22\n",
       "median  327.86   398.86  623.52  799.13\n",
       "min     318.57   389.04  532.21  760.33\n",
       "mode    325.87   395.88  616.56  799.13\n",
       "stdDev    7.05     8.28   27.34   12.54"
      ]
     },
     "metadata": {},
     "output_type": "display_data"
    },
    {
     "data": {
      "text/html": [
       "<div>\n",
       "<style scoped>\n",
       "    .dataframe tbody tr th:only-of-type {\n",
       "        vertical-align: middle;\n",
       "    }\n",
       "\n",
       "    .dataframe tbody tr th {\n",
       "        vertical-align: top;\n",
       "    }\n",
       "\n",
       "    .dataframe thead th {\n",
       "        text-align: right;\n",
       "    }\n",
       "</style>\n",
       "<table border=\"1\" class=\"dataframe\">\n",
       "  <thead>\n",
       "    <tr style=\"text-align: right;\">\n",
       "      <th></th>\n",
       "      <th>LAI</th>\n",
       "      <th>NDVI</th>\n",
       "      <th>SAVI</th>\n",
       "      <th>Ts_c</th>\n",
       "      <th>Ts_k</th>\n",
       "      <th>albedo</th>\n",
       "      <th>cos_theta</th>\n",
       "      <th>e_0</th>\n",
       "      <th>e_NB</th>\n",
       "      <th>slope</th>\n",
       "      <th>t_sw</th>\n",
       "    </tr>\n",
       "  </thead>\n",
       "  <tbody>\n",
       "    <tr>\n",
       "      <th>max</th>\n",
       "      <td>0.935767</td>\n",
       "      <td>0.642031</td>\n",
       "      <td>0.438215</td>\n",
       "      <td>26.100824</td>\n",
       "      <td>299.250824</td>\n",
       "      <td>0.206883</td>\n",
       "      <td>0.896870</td>\n",
       "      <td>0.985000</td>\n",
       "      <td>0.985000</td>\n",
       "      <td>6.230337</td>\n",
       "      <td>0.671267</td>\n",
       "    </tr>\n",
       "    <tr>\n",
       "      <th>mean</th>\n",
       "      <td>-0.007858</td>\n",
       "      <td>0.173278</td>\n",
       "      <td>0.091303</td>\n",
       "      <td>20.469317</td>\n",
       "      <td>293.619317</td>\n",
       "      <td>0.111805</td>\n",
       "      <td>0.843806</td>\n",
       "      <td>0.952030</td>\n",
       "      <td>0.970865</td>\n",
       "      <td>1.693220</td>\n",
       "      <td>0.671148</td>\n",
       "    </tr>\n",
       "    <tr>\n",
       "      <th>median</th>\n",
       "      <td>-0.035023</td>\n",
       "      <td>0.154073</td>\n",
       "      <td>0.080029</td>\n",
       "      <td>20.030456</td>\n",
       "      <td>293.160767</td>\n",
       "      <td>0.109039</td>\n",
       "      <td>0.843791</td>\n",
       "      <td>0.949827</td>\n",
       "      <td>0.969940</td>\n",
       "      <td>1.860348</td>\n",
       "      <td>0.671147</td>\n",
       "    </tr>\n",
       "    <tr>\n",
       "      <th>min</th>\n",
       "      <td>-0.277411</td>\n",
       "      <td>-0.148500</td>\n",
       "      <td>-0.069429</td>\n",
       "      <td>17.944078</td>\n",
       "      <td>291.094078</td>\n",
       "      <td>0.056113</td>\n",
       "      <td>0.802741</td>\n",
       "      <td>0.948280</td>\n",
       "      <td>0.969432</td>\n",
       "      <td>0.000000</td>\n",
       "      <td>0.671053</td>\n",
       "    </tr>\n",
       "    <tr>\n",
       "      <th>mode</th>\n",
       "      <td>-0.042958</td>\n",
       "      <td>0.126808</td>\n",
       "      <td>0.076280</td>\n",
       "      <td>19.591155</td>\n",
       "      <td>292.719740</td>\n",
       "      <td>0.114780</td>\n",
       "      <td>0.839195</td>\n",
       "      <td>0.949580</td>\n",
       "      <td>0.969878</td>\n",
       "      <td>0.930388</td>\n",
       "      <td>0.671122</td>\n",
       "    </tr>\n",
       "    <tr>\n",
       "      <th>stdDev</th>\n",
       "      <td>0.139226</td>\n",
       "      <td>0.122002</td>\n",
       "      <td>0.068931</td>\n",
       "      <td>1.547018</td>\n",
       "      <td>1.547018</td>\n",
       "      <td>0.030234</td>\n",
       "      <td>0.013283</td>\n",
       "      <td>0.008187</td>\n",
       "      <td>0.003492</td>\n",
       "      <td>0.962314</td>\n",
       "      <td>0.000038</td>\n",
       "    </tr>\n",
       "  </tbody>\n",
       "</table>\n",
       "</div>"
      ],
      "text/plain": [
       "             LAI      NDVI      SAVI       Ts_c        Ts_k    albedo  \\\n",
       "max     0.935767  0.642031  0.438215  26.100824  299.250824  0.206883   \n",
       "mean   -0.007858  0.173278  0.091303  20.469317  293.619317  0.111805   \n",
       "median -0.035023  0.154073  0.080029  20.030456  293.160767  0.109039   \n",
       "min    -0.277411 -0.148500 -0.069429  17.944078  291.094078  0.056113   \n",
       "mode   -0.042958  0.126808  0.076280  19.591155  292.719740  0.114780   \n",
       "stdDev  0.139226  0.122002  0.068931   1.547018    1.547018  0.030234   \n",
       "\n",
       "        cos_theta       e_0      e_NB     slope      t_sw  \n",
       "max      0.896870  0.985000  0.985000  6.230337  0.671267  \n",
       "mean     0.843806  0.952030  0.970865  1.693220  0.671148  \n",
       "median   0.843791  0.949827  0.969940  1.860348  0.671147  \n",
       "min      0.802741  0.948280  0.969432  0.000000  0.671053  \n",
       "mode     0.839195  0.949580  0.969878  0.930388  0.671122  \n",
       "stdDev   0.013283  0.008187  0.003492  0.962314  0.000038  "
      ]
     },
     "metadata": {},
     "output_type": "display_data"
    },
    {
     "name": "stdout",
     "output_type": "stream",
     "text": [
      "Procesando Rn de imagen 29-01-2022...\n"
     ]
    },
    {
     "data": {
      "text/html": [
       "<div>\n",
       "<style scoped>\n",
       "    .dataframe tbody tr th:only-of-type {\n",
       "        vertical-align: middle;\n",
       "    }\n",
       "\n",
       "    .dataframe tbody tr th {\n",
       "        vertical-align: top;\n",
       "    }\n",
       "\n",
       "    .dataframe thead th {\n",
       "        text-align: right;\n",
       "    }\n",
       "</style>\n",
       "<table border=\"1\" class=\"dataframe\">\n",
       "  <thead>\n",
       "    <tr style=\"text-align: right;\">\n",
       "      <th></th>\n",
       "      <th>R_l_in</th>\n",
       "      <th>R_l_out</th>\n",
       "      <th>R_n</th>\n",
       "      <th>R_s_in</th>\n",
       "    </tr>\n",
       "  </thead>\n",
       "  <tbody>\n",
       "    <tr>\n",
       "      <th>max</th>\n",
       "      <td>337.50</td>\n",
       "      <td>410.48</td>\n",
       "      <td>692.03</td>\n",
       "      <td>847.94</td>\n",
       "    </tr>\n",
       "    <tr>\n",
       "      <th>mean</th>\n",
       "      <td>316.62</td>\n",
       "      <td>385.21</td>\n",
       "      <td>625.90</td>\n",
       "      <td>798.01</td>\n",
       "    </tr>\n",
       "    <tr>\n",
       "      <th>median</th>\n",
       "      <td>316.95</td>\n",
       "      <td>385.13</td>\n",
       "      <td>627.51</td>\n",
       "      <td>797.71</td>\n",
       "    </tr>\n",
       "    <tr>\n",
       "      <th>min</th>\n",
       "      <td>308.52</td>\n",
       "      <td>377.20</td>\n",
       "      <td>534.50</td>\n",
       "      <td>759.02</td>\n",
       "    </tr>\n",
       "    <tr>\n",
       "      <th>mode</th>\n",
       "      <td>318.44</td>\n",
       "      <td>383.39</td>\n",
       "      <td>643.42</td>\n",
       "      <td>797.71</td>\n",
       "    </tr>\n",
       "    <tr>\n",
       "      <th>stdDev</th>\n",
       "      <td>3.34</td>\n",
       "      <td>3.70</td>\n",
       "      <td>25.55</td>\n",
       "      <td>12.40</td>\n",
       "    </tr>\n",
       "  </tbody>\n",
       "</table>\n",
       "</div>"
      ],
      "text/plain": [
       "        R_l_in  R_l_out     R_n  R_s_in\n",
       "max     337.50   410.48  692.03  847.94\n",
       "mean    316.62   385.21  625.90  798.01\n",
       "median  316.95   385.13  627.51  797.71\n",
       "min     308.52   377.20  534.50  759.02\n",
       "mode    318.44   383.39  643.42  797.71\n",
       "stdDev    3.34     3.70   25.55   12.40"
      ]
     },
     "metadata": {},
     "output_type": "display_data"
    },
    {
     "data": {
      "text/html": [
       "<div>\n",
       "<style scoped>\n",
       "    .dataframe tbody tr th:only-of-type {\n",
       "        vertical-align: middle;\n",
       "    }\n",
       "\n",
       "    .dataframe tbody tr th {\n",
       "        vertical-align: top;\n",
       "    }\n",
       "\n",
       "    .dataframe thead th {\n",
       "        text-align: right;\n",
       "    }\n",
       "</style>\n",
       "<table border=\"1\" class=\"dataframe\">\n",
       "  <thead>\n",
       "    <tr style=\"text-align: right;\">\n",
       "      <th></th>\n",
       "      <th>LAI</th>\n",
       "      <th>NDVI</th>\n",
       "      <th>SAVI</th>\n",
       "      <th>Ts_c</th>\n",
       "      <th>Ts_k</th>\n",
       "      <th>albedo</th>\n",
       "      <th>cos_theta</th>\n",
       "      <th>e_0</th>\n",
       "      <th>e_NB</th>\n",
       "      <th>slope</th>\n",
       "      <th>t_sw</th>\n",
       "    </tr>\n",
       "  </thead>\n",
       "  <tbody>\n",
       "    <tr>\n",
       "      <th>max</th>\n",
       "      <td>1.619720</td>\n",
       "      <td>0.759109</td>\n",
       "      <td>0.554878</td>\n",
       "      <td>20.938461</td>\n",
       "      <td>294.088461</td>\n",
       "      <td>0.227019</td>\n",
       "      <td>0.897753</td>\n",
       "      <td>0.966197</td>\n",
       "      <td>0.975345</td>\n",
       "      <td>6.230337</td>\n",
       "      <td>0.671351</td>\n",
       "    </tr>\n",
       "    <tr>\n",
       "      <th>mean</th>\n",
       "      <td>0.198340</td>\n",
       "      <td>0.353765</td>\n",
       "      <td>0.185670</td>\n",
       "      <td>17.493181</td>\n",
       "      <td>290.643181</td>\n",
       "      <td>0.110586</td>\n",
       "      <td>0.844939</td>\n",
       "      <td>0.951983</td>\n",
       "      <td>0.970655</td>\n",
       "      <td>1.693220</td>\n",
       "      <td>0.671225</td>\n",
       "    </tr>\n",
       "    <tr>\n",
       "      <th>median</th>\n",
       "      <td>0.120602</td>\n",
       "      <td>0.330252</td>\n",
       "      <td>0.162084</td>\n",
       "      <td>17.548401</td>\n",
       "      <td>290.700191</td>\n",
       "      <td>0.108847</td>\n",
       "      <td>0.844647</td>\n",
       "      <td>0.951232</td>\n",
       "      <td>0.970387</td>\n",
       "      <td>1.860348</td>\n",
       "      <td>0.671222</td>\n",
       "    </tr>\n",
       "    <tr>\n",
       "      <th>min</th>\n",
       "      <td>-0.147685</td>\n",
       "      <td>0.038631</td>\n",
       "      <td>0.015133</td>\n",
       "      <td>15.622040</td>\n",
       "      <td>288.772040</td>\n",
       "      <td>0.050530</td>\n",
       "      <td>0.803618</td>\n",
       "      <td>0.948523</td>\n",
       "      <td>0.969513</td>\n",
       "      <td>0.000000</td>\n",
       "      <td>0.671120</td>\n",
       "    </tr>\n",
       "    <tr>\n",
       "      <th>mode</th>\n",
       "      <td>0.097404</td>\n",
       "      <td>0.255753</td>\n",
       "      <td>0.150101</td>\n",
       "      <td>17.956234</td>\n",
       "      <td>291.111898</td>\n",
       "      <td>0.111857</td>\n",
       "      <td>0.844647</td>\n",
       "      <td>0.951232</td>\n",
       "      <td>0.970109</td>\n",
       "      <td>0.930388</td>\n",
       "      <td>0.671220</td>\n",
       "    </tr>\n",
       "    <tr>\n",
       "      <th>stdDev</th>\n",
       "      <td>0.256094</td>\n",
       "      <td>0.142867</td>\n",
       "      <td>0.096539</td>\n",
       "      <td>0.752842</td>\n",
       "      <td>0.752842</td>\n",
       "      <td>0.029637</td>\n",
       "      <td>0.013170</td>\n",
       "      <td>0.002561</td>\n",
       "      <td>0.000845</td>\n",
       "      <td>0.962314</td>\n",
       "      <td>0.000035</td>\n",
       "    </tr>\n",
       "  </tbody>\n",
       "</table>\n",
       "</div>"
      ],
      "text/plain": [
       "             LAI      NDVI      SAVI       Ts_c        Ts_k    albedo  \\\n",
       "max     1.619720  0.759109  0.554878  20.938461  294.088461  0.227019   \n",
       "mean    0.198340  0.353765  0.185670  17.493181  290.643181  0.110586   \n",
       "median  0.120602  0.330252  0.162084  17.548401  290.700191  0.108847   \n",
       "min    -0.147685  0.038631  0.015133  15.622040  288.772040  0.050530   \n",
       "mode    0.097404  0.255753  0.150101  17.956234  291.111898  0.111857   \n",
       "stdDev  0.256094  0.142867  0.096539   0.752842    0.752842  0.029637   \n",
       "\n",
       "        cos_theta       e_0      e_NB     slope      t_sw  \n",
       "max      0.897753  0.966197  0.975345  6.230337  0.671351  \n",
       "mean     0.844939  0.951983  0.970655  1.693220  0.671225  \n",
       "median   0.844647  0.951232  0.970387  1.860348  0.671222  \n",
       "min      0.803618  0.948523  0.969513  0.000000  0.671120  \n",
       "mode     0.844647  0.951232  0.970109  0.930388  0.671220  \n",
       "stdDev   0.013170  0.002561  0.000845  0.962314  0.000035  "
      ]
     },
     "metadata": {},
     "output_type": "display_data"
    },
    {
     "name": "stdout",
     "output_type": "stream",
     "text": [
      "Procesando Rn de imagen 10-03-2022...\n"
     ]
    },
    {
     "data": {
      "text/html": [
       "<div>\n",
       "<style scoped>\n",
       "    .dataframe tbody tr th:only-of-type {\n",
       "        vertical-align: middle;\n",
       "    }\n",
       "\n",
       "    .dataframe tbody tr th {\n",
       "        vertical-align: top;\n",
       "    }\n",
       "\n",
       "    .dataframe thead th {\n",
       "        text-align: right;\n",
       "    }\n",
       "</style>\n",
       "<table border=\"1\" class=\"dataframe\">\n",
       "  <thead>\n",
       "    <tr style=\"text-align: right;\">\n",
       "      <th></th>\n",
       "      <th>R_l_in</th>\n",
       "      <th>R_l_out</th>\n",
       "      <th>R_n</th>\n",
       "      <th>R_s_in</th>\n",
       "    </tr>\n",
       "  </thead>\n",
       "  <tbody>\n",
       "    <tr>\n",
       "      <th>max</th>\n",
       "      <td>378.75</td>\n",
       "      <td>462.20</td>\n",
       "      <td>692.36</td>\n",
       "      <td>846.36</td>\n",
       "    </tr>\n",
       "    <tr>\n",
       "      <th>mean</th>\n",
       "      <td>353.51</td>\n",
       "      <td>434.10</td>\n",
       "      <td>584.64</td>\n",
       "      <td>805.84</td>\n",
       "    </tr>\n",
       "    <tr>\n",
       "      <th>median</th>\n",
       "      <td>352.81</td>\n",
       "      <td>433.62</td>\n",
       "      <td>580.54</td>\n",
       "      <td>804.72</td>\n",
       "    </tr>\n",
       "    <tr>\n",
       "      <th>min</th>\n",
       "      <td>350.02</td>\n",
       "      <td>429.42</td>\n",
       "      <td>530.35</td>\n",
       "      <td>772.18</td>\n",
       "    </tr>\n",
       "    <tr>\n",
       "      <th>mode</th>\n",
       "      <td>352.31</td>\n",
       "      <td>431.89</td>\n",
       "      <td>572.49</td>\n",
       "      <td>804.72</td>\n",
       "    </tr>\n",
       "    <tr>\n",
       "      <th>stdDev</th>\n",
       "      <td>2.77</td>\n",
       "      <td>3.14</td>\n",
       "      <td>26.64</td>\n",
       "      <td>11.12</td>\n",
       "    </tr>\n",
       "  </tbody>\n",
       "</table>\n",
       "</div>"
      ],
      "text/plain": [
       "        R_l_in  R_l_out     R_n  R_s_in\n",
       "max     378.75   462.20  692.36  846.36\n",
       "mean    353.51   434.10  584.64  805.84\n",
       "median  352.81   433.62  580.54  804.72\n",
       "min     350.02   429.42  530.35  772.18\n",
       "mode    352.31   431.89  572.49  804.72\n",
       "stdDev    2.77     3.14   26.64   11.12"
      ]
     },
     "metadata": {},
     "output_type": "display_data"
    },
    {
     "data": {
      "text/html": [
       "<div>\n",
       "<style scoped>\n",
       "    .dataframe tbody tr th:only-of-type {\n",
       "        vertical-align: middle;\n",
       "    }\n",
       "\n",
       "    .dataframe tbody tr th {\n",
       "        vertical-align: top;\n",
       "    }\n",
       "\n",
       "    .dataframe thead th {\n",
       "        text-align: right;\n",
       "    }\n",
       "</style>\n",
       "<table border=\"1\" class=\"dataframe\">\n",
       "  <thead>\n",
       "    <tr style=\"text-align: right;\">\n",
       "      <th></th>\n",
       "      <th>LAI</th>\n",
       "      <th>NDVI</th>\n",
       "      <th>SAVI</th>\n",
       "      <th>Ts_c</th>\n",
       "      <th>Ts_k</th>\n",
       "      <th>albedo</th>\n",
       "      <th>cos_theta</th>\n",
       "      <th>e_0</th>\n",
       "      <th>e_NB</th>\n",
       "      <th>slope</th>\n",
       "      <th>t_sw</th>\n",
       "    </tr>\n",
       "  </thead>\n",
       "  <tbody>\n",
       "    <tr>\n",
       "      <th>max</th>\n",
       "      <td>1.824356</td>\n",
       "      <td>0.813376</td>\n",
       "      <td>0.577836</td>\n",
       "      <td>29.890949</td>\n",
       "      <td>303.040949</td>\n",
       "      <td>0.210209</td>\n",
       "      <td>0.907059</td>\n",
       "      <td>0.968244</td>\n",
       "      <td>0.976020</td>\n",
       "      <td>6.230337</td>\n",
       "      <td>0.673972</td>\n",
       "    </tr>\n",
       "    <tr>\n",
       "      <th>mean</th>\n",
       "      <td>1.004234</td>\n",
       "      <td>0.695226</td>\n",
       "      <td>0.439253</td>\n",
       "      <td>25.679101</td>\n",
       "      <td>298.829101</td>\n",
       "      <td>0.156955</td>\n",
       "      <td>0.863685</td>\n",
       "      <td>0.960042</td>\n",
       "      <td>0.973314</td>\n",
       "      <td>1.693220</td>\n",
       "      <td>0.673856</td>\n",
       "    </tr>\n",
       "    <tr>\n",
       "      <th>median</th>\n",
       "      <td>1.051343</td>\n",
       "      <td>0.728591</td>\n",
       "      <td>0.462851</td>\n",
       "      <td>25.549557</td>\n",
       "      <td>298.704816</td>\n",
       "      <td>0.163518</td>\n",
       "      <td>0.862504</td>\n",
       "      <td>0.960515</td>\n",
       "      <td>0.973465</td>\n",
       "      <td>1.860348</td>\n",
       "      <td>0.673853</td>\n",
       "    </tr>\n",
       "    <tr>\n",
       "      <th>min</th>\n",
       "      <td>-0.139684</td>\n",
       "      <td>0.057734</td>\n",
       "      <td>0.020029</td>\n",
       "      <td>24.946229</td>\n",
       "      <td>298.096229</td>\n",
       "      <td>0.038789</td>\n",
       "      <td>0.827631</td>\n",
       "      <td>0.948603</td>\n",
       "      <td>0.969539</td>\n",
       "      <td>0.000000</td>\n",
       "      <td>0.673762</td>\n",
       "    </tr>\n",
       "    <tr>\n",
       "      <th>mode</th>\n",
       "      <td>1.074093</td>\n",
       "      <td>0.759826</td>\n",
       "      <td>0.490374</td>\n",
       "      <td>25.421164</td>\n",
       "      <td>298.579211</td>\n",
       "      <td>0.163518</td>\n",
       "      <td>0.862504</td>\n",
       "      <td>0.961979</td>\n",
       "      <td>0.973954</td>\n",
       "      <td>0.930388</td>\n",
       "      <td>0.673840</td>\n",
       "    </tr>\n",
       "    <tr>\n",
       "      <th>stdDev</th>\n",
       "      <td>0.357172</td>\n",
       "      <td>0.119245</td>\n",
       "      <td>0.097244</td>\n",
       "      <td>0.560218</td>\n",
       "      <td>0.560218</td>\n",
       "      <td>0.030689</td>\n",
       "      <td>0.011948</td>\n",
       "      <td>0.003572</td>\n",
       "      <td>0.001179</td>\n",
       "      <td>0.962314</td>\n",
       "      <td>0.000031</td>\n",
       "    </tr>\n",
       "  </tbody>\n",
       "</table>\n",
       "</div>"
      ],
      "text/plain": [
       "             LAI      NDVI      SAVI       Ts_c        Ts_k    albedo  \\\n",
       "max     1.824356  0.813376  0.577836  29.890949  303.040949  0.210209   \n",
       "mean    1.004234  0.695226  0.439253  25.679101  298.829101  0.156955   \n",
       "median  1.051343  0.728591  0.462851  25.549557  298.704816  0.163518   \n",
       "min    -0.139684  0.057734  0.020029  24.946229  298.096229  0.038789   \n",
       "mode    1.074093  0.759826  0.490374  25.421164  298.579211  0.163518   \n",
       "stdDev  0.357172  0.119245  0.097244   0.560218    0.560218  0.030689   \n",
       "\n",
       "        cos_theta       e_0      e_NB     slope      t_sw  \n",
       "max      0.907059  0.968244  0.976020  6.230337  0.673972  \n",
       "mean     0.863685  0.960042  0.973314  1.693220  0.673856  \n",
       "median   0.862504  0.960515  0.973465  1.860348  0.673853  \n",
       "min      0.827631  0.948603  0.969539  0.000000  0.673762  \n",
       "mode     0.862504  0.961979  0.973954  0.930388  0.673840  \n",
       "stdDev   0.011948  0.003572  0.001179  0.962314  0.000031  "
      ]
     },
     "metadata": {},
     "output_type": "display_data"
    },
    {
     "name": "stdout",
     "output_type": "stream",
     "text": [
      "Procesando Rn de imagen 03-04-2022...\n"
     ]
    },
    {
     "data": {
      "text/html": [
       "<div>\n",
       "<style scoped>\n",
       "    .dataframe tbody tr th:only-of-type {\n",
       "        vertical-align: middle;\n",
       "    }\n",
       "\n",
       "    .dataframe tbody tr th {\n",
       "        vertical-align: top;\n",
       "    }\n",
       "\n",
       "    .dataframe thead th {\n",
       "        text-align: right;\n",
       "    }\n",
       "</style>\n",
       "<table border=\"1\" class=\"dataframe\">\n",
       "  <thead>\n",
       "    <tr style=\"text-align: right;\">\n",
       "      <th></th>\n",
       "      <th>R_l_in</th>\n",
       "      <th>R_l_out</th>\n",
       "      <th>R_n</th>\n",
       "      <th>R_s_in</th>\n",
       "    </tr>\n",
       "  </thead>\n",
       "  <tbody>\n",
       "    <tr>\n",
       "      <th>max</th>\n",
       "      <td>325.16</td>\n",
       "      <td>397.17</td>\n",
       "      <td>651.92</td>\n",
       "      <td>826.90</td>\n",
       "    </tr>\n",
       "    <tr>\n",
       "      <th>mean</th>\n",
       "      <td>304.04</td>\n",
       "      <td>373.48</td>\n",
       "      <td>563.97</td>\n",
       "      <td>792.66</td>\n",
       "    </tr>\n",
       "    <tr>\n",
       "      <th>median</th>\n",
       "      <td>303.31</td>\n",
       "      <td>372.68</td>\n",
       "      <td>561.54</td>\n",
       "      <td>792.69</td>\n",
       "    </tr>\n",
       "    <tr>\n",
       "      <th>min</th>\n",
       "      <td>301.07</td>\n",
       "      <td>369.43</td>\n",
       "      <td>517.42</td>\n",
       "      <td>758.15</td>\n",
       "    </tr>\n",
       "    <tr>\n",
       "      <th>mode</th>\n",
       "      <td>303.18</td>\n",
       "      <td>372.43</td>\n",
       "      <td>560.45</td>\n",
       "      <td>791.21</td>\n",
       "    </tr>\n",
       "    <tr>\n",
       "      <th>stdDev</th>\n",
       "      <td>2.54</td>\n",
       "      <td>2.87</td>\n",
       "      <td>18.29</td>\n",
       "      <td>10.70</td>\n",
       "    </tr>\n",
       "  </tbody>\n",
       "</table>\n",
       "</div>"
      ],
      "text/plain": [
       "        R_l_in  R_l_out     R_n  R_s_in\n",
       "max     325.16   397.17  651.92  826.90\n",
       "mean    304.04   373.48  563.97  792.66\n",
       "median  303.31   372.68  561.54  792.69\n",
       "min     301.07   369.43  517.42  758.15\n",
       "mode    303.18   372.43  560.45  791.21\n",
       "stdDev    2.54     2.87   18.29   10.70"
      ]
     },
     "metadata": {},
     "output_type": "display_data"
    },
    {
     "data": {
      "text/html": [
       "<div>\n",
       "<style scoped>\n",
       "    .dataframe tbody tr th:only-of-type {\n",
       "        vertical-align: middle;\n",
       "    }\n",
       "\n",
       "    .dataframe tbody tr th {\n",
       "        vertical-align: top;\n",
       "    }\n",
       "\n",
       "    .dataframe thead th {\n",
       "        text-align: right;\n",
       "    }\n",
       "</style>\n",
       "<table border=\"1\" class=\"dataframe\">\n",
       "  <thead>\n",
       "    <tr style=\"text-align: right;\">\n",
       "      <th></th>\n",
       "      <th>LAI</th>\n",
       "      <th>NDVI</th>\n",
       "      <th>SAVI</th>\n",
       "      <th>Ts_c</th>\n",
       "      <th>Ts_k</th>\n",
       "      <th>albedo</th>\n",
       "      <th>cos_theta</th>\n",
       "      <th>e_0</th>\n",
       "      <th>e_NB</th>\n",
       "      <th>slope</th>\n",
       "      <th>t_sw</th>\n",
       "    </tr>\n",
       "  </thead>\n",
       "  <tbody>\n",
       "    <tr>\n",
       "      <th>max</th>\n",
       "      <td>1.517619</td>\n",
       "      <td>0.768674</td>\n",
       "      <td>0.541722</td>\n",
       "      <td>18.555802</td>\n",
       "      <td>291.705802</td>\n",
       "      <td>0.225250</td>\n",
       "      <td>0.898770</td>\n",
       "      <td>0.965176</td>\n",
       "      <td>0.975008</td>\n",
       "      <td>6.230337</td>\n",
       "      <td>0.673434</td>\n",
       "    </tr>\n",
       "    <tr>\n",
       "      <th>mean</th>\n",
       "      <td>1.052980</td>\n",
       "      <td>0.681717</td>\n",
       "      <td>0.459726</td>\n",
       "      <td>14.614110</td>\n",
       "      <td>287.764110</td>\n",
       "      <td>0.185776</td>\n",
       "      <td>0.861553</td>\n",
       "      <td>0.960530</td>\n",
       "      <td>0.973475</td>\n",
       "      <td>1.693220</td>\n",
       "      <td>0.673322</td>\n",
       "    </tr>\n",
       "    <tr>\n",
       "      <th>median</th>\n",
       "      <td>1.066526</td>\n",
       "      <td>0.689509</td>\n",
       "      <td>0.465979</td>\n",
       "      <td>14.452101</td>\n",
       "      <td>287.608260</td>\n",
       "      <td>0.188258</td>\n",
       "      <td>0.861571</td>\n",
       "      <td>0.960665</td>\n",
       "      <td>0.973524</td>\n",
       "      <td>1.860348</td>\n",
       "      <td>0.673318</td>\n",
       "    </tr>\n",
       "    <tr>\n",
       "      <th>min</th>\n",
       "      <td>0.044078</td>\n",
       "      <td>0.238657</td>\n",
       "      <td>0.123197</td>\n",
       "      <td>13.913064</td>\n",
       "      <td>287.063064</td>\n",
       "      <td>0.100740</td>\n",
       "      <td>0.824045</td>\n",
       "      <td>0.950441</td>\n",
       "      <td>0.970145</td>\n",
       "      <td>0.000000</td>\n",
       "      <td>0.673235</td>\n",
       "    </tr>\n",
       "    <tr>\n",
       "      <th>mode</th>\n",
       "      <td>1.066526</td>\n",
       "      <td>0.689509</td>\n",
       "      <td>0.471701</td>\n",
       "      <td>14.421545</td>\n",
       "      <td>287.577863</td>\n",
       "      <td>0.203374</td>\n",
       "      <td>0.859979</td>\n",
       "      <td>0.960665</td>\n",
       "      <td>0.973524</td>\n",
       "      <td>0.930388</td>\n",
       "      <td>0.673299</td>\n",
       "    </tr>\n",
       "    <tr>\n",
       "      <th>stdDev</th>\n",
       "      <td>0.197198</td>\n",
       "      <td>0.047824</td>\n",
       "      <td>0.047124</td>\n",
       "      <td>0.577501</td>\n",
       "      <td>0.577501</td>\n",
       "      <td>0.020323</td>\n",
       "      <td>0.011642</td>\n",
       "      <td>0.001972</td>\n",
       "      <td>0.000651</td>\n",
       "      <td>0.962314</td>\n",
       "      <td>0.000029</td>\n",
       "    </tr>\n",
       "  </tbody>\n",
       "</table>\n",
       "</div>"
      ],
      "text/plain": [
       "             LAI      NDVI      SAVI       Ts_c        Ts_k    albedo  \\\n",
       "max     1.517619  0.768674  0.541722  18.555802  291.705802  0.225250   \n",
       "mean    1.052980  0.681717  0.459726  14.614110  287.764110  0.185776   \n",
       "median  1.066526  0.689509  0.465979  14.452101  287.608260  0.188258   \n",
       "min     0.044078  0.238657  0.123197  13.913064  287.063064  0.100740   \n",
       "mode    1.066526  0.689509  0.471701  14.421545  287.577863  0.203374   \n",
       "stdDev  0.197198  0.047824  0.047124   0.577501    0.577501  0.020323   \n",
       "\n",
       "        cos_theta       e_0      e_NB     slope      t_sw  \n",
       "max      0.898770  0.965176  0.975008  6.230337  0.673434  \n",
       "mean     0.861553  0.960530  0.973475  1.693220  0.673322  \n",
       "median   0.861571  0.960665  0.973524  1.860348  0.673318  \n",
       "min      0.824045  0.950441  0.970145  0.000000  0.673235  \n",
       "mode     0.859979  0.960665  0.973524  0.930388  0.673299  \n",
       "stdDev   0.011642  0.001972  0.000651  0.962314  0.000029  "
      ]
     },
     "metadata": {},
     "output_type": "display_data"
    },
    {
     "name": "stdout",
     "output_type": "stream",
     "text": [
      "Procesando Rn de imagen 21-05-2022...\n"
     ]
    },
    {
     "data": {
      "text/html": [
       "<div>\n",
       "<style scoped>\n",
       "    .dataframe tbody tr th:only-of-type {\n",
       "        vertical-align: middle;\n",
       "    }\n",
       "\n",
       "    .dataframe tbody tr th {\n",
       "        vertical-align: top;\n",
       "    }\n",
       "\n",
       "    .dataframe thead th {\n",
       "        text-align: right;\n",
       "    }\n",
       "</style>\n",
       "<table border=\"1\" class=\"dataframe\">\n",
       "  <thead>\n",
       "    <tr style=\"text-align: right;\">\n",
       "      <th></th>\n",
       "      <th>R_l_in</th>\n",
       "      <th>R_l_out</th>\n",
       "      <th>R_n</th>\n",
       "      <th>R_s_in</th>\n",
       "    </tr>\n",
       "  </thead>\n",
       "  <tbody>\n",
       "    <tr>\n",
       "      <th>max</th>\n",
       "      <td>338.32</td>\n",
       "      <td>410.17</td>\n",
       "      <td>539.62</td>\n",
       "      <td>737.96</td>\n",
       "    </tr>\n",
       "    <tr>\n",
       "      <th>mean</th>\n",
       "      <td>322.77</td>\n",
       "      <td>391.88</td>\n",
       "      <td>467.75</td>\n",
       "      <td>704.59</td>\n",
       "    </tr>\n",
       "    <tr>\n",
       "      <th>median</th>\n",
       "      <td>323.05</td>\n",
       "      <td>392.11</td>\n",
       "      <td>467.49</td>\n",
       "      <td>702.58</td>\n",
       "    </tr>\n",
       "    <tr>\n",
       "      <th>min</th>\n",
       "      <td>308.27</td>\n",
       "      <td>376.28</td>\n",
       "      <td>401.61</td>\n",
       "      <td>670.11</td>\n",
       "    </tr>\n",
       "    <tr>\n",
       "      <th>mode</th>\n",
       "      <td>324.82</td>\n",
       "      <td>393.88</td>\n",
       "      <td>471.53</td>\n",
       "      <td>708.69</td>\n",
       "    </tr>\n",
       "    <tr>\n",
       "      <th>stdDev</th>\n",
       "      <td>4.45</td>\n",
       "      <td>5.13</td>\n",
       "      <td>21.65</td>\n",
       "      <td>12.03</td>\n",
       "    </tr>\n",
       "  </tbody>\n",
       "</table>\n",
       "</div>"
      ],
      "text/plain": [
       "        R_l_in  R_l_out     R_n  R_s_in\n",
       "max     338.32   410.17  539.62  737.96\n",
       "mean    322.77   391.88  467.75  704.59\n",
       "median  323.05   392.11  467.49  702.58\n",
       "min     308.27   376.28  401.61  670.11\n",
       "mode    324.82   393.88  471.53  708.69\n",
       "stdDev    4.45     5.13   21.65   12.03"
      ]
     },
     "metadata": {},
     "output_type": "display_data"
    },
    {
     "data": {
      "text/html": [
       "<div>\n",
       "<style scoped>\n",
       "    .dataframe tbody tr th:only-of-type {\n",
       "        vertical-align: middle;\n",
       "    }\n",
       "\n",
       "    .dataframe tbody tr th {\n",
       "        vertical-align: top;\n",
       "    }\n",
       "\n",
       "    .dataframe thead th {\n",
       "        text-align: right;\n",
       "    }\n",
       "</style>\n",
       "<table border=\"1\" class=\"dataframe\">\n",
       "  <thead>\n",
       "    <tr style=\"text-align: right;\">\n",
       "      <th></th>\n",
       "      <th>LAI</th>\n",
       "      <th>NDVI</th>\n",
       "      <th>SAVI</th>\n",
       "      <th>Ts_c</th>\n",
       "      <th>Ts_k</th>\n",
       "      <th>albedo</th>\n",
       "      <th>cos_theta</th>\n",
       "      <th>e_0</th>\n",
       "      <th>e_NB</th>\n",
       "      <th>slope</th>\n",
       "      <th>t_sw</th>\n",
       "    </tr>\n",
       "  </thead>\n",
       "  <tbody>\n",
       "    <tr>\n",
       "      <th>max</th>\n",
       "      <td>0.872771</td>\n",
       "      <td>0.630935</td>\n",
       "      <td>0.423360</td>\n",
       "      <td>21.788111</td>\n",
       "      <td>294.938111</td>\n",
       "      <td>0.303627</td>\n",
       "      <td>0.833784</td>\n",
       "      <td>0.958728</td>\n",
       "      <td>0.972880</td>\n",
       "      <td>6.230337</td>\n",
       "      <td>0.663886</td>\n",
       "    </tr>\n",
       "    <tr>\n",
       "      <th>mean</th>\n",
       "      <td>0.239493</td>\n",
       "      <td>0.317291</td>\n",
       "      <td>0.213517</td>\n",
       "      <td>18.712963</td>\n",
       "      <td>291.862963</td>\n",
       "      <td>0.216256</td>\n",
       "      <td>0.796123</td>\n",
       "      <td>0.952395</td>\n",
       "      <td>0.970790</td>\n",
       "      <td>1.693220</td>\n",
       "      <td>0.663759</td>\n",
       "    </tr>\n",
       "    <tr>\n",
       "      <th>median</th>\n",
       "      <td>0.213040</td>\n",
       "      <td>0.295855</td>\n",
       "      <td>0.204040</td>\n",
       "      <td>18.795583</td>\n",
       "      <td>291.936469</td>\n",
       "      <td>0.215272</td>\n",
       "      <td>0.793724</td>\n",
       "      <td>0.952119</td>\n",
       "      <td>0.970695</td>\n",
       "      <td>1.860348</td>\n",
       "      <td>0.663757</td>\n",
       "    </tr>\n",
       "    <tr>\n",
       "      <th>min</th>\n",
       "      <td>-0.051337</td>\n",
       "      <td>0.141291</td>\n",
       "      <td>0.071783</td>\n",
       "      <td>15.445496</td>\n",
       "      <td>288.595496</td>\n",
       "      <td>0.122331</td>\n",
       "      <td>0.757104</td>\n",
       "      <td>0.949487</td>\n",
       "      <td>0.969831</td>\n",
       "      <td>0.000000</td>\n",
       "      <td>0.663650</td>\n",
       "    </tr>\n",
       "    <tr>\n",
       "      <th>mode</th>\n",
       "      <td>0.208983</td>\n",
       "      <td>0.274540</td>\n",
       "      <td>0.194372</td>\n",
       "      <td>19.142274</td>\n",
       "      <td>292.297493</td>\n",
       "      <td>0.221216</td>\n",
       "      <td>0.793724</td>\n",
       "      <td>0.951936</td>\n",
       "      <td>0.970649</td>\n",
       "      <td>0.930388</td>\n",
       "      <td>0.663752</td>\n",
       "    </tr>\n",
       "    <tr>\n",
       "      <th>stdDev</th>\n",
       "      <td>0.106280</td>\n",
       "      <td>0.065850</td>\n",
       "      <td>0.040152</td>\n",
       "      <td>1.003001</td>\n",
       "      <td>1.003001</td>\n",
       "      <td>0.026690</td>\n",
       "      <td>0.013603</td>\n",
       "      <td>0.001063</td>\n",
       "      <td>0.000351</td>\n",
       "      <td>0.962314</td>\n",
       "      <td>0.000034</td>\n",
       "    </tr>\n",
       "  </tbody>\n",
       "</table>\n",
       "</div>"
      ],
      "text/plain": [
       "             LAI      NDVI      SAVI       Ts_c        Ts_k    albedo  \\\n",
       "max     0.872771  0.630935  0.423360  21.788111  294.938111  0.303627   \n",
       "mean    0.239493  0.317291  0.213517  18.712963  291.862963  0.216256   \n",
       "median  0.213040  0.295855  0.204040  18.795583  291.936469  0.215272   \n",
       "min    -0.051337  0.141291  0.071783  15.445496  288.595496  0.122331   \n",
       "mode    0.208983  0.274540  0.194372  19.142274  292.297493  0.221216   \n",
       "stdDev  0.106280  0.065850  0.040152   1.003001    1.003001  0.026690   \n",
       "\n",
       "        cos_theta       e_0      e_NB     slope      t_sw  \n",
       "max      0.833784  0.958728  0.972880  6.230337  0.663886  \n",
       "mean     0.796123  0.952395  0.970790  1.693220  0.663759  \n",
       "median   0.793724  0.952119  0.970695  1.860348  0.663757  \n",
       "min      0.757104  0.949487  0.969831  0.000000  0.663650  \n",
       "mode     0.793724  0.951936  0.970649  0.930388  0.663752  \n",
       "stdDev   0.013603  0.001063  0.000351  0.962314  0.000034  "
      ]
     },
     "metadata": {},
     "output_type": "display_data"
    },
    {
     "name": "stdout",
     "output_type": "stream",
     "text": [
      "Procesando Rn de imagen 29-05-2022...\n"
     ]
    },
    {
     "data": {
      "text/html": [
       "<div>\n",
       "<style scoped>\n",
       "    .dataframe tbody tr th:only-of-type {\n",
       "        vertical-align: middle;\n",
       "    }\n",
       "\n",
       "    .dataframe tbody tr th {\n",
       "        vertical-align: top;\n",
       "    }\n",
       "\n",
       "    .dataframe thead th {\n",
       "        text-align: right;\n",
       "    }\n",
       "</style>\n",
       "<table border=\"1\" class=\"dataframe\">\n",
       "  <thead>\n",
       "    <tr style=\"text-align: right;\">\n",
       "      <th></th>\n",
       "      <th>R_l_in</th>\n",
       "      <th>R_l_out</th>\n",
       "      <th>R_n</th>\n",
       "      <th>R_s_in</th>\n",
       "    </tr>\n",
       "  </thead>\n",
       "  <tbody>\n",
       "    <tr>\n",
       "      <th>max</th>\n",
       "      <td>380.19</td>\n",
       "      <td>460.74</td>\n",
       "      <td>555.69</td>\n",
       "      <td>724.77</td>\n",
       "    </tr>\n",
       "    <tr>\n",
       "      <th>mean</th>\n",
       "      <td>363.05</td>\n",
       "      <td>440.46</td>\n",
       "      <td>453.25</td>\n",
       "      <td>690.64</td>\n",
       "    </tr>\n",
       "    <tr>\n",
       "      <th>median</th>\n",
       "      <td>363.11</td>\n",
       "      <td>440.60</td>\n",
       "      <td>454.50</td>\n",
       "      <td>688.72</td>\n",
       "    </tr>\n",
       "    <tr>\n",
       "      <th>min</th>\n",
       "      <td>344.59</td>\n",
       "      <td>420.77</td>\n",
       "      <td>370.26</td>\n",
       "      <td>655.01</td>\n",
       "    </tr>\n",
       "    <tr>\n",
       "      <th>mode</th>\n",
       "      <td>360.11</td>\n",
       "      <td>436.87</td>\n",
       "      <td>452.52</td>\n",
       "      <td>688.72</td>\n",
       "    </tr>\n",
       "    <tr>\n",
       "      <th>stdDev</th>\n",
       "      <td>5.11</td>\n",
       "      <td>5.87</td>\n",
       "      <td>29.46</td>\n",
       "      <td>12.26</td>\n",
       "    </tr>\n",
       "  </tbody>\n",
       "</table>\n",
       "</div>"
      ],
      "text/plain": [
       "        R_l_in  R_l_out     R_n  R_s_in\n",
       "max     380.19   460.74  555.69  724.77\n",
       "mean    363.05   440.46  453.25  690.64\n",
       "median  363.11   440.60  454.50  688.72\n",
       "min     344.59   420.77  370.26  655.01\n",
       "mode    360.11   436.87  452.52  688.72\n",
       "stdDev    5.11     5.87   29.46   12.26"
      ]
     },
     "metadata": {},
     "output_type": "display_data"
    },
    {
     "data": {
      "text/html": [
       "<div>\n",
       "<style scoped>\n",
       "    .dataframe tbody tr th:only-of-type {\n",
       "        vertical-align: middle;\n",
       "    }\n",
       "\n",
       "    .dataframe tbody tr th {\n",
       "        vertical-align: top;\n",
       "    }\n",
       "\n",
       "    .dataframe thead th {\n",
       "        text-align: right;\n",
       "    }\n",
       "</style>\n",
       "<table border=\"1\" class=\"dataframe\">\n",
       "  <thead>\n",
       "    <tr style=\"text-align: right;\">\n",
       "      <th></th>\n",
       "      <th>LAI</th>\n",
       "      <th>NDVI</th>\n",
       "      <th>SAVI</th>\n",
       "      <th>Ts_c</th>\n",
       "      <th>Ts_k</th>\n",
       "      <th>albedo</th>\n",
       "      <th>cos_theta</th>\n",
       "      <th>e_0</th>\n",
       "      <th>e_NB</th>\n",
       "      <th>slope</th>\n",
       "      <th>t_sw</th>\n",
       "    </tr>\n",
       "  </thead>\n",
       "  <tbody>\n",
       "    <tr>\n",
       "      <th>max</th>\n",
       "      <td>0.990326</td>\n",
       "      <td>0.677419</td>\n",
       "      <td>0.450411</td>\n",
       "      <td>30.512336</td>\n",
       "      <td>303.662336</td>\n",
       "      <td>0.318548</td>\n",
       "      <td>0.823314</td>\n",
       "      <td>0.959903</td>\n",
       "      <td>0.973268</td>\n",
       "      <td>6.230337</td>\n",
       "      <td>0.662229</td>\n",
       "    </tr>\n",
       "    <tr>\n",
       "      <th>mean</th>\n",
       "      <td>0.222009</td>\n",
       "      <td>0.311605</td>\n",
       "      <td>0.205215</td>\n",
       "      <td>27.381695</td>\n",
       "      <td>300.531695</td>\n",
       "      <td>0.206426</td>\n",
       "      <td>0.784578</td>\n",
       "      <td>0.952220</td>\n",
       "      <td>0.970733</td>\n",
       "      <td>1.693220</td>\n",
       "      <td>0.662094</td>\n",
       "    </tr>\n",
       "    <tr>\n",
       "      <th>median</th>\n",
       "      <td>0.206896</td>\n",
       "      <td>0.298723</td>\n",
       "      <td>0.202047</td>\n",
       "      <td>27.423484</td>\n",
       "      <td>300.577443</td>\n",
       "      <td>0.202709</td>\n",
       "      <td>0.782455</td>\n",
       "      <td>0.952056</td>\n",
       "      <td>0.970681</td>\n",
       "      <td>1.860348</td>\n",
       "      <td>0.662093</td>\n",
       "    </tr>\n",
       "    <tr>\n",
       "      <th>min</th>\n",
       "      <td>-0.081507</td>\n",
       "      <td>0.123817</td>\n",
       "      <td>0.054575</td>\n",
       "      <td>23.488523</td>\n",
       "      <td>296.638523</td>\n",
       "      <td>0.092930</td>\n",
       "      <td>0.744036</td>\n",
       "      <td>0.949185</td>\n",
       "      <td>0.969731</td>\n",
       "      <td>0.000000</td>\n",
       "      <td>0.661980</td>\n",
       "    </tr>\n",
       "    <tr>\n",
       "      <th>mode</th>\n",
       "      <td>0.199624</td>\n",
       "      <td>0.291091</td>\n",
       "      <td>0.206040</td>\n",
       "      <td>26.858737</td>\n",
       "      <td>299.922160</td>\n",
       "      <td>0.195787</td>\n",
       "      <td>0.782455</td>\n",
       "      <td>0.952180</td>\n",
       "      <td>0.970666</td>\n",
       "      <td>0.930388</td>\n",
       "      <td>0.662099</td>\n",
       "    </tr>\n",
       "    <tr>\n",
       "      <th>stdDev</th>\n",
       "      <td>0.122167</td>\n",
       "      <td>0.073731</td>\n",
       "      <td>0.047414</td>\n",
       "      <td>1.056719</td>\n",
       "      <td>1.056719</td>\n",
       "      <td>0.039338</td>\n",
       "      <td>0.013941</td>\n",
       "      <td>0.001222</td>\n",
       "      <td>0.000403</td>\n",
       "      <td>0.962314</td>\n",
       "      <td>0.000036</td>\n",
       "    </tr>\n",
       "  </tbody>\n",
       "</table>\n",
       "</div>"
      ],
      "text/plain": [
       "             LAI      NDVI      SAVI       Ts_c        Ts_k    albedo  \\\n",
       "max     0.990326  0.677419  0.450411  30.512336  303.662336  0.318548   \n",
       "mean    0.222009  0.311605  0.205215  27.381695  300.531695  0.206426   \n",
       "median  0.206896  0.298723  0.202047  27.423484  300.577443  0.202709   \n",
       "min    -0.081507  0.123817  0.054575  23.488523  296.638523  0.092930   \n",
       "mode    0.199624  0.291091  0.206040  26.858737  299.922160  0.195787   \n",
       "stdDev  0.122167  0.073731  0.047414   1.056719    1.056719  0.039338   \n",
       "\n",
       "        cos_theta       e_0      e_NB     slope      t_sw  \n",
       "max      0.823314  0.959903  0.973268  6.230337  0.662229  \n",
       "mean     0.784578  0.952220  0.970733  1.693220  0.662094  \n",
       "median   0.782455  0.952056  0.970681  1.860348  0.662093  \n",
       "min      0.744036  0.949185  0.969731  0.000000  0.661980  \n",
       "mode     0.782455  0.952180  0.970666  0.930388  0.662099  \n",
       "stdDev   0.013941  0.001222  0.000403  0.962314  0.000036  "
      ]
     },
     "metadata": {},
     "output_type": "display_data"
    },
    {
     "name": "stdout",
     "output_type": "stream",
     "text": [
      "Procesando Rn de imagen 14-06-2022...\n"
     ]
    },
    {
     "data": {
      "text/html": [
       "<div>\n",
       "<style scoped>\n",
       "    .dataframe tbody tr th:only-of-type {\n",
       "        vertical-align: middle;\n",
       "    }\n",
       "\n",
       "    .dataframe tbody tr th {\n",
       "        vertical-align: top;\n",
       "    }\n",
       "\n",
       "    .dataframe thead th {\n",
       "        text-align: right;\n",
       "    }\n",
       "</style>\n",
       "<table border=\"1\" class=\"dataframe\">\n",
       "  <thead>\n",
       "    <tr style=\"text-align: right;\">\n",
       "      <th></th>\n",
       "      <th>R_l_in</th>\n",
       "      <th>R_l_out</th>\n",
       "      <th>R_n</th>\n",
       "      <th>R_s_in</th>\n",
       "    </tr>\n",
       "  </thead>\n",
       "  <tbody>\n",
       "    <tr>\n",
       "      <th>max</th>\n",
       "      <td>386.03</td>\n",
       "      <td>466.33</td>\n",
       "      <td>522.68</td>\n",
       "      <td>704.59</td>\n",
       "    </tr>\n",
       "    <tr>\n",
       "      <th>mean</th>\n",
       "      <td>369.76</td>\n",
       "      <td>447.81</td>\n",
       "      <td>445.21</td>\n",
       "      <td>668.80</td>\n",
       "    </tr>\n",
       "    <tr>\n",
       "      <th>median</th>\n",
       "      <td>367.87</td>\n",
       "      <td>445.64</td>\n",
       "      <td>444.52</td>\n",
       "      <td>667.30</td>\n",
       "    </tr>\n",
       "    <tr>\n",
       "      <th>min</th>\n",
       "      <td>347.97</td>\n",
       "      <td>423.42</td>\n",
       "      <td>350.80</td>\n",
       "      <td>631.85</td>\n",
       "    </tr>\n",
       "    <tr>\n",
       "      <th>mode</th>\n",
       "      <td>362.63</td>\n",
       "      <td>440.12</td>\n",
       "      <td>439.52</td>\n",
       "      <td>666.68</td>\n",
       "    </tr>\n",
       "    <tr>\n",
       "      <th>stdDev</th>\n",
       "      <td>7.99</td>\n",
       "      <td>9.11</td>\n",
       "      <td>29.51</td>\n",
       "      <td>12.60</td>\n",
       "    </tr>\n",
       "  </tbody>\n",
       "</table>\n",
       "</div>"
      ],
      "text/plain": [
       "        R_l_in  R_l_out     R_n  R_s_in\n",
       "max     386.03   466.33  522.68  704.59\n",
       "mean    369.76   447.81  445.21  668.80\n",
       "median  367.87   445.64  444.52  667.30\n",
       "min     347.97   423.42  350.80  631.85\n",
       "mode    362.63   440.12  439.52  666.68\n",
       "stdDev    7.99     9.11   29.51   12.60"
      ]
     },
     "metadata": {},
     "output_type": "display_data"
    },
    {
     "data": {
      "text/html": [
       "<div>\n",
       "<style scoped>\n",
       "    .dataframe tbody tr th:only-of-type {\n",
       "        vertical-align: middle;\n",
       "    }\n",
       "\n",
       "    .dataframe tbody tr th {\n",
       "        vertical-align: top;\n",
       "    }\n",
       "\n",
       "    .dataframe thead th {\n",
       "        text-align: right;\n",
       "    }\n",
       "</style>\n",
       "<table border=\"1\" class=\"dataframe\">\n",
       "  <thead>\n",
       "    <tr style=\"text-align: right;\">\n",
       "      <th></th>\n",
       "      <th>LAI</th>\n",
       "      <th>NDVI</th>\n",
       "      <th>SAVI</th>\n",
       "      <th>Ts_c</th>\n",
       "      <th>Ts_k</th>\n",
       "      <th>albedo</th>\n",
       "      <th>cos_theta</th>\n",
       "      <th>e_0</th>\n",
       "      <th>e_NB</th>\n",
       "      <th>slope</th>\n",
       "      <th>t_sw</th>\n",
       "    </tr>\n",
       "  </thead>\n",
       "  <tbody>\n",
       "    <tr>\n",
       "      <th>max</th>\n",
       "      <td>0.687171</td>\n",
       "      <td>0.564996</td>\n",
       "      <td>0.374299</td>\n",
       "      <td>31.961642</td>\n",
       "      <td>305.111642</td>\n",
       "      <td>0.314650</td>\n",
       "      <td>0.807201</td>\n",
       "      <td>0.956872</td>\n",
       "      <td>0.972268</td>\n",
       "      <td>6.230337</td>\n",
       "      <td>0.659323</td>\n",
       "    </tr>\n",
       "    <tr>\n",
       "      <th>mean</th>\n",
       "      <td>0.145284</td>\n",
       "      <td>0.264075</td>\n",
       "      <td>0.168860</td>\n",
       "      <td>28.679619</td>\n",
       "      <td>301.829619</td>\n",
       "      <td>0.190679</td>\n",
       "      <td>0.766265</td>\n",
       "      <td>0.951453</td>\n",
       "      <td>0.970479</td>\n",
       "      <td>1.693220</td>\n",
       "      <td>0.659188</td>\n",
       "    </tr>\n",
       "    <tr>\n",
       "      <th>median</th>\n",
       "      <td>0.181641</td>\n",
       "      <td>0.278310</td>\n",
       "      <td>0.188720</td>\n",
       "      <td>28.280544</td>\n",
       "      <td>301.422697</td>\n",
       "      <td>0.192800</td>\n",
       "      <td>0.764497</td>\n",
       "      <td>0.951812</td>\n",
       "      <td>0.970591</td>\n",
       "      <td>1.860348</td>\n",
       "      <td>0.659188</td>\n",
       "    </tr>\n",
       "    <tr>\n",
       "      <th>min</th>\n",
       "      <td>-0.114732</td>\n",
       "      <td>0.085178</td>\n",
       "      <td>0.035070</td>\n",
       "      <td>24.142331</td>\n",
       "      <td>297.292331</td>\n",
       "      <td>0.085689</td>\n",
       "      <td>0.723844</td>\n",
       "      <td>0.948853</td>\n",
       "      <td>0.969621</td>\n",
       "      <td>0.000000</td>\n",
       "      <td>0.659063</td>\n",
       "    </tr>\n",
       "    <tr>\n",
       "      <th>mode</th>\n",
       "      <td>0.232373</td>\n",
       "      <td>0.286231</td>\n",
       "      <td>0.206115</td>\n",
       "      <td>30.513420</td>\n",
       "      <td>300.390561</td>\n",
       "      <td>0.202662</td>\n",
       "      <td>0.763783</td>\n",
       "      <td>0.952056</td>\n",
       "      <td>0.970649</td>\n",
       "      <td>0.930388</td>\n",
       "      <td>0.659184</td>\n",
       "    </tr>\n",
       "    <tr>\n",
       "      <th>stdDev</th>\n",
       "      <td>0.141349</td>\n",
       "      <td>0.089439</td>\n",
       "      <td>0.065356</td>\n",
       "      <td>1.630059</td>\n",
       "      <td>1.630059</td>\n",
       "      <td>0.042736</td>\n",
       "      <td>0.014451</td>\n",
       "      <td>0.001413</td>\n",
       "      <td>0.000466</td>\n",
       "      <td>0.962314</td>\n",
       "      <td>0.000038</td>\n",
       "    </tr>\n",
       "  </tbody>\n",
       "</table>\n",
       "</div>"
      ],
      "text/plain": [
       "             LAI      NDVI      SAVI       Ts_c        Ts_k    albedo  \\\n",
       "max     0.687171  0.564996  0.374299  31.961642  305.111642  0.314650   \n",
       "mean    0.145284  0.264075  0.168860  28.679619  301.829619  0.190679   \n",
       "median  0.181641  0.278310  0.188720  28.280544  301.422697  0.192800   \n",
       "min    -0.114732  0.085178  0.035070  24.142331  297.292331  0.085689   \n",
       "mode    0.232373  0.286231  0.206115  30.513420  300.390561  0.202662   \n",
       "stdDev  0.141349  0.089439  0.065356   1.630059    1.630059  0.042736   \n",
       "\n",
       "        cos_theta       e_0      e_NB     slope      t_sw  \n",
       "max      0.807201  0.956872  0.972268  6.230337  0.659323  \n",
       "mean     0.766265  0.951453  0.970479  1.693220  0.659188  \n",
       "median   0.764497  0.951812  0.970591  1.860348  0.659188  \n",
       "min      0.723844  0.948853  0.969621  0.000000  0.659063  \n",
       "mode     0.763783  0.952056  0.970649  0.930388  0.659184  \n",
       "stdDev   0.014451  0.001413  0.000466  0.962314  0.000038  "
      ]
     },
     "metadata": {},
     "output_type": "display_data"
    }
   ],
   "source": [
    "for id_ in ids:\n",
    "\n",
    "    # Imagen Landsat\n",
    "    img_id = id_\n",
    "    landsat_id = img_id[11:12]\n",
    "    img_ee = ee.Image(img_id).clip(roi)\n",
    "    img_toa = convert_RAW_to_TOA(img_ee)\n",
    "    img_date = img_ee.date()\n",
    "    img_date_format1 = img_date.format('dd-MM-YYYY').getInfo()\n",
    "    img_date_format2 = img_date.format('YYYY-MM-dd').getInfo()\n",
    "\n",
    "    # Radiación Neta\n",
    "    R_n, img_sr_tasumi, img_productos, d2, doy = getRadiacionNeta(img_ee, roi, dem) # roi: Ferreñafe\n",
    "\n",
    "    # Imágenes\n",
    "    img_ndvi = img_productos.select('NDVI')\n",
    "    img_savi = img_productos.select('SAVI')\n",
    "    img_lai  = img_productos.select('LAI')\n",
    "    img_albedo = img_productos.select('albedo')\n",
    "    img_Ts_c = img_productos.select('Ts_c')\n",
    "    # img_Ts_K = img_productos.select('Ts_k')\n",
    "\n",
    "    # cos_theta_rel = img_productos.select('cos_theta')\n",
    "    # t_sw = img_productos.select('t_sw')\n",
    "    # e_0  = img_productos.select('e_0')\n",
    "\n",
    "    print(f'Procesando Rn de imagen {img_date_format1}...')\n",
    "    \n",
    "    \n",
    "    # Estadisticas --------------------------------------------------------------------------------\n",
    "    \n",
    "    R_n_stats = get_stats(R_n, predios_agricolas, 10)\n",
    "    R_n_stats_df = pd.DataFrame.from_dict(R_n_stats, orient='index').round(2)\n",
    "\n",
    "    img_prod_stats = get_stats(img_productos, predios_agricolas, 30)\n",
    "    img_prod_stats_df = pd.DataFrame.from_dict(img_prod_stats, orient='index')#.round(3)\n",
    "    \n",
    "    # Guardar dataframe\n",
    "    # img_prod_stats_df.to_csv(f'Estadisticas_{img_date_format2}.csv')\n",
    "    \n",
    "    # Mostrar dataframe\n",
    "    display(R_n_stats_df)\n",
    "#     print(f\"R_n min-max: {R_n_stats_df['R_n'].min()} - {R_n_stats_df['R_n'].max()}\")\n",
    "    display(img_prod_stats_df)"
   ]
  },
  {
   "cell_type": "markdown",
   "metadata": {
    "hidden": true,
    "id": "HSiqGa3uSDVV"
   },
   "source": [
    "Generando gráficas de cada variable para cada imagen."
   ]
  },
  {
   "cell_type": "code",
   "execution_count": null,
   "metadata": {
    "hidden": true,
    "id": "hPriIhSivNK6",
    "outputId": "cfc50989-7924-484d-970f-2db184feea25",
    "scrolled": false
   },
   "outputs": [],
   "source": [
    "# Inputs iniciales\n",
    "\n",
    "for id_ in ids:\n",
    "\n",
    "    # Imagen Landsat\n",
    "    img_id = id_\n",
    "    landsat_id = img_id[11:12]\n",
    "    img_ee = ee.Image(img_id).clip(roi)\n",
    "    img_toa = convert_RAW_to_TOA(img_ee)\n",
    "    img_date = img_ee.date()\n",
    "    img_date_format1 = img_date.format('dd-MM-YYYY').getInfo()\n",
    "    img_date_format2 = img_date.format('YYYY-MM-dd').getInfo()\n",
    "\n",
    "    # Radiación Neta\n",
    "    R_n, img_sr_tasumi, img_productos, d2, doy = getRadiacionNeta(img_ee, roi, dem) # roi: Ferreñafe\n",
    "\n",
    "    # Imágenes\n",
    "    img_ndvi = img_productos.select('NDVI')\n",
    "    img_savi = img_productos.select('SAVI')\n",
    "    img_lai  = img_productos.select('LAI')\n",
    "    img_albedo = img_productos.select('albedo')\n",
    "    img_Ts_c = img_productos.select('Ts_c')\n",
    "    # img_Ts_K = img_productos.select('Ts_k')\n",
    "\n",
    "    # cos_theta_rel = img_productos.select('cos_theta')\n",
    "    # t_sw = img_productos.select('t_sw')\n",
    "    # e_0  = img_productos.select('e_0')\n",
    "\n",
    "    print(f'Procesando Rn de imagen {img_date_format1}...')\n",
    "    \n",
    "    \n",
    "    # Estadisticas --------------------------------------------------------------------------------\n",
    "    \n",
    "    R_n_stats = get_stats(R_n, predios_agricolas, 10)\n",
    "    R_n_stats_df = pd.DataFrame.from_dict(R_n_stats, orient='index').round(2)\n",
    "\n",
    "#     img_prod_stats = get_stats(img_productos, predios_agricolas, 30)\n",
    "#     img_prod_stats_df = pd.DataFrame.from_dict(img_prod_stats, orient='index')#.round(3)\n",
    "\n",
    "    \n",
    "    # R_n --------------------------------------------------------------------------------------\n",
    "    \n",
    "    variable = 'Rn'\n",
    "    vis_params_R_n = {'min': 0, #R_n_stats['min']['R_n'],\n",
    "                      'max': 700, #R_n_stats['max']['R_n'], \n",
    "                      'palette': rn_cmp_r}#cmp.get_palette('gist_rainbow_r')} # gist_rainbow, RdYlGn_r\n",
    "\n",
    "    image = R_n.select('R_n').clip(predios_agricolas).blend(predios_vis)\n",
    "    vis_params = vis_params_R_n\n",
    "    variable = 'R_n'\n",
    "    label = '$[\\; W/m^2 \\;]$'\n",
    "    title_map = f'{variable}\\n{img_date_format1}'\n",
    "    ruta = f'{variable}_{img_date_format2}_L{landsat_id}'\n",
    "    \n",
    "    print(f\"R_n min-max: {R_n_stats_df['R_n'].min()} - {R_n_stats_df['R_n'].max()}\")\n",
    "    \n",
    "    get_grafica_cartoee_color(image, vis_params, title_map, label, save_fig=ruta)\n",
    "\n",
    "    \n",
    "    # Albedo --------------------------------------------------------------------------------------\n",
    "    \n",
    "#     vis_params_alb = {'min': 0, #img_prod_stats['min']['albedo'], \n",
    "#                       'max': 0.5, #img_prod_stats['max']['albedo'], \n",
    "#                       'palette': albedo_cmap} #cmp.get_palette('afmhot')} # RdYlGn_r\n",
    "\n",
    "#     image = img_albedo.clip(predios_agricolas).blend(predios_vis)\n",
    "#     # image = image.updateMask(image.lte(0.22).And(image.gt(0.17)))\n",
    "\n",
    "#     vis_params = vis_params_alb\n",
    "#     variable = 'Albedo'\n",
    "#     label = '$[\\; - \\;]$'\n",
    "#     title_map = f'{variable}\\n{img_date_format1}'\n",
    "#     ruta = f'{variable}_{img_date_format2}_L{landsat_id}'\n",
    "\n",
    "#     get_grafica_cartoee_color(image, vis_params, title_map, label, save_fig=ruta)\n",
    "\n",
    "    \n",
    "#     # Temperatura Superficial -------------------------------------------------------------------\n",
    "    \n",
    "#     vis_params_ts = {'min': 10,#img_prod_stats['min']['Ts_c'],\n",
    "#                      'max': 35,#img_prod_stats['max']['Ts_c'],\n",
    "#                      'palette': cmp.get_palette('RdYlBu_r')}\n",
    "\n",
    "#     image = img_Ts_c.clip(predios_agricolas).blend(predios_vis)\n",
    "#     vis_params = vis_params_ts\n",
    "#     variable = 'Ts'\n",
    "#     label = '$[\\; °C \\;]$'\n",
    "#     title_map = f'{variable}\\n{img_date_format1}'\n",
    "#     ruta = f'{variable}_{img_date_format2}_L{landsat_id}'\n",
    "\n",
    "#     get_grafica_cartoee_color(image, vis_params, title_map, label, save_fig=None)\n",
    "\n",
    "    \n",
    "    # NDVI --------------------------------------------------------------------------------------\n",
    "    \n",
    "#     vis_params_ndvi = {'min': -0.2, \n",
    "#                        'max': 1, # img_prod_stats['max']['NDVI'], \n",
    "#                        'palette': ndvi_cmap} #cmp.get_palette('ndvi')}\n",
    "\n",
    "#     image = img_ndvi.clip(predios_agricolas).blend(predios_vis)\n",
    "\n",
    "# #     if img_prod_stats['min']['NDVI'] < 0:\n",
    "#       # image = image.where(image.lte(0), 0) # Asignar valor 0 a negativos\n",
    "# #       image = image.updateMask(image.gt(0)) # Eliminar pixeles negativos y mantener positivos\n",
    "\n",
    "#     vis_params = vis_params_ndvi\n",
    "#     variable = 'NDVI'\n",
    "#     title_map = f'{variable}\\n{img_date_format1}'\n",
    "#     label = '$[\\; - \\;]$'\n",
    "#     ruta = f'{variable}_{img_date_format2}_L{landsat_id}'\n",
    "\n",
    "#     get_grafica_cartoee_color(image, vis_params, title_map, label, save_fig=ruta)\n",
    "\n",
    "    \n",
    "#     # LAI --------------------------------------------------------------------------------------\n",
    "    \n",
    "#     vis_params_lai = {'min': 0, \n",
    "#                       'max': img_prod_stats['max']['LAI'], \n",
    "#                       'palette': cmp.get_palette('RdYlGn')}\n",
    "\n",
    "#     image = img_lai.clip(predios_agricolas).blend(predios_vis)\n",
    "\n",
    "#     # if img_prod_stats['LAI']['min'] < 0:\n",
    "#       # image = image.where(image.lte(0), 0) # Asignar valor 0 a negativos\n",
    "#       # image = image.updateMask(image.gt(0)) # Eliminar pixeles negativos y mantener positivos\n",
    "    \n",
    "#     vis_params = vis_params_lai\n",
    "#     variable = 'LAI'\n",
    "#     title_map = f'{variable}\\n{img_date_format1}'\n",
    "#     label = '$[\\; - \\;]$'\n",
    "#     ruta = f'{title_map}_{img_date_format2}_L{landsat_id}'\n",
    "\n",
    "#     get_grafica_cartoee_color(image, vis_params, title_map, label, save_fig=None)\n",
    "    "
   ]
  },
  {
   "cell_type": "markdown",
   "metadata": {
    "heading_collapsed": true,
    "hidden": true,
    "id": "MMDMHZbYCQbN"
   },
   "source": [
    "###### Prueba: Elaboración de boxplot"
   ]
  },
  {
   "cell_type": "markdown",
   "metadata": {
    "hidden": true,
    "id": "aODXXjzh_Ju0"
   },
   "source": [
    "Matplotlib - Boxplot:\n",
    "- https://matplotlib.org/stable/gallery/index.html#statistics\n",
    "- https://matplotlib.org/stable/gallery/statistics/boxplot.html#sphx-glr-gallery-statistics-boxplot-py\n",
    "\n",
    "Ojo con los ee.Reducer:\n",
    "- [Reducer / Statistics of an Image Region - Pixels in the region](https://developers.google.com/earth-engine/guides/reducers_reduce_region#pixels-in-the-region)\n",
    "- [Reducer / Weighted Reductions](https://developers.google.com/earth-engine/guides/reducers_weighting): By default, reducers applied to imagery weight the inputs according to the mask value. This is relevant in the context of fractional pixels created through operations such as clip(). Adjust this behavior by calling unweighted() on the reducer. Using an unweighted reducer forces all pixels in the region to have the same weight. \n",
    "- [ee.Reducer.median](https://developers.google.com/earth-engine/apidocs/ee-reducer-median)\n",
    "- [ee.Reducer.mean](https://developers.google.com/earth-engine/apidocs/ee-reducer-mean)"
   ]
  },
  {
   "cell_type": "code",
   "execution_count": null,
   "metadata": {
    "colab": {
     "base_uri": "https://localhost:8080/"
    },
    "hidden": true,
    "id": "_oKGUDhWAdUa",
    "outputId": "7643bca5-c363-4b74-9f68-1018adfb656c",
    "scrolled": true
   },
   "outputs": [],
   "source": [
    "# Inputs\n",
    "# Ojo: El mapa Aspect no se puede obtener en los límites -> usar áreas mayores a la que necesitas\n",
    "dem = ee.Image(\"USGS/SRTMGL1_003\").clip(roi) \n",
    "\n",
    "lista_dates = []\n",
    "lista_ndvi_boxplot = []\n",
    "lista_savi_boxplot = []\n",
    "lista_lai_boxplot = []\n",
    "lista_albedo_boxplot = []\n",
    "\n",
    "lista_boxplot = []\n",
    "\n",
    "for id in ids:\n",
    "    \n",
    "    # Imagen Landsat\n",
    "    img_id = id\n",
    "    img_ee = ee.Image(img_id).clip(roi)\n",
    "    img_toa = convert_RAW_to_TOA(img_ee)\n",
    "    img_date = img_ee.date().format('YYYY-MM-dd').getInfo()\n",
    "    lista_dates.append(img_date)\n",
    "\n",
    "    # Radiación Neta\n",
    "    R_n, img_sr_tasumi, img_productos, d2, doy = getRadiacionNeta(img_ee, roi, dem) # roi: Ferreñafe\n",
    "\n",
    "    # Imágenes\n",
    "    img_ndvi = img_productos.select('NDVI')\n",
    "    img_savi = img_productos.select('SAVI')\n",
    "    img_lai  = img_productos.select('LAI')\n",
    "    img_albedo = img_productos.select('albedo')\n",
    "\n",
    "    # Convertir ee.Image a numpy.array\n",
    "    ndvi_list_values = img_ndvi.reduceRegion(ee.Reducer.toList(), predios_agricolas, 30).get('NDVI').getInfo()\n",
    "    savi_list_values = img_savi.reduceRegion(ee.Reducer.toList(), predios_agricolas, 30).get('SAVI').getInfo()\n",
    "    lai_list_values  = img_lai.reduceRegion(ee.Reducer.toList(), predios_agricolas, 30).get('LAI').getInfo()\n",
    "    albedo_list_values = img_albedo.reduceRegion(ee.Reducer.toList(), predios_agricolas, 30).get('albedo').getInfo()\n",
    "\n",
    "    # ndvi_array = np.array(ndvi_list_values)\n",
    "    # lista_prueba = ndvi_array.flatten('C').tolist() # https://www.javatpoint.com/numpy-flatten\n",
    "\n",
    "    lista_ndvi_boxplot.append(ndvi_list_values)\n",
    "    lista_savi_boxplot.append(savi_list_values)\n",
    "    lista_lai_boxplot.append(lai_list_values)\n",
    "    lista_albedo_boxplot.append(albedo_list_values)\n",
    "\n",
    "    print(f'Rn de imagen {img_date} procesada!') "
   ]
  },
  {
   "cell_type": "code",
   "execution_count": null,
   "metadata": {
    "colab": {
     "base_uri": "https://localhost:8080/",
     "height": 390
    },
    "hidden": true,
    "id": "HFjXO4nGPDV8",
    "outputId": "76bcad98-1243-4f36-9fe4-577352f09f2a"
   },
   "outputs": [],
   "source": [
    "# Visualización de Boxplot con Matplotlib\n",
    "title_boxplot = 'Boxplot'\n",
    "lista_boxplot = lista_albedo_boxplot \n",
    "# lista_ndvi_boxplot, lista_savi_boxplot, lista_lai_boxplot, lista_albedo_boxplot\n",
    "\n",
    "# Boxplot NDVI\n",
    "fig, axs = plt.subplots(nrows=1, ncols=2, figsize=(18, 6), sharey=True)\n",
    "\n",
    "axs[0].boxplot(lista_boxplot,labels=lista_dates)\n",
    "axs[0].set_title(title_boxplot)\n",
    "axs[0].axhline(0, color='k', ls='--', lw=1)\n",
    "\n",
    "axs[1].boxplot(lista_boxplot,\n",
    "               labels=lista_dates,\n",
    "               showfliers=False)\n",
    "axs[1].set_title(f'{title_boxplot} showfliers=False')\n",
    "axs[1].axhline(0, color='k', ls='--', lw=1)\n",
    "\n",
    "# axs[0].set_ylim(top=1)\n",
    "# axs[1].set_ylim(top=1)\n",
    "\n",
    "fig.subplots_adjust(wspace=0.05)\n",
    "plt.show()"
   ]
  },
  {
   "cell_type": "code",
   "execution_count": null,
   "metadata": {
    "hidden": true,
    "id": "rSp9H3NxvNK8",
    "outputId": "2f1e266c-aed0-46d3-ed94-3297198d028e"
   },
   "outputs": [],
   "source": [
    "# Boxplot grupal\n",
    "lista_parametros = [lista_ndvi_boxplot, lista_savi_boxplot, \n",
    "                    lista_lai_boxplot, lista_albedo_boxplot]\n",
    "lista_parametros_titles = ['NDVI', 'SAVI', 'LAI', 'Albedo']\n",
    "\n",
    "fig, axs = plt.subplots(nrows=2, ncols=2, figsize=(16, 12))\n",
    "axs = axs.flatten()\n",
    "\n",
    "for i, lista in enumerate(lista_parametros):\n",
    "    axs[i].boxplot(lista,\n",
    "                   labels=lista_dates,\n",
    "                   showfliers=True)\n",
    "    axs[i].set_title(lista_parametros_titles[i]+' Boxplot')\n",
    "    axs[i].axhline(0, color='k', ls='--', lw=1)\n",
    "#     axs[i].set_ylim(top=1)\n",
    "\n",
    "fig.subplots_adjust(wspace=0.1)\n",
    "plt.show()"
   ]
  },
  {
   "cell_type": "markdown",
   "metadata": {
    "hidden": true,
    "id": "qkfvh9-rvNK8"
   },
   "source": [
    "**Boxplot con seaborn**\n",
    "\n",
    "Boxplot:\n",
    "- https://seaborn.pydata.org/generated/seaborn.boxplot.html\n",
    "\n",
    "Para control de gráfico\n",
    "- https://seaborn.pydata.org/tutorial/aesthetics.html\n",
    "- https://stackoverflow.com/questions/58476654/how-to-remove-or-hide-x-axis-labels-from-a-seaborn-matplotlib-plot\n",
    "- https://python-graph-gallery.com/33-control-colors-of-boxplot-seaborn\n",
    "\n",
    "Links para customizar el boxplot:\n",
    "- https://matplotlib.org/stable/tutorials/intermediate/legend_guide.html\n",
    "- https://matplotlib.org/stable/gallery/text_labels_and_annotations/legend_demo.html\n",
    "- https://matplotlib.org/stable/gallery/text_labels_and_annotations/custom_legends.html"
   ]
  },
  {
   "cell_type": "code",
   "execution_count": null,
   "metadata": {
    "hidden": true,
    "id": "FD2Gur__vNK8"
   },
   "outputs": [],
   "source": [
    "# Creamos una función que genere dataframes\n",
    "def prepare_df_vertical(lista_escogida, lista_title):\n",
    "    \n",
    "    lista_pd = []\n",
    "    \n",
    "    for i, lista in enumerate(lista_escogida):\n",
    "        prueba = pd.DataFrame(list(zip(lista)), columns=['Valores'])\n",
    "        prueba['Fecha'] = lista_dates[i]\n",
    "        prueba['Tipo'] = lista_title\n",
    "        lista_pd.append(prueba)\n",
    "\n",
    "    df = pd.concat(lista_pd)\n",
    "    \n",
    "    return df"
   ]
  },
  {
   "cell_type": "code",
   "execution_count": null,
   "metadata": {
    "hidden": true,
    "id": "1iC1tCXkvNK8",
    "outputId": "de4f2344-c3b2-432c-cdf8-fe0cf6da4233"
   },
   "outputs": [],
   "source": [
    "# Una vez creado la función, generar dataframes y luego concatenarlos entre si\n",
    "# lista_parametros = [lista_ndvi_boxplot, lista_savi_boxplot, lista_lai_boxplot, lista_albedo_boxplot]\n",
    "lista_parametros = [lista_ndvi_boxplot, lista_savi_boxplot, lista_albedo_boxplot]\n",
    "\n",
    "# lista_parametros_titles = ['NDVI', 'SAVI', 'LAI', 'Albedo']\n",
    "lista_parametros_titles = ['NDVI', 'SAVI', 'Albedo']\n",
    "\n",
    "listas = []\n",
    "\n",
    "for i, lista in enumerate(lista_parametros):\n",
    "    df = prepare_df_vertical(lista, lista_parametros_titles[i])\n",
    "    listas.append(df)\n",
    "\n",
    "df_final = pd.concat(listas)\n",
    "df_final"
   ]
  },
  {
   "cell_type": "code",
   "execution_count": null,
   "metadata": {
    "hidden": true,
    "id": "dk6BQSaevNK8",
    "outputId": "f667862e-1491-4b87-b582-8a3df67363df"
   },
   "outputs": [],
   "source": [
    "# Widget para seleccionar un color html\n",
    "import ipywidgets as widgets\n",
    "\n",
    "widgets.ColorPicker(\n",
    "    concise=False,\n",
    "    description='Pick a color',\n",
    "    value='blue',\n",
    "    disabled=False\n",
    ")"
   ]
  },
  {
   "cell_type": "code",
   "execution_count": null,
   "metadata": {
    "hidden": true,
    "id": "_Wham6i4vNK9"
   },
   "outputs": [],
   "source": [
    "import seaborn as sns"
   ]
  },
  {
   "cell_type": "code",
   "execution_count": null,
   "metadata": {
    "hidden": true,
    "id": "fQVrDh99vNK9",
    "outputId": "a81a4a59-ceb2-497f-a873-4f0a095388fd"
   },
   "outputs": [],
   "source": [
    "# Obteniendo DDS sabiendo que comenzó el '2021-12-01'\n",
    "# lista_dates = ['2021-12-12', '2022-01-13', '2022-01-29', '2022-03-10', '2022-04-03']\n",
    "\n",
    "# https://stackoverflow.com/questions/12126318/subtracting-dates-with-python\n",
    "\n",
    "dds = []\n",
    "\n",
    "from datetime import datetime\n",
    "inicio_camp = datetime(2021, 12, 1)\n",
    "\n",
    "for fechas in lista_dates:\n",
    "    fecha_dt = datetime.strptime(fechas, '%Y-%m-%d')\n",
    "    dif = fecha_dt - inicio_camp\n",
    "    dds.append(dif.days)\n",
    "\n",
    "dds"
   ]
  },
  {
   "cell_type": "code",
   "execution_count": null,
   "metadata": {
    "hidden": true,
    "id": "25Oci3DPvNK9",
    "outputId": "04601669-55d5-4f24-fae4-7ef4dd3bead5"
   },
   "outputs": [],
   "source": [
    "# Boxplot con seaborn\n",
    "fig = plt.figure(figsize=(8,5)) # Recibe valores en pulgadas, para cambiar usar cm = 1/2.54\n",
    "\n",
    "ax = sns.boxplot(x=\"Fecha\", y=\"Valores\", hue=\"Tipo\", data=df_final, \n",
    "                 palette=['#1bb61e','#99da0b','#f53232'], \n",
    "                 fliersize=0, \n",
    "                 linewidth=1.5,\n",
    "                 width=0.4, showcaps=False,\n",
    "#                 medianprops={\"color\": \"white\", \"linewidth\": 1.5},\n",
    "                boxprops={\"edgecolor\": \"black\",\"linewidth\": 1}\n",
    "                )\n",
    "titulo = 'Boxplot - Parametros NDVI, SAVI y Albedo'\n",
    "ax.set_title(titulo) # , fonts2_Prueba_en_local.ipynbze=20, fontfamily='serif'\n",
    "\n",
    "ax.set_ylim(top=1)\n",
    "\n",
    "ax.axhline(0, color='k', ls='--', lw=1)\n",
    "# ax.axhline(0.17, color='g', ls='--', lw=1)\n",
    "# ax.axhline(0.22, color='g', ls='--', lw=1)\n",
    "\n",
    "ax.set(xlabel=None, ylabel=None)  # remove the axis label, 'DDS'\n",
    "\n",
    "# ax.tick_params(axis='x', labelsize=16)  \n",
    "# ax.tick_params(axis='y', labelsize=16) \n",
    "\n",
    "# --- Prueba: Días despues de siembra DDS ---- \n",
    "# x_ticks_labels = dds # Alterando xtickslabels: 'DDS'\n",
    "# ax.set_xticklabels(x_ticks_labels)\n",
    "# ax.set(xlabel='DDS')\n",
    "# ---------- \n",
    "\n",
    "ax.legend(title='', loc='upper left'\n",
    "#           bbox_to_anchor=(1, 1), loc='upper left', borderaxespad=0.\n",
    "         )\n",
    "# ax.get_legend().remove() # Remover leyenda\n",
    "sns.despine()\n",
    "ax.yaxis.grid(True, alpha=0.3)\n",
    "plt.tight_layout()\n",
    "\n",
    "path_name = 'images/Boxplot_8x5_'\n",
    "plt.savefig(f'{path_name}Prueba.jpeg', dpi=300)"
   ]
  },
  {
   "cell_type": "code",
   "execution_count": null,
   "metadata": {
    "hidden": true,
    "id": "_HEGOav9vNK9",
    "outputId": "2472ac68-0c26-4400-80c9-8632bb58e71f"
   },
   "outputs": [],
   "source": [
    "# violinplot con seaborn\n",
    "fig = plt.figure(figsize=(8,5))\n",
    "\n",
    "ax = sns.violinplot(x=\"Fecha\", y=\"Valores\", hue=\"Tipo\", data=df_final, \n",
    "                    palette=\"Spectral\", \n",
    "#                     fliersize=0,\n",
    "                    linewidth=1\n",
    "                   )\n",
    "\n",
    "ax.set_title('Violinplot - Parametros NDVI, SAVI y Albedo') # , fontsize=20\n",
    "\n",
    "ax.set_ylim(top=1)\n",
    "\n",
    "ax.axhline(0, color='k', ls='--', lw=1)\n",
    "# ax.axhline(0.17, color='g', ls='--', lw=1)\n",
    "# ax.axhline(0.22, color='g', ls='--', lw=1)\n",
    "\n",
    "ax.set(xlabel=None)  # remove the axis label\n",
    "ax.set(ylabel=None)\n",
    "\n",
    "ax.tick_params(axis='x') # , labelsize=16\n",
    "ax.tick_params(axis='y') # , labelsize=16\n",
    "\n",
    "ax.legend(title='', loc='upper left')\n",
    "\n",
    "sns.despine()\n",
    "ax.yaxis.grid(True, alpha=0.3)\n",
    "\n",
    "plt.tight_layout()\n",
    "\n",
    "path_name = 'images/Violinplot_8x5_'\n",
    "plt.savefig(f'{path_name}prueba.jpeg', dpi=300)"
   ]
  },
  {
   "cell_type": "code",
   "execution_count": null,
   "metadata": {
    "hidden": true,
    "id": "6-QR4I54c2eB"
   },
   "outputs": [],
   "source": [
    "# Guardar un array como .txt\n",
    "ruta = r'/Users/usuario/Documents/00-notebooks-2022/files/'\n",
    "\n",
    "array_albedo = np.array(lista_albedo_boxplot)\n",
    "array_nvdi = np.array(lista_ndvi_boxplot)\n",
    "array_savi = np.array(lista_savi_boxplot)\n",
    "array_lai  = np.array(lista_lai_boxplot)\n",
    "\n",
    "# numpy.savetxt(fname, X, fmt='%.18e', delimiter=' ', newline='\\n', header='', footer='', comments='# ', encoding=None)[source]\n",
    "np.savetxt(f'{ruta}array_albedo.txt', array_albedo)\n",
    "np.savetxt(f'{ruta}array_nvdi.txt', array_nvdi)\n",
    "np.savetxt(f'{ruta}array_savi.txt', array_savi)\n",
    "np.savetxt(f'{ruta}array_lai.txt', array_lai)"
   ]
  },
  {
   "cell_type": "code",
   "execution_count": null,
   "metadata": {
    "hidden": true,
    "id": "oo1Vp718oyFX"
   },
   "outputs": [],
   "source": [
    "# Lectura de numpy.array en .txt para leer boxplot\n",
    "np_albedo = np.loadtxt(f'{ruta}array_albedo.txt').tolist()"
   ]
  },
  {
   "cell_type": "code",
   "execution_count": null,
   "metadata": {
    "hidden": true,
    "id": "w2ZM--EIo_51"
   },
   "outputs": [],
   "source": [
    "# Boxplot\n",
    "plt.figure(figsize=(9, 6))\n",
    "plt.boxplot(np_albedo);"
   ]
  },
  {
   "cell_type": "code",
   "execution_count": null,
   "metadata": {
    "hidden": true,
    "id": "SYqye3TGUoBc"
   },
   "outputs": [],
   "source": [
    "def get_boxplot(lista, title):\n",
    "  title_boxplot = title\n",
    "  lista_boxplot = lista\n",
    "  # Boxplot NDVI\n",
    "  fig, axs = plt.subplots(nrows=1, ncols=2, figsize=(18, 6), sharey=True)\n",
    "\n",
    "  axs[0].boxplot(lista_boxplot,labels=lista_dates)\n",
    "  axs[0].set_title(title_boxplot)\n",
    "  # axs[0].set_ylim(top=1)\n",
    "  axs[0].axhline(0, color='k', ls='--', lw=1)\n",
    "\n",
    "  axs[1].boxplot(lista_boxplot,\n",
    "                labels=lista_dates,\n",
    "                showfliers=False)\n",
    "  axs[1].set_title(f'{title_boxplot} showfliers=False')\n",
    "  # axs[1].set_ylim(top=1)\n",
    "  axs[1].axhline(0, color='k', ls='--', lw=1)\n",
    "\n",
    "  fig.subplots_adjust(wspace=0.05)\n",
    "  plt.show()"
   ]
  },
  {
   "cell_type": "code",
   "execution_count": null,
   "metadata": {
    "hidden": true,
    "id": "C3mQXbJSUpUN"
   },
   "outputs": [],
   "source": [
    "get_boxplot(lista_ndvi_boxplot, 'Albedo boxplot')"
   ]
  },
  {
   "cell_type": "code",
   "execution_count": null,
   "metadata": {
    "hidden": true,
    "id": "z3dBjisZUtOL"
   },
   "outputs": [],
   "source": [
    "get_boxplot(lista_savi_boxplot, 'SAVI boxplot')"
   ]
  },
  {
   "cell_type": "code",
   "execution_count": null,
   "metadata": {
    "hidden": true,
    "id": "4zmnKshKUv6L"
   },
   "outputs": [],
   "source": [
    "get_boxplot(lista_lai_boxplot, 'LAI boxplot')"
   ]
  },
  {
   "cell_type": "code",
   "execution_count": null,
   "metadata": {
    "hidden": true,
    "id": "UIQvfhP9Ml71"
   },
   "outputs": [],
   "source": [
    "# Visualizando una solo boxplot\n",
    "fig, ax1 = plt.subplots(nrows=1, ncols=1, figsize=(6, 6), sharey=True)\n",
    "ax1.boxplot(lista_boxplot[0],\n",
    "            labels=[lista_dates[0]],\n",
    "            showfliers=False)\n",
    "ax1.set_ylim(0,1)\n",
    "ax1.set_title('NDVI Boxplot');"
   ]
  },
  {
   "cell_type": "code",
   "execution_count": null,
   "metadata": {
    "hidden": true,
    "id": "KlpqXAkL_UQl"
   },
   "outputs": [],
   "source": [
    "# Prueba de Matplotlib: Object-based method\n",
    "fig, axs = plt.subplots(nrows=1, ncols=5, figsize=(12, 6), sharey=True)\n",
    "axs[0].boxplot(lista_boxplot[0],\n",
    "                 labels=[lista_dates[0]])\n",
    "axs[0].set_title('NDVI boxplot')\n",
    "axs[0].set_ylim(0,1)\n",
    "\n",
    "axs[1].boxplot(lista_boxplot[1],\n",
    "                 labels=[lista_dates[1]])\n",
    "axs[1].set_title('NDVI boxplot')\n",
    "axs[1].set_ylim(0,1)\n",
    "\n",
    "axs[2].boxplot(lista_boxplot[2],\n",
    "                 labels=[lista_dates[2]])\n",
    "axs[2].set_title('NDVI boxplot')\n",
    "axs[2].set_ylim(0,1)\n",
    "\n",
    "axs[3].boxplot(lista_boxplot[3],\n",
    "                 labels=[lista_dates[3]])\n",
    "axs[3].set_title('NDVI boxplot')\n",
    "axs[3].set_ylim(0,1)\n",
    "\n",
    "axs[4].boxplot(lista_boxplot[4],\n",
    "                 labels=[lista_dates[4]])\n",
    "axs[4].set_title('NDVI boxplot')\n",
    "axs[4].set_ylim(0,1)\n",
    "\n",
    "plt.show()"
   ]
  },
  {
   "cell_type": "code",
   "execution_count": null,
   "metadata": {
    "hidden": true,
    "id": "DVSWky8SrAgL"
   },
   "outputs": [],
   "source": [
    "# Primer camino para obtener pixeles de imagen dentro de una region rectangular\n",
    "prueba = img_ndvi.sampleRectangle(region=predios_agricolas, defaultValue=0)\n",
    "prueba.get('B5').getInfo()#.get('NDVI')\n",
    "\n",
    "array = np.array(prueba.get('B5').getInfo())\n",
    "# array\n",
    "\n",
    "# plt.imshow(array)\n",
    "# plt.show()\n",
    "\n",
    "# Reducir a 1 dimension \n",
    "lista_prueba = array.flatten('C').tolist() # https://www.javatpoint.com/numpy-flatten\n",
    "\n",
    "# Elaborar boxplot:\n",
    "# https://matplotlib.org/stable/api/_as_gen/matplotlib.pyplot.boxplot.html\n",
    "\n",
    "plt.boxplot(lista_prueba);"
   ]
  },
  {
   "cell_type": "markdown",
   "metadata": {
    "heading_collapsed": true,
    "hidden": true,
    "id": "vK3O-V6IlFmU"
   },
   "source": [
    "#### Evaluando parámetros de Radiación Neta\n"
   ]
  },
  {
   "cell_type": "markdown",
   "metadata": {
    "heading_collapsed": true,
    "hidden": true,
    "id": "GbkkKf6p3Tgn"
   },
   "source": [
    "##### Radiación Neta"
   ]
  },
  {
   "cell_type": "code",
   "execution_count": 11,
   "metadata": {
    "hidden": true,
    "id": "TToM9Gdb1UZb",
    "outputId": "37c76d2f-8bb3-4fab-ec0f-17d85cbf636f"
   },
   "outputs": [
    {
     "data": {
      "text/plain": [
       "max       692.36\n",
       "mean      584.64\n",
       "median    580.54\n",
       "min       530.35\n",
       "mode      572.49\n",
       "stdDev     26.64\n",
       "Name: R_n, dtype: float64"
      ]
     },
     "execution_count": 11,
     "metadata": {},
     "output_type": "execute_result"
    }
   ],
   "source": [
    "# ['R_l_in', 'R_l_out', 'R_n', 'R_s_in']\n",
    "R_n_stats_df['R_n']"
   ]
  },
  {
   "cell_type": "code",
   "execution_count": 12,
   "metadata": {
    "hidden": true,
    "id": "IMnyDzeb3w-k",
    "outputId": "f355b4d7-d798-4317-e17e-64d0138e6a26"
   },
   "outputs": [
    {
     "data": {
      "image/png": "[encoded data removed]",
      "text/plain": [
       "<Figure size 576x432 with 2 Axes>"
      ]
     },
     "metadata": {
      "needs_background": "light"
     },
     "output_type": "display_data"
    }
   ],
   "source": [
    "# Visualización cartoee\n",
    "vis_params_R_n = {'min': R_n_stats['min']['R_n'],\n",
    "                  'max': R_n_stats['max']['R_n'], \n",
    "                  'palette': cmp.get_palette('RdYlGn_r')}\n",
    "\n",
    "image = R_n.select('R_n').clip(predios_agricolas).blend(predios_vis)\n",
    "vis_params = vis_params_R_n\n",
    "title_map = f'R_n\\n{img_date_format1}' # dd-mm-YYYY\n",
    "label = '$[\\; W/m^2 \\;]$'\n",
    "\n",
    "get_grafica_cartoee_color(image, vis_params, title_map, label, save_fig=None)"
   ]
  },
  {
   "cell_type": "code",
   "execution_count": 13,
   "metadata": {
    "hidden": true,
    "id": "WbfszpTx0EnW"
   },
   "outputs": [
    {
     "data": {
      "application/vnd.jupyter.widget-view+json": {
       "model_id": "7eac99a0c21b48d7a59d2775f1c023af",
       "version_major": 2,
       "version_minor": 0
      },
      "text/plain": [
       "Map(center=[-6.600107155901065, -79.78025931943186], controls=(WidgetControl(options=['position', 'transparent…"
      ]
     },
     "metadata": {},
     "output_type": "display_data"
    }
   ],
   "source": [
    "# Visualización geemap\n",
    "Map = geemap.Map()#height='800px') \n",
    "Map.centerObject(predios_bound, 16)\n",
    "\n",
    "Map.addLayer(img_toa.clip(predios_bound), vis_rgb, 'RGB TOA')\n",
    "Map.addLayer(image, vis_params_R_n, title_map) \n",
    "\n",
    "Map.add_colorbar(vis_params_R_n, label=label, orientation=\"vertical\")\n",
    "\n",
    "Map"
   ]
  },
  {
   "cell_type": "code",
   "execution_count": null,
   "metadata": {
    "hidden": true,
    "id": "LfG2OiDvwj5g"
   },
   "outputs": [],
   "source": [
    "# El exportar requiere una escala -> No es posible descargar tal como está \n",
    "# (el valor 10 se asemeja al mapa realizado pero no es el mismo)\n",
    "# geemap.ee_export_image(\n",
    "#     R_n, filename='R_n_10.tif', scale=10, region=predios_agricolas.geometry()\n",
    "# )"
   ]
  },
  {
   "cell_type": "markdown",
   "metadata": {
    "heading_collapsed": true,
    "hidden": true,
    "id": "IHEZtE9ylTJy"
   },
   "source": [
    "##### Albedo"
   ]
  },
  {
   "cell_type": "markdown",
   "metadata": {
    "hidden": true,
    "id": "W4WGSUm2ViV3"
   },
   "source": [
    "Según Hiroguchi, Ikuo (1992), los valores típicos de albedo superficial para campos de arroz es de 0.17 - 0.22."
   ]
  },
  {
   "cell_type": "code",
   "execution_count": 14,
   "metadata": {
    "hidden": true,
    "id": "hiXxTP9QOcMW",
    "outputId": "b7c888df-f376-42a4-9296-49de8828e086"
   },
   "outputs": [
    {
     "data": {
      "text/plain": [
       "max       0.210209\n",
       "mean      0.156955\n",
       "median    0.163518\n",
       "min       0.038789\n",
       "mode      0.163518\n",
       "stdDev    0.030689\n",
       "Name: albedo, dtype: float64"
      ]
     },
     "execution_count": 14,
     "metadata": {},
     "output_type": "execute_result"
    }
   ],
   "source": [
    "img_prod_stats_df['albedo']"
   ]
  },
  {
   "cell_type": "code",
   "execution_count": 15,
   "metadata": {
    "hidden": true,
    "id": "HVlUuTXi08BU"
   },
   "outputs": [
    {
     "data": {
      "image/png": "[encoded data removed]",
      "text/plain": [
       "<Figure size 576x432 with 2 Axes>"
      ]
     },
     "metadata": {
      "needs_background": "light"
     },
     "output_type": "display_data"
    }
   ],
   "source": [
    "# Visualización\n",
    "vis_params_alb = {'min': 0,    #float(img_prod_stats['min']['albedo']), \n",
    "                  'max': 0.25, #float(img_prod_stats['max']['albedo']), \n",
    "                  'palette': cmp.get_palette('afmhot')} # RdYlGn_r, afmhot\n",
    "\n",
    "image_alb = img_albedo.clip(predios_agricolas).blend(predios_vis)\n",
    "# image = image.updateMask(image.lte(0.22).And(image.gt(0.17)))\n",
    "\n",
    "vis_params = vis_params_alb\n",
    "title_map = f'Albedo\\n{img_date_format1}'\n",
    "label = '$[\\; W/m^2 \\;]$'\n",
    "\n",
    "get_grafica_cartoee_color(image_alb, vis_params, title_map, label, save_fig=None)"
   ]
  },
  {
   "cell_type": "code",
   "execution_count": 16,
   "metadata": {
    "hidden": true,
    "id": "oj2a3646mcAL"
   },
   "outputs": [
    {
     "data": {
      "application/vnd.jupyter.widget-view+json": {
       "model_id": "a41b3b71228f44c881f643f033b2f6da",
       "version_major": 2,
       "version_minor": 0
      },
      "text/plain": [
       "Map(center=[-6.600107155901065, -79.78025931943186], controls=(WidgetControl(options=['position', 'transparent…"
      ]
     },
     "metadata": {},
     "output_type": "display_data"
    }
   ],
   "source": [
    "# geemap\n",
    "Map = geemap.Map()\n",
    "Map.centerObject(predios_bound, 16)\n",
    "\n",
    "Map.addLayer(img_toa.clip(predios_bound), vis_rgb, 'RGB TOA')\n",
    "Map.addLayer(image_alb, vis_params_alb , 'img_albedo') \n",
    "\n",
    "Map.add_colorbar(vis_params_alb, label=\"Albedo [-]\", orientation=\"vertical\")\n",
    "\n",
    "Map"
   ]
  },
  {
   "cell_type": "markdown",
   "metadata": {
    "heading_collapsed": true,
    "hidden": true,
    "id": "tml03El_oKa6"
   },
   "source": [
    "##### Temperatura Superficial (Tasumi, 2003)"
   ]
  },
  {
   "cell_type": "code",
   "execution_count": 44,
   "metadata": {
    "hidden": true,
    "id": "mSyO7k-C4Cb_",
    "outputId": "95bc55c8-3ab9-42b0-f572-ed93832e68eb",
    "scrolled": true
   },
   "outputs": [
    {
     "data": {
      "text/plain": [
       "max       29.890949\n",
       "mean      25.679101\n",
       "median    25.549557\n",
       "min       24.946229\n",
       "mode      25.421164\n",
       "stdDev     0.560218\n",
       "Name: Ts_c, dtype: float64"
      ]
     },
     "execution_count": 44,
     "metadata": {},
     "output_type": "execute_result"
    }
   ],
   "source": [
    "img_prod_stats_df['Ts_c']"
   ]
  },
  {
   "cell_type": "code",
   "execution_count": 18,
   "metadata": {
    "hidden": true,
    "id": "ocx1udYgCBMM",
    "outputId": "e2b8e680-9b9c-4873-e4c6-5679886f4819"
   },
   "outputs": [
    {
     "data": {
      "image/png": "[encoded data removed]",
      "text/plain": [
       "<Figure size 576x432 with 2 Axes>"
      ]
     },
     "metadata": {
      "needs_background": "light"
     },
     "output_type": "display_data"
    }
   ],
   "source": [
    "# Visualización\n",
    "vis_params_ts = {'min': img_prod_stats['min']['Ts_c'],\n",
    "                 'max': img_prod_stats['max']['Ts_c'],\n",
    "                 'palette': cmp.get_palette('RdYlBu_r')}\n",
    "\n",
    "image = img_Ts_c.clip(predios_agricolas).blend(predios_vis)\n",
    "vis_params = vis_params_ts\n",
    "title_map = f'T_s\\n{img_date_format1}'\n",
    "label = '$[\\; °C \\;]$'\n",
    "\n",
    "get_grafica_cartoee_color(image, vis_params, title_map, label, save_fig=None)"
   ]
  },
  {
   "cell_type": "code",
   "execution_count": 19,
   "metadata": {
    "hidden": true,
    "id": "XECkrd3OoOdp"
   },
   "outputs": [
    {
     "data": {
      "application/vnd.jupyter.widget-view+json": {
       "model_id": "5814786d1122429db75c9b94b3b05312",
       "version_major": 2,
       "version_minor": 0
      },
      "text/plain": [
       "Map(center=[-6.600107155901065, -79.78025931943186], controls=(WidgetControl(options=['position', 'transparent…"
      ]
     },
     "metadata": {},
     "output_type": "display_data"
    }
   ],
   "source": [
    "# Visualización\n",
    "Map = geemap.Map()\n",
    "Map.centerObject(predios_bound, 16)\n",
    "\n",
    "Map.addLayer(img_toa.clip(predios_bound), vis_rgb, 'RGB TOA')\n",
    "Map.addLayer(image, vis_params_ts, title_map) \n",
    "\n",
    "Map.add_colorbar(vis_params_ts, label='Ts [°C]', orientation=\"vertical\")\n",
    "Map"
   ]
  },
  {
   "cell_type": "markdown",
   "metadata": {
    "hidden": true,
    "id": "m5aDAmI4byWN"
   },
   "source": [
    "###### Comparativa entre productos TOA y SR"
   ]
  },
  {
   "cell_type": "markdown",
   "metadata": {
    "hidden": true
   },
   "source": [
    "**Brightness Temperature - Landsat 9 T1_TOA**"
   ]
  },
  {
   "cell_type": "code",
   "execution_count": 45,
   "metadata": {
    "hidden": true,
    "id": "k4cOtEjgxDei"
   },
   "outputs": [
    {
     "data": {
      "text/plain": [
       "{'max': {'B10': 30.252435302734398},\n",
       " 'mean': {'B10': 25.16806699612595},\n",
       " 'median': {'B10': 24.7337348090278},\n",
       " 'min': {'B10': 23.240289306640648},\n",
       " 'mode': {'B10': 24.326654950310225},\n",
       " 'stdDev': {'B10': 1.368432452037965}}"
      ]
     },
     "metadata": {},
     "output_type": "display_data"
    }
   ],
   "source": [
    "# Landsat 9 T1_TOA\n",
    "img_ee = (\n",
    "    ee.Image('LANDSAT/LC09/C02/T1_TOA/LC09_010065_20220113')\n",
    "    .clip(predios_bound)\n",
    "    .select('B10')\n",
    "    .subtract(273.15) # en °C\n",
    ")\n",
    "\n",
    "stats = get_stats(img_ee, predios_agricolas, 30)\n",
    "display(stats)"
   ]
  },
  {
   "cell_type": "code",
   "execution_count": 46,
   "metadata": {
    "hidden": true,
    "id": "dRvpYAsCYRVn"
   },
   "outputs": [
    {
     "data": {
      "application/vnd.jupyter.widget-view+json": {
       "model_id": "b7eb1556421e43dcbb06e1c0c520ec11",
       "version_major": 2,
       "version_minor": 0
      },
      "text/plain": [
       "Map(center=[-6.600084886957517, -79.78024151067439], controls=(WidgetControl(options=['position', 'transparent…"
      ]
     },
     "metadata": {},
     "output_type": "display_data"
    }
   ],
   "source": [
    "vis_rgb_toa = {\n",
    "    'min':stats['min']['B10'],\n",
    "    'max':stats['max']['B10'],\n",
    "    'palette':cmp.get_palette('RdYlBu_r')\n",
    "}\n",
    "\n",
    "img = img_ee.clip(predios_agricolas).blend(predios_vis)\n",
    "\n",
    "Map = geemap.Map()\n",
    "Map.centerObject(img_ee, 16)\n",
    "Map.addLayer(img, vis_rgb_toa, 'img_toa')\n",
    "Map.add_colorbar(vis_rgb_toa, label='[°C]', orientation=\"vertical\")\n",
    "Map"
   ]
  },
  {
   "cell_type": "markdown",
   "metadata": {
    "hidden": true,
    "id": "sHwI3CO9hylf"
   },
   "source": [
    "**Surface Temperature - Landsat 9 T1_L2**"
   ]
  },
  {
   "cell_type": "code",
   "execution_count": 47,
   "metadata": {
    "hidden": true,
    "id": "6yEInFXQxE9Z"
   },
   "outputs": [
    {
     "data": {
      "text/plain": [
       "{'max': {'ST_B10': 46.62453326000002},\n",
       " 'mean': {'ST_B10': 37.23928371111823},\n",
       " 'median': {'ST_B10': 36.78405368000003},\n",
       " 'min': {'ST_B10': 31.845014780000042},\n",
       " 'mode': {'ST_B10': 35.908898142500014},\n",
       " 'stdDev': {'ST_B10': 2.6992843748464552}}"
      ]
     },
     "metadata": {},
     "output_type": "display_data"
    }
   ],
   "source": [
    "img_ee = (\n",
    "    ee.Image('LANDSAT/LC09/C02/T1_L2/LC09_010065_20220113')\n",
    "    .clip(predios_bound)\n",
    "    .select('ST_B10')\n",
    "    .multiply(0.00341802).add(149.0)\n",
    "    .subtract(273.15) # en °C\n",
    ")\n",
    "\n",
    "stats = get_stats(img_ee, predios_agricolas, 30)\n",
    "display(stats)"
   ]
  },
  {
   "cell_type": "code",
   "execution_count": 48,
   "metadata": {
    "hidden": true,
    "id": "dFcooNkUhFAX"
   },
   "outputs": [
    {
     "data": {
      "application/vnd.jupyter.widget-view+json": {
       "model_id": "f3bcfd10682c4d3c9dbdd2b08232c4f0",
       "version_major": 2,
       "version_minor": 0
      },
      "text/plain": [
       "Map(center=[-6.600084886957517, -79.78024151067439], controls=(WidgetControl(options=['position', 'transparent…"
      ]
     },
     "metadata": {},
     "output_type": "display_data"
    }
   ],
   "source": [
    "vis_rgb_SR = {\n",
    "    'min':stats['min']['ST_B10'],\n",
    "    'max':stats['max']['ST_B10'],\n",
    "    'palette':cmp.get_palette('RdYlBu_r')\n",
    "}\n",
    "\n",
    "image = img_ee.clip(predios_agricolas).blend(predios_vis)\n",
    "\n",
    "Map = geemap.Map()\n",
    "Map.centerObject(img_ee, 16)\n",
    "Map.addLayer(image, vis_rgb_SR, 'img_L9_SR')\n",
    "Map.add_colorbar(vis_rgb_SR, label='[°C]', orientation=\"vertical\")\n",
    "Map"
   ]
  },
  {
   "cell_type": "markdown",
   "metadata": {
    "heading_collapsed": true,
    "hidden": true,
    "id": "nrEDl6LmhE1_"
   },
   "source": [
    "##### e_NB, e_0"
   ]
  },
  {
   "cell_type": "markdown",
   "metadata": {
    "hidden": true
   },
   "source": [
    "**Narrow band transmissivity e_NB**: representing the surface emissivity within the band range of the satellite thermal sensor.\n",
    "- Requerido para: Outgoing long-wave radiation\n",
    "    \n",
    "**Broad-band surface emissivity e_0** \n",
    "- Requerido para: Surface Temperature (Ts)"
   ]
  },
  {
   "cell_type": "code",
   "execution_count": 49,
   "metadata": {
    "hidden": true,
    "id": "uN1v5UeRpasw",
    "scrolled": true
   },
   "outputs": [
    {
     "data": {
      "text/plain": [
       "{'max': {'NDVI': 0.6420312854228066},\n",
       " 'mean': {'NDVI': 0.17327774490273354},\n",
       " 'median': {'NDVI': 0.15407262282843226},\n",
       " 'min': {'NDVI': -0.14850036576444783},\n",
       " 'mode': {'NDVI': 0.12680810834467832},\n",
       " 'stdDev': {'NDVI': 0.12200182929639757}}"
      ]
     },
     "metadata": {},
     "output_type": "display_data"
    },
    {
     "data": {
      "text/plain": [
       "{'max': {'SAVI': 0.43821519872524595},\n",
       " 'mean': {'SAVI': 0.09130291297169937},\n",
       " 'median': {'SAVI': 0.08002918002318105},\n",
       " 'min': {'SAVI': -0.06942890601407817},\n",
       " 'mode': {'SAVI': 0.07627992554175134},\n",
       " 'stdDev': {'SAVI': 0.06893112293221625}}"
      ]
     },
     "metadata": {},
     "output_type": "display_data"
    },
    {
     "data": {
      "text/plain": [
       "{'max': {'LAI': 0.9357667883714836},\n",
       " 'mean': {'LAI': -0.007857637227923056},\n",
       " 'median': {'LAI': -0.03502348109447997},\n",
       " 'min': {'LAI': -0.27741118071792076},\n",
       " 'mode': {'LAI': -0.04295823386435922},\n",
       " 'stdDev': {'LAI': 0.13922576736371392}}"
      ]
     },
     "metadata": {},
     "output_type": "display_data"
    }
   ],
   "source": [
    "image_ee = ee.Image('LANDSAT/LC09/C02/T1/LC09_010065_20220113') # 13-01-2022\n",
    "img_toa = convert_RAW_to_TOA(image_ee).clip(predios_agricolas)\n",
    "\n",
    "img_ndvi = get_ndvi_L8(img_toa)\n",
    "ndvi_stats = get_stats(img_ndvi, predios_agricolas, 30)\n",
    "\n",
    "img_savi = get_savi_L8(img_toa)\n",
    "savi_stats = get_stats(img_savi, predios_agricolas, 30)\n",
    "\n",
    "img_lai = get_lai_L8(img_savi)\n",
    "lai_stats = get_stats(img_lai, predios_agricolas, 30)\n",
    "\n",
    "display(ndvi_stats) # OJO: valores negativos en fecha 01_13\n",
    "display(savi_stats)\n",
    "display(lai_stats)"
   ]
  },
  {
   "cell_type": "code",
   "execution_count": 50,
   "metadata": {
    "hidden": true,
    "id": "PkniIl7rpFdA"
   },
   "outputs": [
    {
     "data": {
      "application/vnd.jupyter.widget-view+json": {
       "model_id": "48508b929e8840afa5e068dd128b94c1",
       "version_major": 2,
       "version_minor": 0
      },
      "text/plain": [
       "Map(center=[-6.600107155901065, -79.78025931943186], controls=(WidgetControl(options=['position', 'transparent…"
      ]
     },
     "metadata": {},
     "output_type": "display_data"
    }
   ],
   "source": [
    "ndvi_cmap = ['0048fb', 'ffffff', 'ce7e45', 'fad163', '74a909', '3a7405', '1a3b03'] # -0.2 - 1\n",
    "\n",
    "vis_ndvi = {'min': -0.2,\n",
    "            'max': 1,\n",
    "            'palette': ndvi_cmap} #cmp.palettes.afmhot\n",
    "\n",
    "vis_lai = {'min':lai_stats['min']['LAI'],\n",
    "           'max':lai_stats['max']['LAI'],\n",
    "           'palette':cmp.get_palette('terrain')}\n",
    "\n",
    "Map = geemap.Map()\n",
    "Map.centerObject(predios_bound, 16)\n",
    "\n",
    "Map.addLayer(img_toa, vis_rgb, 'RGB TOA')\n",
    "Map.addLayer(img_ndvi, vis_ndvi, 'NDVI')\n",
    "# Map.addLayer(img_lai, vis_lai, 'LAI')\n",
    "\n",
    "Map"
   ]
  },
  {
   "cell_type": "code",
   "execution_count": 54,
   "metadata": {
    "hidden": true,
    "id": "VDgidsdW8z3Z"
   },
   "outputs": [
    {
     "data": {
      "text/html": [
       "<div>\n",
       "<style scoped>\n",
       "    .dataframe tbody tr th:only-of-type {\n",
       "        vertical-align: middle;\n",
       "    }\n",
       "\n",
       "    .dataframe tbody tr th {\n",
       "        vertical-align: top;\n",
       "    }\n",
       "\n",
       "    .dataframe thead th {\n",
       "        text-align: right;\n",
       "    }\n",
       "</style>\n",
       "<table border=\"1\" class=\"dataframe\">\n",
       "  <thead>\n",
       "    <tr style=\"text-align: right;\">\n",
       "      <th></th>\n",
       "      <th>e_0</th>\n",
       "    </tr>\n",
       "  </thead>\n",
       "  <tbody>\n",
       "    <tr>\n",
       "      <th>max</th>\n",
       "      <td>0.985</td>\n",
       "    </tr>\n",
       "    <tr>\n",
       "      <th>mean</th>\n",
       "      <td>0.952</td>\n",
       "    </tr>\n",
       "    <tr>\n",
       "      <th>median</th>\n",
       "      <td>0.950</td>\n",
       "    </tr>\n",
       "    <tr>\n",
       "      <th>min</th>\n",
       "      <td>0.948</td>\n",
       "    </tr>\n",
       "    <tr>\n",
       "      <th>mode</th>\n",
       "      <td>0.950</td>\n",
       "    </tr>\n",
       "    <tr>\n",
       "      <th>stdDev</th>\n",
       "      <td>0.008</td>\n",
       "    </tr>\n",
       "  </tbody>\n",
       "</table>\n",
       "</div>"
      ],
      "text/plain": [
       "          e_0\n",
       "max     0.985\n",
       "mean    0.952\n",
       "median  0.950\n",
       "min     0.948\n",
       "mode    0.950\n",
       "stdDev  0.008"
      ]
     },
     "metadata": {},
     "output_type": "display_data"
    },
    {
     "data": {
      "text/html": [
       "<div>\n",
       "<style scoped>\n",
       "    .dataframe tbody tr th:only-of-type {\n",
       "        vertical-align: middle;\n",
       "    }\n",
       "\n",
       "    .dataframe tbody tr th {\n",
       "        vertical-align: top;\n",
       "    }\n",
       "\n",
       "    .dataframe thead th {\n",
       "        text-align: right;\n",
       "    }\n",
       "</style>\n",
       "<table border=\"1\" class=\"dataframe\">\n",
       "  <thead>\n",
       "    <tr style=\"text-align: right;\">\n",
       "      <th></th>\n",
       "      <th>e_NB</th>\n",
       "    </tr>\n",
       "  </thead>\n",
       "  <tbody>\n",
       "    <tr>\n",
       "      <th>max</th>\n",
       "      <td>0.985</td>\n",
       "    </tr>\n",
       "    <tr>\n",
       "      <th>mean</th>\n",
       "      <td>0.971</td>\n",
       "    </tr>\n",
       "    <tr>\n",
       "      <th>median</th>\n",
       "      <td>0.970</td>\n",
       "    </tr>\n",
       "    <tr>\n",
       "      <th>min</th>\n",
       "      <td>0.969</td>\n",
       "    </tr>\n",
       "    <tr>\n",
       "      <th>mode</th>\n",
       "      <td>0.970</td>\n",
       "    </tr>\n",
       "    <tr>\n",
       "      <th>stdDev</th>\n",
       "      <td>0.003</td>\n",
       "    </tr>\n",
       "  </tbody>\n",
       "</table>\n",
       "</div>"
      ],
      "text/plain": [
       "         e_NB\n",
       "max     0.985\n",
       "mean    0.971\n",
       "median  0.970\n",
       "min     0.969\n",
       "mode    0.970\n",
       "stdDev  0.003"
      ]
     },
     "metadata": {},
     "output_type": "display_data"
    }
   ],
   "source": [
    "# e_0 : Surface emissivity is computed using an empirical equation by Tasumi (2003) based on soil and vegetative\n",
    "# thermal spectral emissivities housed in the MODIS UCSB Emissivity Library (2004)\n",
    "e_0 = img_lai.expression( '0.95 + 0.01*LAI', {'LAI':img_lai}).rename('e_0') # LAI <= 3 y NDVI > 0\n",
    "\n",
    "e_0 = e_0.where(img_ndvi.lt(0), 0.985) # NDVI < 0\n",
    "e_0 = e_0.where(img_lai.gt(3), 0.98).rename('e_0') # LAI > 3; NDVI > 0\n",
    "\n",
    "e_0_stats_dict = get_stats(e_0, predios_agricolas, 30)\n",
    "e_0_stats_df = pd.DataFrame.from_dict(e_0_stats_dict, orient='index').round(3)\n",
    "display(e_0_stats_df)\n",
    "\n",
    "# e_NB\n",
    "e_NB = img_lai.expression('0.97 + 0.0033*LAI', {'LAI':img_lai}).rename('e_NB') # LAI <= 3 y NDVI > 0\n",
    "\n",
    "e_NB = e_NB.where(img_ndvi.lt(0), 0.985) # NDVI < 0\n",
    "e_NB = e_NB.where(img_lai.gt(3).And(img_ndvi.gt(0)), 0.98) # LAI > 3; NDVI > 0\n",
    "\n",
    "e_NB_stats_dict = get_stats(e_NB, predios_agricolas, 30)\n",
    "e_NB_stats_df = pd.DataFrame.from_dict(e_NB_stats_dict, orient='index').round(3)\n",
    "display(e_NB_stats_df)"
   ]
  },
  {
   "cell_type": "code",
   "execution_count": 51,
   "metadata": {
    "hidden": true,
    "id": "WAqVqRvC4Y-e"
   },
   "outputs": [],
   "source": [
    "# Verificación \n",
    "img_s2_01_11 = ee.Image('COPERNICUS/S2_SR/20220111T153621_20220111T154058_T17MPN').multiply(0.0001).clip(predios_bound)\n",
    "img_s2_01_16 = ee.Image('COPERNICUS/S2_SR/20220116T153619_20220116T153730_T17MPN').multiply(0.0001).clip(predios_bound)\n",
    "# Nota: El día 01_13 se registra valores negativos de NDVI -> \n",
    "# Pudo haber riego ya que en la imagen img_s2_01_16 se logra ver rastros "
   ]
  },
  {
   "cell_type": "markdown",
   "metadata": {
    "hidden": true
   },
   "source": [
    "**Broad-band surface emissivity e_0** "
   ]
  },
  {
   "cell_type": "code",
   "execution_count": 55,
   "metadata": {
    "hidden": true,
    "id": "nQ9fNAP0v1f6"
   },
   "outputs": [
    {
     "data": {
      "application/vnd.jupyter.widget-view+json": {
       "model_id": "1398a2c2a3304dd6b618e952612c0dce",
       "version_major": 2,
       "version_minor": 0
      },
      "text/plain": [
       "Map(center=[-6.600107155901065, -79.78025931943186], controls=(WidgetControl(options=['position', 'transparent…"
      ]
     },
     "metadata": {},
     "output_type": "display_data"
    }
   ],
   "source": [
    "vis_e_0 = {'min': e_0_stats_dict['min']['e_0'],\n",
    "           'max': e_0_stats_dict['max']['e_0'],\n",
    "           'palette':cmp.get_palette('binary')}\n",
    "\n",
    "Map = geemap.Map()\n",
    "Map.centerObject(predios_bound, 16)\n",
    "\n",
    "Map.addLayer(img_toa, vis_rgb, 'RGB TOA')\n",
    "Map.addLayer(img_s2_01_11, vis_rgb, 'img_s2_01_11')\n",
    "Map.addLayer(img_s2_01_16, vis_rgb, 'img_s2_01_16')\n",
    "\n",
    "Map.addLayer(e_0, vis_e_0, 'e_0')\n",
    "Map.add_colorbar(vis_e_0, label='[-]', orientation=\"vertical\")\n",
    "Map"
   ]
  },
  {
   "cell_type": "markdown",
   "metadata": {
    "hidden": true
   },
   "source": [
    "**Narrow band transmissivity e_NB**"
   ]
  },
  {
   "cell_type": "code",
   "execution_count": 29,
   "metadata": {
    "hidden": true,
    "id": "T5t6y1PLdogf"
   },
   "outputs": [
    {
     "data": {
      "text/plain": [
       "max       0.985\n",
       "mean      0.971\n",
       "median    0.970\n",
       "min       0.969\n",
       "mode      0.970\n",
       "stdDev    0.003\n",
       "Name: e_NB, dtype: float64"
      ]
     },
     "execution_count": 29,
     "metadata": {},
     "output_type": "execute_result"
    }
   ],
   "source": [
    "e_NB_stats_df['e_NB']"
   ]
  },
  {
   "cell_type": "code",
   "execution_count": 30,
   "metadata": {
    "hidden": true,
    "id": "vNQI35JUeM-m",
    "scrolled": false
   },
   "outputs": [
    {
     "data": {
      "application/vnd.jupyter.widget-view+json": {
       "model_id": "2aac7dfc061142248f0a6bf11b68aa0d",
       "version_major": 2,
       "version_minor": 0
      },
      "text/plain": [
       "Map(center=[-6.600107155901065, -79.78025931943186], controls=(WidgetControl(options=['position', 'transparent…"
      ]
     },
     "metadata": {},
     "output_type": "display_data"
    }
   ],
   "source": [
    "# Visualización\n",
    "vis_params_e_nb = {'min': e_NB_stats_dict['min']['e_NB'],\n",
    "                   'max': e_NB_stats_dict['max']['e_NB'],\n",
    "                   'palette': cmp.get_palette('binary')}\n",
    "\n",
    "image = img_productos.select('e_NB').clip(predios_agricolas)\n",
    "\n",
    "vis_params = vis_params_e_nb\n",
    "title_map = 'e_nb'\n",
    "label = '$[\\; - \\;]$'\n",
    "\n",
    "Map = geemap.Map()\n",
    "Map.centerObject(predios_bound, 16)\n",
    "\n",
    "Map.addLayer(img_toa.clip(predios_bound), vis_rgb, 'RGB TOA')\n",
    "Map.addLayer(e_NB, vis_params_e_nb, title_map) \n",
    "\n",
    "Map.add_colorbar(vis_params_e_nb, label=label, orientation=\"vertical\")\n",
    "\n",
    "Map"
   ]
  },
  {
   "cell_type": "markdown",
   "metadata": {
    "heading_collapsed": true,
    "hidden": true,
    "id": "WaHUOkX5z3mS"
   },
   "source": [
    "##### NDVI"
   ]
  },
  {
   "cell_type": "code",
   "execution_count": 41,
   "metadata": {
    "hidden": true,
    "id": "dbY3CujxkEFj",
    "outputId": "3e51130e-b1bf-4713-d2cc-2a8525561c91"
   },
   "outputs": [
    {
     "data": {
      "text/plain": [
       "max       0.813376\n",
       "mean      0.695226\n",
       "median    0.728591\n",
       "min       0.057734\n",
       "mode      0.759826\n",
       "stdDev    0.119245\n",
       "Name: NDVI, dtype: float64"
      ]
     },
     "execution_count": 41,
     "metadata": {},
     "output_type": "execute_result"
    }
   ],
   "source": [
    "img_prod_stats_df['NDVI']"
   ]
  },
  {
   "cell_type": "code",
   "execution_count": 42,
   "metadata": {
    "hidden": true,
    "id": "tadXn5hoC7ZK",
    "outputId": "4496f76b-4996-4d56-f854-277644c1f135"
   },
   "outputs": [
    {
     "data": {
      "image/png": "[encoded data removed]",
      "text/plain": [
       "<Figure size 576x432 with 2 Axes>"
      ]
     },
     "metadata": {
      "needs_background": "light"
     },
     "output_type": "display_data"
    }
   ],
   "source": [
    "# Visualización\n",
    "ndvi_cmap = ['0048fb', 'ffffff', 'ce7e45', 'fad163', '74a909', '3a7405', '1a3b03'] # -0.2 - 1\n",
    "\n",
    "vis_params_ndvi = {'min': -0.2, \n",
    "                   'max': 1, \n",
    "                   'palette': ndvi_cmap}\n",
    "\n",
    "image = img_ndvi.clip(predios_agricolas)\n",
    "\n",
    "if img_prod_stats['min']['NDVI'] < 0:\n",
    "  # image = image.where(image.lte(0), 0) # Asignar valor 0 a negativos\n",
    "  image = image.updateMask(image.gt(0)) # Eliminar pixeles negativos y mantener positivos\n",
    "    \n",
    "vis_params = vis_params_ndvi\n",
    "title_map = f'NDVI\\n{img_date_format1}'\n",
    "label = '$[\\; - \\;]$'\n",
    "\n",
    "get_grafica_cartoee_color(image, vis_params, title_map, label, save_fig=None)"
   ]
  },
  {
   "cell_type": "code",
   "execution_count": 43,
   "metadata": {
    "hidden": true,
    "id": "Uo-GkEXkz3mT"
   },
   "outputs": [
    {
     "data": {
      "application/vnd.jupyter.widget-view+json": {
       "model_id": "204bb9bb76e14d5e86cc44fea19f2749",
       "version_major": 2,
       "version_minor": 0
      },
      "text/plain": [
       "Map(center=[-6.600107155901065, -79.78025931943186], controls=(WidgetControl(options=['position', 'transparent…"
      ]
     },
     "metadata": {},
     "output_type": "display_data"
    }
   ],
   "source": [
    "# Visualización\n",
    "Map = geemap.Map()\n",
    "Map.centerObject(predios_bound, 16)\n",
    "\n",
    "Map.addLayer(img_toa.clip(predios_bound), vis_rgb, 'RGB TOA')\n",
    "Map.addLayer(image, vis_params_ndvi, title_map) \n",
    "\n",
    "Map.add_colorbar(vis_params_ndvi, label= 'NDVI [-]', orientation= 'vertical')\n",
    "\n",
    "Map"
   ]
  },
  {
   "cell_type": "markdown",
   "metadata": {
    "hidden": true,
    "id": "GdZ4SrwrnpXn"
   },
   "source": [
    "##### Área Foliar"
   ]
  },
  {
   "cell_type": "code",
   "execution_count": 71,
   "metadata": {
    "hidden": true,
    "id": "Dfg-IBJfkX1h",
    "outputId": "8ebd531f-828d-42a0-d487-0c8132afde60"
   },
   "outputs": [
    {
     "data": {
      "text/plain": [
       "max       1.824356\n",
       "mean      1.004234\n",
       "median    1.051343\n",
       "min      -0.139684\n",
       "mode      1.074093\n",
       "stdDev    0.357172\n",
       "Name: LAI, dtype: float64"
      ]
     },
     "execution_count": 71,
     "metadata": {},
     "output_type": "execute_result"
    }
   ],
   "source": [
    "img_prod_stats_df['LAI']"
   ]
  },
  {
   "cell_type": "code",
   "execution_count": 74,
   "metadata": {
    "hidden": true,
    "id": "mXOeVvgfDscL",
    "outputId": "82fc087e-775c-4540-be06-dba3648bb931"
   },
   "outputs": [
    {
     "data": {
      "image/png": "[encoded data removed]",
      "text/plain": [
       "<Figure size 576x432 with 2 Axes>"
      ]
     },
     "metadata": {
      "needs_background": "light"
     },
     "output_type": "display_data"
    }
   ],
   "source": [
    "# Visualización\n",
    "vis_params_lai = {'min': -0.2, \n",
    "                  'max': img_prod_stats['max']['LAI'], \n",
    "                  'palette': ndvi_cmap} # cmp.get_palette('RdYlGn')\n",
    "\n",
    "image = img_lai.clip(predios_agricolas).blend(predios_vis).updateMask(img_lai.gt(0.5))\n",
    "\n",
    "# Para obtener G con la equación empírica de Tasumi es necesario el mapa de LAI\n",
    "# Para: \n",
    "#     LAI < 0.5 : G = 1.8*(Ts_K - 273.15) + 0.084*Rn\n",
    "#     LAI >= 0.5 : G = 0.05*Rn + 0.18*exp() \n",
    "\n",
    "# if img_prod_stats['LAI']['min'] < 0:\n",
    "  # image = image.where(image.lte(0), 0) # Asignar valor 0 a negativos\n",
    "  # image = image.updateMask(image.gt(0)) # Eliminar pixeles negativos y mantener positivos\n",
    "\n",
    "vis_params = vis_params_lai\n",
    "title_map = f'LAI\\n{img_date_format1}'\n",
    "label = '$[\\; - \\;]$'\n",
    "\n",
    "get_grafica_cartoee_color(image, vis_params, title_map, label, save_fig=None)"
   ]
  },
  {
   "cell_type": "code",
   "execution_count": 73,
   "metadata": {
    "hidden": true,
    "id": "2oK1tfuVnpXo"
   },
   "outputs": [
    {
     "data": {
      "application/vnd.jupyter.widget-view+json": {
       "model_id": "00082f55d3b04e2d8e5c36cae4722b57",
       "version_major": 2,
       "version_minor": 0
      },
      "text/plain": [
       "Map(center=[-6.600107155901065, -79.78025931943186], controls=(WidgetControl(options=['position', 'transparent…"
      ]
     },
     "metadata": {},
     "output_type": "display_data"
    }
   ],
   "source": [
    "# Visualización\n",
    "Map = geemap.Map()\n",
    "Map.centerObject(predios_bound, 16)\n",
    "\n",
    "Map.addLayer(img_toa.clip(predios_bound), vis_rgb, 'RGB TOA')\n",
    "Map.addLayer(image, vis_params_lai, 'LAI') \n",
    "\n",
    "Map.add_colorbar(vis_params_lai, label=\"LAI [-]\", orientation=\"vertical\")\n",
    "\n",
    "Map"
   ]
  },
  {
   "cell_type": "markdown",
   "metadata": {
    "heading_collapsed": true,
    "id": "QesHc_-BNQjo"
   },
   "source": [
    "### Flujo de calor del suelo / Soil Heat Flux $G$"
   ]
  },
  {
   "cell_type": "markdown",
   "metadata": {
    "heading_collapsed": true,
    "hidden": true,
    "id": "CfwHgfrvp_2l"
   },
   "source": [
    "#### Desarrollo"
   ]
  },
  {
   "cell_type": "markdown",
   "metadata": {
    "hidden": true,
    "id": "Awz4khj7lcGx"
   },
   "source": [
    "Flujo de calor del suelo $G$\n",
    "\n",
    "$$\n",
    "\\frac{G}{R_n} = ( T_s - 273.15 ) (0.0038 + 0.0074 \\alpha ) (1-0.98 \\; \\text{NDVI}^4) \\; \\; \\; \\; \\text{(26)}\n",
    "$$\n",
    "\n",
    "Where:\n",
    "- $T_s$ : surface temperature (K)\n",
    "- $\\alpha$ : surface albedo"
   ]
  },
  {
   "cell_type": "code",
   "execution_count": 61,
   "metadata": {
    "hidden": true
   },
   "outputs": [
    {
     "name": "stdout",
     "output_type": "stream",
     "text": [
      "G_Rn_minmax: [0.07645872882224285, 0.13806823420923267]\n",
      "G_minmax: 42.04784 W/m² - 86.86905 W/m²\n"
     ]
    }
   ],
   "source": [
    "# Obtener G/R_n\n",
    "\n",
    "# Forma 1: Usando expression\n",
    "G_Rn = img_Ts_K.expression(\n",
    "        '(Ts_K - 273.15)*(0.0038 + 0.0074*albedo)*(1-0.98*NDVI**4)',\n",
    "        {'Ts_K': img_Ts_K,\n",
    "         'albedo': img_albedo,\n",
    "         'NDVI': img_ndvi}\n",
    "    ).rename('G_Rn').clip(predios_agricolas)\n",
    "\n",
    "# Forma 2: Usando métodos de forma lineal (menos comprensible)\n",
    "# G_R_n = (\n",
    "#     img_Ts_c # Ts - 273.15\n",
    "#     .multiply(img_albedo.multiply(0.0074).add(0.0038)) # albedo*0.0074 + 0.0038\n",
    "#     .multiply(img_ndvi.select('NDVI').pow(4).multiply(-0.98).add(1)) \n",
    "#     .rename('G_R_n').clip(predios_agricolas)\n",
    "# ) # img_Ts_c = img_Ts_k.subtract(273.15)\n",
    "\n",
    "\n",
    "# Rangos de G/R_n\n",
    "G_Rn_minmax = G_Rn.reduceRegion(ee.Reducer.minMax(),\n",
    "                                geometry=predios_agricolas,\n",
    "                                scale=30).values().reverse().getInfo()\n",
    "print(f'G_Rn_minmax: {G_Rn_minmax}')\n",
    "\n",
    "\n",
    "# Obtener G\n",
    "G = G_Rn.multiply(R_n.select('R_n')).rename('G')\n",
    "\n",
    "# Rangos de G\n",
    "G_minmax = G.reduceRegion(ee.Reducer.minMax(), scale=30).values().reverse().getInfo()\n",
    "print(f'G_minmax: {G_minmax[0]:.5f} W/m² - {G_minmax[1]:.5f} W/m²')"
   ]
  },
  {
   "cell_type": "code",
   "execution_count": 70,
   "metadata": {
    "hidden": true,
    "scrolled": true
   },
   "outputs": [
    {
     "data": {
      "text/plain": [
       "max       1.824356\n",
       "mean      1.004234\n",
       "median    1.051343\n",
       "min      -0.139684\n",
       "mode      1.074093\n",
       "stdDev    0.357172\n",
       "Name: LAI, dtype: float64"
      ]
     },
     "execution_count": 70,
     "metadata": {},
     "output_type": "execute_result"
    }
   ],
   "source": [
    "img_prod_stats_df['LAI']"
   ]
  },
  {
   "cell_type": "code",
   "execution_count": null,
   "metadata": {
    "hidden": true
   },
   "outputs": [],
   "source": [
    "# # Forma 2: Tasumi (2003) using soil heat flux data collected by Wright (1982), \n",
    "# # USDA-ARS for irrigated crops near Kimberly, Idaho\n",
    "\n",
    "# if pix_lai.getInfo() < 0.5:\n",
    "#     G_pix = ee.Number.expression(\n",
    "#         '1.8*(pix_ts-273.15)+0.084*R_n_calculated', # (pix_ts-273.15) cuando pix_ts es en Kelvin para obtener °C\n",
    "#         {'pix_ts':pix_ts,   # pix_ts está en K\n",
    "#          'R_n_calculated':R_n_calculated\n",
    "#          }\n",
    "#         )\n",
    "# else:\n",
    "#     G_pix = ee.Number.expression(\n",
    "#         '0.05 + 0.18*pix_lai*R_n_calculated',\n",
    "#         {'pix_lai':pix_lai.multiply(-0.521).exp(),\n",
    "#          'R_n_calculated':R_n_calculated\n",
    "#          }\n",
    "#         )"
   ]
  },
  {
   "cell_type": "code",
   "execution_count": 67,
   "metadata": {
    "cellView": "form",
    "hidden": true,
    "id": "Qxl6GgOLnMBb",
    "scrolled": false
   },
   "outputs": [
    {
     "data": {
      "application/vnd.jupyter.widget-view+json": {
       "model_id": "753594067fbf4f6b9e4ca77d8c995be1",
       "version_major": 2,
       "version_minor": 0
      },
      "text/plain": [
       "Map(center=[-6.599795740070353, -79.78072031868163], controls=(WidgetControl(options=['position', 'transparent…"
      ]
     },
     "metadata": {},
     "output_type": "display_data"
    }
   ],
   "source": [
    "# Visualización: Flujo de calor del suelo G\n",
    "vis_rgb_tasumi = {'min': 0.0,\n",
    "                  'max': 0.3,\n",
    "                  'bands': ['B4_SR', 'B3_SR', 'B2_SR']}\n",
    "\n",
    "G_vis = {'min':G_minmax[0],\n",
    "         'max':G_minmax[1], \n",
    "         'palette': cmp.get_palette('RdYlGn_r')}\n",
    "\n",
    "\n",
    "Map = geemap.Map(layer_ctrl=True)#height='800px') \n",
    "Map.centerObject(predios_agricolas, 16)\n",
    "\n",
    "Map.addLayer(img_sr_tasumi.clip(predios_bound), vis_rgb_tasumi, 'RGB SR') \n",
    "\n",
    "Map.addLayer(G, G_vis, 'G') \n",
    "# Map.addLayer(G.updateMask(G.gt(0)), {'min':0, 'max': G_minmax[1], 'palette': cmp.get_palette('RdYlGn_r')}, 'G_gt0') \n",
    "\n",
    "Map.addLayer(empty, {}, 'Chongoyape')\n",
    "Map.addLayer(empty2, {}, 'Chongoyape_caja')\n",
    "\n",
    "Map"
   ]
  },
  {
   "cell_type": "markdown",
   "metadata": {
    "id": "bSAKu9ZTNUFQ"
   },
   "source": [
    "### Flujo de calor sensible / Sensible Heat Flux $H$"
   ]
  },
  {
   "cell_type": "markdown",
   "metadata": {
    "heading_collapsed": true,
    "id": "Tu10XDKxC2Rc"
   },
   "source": [
    "#### Descripción"
   ]
  },
  {
   "cell_type": "markdown",
   "metadata": {
    "hidden": true,
    "id": "m-06Hgq1b5SM"
   },
   "source": [
    "METRIC differs from previous applications of SEBAL principally in how the 'H function' is calibrated for each specific satellite image. In both METRIC and SEBAL, H (W m-2) is estimated from an aerodynamic function\n",
    "\n",
    "$$\n",
    "H = \\rho_{\\text{air}} C_p \\frac{dT}{ r_{\\text{ah}} } \n",
    "$$\n",
    "\n",
    "Where:\n",
    "- $\\rho_{\\text{air}}$ : air density (kg m-3)\n",
    "- $C_p$ : specific heat of air at constant pressure (J kg-1 K-1)\n",
    "- $r_{\\text{ah}}$ : aerodynamic resistance (s m-1) between two near surface heights, z1 and z2 (generally 0.1 and 2 m) computed as a function of estimated aerodynamic roughness of the particular pixel. \n",
    "\n",
    "In METRIC, the $r_{\\text{ah}}$ calculation **uses wind speed extrapolated from some blending height above the ground surface (typically 100 to 200 m) and an iterative stability correction scheme based on the Monin-Obhukov functions (Allen et al. 1996)**. The *dT* parameter (K) represents the near-surface temperature difference between z1 and z2. \n",
    "- *dT* is used because of the difficulty in estimating surface temperature ($T_s$) accurately from satellite due to uncertainty in atmospheric attenuation or contamination and radiometric calibration of the sensor. \n",
    "\n",
    "- In addition, $T_s$, as measured by satellite (i.e., radiometric or kinetic temperature) **can deviate from** the \"aerodynamic\" temperature that derives the heat transfer process by several degrees (Kustas et al. 1994; Norman et al. 1995; Qualls and Brutsaert 1996). \n",
    "> Además, la Ts , medida por satélite (es decir, la temperatura radiométrica o cinética) **puede desviarse de** la temperatura \"aerodinámica\" que deriva del proceso de transferencia de calor en varios grados (Kustas et al. 1994; Norman et al. 1995; Qualls y Brutsaert 1996).\n",
    "\n",
    "The temperature gradient *dT* is designed to \"float\" above the surface, beyond the height for sensible heat roughness ($z_{oh}$) and zero plane displacement, and can be approximated as a relatively simple linear function of $T_s$ as pioneered by Bastiaanssen (1995)\n",
    "\n",
    "$$\n",
    "dT = a + b \\; T_{s \\; \\text{datum}}\n",
    "$$\n",
    "\n",
    "where:\n",
    "\n",
    "- $a$ and $b$ : empirically determined constants for a given satellite image  \n",
    "- $T_{s \\; \\text{datum}}$ : surface temperature adjusted to a common elevation data for each image pixel using a digital elevation model and customized lapse rate. \n",
    "\n",
    "Bastiaanssen (1995) provided empirical evidence for using the linear relation between *dT* and $T_s$. Theoretically, assuming some essentially constant temperature at a blending height well above the surface, for example at 100-200 m, where temperature is nearly independent of $H$, and with all instability effects incorporated into $r_{\\text{ah}}$, Eq. (28) suggests that *dT* and thus, $T_s$, will be largely proportional to H for a fixed aerodynamic condition. Therefore, one can anticipate a segment of the temperature profile, represented by *dT*, to be proportional to both $H$ and to $T_s$. \n",
    "\n"
   ]
  },
  {
   "cell_type": "markdown",
   "metadata": {
    "hidden": true,
    "id": "2VZewBWqnC96"
   },
   "source": [
    "The application of Eq. (29) appears to extend well across a range of surface roughness, because as roughness increases and $r_{ah}$ decreases, *dT*, for the same value of $H$, decreases due to a more efficient transfer of $H$, and $T_s$ reduces for the same reason. \n",
    "\n",
    "The determination of a and b is described in a following section. \n",
    "\n",
    "The use of *dT* indexed to $T_s$ that does not rely on absolute values for $T_s$ substantially reduces error in the calculation of $H$. This approach constitutes on one of the pioneering components of the SEBAL model developed by Bastiaanssen (1995). \n",
    "\n",
    "The use of $T_{s \\; \\text{datum}}$ in Eq. (29) corrects for cooling impacts on $T_s$ due to increasing evaluation within an image that are not related to *dT* and sensible heat flux."
   ]
  },
  {
   "cell_type": "markdown",
   "metadata": {
    "hidden": true,
    "id": "vxnSiTHnqumr"
   },
   "source": [
    "**Aerodynamic Transport**\n",
    "\n",
    "The value for $r_{\\text{ah}}$ is **strongly influenced by** the buoyancy within the boundary layer **driven by** the rate of sensible heat flux. Because both $r_{\\text{ah}}$ and $H$ are unknown at each pixel, an iterative solution is required. \n",
    "\n",
    "During the first iteration, $r_{\\text{ah}}$ is computed assuming neutral stability\n",
    "\n",
    "$$\n",
    "r_{\\text{ah}} = \\frac{\\ln{(z_2/z_1)}}{{u*} \\; k} \\; \\; \\; \\; \\qquad (30)\n",
    "$$\n",
    "\n",
    "Where:\n",
    "- $z_1$ and $z_2$ : heights above the zero-plane displacement of the vegetation where the endpoints of *dT* are defined \n",
    "- $u*$ : friction velocity (m s-1) \n",
    "- $k$ : von Karman's constant **(0.41)**. \n",
    "\n",
    "Friction velocity $u*$ is computed during the first iteration using **the logarithmic wind law for neutral atmospheric conditions**\n",
    "\n",
    "$$\n",
    "u* = \\frac{ ku_{200} }{ \\ln{(200/z_{om})} } \\; \\; \\; \\; \\qquad (31)\n",
    "$$\n",
    "\n",
    "Where:\n",
    "- $u_{200}$ : wind speed (m s-1) at a blending height assumed to be 200 m, and\n",
    "- $z_{om}$ : momentum roughness length (m). $z_{om}$ is a measure of the form drag and skin friction for the layer of air that interacts with the surface.\n",
    "\n",
    "$u*$ is computed for each pixel inside the process model **using a specific roughness length for each pixel**, but with $u_{200}$ assumed to be constant over all pixels of the image since it is defined as occuring at a \"blending height\" unaffected by surface features. Eqs. (30) and (31) support the use of a temperature gradient defined between two heights that are both above the surface. This allows one to estimate $r_{\\text{ah}}$ without having to estimate a second aerodynamic roughness for sensible heat transfer ($z_{oh}$), since height $z_1$ is defined to be at an elevation above $z_{oh}$. This is an advantage because $z_{oh}$ can be difficult to estimate for sparse vegetation. \n",
    "\n"
   ]
  },
  {
   "cell_type": "markdown",
   "metadata": {
    "hidden": true,
    "id": "tgV47wc7Xbua"
   },
   "source": [
    "The wind speed at an assumed blending height (200 m) above the weather station, $u_{200}$, is calculated as\n",
    "\n",
    "$$\n",
    "u_{200} = \\frac{ u_w \\ln{(200/z_{omw})} }{ \\ln{(z_x/z_{omw})} } \\qquad (32)\n",
    "$$\n",
    "\n",
    "Where:\n",
    "- $u_w$ : wind speed measured at a weather station at $z_x$ height above the surface\n",
    "- $z_{omw}$ : the roughness length for the weather station surface, similar to Allen and Wright (1997).\n",
    "\n",
    "All units for $z$ are the same. The value for $u_{200}$ is assumed constant for the satellite image. This asumption allows for the use of a constant relation between *dT* and $T_s$.\n",
    "\n",
    "Tasumi et al. (2005b) showed ET as calculated by METRIC to be relatively insensitive to the value for $z_{om}$. In METRIC, the momentum roughness length $z_{om}$ **is estimated for each pixel according to land use type or amount of vegetation**. General landuse type is used where the variation in $z_{om}$ as a function of vegetation amount is not well established. General values are given in Brutsaert (1982) and Allen et al. (1996). In agricultural areas, $z_{om}$ and, in turn, crop height is generally proportional to the LAI, and is therefore calculated as a function of LAI for “short” agricultural crops (less than about 1 m in height) using a relationship from Tasumi (2003)\n",
    "\n",
    "$$\n",
    "z_{om} = 0.018 \\; \\text{LAI} \\qquad (33)\n",
    "$$\n",
    "\n",
    "where $z_{om}$ has units of m and LAI is dimensionless.\n",
    "\n",
    "A minimum value for $z_{om} = 0.005$ m represents roughness typical of bare agricultural soils. Eq. (33) tends to underestimate $z_{om}$ for corn which is typically 2 to 3 m in height (Tasumi 2003), and a different function would be required for vines and trees. Because of the difficulties in estimating $z_{om}$ from a general function of LAI for all vegetation types within an image, Bastiaanssen (2000) suggested customizing a function for $z_{om}$ based on NDVI that is developed for each satellite image \n",
    "\n",
    "$$\n",
    "z_{om} = \\exp{[( a_1 \\text{NDVI}) + b_1]} \\qquad (34a)\n",
    "$$\n",
    "\n",
    "or, as modified by Allen (2002)\n",
    "\n",
    "$$\n",
    "z_{om} = \\exp{[( a_1 \\text{NDVI}/\\alpha) + b_1]} \\qquad (34b)\n",
    "$$\n",
    "\n",
    "where\n",
    "- $a_1$ and $b_1$ : regression constants derived from a plot of $\\ln{(z_{om})}$ versus NDVI or $\\ln{(z_{om})}$ versus NDVI/$\\alpha$ for two or more conditions in the image representing specific vegetation types. \n",
    "\n",
    "Eqs. (34a) and (34b) must be fitted to local vegetation and conditions. Generally $\\alpha$ is lower for taller vegetation such as trees due to shading. Therefore, the use of albedo helps to distinguish between tall and short vegetation types that may have similar NDVI, but different albedo. Variations on Eqs. (34a) and (34b) can be explored by the user to improve the predictive accuracy, including use of other parameters.\n",
    "\n",
    "\n",
    "\n",
    "\n"
   ]
  },
  {
   "cell_type": "markdown",
   "metadata": {
    "hidden": true,
    "id": "eqgOOyXNpbnl"
   },
   "source": [
    "**The effects of mountainous terrain and elevation on wind speed** are complicated and difficult to quantify (Oke 1987). In METRIC, $z_{om}$ for image pixels in mountains is adjusted on a rudimentary basis to attempt to account for effects of general terrain roughness on momentum and heat transfer. \n",
    "\n",
    "An empirical adjustment is made by multiplying $z_{om}$, as calculated using Eqs. (33) and (34a) and (34b) or from general land classification, by a function determined locally in Idaho **using slope** as computed from a digital elevation model\n",
    "\n",
    "$$\n",
    "z_{om_min} = z_{om} \\left( 1 + \\frac{(180/\\pi)s - 5}{20} \\right) \\qquad (35)\n",
    "$$\n",
    "\n",
    "To further adjust the heat transfer equation for mountanious terrain, $u_{200}$ at mountainous image pixels is multiplied by a wind speed weighting coefficient ($\\omega$) before computing $u*$ and $r_{ah}$. $w$ is calculated as\n",
    "\n",
    "$$\n",
    "\\omega = 1+0.1 \\left( \\frac{\\text{Elevation} - \\text{Elevation}_{\\text{station}}}{1000} \\right) \\qquad (36)\n",
    "$$\n",
    "\n",
    "where:\n",
    "- $\\text{Elevation}$: elevation of the pixel (m), and \n",
    "- $\\text{Elevation}_{\\text{station}}$: elevation where the wind speed is measured. \n",
    "\n",
    "Equations (35) and (36) were developed during METRIC applications in mountainous regions of southern Idaho (Tasumi 2003).\n"
   ]
  },
  {
   "cell_type": "markdown",
   "metadata": {
    "hidden": true,
    "id": "2LNE1YPTpJmf"
   },
   "source": [
    "**Air density** in the aerodynamic equation is calculated using standard equations for mean atmospheric pressure and the universal gas law and simplifying for the effect of vapor pressure (virtual temperature is estimated as 1.01 $T_s$) as done by Allen et al. (1998)\n",
    "\n",
    "$$\n",
    "\\rho_{air} = \\frac{1000P}{1.01(T_s - dT)R}\n",
    "$$\n",
    "\n",
    "where:\n",
    "- $\\rho_{air}$ : air density (kg m-3)\n",
    "- $P$ : mean atmospheric pressure for the pixel elevation (kPa)\n",
    "- $R$ : specific gas constant (287 J kg-1 K-1)\n",
    "- $T_s - dT$ : surrogate (K) for near-surface air temperature at the pixel \n"
   ]
  },
  {
   "cell_type": "markdown",
   "metadata": {
    "id": "CsJyawIHC6Bs"
   },
   "source": [
    "#### Desarrollo"
   ]
  },
  {
   "cell_type": "markdown",
   "metadata": {
    "heading_collapsed": true,
    "id": "44dTpCUr7XQB"
   },
   "source": [
    "##### Selección de pixeles "
   ]
  },
  {
   "cell_type": "markdown",
   "metadata": {
    "hidden": true,
    "id": "_-AO_jNfvNLP"
   },
   "source": [
    "**Referencia**\n",
    "- Bhattarai, N., Quackenbush, L. J., Im, J., & Shaw, S. B. (2017). A new optimized algorithm for automating endmember pixel selection in the SEBAL and METRIC models. *Remote Sensing of Environment*, 196, 178-192. [10.1016/j.rse.2017.05.009](http://dx.doi.org/10.1016/j.rse.2017.05.009)"
   ]
  },
  {
   "cell_type": "markdown",
   "metadata": {
    "hidden": true,
    "id": "aWAZr8MeZIyN"
   },
   "source": [
    "**Selección de pixeles fríos y calientes**\n",
    "\n",
    "- In terms of identifying a cold pixel, the search method seeks to find\n",
    "the coldest pixels with the highest NDVI. There is not necessarily one\n",
    "pixel that has both the lowest Ts and the highest NDVI. Thus, instead\n",
    "of searching for a single pixel, the method searches for a subset of pixels that have both low NDVI and high Ts.\n",
    "- Specifically, the cold pixel selection process starts by searching for **pixels that have a Ts value within the lowest n1% (e.g. n1 = 1) of the Ts histogram** and NDVI values in\n",
    "the top n2% (e.g. n2 = 1) of the NDVI histogram.\n",
    "- The search continues by increasing the value of n2 first (i.e. increasing n2 in increments of 1 up to 10, keeping n1 = 1) and then increasing n1 (up to 10 in increments of 1) until 10 pixels are identified."
   ]
  },
  {
   "cell_type": "code",
   "execution_count": 8,
   "metadata": {
    "hidden": true,
    "id": "Wo4sbbEovNLP"
   },
   "outputs": [],
   "source": [
    "# Datos\n",
    "# 2 de Diciembre 2021: Almácigo\n",
    "# 4 de Enero 2022: Transplante\n",
    "\n",
    "# 8 Imágenes seleccionadas\n",
    "ids = [\n",
    "    'LANDSAT/LC09/C02/T1/LC09_010065_20211212', # 0 - 12/12 - l9\n",
    "    'LANDSAT/LC09/C02/T1/LC09_010065_20220113', # 1 - 01/13 - l9 OJO: NDVI negativos -> Posible riego 01 13\n",
    "    'LANDSAT/LC09/C02/T1/LC09_010065_20220129', # 2 - 01/29 - l9\n",
    "    'LANDSAT/LC08/C02/T1/LC08_010065_20220310', # 3 - 03/10 - l8\n",
    "    'LANDSAT/LC09/C02/T1/LC09_010065_20220403', # 4 - 04/03 - l9\n",
    "    'LANDSAT/LC09/C02/T1/LC09_010065_20220521', # 5 - 05/21 - l9\n",
    "    'LANDSAT/LC08/C02/T1/LC08_010065_20220529', # 6 - 05/29 - l8\n",
    "    'LANDSAT/LC08/C02/T1/LC08_010065_20220614'  # 7 - 06/14 - l8\n",
    "      ]\n",
    "\n",
    "# Ojo: El mapa Aspect no se puede obtener en los límites -> usar áreas mayores a la que necesitas\n",
    "dem = ee.Image(\"USGS/SRTMGL1_003\").clip(roi) \n",
    "\n",
    "# dem.reduceRegion(ee.Reducer.minMax(), geometry=predios_agricolas,scale=30).getInfo() \n",
    "# {'elevation_max': 54, 'elevation_min': 40}"
   ]
  },
  {
   "cell_type": "code",
   "execution_count": 9,
   "metadata": {
    "hidden": true,
    "id": "oU7Mv-EfSDVj"
   },
   "outputs": [],
   "source": [
    "albedo_cmap = ['68181f', 'd6604d', 'f9dbc7', 'd1e5f0', '2166ac', '053061'] # 0 - 0.5\n",
    "ndvi_cmap = ['0048fb', 'ffffff', 'ce7e45', 'fad163', '74a909', '3a7405', '1a3b03'] # -0.2 - 1\n",
    "ts_cmap = ['fefccc', 'fbd976', 'f08c39', 'ea4a33', 'e43d32', '812026'] # 280 - 330 en K o 6.85 - 56.85 en °C\n",
    "rn_cmp = ['560e0d', 'fd5903', 'fbfe04', '3aff01', '01feef', '0000fe', 'fd6dfd', 'ffffff']\n",
    "rn_cmp_r = ['ffffff', 'fd6dfd', '0000fe', '01feef', '3aff01', 'fbfe04', 'fd5903', '560e0d']\n",
    "# Revertir lista\n",
    "# https://datagy.io/python-reverse-list/s\n",
    "# cmp.plot_colormaps(width=12, height=0.4)"
   ]
  },
  {
   "cell_type": "code",
   "execution_count": 17,
   "metadata": {
    "colab": {
     "base_uri": "https://localhost:8080/",
     "height": 256
    },
    "hidden": true,
    "id": "kFjg_auLnbnJ",
    "outputId": "51bffe85-3636-42e9-e5bf-ef9ac1c06d8c",
    "scrolled": true
   },
   "outputs": [
    {
     "name": "stdout",
     "output_type": "stream",
     "text": [
      "Rn de imagen 2022-03-10 procesada!\n"
     ]
    },
    {
     "data": {
      "text/html": [
       "<div>\n",
       "<style scoped>\n",
       "    .dataframe tbody tr th:only-of-type {\n",
       "        vertical-align: middle;\n",
       "    }\n",
       "\n",
       "    .dataframe tbody tr th {\n",
       "        vertical-align: top;\n",
       "    }\n",
       "\n",
       "    .dataframe thead th {\n",
       "        text-align: right;\n",
       "    }\n",
       "</style>\n",
       "<table border=\"1\" class=\"dataframe\">\n",
       "  <thead>\n",
       "    <tr style=\"text-align: right;\">\n",
       "      <th></th>\n",
       "      <th>LAI</th>\n",
       "      <th>NDVI</th>\n",
       "      <th>SAVI</th>\n",
       "      <th>Ts_c</th>\n",
       "      <th>Ts_k</th>\n",
       "      <th>albedo</th>\n",
       "      <th>cos_theta</th>\n",
       "      <th>e_0</th>\n",
       "      <th>e_NB</th>\n",
       "      <th>slope</th>\n",
       "      <th>t_sw</th>\n",
       "    </tr>\n",
       "  </thead>\n",
       "  <tbody>\n",
       "    <tr>\n",
       "      <th>max</th>\n",
       "      <td>1.824356</td>\n",
       "      <td>0.813376</td>\n",
       "      <td>0.577836</td>\n",
       "      <td>29.890949</td>\n",
       "      <td>303.040949</td>\n",
       "      <td>0.210209</td>\n",
       "      <td>0.907059</td>\n",
       "      <td>0.968244</td>\n",
       "      <td>0.976020</td>\n",
       "      <td>6.230337</td>\n",
       "      <td>0.673972</td>\n",
       "    </tr>\n",
       "    <tr>\n",
       "      <th>mean</th>\n",
       "      <td>1.004234</td>\n",
       "      <td>0.695226</td>\n",
       "      <td>0.439253</td>\n",
       "      <td>25.679101</td>\n",
       "      <td>298.829101</td>\n",
       "      <td>0.156955</td>\n",
       "      <td>0.863685</td>\n",
       "      <td>0.960042</td>\n",
       "      <td>0.973314</td>\n",
       "      <td>1.693220</td>\n",
       "      <td>0.673856</td>\n",
       "    </tr>\n",
       "    <tr>\n",
       "      <th>median</th>\n",
       "      <td>1.051343</td>\n",
       "      <td>0.728591</td>\n",
       "      <td>0.462851</td>\n",
       "      <td>25.549557</td>\n",
       "      <td>298.704816</td>\n",
       "      <td>0.163518</td>\n",
       "      <td>0.862504</td>\n",
       "      <td>0.960515</td>\n",
       "      <td>0.973465</td>\n",
       "      <td>1.860348</td>\n",
       "      <td>0.673853</td>\n",
       "    </tr>\n",
       "    <tr>\n",
       "      <th>min</th>\n",
       "      <td>-0.139684</td>\n",
       "      <td>0.057734</td>\n",
       "      <td>0.020029</td>\n",
       "      <td>24.946229</td>\n",
       "      <td>298.096229</td>\n",
       "      <td>0.038789</td>\n",
       "      <td>0.827631</td>\n",
       "      <td>0.948603</td>\n",
       "      <td>0.969539</td>\n",
       "      <td>0.000000</td>\n",
       "      <td>0.673762</td>\n",
       "    </tr>\n",
       "    <tr>\n",
       "      <th>mode</th>\n",
       "      <td>1.074093</td>\n",
       "      <td>0.759826</td>\n",
       "      <td>0.490374</td>\n",
       "      <td>25.421164</td>\n",
       "      <td>298.579211</td>\n",
       "      <td>0.163518</td>\n",
       "      <td>0.862504</td>\n",
       "      <td>0.961979</td>\n",
       "      <td>0.973954</td>\n",
       "      <td>0.930388</td>\n",
       "      <td>0.673840</td>\n",
       "    </tr>\n",
       "    <tr>\n",
       "      <th>stdDev</th>\n",
       "      <td>0.357172</td>\n",
       "      <td>0.119245</td>\n",
       "      <td>0.097244</td>\n",
       "      <td>0.560218</td>\n",
       "      <td>0.560218</td>\n",
       "      <td>0.030689</td>\n",
       "      <td>0.011948</td>\n",
       "      <td>0.003572</td>\n",
       "      <td>0.001179</td>\n",
       "      <td>0.962314</td>\n",
       "      <td>0.000031</td>\n",
       "    </tr>\n",
       "  </tbody>\n",
       "</table>\n",
       "</div>"
      ],
      "text/plain": [
       "             LAI      NDVI      SAVI       Ts_c        Ts_k    albedo  \\\n",
       "max     1.824356  0.813376  0.577836  29.890949  303.040949  0.210209   \n",
       "mean    1.004234  0.695226  0.439253  25.679101  298.829101  0.156955   \n",
       "median  1.051343  0.728591  0.462851  25.549557  298.704816  0.163518   \n",
       "min    -0.139684  0.057734  0.020029  24.946229  298.096229  0.038789   \n",
       "mode    1.074093  0.759826  0.490374  25.421164  298.579211  0.163518   \n",
       "stdDev  0.357172  0.119245  0.097244   0.560218    0.560218  0.030689   \n",
       "\n",
       "        cos_theta       e_0      e_NB     slope      t_sw  \n",
       "max      0.907059  0.968244  0.976020  6.230337  0.673972  \n",
       "mean     0.863685  0.960042  0.973314  1.693220  0.673856  \n",
       "median   0.862504  0.960515  0.973465  1.860348  0.673853  \n",
       "min      0.827631  0.948603  0.969539  0.000000  0.673762  \n",
       "mode     0.862504  0.961979  0.973954  0.930388  0.673840  \n",
       "stdDev   0.011948  0.003572  0.001179  0.962314  0.000031  "
      ]
     },
     "metadata": {},
     "output_type": "display_data"
    }
   ],
   "source": [
    "# Imagen Landsat\n",
    "img_id = ids[3]\n",
    "img_ee = ee.Image(img_id).clip(roi)\n",
    "img_toa = convert_RAW_to_TOA(img_ee)\n",
    "img_date = img_ee.date().format('YYYY-MM-dd').getInfo()\n",
    "\n",
    "# Radiación Neta\n",
    "R_n, img_sr_tasumi, img_productos, d2, doy = getRadiacionNeta(img_ee, roi, dem) # roi: Ferreñafe\n",
    "\n",
    "# Imágenes\n",
    "img_ndvi = img_productos.select('NDVI')\n",
    "img_savi = img_productos.select('SAVI')\n",
    "img_lai  = img_productos.select('LAI')\n",
    "img_albedo = img_productos.select('albedo')\n",
    "img_Ts_c = img_productos.select('Ts_c')\n",
    "img_Ts_k = img_productos.select('Ts_k')\n",
    "img_slope = img_productos.select('slope')\n",
    "\n",
    "cos_theta_rel = img_productos.select('cos_theta')\n",
    "t_sw = img_productos.select('t_sw')\n",
    "e_0  = img_productos.select('e_0')\n",
    "\n",
    "img_toa = img_toa.clip(predios_bound)\n",
    "\n",
    "img_Ts_c = img_Ts_c.clip(predios_agricolas)\n",
    "img_ndvi = img_ndvi.clip(predios_agricolas)\n",
    "img_albedo = img_albedo.clip(predios_agricolas)\n",
    "\n",
    "print(f'Rn de imagen {img_date} procesada!')\n",
    "\n",
    "img_productos_dict = get_stats(img_productos, predios_agricolas, 30)\n",
    "img_productos_df = pd.DataFrame.from_dict(img_productos_dict, orient='index')\n",
    "\n",
    "\n",
    "# Diccionarios de visualización\n",
    "vis_params_ndvi = {\n",
    "    'min': -0.2, # img_productos_dict['min']['NDVI'],\n",
    "    'max': 1,    # img_productos_dict['max']['NDVI'],\n",
    "    'palette': ndvi_cmap # cmp.get_palette('RdYlGn')\n",
    "}\n",
    "\n",
    "vis_params_ts = {\n",
    "    'min': img_productos_dict['min']['Ts_c'],\n",
    "    'max': img_productos_dict['max']['Ts_c'],\n",
    "    'palette':cmp.get_palette('RdYlBu_r')\n",
    "}\n",
    "\n",
    "vis_params_alb = {\n",
    "    'min': 0,\n",
    "    'max': 0.25,\n",
    "    'palette': cmp.get_palette('afmhot') #cmp.get_palette('afmhot') albedo_cmap\n",
    "}\n",
    "\n",
    "\n",
    "# cmp.palettes.gist_rainbow\n",
    "display(img_productos_df)"
   ]
  },
  {
   "cell_type": "markdown",
   "metadata": {
    "hidden": true,
    "id": "s_6Tm2-SSDVj"
   },
   "source": [
    "Imagen Sentinel-2 que servirá de ayuda para una mejor selección de pixeles fríos y calientes."
   ]
  },
  {
   "cell_type": "code",
   "execution_count": null,
   "metadata": {
    "colab": {
     "base_uri": "https://localhost:8080/"
    },
    "hidden": true,
    "id": "anjCmNHESDVj",
    "outputId": "67558921-4692-45fc-e176-c232537976ad"
   },
   "outputs": [],
   "source": [
    "img_s2_id = 'COPERNICUS/S2/20220615T153619_20220615T154006_T17MPN' # 2022-06-14\n",
    "# img_s2_id = 'COPERNICUS/S2/20211212T153621_20211212T154103_T17MPN' # 2021-12-12\n",
    "\n",
    "img_s2 = ee.Image(img_s2_id) \n",
    "img_s2_vis = img_s2.multiply(0.0001).clip(predios_bound)\n",
    "img_s2_date = img_s2.date().format('YYYY-MM-dd').getInfo()\n",
    "\n",
    "print(img_s2_date)"
   ]
  },
  {
   "cell_type": "code",
   "execution_count": null,
   "metadata": {
    "hidden": true,
    "id": "MhMgqo_GSDVj"
   },
   "outputs": [],
   "source": [
    "vis_rgb_s2 = {'min': 0.0, 'max': 0.3, 'bands': ['B4', 'B3', 'B2'], 'gamma': 0.4} "
   ]
  },
  {
   "cell_type": "markdown",
   "metadata": {
    "hidden": true,
    "id": "q5JpdU0KvNLQ"
   },
   "source": [
    "A continuación se realizará el friltrado de pixeles. Mediante la revisión de mapas de temperatura, NDVI y albedo es posible visualizar focos de calor."
   ]
  },
  {
   "cell_type": "markdown",
   "metadata": {
    "hidden": true,
    "id": "dNSjtb1JNUJh"
   },
   "source": [
    "###### Funciones `recorte_por_percentiles` y `get_pixel_values` "
   ]
  },
  {
   "cell_type": "code",
   "execution_count": 11,
   "metadata": {
    "hidden": true,
    "id": "tgIgio-XSDVk"
   },
   "outputs": [],
   "source": [
    "def recorte_por_percentiles(n1, n2, img_ndvi, img_ts, geometry, filtrado=None):\n",
    "    \n",
    "    # Para NDVI > 0, retorna el percentil n1\n",
    "    perc_n1 = ee.Number(\n",
    "        img_ndvi.updateMask(img_ndvi.gte(0))\n",
    "        .reduceRegion(ee.Reducer.percentile([n1]), geometry=geometry, scale=30)\n",
    "        .values()\n",
    "        )\n",
    "    \n",
    "    if filtrado == 'cold':\n",
    "        # Para los valores de ndvi mayores al percentil perc_n1, retornar sus temperaturas\n",
    "        ts_recortado_p_n1 = img_ts.updateMask(img_ndvi.gte(perc_n1))\n",
    "    else:\n",
    "        img_ndvi = img_ndvi.clip(geometry)\n",
    "        img_ts = img_ts.clip(geometry)\n",
    "        # Para los valores de ndvi menores al percentil perc_n1, retornar sus temperaturas\n",
    "        ts_recortado_p_n1 = img_ts.updateMask(img_ndvi.lte(perc_n1))\n",
    "        \n",
    "    \n",
    "    perc_n2 = ee.Number(\n",
    "        ts_recortado_p_n1\n",
    "        .reduceRegion(ee.Reducer.percentile([n2]), geometry=geometry, scale=30)\n",
    "        .values()\n",
    "        )\n",
    "    \n",
    "    if filtrado == 'cold':\n",
    "        # Los valores más bajos de temperatura\n",
    "        pixeles = ts_recortado_p_n1.updateMask(ts_recortado_p_n1.lte(perc_n2))\n",
    "    else:\n",
    "        # Los valores más altos de temperatura\n",
    "        pixeles = ts_recortado_p_n1.updateMask(ts_recortado_p_n1.gte(perc_n2))\n",
    "            \n",
    "    return pixeles"
   ]
  },
  {
   "cell_type": "code",
   "execution_count": 12,
   "metadata": {
    "hidden": true,
    "id": "Wq5l7leodWIo"
   },
   "outputs": [],
   "source": [
    "# Obtener Valores de acuerdo al pixel seleccionado\n",
    "\n",
    "def get_pixel_values(punto, pixeles, d2, img_productos, dem):\n",
    "    \n",
    "    # Seleccionando imagenes a partir de img_productos\n",
    "    img_ndvi = img_productos.select('NDVI')\n",
    "    img_savi = img_productos.select('SAVI')\n",
    "    img_lai  = img_productos.select('LAI')\n",
    "    img_albedo = img_productos.select('albedo')\n",
    "    img_Ts_c = img_productos.select('Ts_c')\n",
    "    img_Ts_K = img_productos.select('Ts_k')\n",
    "    cos_theta_rel = img_productos.select('cos_theta')\n",
    "    t_sw = img_productos.select('t_sw')\n",
    "    e_0  = img_productos.select('e_0')\n",
    "    img_slope = img_productos.select('slope')\n",
    "   \n",
    "    # Reductores\n",
    "    pix_ndvi  = ee.Number(img_ndvi.reduceRegion(ee.Reducer.first(), geometry=punto, scale=30).get('NDVI'))\n",
    "    pix_lai   = ee.Number(img_lai.reduceRegion(ee.Reducer.first(), geometry=punto, scale=30).get('LAI'))\n",
    "    pix_savi  = ee.Number(img_savi.reduceRegion(ee.Reducer.first(), geometry=punto, scale=30).get('SAVI'))\n",
    "\n",
    "    pix_elev  = ee.Number(dem.reduceRegion(ee.Reducer.first(), geometry=punto, scale=30).get('elevation'))\n",
    "    pix_slope = ee.Number(img_slope.reduceRegion(ee.Reducer.first(), geometry=punto, scale=30).get('slope'))\n",
    "    \n",
    "    pix_alb   = ee.Number(img_albedo.reduceRegion(ee.Reducer.first(), geometry=punto, scale=30).get('albedo'))\n",
    "    pix_ts_K    = ee.Number(pixeles.reduceRegion(ee.Reducer.first(), geometry=punto, scale=30).get('Ts_k'))\n",
    "  \n",
    "    pix_theta = ee.Number(cos_theta_rel.reduceRegion(ee.Reducer.first(), geometry=punto, scale=30).get('cos_theta'))\n",
    "    pix_t_sw  = ee.Number(t_sw.reduceRegion(ee.Reducer.first(), geometry=punto, scale=30).get('t_sw'))\n",
    "    pix_e_0   = ee.Number(e_0.reduceRegion(ee.Reducer.first(), geometry=punto, scale=30).get('e_0'))\n",
    "                       \n",
    "    \n",
    "    # Radiación Neta R_n\n",
    "    R_n_calculated = ee.Number.expression(\n",
    "        \"\"\"\n",
    "        (1-pix_alb)*1367*pix_theta/d2*pix_t_sw \n",
    "        + pix_e_0*5.67*10**(-8)*( 0.85*(-pix_t_sw_log)**0.09 - 1 )*pix_ts_K_pow4\n",
    "        \"\"\",\n",
    "        {\n",
    "            'pix_alb': pix_alb,\n",
    "            'pix_theta': pix_theta,\n",
    "            'd2': d2,\n",
    "            'pix_t_sw': pix_t_sw,\n",
    "            'pix_t_sw_log': pix_t_sw.log(),\n",
    "            'pix_e_0': pix_e_0,\n",
    "            'pix_ts_K_pow4': pix_ts_K.pow(4) # en K\n",
    "        }\n",
    "    )\n",
    "    \n",
    "    # Flujo de Calor del Suelo G\n",
    "    # Forma 1: Using an empirical equation by Bastiaanssen (2000) representing values near midday \n",
    "    \n",
    "    G_pix = ee.Number.expression(\n",
    "        '(Ts_K - 273.15)*(0.0038 + 0.0074*albedo)*(1-0.98*NDVI_pow4)*R_n_calculated',\n",
    "        {\n",
    "            'Ts_K': pix_ts_K,\n",
    "            'albedo': pix_alb,\n",
    "            'NDVI_pow4': pix_ndvi.pow(4),\n",
    "            'R_n_calculated': R_n_calculated\n",
    "        }\n",
    "    )\n",
    "    \n",
    "    \n",
    "    # Forma 2: Tasumi (2003) using soil heat flux data collected by Wright (1982), \n",
    "    # USDA-ARS for irrigated crops near Kimberly, Idaho\n",
    "    \n",
    "#     if pix_lai.getInfo() < 0.5:\n",
    "#         G_pix = ee.Number.expression(\n",
    "#             '1.8*(pix_ts-273.15)+0.084*R_n_calculated', # (pix_ts-273.15) cuando pix_ts es en Kelvin para obtener °C\n",
    "#             {'pix_ts':pix_ts,   # pix_ts está en K\n",
    "#              'R_n_calculated':R_n_calculated\n",
    "#              }\n",
    "#             )\n",
    "#     else:\n",
    "#         G_pix = ee.Number.expression(\n",
    "#             '0.05 + 0.18*pix_lai*R_n_calculated',\n",
    "#             {'pix_lai':pix_lai.multiply(-0.521).exp(),\n",
    "#              'R_n_calculated':R_n_calculated\n",
    "#              }\n",
    "#             )\n",
    "    \n",
    "    # Producir un diccionario para exportar\n",
    "\n",
    "    R_n_calculated = R_n_calculated.getInfo()\n",
    "    G_pix = G_pix.getInfo()\n",
    "    \n",
    "    pix_values_list = ee.List(\n",
    "        [R_n_calculated, G_pix, pix_ndvi, pix_savi, pix_lai, pix_alb, pix_ts_K, pix_t_sw, pix_e_0, pix_elev, pix_slope])\n",
    "                          # pix_elev, pix_slope, pix_theta,\n",
    "    columns = ['R_n', 'G', 'NDVI', 'SAVI', 'LAI', 'Albedo', 'Ts', 'T_sw', 'e_0', 'Elev_m', 'Slope_d']\n",
    "                        \n",
    "    pix_values = ee.Dictionary.fromLists(columns, pix_values_list).getInfo()\n",
    "    \n",
    "    return pix_values"
   ]
  },
  {
   "cell_type": "markdown",
   "metadata": {
    "hidden": true,
    "id": "Sh8L6LOOyhHG"
   },
   "source": [
    "###### Pixeles Fríos"
   ]
  },
  {
   "cell_type": "markdown",
   "metadata": {
    "hidden": true,
    "id": "hGjKxMWPcdOn"
   },
   "source": [
    "Pixeles Fríos: \n",
    "Encontrar el grupo de pixeles con\n",
    "- NDVI alto\n",
    "- Temperatura superficial baja\n",
    "\n",
    "Procedimiento:\n",
    "- Obtener percentil n1 para imagen NDVI con valores positivos [(ee.Reducer.percentile)](https://developers.google.com/earth-engine/apidocs/ee-reducer-percentile)\n",
    "- Obtener valores de NDVI > n1 \n",
    "- Recortar mapa de temperatura para valores Ts < $n_2$ en función de valores de NDVI > $n_1$\n",
    "- Seleccionar un pixel y anotar coordenadas"
   ]
  },
  {
   "cell_type": "code",
   "execution_count": null,
   "metadata": {
    "hidden": true,
    "scrolled": true
   },
   "outputs": [],
   "source": [
    "# # Prueba For\n",
    "# for n2_i in [10, 20, 30, 40, 50]:\n",
    "#     # Selección de Pixel Frío - Recorte de mapas\n",
    "#     n1 =  50  # n1 : Percentil para NDVI\n",
    "#     n2 =  n2_i  # n2 : Percentil para temperatura\n",
    "\n",
    "#     pixeles_frios = recorte_por_percentiles(\n",
    "#         n1, n2, img_ndvi, img_Ts_k, predios_agricolas, filtrado='cold').subtract(273.15)\n",
    "\n",
    "#     pixeles_frios_minmax = (\n",
    "#         pixeles_frios.reduceRegion(ee.Reducer.minMax(), scale=30)\n",
    "#         .values().reverse().getInfo()\n",
    "#     )\n",
    "\n",
    "#     # Inputs para gráfico\n",
    "#     paleta = 'RdYlBu_r'  # Rampa de color azul y rojo\n",
    "#     # paleta = 'binary_r'  # Color negro indica el pixel más frío\n",
    "\n",
    "#     vis_params_pix = {\n",
    "#         'min': pixeles_frios_minmax[0],\n",
    "#         'max': pixeles_frios_minmax[1],\n",
    "#         'palette': cmp.get_palette(paleta)\n",
    "#     }\n",
    "\n",
    "#     image = pixeles_frios.blend(predios_vis)\n",
    "#     vis_params = vis_params_pix\n",
    "\n",
    "#     title_map = f'Pix Fríos \\n{img_date}\\nn1: {n1} - n2: {n2}'\n",
    "#     path_fig = f'/pixeles/{img_date}/{img_date}_n1_{n1}_n2_{n2}_Pix_F_{paleta}'\n",
    "#     label = '$[\\; °C\\;]$'\n",
    "\n",
    "#     # Resultado\n",
    "#     print(img_date)\n",
    "#     print(f'Tmin - Tmax: {pixeles_frios_minmax}')\n",
    "\n",
    "#     get_grafica_cartoee_color(image, \n",
    "#                               vis_params, \n",
    "#                               title_map, \n",
    "#                               label,\n",
    "#                               save_fig=path_fig)"
   ]
  },
  {
   "cell_type": "code",
   "execution_count": 13,
   "metadata": {
    "colab": {
     "base_uri": "https://localhost:8080/",
     "height": 411
    },
    "hidden": true,
    "id": "2o3mvCBZSDVl",
    "outputId": "e78846cb-d1cc-423b-85c1-bc27e5865f48",
    "scrolled": false
   },
   "outputs": [
    {
     "name": "stdout",
     "output_type": "stream",
     "text": [
      "2022-03-10\n",
      "Tmin - Tmax: [24.94622881096933, 25.117154936018323]\n"
     ]
    },
    {
     "data": {
      "image/png": "[encoded data removed]",
      "text/plain": [
       "<Figure size 576x432 with 2 Axes>"
      ]
     },
     "metadata": {
      "needs_background": "light"
     },
     "output_type": "display_data"
    }
   ],
   "source": [
    "# Selección de Pixel Frío - Recorte de mapas\n",
    "n1 =  50  # n1 : Percentil para NDVI\n",
    "n2 =  10  # n2 : Percentil para temperatura\n",
    "\n",
    "pixeles_frios_K = recorte_por_percentiles(\n",
    "    n1, n2, img_ndvi, img_Ts_k, predios_agricolas, filtrado='cold')\n",
    "\n",
    "pixeles_frios_C = pixeles_frios_K.subtract(273.15)\n",
    "pixeles_frios_minmax = (\n",
    "    pixeles_frios_C.reduceRegion(ee.Reducer.minMax(), scale=30)\n",
    "    .values().reverse().getInfo()\n",
    ")\n",
    "\n",
    "# Inputs para gráfico\n",
    "paleta = 'RdYlBu_r'  # Rampa de color azul y rojo\n",
    "# paleta = 'binary_r'  # Color negro indica el pixel más frío\n",
    "\n",
    "vis_params_pix = {\n",
    "    'min': pixeles_frios_minmax[0],\n",
    "    'max': pixeles_frios_minmax[1],\n",
    "    'palette': cmp.get_palette(paleta)\n",
    "}\n",
    "\n",
    "image = pixeles_frios_C.blend(predios_vis)\n",
    "vis_params = vis_params_pix\n",
    "\n",
    "title_map = f'Pix Fríos \\n{img_date}\\nn1: {n1} - n2: {n2}'\n",
    "path_fig = f'/pixeles/{img_date}_n1_{n1}_n2_{n2}_Pix_F_{paleta}'\n",
    "label = '$[\\; °C\\;]$'\n",
    "\n",
    "# Resultado\n",
    "print(img_date)\n",
    "print(f'Tmin - Tmax: {pixeles_frios_minmax}')\n",
    "\n",
    "get_grafica_cartoee_color(image, \n",
    "                          vis_params, \n",
    "                          title_map, \n",
    "                          label,\n",
    "                          save_fig=path_fig)"
   ]
  },
  {
   "cell_type": "code",
   "execution_count": 18,
   "metadata": {
    "colab": {
     "referenced_widgets": [
      "e55c0963694f49d5aa7846a93d27555f"
     ]
    },
    "hidden": true,
    "id": "vzvob9k-SDVl",
    "outputId": "7a0cce9b-3b82-4f94-b61c-10aa1fcffaed",
    "scrolled": false
   },
   "outputs": [
    {
     "data": {
      "application/vnd.jupyter.widget-view+json": {
       "model_id": "9592cb10b7c64325b3abb27e9dfc2237",
       "version_major": 2,
       "version_minor": 0
      },
      "text/plain": [
       "Map(center=[-6.599795740070353, -79.78072031868163], controls=(WidgetControl(options=['position', 'transparent…"
      ]
     },
     "metadata": {},
     "output_type": "display_data"
    }
   ],
   "source": [
    "# Visualización\n",
    "vis_params_pix = {\n",
    "    'min': pixeles_frios_minmax[0],\n",
    "    'max': pixeles_frios_minmax[1],\n",
    "    'palette': cmp.get_palette('binary') # Color negro el pixel más frío\n",
    "}\n",
    "\n",
    "image = pixeles_frios_C.blend(predios_vis)\n",
    "vis_params = vis_params_pix\n",
    "title_map = 'Pixeles fríos'\n",
    "label = '$[\\; °C\\;]$'\n",
    "\n",
    "\n",
    "# Obtener visualización con geemap.Map\n",
    "Map = geemap.Map()\n",
    "Map.centerObject(predios_agricolas, 16)\n",
    "\n",
    "Map.addLayer(img_toa.clip(predios_bound).blend(predios_vis), vis_rgb, 'RGB TOA')\n",
    "# Map.addLayer(img_s2_vis.blend(predios_vis), vis_rgb_s2, f'Sentinel {img_s2_date}')\n",
    "\n",
    "Map.addLayer(img_Ts_c, vis_params_ts, 'img_Ts_c')\n",
    "Map.addLayer(img_ndvi, vis_params_ndvi, 'img_ndvi')\n",
    "Map.addLayer(img_albedo, vis_params_alb, 'img_albedo')\n",
    "\n",
    "Map.addLayer(image, vis_params, title_map)\n",
    "\n",
    "Map.add_colorbar(vis_params_ndvi, label=\"NDVI [-]\", orientation=\"horizontal\")\n",
    "Map.add_colorbar(vis_params_alb, label=\"Albedo [-]\", orientation=\"horizontal\")#, discrete=True)\n",
    "Map.add_colorbar(vis_params, label=\"Ts [°C]\", orientation=\"horizontal\")\n",
    "Map.add_colorbar(vis_params_ts, label=\"Ts [°C]\", orientation=\"horizontal\")\n",
    "\n",
    "Map"
   ]
  },
  {
   "cell_type": "code",
   "execution_count": null,
   "metadata": {
    "hidden": true,
    "scrolled": true
   },
   "outputs": [],
   "source": [
    "Map.user_rois.geometry().coordinates().getInfo() # [-79.784451, -6.597031]"
   ]
  },
  {
   "cell_type": "code",
   "execution_count": 20,
   "metadata": {
    "hidden": true
   },
   "outputs": [
    {
     "name": "stdout",
     "output_type": "stream",
     "text": [
      "n1: 50 - n2: 10\n",
      "2022-03-10\n",
      "Pixel Frío: [-79.784451, -6.597031]\n"
     ]
    },
    {
     "data": {
      "text/plain": [
       "{'Albedo': 0.14747596702162694,\n",
       " 'Elev_m': 47,\n",
       " 'G': 51.084164766642715,\n",
       " 'LAI': 1.0059053271800849,\n",
       " 'NDVI': 0.7395504864139549,\n",
       " 'R_n': 592.2853219180588,\n",
       " 'SAVI': 0.45378351611273904,\n",
       " 'Slope_d': 0,\n",
       " 'T_sw': 0.6738524132498025,\n",
       " 'Ts': 298.0962288109693,\n",
       " 'e_0': 0.9600590532718009}"
      ]
     },
     "execution_count": 20,
     "metadata": {},
     "output_type": "execute_result"
    }
   ],
   "source": [
    "# Pixel Frío\n",
    "pix_cold_n1 = n1 \n",
    "pix_cold_n2 = n2\n",
    "print(f'n1: {pix_cold_n1} - n2: {pix_cold_n2}')\n",
    "\n",
    "# Ejemplo de pixel: \n",
    "# coordenada = [-79.784444, -6.597026] # '2022-03-10'\n",
    "coordenada = [-79.784451, -6.597031] # '2022-03-10'\n",
    "# coordenada = [-79.778724, -6.604617] # '2022-06-14'\n",
    "pix_cold = ee.Geometry.Point(coordenada)\n",
    "\n",
    "print(img_date)\n",
    "\n",
    "# pix_cold = Map.user_rois.geometry()\n",
    "print(f'Pixel Frío: {pix_cold.coordinates().getInfo()}')\n",
    "\n",
    "pix_cold_values = get_pixel_values(pix_cold, pixeles_frios_K, d2, img_productos, dem)\n",
    "pix_cold_values\n",
    "# print(f'Rn: {pix_hot_values[0]:.5f} W/m²\\nG : {pix_hot_values[1]:.5f} W/m²')"
   ]
  },
  {
   "cell_type": "code",
   "execution_count": 194,
   "metadata": {
    "hidden": true,
    "id": "Hz7UQusvSDVm",
    "outputId": "ca8fa7ae-d0b6-4a53-d0ec-026dd1fd257e",
    "scrolled": false
   },
   "outputs": [
    {
     "data": {
      "text/plain": [
       "{'Albedo': 0.14747596702162694,\n",
       " 'Elev_m': 47,\n",
       " 'G': 51.084164766642715,\n",
       " 'LAI': 1.0059053271800849,\n",
       " 'NDVI': 0.7395504864139549,\n",
       " 'R_n': 592.2853219180588,\n",
       " 'SAVI': 0.45378351611273904,\n",
       " 'Slope_d': 0,\n",
       " 'T_sw': 0.6738524132498025,\n",
       " 'Ts': 298.0962288109693,\n",
       " 'e_0': 0.9600590532718009}"
      ]
     },
     "execution_count": 194,
     "metadata": {},
     "output_type": "execute_result"
    }
   ],
   "source": [
    "pix_cold_values"
   ]
  },
  {
   "cell_type": "code",
   "execution_count": 195,
   "metadata": {
    "hidden": true,
    "id": "V0IQllfwSDVm",
    "outputId": "7a662ebb-1a6e-4e0b-933e-b51febbe4288",
    "scrolled": true
   },
   "outputs": [
    {
     "data": {
      "text/plain": [
       "0.14747596702162694"
      ]
     },
     "execution_count": 195,
     "metadata": {},
     "output_type": "execute_result"
    }
   ],
   "source": [
    "pix_cold_values['Albedo']"
   ]
  },
  {
   "cell_type": "code",
   "execution_count": 196,
   "metadata": {
    "hidden": true
   },
   "outputs": [
    {
     "name": "stdout",
     "output_type": "stream",
     "text": [
      "298.0962288109693\n",
      "24.94622881096933\n"
     ]
    }
   ],
   "source": [
    "print(pix_cold_values['Ts'])\n",
    "print(pix_cold_values['Ts']-273.15)"
   ]
  },
  {
   "cell_type": "markdown",
   "metadata": {
    "hidden": true,
    "id": "rtaS1K13SDVm"
   },
   "source": [
    "```\n",
    "n1: 50 - n2: 10\n",
    "2022-03-10\n",
    "Pixel Frío: [-79.784485, -6.597054]\n",
    "{'Albedo': 0.14747596702162694,\n",
    " 'Elev_m': 47,\n",
    " 'G': 51.084164766642715,\n",
    " 'LAI': 1.0059053271800849,\n",
    " 'NDVI': 0.7395504864139549,\n",
    " 'R_n': 592.2853219180588,\n",
    " 'SAVI': 0.45378351611273904,\n",
    " 'Slope_d': 0,\n",
    " 'T_sw': 0.6738524132498025,\n",
    " 'Ts': 298.0962288109693,\n",
    " 'e_0': 0.9600590532718009}\n",
    "```"
   ]
  },
  {
   "cell_type": "markdown",
   "metadata": {
    "hidden": true,
    "id": "4WuYVteHyk_O"
   },
   "source": [
    "###### Pixeles Calientes"
   ]
  },
  {
   "cell_type": "code",
   "execution_count": 22,
   "metadata": {
    "hidden": true
   },
   "outputs": [],
   "source": [
    "# En la parte inferior izquierda se encuentra un área de estacionamiento el cual afecta en la temperatura \n",
    "# superficial a las áreas cercanas. Por ello, es necesario trazar otra área mas específica para que \n",
    "# no se afecte la selección de pixeles.\n",
    "\n",
    "# 1. Primero se debe correr por defecto el código\n",
    "# 2. Una vez ubicada el área, dibujamos un rectángulo en dicha zona para obtener sus coordenadas\n",
    "# Map.user_rois.geometry().coordinates().getInfo()\n",
    "# Produce:\n",
    "# [[[-79.779268, -6.605731],\n",
    "#   [-79.779268, -6.603185],\n",
    "#   [-79.777055, -6.603185],\n",
    "#   [-79.777055, -6.605731],\n",
    "#   [-79.779268, -6.605731]]]\n",
    "\n",
    "# 3. Le damos el formato a las coordenadas\n",
    "# https://developers.google.com/earth-engine/apidocs/ee-geometry-rectangle\n",
    "ee_Rectangle = ee.Geometry.Rectangle([\n",
    "    [-79.779268, -6.603185],\n",
    "    [-79.777055, -6.605731]\n",
    "])\n",
    "# 4. Asignamos la nueva geometría como input en geometría"
   ]
  },
  {
   "cell_type": "code",
   "execution_count": 26,
   "metadata": {
    "hidden": true,
    "id": "vcBGGayPSDVs",
    "outputId": "d6ac5fc7-97da-469d-8422-f851b1302c3a",
    "scrolled": false
   },
   "outputs": [
    {
     "name": "stdout",
     "output_type": "stream",
     "text": [
      "Tmin - Tmax: [26.792725841679157, 27.091661536833783]\n"
     ]
    },
    {
     "data": {
      "image/png": "[encoded data removed]",
      "text/plain": [
       "<Figure size 576x432 with 2 Axes>"
      ]
     },
     "metadata": {
      "needs_background": "light"
     },
     "output_type": "display_data"
    }
   ],
   "source": [
    "# Selección de Pixel Caliente - Recorte de mapas\n",
    "n1 =  50 # n1 : Percentil para NDVI\n",
    "n2 =  70 # n2 : Percentil para temperatura\n",
    "\n",
    "pixeles_hot_K = recorte_por_percentiles(\n",
    "    n1, n2, img_ndvi, img_Ts_k, \n",
    "    geometry=ee_Rectangle # ee_Rectangle, predios_agricolas\n",
    ")\n",
    "    \n",
    "pixeles_hot_C = pixeles_hot_K.subtract(273.15) \n",
    "\n",
    "pixeles_hot_minmax = (\n",
    "    pixeles_hot_C.reduceRegion(ee.Reducer.minMax(), scale=30)\n",
    "    .values().reverse().getInfo()\n",
    ")\n",
    "\n",
    "print(f'Tmin - Tmax: {pixeles_hot_minmax}')\n",
    "\n",
    "# Obtener gráfica con cartoee\n",
    "paleta = 'RdYlBu_r'\n",
    "# paleta = 'binary_r' # Color negro o rojo el pixel más caliente\n",
    "\n",
    "vis_params_pix = {\n",
    "    'min': pixeles_hot_minmax[0],\n",
    "    'max': pixeles_hot_minmax[1],\n",
    "    'palette': cmp.get_palette(paleta) \n",
    "}\n",
    "\n",
    "# ee_RectangleVis = ee.Image().paint(ee_Rectangle, 1, 1)\n",
    "image = pixeles_hot_C.blend(predios_vis) # predios_vis, ee_RectangleVis\n",
    "vis_params = vis_params_pix\n",
    "title_map = f'Pix Calientes \\n{img_date}\\nn1: {n1} - n2: {n2}'\n",
    "path_fig  = f'/pixeles/{img_date}_n1_{n1}_n2_{n2}_Pix_C_{paleta}'\n",
    "\n",
    "label = '$[\\; °C\\;]$'\n",
    "\n",
    "get_grafica_cartoee_color(image, \n",
    "                          vis_params, \n",
    "                          title_map, \n",
    "                          label,\n",
    "                          save_fig=None)"
   ]
  },
  {
   "cell_type": "code",
   "execution_count": 27,
   "metadata": {
    "colab": {
     "referenced_widgets": [
      "94859cc6c0bf426b9c2ca1f3493eef68"
     ]
    },
    "hidden": true,
    "id": "96RhxuHMSDVt",
    "outputId": "adb1a07a-d785-4621-975b-2f639280fa0c",
    "scrolled": false
   },
   "outputs": [
    {
     "data": {
      "application/vnd.jupyter.widget-view+json": {
       "model_id": "3c47914e1414489c9bd3a73000e40a63",
       "version_major": 2,
       "version_minor": 0
      },
      "text/plain": [
       "Map(center=[-6.599795740070353, -79.78072031868163], controls=(WidgetControl(options=['position', 'transparent…"
      ]
     },
     "metadata": {},
     "output_type": "display_data"
    }
   ],
   "source": [
    "# Visualización\n",
    "vis_params_pix = {\n",
    "    'min': pixeles_hot_minmax[0],\n",
    "    'max': pixeles_hot_minmax[1],\n",
    "    'palette': cmp.get_palette('binary') # Color negro el pixel más frío\n",
    "}\n",
    "\n",
    "image = pixeles_hot_C#.blend(predios_vis)\n",
    "vis_params = vis_params_pix\n",
    "title_map = 'Pixeles calientes'\n",
    "label = '$[\\; °C\\;]$'\n",
    "\n",
    "# Obtener visualización con geemap.Map\n",
    "Map = geemap.Map()\n",
    "Map.centerObject(predios_agricolas, 16)\n",
    "\n",
    "Map.addLayer(img_toa.clip(predios_bound).blend(predios_vis), vis_rgb, 'RGB TOA')\n",
    "# Map.addLayer(img_s2_vis.blend(predios_vis), vis_rgb_s2, f'Sentinel {img_s2_date}')\n",
    "\n",
    "# Map.addLayer(img_Ts_c, vis_params_ts, 'img_Ts_c')\n",
    "Map.addLayer(img_ndvi, vis_params_ndvi, 'img_ndvi')\n",
    "# Map.addLayer(img_albedo, vis_params_alb, 'img_albedo')\n",
    "\n",
    "Map.addLayer(image, vis_params, title_map)\n",
    "# Map.addLayer(ee_Rectangle, {}, 'ee_Rectangle')\n",
    "\n",
    "Map.add_colorbar(vis_params_ndvi, label=\"NDVI [-]\", orientation=\"horizontal\")\n",
    "Map.add_colorbar(vis_params_alb, label=\"Albedo [-]\", orientation=\"horizontal\")#, discrete=True)\n",
    "Map.add_colorbar(vis_params, label=\"Ts [°C]\", orientation=\"horizontal\")\n",
    "Map.add_colorbar(vis_params_ts, label=\"Ts [°C]\", orientation=\"horizontal\")\n",
    "\n",
    "Map"
   ]
  },
  {
   "cell_type": "code",
   "execution_count": 28,
   "metadata": {
    "hidden": true
   },
   "outputs": [
    {
     "data": {
      "text/plain": [
       "[-79.777915, -6.604077]"
      ]
     },
     "execution_count": 28,
     "metadata": {},
     "output_type": "execute_result"
    }
   ],
   "source": [
    "Map.user_rois.geometry().coordinates().getInfo()"
   ]
  },
  {
   "cell_type": "code",
   "execution_count": null,
   "metadata": {
    "hidden": true
   },
   "outputs": [],
   "source": [
    "# Visualización\n",
    "Map = geemap.Map()\n",
    "Map.centerObject(predios_bound, 16)\n",
    "\n",
    "# Map.addLayer(img_toa.clip(predios_bound), vis_rgb, 'RGB TOA')\n",
    "# Map.addLayer(image, vis_params_ts, title_map) \n",
    "image_prueba = pixeles_hot.clip(ee_Rectangle) \n",
    "Map.addLayer(image_prueba, vis_params, title_map)\n",
    "# Map.add_colorbar(vis_params_ts, label='Ts [°C]', orientation=\"vertical\")\n",
    "Map"
   ]
  },
  {
   "cell_type": "code",
   "execution_count": 31,
   "metadata": {
    "hidden": true,
    "scrolled": false
   },
   "outputs": [
    {
     "name": "stdout",
     "output_type": "stream",
     "text": [
      "n1: 50 - n2: 70\n",
      "2022-03-10\n",
      "Pixel Caliente: [-79.777915, -6.604077]\n"
     ]
    },
    {
     "data": {
      "text/plain": [
       "{'Albedo': 0.059276969490978756,\n",
       " 'Elev_m': 45,\n",
       " 'G': 75.07979433887446,\n",
       " 'LAI': -0.05378127008041063,\n",
       " 'NDVI': 0.16754176610978513,\n",
       " 'R_n': 654.3278460503692,\n",
       " 'SAVI': 0.07040657755799914,\n",
       " 'Slope_d': 1.3158267333620515,\n",
       " 'T_sw': 0.6738651710171829,\n",
       " 'Ts': 300.24166153683376,\n",
       " 'e_0': 0.9494621872991958}"
      ]
     },
     "execution_count": 31,
     "metadata": {},
     "output_type": "execute_result"
    }
   ],
   "source": [
    "# Pixel Caliente\n",
    "pix_hot_n1 = n1 \n",
    "pix_hot_n2 = n2\n",
    "print(f'n1: {pix_hot_n1} - n2: {pix_hot_n2}')\n",
    "\n",
    "# Ejemplo de pixel: \n",
    "# pix_hot_coord = [-79.777929, -6.604078] # 1 - '2022-03-10'\n",
    "# pix_hot = ee.Geometry.Point(pix_hot_coord)\n",
    "\n",
    "print(img_date)\n",
    "\n",
    "pix_hot = Map.user_rois.geometry()\n",
    "print(f'Pixel Caliente: {pix_hot.coordinates().getInfo()}')\n",
    "\n",
    "pix_hot_values = get_pixel_values(pix_hot, pixeles_hot_K, d2, img_productos, dem)\n",
    "pix_hot_values\n",
    "# print(f'Rn: {pix_hot_values[0]:.5f} W/m²\\nG : {pix_hot_values[1]:.5f} W/m²')"
   ]
  },
  {
   "cell_type": "code",
   "execution_count": 186,
   "metadata": {
    "hidden": true,
    "id": "ICEhn-GbSDVt",
    "outputId": "db0665fb-4386-4060-bc85-a0529adbb40d",
    "scrolled": true
   },
   "outputs": [
    {
     "data": {
      "text/plain": [
       "{'Albedo': 0.059276969490978756,\n",
       " 'Elev_m': 45,\n",
       " 'G': 75.07979433887446,\n",
       " 'LAI': -0.05378127008041063,\n",
       " 'NDVI': 0.16754176610978513,\n",
       " 'R_n': 654.3278460503692,\n",
       " 'SAVI': 0.07040657755799914,\n",
       " 'Slope_d': 1.3158267333620515,\n",
       " 'T_sw': 0.6738651710171829,\n",
       " 'Ts': 300.24166153683376,\n",
       " 'e_0': 0.9494621872991958}"
      ]
     },
     "execution_count": 186,
     "metadata": {},
     "output_type": "execute_result"
    }
   ],
   "source": [
    "pix_hot_values"
   ]
  },
  {
   "cell_type": "code",
   "execution_count": 187,
   "metadata": {
    "hidden": true,
    "id": "uZHTbGZlSDVt",
    "outputId": "b22eee58-ae45-41d0-effe-79c7fcac1234"
   },
   "outputs": [
    {
     "data": {
      "text/plain": [
       "0.059276969490978756"
      ]
     },
     "execution_count": 187,
     "metadata": {},
     "output_type": "execute_result"
    }
   ],
   "source": [
    "pix_hot_values['Albedo']"
   ]
  },
  {
   "cell_type": "code",
   "execution_count": 190,
   "metadata": {
    "hidden": true
   },
   "outputs": [
    {
     "name": "stdout",
     "output_type": "stream",
     "text": [
      "300.24166153683376\n",
      "27.091661536833783\n"
     ]
    }
   ],
   "source": [
    "print(pix_hot_values['Ts']) # K\n",
    "print(pix_hot_values['Ts']-273.15) # C"
   ]
  },
  {
   "cell_type": "markdown",
   "metadata": {
    "hidden": true
   },
   "source": [
    "```\n",
    "n1: 40 - n2: 80\n",
    "2022-03-10\n",
    "Pixel Caliente: [-79.777929, -6.604078]\n",
    "{'Albedo': 0.059276969490978756,\n",
    " 'Elev_m': 45,\n",
    " 'G': 75.07979433887446,\n",
    " 'LAI': -0.05378127008041063,\n",
    " 'NDVI': 0.16754176610978513,\n",
    " 'R_n': 654.3278460503692,\n",
    " 'SAVI': 0.07040657755799914,\n",
    " 'Slope_d': 1.3158267333620515,\n",
    " 'T_sw': 0.6738651710171829,\n",
    " 'Ts': 300.24166153683376,\n",
    " 'e_0': 0.9494621872991958}\n",
    "```"
   ]
  },
  {
   "cell_type": "markdown",
   "metadata": {
    "heading_collapsed": true
   },
   "source": [
    "##### Selección datos de estación"
   ]
  },
  {
   "cell_type": "code",
   "execution_count": null,
   "metadata": {
    "hidden": true
   },
   "outputs": [],
   "source": [
    "# 8 Imágenes seleccionadas\n",
    "# ids = [\n",
    "#     'LANDSAT/LC09/C02/T1/LC09_010065_20211212', # 0 - 12/12 - l9\n",
    "#     'LANDSAT/LC09/C02/T1/LC09_010065_20220113', # 1 - 01/13 - l9 OJO: NDVI negativos -> Posible riego 01 13\n",
    "#     'LANDSAT/LC09/C02/T1/LC09_010065_20220129', # 2 - 01/29 - l9\n",
    "#     'LANDSAT/LC08/C02/T1/LC08_010065_20220310', # 3 - 03/10 - l8\n",
    "#     'LANDSAT/LC09/C02/T1/LC09_010065_20220403', # 4 - 04/03 - l9\n",
    "#     'LANDSAT/LC09/C02/T1/LC09_010065_20220521', # 5 - 05/21 - l9\n",
    "#     'LANDSAT/LC08/C02/T1/LC08_010065_20220529', # 6 - 05/29 - l8\n",
    "#     'LANDSAT/LC08/C02/T1/LC08_010065_20220614'  # 7 - 06/14 - l8\n",
    "#       ]\n",
    "\n",
    "fechas_imgs = []\n",
    "\n",
    "for img_id in ids:\n",
    "    img_ee = ee.Image(img_id)\n",
    "    img_date = img_ee.date().format('YYYY-MM-dd').getInfo()\n",
    "    fechas_imgs.append(img_date)\n",
    "\n",
    "# fechas_imgs = '2021-12-12',\n",
    "#  '2022-01-13',\n",
    "#  '2022-01-29',\n",
    "#  '2022-03-10',\n",
    "#  '2022-04-03',\n",
    "#  '2022-05-21',\n",
    "#  '2022-05-29',\n",
    "#  '2022-06-14']"
   ]
  },
  {
   "cell_type": "code",
   "execution_count": null,
   "metadata": {
    "hidden": true,
    "scrolled": false
   },
   "outputs": [],
   "source": [
    "ruta_csv = 'EE_Vista_Florida.csv'\n",
    "df_estacion_vf = pd.read_csv(ruta_csv, na_values='---') \n",
    "df_estacion_vf.Date = pd.to_datetime(df_estacion_vf.Date, format='%d/%m/%Y')\n",
    "# df_estacion_vf\n",
    "\n",
    "# Cambio de formato en columna Time de object a numeric (para visualizar mejor con matplotlib)\n",
    "df_prueba = df_estacion_vf.copy()\n",
    "df_prueba['Time'] = pd.to_numeric(df_prueba['Time'].str.replace(\":\", \".\"))\n",
    "\n",
    "# Extraemos los datos de la estación para las fechas de existencia de imagen satelital\n",
    "datos_hora_imagen = df_prueba[df_prueba['Date'].isin(fechas_imgs)]\n",
    "# datos_hora_imagen\n",
    "\n",
    "# Visualizamos y comparamos los dataframes según la hora de filtrado\n",
    "display(datos_hora_imagen[datos_hora_imagen['Time']==10.30])\n",
    "display(datos_hora_imagen[datos_hora_imagen['Time']==11.00])"
   ]
  },
  {
   "cell_type": "code",
   "execution_count": null,
   "metadata": {
    "hidden": true
   },
   "outputs": [],
   "source": [
    "filtrado_ws = (\n",
    "    datos_hora_imagen[(datos_hora_imagen['Date'] == img_date) & (datos_hora_imagen['Time']==10.30)]['Wind Speed']\n",
    "    .values[0]\n",
    ")\n",
    "\n",
    "print(filtrado_ws) # [km/h]\n",
    "\n",
    "filtrado_et = (\n",
    "    datos_hora_imagen[(datos_hora_imagen['Date'] == img_date) & (datos_hora_imagen['Time']==11)]['ET']\n",
    "    .values[0]\n",
    ")\n",
    "print(filtrado_et)"
   ]
  },
  {
   "cell_type": "markdown",
   "metadata": {
    "id": "Se1NaOormhRr"
   },
   "source": [
    "##### Parte iterativa"
   ]
  },
  {
   "cell_type": "markdown",
   "metadata": {
    "id": "hug-Db0BSDVu"
   },
   "source": [
    "Replicando la hoja en excel:\n",
    "\n",
    "1. Ts_dem\n",
    "1. R_n\n",
    "2. G\n",
    "3. Zom_flat (flat model momentum roughness length)\n",
    "4. Zom (Adjusting momentum roughness length for slopes)\n",
    "5. Wind coeff (Mountain wind speed adjustment coefficient)\n",
    "\n",
    "Primer paso para la primera iteración\n",
    "\n",
    "7. u*1 (Friction velocity, is computed using logarithmic wind law for neutral atmospheric conditions)\n",
    "    - u_200 (Wind speed at a [blending height](https://glossary.ametsoc.org/wiki/Blending_height) assumed to be 200 m) \n",
    "        - u_w (Wind speed measured at a weather station at Z_x height above the surface)\n",
    "        - Z_om_w (Roughness length for the weather station surface)\n",
    "        - Z_x\n",
    "    - Z_om\n",
    "8. rah1 : Aerodynamic resistance between two near surface heights, during the first iteration, the aerodynamic resistance to heat transport is computed for neutral atmospheric stability conditions\n",
    "\n",
    "A partir de aquí ya se necesita calcular para ambos tipos de pixeles\n",
    "9. dT1 (Temperature difference T1-T2 between two heights z1 and z2)\n",
    "10. p1 (Air density)\n",
    "11. H1\n",
    "12. L1 \n",
    "\n",
    "Corrección\n",
    "\n",
    "12. Ym200 1\n",
    "13. Yh(z2)1\n",
    "14. Yh(z1)1"
   ]
  },
  {
   "cell_type": "code",
   "execution_count": 2,
   "metadata": {},
   "outputs": [],
   "source": [
    "# 2022-06-14\n",
    "# filtrado_ws = 1.6  # km/h\n",
    "# filtrado_et = 0.46  # mm/h\n",
    "\n",
    "# 2022-03-10\n",
    "filtrado_ws = 3.2  # km/h\n",
    "filtrado_et = 0.53  # mm/h"
   ]
  },
  {
   "cell_type": "code",
   "execution_count": 3,
   "metadata": {},
   "outputs": [],
   "source": [
    "# pix_c_values = pix_cold_values\n",
    "# pix_h_values = pix_hot_values\n",
    "\n",
    "pix_c_values = {\n",
    "     'Albedo': 0.14747596702162694,\n",
    "     'Elev_m': 47,\n",
    "     'G': 51.084164766642715,\n",
    "     'LAI': 1.0059053271800849,\n",
    "     'NDVI': 0.7395504864139549,\n",
    "     'R_n': 592.2853219180588,\n",
    "     'SAVI': 0.45378351611273904,\n",
    "     'Slope_d': 0,\n",
    "     'T_sw': 0.6738524132498025,\n",
    "     'Ts': 298.0962288109693 - 273.15,\n",
    "     'e_0': 0.9600590532718009\n",
    "}\n",
    "\n",
    "\n",
    "pix_h_values = {\n",
    "     'Albedo': 0.059276969490978756,\n",
    "     'Elev_m': 45,\n",
    "     'G': 75.07979433887446,\n",
    "     'LAI': -0.05378127008041063,\n",
    "     'NDVI': 0.16754176610978513,\n",
    "     'R_n': 654.3278460503692,\n",
    "     'SAVI': 0.07040657755799914,\n",
    "     'Slope_d': 1.3158267333620515,\n",
    "     'T_sw': 0.6738651710171829,\n",
    "     'Ts': 300.24166153683376 - 273.15,\n",
    "     'e_0': 0.9494621872991958\n",
    "}"
   ]
  },
  {
   "cell_type": "code",
   "execution_count": 4,
   "metadata": {
    "scrolled": false
   },
   "outputs": [
    {
     "data": {
      "text/plain": [
       "{'Albedo': 0.14747596702162694,\n",
       " 'Elev_m': 47,\n",
       " 'G': 51.084164766642715,\n",
       " 'LAI': 1.0059053271800849,\n",
       " 'NDVI': 0.7395504864139549,\n",
       " 'R_n': 592.2853219180588,\n",
       " 'SAVI': 0.45378351611273904,\n",
       " 'Slope_d': 0,\n",
       " 'T_sw': 0.6738524132498025,\n",
       " 'Ts': 24.94622881096933,\n",
       " 'e_0': 0.9600590532718009}"
      ]
     },
     "metadata": {},
     "output_type": "display_data"
    },
    {
     "data": {
      "text/plain": [
       "{'Albedo': 0.059276969490978756,\n",
       " 'Elev_m': 45,\n",
       " 'G': 75.07979433887446,\n",
       " 'LAI': -0.05378127008041063,\n",
       " 'NDVI': 0.16754176610978513,\n",
       " 'R_n': 654.3278460503692,\n",
       " 'SAVI': 0.07040657755799914,\n",
       " 'Slope_d': 1.3158267333620515,\n",
       " 'T_sw': 0.6738651710171829,\n",
       " 'Ts': 27.091661536833783,\n",
       " 'e_0': 0.9494621872991958}"
      ]
     },
     "metadata": {},
     "output_type": "display_data"
    }
   ],
   "source": [
    "display(pix_c_values) # Pixel frío seleccionado\n",
    "display(pix_h_values) # Pixel caliente seleccionado"
   ]
  },
  {
   "cell_type": "code",
   "execution_count": 5,
   "metadata": {},
   "outputs": [],
   "source": [
    "# Funciones a emplear\n",
    "# 0. Velocidad de fricción\n",
    "def get_u_star(u_200, Z_om, correccion=None):\n",
    "    \n",
    "    \"\"\"u_star Inputs\n",
    "    u_200\n",
    "    Z_om\n",
    "    correccion (opcional)\n",
    "    \"\"\"\n",
    "    # u*1: Friction velocity (eq 31)\n",
    "    k_const = 0.41 # von Karman's constant\n",
    "    if correccion == None:\n",
    "        u_star = k_const*u_200*1/(math.log(200/Z_om)) # blending height: 200 m \n",
    "    else: \n",
    "        y200m = correccion['y200m']\n",
    "        u_star = k_const*u_200*1/(math.log(200/Z_om) - y200m)\n",
    "    \n",
    "    return u_star\n",
    "\n",
    "# 1. Resistencia Aerodinámica\n",
    "def get_rah(u_star, correccion=None):\n",
    "    \n",
    "    # r_ah 1 Aerodynamic resistance (eq 30) [s/m]\n",
    "    k_const = 0.41\n",
    "    z2 = 2\n",
    "    z1 = 0.1\n",
    "    \n",
    "    if correccion == None:\n",
    "        r_ah = math.log(z2/z1)/(u_star*k_const)\n",
    "    else:\n",
    "        yhz1 = correccion['yhz1']\n",
    "        yhz2 = correccion['yhz2']\n",
    "        r_ah = ( math.log(z2/z1) + yhz1 - yhz2 )/(u_star*k_const)\n",
    "        # La correccion se aplica cuando se realiza la iteración con valores\n",
    "        # de correccion por estabilidad yhz2, yhz1\n",
    "    \n",
    "    return r_ah\n",
    "\n",
    "# 2. Densidad del aire\n",
    "def get_air_dens(pix_elev, temp_K):\n",
    "    \n",
    "    # (eq 37) For 20 °C: 293° = 273° + 20°\n",
    "    # P estimated using a digital elevation map\n",
    "    air_pressure_P = 101.3*( (293.15-0.0065*pix_elev)/293.15)**5.26  \n",
    "    air_dens_p = 1000*air_pressure_P/(1.01*(temp_K)*287)\n",
    "                                      \n",
    "    return air_dens_p\n",
    "\n",
    "# 3. dT\n",
    "def get_dT(pix_values, Inst_ETr, Kc, r_ah, air_dens):\n",
    "    \n",
    "    # Eq 28\n",
    "    # Inst_ETr : Instantaneous ET [mm/hr]\n",
    "    # Cp : Air specific heat [J/kg/K]\n",
    "    # lambda_LE : Latent heat of vaporization [J/kg]\n",
    "    # Kc : Crop coefficient [-]\n",
    "    # Ts_c : Surface Temperature [°C]\n",
    "    \n",
    "    # Obtener LE primero\n",
    "    Cp = 1004 \n",
    "    Ts_c = pix_values['Ts']\n",
    "    lambda_LE = ( 2.501-0.002361*(Ts_c) )*10**6 \n",
    "    # Kc = 1.05 # Kc = 0 para pixel caliente \n",
    "    LE = Inst_ETr * Kc * lambda_LE / 3600 # Eq 53 \n",
    "    \n",
    "    # Luego H despejando de Eq 1\n",
    "    # H = R_n - G - LE  , todos en [W/m2] \n",
    "    R_n = pix_values['R_n']\n",
    "    G = pix_values['G']\n",
    "    if G < 0:\n",
    "        G = 0\n",
    "    H = R_n - G - LE \n",
    "    dT = r_ah * H /(air_dens * Cp)\n",
    "    \n",
    "    resultados = {'R_n': R_n, \n",
    "                  'G' : G,\n",
    "                  'LE': LE,\n",
    "                  'H0' : H,\n",
    "                  'dT0': dT}\n",
    "    \n",
    "    return resultados\n",
    "\n",
    "# 4. H final\n",
    "def get_H(pixel_c, pixel_h):\n",
    "    \n",
    "    \"\"\" H inputs\n",
    "    pixel_c : Pixel Frío (dict)\n",
    "    pixel_h : Pixel Caliente (dict)\n",
    "    \n",
    "    Procesa de cada pixel:\n",
    "    - dT0\n",
    "    - Ts_dem\n",
    "    \n",
    "    Retorna:\n",
    "    - Coeficientes a y b\n",
    "    - dT1 a partir de coeficientes a y b\n",
    "    - H1 a partir de r_ah, dT1 y air_dens_p \n",
    "    \"\"\"\n",
    "    # Coeficientes a y b a partir de los dT obtenidos por pixel\n",
    "    pix_c_dt = pixel_c['dT0'] # Pixel frío\n",
    "    pix_h_dt = pixel_h['dT0'] # Pixel caliente\n",
    "    pix_c_Ts_dem = pixel_c['Ts_dem']\n",
    "    pix_h_Ts_dem = pixel_h['Ts_dem']\n",
    "\n",
    "    a = (pix_h_dt - pix_c_dt)/(pix_h_Ts_dem - pix_c_Ts_dem) # Eq 48\n",
    "    b = pix_c_dt - a * pix_c_Ts_dem  # a*Ts_dem + b = dT, Eq 49\n",
    "\n",
    "#     print(f'Coeficientes a y b\\n a: {a}\\n b: {b}')\n",
    "\n",
    "    # Obtenemos dT1 a partir de los coeficientes\n",
    "    pix_c_dt1 = a*pix_c_Ts_dem + b\n",
    "    pix_h_dt1 = a*pix_h_Ts_dem + b\n",
    "\n",
    "    # print(f'dT1\\n pix_c: {pix_c_dt1}\\n pix_h: {pix_h_dt1}')\n",
    "    \n",
    "    # print(f\"H antes\\n pix_c: {pixel_c['H0']}\\n pix_h: {pixel_h['H0']}\")\n",
    "    \n",
    "    # H finalmente\n",
    "    pix_c_H = pixel_c['air_dens_p']*1004*pix_c_dt1/pixel_c['r_ah']\n",
    "    pix_h_H = pixel_c['air_dens_p']*1004*pix_h_dt1/pixel_h['r_ah']\n",
    "    \n",
    "    # print(f'H después\\n pix_c: {pix_c_H}\\n pix_h: {pix_h_H}')\n",
    "    \n",
    "    coeficientes = {\n",
    "        'a_coef': a,\n",
    "        'b_coef': b\n",
    "    }\n",
    "    \n",
    "    pixel_c = {**pixel_c, **{'dT1': pix_c_dt1, 'H1': pix_c_H}, **coeficientes}\n",
    "    pixel_h = {**pixel_h, **{'dT1': pix_h_dt1, 'H1': pix_h_H}, **coeficientes}\n",
    "    \n",
    "    return pixel_c, pixel_h"
   ]
  },
  {
   "cell_type": "markdown",
   "metadata": {},
   "source": [
    "###### Primera iteración"
   ]
  },
  {
   "cell_type": "markdown",
   "metadata": {},
   "source": [
    "**Proceso**\n",
    "\n",
    "1. Procesado inicial\n",
    "1. Corrección por estabilidad\n",
    "1. Comienzo de iteración"
   ]
  },
  {
   "cell_type": "code",
   "execution_count": 6,
   "metadata": {},
   "outputs": [],
   "source": [
    "def procesado_inicial(pixel_values, filtrado_ws, filtrado_ETr, Kc):\n",
    "    \n",
    "    # Selección de parámetros\n",
    "    pixel_elev = pixel_values['Elev_m']\n",
    "    pixel_ts = pixel_values['Ts'] # °C\n",
    "    \n",
    "    # 1. Ts_dem\n",
    "    Tlapse_rate = 6.5 # C/km\n",
    "    Elev_station = 3  # m\n",
    "    Ts_dem = pixel_ts + Tlapse_rate/1000*(pixel_elev-Elev_station)\n",
    "    \n",
    "    # Resultado: Ts_dem\n",
    "    \n",
    "    \n",
    "    # 2. Momentum roughness length Z_om\n",
    "    pixel_lai = pixel_values['LAI']\n",
    "    pixel_slope = pixel_values['Slope_d']\n",
    "    # Flat model momemtum roughnes length\n",
    "    if pixel_lai < 0.2778:\n",
    "        Z_om_flat = 0.005 # m\n",
    "        # represents roughness typical of bare agricultural soils\n",
    "    else:\n",
    "        Z_om_flat = 0.018*pixel_lai\n",
    "    \n",
    "    # Adjusting momentm roughness length for slopes (Z_om_mtn)\n",
    "    if pixel_slope < 5:\n",
    "        Z_om = Z_om_flat\n",
    "    else:\n",
    "        Z_om = Z_om_flat * ( 1+(pixel_slope-5)/20 )\n",
    "    \n",
    "    # Resultado: Z_om\n",
    "    \n",
    "    \n",
    "    # 3. Friction velocity\n",
    "    # z_om_w: Roughness length for the weather station surface (Brutsaert, 1982) eq 40 en manual\n",
    "    # z_om_w = 0.12*h     # h: Average vegetation height around the weather station \n",
    "    # siendo h la altura del grass de la estación met (relativo a cada estación)\n",
    "    h = 0.15\n",
    "    z_om_w = 0.12*h\n",
    "\n",
    "    # u_200: Wind speed at a blending height assumed to be 200 m (eq 32)\n",
    "    blending_h = 200\n",
    "\n",
    "    # dato_ws: Velocidad del viento medido por estación meteorológica a las 10:30 \n",
    "    dato_ws = filtrado_ws \n",
    "    u_w = dato_ws*1000/3600 # dato_ws en Km/hr -> m/s\n",
    "    z_x = 2.5  # altura del anemómetro, varía de 2 a 2.80m (relativo a cada estación)\n",
    "    u_200 = u_w*math.log(blending_h/z_om_w)/math.log(z_x/z_om_w) # [m/s]    \n",
    "        \n",
    "    # u*1: Friction velocity (eq 31)\n",
    "    u_star = get_u_star(u_200, Z_om)\n",
    "\n",
    "    # Resultado: u_star\n",
    "    \n",
    "    \n",
    "    # 4. Aerodynamic resistance r_ah1 (eq 30) [s/m]\n",
    "    r_ah = get_rah(u_star)\n",
    "    \n",
    "    \n",
    "    # 5. Air density p (eq 37) For 20 °C: 293° = 273° + 20°\n",
    "    air_dens_p = get_air_dens(pixel_elev, temp_K=20+273)\n",
    "    \n",
    "    \n",
    "    # 6. dT (eq 28)\n",
    "    resultado1 = get_dT(pixel_values, filtrado_ETr, Kc, r_ah, air_dens_p)\n",
    "    # A continuación se debe obtener los coeficientes a y b\n",
    "    \n",
    "    resultado2 = {\n",
    "        'Ts': pixel_ts,\n",
    "        'Ts_dem':Ts_dem,\n",
    "        'Z_om': Z_om,\n",
    "        'u_200': u_200,\n",
    "        'u*': u_star,\n",
    "        'r_ah': r_ah,\n",
    "        'air_dens_p': air_dens_p\n",
    "    }\n",
    "    \n",
    "    # Combinar ambos diccionarios de resultados\n",
    "    resultado = {**resultado2, **resultado1}\n",
    "    \n",
    "    return resultado"
   ]
  },
  {
   "cell_type": "markdown",
   "metadata": {},
   "source": [
    "**Stability Correction Functions**\n",
    "\n",
    "In order to account for the buoyancy effects generated by surface heating, METRICtm\n",
    "and SEBAL apply the Monin-Obukhov theory in an iterative process.\n",
    "\n",
    "Atmospheric conditions of stability have a large effect on the aerodynamic resistance\n",
    "(rah) and must be considered in the computation of sensible heat flux (H), especially for\n",
    "dry conditions."
   ]
  },
  {
   "cell_type": "code",
   "execution_count": 7,
   "metadata": {},
   "outputs": [],
   "source": [
    "def stability_corr(pixel_procesado):\n",
    "    \n",
    "    # Inputs\n",
    "    H1 = pixel_procesado['H1']\n",
    "    air_dens = pixel_procesado['air_dens_p']\n",
    "    u_star = pixel_procesado['u*']\n",
    "    Ts_k = pixel_procesado['Ts']+273.15\n",
    "    Cp = 1004\n",
    "    \n",
    "    # The Monin-Obukhov length (L) defines \n",
    "    # the stability conditions of the atmosphere in the iterative process\n",
    "    if H1 == 0:\n",
    "        L = -1000\n",
    "    else: \n",
    "        L = -air_dens*Cp*u_star**3*Ts_k/(0.41*9.81*H1)\n",
    "    \n",
    "   \n",
    "    # When L<0, the lower atmospheric boundary layer is unstable\n",
    "    # and when L>0, the boundary layer is stable\n",
    "   \n",
    "    if L > 0:  \n",
    "        # Stable conditions\n",
    "        x200m = -5*2/L\n",
    "        x2m   = -5*2/L\n",
    "        x01m  = -5*0.1/L\n",
    "        \n",
    "    else:      \n",
    "        # Unstable conditions\n",
    "        # y200m\n",
    "        x200m = (1-16*200/L)**0.25\n",
    "        y200m = 2*math.log((1+x200m)/2) + math.log((1+x200m**2)/2) - 2*math.atan(x200m)+0.5*math.pi\n",
    "        \n",
    "        # yhz2\n",
    "        x2m  = (1-16*2/L)**0.25\n",
    "        yhz2 = 2*math.log((1+x2m**2)/2)\n",
    "        \n",
    "        # yhz1\n",
    "        x01m = (1-16*0.1/L)**0.25\n",
    "        yhz1 = 2*math.log((1+x01m**2)/2)\n",
    "    \n",
    "    valores_L = {\n",
    "        'y200m': y200m,\n",
    "        'yhz2': yhz2,\n",
    "        'yhz1': yhz1\n",
    "    }\n",
    "    \n",
    "    return valores_L"
   ]
  },
  {
   "cell_type": "code",
   "execution_count": 24,
   "metadata": {
    "hide_input": false,
    "scrolled": false
   },
   "outputs": [
    {
     "data": {
      "text/plain": [
       "{'Ts': 24.94622881096933,\n",
       " 'Ts_dem': 25.232228810969332,\n",
       " 'Z_om': 0.018106295889241526,\n",
       " 'u_200': 1.6783886788354512,\n",
       " 'u*': 0.07391548719650626,\n",
       " 'r_ah': 98.85159875107153,\n",
       " 'air_dens_p': 1.1861966305822456,\n",
       " 'R_n': 592.2853219180588,\n",
       " 'G': 51.084164766642715,\n",
       " 'LE': 377.50826035474125,\n",
       " 'H0': 163.6928967966748,\n",
       " 'dT0': 13.586986160818526}"
      ]
     },
     "metadata": {},
     "output_type": "display_data"
    },
    {
     "data": {
      "text/plain": [
       "{'Ts': 27.091661536833783,\n",
       " 'Ts_dem': 27.364661536833783,\n",
       " 'Z_om': 0.005,\n",
       " 'u_200': 1.6783886788354512,\n",
       " 'u*': 0.06493942422808016,\n",
       " 'r_ah': 112.5150733732493,\n",
       " 'air_dens_p': 1.1864736369646445,\n",
       " 'R_n': 654.3278460503692,\n",
       " 'G': 75.07979433887446,\n",
       " 'LE': 0.0,\n",
       " 'H0': 579.2480517114948,\n",
       " 'dT0': 54.71211251621966}"
      ]
     },
     "metadata": {},
     "output_type": "display_data"
    }
   ],
   "source": [
    "# Primera iteración\n",
    "pix_c_procesado_inicial = procesado_inicial(pix_c_values, filtrado_ws, filtrado_et, Kc=1.05)\n",
    "pix_h_procesado_inicial = procesado_inicial(pix_h_values, filtrado_ws, filtrado_et, Kc=0) \n",
    "\n",
    "u_200 = pix_c_procesado_inicial['u_200']\n",
    "\n",
    "display(pix_c_procesado_inicial)\n",
    "display(pix_h_procesado_inicial)"
   ]
  },
  {
   "cell_type": "code",
   "execution_count": 25,
   "metadata": {
    "scrolled": false
   },
   "outputs": [
    {
     "data": {
      "text/plain": [
       "{'Ts': 24.94622881096933,\n",
       " 'Ts_dem': 25.232228810969332,\n",
       " 'Z_om': 0.018106295889241526,\n",
       " 'u_200': 1.6783886788354512,\n",
       " 'u*': 0.07391548719650626,\n",
       " 'r_ah': 98.85159875107153,\n",
       " 'air_dens_p': 1.1861966305822456,\n",
       " 'R_n': 592.2853219180588,\n",
       " 'G': 51.084164766642715,\n",
       " 'LE': 377.50826035474125,\n",
       " 'H0': 163.6928967966748,\n",
       " 'dT0': 13.586986160818526,\n",
       " 'dT1': 13.586986160818526,\n",
       " 'H1': 163.6928967966748,\n",
       " 'a_coef': 19.285544559784285,\n",
       " 'b_coef': -473.03028691580334}"
      ]
     },
     "metadata": {},
     "output_type": "display_data"
    },
    {
     "data": {
      "text/plain": [
       "{'y200m': 6.308345982293962,\n",
       " 'yhz2': 3.768617628432821,\n",
       " 'yhz1': 1.330129546496605}"
      ]
     },
     "metadata": {},
     "output_type": "display_data"
    },
    {
     "data": {
      "text/plain": [
       "{'Ts': 27.091661536833783,\n",
       " 'Ts_dem': 27.364661536833783,\n",
       " 'Z_om': 0.005,\n",
       " 'u_200': 1.6783886788354512,\n",
       " 'u*': 0.06493942422808016,\n",
       " 'r_ah': 112.5150733732493,\n",
       " 'air_dens_p': 1.1864736369646445,\n",
       " 'R_n': 654.3278460503692,\n",
       " 'G': 75.07979433887446,\n",
       " 'LE': 0.0,\n",
       " 'H0': 579.2480517114948,\n",
       " 'dT0': 54.71211251621966,\n",
       " 'dT1': 54.71211251621969,\n",
       " 'H1': 579.112814482182,\n",
       " 'a_coef': 19.285544559784285,\n",
       " 'b_coef': -473.03028691580334}"
      ]
     },
     "metadata": {},
     "output_type": "display_data"
    },
    {
     "data": {
      "text/plain": [
       "{'y200m': 7.830382814209077,\n",
       " 'yhz2': 5.320808200810161,\n",
       " 'yhz1': 2.5754197131457905}"
      ]
     },
     "metadata": {},
     "output_type": "display_data"
    }
   ],
   "source": [
    "# Obtener dT y luego H\n",
    "pix_c_procesado, pix_h_procesado = get_H(pix_c_procesado_inicial, pix_h_procesado_inicial)\n",
    "# Agrega dT1 y H1\n",
    "\n",
    "# Corrección por estabilidad\n",
    "pix_c_stability_cor = stability_corr(pix_c_procesado)\n",
    "pix_h_stability_cor = stability_corr(pix_h_procesado)\n",
    "\n",
    "display(pix_c_procesado, pix_c_stability_cor)\n",
    "display(pix_h_procesado, pix_h_stability_cor)"
   ]
  },
  {
   "cell_type": "code",
   "execution_count": 30,
   "metadata": {},
   "outputs": [],
   "source": [
    "# 2da iteracion\n",
    "\n",
    "def iteracion(u_200, pixel_procesado, pixel_valores, pixel_stability_cor, H0):\n",
    "    \n",
    "    \"\"\"Inputs\n",
    "    u_star: u_200, Z_om, correccion\n",
    "    r_ah: u_star, correccion\n",
    "    p: pix_elev, temp_K= Ts + 273.15 - dT0\n",
    "    dT0: \n",
    "    \"\"\"\n",
    "    # u_star\n",
    "    u_star_adj = get_u_star(u_200, pixel_procesado['Z_om'], correccion=pixel_stability_cor) # u_star\n",
    "    \n",
    "    # rah\n",
    "    r_ah_adj = get_rah(u_star_adj, correccion=pixel_stability_cor) # r_ah\n",
    "    \n",
    "    # Densidad del aire (depende del dT0 de la iteracion anterior)\n",
    "    p_adj = get_air_dens(pixel_valores['Elev_m'], temp_K=pixel_procesado['Ts']+273.15-pixel_procesado['dT0'])\n",
    "    \n",
    "    # dT\n",
    "    dT = r_ah_adj * H0 /(p_adj * 1004)\n",
    "\n",
    "    # Presentar resultados\n",
    "    resultados = {\n",
    "        'Ts': pixel_procesado['Ts'],\n",
    "        'Ts_dem': pixel_procesado['Ts_dem'], # Añadido para obtener H\n",
    "        'Z_om': pixel_procesado['Z_om'],\n",
    "        'u*': u_star_adj,\n",
    "        'r_ah': r_ah_adj,\n",
    "        'air_dens_p' : p_adj,\n",
    "        'dT0': dT\n",
    "    }\n",
    "    \n",
    "    return resultados "
   ]
  },
  {
   "cell_type": "markdown",
   "metadata": {},
   "source": [
    "La variación entre densidades del agua depende del parámetro dT0 que en el pixel caliente sale con valor alto. Para la primera iteración se usó el dato de 20°C de temperatura para obtener las densidades del agua. El parámetro dT depende de H."
   ]
  },
  {
   "cell_type": "code",
   "execution_count": 32,
   "metadata": {
    "scrolled": false
   },
   "outputs": [
    {
     "data": {
      "text/plain": [
       "{'Ts': 24.94622881096933,\n",
       " 'Ts_dem': 25.232228810969332,\n",
       " 'Z_om': 0.018106295889241526,\n",
       " 'u*': 0.11595033836432962,\n",
       " 'r_ah': 42.95097945577558,\n",
       " 'air_dens_p': 1.22159691377047,\n",
       " 'dT0': 5.732463083026445}"
      ]
     },
     "metadata": {},
     "output_type": "display_data"
    },
    {
     "data": {
      "text/plain": [
       "{'Ts': 24.94622881096933,\n",
       " 'Ts_dem': 25.232228810969332,\n",
       " 'Z_om': 0.018106295889241526,\n",
       " 'u*': 0.11595033836432962,\n",
       " 'r_ah': 42.95097945577558,\n",
       " 'air_dens_p': 1.22159691377047,\n",
       " 'dT0': 5.732463083026445,\n",
       " 'dT1': 5.732463083026445,\n",
       " 'H1': 163.6928967966748,\n",
       " 'a_coef': 4.877483792149433,\n",
       " 'b_coef': -117.33732398228243}"
      ]
     },
     "metadata": {},
     "output_type": "display_data"
    },
    {
     "data": {
      "text/plain": [
       "{'Ts': 27.091661536833783,\n",
       " 'Ts_dem': 27.364661536833783,\n",
       " 'Z_om': 0.005,\n",
       " 'u*': 0.10355337571353067,\n",
       " 'r_ah': 39.592793875729846,\n",
       " 'air_dens_p': 1.4158653287040985,\n",
       " 'dT0': 16.13336914127934}"
      ]
     },
     "metadata": {},
     "output_type": "display_data"
    },
    {
     "data": {
      "text/plain": [
       "{'Ts': 27.091661536833783,\n",
       " 'Ts_dem': 27.364661536833783,\n",
       " 'Z_om': 0.005,\n",
       " 'u*': 0.10355337571353067,\n",
       " 'r_ah': 39.592793875729846,\n",
       " 'air_dens_p': 1.4158653287040985,\n",
       " 'dT0': 16.13336914127934,\n",
       " 'dT1': 16.133369141279346,\n",
       " 'H1': 499.77043574191714,\n",
       " 'a_coef': 4.877483792149433,\n",
       " 'b_coef': -117.33732398228243}"
      ]
     },
     "metadata": {},
     "output_type": "display_data"
    }
   ],
   "source": [
    "# Segunda iteración\n",
    "pix_c_iter = iteracion(u_200, pix_c_procesado, pix_c_values, pix_c_stability_cor, pix_c_procesado_inicial['H0'])\n",
    "pix_h_iter = iteracion(u_200, pix_h_procesado, pix_h_values, pix_h_stability_cor, pix_h_procesado_inicial['H0'])\n",
    "\n",
    "# Coeficientes\n",
    "pix_c_post_iter, pix_h_post_iter = get_H(pix_c_iter, pix_h_iter)\n",
    "\n",
    "display(pix_c_iter, pix_c_post_iter)\n",
    "display(pix_h_iter, pix_h_post_iter)"
   ]
  },
  {
   "cell_type": "code",
   "execution_count": 33,
   "metadata": {},
   "outputs": [
    {
     "data": {
      "text/plain": [
       "{'Ts': 24.94622881096933,\n",
       " 'Ts_dem': 25.232228810969332,\n",
       " 'Z_om': 0.018106295889241526,\n",
       " 'u*': 0.11595033836432962,\n",
       " 'r_ah': 42.95097945577558,\n",
       " 'air_dens_p': 1.22159691377047,\n",
       " 'dT0': 5.732463083026445,\n",
       " 'dT1': 5.732463083026445,\n",
       " 'H1': 163.6928967966748,\n",
       " 'a_coef': 4.877483792149433,\n",
       " 'b_coef': -117.33732398228243}"
      ]
     },
     "metadata": {},
     "output_type": "display_data"
    },
    {
     "data": {
      "text/plain": [
       "{'y200m': 5.077906555613656,\n",
       " 'yhz2': 2.551180363531243,\n",
       " 'yhz1': 0.5910666392239622}"
      ]
     },
     "metadata": {},
     "output_type": "display_data"
    },
    {
     "data": {
      "text/plain": [
       "{'Ts': 27.091661536833783,\n",
       " 'Ts_dem': 27.364661536833783,\n",
       " 'Z_om': 0.005,\n",
       " 'u*': 0.10355337571353067,\n",
       " 'r_ah': 39.592793875729846,\n",
       " 'air_dens_p': 1.4158653287040985,\n",
       " 'dT0': 16.13336914127934,\n",
       " 'dT1': 16.133369141279346,\n",
       " 'H1': 499.77043574191714,\n",
       " 'a_coef': 4.877483792149433,\n",
       " 'b_coef': -117.33732398228243}"
      ]
     },
     "metadata": {},
     "output_type": "display_data"
    },
    {
     "data": {
      "text/plain": [
       "{'y200m': 6.2361406601446365,\n",
       " 'yhz2': 3.695786239339877,\n",
       " 'yhz1': 1.2786323461586624}"
      ]
     },
     "metadata": {},
     "output_type": "display_data"
    }
   ],
   "source": [
    "# Corrección por estabilidad\n",
    "pix_c_stability_cor = stability_corr(pix_c_post_iter)\n",
    "pix_h_stability_cor = stability_corr(pix_h_post_iter)\n",
    "\n",
    "display(pix_c_post_iter, pix_c_stability_cor)\n",
    "display(pix_h_post_iter, pix_h_stability_cor)"
   ]
  },
  {
   "cell_type": "markdown",
   "metadata": {},
   "source": [
    "----"
   ]
  },
  {
   "cell_type": "code",
   "execution_count": 101,
   "metadata": {},
   "outputs": [
    {
     "name": "stdout",
     "output_type": "stream",
     "text": [
      "40 iteraciones realizadas!\n"
     ]
    }
   ],
   "source": [
    "# Inicio\n",
    "\n",
    "lista_rah = []\n",
    "lista_p = []\n",
    "lista_dT = []\n",
    "\n",
    "pix_c_procesado_inicial = procesado_inicial(pix_c_values, filtrado_ws, filtrado_et, Kc=1.05)\n",
    "pix_h_procesado_inicial = procesado_inicial(pix_h_values, filtrado_ws, filtrado_et, Kc=0) \n",
    "\n",
    "lista_rah.append(pix_c_procesado_inicial['r_ah'])\n",
    "lista_p.append(pix_c_procesado_inicial['air_dens_p'])\n",
    "lista_dT.append(pix_c_procesado_inicial['dT0'])\n",
    "\n",
    "pix_c_procesado, pix_h_procesado = get_H(pix_c_procesado_inicial, pix_h_procesado_inicial)\n",
    "\n",
    "pix_c_stability_cor = stability_corr(pix_c_procesado)\n",
    "pix_h_stability_cor = stability_corr(pix_h_procesado)\n",
    "\n",
    "# Segunda iteración\n",
    "pix_c_iter = iteracion(u_200, pix_c_procesado, pix_c_values, pix_c_stability_cor, pix_c_procesado_inicial['H0'])\n",
    "pix_h_iter = iteracion(u_200, pix_h_procesado, pix_h_values, pix_h_stability_cor, pix_h_procesado_inicial['H0'])\n",
    "\n",
    "lista_rah.append(pix_c_iter['r_ah'])\n",
    "lista_p.append(pix_c_iter['air_dens_p'])\n",
    "lista_dT.append(pix_c_iter['dT0'])\n",
    "\n",
    "pix_c_post_iter, pix_h_post_iter = get_H(pix_c_iter, pix_h_iter)\n",
    "\n",
    "pix_c_stability_cor = stability_corr(pix_c_post_iter)\n",
    "pix_h_stability_cor = stability_corr(pix_h_post_iter)\n",
    "\n",
    "# Proceso Iterativo\n",
    "x = 0\n",
    "fin_iteraciones = 40\n",
    "\n",
    "while x < fin_iteraciones:\n",
    "    \n",
    "    pix_c_iter = iteracion(u_200, pix_c_post_iter, pix_c_values, pix_c_stability_cor, pix_c_procesado_inicial['H0'])\n",
    "    pix_h_iter = iteracion(u_200, pix_h_post_iter, pix_h_values, pix_h_stability_cor, pix_h_procesado_inicial['H0'])\n",
    "    \n",
    "    lista_rah.append(pix_c_iter['r_ah'])\n",
    "    lista_p.append(pix_c_iter['air_dens_p'])\n",
    "    lista_dT.append(pix_c_iter['dT0'])\n",
    "    \n",
    "    pix_c_post_iter, pix_h_post_iter = get_H(pix_c_iter, pix_h_iter)\n",
    "\n",
    "    pix_c_stability_cor = stability_corr(pix_c_post_iter)\n",
    "    pix_h_stability_cor = stability_corr(pix_h_post_iter)\n",
    "    \n",
    "    x+=1\n",
    "\n",
    "resultados = {\n",
    "    'r_ah': lista_rah,\n",
    "    'air_dens': lista_p,\n",
    "    'dT': lista_dT\n",
    "}\n",
    "\n",
    "print(f'{x} iteraciones realizadas!')"
   ]
  },
  {
   "cell_type": "code",
   "execution_count": 102,
   "metadata": {},
   "outputs": [
    {
     "data": {
      "image/png": "[encoded data removed]",
      "text/plain": [
       "<Figure size 864x432 with 1 Axes>"
      ]
     },
     "metadata": {
      "needs_background": "light"
     },
     "output_type": "display_data"
    },
    {
     "data": {
      "image/png": "[encoded data removed]",
      "text/plain": [
       "<Figure size 864x432 with 1 Axes>"
      ]
     },
     "metadata": {
      "needs_background": "light"
     },
     "output_type": "display_data"
    },
    {
     "data": {
      "image/png": "[encoded data removed]",
      "text/plain": [
       "<Figure size 864x432 with 1 Axes>"
      ]
     },
     "metadata": {
      "needs_background": "light"
     },
     "output_type": "display_data"
    }
   ],
   "source": [
    "for variables in resultados.keys():\n",
    "\n",
    "    variable = variables\n",
    "\n",
    "    plt.figure(figsize=(12,6)) # Ojo con plt.figure(1, figsize=(12,6))\n",
    "    plt.title(f'Variable {variable}'), plt.xlabel('N° Iteraciones'), plt.ylabel(variable)\n",
    "    valores = [i for i in range (1, fin_iteraciones+3)]\n",
    "    plt.xticks(np.arange(0, fin_iteraciones+3, step=2))\n",
    "    \n",
    "    plt.plot(valores, resultados[variable]);"
   ]
  },
  {
   "cell_type": "code",
   "execution_count": 18,
   "metadata": {},
   "outputs": [
    {
     "name": "stdout",
     "output_type": "stream",
     "text": [
      "[0]\n",
      "[0, 1]\n",
      "[0, 1, 2]\n",
      "[0, 1, 2, 3]\n",
      "[0, 1, 2, 3, 4]\n",
      "[0, 1, 2, 3, 4, 5]\n",
      "[0, 1, 2, 3, 4, 5, 6]\n",
      "[0, 1, 2, 3, 4, 5, 6, 7]\n",
      "[0, 1, 2, 3, 4, 5, 6, 7, 8]\n",
      "[0, 1, 2, 3, 4, 5, 6, 7, 8, 9]\n"
     ]
    },
    {
     "data": {
      "text/plain": [
       "[0, 1, 2, 3, 4, 5, 6, 7, 8, 9]"
      ]
     },
     "execution_count": 18,
     "metadata": {},
     "output_type": "execute_result"
    }
   ],
   "source": [
    "# Prueba while loop\n",
    "lista_prueba = []\n",
    "x = 0\n",
    "\n",
    "while x < 10:\n",
    "    \n",
    "    lista_prueba.append(x)\n",
    "    print(lista_prueba)\n",
    "    x+=1\n",
    "    \n",
    "lista_prueba"
   ]
  },
  {
   "cell_type": "markdown",
   "metadata": {
    "heading_collapsed": true,
    "id": "HcEONLQkI3UR"
   },
   "source": [
    "###### Longitud de la rugosidad que gobierna la transferencia de momentum / Momentum roughness length $z_{om}$ [m]"
   ]
  },
  {
   "cell_type": "markdown",
   "metadata": {
    "hidden": true,
    "id": "Tts5RwLsDBXc"
   },
   "source": [
    "Measure of the form drag and skin friction for the layer of air that interacts with the surface. \n",
    "\n",
    "$$\n",
    "z_{om} = 0.018 \\; \\text{LAI} \\qquad (33)\n",
    "$$"
   ]
  },
  {
   "cell_type": "code",
   "execution_count": null,
   "metadata": {
    "hidden": true,
    "id": "9ZRayGslE2ar"
   },
   "outputs": [],
   "source": [
    "# img_lai.select('LAI').reduceRegion(ee.Reducer.minMax(), scale=30).getInfo()"
   ]
  },
  {
   "cell_type": "code",
   "execution_count": null,
   "metadata": {
    "hidden": true,
    "id": "d4EwKhKWFDj1"
   },
   "outputs": [],
   "source": [
    "# Momentum roughness length z_om (m) - Tasumi (2003)\n",
    "# z_om = img_lai.select('LAI').multiply(0.018).rename('z_om')\n",
    "# z_om.reduceRegion(ee.Reducer.minMax(), scale=30).getInfo()"
   ]
  },
  {
   "cell_type": "code",
   "execution_count": null,
   "metadata": {
    "cellView": "form",
    "hidden": true,
    "id": "Vq25Man4C8xs"
   },
   "outputs": [],
   "source": [
    "# @markdown Visualización: LAI y NDVI\n",
    "\n",
    "# # NDVI > 0 \n",
    "# img_ndvi_gt0 = img_ndvi.updateMask(img_ndvi.select('NDVI').gt(0)).select('NDVI')\n",
    "\n",
    "# Map = geemap.Map(height='800px') \n",
    "# Map.centerObject(roi, 11)\n",
    "\n",
    "# # Map.addLayer(img_sr_tasumi, {'bands': ['B4_SR', 'B3_SR', 'B2_SR'], 'max': 0.3, 'min': 0.0}, 'RGB SR') \n",
    "\n",
    "# Map.addLayer(img_toa, vis_rgb, 'img_toa')\n",
    "# Map.addLayer(img_lai.select('LAI'), vis_ndvi, 'img_lai')\n",
    "# Map.addLayer(img_ndvi.select('NDVI'), vis_ndvi, 'img_ndvi')\n",
    "# Map.addLayer(img_ndvi_gt0, vis_ndvi, 'img_ndvi_gt0')\n",
    "\n",
    "# Map.addLayer(empty, {}, 'Chongoyape')\n",
    "# Map.addLayer(empty2, {}, 'Chongoyape_caja')\n",
    "\n",
    "# Map"
   ]
  },
  {
   "cell_type": "markdown",
   "metadata": {
    "heading_collapsed": true,
    "id": "45gNRwfUOktp"
   },
   "source": [
    "###### Velocidad de viento a la altura w $u_w$ $[\\text{m s}^{-1}]$ "
   ]
  },
  {
   "cell_type": "markdown",
   "metadata": {
    "hidden": true,
    "id": "ovgq8JMPy5hl"
   },
   "source": [
    "Datos de estación Vista Florida 2021-2022. Inicio: `1/10/2021`"
   ]
  },
  {
   "cell_type": "code",
   "execution_count": null,
   "metadata": {
    "hidden": true,
    "id": "4--zud6NSDVy"
   },
   "outputs": [],
   "source": [
    "# 8 Imágenes seleccionadas\n",
    "# ids = [\n",
    "#     'LANDSAT/LC09/C02/T1/LC09_010065_20211212', # 0 - 12/12 - l9\n",
    "#     'LANDSAT/LC09/C02/T1/LC09_010065_20220113', # 1 - 01/13 - l9 OJO: NDVI negativos -> Posible riego 01 13\n",
    "#     'LANDSAT/LC09/C02/T1/LC09_010065_20220129', # 2 - 01/29 - l9\n",
    "#     'LANDSAT/LC08/C02/T1/LC08_010065_20220310', # 3 - 03/10 - l8\n",
    "#     'LANDSAT/LC09/C02/T1/LC09_010065_20220403', # 4 - 04/03 - l9\n",
    "#     'LANDSAT/LC09/C02/T1/LC09_010065_20220521', # 5 - 05/21 - l9\n",
    "#     'LANDSAT/LC08/C02/T1/LC08_010065_20220529', # 6 - 05/29 - l8\n",
    "#     'LANDSAT/LC08/C02/T1/LC08_010065_20220614'  # 7 - 06/14 - l8\n",
    "#       ]\n",
    "\n",
    "fechas_imgs = []\n",
    "\n",
    "for img_id in ids:\n",
    "    img_ee = ee.Image(img_id)\n",
    "    img_date = img_ee.date().format('YYYY-MM-dd').getInfo()\n",
    "    fechas_imgs.append(img_date)\n",
    "\n",
    "# fechas_imgs = '2021-12-12',\n",
    "#  '2022-01-13',\n",
    "#  '2022-01-29',\n",
    "#  '2022-03-10',\n",
    "#  '2022-04-03',\n",
    "#  '2022-05-21',\n",
    "#  '2022-05-29',\n",
    "#  '2022-06-14']"
   ]
  },
  {
   "cell_type": "code",
   "execution_count": null,
   "metadata": {
    "hidden": true,
    "id": "a9ADnHGKSDVy",
    "outputId": "b531efa7-a198-4395-9a38-0b2eb2ebe4a1",
    "scrolled": false
   },
   "outputs": [],
   "source": [
    "ruta_csv = 'EE_Vista_Florida.csv'\n",
    "df_estacion_vf = pd.read_csv(ruta_csv, na_values='---') \n",
    "df_estacion_vf.Date = pd.to_datetime(df_estacion_vf.Date, format='%d/%m/%Y')\n",
    "# df_estacion_vf\n",
    "\n",
    "# Cambio de formato en columna Time de object a numeric (para visualizar mejor con matplotlib)\n",
    "df_prueba = df_estacion_vf.copy()\n",
    "df_prueba['Time'] = pd.to_numeric(df_prueba['Time'].str.replace(\":\", \".\"))\n",
    "\n",
    "# Extraemos los datos de la estación para las fechas de existencia de imagen satelital\n",
    "datos_hora_imagen = df_prueba[df_prueba['Date'].isin(fechas_imgs)]\n",
    "# datos_hora_imagen\n",
    "\n",
    "# Visualizamos y comparamos los dataframes según la hora de filtrado\n",
    "display(datos_hora_imagen[datos_hora_imagen['Time']==10.30])\n",
    "display(datos_hora_imagen[datos_hora_imagen['Time']==11.00])"
   ]
  },
  {
   "cell_type": "code",
   "execution_count": null,
   "metadata": {
    "hidden": true,
    "id": "i32zzPrMSDVy",
    "outputId": "42dc86eb-e70d-46d7-ae71-4dc78bbed4a8"
   },
   "outputs": [],
   "source": [
    "fecha = img_date\n",
    "hora = 10.30\n",
    "\n",
    "print(fecha)\n",
    "filtrado = datos_hora_imagen[(datos_hora_imagen['Date']==fecha) & (datos_hora_imagen['Time']==hora)]\n",
    "filtrado"
   ]
  },
  {
   "cell_type": "code",
   "execution_count": null,
   "metadata": {
    "hidden": true,
    "id": "LI9h1n2rSDVy",
    "outputId": "aa537ad3-4e2a-4efa-8f45-a921ab48c9fb"
   },
   "outputs": [],
   "source": [
    "datos_hora_imagen[(datos_hora_imagen['Date']==fecha) & (datos_hora_imagen['Time']>=10)].head(13)"
   ]
  },
  {
   "cell_type": "code",
   "execution_count": null,
   "metadata": {
    "hidden": true,
    "id": "lYlMDSeMSDVy",
    "outputId": "e2731294-09bc-4d49-871f-42fe70486d91"
   },
   "outputs": [],
   "source": [
    "filtrado_ws = (\n",
    "    datos_hora_imagen[(datos_hora_imagen['Date'] == img_date) & (datos_hora_imagen['Time']==10.30)]['Wind Speed']\n",
    "    .values[0]\n",
    ")\n",
    "\n",
    "print(filtrado_ws) # [km/h]\n",
    "\n",
    "filtrado_et = (\n",
    "    datos_hora_imagen[(datos_hora_imagen['Date'] == img_date) & (datos_hora_imagen['Time']==11)]['ET']\n",
    "    .values[0]\n",
    ")\n",
    "print(filtrado_et)"
   ]
  },
  {
   "cell_type": "markdown",
   "metadata": {
    "heading_collapsed": true,
    "id": "hWvSU4vsSDVy"
   },
   "source": [
    "###### Código pasado: Lectura de archivo .csv y visualización con plotly"
   ]
  },
  {
   "cell_type": "code",
   "execution_count": null,
   "metadata": {
    "cellView": "form",
    "hidden": true,
    "id": "AIf6t1mrJNXJ",
    "scrolled": true
   },
   "outputs": [],
   "source": [
    "# @markdown Generar reporte de velocidad de viento\n",
    "\n",
    "# # Lectura de datos de la estación meteorológica Tinajones\n",
    "ruta_csv = 'https://raw.githubusercontent.com/vilcagamarracf/Inv_arroz_METRIC/main/files/Tinajones_datos_met_2021.csv'\n",
    "\n",
    "# df_tinajones = pd.read_csv(ruta_csv, na_values='S/D')\n",
    "df_tinajones.FECHA = pd.to_datetime(df_tinajones.FECHA, format='%d/%m/%Y')\n",
    "\n",
    "vel_viento_15hr = df_tinajones[df_tinajones['HORA']=='15:00']\n",
    "\n",
    "# # Lectura de datos del reporte de imágenes satelitales generado con Earth Engine\n",
    "ruta_reportel8 = 'https://raw.githubusercontent.com/vilcagamarracf/Inv_arroz_METRIC/main/files/reporteL8_RAW_2021.csv'\n",
    "\n",
    "# df_reportel8 = pd.read_csv(ruta_reportel8)\n",
    "fechas_reportel8 = df_reportel8['Fecha Corta'].tolist()\n",
    "\n",
    "vel_viento_15hr = vel_viento_15hr[vel_viento_15hr['FECHA'].isin(fechas_reportel8)]\n",
    "vel_viento_15hr"
   ]
  },
  {
   "cell_type": "code",
   "execution_count": null,
   "metadata": {
    "hidden": true,
    "id": "SkkijN50Jx4M",
    "scrolled": true
   },
   "outputs": [],
   "source": [
    "vel_viento_ruta = 'https://raw.githubusercontent.com/vilcagamarracf/Inv_arroz_METRIC/main/files/vel_viento_15hr.csv'\n",
    "vel_viento_15hr = pd.read_csv(vel_viento_ruta)\n",
    "vel_viento_15hr"
   ]
  },
  {
   "cell_type": "code",
   "execution_count": null,
   "metadata": {
    "hidden": true,
    "id": "XAzbZRCjKYh6"
   },
   "outputs": [],
   "source": [
    "# @markdown Visualización de datos de velocidad de viento [m/s]\n",
    "plt.figure(figsize=(15,6))\n",
    "\n",
    "# Eje Y izquierdo\n",
    "plt.plot(vel_viento_15hr['FECHA'].apply(pd.to_datetime), \n",
    "         vel_viento_15hr['VELOCIDAD DEL VIENTO (m/s)'], \n",
    "         'd-')\n",
    "\n",
    "plt.title('Velocidad del viento 15:00 hrs'), \n",
    "plt.ylabel('VELOCIDAD DEL VIENTO [m/s]')\n",
    "\n",
    "# Eje X : Fechas\n",
    "fechas_2020_2021 = pd.date_range(start='2021', end='2022', freq='MS')\n",
    "plt.xticks(fechas_2020_2021), plt.gca().xaxis.set_major_formatter(date_format) # Formato '%Y-%m'\n",
    "\n",
    "plt.grid();"
   ]
  },
  {
   "cell_type": "code",
   "execution_count": null,
   "metadata": {
    "cellView": "form",
    "hidden": true,
    "id": "s3oTFtR2Q3JN"
   },
   "outputs": [],
   "source": [
    "import plotly.graph_objects as go\n",
    "\n",
    "# @markdown Gráfica con Plotly: Sentinel-2, Landsat 8 y Landsat 9\n",
    "\n",
    "fig = go.Figure()\n",
    "\n",
    "fig.add_trace(\n",
    "    go.Scatter(x=vel_viento_15hr['FECHA'].apply(pd.to_datetime), \n",
    "               y=vel_viento_15hr['VELOCIDAD DEL VIENTO (m/s)'],\n",
    "               name='Sentinel-2', \n",
    "              #  marker_color= 'rgba(0, 0, 0, 0.7)',\n",
    "               mode='lines+markers',\n",
    "               xhoverformat=\"%d-%m-%Y\",\n",
    "               hovertemplate='%{y:.2f} m/s',\n",
    "               line = dict(width=2)#, dash='dot')\n",
    "               )\n",
    "    )\n",
    "\n",
    "# fig.update_traces(mode = 'markers', marker_size=7)\n",
    "\n",
    "# Título y hover\n",
    "title_plotly = 'Velocidad del viento 15:00 hrs - Estación Tinajones'\n",
    "\n",
    "fig.update_layout(\n",
    "    plot_bgcolor = \"white\",\n",
    "    width = 1000,\n",
    "    height = 400,\n",
    "    hovermode=\"x unified\",\n",
    "    title = title_plotly,\n",
    "    # yaxis_range = [0,100],\n",
    "    # xaxis_range = [fecha, pd.to_datetime(fecha) + relativedelta(months=meses)] \n",
    "    margin=dict(t=75, b=25, l=0, r=0),\n",
    "    legend=dict(x=0.3, y=1.10),\n",
    "    legend_orientation='h',\n",
    "    # https://plotly.com/python/reference/layout/#layout-legend-orientation\n",
    "    )\n",
    "\n",
    "# Nombres en ejes\n",
    "fig.update_yaxes(title_text='VELOCIDAD DEL VIENTO [m/s]',\n",
    "                 showline=True, linecolor='black', mirror=True,\n",
    "                 gridcolor='#7f7f7f'\n",
    ")\n",
    "\n",
    "# Obtener ticks mensuales\n",
    "fig.update_xaxes(\n",
    "    showline=True, linecolor='black', mirror=True,\n",
    "    gridcolor='#7f7f7f',\n",
    "    dtick='M1', tickformat='%m-%Y'\n",
    "    )\n",
    "\n",
    "fig.show()\n",
    "# fig.write_html(\"prueba_plotly.html\")"
   ]
  },
  {
   "cell_type": "markdown",
   "metadata": {
    "heading_collapsed": true,
    "id": "h_-Cbo7oI0by"
   },
   "source": [
    "###### Wind speed at an assumed blending height (200 m) above the weather station $u_{200}$ [m s-1]"
   ]
  },
  {
   "cell_type": "markdown",
   "metadata": {
    "hidden": true,
    "id": "pffdY1qjIvSS"
   },
   "source": [
    "Is calculated as\n",
    "\n",
    "$$\n",
    "u_{200} = \\frac{ u_w \\ln{(200/z_{omw})} }{ \\ln{(z_x/z_{omw})} } \\qquad (32)\n",
    "$$\n",
    "\n",
    "Where:\n",
    "- $u_w$ : wind speed measured at a weather station at $z_x$ height above the surface\n",
    "- $z_{omw}$ : the roughness length for the weather station surface, similar to Allen and Wright (1997).\n",
    "\n",
    "All units for $z$ are the same. The value for $u_{200}$ is assumed constant for the satellite image. This asumption allows for the use of a constant relation between *dT* and $T_s$."
   ]
  },
  {
   "cell_type": "code",
   "execution_count": null,
   "metadata": {
    "hidden": true,
    "id": "AKt8tkkUVNUH",
    "outputId": "f807019d-e7c8-4977-a6ae-ce37084d88a0"
   },
   "outputs": [],
   "source": [
    "# Velocidad del viento medido por estación meteorológica a las 10:30 [m/s]\n",
    "u_w = filtrado_ws*10/36 # filtrado_ws en km/hr -> m/s\n",
    "\n",
    "z_omw = 0.12*0.15  # z_omw = 0.12*h donde h es la altura del grass de la estación met (relativo a cada estación)\n",
    "z_x = 2.5          # altura del equipo que mide la velocidad del viento, varía de 2 a 2.80m (relativo a cada estación)\n",
    "\n",
    "u_200 = u_w*math.log(200/z_omw)/math.log(z_x/z_omw)\n",
    "u_200 # (m/s)"
   ]
  },
  {
   "cell_type": "markdown",
   "metadata": {
    "heading_collapsed": true,
    "id": "nHXjiP1iXAaM"
   },
   "source": [
    "###### Friction velocity $u*$ [m s-1]"
   ]
  },
  {
   "cell_type": "markdown",
   "metadata": {
    "hidden": true,
    "id": "NJcVeD85W-9t"
   },
   "source": [
    "is computed during the first iteration using **the logarithmic wind law for neutral atmospheric conditions**\n",
    "\n",
    "$$\n",
    "u* = \\frac{ k \\; u_{200} }{ \\ln{(200/z_{om})} } \\; \\; \\; \\; \\qquad (31)\n",
    "$$\n",
    "\n",
    "Where:\n",
    "- $u_{200}$ : wind speed (m s-1) at a blending height assumed to be 200 m, and\n",
    "- $z_{om}$ : momentum roughness length (m). $z_{om}$ is a measure of the form drag and skin friction for the layer of air that interacts with the surface.\n",
    "- $k$ : von Karman's constant **(0.41)**. \n",
    "\n",
    "$u*$ is computed for each pixel inside the process model **using a specific roughness length for each pixel**, but with $u_{200}$ assumed to be constant over all pixels of the image since it is defined as occuring at a \"blending height\" unaffected by surface features. Eqs. (30) and (31) support the use of a temperature gradient defined between two heights that are both above the surface. This allows one to estimate $r_{\\text{ah}}$ without having to estimate a second aerodynamic roughness for sensible heat transfer ($z_{oh}$), since height $z_1$ is defined to be at an elevation above $z_{oh}$. This is an advantage because $z_{oh}$ can be difficult to estimate for sparse vegetation."
   ]
  },
  {
   "cell_type": "markdown",
   "metadata": {
    "hidden": true,
    "id": "YXyg0DhXSDV_"
   },
   "source": [
    "Más info:\n",
    "- [Log wind profile](https://en.wikipedia.org/wiki/Log_wind_profile#cite_note-1): The log wind profile is a semi-empirical relationship commonly used to describe the vertical distribution of horizontal mean wind speeds within the lowest portion of the planetary boundary layer.\n",
    "- [Friction velocity - Shear velocity](https://en.wikipedia.org/wiki/Shear_velocity)\n",
    "- [Roughness length $(z_0)$](https://en.wikipedia.org/wiki/Roughness_length): Is a corrective measure to account for the effect of the roughness of a surface on wind flow. That is, the value of the roughness length depends on the terrain."
   ]
  },
  {
   "cell_type": "code",
   "execution_count": null,
   "metadata": {
    "hidden": true,
    "id": "NCRocmkjXTye",
    "outputId": "0bcc9f80-a2f1-4da7-cbc9-16c880231eec"
   },
   "outputs": [],
   "source": [
    "# u*1\n",
    "k_const = 0.41\n",
    "u_star = k_const*u_200/(math.log(200/z_omw))\n",
    "u_star"
   ]
  },
  {
   "cell_type": "markdown",
   "metadata": {
    "heading_collapsed": true,
    "id": "L5_fjZk9eq1g"
   },
   "source": [
    "###### Aerodynamic resistance $r_{ah}$ [s m-1] between two near surface heights $z_1$ and $z_2$"
   ]
  },
  {
   "cell_type": "markdown",
   "metadata": {
    "hidden": true,
    "id": "5a_FGf0ff32T"
   },
   "source": [
    "The value for $r_{\\text{ah}}$ is **strongly influenced by** the buoyancy within the boundary layer **driven by** the rate of sensible heat flux. Because both $r_{\\text{ah}}$ and $H$ are unknown at each pixel, an iterative solution is required. \n",
    "\n",
    "During the first iteration, $r_{\\text{ah}}$ is computed assuming neutral stability\n",
    "\n",
    "$$\n",
    "r_{\\text{ah}} = \\frac{\\ln{(z_2/z_1)}}{{u*} \\; k} \\; \\; \\; \\; \\qquad (30)\n",
    "$$"
   ]
  },
  {
   "cell_type": "code",
   "execution_count": null,
   "metadata": {
    "hidden": true,
    "id": "G7k4u03vfpIg",
    "outputId": "0075c267-c9de-4ac0-d704-3c438d62a3de"
   },
   "outputs": [],
   "source": [
    "r_ah = math.log(2/0.1)/(u_star * k_const)\n",
    "r_ah"
   ]
  },
  {
   "cell_type": "markdown",
   "metadata": {
    "heading_collapsed": true,
    "id": "xKsIFt5p97M_"
   },
   "source": [
    "##### Parte iterativa"
   ]
  },
  {
   "cell_type": "code",
   "execution_count": null,
   "metadata": {
    "hidden": true,
    "id": "5Tch4af3dPB-"
   },
   "outputs": [],
   "source": [
    "# Falta:\n",
    "\n",
    "# LE\n",
    "# Requiere: ETr_inst instantanea\n",
    "# ETr_inst = 0.43 # mm/hr DATO FALTANTE\n",
    "# kc = 0.5 # usually 1.05 for cold and 0 for hot\n",
    "# LE_pix_hot = ETr_inst*kc*(2.501-0.002361*(pix_hot_ts))*(10**6)/3600\n",
    "\n",
    "# H = Rn - G - LE\n",
    "# H_pix_hot = R_n_calculated - G_pix_hot - LE_pix_hot"
   ]
  },
  {
   "cell_type": "markdown",
   "metadata": {
    "hidden": true,
    "id": "jWSSWoKG-DFn"
   },
   "source": [
    "Pasos:\n",
    "1. Corrección de mapa de temperaturas por elevación (DEM)\n",
    "  $$\n",
    "  T_{\\text{s_dem}} = T_s + C_p \\frac{\\text{Elevacion}_{dem} - \\text{Elevacion}_{estacion}}{1000}\n",
    "  $$\n",
    "  - $C_p$ : Temperature Lapse Rate: 6.5 C°/Km / Índice de lapso de temperatura\n",
    "1. Estimación de R_n\n",
    "1. Estimación de G\n",
    "1. Establecer valor de Water Flag:\n",
    "  - 0 for ag. pixel\n",
    "  - 1 for water pixel\n",
    "1. Estimación $z_{om}$ flat\n",
    "1. Estimación $z_{om}$\n",
    "1. Wind coefficient 1"
   ]
  },
  {
   "cell_type": "code",
   "execution_count": null,
   "metadata": {
    "hidden": true,
    "id": "SGwe9JTsKD-M"
   },
   "outputs": [],
   "source": [
    "# Corrección de temperatura por elevación\n",
    "pix_cold_ts_dem = pix_cold_ts+6.5/1000*(pix_cold_elev-3)\n",
    "pix_hot_ts_dem = pix_hot_ts+6.5/1000*(pix_hot_elev-3)"
   ]
  },
  {
   "cell_type": "code",
   "execution_count": null,
   "metadata": {
    "hidden": true,
    "id": "KWmccNbJiGNW"
   },
   "outputs": [],
   "source": [
    "# Fecha de toma de imagen\n",
    "fecha_img = img_ee.date().format('Y-MM-dd').getInfo() # '2021-11-02'\n",
    "\n",
    "# Velocidad del viento medido por estación meteorológica a las 15:00 [m/s] para la imagen Landsat 8\n",
    "u_w = df_15_hr_w[df_15_hr_w['FECHA']==fecha_img].iat[0,3] # numpy.float64\n",
    "u_w"
   ]
  },
  {
   "cell_type": "code",
   "execution_count": null,
   "metadata": {
    "hidden": true,
    "id": "4mlesZBriYLU"
   },
   "outputs": [],
   "source": [
    "z_omw = 0.12*0.15  # h es la altura del grass de la estación met (relativo a cada estación)\n",
    "z_x = 2.5          # altura del equipo que mide la velocidad del viento, varía de 3 a 2.80m (relativo a cada estación)\n",
    "\n",
    "u_200 = u_w*math.log(200/z_omw)/math.log(z_x/z_omw)\n",
    "u_200 # (m s-1)"
   ]
  },
  {
   "cell_type": "code",
   "execution_count": null,
   "metadata": {
    "hidden": true,
    "id": "pSAC50FIg9dW"
   },
   "outputs": [],
   "source": [
    "# Pixel Frio\n",
    "if pix_cold_lai >= 0.2778:\n",
    "  pix_cold_z_om = 0.018*pix_cold_lai\n",
    "else:\n",
    "  pix_cold_z_om = 0.005 \n",
    "\n",
    "print(f'pix_cold_z_om: {pix_cold_z_om}')\n",
    "\n",
    "# Pixel Caliente\n",
    "if pix_hot_lai >= 0.2778:\n",
    "  pix_hot_z_om = 0.018*pix_hot_lai\n",
    "else:\n",
    "  pix_hot_z_om = 0.005 \n",
    "\n",
    "print(f'pix_hot_z_om: {pix_hot_z_om}')"
   ]
  },
  {
   "cell_type": "code",
   "execution_count": null,
   "metadata": {
    "hidden": true,
    "id": "eI9_KY3S3XiS"
   },
   "outputs": [],
   "source": [
    "# Comienza iteración 1: u_1\n",
    "wind_coef = 1\n",
    "pix_cold_u_1 = 0.41*u_200*wind_coef/(math.log(200/pix_cold_z_om))\n",
    "pix_hot_u_1  = 0.41*u_200*wind_coef/(math.log(200/pix_hot_z_om))\n",
    "\n",
    "# r_ah 1\n",
    "pix_cold_rah = math.log(2/0.1)/(pix_cold_u_1*0.41)\n",
    "pix_hot_rah = math.log(2/0.1)/(pix_hot_u_1*0.41)\n",
    "\n",
    "# Densidad del aire\n",
    "pix_cold_dens = 1000*101.3*(((293.15-0.0065*pix_cold_elev)/293.15)**5.26)/(1.01*293*287) # Ojo 293 y 293.15 es para 20° ya que 273.15 + 20\n",
    "pix_hot_dens  = 1000*101.3*(((293.15-0.0065*pix_hot_elev )/293.15)**5.26)/(1.01*293*287)\n",
    "\n",
    "# dT\n",
    "pix_cold_dT = pix_cold_H#######################*pix_cold_rah/(pix_cold_dens*1004)\n",
    "pix_hot_dT  = pix_hot_H#######################*pix_hot_rah/(pix_hot_dens*1004)\n",
    "\n",
    "a = (pix_hot_dT - pix_cold_dT)/(pix_cold_ts_dem - pix_hot_ts_dem)\n",
    "b = -a*pix_cold_ts_dem+pix_cold_dT\n",
    "\n",
    "print(a, b)"
   ]
  },
  {
   "cell_type": "markdown",
   "metadata": {
    "hidden": true,
    "id": "coKP-ttJJiXK"
   },
   "source": [
    "Stability Correction Functions\n",
    "\n",
    "- The Monin-Obukhov length (L)"
   ]
  },
  {
   "cell_type": "code",
   "execution_count": null,
   "metadata": {
    "hidden": true,
    "id": "WZM1fAVd92qP"
   },
   "outputs": [],
   "source": [
    "# H1\n",
    "pix_cold_h1 = pix_cold_dens*1004*pix_cold_dT/pix_cold_rah\n",
    "pix_hot_h1 = pix_hot_dens*1004*pix_hot_dT/pix_hot_rah\n",
    "\n",
    "# L1\n",
    "if pix_cold_h1 != 0:\n",
    "  pix_cold_l1 = -1004*pix_cold_dens*pix_cold_u_1**3*pix_cold_ts/(0.41*9.81*pix_cold_h1)\n",
    "else:\n",
    "  pix_cold_l1 = -1000\n",
    "\n",
    "if pix_hot_h1 != 0:\n",
    "  pix_hot_l1 = -1004*pix_hot_dens*pix_hot_u_1**3*pix_hot_ts/(0.41*9.81*pix_hot_h1)\n",
    "else:\n",
    "  pix_hot_l1 = -1000\n",
    "\n",
    "# height of u_200 speed (200 m)\n",
    "z2 = 2\n",
    "z1 = 0.1\n",
    "\n",
    "pix_hot\n",
    "# Ym(200) 1\n",
    "if pix_hot_l1<=0:\n",
    "  y_m_200 = (\n",
    "      2*math.log((1+(1-16*200/pix_hot_l1)**0.25)/2)\n",
    "      + math.log((1+(1-16*200/pix_hot_l1)**0.5)/2)\n",
    "      - 2*math.atan((1-16*200/pix_hot_l1)**0.25)\n",
    "      + 0.5*math.pi\n",
    "  )\n",
    "else:\n",
    "  y_m_200 = -5*z2/pix_hot_l1\n",
    "\n",
    "# Yh(z2) 1\n",
    "if pix_hot_l1<=0:\n",
    "  y_h_z2 = 2*math.log((1+(1-16*z2/pix_hot_l1)**0.5)/2)\n",
    "else:\n",
    "  y_h_z2 = -5*z2/pix_hot_l1\n",
    "\n",
    "# Yh(z1) 1\n",
    "if pix_hot_l1<=0:\n",
    "  y_h_zz1 = 2*math.log((1+(1-16*z1/pix_hot_l1)**0.5)/2)\n",
    "else:\n",
    "  y_h_z1 = -5*z1/pix_hot_l1\n"
   ]
  },
  {
   "cell_type": "code",
   "execution_count": null,
   "metadata": {
    "hidden": true,
    "id": "53O_FKOeIATW"
   },
   "outputs": [],
   "source": [
    "def iterar_rah():\n",
    "  \n",
    "\n",
    "  return a,b,pix_cold_rah, pix_cold_dT, pix_hot_rah, pix_cold_dT"
   ]
  },
  {
   "cell_type": "markdown",
   "metadata": {
    "hidden": true,
    "id": "AJ4bS4NYA91B"
   },
   "source": [
    "valores a iterar:\n",
    "- a, b\n",
    "- cold rah y cold dT\n",
    "- hot rah y hot dT "
   ]
  },
  {
   "cell_type": "markdown",
   "metadata": {
    "heading_collapsed": true,
    "id": "pabct91tNWnT"
   },
   "source": [
    "### $\\lambda{ET}$ y $ET$ instantánea"
   ]
  },
  {
   "cell_type": "markdown",
   "metadata": {
    "hidden": true,
    "id": "9BFlEdU1khWU"
   },
   "source": [
    "Energía latente consumida por la evapotranspiración $LE \\; (W m^{-2})$\n",
    "\n",
    "$$\n",
    "LE = R_n - G - H\n",
    "$$"
   ]
  },
  {
   "cell_type": "markdown",
   "metadata": {
    "hidden": true,
    "id": "adj7xFapkjMe"
   },
   "source": [
    "Evapotranspiración instantánea al momento de toma de imagen.\n",
    "\n",
    "$$\n",
    "ET_{inst} = 3,600 \\frac{LE}{\\lambda \\; \\rho_w} \n",
    "$$"
   ]
  },
  {
   "cell_type": "markdown",
   "metadata": {
    "hidden": true,
    "id": "amOhUsVJNUJt"
   },
   "source": [
    "Calor latente de vaporización $\\lambda \\; (J kg^{-1})$ \n",
    "\n",
    "$$\n",
    "\\lambda = [2.501 - 0.00236 \\; ( T_s - 273.15)] \\times 10^6\n",
    "$$\n",
    "\n",
    "\n",
    "\n",
    "\n"
   ]
  },
  {
   "cell_type": "markdown",
   "metadata": {
    "hidden": true,
    "id": "daCOnK6dO_ip"
   },
   "source": [
    "Fracción de evapotranspiración de referencia $ET_rF$\n",
    "\n",
    "> $ET_rF$ is the same as the well-known crop coefficient, $K_c$. When used with an alfalfa reference basis, and is used to extrapolate ET from the image time to periods of 24 h or longer.\n",
    "\n",
    "$$\n",
    "ET_rF = \\frac{ET_{inst}}{ET_r}\n",
    "$$"
   ]
  },
  {
   "cell_type": "markdown",
   "metadata": {
    "heading_collapsed": true,
    "id": "o_vZ_O3KNYex"
   },
   "source": [
    "### Evapotranspiración de cultivo $ET_c$ por día"
   ]
  },
  {
   "cell_type": "markdown",
   "metadata": {
    "hidden": true,
    "id": "TmDnkVOuXn9d"
   },
   "source": [
    "> In the METRIC process, $ET_{24}$ is estimated by assuming that the instantaneous $ET_rF$ computed at image time is the same as the average $ET_rF$ over the 24 h average. "
   ]
  },
  {
   "cell_type": "markdown",
   "metadata": {
    "heading_collapsed": true,
    "id": "_twIKBx23snC"
   },
   "source": [
    "## Pruebas"
   ]
  },
  {
   "cell_type": "markdown",
   "metadata": {
    "heading_collapsed": true,
    "hidden": true,
    "id": "Ne9yzqNMhG6x"
   },
   "source": [
    "###### Inputs"
   ]
  },
  {
   "cell_type": "code",
   "execution_count": null,
   "metadata": {
    "colab": {
     "base_uri": "https://localhost:8080/",
     "height": 237
    },
    "hidden": true,
    "id": "TnbSCbL17ixz",
    "outputId": "d7272b96-f7af-48ba-8c66-8f9d38cb8263"
   },
   "outputs": [],
   "source": [
    "img_prod_stats"
   ]
  },
  {
   "cell_type": "code",
   "execution_count": null,
   "metadata": {
    "hidden": true,
    "id": "HCmKgnK78WT_"
   },
   "outputs": [],
   "source": [
    "# Diccionarios para visualización\n",
    "vis_params_ts_c = {'min': float(img_prod_stats['Ts_c']['min']), \n",
    "                   'max': float(img_prod_stats['Ts_c']['max']), \n",
    "                   'palette': cmp.get_palette('RdYlBu_r')}\n",
    "\n",
    "vis_params_ndvi = {'min': img_prod_stats['NDVI']['min'], \n",
    "                   'max': img_prod_stats['NDVI']['max'], \n",
    "                   'palette': cmp.get_palette('ndvi')}\n",
    "\n",
    "vis_params_alb = {'min': img_prod_stats['albedo']['min'], \n",
    "                  'max': img_prod_stats['albedo']['max'], \n",
    "                  'palette': cmp.get_palette('RdYlGn_r')}\n",
    "\n",
    "vis_params_lai = {'min': img_prod_stats['LAI']['min'], \n",
    "                  'max': img_prod_stats['LAI']['max'], \n",
    "                  'palette': cmp.get_palette('RdYlGn')}"
   ]
  },
  {
   "cell_type": "code",
   "execution_count": null,
   "metadata": {
    "hidden": true,
    "id": "CrReTpPKACvi"
   },
   "outputs": [],
   "source": [
    "Map.addLayer(img_ndvi.clip(predios_agricolas), vis_params_ndvi,'NDVI')\n",
    "Map.addLayer(img_albedo.clip(predios_agricolas), vis_params_alb, 'Albedo')\n",
    "Map.addLayer(img_lai.clip(predios_agricolas), vis_params_lai, 'LAI')"
   ]
  },
  {
   "cell_type": "code",
   "execution_count": null,
   "metadata": {
    "hidden": true,
    "id": "McyEOO_8AWJU"
   },
   "outputs": [],
   "source": [
    "img_s2_01_26 = ee.Image('COPERNICUS/S2_SR/20220126T153619_20220126T153649_T17MPN').multiply(0.0001).clip(predios_bound)\n",
    "img_s2_01_31 = ee.Image('COPERNICUS/S2_SR/20220131T153621_20220131T153814_T17MPN').multiply(0.0001).clip(predios_bound)\n",
    "img_s2_01_11 = ee.Image('COPERNICUS/S2_SR/20220111T153621_20220111T154058_T17MPN').multiply(0.0001).clip(predios_bound)"
   ]
  },
  {
   "cell_type": "code",
   "execution_count": null,
   "metadata": {
    "colab": {
     "base_uri": "https://localhost:8080/",
     "height": 621,
     "referenced_widgets": [
      "cf4bdf2fa8a544edb087e3e4ee77a9fd",
      "673cf59bc7254fd097c74f8640729431",
      "dc60a9b3553341328435fa55464c51de",
      "3c8b1a285340436c83dabdd1580ac38e",
      "9d30bf316c274cfd97995574772d79e5",
      "fe17be417c474c78911c9f7e922abdaa",
      "66b348c3dd154b31a1040426b9dc0aee",
      "e04760c661174b66a50461eff2ad39d9",
      "26c073dc79a8496c9a341ae16f715d14",
      "1a0ca996f9f94c22ab088e7011e86f66",
      "55fbb5f826094a15bfb9e263a4178074",
      "f20bcb6b13494e30ad6cab48c06b46af",
      "82ebcd50a6ab4eb7bbd43b0b2b05c420",
      "c4d9e644875949a982757d0b89577e9c",
      "c1aa62e4f44941568f63d50b097c104d",
      "c71deb3be3584062ab734c8e9caa28df",
      "e41c34784c9146509fad70d66feeca40",
      "c1b8ce65be1c4ec8998e4ea46681497a",
      "1f8b9053f96d4d51b7c3bdddc4008d22",
      "14b11b79c7ef4d35b7cc276a7c5b4f9c",
      "09f51ee634c64e6ba9ece93acaa64799",
      "3114ac1055964ec386418fcbd6df2295",
      "574c4d4799c44ca69d81f7f502860fff",
      "a9ab631f84234de3921c220968a33e07",
      "8ca675ac4fad4951a140289692580722",
      "6dea706511704698b44b1345994bde51",
      "03c4571fd8394ef1a05c024a4d15bd7d",
      "db54401f099a42e989b95227f5dd34b9",
      "3fb51a610a524f05beb343d22bd5bef2",
      "e109b21ebd6549099aef9b874e875425",
      "76beaa96875741c492b76b67ce3f5557"
     ]
    },
    "hidden": true,
    "id": "tPWai3ms70rH",
    "outputId": "36052656-6868-4110-a2bd-8d02167c4a7a"
   },
   "outputs": [],
   "source": [
    "Map = geemap.Map()#layer_ctrl=True)#, height='800px') \n",
    "\n",
    "Map.centerObject(predios_agricolas, 16)\n",
    "Map.addLayer(img_toa.clip(predios_bound), vis_rgb, 'Img TOA')\n",
    "Map.addLayer(img_s2_01_11, vis_rgb, 'Img S2')\n",
    "\n",
    "Map.addLayer(img_Ts_c.updateMask(img_albedo.lte(0.22).And(img_albedo.gt(0.15))).clip(predios_agricolas), \n",
    "             vis_params_ts_c,  'Ts °C')\n",
    "Map.add_colorbar(vis_params_ts_c, label='Ts [°C]', orientation=\"vertical\")\n",
    "\n",
    "Map"
   ]
  },
  {
   "cell_type": "markdown",
   "metadata": {
    "hidden": true,
    "id": "qEWFsYiNdsRo"
   },
   "source": [
    "Los valores típicos de albedo para arroz se encuentran en el manual SEBAL 2002.\n",
    "\n",
    "Arroz: 0.17 - 0.22"
   ]
  },
  {
   "cell_type": "markdown",
   "metadata": {
    "heading_collapsed": true,
    "hidden": true,
    "id": "6lHvAqia9_Ow"
   },
   "source": [
    "###### Pruebas: selección de imágenes "
   ]
  },
  {
   "cell_type": "markdown",
   "metadata": {
    "hidden": true,
    "id": "e5UDsxwoSDVh"
   },
   "source": [
    "Pasos para trabajar imágenes:\n",
    "1. Tener en claro las fechas e ids de las imágenes\n",
    "2. Armar la tabla con valores de Evapotranspiración (mm/hr) y Velocidad del viento (m/s)"
   ]
  },
  {
   "cell_type": "code",
   "execution_count": null,
   "metadata": {
    "hidden": true,
    "id": "SI21PmC0SDVh"
   },
   "outputs": [],
   "source": [
    "# 8 Imágenes seleccionadas\n",
    "ids = [\n",
    "    'LANDSAT/LC09/C02/T1/LC09_010065_20211212', # 0 - 12/12 - l9\n",
    "    'LANDSAT/LC09/C02/T1/LC09_010065_20220113', # 1 - 01/13 - l9 OJO: NDVI negativos -> Posible riego 01 13\n",
    "    'LANDSAT/LC09/C02/T1/LC09_010065_20220129', # 2 - 01/29 - l9\n",
    "    'LANDSAT/LC08/C02/T1/LC08_010065_20220310', # 3 - 03/10 - l8\n",
    "    'LANDSAT/LC09/C02/T1/LC09_010065_20220403', # 4 - 04/03 - l9\n",
    "    'LANDSAT/LC09/C02/T1/LC09_010065_20220521', # 5 - 05/21 - l9\n",
    "    'LANDSAT/LC08/C02/T1/LC08_010065_20220529', # 6 - 05/29 - l8\n",
    "    'LANDSAT/LC08/C02/T1/LC08_010065_20220614'  # 7 - 06/14 - l8\n",
    "      ]"
   ]
  },
  {
   "cell_type": "code",
   "execution_count": null,
   "metadata": {
    "hidden": true,
    "id": "KZK6f4ekSDVh",
    "outputId": "8352e6a4-daf6-40d0-d835-1c91bce94449"
   },
   "outputs": [],
   "source": [
    "# Reporte de imágenes seleccionadas\n",
    "ruta_reporte_vf = 'https://raw.githubusercontent.com/vilcagamarracf/Inv_arroz_METRIC/main/files/csv/reporte_l8_l9_estacion_vf.csv'\n",
    "df_reportel8_vf = pd.read_csv(ruta_reporte_vf)\n",
    "\n",
    "df_reportel8_vf.head(8)"
   ]
  },
  {
   "cell_type": "markdown",
   "metadata": {
    "hidden": true,
    "id": "tLKmvbXSSDVi"
   },
   "source": [
    "Se trabajará con la imagen 1/29 para comenzar"
   ]
  },
  {
   "cell_type": "code",
   "execution_count": null,
   "metadata": {
    "hidden": true,
    "id": "9qgnD_2mSDVi"
   },
   "outputs": [],
   "source": [
    "# img_1_13 = ids[1]\n",
    "img_1_29 = ids[2]\n",
    "\n",
    "img_1_13_et = df_reportel8_vf['ET - mm'][7]\n",
    "img_1_13_vel = df_reportel8_vf['Velocidad del viento - m/s'][7]"
   ]
  },
  {
   "cell_type": "markdown",
   "metadata": {
    "heading_collapsed": true,
    "hidden": true,
    "id": "0wAcePAHSDVm"
   },
   "source": [
    "###### Prueba de filtrado 1"
   ]
  },
  {
   "cell_type": "code",
   "execution_count": null,
   "metadata": {
    "hidden": true,
    "id": "y2IVo6LUSDVm",
    "outputId": "70456bf9-58e5-4c19-d7c3-bb6141b6df45",
    "scrolled": true
   },
   "outputs": [],
   "source": [
    "img_productos_df"
   ]
  },
  {
   "cell_type": "code",
   "execution_count": null,
   "metadata": {
    "hidden": true,
    "id": "uvhrO5eqSDVn"
   },
   "outputs": [],
   "source": [
    "vis_params_alb = {\n",
    "    'min': 0,\n",
    "    'max': 0.25,\n",
    "    'palette':albedo_cmap #cmp.get_palette('afmhot'), albedo_cmap, rn_cmp\n",
    "}\n",
    "\n",
    "vis_params_ndvi = {'min': -0.2, \n",
    "                   'max': 1, # img_prod_stats['max']['NDVI'], \n",
    "                   'palette': ndvi_cmap} #cmp.get_palette('ndvi')}"
   ]
  },
  {
   "cell_type": "code",
   "execution_count": null,
   "metadata": {
    "hidden": true,
    "id": "nfggd5J-SDVn"
   },
   "outputs": [],
   "source": [
    "# help(geemap.Map.add_colorbar)"
   ]
  },
  {
   "cell_type": "code",
   "execution_count": null,
   "metadata": {
    "hidden": true,
    "id": "zIBN5bXpSDVn"
   },
   "outputs": [],
   "source": [
    "img_albedo_recorte = img_albedo.updateMask(img_albedo.gte(0.17).And(img_albedo.lt(0.22)))"
   ]
  },
  {
   "cell_type": "code",
   "execution_count": null,
   "metadata": {
    "colab": {
     "referenced_widgets": [
      "1a05130530d04998a4b638e33aed4205",
      "901b989fc1454839be3b083f441a2a28"
     ]
    },
    "hidden": true,
    "id": "1_-kj5apNUJi",
    "outputId": "17787226-57d7-4d79-c69b-bf62c0dbe20e",
    "scrolled": false
   },
   "outputs": [],
   "source": [
    "# Visualización\n",
    "# vis_params_pix = {\n",
    "#     'min': pixeles_frios_minmax[0],\n",
    "#     'max': pixeles_frios_minmax[1],\n",
    "#     'palette': cmp.get_palette('binary_r') # RdYlBu_r, binary_r # Color negro el pixel más frío\n",
    "# }\n",
    "\n",
    "image = pixeles_frios\n",
    "vis_params = vis_params_pix\n",
    "title_map = 'pixeles_frios'\n",
    "label = '$[\\; °C\\;]$'\n",
    "\n",
    "# Elaborando visualización interactiva\n",
    "Map = geemap.Map()\n",
    "Map.centerObject(predios_agricolas, 16)\n",
    "\n",
    "Map.addLayer(img_toa.blend(predios_vis), vis_rgb, f'Landsat {img_date}')\n",
    "# Map.addLayer(img_s2_vis.blend(predios_vis), vis_rgb, f'Sentinel {img_s2_date}')\n",
    "\n",
    "Map.addLayer(img_ndvi, vis_params_ndvi, 'img_ndvi')\n",
    "Map.addLayer(img_Ts_c, vis_params_ts, 'img_Ts_c')\n",
    "Map.addLayer(img_albedo, vis_params_alb, 'img_albedo')\n",
    "Map.addLayer(img_albedo_recorte, vis_params_alb, 'img_albedo_recorte')\n",
    "\n",
    "Map.addLayer(image, vis_params, title_map) # Pixeles\n",
    "Map.add_colorbar(vis_params, label=\"Ts [°C]\", orientation=\"horizontal\")\n",
    "Map.add_colorbar(vis_params_alb, label=\"Albedo [-]\", orientation=\"horizontal\")\n",
    "# Resultado\n",
    "Map"
   ]
  },
  {
   "cell_type": "code",
   "execution_count": null,
   "metadata": {
    "hidden": true,
    "id": "zjC1nbHYNUJj",
    "outputId": "56727a25-884a-433b-cf5d-9fda17c93428",
    "scrolled": true
   },
   "outputs": [],
   "source": [
    "# Con la función `get_pixel_values` obtendremos principalmente los valores de Rn y G\n",
    "# Dejamos un marcador en el pixel que deseamos extraer la información\n",
    "\n",
    "pix_cold_n1 = n1 \n",
    "pix_cold_n2 = n2\n",
    "\n",
    "pix_cold = Map.user_rois.geometry()\n",
    "pix_coord = pix_cold.coordinates().getInfo()\n",
    "\n",
    "pix_cold_values = get_pixel_values(pix_cold, pixeles_frios, d2, img_productos)\n",
    "\n",
    "# Reporte\n",
    "print(f'Fecha: {img_date}')\n",
    "print(f'Pixel Frío: {pix_coord}')\n",
    "print(f'n1: {pix_cold_n1} \\nn2: {pix_cold_n2}')\n",
    "print('pixel_cold_values:')\n",
    "\n",
    "pix_cold_values['fecha'] = img_date\n",
    "pprint(pix_cold_values)"
   ]
  },
  {
   "cell_type": "code",
   "execution_count": null,
   "metadata": {
    "hidden": true,
    "id": "bkAnfT1JSDVo"
   },
   "outputs": [],
   "source": [
    "pix_cold_values['fecha'] = img_date"
   ]
  },
  {
   "cell_type": "code",
   "execution_count": null,
   "metadata": {
    "hidden": true,
    "id": "DlZbGlqNSDVo"
   },
   "outputs": [],
   "source": [
    "pixel2 = pix_cold_values"
   ]
  },
  {
   "cell_type": "code",
   "execution_count": null,
   "metadata": {
    "hidden": true,
    "id": "QEBdjBdqSDVo",
    "outputId": "f846b603-6563-4cfa-a64b-3a49ad04f2ae"
   },
   "outputs": [],
   "source": [
    "pixel2"
   ]
  },
  {
   "cell_type": "code",
   "execution_count": null,
   "metadata": {
    "hidden": true,
    "id": "Pb6LP2AbSDVp",
    "outputId": "624865e5-fe53-49c3-9764-b81824e11614"
   },
   "outputs": [],
   "source": [
    "pixel1"
   ]
  },
  {
   "cell_type": "code",
   "execution_count": null,
   "metadata": {
    "hidden": true,
    "id": "O-UxSy57NUJj"
   },
   "outputs": [],
   "source": [
    "pix_cold_values['n1'] = n1\n",
    "pix_cold_values['n2'] = n2"
   ]
  },
  {
   "cell_type": "code",
   "execution_count": null,
   "metadata": {
    "hidden": true,
    "id": "8dYNBwcLNUJj",
    "outputId": "be92f8eb-0203-4e68-e137-7a0c07a74cb4",
    "scrolled": true
   },
   "outputs": [],
   "source": [
    "pix_cold_values = get_pixel_values(pix_cold, pixeles_frios, d2, img_productos)\n",
    "\n",
    "reporte = pd.DataFrame.from_dict(pix_cold_values, orient='index').round(3)\n",
    "reporte"
   ]
  },
  {
   "cell_type": "code",
   "execution_count": null,
   "metadata": {
    "hidden": true,
    "id": "11G7mprmNUJj",
    "outputId": "378aaa5a-1e7a-43c1-da89-60d46b1096c3",
    "scrolled": true
   },
   "outputs": [],
   "source": [
    "pprint(pix_cold_values)"
   ]
  },
  {
   "cell_type": "markdown",
   "metadata": {
    "hidden": true,
    "id": "84JOf-hgvNLS"
   },
   "source": [
    "---\n",
    "\n",
    "Fecha: \n",
    "- '2022-01-13'\n",
    "    - n1: 90 - n2: 10\n",
    "    - Pixel Frío: [-79.785274, -6.598119]\n",
    "    - Rn: 630.93881 W/m²\n",
    "    - G : 86.01880 W/m²\n",
    "   \n",
    "- '2022-03-10'\n",
    "    - n1: 70 - n2: 20\n",
    "    - Pixel Frío: [-79.784184, -6.599424]\n",
    "    - Rn: 569.16318 W/m²\n",
    "    - G : 50.40656 W/m²\n",
    "    \n",
    "-----"
   ]
  },
  {
   "cell_type": "markdown",
   "metadata": {
    "heading_collapsed": true,
    "hidden": true,
    "id": "8YxBfdTJfs31"
   },
   "source": [
    "###### Prueba de filtrado 2"
   ]
  },
  {
   "cell_type": "code",
   "execution_count": null,
   "metadata": {
    "colab": {
     "base_uri": "https://localhost:8080/",
     "height": 237
    },
    "hidden": true,
    "id": "B3GersIsOOXb",
    "outputId": "bef34b63-3a02-47da-f0b7-6341e10eb19c"
   },
   "outputs": [],
   "source": [
    "img_productos_df[['Ts_c', 'NDVI']]"
   ]
  },
  {
   "cell_type": "code",
   "execution_count": null,
   "metadata": {
    "hidden": true,
    "id": "HRUxJCBOSDVq",
    "outputId": "c2bd0958-fbf2-41af-a370-51914fede2a6"
   },
   "outputs": [],
   "source": [
    "pixeles_dict = get_stats(pixeles_frios, predios_agricolas, 30)\n",
    "pixeles_df = pd.DataFrame.from_dict(pixeles_dict, orient='index')\n",
    "pixeles_df # .round(2)"
   ]
  },
  {
   "cell_type": "code",
   "execution_count": null,
   "metadata": {
    "hidden": true,
    "id": "S33VSPBOSDVq",
    "outputId": "7868eff9-a523-4300-fe37-776339b211cc"
   },
   "outputs": [],
   "source": [
    "pixeles_df.round(2)"
   ]
  },
  {
   "cell_type": "code",
   "execution_count": null,
   "metadata": {
    "colab": {
     "base_uri": "https://localhost:8080/"
    },
    "hidden": true,
    "id": "XUfNPFFHPDdT",
    "outputId": "989c81dd-f47f-4008-e06e-11bfb541228b",
    "scrolled": true
   },
   "outputs": [],
   "source": [
    "# Percentiles Temperatura Superficial\n",
    "perc_n2 = (\n",
    "    img_Ts_c\n",
    "    .reduceRegion(ee.Reducer.percentile([5,10,15,20]).unweighted(), geometry=predios_agricolas, scale=30)\n",
    ")#.values()\n",
    "perc_n2.getInfo()"
   ]
  },
  {
   "cell_type": "code",
   "execution_count": null,
   "metadata": {
    "colab": {
     "base_uri": "https://localhost:8080/"
    },
    "hidden": true,
    "id": "1CUvPT54Pj-N",
    "outputId": "d1d79801-b2a5-49bd-f1de-504fcfd3edb1"
   },
   "outputs": [],
   "source": [
    "# Percentiles NDVI\n",
    "perc_n1 = (\n",
    "    img_ndvi\n",
    "    .reduceRegion(ee.Reducer.percentile([80,85,90,95]).unweighted(), geometry=predios_agricolas, scale=30)\n",
    ")#.values()\n",
    "perc_n1.getInfo()"
   ]
  },
  {
   "cell_type": "code",
   "execution_count": null,
   "metadata": {
    "colab": {
     "base_uri": "https://localhost:8080/"
    },
    "hidden": true,
    "id": "SqHZ_LFCeMEP",
    "outputId": "bec9c0ba-7b16-4688-89ae-fff20d086c03"
   },
   "outputs": [],
   "source": [
    "img_ts_c_masked = img_Ts_c.updateMask(\n",
    "    img_ndvi.gt(ee.Number(perc_n1.get('NDVI_p80'))).And(\n",
    "        img_Ts_c.lt(ee.Number(perc_n2.get('Ts_c_p20')))\n",
    "))\n",
    "\n",
    "img_ts_c_masked_rangos = img_ts_c_masked.reduceRegion(ee.Reducer.minMax(), predios_agricolas, 30).values().reverse().getInfo()\n",
    "img_ts_c_masked_rangos"
   ]
  },
  {
   "cell_type": "code",
   "execution_count": null,
   "metadata": {
    "colab": {
     "base_uri": "https://localhost:8080/"
    },
    "hidden": true,
    "id": "zPSPhvptayu2",
    "outputId": "49bca1e2-f280-4cc5-f1f6-3e7a8eb047e9"
   },
   "outputs": [],
   "source": [
    "img_ndvi_masked = img_ndvi.updateMask(img_ndvi.gt(ee.Number(perc_n1.get('NDVI_p80'))))\n",
    "img_ndvi_masked_rangos = img_ndvi_masked.reduceRegion(ee.Reducer.minMax(), predios_agricolas, 30).values().reverse().getInfo()\n",
    "img_ndvi_masked_rangos"
   ]
  },
  {
   "cell_type": "code",
   "execution_count": null,
   "metadata": {
    "colab": {
     "base_uri": "https://localhost:8080/",
     "height": 621,
     "referenced_widgets": [
      "21c5caa86939483eb871f634c903eac2",
      "988e674bdbf1400e979b7003dc294b2d",
      "bea81ce2f5db45cd9a9ddc02b4333392",
      "2ada0f2bb5f646da9356cc62fa3fb52a",
      "901febfcf007485a825c7f13e3d561bc",
      "6a3384a618744c3ca2551a8acd422a85",
      "d44fe0cf832843c0851f44b50d497427",
      "0e280aa715ca4056a2f545cab86b7a09",
      "ccee0ccb69a04dbaa967416212355932",
      "5134839b67c64bb39d58ea3882e333a4",
      "fc1a92359bf14282ac356b62205a5be6",
      "2a035b77852d4fb29b988ed4022df8f4",
      "effc10ef76a94242b46256c60d19fa67",
      "72cb74c4522340a7804f018137f6abb1",
      "d01e52320e53449e9cfeae696217e2ed",
      "9b886edfb6bc43b08b81153deb313f48",
      "b8350cc42131462f9c42c876d9080835",
      "1248487969d7473a9cbbe4b485b7bd29",
      "c29917b9deb04b999ec35bb96a8c0aea",
      "f46b4b560d474c66b2f07cdc2ec0c807",
      "1e3ac848909a40a8b5713f3b723f8cbd",
      "be3e5c4b8af949e0909631e4eef211e6",
      "01570eb3fb3c49fda7e51c72f0cf2782",
      "1fa66695a70c4adab00fa25e9abeaec9",
      "1eb1afd145d447ccb99f5a547ba6b504",
      "70dd1b1d7a0241a0b457ab2900db21a5",
      "16900b275461460593951f8294400cb3",
      "a7173ed141114fb79ffb4b3f1abe323f",
      "aa0701b2e48742a2b7180c42881ab149",
      "f1bc5886e07246718b2f8438ea6f5803"
     ]
    },
    "hidden": true,
    "id": "dH49rhchVIkG",
    "outputId": "02e4ef2a-3a9a-4b80-9baf-b453be9dd6e1"
   },
   "outputs": [],
   "source": [
    "# Visualización - Selección de Pixel Frío\n",
    "Map = geemap.Map()\n",
    "Map.centerObject(predios_agricolas, 16) \n",
    "\n",
    "Map.addLayer(img_toa.clip(predios_bound), vis_rgb, 'img_toa')\n",
    "\n",
    "# vis_params_ts_c = {\n",
    "#     'min': img_prod_stats['min']['Ts_c'],\n",
    "#     'max': img_prod_stats['max']['Ts_c'],\n",
    "#     'palette': cmp.get_palette('binary_r') # binary_r, RdYlBu_r\n",
    "#     }\n",
    "\n",
    "vis_params_ts_c_masked = {\n",
    "    'min': img_ts_c_masked_rangos[0],\n",
    "    'max': img_ts_c_masked_rangos[1],\n",
    "    'palette': cmp.get_palette('binary_r') # binary_r, RdYlBu_r\n",
    "    }\n",
    "\n",
    "# Map.addLayer(img_Ts_c, vis_params_ts_c, 'img_Ts_c')\n",
    "Map.addLayer(img_ts_c_masked, vis_params_ts_c_masked, 'img_ts_c_masked')\n",
    "# Map.add_colorbar(vis_params_ts_c, label='Ts [°C]', orientation=\"vertical\") # position='bottomright'\n",
    "Map.add_colorbar(vis_params_ts_c_masked, label='[°C]', orientation=\"vertical\") # position='bottomright'\n",
    "\n",
    "Map"
   ]
  },
  {
   "cell_type": "code",
   "execution_count": null,
   "metadata": {
    "colab": {
     "base_uri": "https://localhost:8080/",
     "height": 91,
     "referenced_widgets": [
      "c8f9572ed54e4c469f6cbc96e899b7a3"
     ]
    },
    "hidden": true,
    "id": "Cu9kNUBF_ruR",
    "outputId": "d5512446-acbe-4ee8-bb23-d70fe132a017"
   },
   "outputs": [],
   "source": [
    "# Visualización - Selección de Pixel Frío\n",
    "Map = geemap.Map()#layer_ctrl=True)#, height='700px') \n",
    "Map.centerObject(predios_agricolas, 16) # Toma mas tiempo\n",
    "\n",
    "Map.addLayer(img_toa.clip(predios_bound), vis_rgb, 'img_toa')\n",
    "\n",
    "vis_params_ts_recorte = {\n",
    "    'min': ts_recortado_p_n1_minmax.get(0).getInfo(),\n",
    "    'max': ts_recortado_p_n1_minmax.get(1).getInfo(),\n",
    "    'palette': cmp.get_palette('RdYlBu_r') \n",
    "    }\n",
    "\n",
    "Map.addLayer(ts_recortado_p_n1, vis_params_ts_recorte, 'ts_recortado_p_n1_minmax')\n",
    "\n",
    "vis_params_ts_pixeles_f = {\n",
    "    'min': pixeles_frios_minmax.get(0).getInfo(),\n",
    "    'max': pixeles_frios_minmax.get(1).getInfo(),\n",
    "    'palette': cmp.get_palette('binary_r') \n",
    "    }\n",
    "Map.addLayer(pixeles_frios, vis_params_ts_pixeles_f, 'pixeles_frios')\n",
    "\n",
    "Map.add_colorbar(vis_params_ts_recorte, label='Ts [°C]', orientation=\"vertical\") # position='bottomright'\n",
    "Map.add_colorbar(vis_params_ts_pixeles_f, label='Ts [°C]', orientation=\"vertical\", position='bottomleft') \n",
    " \n",
    "print('Ahora que vemos la imagen:')\n",
    "print('1. Asignar un marcador para el pixel')\n",
    "print('2. Proceder a la siguiente línea de código')\n",
    "\n",
    "Map"
   ]
  },
  {
   "cell_type": "code",
   "execution_count": null,
   "metadata": {
    "hidden": true,
    "id": "1_gnbVzzNwaO"
   },
   "outputs": [],
   "source": [
    "# Cantidad de pixeles candidatos\n",
    "print(f\"pixeles_frios minmax: {pixeles_frios.reduceRegion(ee.Reducer.minMax(), predios_agricolas, 30).values().reverse().getInfo()}\")\n",
    "print(f\"Pixeles: {pixeles_frios.reduceRegion(ee.Reducer.count(), predios_agricolas, 30).get('ts').getInfo()}\")\n",
    "\n",
    "# Listar pixeles candidatos: Temperatura\n",
    "pixeles_frios.reduceRegion(ee.Reducer.toList(), predios_agricolas, 30).get('ts').getInfo()"
   ]
  },
  {
   "cell_type": "markdown",
   "metadata": {
    "heading_collapsed": true,
    "hidden": true,
    "id": "qHiKJacKSDVu"
   },
   "source": [
    "###### Prueba de filtrado pixeles calientes"
   ]
  },
  {
   "cell_type": "code",
   "execution_count": null,
   "metadata": {
    "colab": {
     "referenced_widgets": [
      "9a74954df5fb432aae5639986ddf5485",
      "d9e8cc3d30514528a5949c4e29b18951"
     ]
    },
    "hidden": true,
    "id": "aYo6zfBYvNLU",
    "outputId": "2990917e-3685-493d-c8f1-8b714b6568b1",
    "scrolled": false
   },
   "outputs": [],
   "source": [
    "# # Selección de Pixel Caliente - Recorte de mapas\n",
    "# n1 =  30 # n1 : Percentil para NDVI\n",
    "# n2 =  70 # n2 : Percentil para temperatura\n",
    "\n",
    "# # 1. Pixeles de NDVI menores al n1 (bajos valores de NDVI)\n",
    "# perc_n1 = ee.Number(\n",
    "#     img_ndvi.updateMask(img_ndvi.gte(0))\n",
    "#     .reduceRegion(ee.Reducer.percentile([n1]), geometry=predios_agricolas, scale=30)\n",
    "#     .values()\n",
    "# )\n",
    "\n",
    "# # 2. Recortar mapa de temperatura en función a valores de ndvi que cumplan la condición 1\n",
    "# ts_recortado_p_n1 = img_Ts_c.updateMask(img_ndvi.lte(perc_n1))\n",
    "\n",
    "\n",
    "# # 3. n2% de pixeles de mayor temperatura -> p_n2\n",
    "# perc_n2 = ee.Number(\n",
    "#     ts_recortado_p_n1\n",
    "#     .reduceRegion(ee.Reducer.percentile([n2]), scale=30)\n",
    "#     .values()\n",
    "# )\n",
    "\n",
    "# # 4. Recortar mapa de temperatura -> Pixeles Calientes\n",
    "# pixeles_hot = ts_recortado_p_n1.updateMask(ts_recortado_p_n1.gte(perc_n2))\n",
    "\n",
    "\n",
    "# # Extraer valores mínimos y máximos\n",
    "# pixeles_hot_minmax = (\n",
    "#     pixeles_hot.reduceRegion(ee.Reducer.minMax(), scale=30)\n",
    "#     .values().reverse().getInfo()\n",
    "# )# ee.Reducer.count()\n",
    "\n",
    "# print(f'Tmin - Tmax: {pixeles_hot_minmax}')\n",
    "\n",
    "\n",
    "# # Visualización\n",
    "# vis_params_pix = {\n",
    "#     'min': pixeles_hot_minmax[0],\n",
    "#     'max': pixeles_hot_minmax[1],\n",
    "#     'palette': cmp.get_palette('binary') # Color negro el pixel más frío\n",
    "# }\n",
    "\n",
    "# vis_params_ndvi = {\n",
    "#     'min': img_productos_dict['min']['NDVI'],\n",
    "#     'max': img_productos_dict['max']['NDVI'],\n",
    "#     'palette':cmp.get_palette('RdYlGn')\n",
    "# }\n",
    "\n",
    "# image = pixeles_hot.blend(predios_vis)\n",
    "# vis_params = vis_params_pix\n",
    "# title_map = 'Pixeles calientes'\n",
    "# label = '$[\\; °C\\;]$'\n",
    "\n",
    "\n",
    "# # Obtener visualización con geemap.Map\n",
    "# Map = geemap.Map()\n",
    "# Map.centerObject(predios_agricolas, 16)\n",
    "\n",
    "# Map.addLayer(img_toa.clip(predios_bound), vis_rgb, 'RGB TOA')\n",
    "# # Map.addLayer(img_s2_01_11.clip(predios_bound).blend(predios_vis), vis_rgb, 'img_s2_01_11')\n",
    "\n",
    "# Map.addLayer(img_Ts_c, vis_params_ts, 'img_Ts_c')\n",
    "# Map.addLayer(img_ndvi, vis_params_ndvi, 'img_ndvi')\n",
    "# Map.addLayer(img_albedo, vis_params_alb, 'img_albedo')\n",
    "\n",
    "# Map.addLayer(image, vis_params, title_map)\n",
    "# Map.add_colorbar(vis_params, label=\"Ts [°C]\", orientation=\"vertical\")\n",
    "\n",
    "# Map"
   ]
  },
  {
   "cell_type": "code",
   "execution_count": null,
   "metadata": {
    "colab": {
     "base_uri": "https://localhost:8080/",
     "height": 374
    },
    "hidden": true,
    "id": "vrZ97qSgzAQx",
    "outputId": "27f9a163-95c1-49ed-e658-22a39dcbf408"
   },
   "outputs": [],
   "source": [
    "# Obtener gráfica con cartoee\n",
    "paleta = 'RdYlBu_r'\n",
    "# paleta = 'binary_r' # Color negro o rojo el pixel más caliente\n",
    "\n",
    "vis_params_pix = {\n",
    "    'min': pixeles_hot_minmax[0],\n",
    "    'max': pixeles_hot_minmax[1],\n",
    "    'palette': cmp.get_palette(paleta) \n",
    "}\n",
    "\n",
    "image = pixeles_hot.blend(predios_vis)\n",
    "vis_params = vis_params_pix\n",
    "title_map = f'Pix Calientes \\n{img_date}\\nn1: {n1} - n2: {n2}'\n",
    "path_fig  = f'/pixeles/Pix_Calientes_{img_date}_n1_{n1}_n2_{n2}_{paleta}'\n",
    "\n",
    "label = '$[\\; °C\\;]$'\n",
    "\n",
    "get_grafica_cartoee_color(image, \n",
    "                          vis_params, \n",
    "                          title_map, \n",
    "                          label,\n",
    "                          save_fig=path_fig)"
   ]
  },
  {
   "cell_type": "markdown",
   "metadata": {
    "hidden": true,
    "id": "AVUHBKiFSDVv"
   },
   "source": [
    "-----"
   ]
  },
  {
   "cell_type": "code",
   "execution_count": null,
   "metadata": {
    "hidden": true,
    "id": "EvguhesiPHSW"
   },
   "outputs": [],
   "source": [
    "# # Cantidad de pixeles candidatos\n",
    "# print(f\"Pixeles: {pixeles_calientes.reduceRegion(ee.Reducer.count(), predios_agricolas, 30).get('ts').getInfo()}\")\n",
    "\n",
    "# # Listar pixeles candidatos\n",
    "# pixeles_calientes.reduceRegion(ee.Reducer.toList(), predios_agricolas, 30).get('ts').getInfo()"
   ]
  },
  {
   "cell_type": "code",
   "execution_count": null,
   "metadata": {
    "hidden": true,
    "id": "d08tHTMZxB1V"
   },
   "outputs": [],
   "source": [
    "# Comprobación - Rn\n",
    "\n",
    "# punto = pix_cold\n",
    "# punto = pix_hot\n",
    "\n",
    "# R_n_reduce_region = R_n.reduceRegion(ee.Reducer.first(), geometry=punto, scale=30).get('R_n') # 366.93772757138004\n",
    "# R_n_reduce_region.getInfo()"
   ]
  },
  {
   "cell_type": "markdown",
   "metadata": {
    "heading_collapsed": true,
    "hidden": true,
    "id": "npauSbbdSDWC"
   },
   "source": [
    "###### Revisando imágenes seleccionadas"
   ]
  },
  {
   "cell_type": "code",
   "execution_count": null,
   "metadata": {
    "colab": {
     "base_uri": "https://localhost:8080/",
     "height": 821,
     "referenced_widgets": [
      "477184a859424d6dbd195e19db153f8a",
      "31e2e4b63fad4cc29e03cd3a65826492",
      "8e39efabb85c4769b77173413b7cbc41",
      "e145b14ba1e44c1b93edfa72a228e1a5",
      "e3ae36c76ad34384940abf8081a39fbe",
      "b510787654ec490b9f61b9f879e44999",
      "589a950d76324634add8d1d5eabe18de",
      "904a33484b144a8ea559cfb239ae22d1",
      "9e1d70fac199455da457c0384f192678",
      "1978250860204202983a42cf92f0ec7b",
      "69fa1787ff7b428aa47ce7118acf568b",
      "5b2795c7920246739d757b875c8cca54",
      "4a6e2cc034bd414faedf1b2c850647ce",
      "e5374e9b2b2940edac6fcbdec8110ee6",
      "6325886bfe984681889ffaac32ce7ac0",
      "39329773390d4de3ba247f2258097062",
      "d62846c0569f49c58dc390ede5a3950a",
      "a08456f0d5d54412bfd5848e15c863b5",
      "c590ba513fa648d8b1f205d01a12fb04",
      "53d8bb612dfe4962b87768d5454351e3",
      "5a0988c808a6445ea836318f64325940",
      "0028af2a29d742a3ba79182899c3764f",
      "6d4523315ef4460a856ee7624d41479a",
      "298637e09be84d2f8c7e45239dbd38a6",
      "eec700aefe14417292f15c3eae20140d",
      "e8c16644446e48ecade63d1a09f07ea1",
      "1806cc25be534b35a6ebf70e2d108240",
      "a849439318444b82b32cd8527d15a358",
      "896f0e14c5a94fa5a12efe89bb2241a0",
      "c0d0e9a218d44224a6e619c1baec9f06",
      "035ab3a5314c42078b23f39e44bf4d27",
      "67c1d8f0bb534d5b8398c248a9f739b8",
      "09cba970704a4eb394fb3fd8f5710a3e",
      "34f1433956fe487ca435414bb2eeafcf",
      "83b9b602914e4d0c8a2e0e4bf10e663c",
      "bba0a1f413aa44bfabb2b8f5e68ce012",
      "f0a5d86801eb49ca8e9a3ccebabde69f",
      "da17edf9e2a542c7b31d9c046cd32ef6"
     ]
    },
    "hidden": true,
    "id": "BllDAg_TXvaU",
    "outputId": "bfdfab15-7f45-4c69-f264-339066a958d5",
    "scrolled": true
   },
   "outputs": [],
   "source": [
    "# @markdown Ver imágenes\n",
    "\n",
    "# Lista de imágenes\n",
    "lista_imgs = df_reportel8_vf['ID GEE'].tolist()\n",
    "\n",
    "# Visualización\n",
    "Map = geemap.Map(height='800px')\n",
    "Map.centerObject(roi, 13)\n",
    "\n",
    "for id in lista_imgs:\n",
    "  img_id = convert_RAW_to_TOA(ee.Image(id))\n",
    "  Map.addLayer(img_id, vis_rgb, id[-8:])\n",
    "\n",
    "Map.addLayer(empty, {}, 'Limite Distrito')\n",
    "Map.addLayer(empty2, {}, 'Limite Bound')\n",
    "Map.addLayer(predios_vis, {}, 'Area de estudio')\n",
    "Map"
   ]
  },
  {
   "cell_type": "code",
   "execution_count": null,
   "metadata": {
    "colab": {
     "referenced_widgets": [
      "86a99b5663b9405bb39cf431d9196964"
     ]
    },
    "hidden": true,
    "id": "alhMUOZwvNLO",
    "outputId": "9f0415ab-835f-479d-b03d-e70969fc3f64"
   },
   "outputs": [],
   "source": [
    "img_id = 'LANDSAT/LC09/C02/T1/LC09_010065_20220403'\n",
    "img_toa = convert_RAW_to_TOA(ee.Image(img_id)).blend(predios_vis)\n",
    "\n",
    "Map = geemap.Map()\n",
    "Map.centerObject(predios_agricolas, 16)\n",
    "Map.addLayer(img_toa, vis_rgb, 'img_toa')\n",
    "Map"
   ]
  },
  {
   "cell_type": "code",
   "execution_count": null,
   "metadata": {
    "cellView": "form",
    "hidden": true,
    "id": "i68-N6-xLxlT"
   },
   "outputs": [],
   "source": [
    "#@title Selección de imágenes { run: \"auto\" }\n",
    "\n",
    "# Selección de imagen por index\n",
    "\n",
    "index = 5 #@param [\"1\", \"5\", \"7\", \"9\"] {type:\"raw\"}\n",
    "\n",
    "# index = 1 # LC09 2021-12-12  \n",
    "# index = 5 # LC09 2022-01-13 \n",
    "# index = 7 # LC09 2022-01-29 \n",
    "# index = 9 # LC08 2022-03-10 \n",
    "\n",
    "img_id    = df_reportel8_vf['ID GEE'][index]\n",
    "img_fecha = df_reportel8_vf['Fecha Corta'][index]\n",
    "img_et = df_reportel8_vf['ET - mm'][index]\n",
    "img_wind_speed = df_reportel8_vf['Velocidad del viento - m/s'][index]\n",
    "\n",
    "img_fecha"
   ]
  },
  {
   "cell_type": "markdown",
   "metadata": {
    "heading_collapsed": true,
    "hidden": true,
    "id": "7j3E5kxVQ1vS"
   },
   "source": [
    "###### Prueba: Automatizado de estimación de evapotranspiración"
   ]
  },
  {
   "cell_type": "code",
   "execution_count": null,
   "metadata": {
    "hidden": true,
    "id": "UwkVx08PSHv1"
   },
   "outputs": [],
   "source": [
    "# Inputs Generales\n",
    "roi = chongoyape_bound\n",
    "dem = ee.Image(\"USGS/SRTMGL1_003\").clip(roi)\n",
    "slope = ee.Terrain.slope(dem) # Para la extracción de valores segun pixeles a escoger"
   ]
  },
  {
   "cell_type": "code",
   "execution_count": null,
   "metadata": {
    "hidden": true,
    "id": "evWI1VZPSHv2"
   },
   "outputs": [],
   "source": [
    "# Cargar reporte de imágenes satelitales con id\n",
    "ruta_reportel8 = 'https://raw.githubusercontent.com/vilcagamarracf/Inv_arroz_METRIC/main/files/reporteL8_RAW_2021.csv'\n",
    "df_reportel8 = pd.read_csv(ruta_reportel8)\n",
    "\n",
    "# Filtrado\n",
    "df_reportel8 = df_reportel8[df_reportel8['Mes']>7] # De agosto en adelante\n",
    "fechas_reportel8 = df_reportel8['Fecha Corta'].tolist() # Para filtrado en otras tablas (wind_speed, et, etc)\n",
    "\n",
    "df_reportel8"
   ]
  },
  {
   "cell_type": "code",
   "execution_count": null,
   "metadata": {
    "cellView": "form",
    "hidden": true,
    "id": "84otZz9CdhS5"
   },
   "outputs": [],
   "source": [
    "# @markdown Prueba de automatizado: H\n",
    "\n",
    "img_id = \"LANDSAT/LC08/C01/T1/LC08_010065_20210915\\t\" #@param {type:\"string\"}\n",
    "\n",
    "# Imagen\n",
    "img_ee = ee.Image(img_id.strip()).clip(roi) \n",
    "img_toa = convert_RAW_to_TOA(img_ee)\n",
    "\n",
    "# Radiación Neta: ['R_n', 'R_s_in', 'R_l_in', 'R_l_out']\n",
    "R_n, img_sr_tasumi, img_albedo, img_ndvi, img_lai, cos_theta_rel, t_sw, e_0, d2, ts, doy = getRadiacionNeta(img_ee, roi, dem) \n",
    "d2 = d2.getInfo() # Inverso de la distancia solar \n",
    "\n",
    "# NDVI > 0 \n",
    "ndvi_gt0 = img_ndvi.select('NDVI').gt(0)\n",
    "img_ndvi_gt0 = img_ndvi.updateMask(ndvi_gt0).select('NDVI')\n",
    "\n",
    "ndvi_gt0_arroz = img_ndvi_gt0.clip(arroz)\n",
    "\n",
    "\n",
    "# # Pixeles Fríos\n",
    "\n",
    "# Percentil 95 -> Grupo de pixeles Frios\n",
    "p95 = ee.Number(ndvi_gt0_arroz.reduceRegion(ee.Reducer.percentile([95]), geometry=arroz, scale=30).get('NDVI'))\n",
    "\n",
    "# Recortar mapa de temperatura en función a valores de ndvi que cumplan la condición\n",
    "ndvi_gt0_gtp95 = ndvi_gt0_arroz.gt(p95)\n",
    "ts_recortado_p95 = ts.updateMask(ndvi_gt0_gtp95)\n",
    "\n",
    "# Rangos de temperatura\n",
    "ts_recortado_p95_minmax = ts_recortado_p95.reduceRegion(ee.Reducer.minMax(), scale=30)\n",
    "\n",
    "# 2% de pixeles de menor temperatura -> P2\n",
    "ts_p2 = ee.Number(ts_recortado_p95.reduceRegion(ee.Reducer.percentile([2]), scale=30).get('ts'))\n",
    "\n",
    "# Recortar mapa de temperatura -> Pixeles frios\n",
    "pixeles_frios = ts_recortado_p95.updateMask(ts_recortado_p95.lt(ts_p2))\n",
    "\n",
    "\n",
    "# # Pixeles Calientes\n",
    "\n",
    "# Percentil 10 -> Grupo de pixeles Calientes\n",
    "p10 = ee.Number(ndvi_gt0_arroz.reduceRegion(ee.Reducer.percentile([10]), geometry=arroz, scale=30).get('NDVI'))\n",
    "\n",
    "# Recortar mapa de temperatura en función a valores de NDVI\n",
    "ndvi_gt0_ltp10 = ndvi_gt0_arroz.lt(p10)\n",
    "ts_recortado_p10 = ts.updateMask(ndvi_gt0_ltp10)\n",
    "\n",
    "# Rangos de temperatura\n",
    "ts_recortado_p10_minmax = ts_recortado_p10.reduceRegion(ee.Reducer.minMax(), scale=30).getInfo()\n",
    "\n",
    "# 2% de pixeles de mayor temperatura -> P98\n",
    "ts_p98 = ee.Number(ts_recortado_p10.reduceRegion(ee.Reducer.percentile([98]), scale=30).get('ts'))\n",
    "\n",
    "# Recortar mapa de temperatura -> Pixeles Calientes\n",
    "pixeles_calientes = ts_recortado_p10.updateMask(ts_recortado_p10.gt(ts_p98))\n",
    "\n",
    "\n",
    "# # Visualización\n",
    "\n",
    "Map = geemap.Map()#height='750px') \n",
    "Map.centerObject(arroz, 12)\n",
    "\n",
    "Map.addLayer(img_toa, vis_rgb, 'img_toa')\n",
    "# Map.addLayer(img_s2, vis_rgb, 'img_s2')\n",
    "\n",
    "Map.addLayer(arroz_vis, {}, 'ee_shp')\n",
    "\n",
    "Map.addLayer(ts_recortado_p95, {\n",
    "    'min': ts_recortado_p95_minmax.get('ts_min'),\n",
    "    'max': ts_recortado_p95_minmax.get('ts_max'),\n",
    "    'palette': RdYnIGn_r\n",
    "    }, 'ts_recortado_p95')\n",
    "\n",
    "Map.addLayer(pixeles_frios, vis_ndvi, 'pixeles_frios')\n",
    "\n",
    "Map.addLayer(ts_recortado_p10, {\n",
    "    'min': ts_recortado_p10_minmax['ts_min'],\n",
    "    'max': ts_recortado_p10_minmax['ts_max'],\n",
    "    'palette': RdYnIGn_r\n",
    "    }, 'ts_recortado_p10')\n",
    "\n",
    "Map.addLayer(pixeles_calientes, vis_ndvi, 'pixeles_calientes')\n",
    "\n",
    "Map.addLayer(empty, {}, 'Chongoyape')\n",
    "Map.addLayer(empty2, {}, 'Chongoyape_caja')\n",
    "\n",
    "print('Ahora que vemos la imagen:')\n",
    "print('1. Asignar un marcador para el pixel frio')\n",
    "print('2. Asignar un marcador para el pixel caliente')\n",
    "print('3. Proceder a la siguiente línea de código')\n",
    "\n",
    "Map"
   ]
  },
  {
   "cell_type": "code",
   "execution_count": null,
   "metadata": {
    "hidden": true,
    "id": "xAlZM9iBfxqA"
   },
   "outputs": [],
   "source": [
    "# img_id = 'LANDSAT/LC08/C01/T1/LC08_010065_20210915'\n",
    "# puntos_seleccionados = [[-79.370684, -6.611979], [-79.403022, -6.652866]]\n",
    "# R_n_frio: 342.6539634112365, R_n_caliente: 358.1219574851066\n",
    "\n",
    "puntos_seleccionados = Map.user_rois.geometry().coordinates().getInfo()\n",
    "\n",
    "pixel_frio = ee.Geometry.Point(puntos_seleccionados[0])\n",
    "pixel_caliente = ee.Geometry.Point(puntos_seleccionados[1])\n",
    "\n",
    "\n",
    "# Radiación Neta Rn\n",
    "R_n_frio = R_n.reduceRegion(ee.Reducer.first(), geometry=pixel_frio, scale=30).get('R_n').getInfo()         # 342.6539634112365\n",
    "R_n_caliente = R_n.reduceRegion(ee.Reducer.first(), geometry=pixel_caliente, scale=30).get('R_n').getInfo() # 358.1219574851066\n",
    "\n",
    "\n",
    "# Flujo de calor del suelo G\n",
    "pix_frio_lai = img_lai.select('LAI').reduceRegion(ee.Reducer.first(), geometry=pixel_frio, scale=30).get('LAI').getInfo() \n",
    "pix_frio_ts  = pixeles_frios.reduceRegion(ee.Reducer.first(), geometry=pixel_frio, scale=30).get('ts').getInfo() \n",
    "\n",
    "pix_caliente_lai = img_lai.select('LAI').reduceRegion(ee.Reducer.first(), geometry=pixel_caliente, scale=30).get('LAI').getInfo() \n",
    "pix_caliente_ts  = pixeles_calientes.reduceRegion(ee.Reducer.first(), geometry=pixel_caliente, scale=30).get('ts').getInfo() "
   ]
  },
  {
   "cell_type": "code",
   "execution_count": null,
   "metadata": {
    "hidden": true,
    "id": "OTSswuatlBuy"
   },
   "outputs": [],
   "source": []
  },
  {
   "cell_type": "markdown",
   "metadata": {
    "heading_collapsed": true,
    "hidden": true,
    "id": "n2Vpz9gLsOjk"
   },
   "source": [
    "###### Prueba 1: Problemas con mapa de NDVI al considerar pixeles que no son áreas de cultivo"
   ]
  },
  {
   "cell_type": "markdown",
   "metadata": {
    "hidden": true,
    "id": "A3FSiEYaMzQ1"
   },
   "source": [
    "Pixel Frío: NDVI - 5% valores más altos (P95) "
   ]
  },
  {
   "cell_type": "code",
   "execution_count": null,
   "metadata": {
    "hidden": true,
    "id": "XhPl0iTd0ve3"
   },
   "outputs": [],
   "source": [
    "# Percentil 95 -> Grupo de pixeles Frios\n",
    "p95 = img_ndvi_gt0.reduceRegion(ee.Reducer.percentile([95]), scale=30).get('NDVI').getInfo() # P95 -> 0.5331930840838996\n",
    "\n",
    "# Recortar mapa de NDVI\n",
    "ndvi_gt0_gtp95 = img_ndvi_gt0.gt(p95)\n",
    "img_ndvi_gtp95 = img_ndvi.select('NDVI').updateMask(ndvi_gt0_gtp95)\n",
    "\n",
    "img_ndvi_gtp95.reduceRegion(ee.Reducer.mean(), scale=30).get('NDVI').getInfo()"
   ]
  },
  {
   "cell_type": "code",
   "execution_count": null,
   "metadata": {
    "hidden": true,
    "id": "mS5BKfQJlCpc"
   },
   "outputs": [],
   "source": [
    "# Recortar mapa de temperatura\n",
    "ts_recortado_p95 = ts.updateMask(ndvi_gt0_gtp95)\n",
    "\n",
    "ts_recortado_p95_minmax = ts_recortado_p95.reduceRegion(ee.Reducer.minMax(), scale=30).getInfo()\n",
    "# ts_recortado_p95_minmax\n",
    "\n",
    "# 2% de pixeles de menor temperatura\n",
    "ts_p2 = ts_recortado_p95.reduceRegion(ee.Reducer.percentile([2]), scale=30).get('ts').getInfo()\n",
    "\n",
    "# Recortar mapa de temperatura -> Pixeles frios\n",
    "pixeles_frios = ts_recortado_p95.updateMask(ts_recortado_p95.lt(ts_p2))"
   ]
  },
  {
   "cell_type": "code",
   "execution_count": null,
   "metadata": {
    "cellView": "form",
    "hidden": true,
    "id": "btk8AIT62sV3"
   },
   "outputs": [],
   "source": [
    "# @markdown Visualización: NDVI > Percentil 95 \n",
    "\n",
    "Map = geemap.Map(height='800px') \n",
    "Map.centerObject(roi, 11)\n",
    "\n",
    "Map.addLayer(img_toa, vis_rgb, 'img_toa')\n",
    "\n",
    "# Map.addLayer(ndvi_gt0, vis_ndvi, 'ndvi_gt0')\n",
    "# Map.addLayer(img_ndvi_gt0, vis_ndvi, 'img_ndvi_gt0')\n",
    "Map.addLayer(img_ndvi_gtp95, vis_ndvi, 'img_ndvi_gtp95')\n",
    "\n",
    "Map.addLayer(ts_recortado_p95, {\n",
    "    'min': ts_recortado_p95_minmax['ts_min'],\n",
    "    'max': ts_recortado_p95_minmax['ts_max'],\n",
    "    'palette': RdYnIGn_r\n",
    "    }, 'ts_recortado_p95')\n",
    "\n",
    "Map.addLayer(pixeles_frios, vis_ndvi, 'pixeles_frios')\n",
    "\n",
    "Map.addLayer(empty, {}, 'Chongoyape')\n",
    "Map.addLayer(empty2, {}, 'Chongoyape_caja')\n",
    "\n",
    "Map"
   ]
  },
  {
   "cell_type": "markdown",
   "metadata": {
    "hidden": true,
    "id": "SvoJCvwQsWuC"
   },
   "source": [
    "Pixel Caliente: NDVI - Percentil 10 (valores mas bajos)"
   ]
  },
  {
   "cell_type": "code",
   "execution_count": null,
   "metadata": {
    "hidden": true,
    "id": "Mrp68_EJGu1N"
   },
   "outputs": [],
   "source": [
    "# Percentil 10 -> Grupo de pixeles calientes\n",
    "p10 = img_ndvi_gt0.reduceRegion(ee.Reducer.percentile([10]), scale=30).get('NDVI').getInfo() # P10 -> 0.11918463159484873\n",
    "\n",
    "# Recorte\n",
    "ndvi_gt0_ltp10 = img_ndvi_gt0.lt(p10)\n",
    "img_ndvi_ltp10 = img_ndvi.select('NDVI').updateMask(ndvi_gt0_ltp10)\n",
    "\n",
    "img_ndvi_ltp10.reduceRegion(ee.Reducer.mean(), scale=30).getInfo()"
   ]
  },
  {
   "cell_type": "code",
   "execution_count": null,
   "metadata": {
    "hidden": true,
    "id": "ZBZrxyYzlKP8"
   },
   "outputs": [],
   "source": [
    "# @markdown Visualización: 0 < NDVI < Percentil 5 \n",
    "\n",
    "Map = geemap.Map(height='800px') \n",
    "Map.centerObject(roi, 11)\n",
    "\n",
    "Map.addLayer(img_toa, vis_rgb, 'img_toa')\n",
    "\n",
    "Map.addLayer(ts_recortado_p95, {'min':22.52, 'max':37.1, 'palette': RdYnIGn_r}, 'ts_recortado_p95')\n",
    "\n",
    "Map.addLayer(empty, {}, 'Chongoyape')\n",
    "Map.addLayer(empty2, {}, 'Chongoyape_caja')\n",
    "\n",
    "Map"
   ]
  },
  {
   "cell_type": "code",
   "execution_count": null,
   "metadata": {
    "hidden": true,
    "id": "PeYQfuiOs7g6"
   },
   "outputs": [],
   "source": [
    "# Percentil 10\n",
    "percent10 = img_ndvi_gt0.reduceRegion(ee.Reducer.percentile([10]), scale=30).get('NDVI').getInfo() # P10 -> 0.11918463159484873\n",
    "percent10"
   ]
  },
  {
   "cell_type": "code",
   "execution_count": null,
   "metadata": {
    "hidden": true,
    "id": "q_QftBfFu6KJ"
   },
   "outputs": [],
   "source": [
    "# @markdown Visualización: 0 < NDVI < Percentil 10\n",
    "\n",
    "Map = geemap.Map(height='800px') \n",
    "Map.centerObject(roi, 11)\n",
    "\n",
    "Map.addLayer(img_toa, vis_rgb, 'img_toa')\n",
    "\n",
    "Map.addLayer(ndvi_gt0, vis_ndvi, 'ndvi_gt0')\n",
    "# Map.addLayer(img_ndvi_gt0, vis_ndvi, 'img_ndvi_gt0')\n",
    "Map.addLayer(img_ndvi_ltp10, vis_ndvi, 'img_ndvi_ltp10')\n",
    "\n",
    "Map.addLayer(empty, {}, 'Chongoyape')\n",
    "Map.addLayer(empty2, {}, 'Chongoyape_caja')\n",
    "\n",
    "Map"
   ]
  },
  {
   "cell_type": "code",
   "execution_count": null,
   "metadata": {
    "hidden": true,
    "id": "I-EmyHAfvcjp"
   },
   "outputs": [],
   "source": [
    "# Recorte de temperatura\n",
    "ts_recortado_p10 = ts.updateMask(ndvi_gt0_ltp10)\n",
    "ts_recortado_p10.reduceRegion(ee.Reducer.minMax(), scale=30).getInfo()"
   ]
  },
  {
   "cell_type": "markdown",
   "metadata": {
    "heading_collapsed": true,
    "hidden": true,
    "id": "OyaPsZOyvxw0"
   },
   "source": [
    "###### Prueba 2: Usando mapa de pendientes para obtener valores de NDVI mínimos que pertenezcan a cultivo"
   ]
  },
  {
   "cell_type": "markdown",
   "metadata": {
    "hidden": true,
    "id": "yTPnHvqu3myY"
   },
   "source": [
    "Objetivo: Obtener valores de NDVI mínimos que pertenezcan a terrenos agrícolas sin cultivo.\n",
    "\n",
    "- NDVI mayor a 0\n",
    "- Pendiente menor a 10°\n"
   ]
  },
  {
   "cell_type": "code",
   "execution_count": null,
   "metadata": {
    "hidden": true,
    "id": "7erQgW-JuRnk"
   },
   "outputs": [],
   "source": [
    "dem = ee.Image(\"USGS/SRTMGL1_003\").clip(roi)\n",
    "slope = ee.Terrain.slope(dem)#.multiply(factor_rad)\n",
    "slope.reduceRegion(ee.Reducer.minMax(), scale=30).getInfo()"
   ]
  },
  {
   "cell_type": "code",
   "execution_count": null,
   "metadata": {
    "hidden": true,
    "id": "WYivIA0UukK7"
   },
   "outputs": [],
   "source": [
    "slope_lt15 = slope.lt(5)\n",
    "# slope_masked = slope.updateMask(slope_lt15)\n",
    "\n",
    "ndvi_gt0_slope_lt5 = img_ndvi.select('NDVI').updateMask(slope_lt15.multiply(ndvi_gt0))\n",
    "\n",
    "percent10 = ndvi_gt0_slope_lt5.reduceRegion(ee.Reducer.percentile([10]), scale=30).get('NDVI').getInfo() # P10 -> 0.11918463159484873\n",
    "recorte = img_ndvi.select('NDVI').updateMask(ndvi_gt0_slope_lt5.lt(percent10))\n",
    "percent10"
   ]
  },
  {
   "cell_type": "code",
   "execution_count": null,
   "metadata": {
    "hidden": true,
    "id": "NTZgSq9y6UsQ"
   },
   "outputs": [],
   "source": [
    "# @markdown Visualización: 0 < NDVI < Percentil 10\n",
    "Map = geemap.Map(height='800px') \n",
    "Map.centerObject(roi, 11)\n",
    "\n",
    "Map.addLayer(img_toa, vis_rgb, 'img_toa')\n",
    "\n",
    "Map.addLayer(ndvi_gt0_slope_lt5, vis_ndvi, 'ndvi_gt0_slope_lt5')\n",
    "Map.addLayer(recorte, vis_ndvi, 'recorte')\n",
    "\n",
    "Map.addLayer(empty, {}, 'Chongoyape')\n",
    "Map.addLayer(empty2, {}, 'Chongoyape_caja')\n",
    "\n",
    "Map"
   ]
  },
  {
   "cell_type": "markdown",
   "metadata": {
    "heading_collapsed": true,
    "hidden": true,
    "id": "RzJS4Xyc9b8D"
   },
   "source": [
    "###### Prueba: Cómo se guardan los números en Python (y demás lenguajes)"
   ]
  },
  {
   "cell_type": "code",
   "execution_count": null,
   "metadata": {
    "hidden": true,
    "id": "ooUbWaLO3ypD"
   },
   "outputs": [],
   "source": [
    "df_reportel8['ET - mm'].tolist()"
   ]
  },
  {
   "cell_type": "markdown",
   "metadata": {
    "hidden": true,
    "id": "QC6PhCgx4MEO"
   },
   "source": [
    "https://python.plainenglish.io/floating-point-arithmetic-precision-error-in-python-decimal-comes-for-rescue-8803d1290601"
   ]
  },
  {
   "cell_type": "code",
   "execution_count": null,
   "metadata": {
    "hidden": true,
    "id": "nOaI8p3z0LSG"
   },
   "outputs": [],
   "source": [
    "from decimal import Decimal\n",
    "\n",
    "for i in range(9):\n",
    "  print(\n",
    "      df_reportel8['ET - mm'].tolist()[i], \n",
    "      Decimal(df_reportel8['ET - mm'][i])\n",
    "  )"
   ]
  },
  {
   "cell_type": "code",
   "execution_count": null,
   "metadata": {
    "hidden": true,
    "id": "Yb9chUH4wXp_"
   },
   "outputs": [],
   "source": [
    "import numpy as np\n",
    "df_reportel8['Velocidad del viento - km/h'][0]*np.float64(3.6)"
   ]
  },
  {
   "cell_type": "code",
   "execution_count": null,
   "metadata": {
    "hidden": true,
    "id": "E9takWFmhphk"
   },
   "outputs": [],
   "source": [
    "1 km 3600s/1000 m"
   ]
  },
  {
   "cell_type": "markdown",
   "metadata": {
    "heading_collapsed": true,
    "hidden": true,
    "id": "nfsQ_pcNFefH"
   },
   "source": [
    "###### Prueba: Generando valores de Radiación neta en bucle for"
   ]
  },
  {
   "cell_type": "code",
   "execution_count": null,
   "metadata": {
    "cellView": "form",
    "hidden": true,
    "id": "dwHvTiV2s6ku"
   },
   "outputs": [],
   "source": [
    "# @markdown Prueba Bucle For: Radiación Neta\n",
    "# for i in [1,5,7,9]:\n",
    "\n",
    "#   index = i\n",
    "#   img_id = df_reportel8_vf['ID GEE'][index]\n",
    "#   img_fecha = df_reportel8_vf['Fecha Corta'][index]\n",
    "\n",
    "#   # dem = ee.Image('JAXA/ALOS/AW3D30/V3_2/S007W080').select('DSM').clip(roi) \n",
    "#   dem = ee.Image(\"USGS/SRTMGL1_003\").clip(roi) \n",
    "\n",
    "#   img_ee = ee.Image(img_id).clip(roi) # 2021-11-02\n",
    "#   img_toa = convert_RAW_to_TOA(img_ee)\n",
    "\n",
    "#   # Radiación Neta: ['R_n', 'R_s_in', 'R_l_in', 'R_l_out']\n",
    "#   R_n, img_sr_tasumi, img_albedo, img_ndvi, img_lai, cos_theta_rel, t_sw, e_0, d2, ts, doy = getRadiacionNeta(img_ee, roi, dem) \n",
    "#   d2 = d2.getInfo() # Inverso de la distancia solar \n",
    "\n",
    "#   # Rangos de Radiación Neta\n",
    "#   R_n_minmax = R_n.select('R_n').reduceRegion(ee.Reducer.minMax(), geometry=roi, scale=30).values().reverse().getInfo()\n",
    "#   R_n_minmax_predios = R_n.select('R_n').reduceRegion(ee.Reducer.minMax(), geometry=predios_agricolas, scale=30).values().reverse().getInfo() # [378.4925323191834, 538.5012360570521]\n",
    "\n",
    "#   print(img_fecha)\n",
    "#   print(f'Ferreñafe  - R_n: {R_n_minmax[0]:.5f} W/m² - {R_n_minmax[1]:.5f} W/m²')\n",
    "#   print(f'Areas eval - R_n: {R_n_minmax_predios[0]:.5f} W/m² - {R_n_minmax_predios[1]:.5f} W/m²')\n"
   ]
  },
  {
   "cell_type": "markdown",
   "metadata": {
    "heading_collapsed": true,
    "hidden": true,
    "id": "6pxsGG7W5d2P"
   },
   "source": [
    "###### Prueba: Revisando las proyecciones y cómo afecta en `reduceRegion`"
   ]
  },
  {
   "cell_type": "markdown",
   "metadata": {
    "hidden": true,
    "id": "AhHL4zG_Anpu"
   },
   "source": [
    "Evaluando si el cambio de proyección afecta las métricas obtenidas mediante `ee.reduceRegion` (resulta que sí).\n",
    "\n",
    "- https://developers.google.com/earth-engine/apidocs/ee-image-reproject\n",
    "- https://developers.google.com/earth-engine/guides/projections\n",
    "- Proyección usada por el code editor en GEE (resulta que gran mayoría de visores online lo usan): http://epsg.io/3857\n",
    "- Folium: https://python-visualization.github.io/folium/modules.html#module-folium.map\n",
    "- Resulta que cada imagen Landsat viene con su proyección asignada, la dificultad de operar resulta cuando se trabaja con `ee.ImageCollection`s ya que contiene imágenes con diversas proyecciones ('CRS'). Para la zona de estudio, la imagen Landsat 8/9 usa proyección [`EPSG:32617`](https://epsg.io/32617) la cual es WGS 84 / UTM zone 17N.\n",
    "- Si se asigna la proyección a un `.reduceRegion` resulta que cambian los valores obtenidos ya que la imagen a evaluar se desplaza a la proyección asignada en el reductor. \n",
    "- Además, considerar revisar [Statistics of an Image Region](https://developers.google.com/earth-engine/guides/reducers_reduce_region) en la sección **Pixels in the region** ya que menciona la consideración de pixeles en la evaluación: Reductores ponderados y No Ponderados.\n",
    "  - Aquí una prueba que he desarrollado: https://code.earthengine.google.com/53bc421dd18ac207f5acc7778f4a4bbc"
   ]
  },
  {
   "cell_type": "markdown",
   "metadata": {
    "hidden": true,
    "id": "7vTirJgnpw_c"
   },
   "source": [
    "Evaluando resultados de `reduceRegion` \n",
    "- Unweighted reducers: Cuando el pixel se toma en cuenta siempre y cuando su centroide se encuentre dentro de la región a obtener métricas.\n",
    "- Weighted reducers: Cuando el pixel se toma si al menos el 0.5% del pixel se encuentra dentro de la región a obtener métricas.\n",
    "\n",
    "```\n",
    "count() No hay problema\n",
    "a: 1432 normal\n",
    "b: 1432 unweighted\n",
    "\n",
    "min() No hay problema\n",
    "a: -0.14850036576444783 normal\n",
    "b: -0.14850036576444783 unweighted\n",
    "\n",
    "max() No hay problema\n",
    "a: 0.6420312854228066 normal\n",
    "b: 0.6420312854228066 unweighted\n",
    "\n",
    "mean() Varía\n",
    "a: 0.1712292017708585 normal\n",
    "b: 0.17131969566892824 unweighted\n",
    "\n",
    "median() Varía\n",
    "a: 0.15407420867192095 normal\n",
    "b: 0.15408841975614754 unweighted\n",
    "\n",
    "mode() Varía\n",
    "a: 0.12685871412563687 normal\n",
    "b: 0.12686853879770768 unweighted\n",
    "\n",
    "stdDev() No varía\n",
    "a: 0.11802228536267469 normal\n",
    "b: 0.11802228536267469 unweighted\n",
    "```"
   ]
  },
  {
   "cell_type": "markdown",
   "metadata": {
    "heading_collapsed": true,
    "hidden": true,
    "id": "6BY4p9jqGg3w"
   },
   "source": [
    "###### Prueba: Visualizando objectos de GEE en Colab/Jupyter Notebooks con Folium"
   ]
  },
  {
   "cell_type": "markdown",
   "metadata": {
    "hidden": true,
    "id": "xwqS568QGolR"
   },
   "source": [
    "- Revisar [Folium interactive map display](https://developers.google.com/earth-engine/guides/python_install#folium-interactive-map-display)"
   ]
  },
  {
   "cell_type": "code",
   "execution_count": null,
   "metadata": {
    "hidden": true,
    "id": "Yizcqnd7Gya3"
   },
   "outputs": [],
   "source": [
    "import folium\n",
    "\n",
    "def add_ee_layer(self, ee_image_object, vis_params, name):\n",
    "  map_id_dict = ee.Image(ee_image_object).getMapId(vis_params)\n",
    "  folium.raster_layers.TileLayer(\n",
    "      tiles=map_id_dict['tile_fetcher'].url_format,\n",
    "      attr='Map Data &copy; <a href=\"https://earthengine.google.com/\">Google Earth Engine</a>',\n",
    "      name=name,\n",
    "      overlay=True,\n",
    "      control=True\n",
    "  ).add_to(self)\n",
    "\n",
    "folium.Map.add_ee_layer = add_ee_layer"
   ]
  },
  {
   "cell_type": "code",
   "execution_count": null,
   "metadata": {
    "colab": {
     "base_uri": "https://localhost:8080/"
    },
    "hidden": true,
    "id": "TZGwG6LHVw9N",
    "outputId": "1ad67f3b-b865-4883-8b3f-a4c65b30eea6"
   },
   "outputs": [],
   "source": [
    "img_proj = img_toa.projection().getInfo()['crs'] # 'crs': 'EPSG:32617'\n",
    "img_proj"
   ]
  },
  {
   "cell_type": "code",
   "execution_count": null,
   "metadata": {
    "colab": {
     "base_uri": "https://localhost:8080/"
    },
    "hidden": true,
    "id": "5yWnaVVOoAgM",
    "outputId": "f470e00e-89fe-4bc1-ceea-2bdc1af8ba98"
   },
   "outputs": [],
   "source": [
    "img_toa.select(0).projection().getInfo()"
   ]
  },
  {
   "cell_type": "code",
   "execution_count": null,
   "metadata": {
    "hidden": true,
    "id": "Y7X6wqJvoC4x"
   },
   "outputs": [],
   "source": [
    "img_proj_32717 = img_toa.reproject(crs='EPSG:32717',scale=30)#.projection().getInfo()\n",
    "img_proj_4326 = img_toa.reproject(crs='EPSG:4326',scale=30)#.projection().getInfo()"
   ]
  },
  {
   "cell_type": "code",
   "execution_count": null,
   "metadata": {
    "hidden": true,
    "id": "-i_k-xkf0MKz"
   },
   "outputs": [],
   "source": [
    "# Define a map centered on Redwood City, California.\n",
    "map_objects = folium.Map(location=[-6.600543817508929, -79.77983439983308], zoom_start=16)\n",
    "\n",
    "# Add the image layers to the map.\n",
    "map_objects.add_ee_layer(img_toa, {'min': 0, 'max':0.3, 'bands':['B4','B3','B2']}, 'img_toa_32617')\n",
    "map_objects.add_ee_layer(img_proj_32717, {'min': 0, 'max':0.3, 'bands':['B4','B3','B2']}, 'img_proj_32717')\n",
    "map_objects.add_ee_layer(img_proj_4326, {'min': 0, 'max':0.3, 'bands':['B4','B3','B2']}, 'img_proj_4326')\n",
    "map_objects.add_ee_layer(predios_vis, {}, 'predios_vis')\n",
    "folium.LayerControl().add_to(map_objects)\n",
    "map_objects"
   ]
  },
  {
   "cell_type": "code",
   "execution_count": null,
   "metadata": {
    "hidden": true,
    "id": "x5pEMO2JKgnC"
   },
   "outputs": [],
   "source": [
    "# Define a map centered on Redwood City, California.\n",
    "map_objects = folium.Map(location=[-6.625519351609253, -79.7985741891281], zoom_start=16)\n",
    "\n",
    "# Add the image layers to the map.\n",
    "map_objects.add_ee_layer(img_toa.clip(predios_bound), {'min': 0, 'max':0.3, 'bands':['B4','B3','B2']}, 'img_toa')\n",
    "map_objects.add_ee_layer(img_ndvi.clip(predios_agricolas), {'min': 0, \n",
    "                                                            'max': 1,\n",
    "                                                            'palette':cmp.get_palette('ndvi')}, 'ndvi')\n",
    "\n",
    "map_objects.add_ee_layer(predios_vis, {}, 'predios_vis')\n",
    "map_objects"
   ]
  },
  {
   "cell_type": "markdown",
   "metadata": {
    "heading_collapsed": true,
    "hidden": true,
    "id": "gxG7bTEwvNLi"
   },
   "source": [
    "###### Prueba: Exportar valores en Lista como np.array"
   ]
  },
  {
   "cell_type": "markdown",
   "metadata": {
    "heading_collapsed": true,
    "hidden": true,
    "id": "H2MsNvbFokNJ"
   },
   "source": [
    "#### Prueba cartoee"
   ]
  },
  {
   "cell_type": "markdown",
   "metadata": {
    "hidden": true,
    "id": "zr-gb6EVI5iB"
   },
   "source": [
    "`cartoee` es la integración de `cartopy` con Google Earth Engine.\n",
    "\n",
    "- cartoee: https://github.com/KMarkert/cartoee\n",
    "- geemap.cartoee https://geemap.org/cartoee/ https://github.com/giswqs/geemap/blob/master/geemap/cartoee.py\n"
   ]
  },
  {
   "cell_type": "code",
   "execution_count": null,
   "metadata": {
    "hidden": true,
    "id": "jom65G3CvDMc"
   },
   "outputs": [],
   "source": [
    "# Instalar\n",
    "%%capture\n",
    "!pip install cartopy scipy"
   ]
  },
  {
   "cell_type": "code",
   "execution_count": null,
   "metadata": {
    "hidden": true,
    "id": "Qu0XzSj2uzZs"
   },
   "outputs": [],
   "source": [
    "# Importar librerías\n",
    "from geemap import cartoee # import the cartoee functionality from geemap\n",
    "%pylab inline"
   ]
  },
  {
   "cell_type": "markdown",
   "metadata": {
    "heading_collapsed": true,
    "hidden": true,
    "id": "zlCpNEjvYNn6"
   },
   "source": [
    "##### Ejemplos"
   ]
  },
  {
   "cell_type": "markdown",
   "metadata": {
    "hidden": true,
    "id": "uDyEdyOOYSLZ"
   },
   "source": [
    "###### Visualización de imagen Landsat 9 TOA"
   ]
  },
  {
   "cell_type": "code",
   "execution_count": null,
   "metadata": {
    "colab": {
     "base_uri": "https://localhost:8080/",
     "height": 631
    },
    "hidden": true,
    "id": "DKOGiDffu7cb",
    "outputId": "55550d78-ce78-4397-9dd5-2e1a401906a5"
   },
   "outputs": [],
   "source": [
    "img = ee.Image('LANDSAT/LC09/C02/T1_TOA/LC09_010065_20220403')\n",
    "img_date = img.date().format('YYYY-MM-dd').getInfo()\n",
    "\n",
    "vis = {\"bands\": ['B4', 'B3', 'B2'], \"min\": 0, \"max\": 0.3, \"gamma\": 1.3}\n",
    "\n",
    "fig = plt.figure(figsize=(10, 10))\n",
    "\n",
    "# use cartoee to get a map\n",
    "ax = cartoee.get_map(img, vis_params=vis)\n",
    "\n",
    "# pad the view for some visual appeal (pad de padding)\n",
    "cartoee.pad_view(ax)\n",
    "\n",
    "ax.set_title(f' LANDSAT 9, Fecha: {img_date}')\n",
    "\n",
    "# add the gridlines and specify that the xtick labels be rotated 45 degrees\n",
    "cartoee.add_gridlines(ax, interval=0.5, xtick_rotation=45, linestyle=\":\")\n",
    "\n",
    "show()"
   ]
  },
  {
   "cell_type": "markdown",
   "metadata": {
    "hidden": true,
    "id": "fdPKtN5FJOVJ"
   },
   "source": [
    "###### Prueba con bucle for para 5 imágenes Landsat "
   ]
  },
  {
   "cell_type": "code",
   "execution_count": null,
   "metadata": {
    "hidden": true,
    "id": "IccSQ-pOyVYW"
   },
   "outputs": [],
   "source": [
    "ids = ['LANDSAT/LC09/C02/T1_TOA/LC09_010065_20211212',\n",
    "       'LANDSAT/LC09/C02/T1_TOA/LC09_010065_20220113',\n",
    "       'LANDSAT/LC09/C02/T1_TOA/LC09_010065_20220129',\n",
    "       'LANDSAT/LC08/C02/T1_TOA/LC08_010065_20220310',\n",
    "       'LANDSAT/LC09/C02/T1_TOA/LC09_010065_20220403']\n",
    "\n",
    "for id in ids:\n",
    "\n",
    "  img = ee.Image(id)\n",
    "  img_date = img.date().format('YYYY-MM-dd').getInfo()\n",
    "\n",
    "  # define the visualization parameters to view\n",
    "  vis = {\"bands\": ['B4', 'B3', 'B2'], \"min\": 0, \"max\": 0.3, \"gamma\": 1.3}\n",
    "\n",
    "  fig = plt.figure(figsize=(10, 7))\n",
    "\n",
    "  # here is the bounding box of the map extent we want to use\n",
    "  # formatted a [E,S,W,N]\n",
    "  zoom_region = [-79.787761, -6.607186, -79.771781, -6.593991]\n",
    "\n",
    "  # plot the map over the region of interest\n",
    "  ax = cartoee.get_map(img.clip(predios_bound), vis_params=vis, region=zoom_region)\n",
    "  \n",
    "  ax.set_title(f'Fecha: {img_date}')\n",
    "\n",
    "  # add the gridlines and specify that the xtick labels be rotated 45 degrees\n",
    "  cartoee.add_gridlines(ax, interval=0.0025, xtick_rotation=45, linestyle=\":\")\n",
    "\n",
    "  cartoee.add_north_arrow(ax, text='N', xy=(0.95, 0.97), fontsize=20)\n",
    "  show()"
   ]
  },
  {
   "cell_type": "markdown",
   "metadata": {
    "hidden": true,
    "id": "Xe6vTITDYjHJ"
   },
   "source": [
    "###### Imagen SRTM con barra de color al costado"
   ]
  },
  {
   "cell_type": "code",
   "execution_count": null,
   "metadata": {
    "colab": {
     "base_uri": "https://localhost:8080/",
     "height": 662
    },
    "hidden": true,
    "id": "GwkOaJGTz162",
    "outputId": "d82b8a68-0fa1-4ae1-f49c-9c68656ba81a"
   },
   "outputs": [],
   "source": [
    "# get an image\n",
    "srtm = ee.Image(\"CGIAR/SRTM90_V4\")\n",
    "\n",
    "palette = geemap.colormaps.palettes.dem\n",
    "\n",
    "region = [70, 15, 140, 60]  # define bounding box to request data\n",
    "# vis = {'min': 0, 'max': 5000}  # define visualization parameters for image\n",
    "vis = {'palette': palette, 'min': 0.0, 'max': 6000.0, 'opacity': 1.0}\n",
    "\n",
    "fig = plt.figure(figsize=(15, 10))\n",
    "\n",
    "# use cartoee to get a map\n",
    "ax = cartoee.get_map(srtm, region=region, vis_params=vis)\n",
    "\n",
    "# add a colorbar to the map using the visualization params we passed to the map\n",
    "cartoee.add_colorbar(\n",
    "    ax,\n",
    "    vis,\n",
    "    loc=\"bottom\",\n",
    "    label=\"Elevation\",\n",
    "    orientation=\"horizontal\",\n",
    "    posOpts=[0.25, 0.05, 0.5, 0.02],\n",
    ")\n",
    "\n",
    "# add gridlines to the map at a specified interval\n",
    "cartoee.add_gridlines(ax, interval=[10, 10], linestyle=\":\")\n",
    "\n",
    "# add coastlines using the cartopy api\n",
    "# ax.coastlines(color=\"red\")\n",
    "\n",
    "show()"
   ]
  },
  {
   "cell_type": "markdown",
   "metadata": {
    "heading_collapsed": true,
    "hidden": true,
    "id": "Sc9_-CuBY2Op"
   },
   "source": [
    "###### Albedo a partir de una imagen Landsat 9 más su barra de color "
   ]
  },
  {
   "cell_type": "code",
   "execution_count": null,
   "metadata": {
    "colab": {
     "base_uri": "https://localhost:8080/",
     "height": 411
    },
    "hidden": true,
    "id": "Jqr3eOQ2Mjns",
    "outputId": "5120c945-f8e9-4ae5-ce91-4572d42c93f9"
   },
   "outputs": [],
   "source": [
    "# Previamente se necesita haber ejecutado las celdas de código sobre Radiación Neta \n",
    "vis_params_alb = {'min': albedo_stats[0]['Mínimo'], \n",
    "                  'max': albedo_stats[0]['Máximo'], \n",
    "                  # 'palette': cmp.get_palette(cmap_name='RdYlGn_r')}\n",
    "                  'palette': cmp.get_palette(cmap_name='hot')}\n",
    "                  # 'palette': cmp.palettes.ndvi} # pero esta paleta sí \n",
    "                  # 'palette': cmp.palettes.RdYlGn_r} # No reconoce la paleta \n",
    "\n",
    "img_ee = img_albedo.clip(predios_agricolas)#.visualize(**vis_params_alb) #ee.Image('LANDSAT/LC09/C02/T1_TOA/LC09_010065_20220403')\n",
    "\n",
    "zoom_region = [-79.787761, -6.607186, -79.771781, -6.593991]\n",
    "\n",
    "fig = plt.figure(figsize=(8,6))\n",
    "\n",
    "# plot the result with cartoee using a PlateCarre projection (default)\n",
    "ax = cartoee.get_map(img_ee, region=zoom_region, vis_params=vis_params_alb)\n",
    "cb = cartoee.add_colorbar(ax, vis_params=vis_params_alb, loc='right', label=\"Albedo [-]\")\n",
    "\n",
    "# ax.set_title(label='Albedo, 2022-04-03')#, fontsize=15)\n",
    "\n",
    "ax.text(-79.78185, -6.595, 'Albedo, 2022-04-03', fontsize=14)\n",
    "\n",
    "cartoee.add_gridlines(ax, interval=0.0025, xtick_rotation=45, linestyle=\":\")\n",
    "\n",
    "plt.show()"
   ]
  },
  {
   "cell_type": "code",
   "execution_count": null,
   "metadata": {
    "hidden": true,
    "id": "Nsetziz7n9xp"
   },
   "outputs": [],
   "source": [
    "# fig.savefig('albedo8x6_text.jpg')"
   ]
  },
  {
   "cell_type": "markdown",
   "metadata": {
    "heading_collapsed": true,
    "hidden": true,
    "id": "5pRkJIfm95hY"
   },
   "source": [
    "##### Ploteo de imagenes en bucle (no se puede el subplots)"
   ]
  },
  {
   "cell_type": "markdown",
   "metadata": {
    "hidden": true,
    "id": "t9c5F8tj1dTd"
   },
   "source": [
    "Revisar:\n",
    "- https://kpegion.github.io/Pangeo-at-AOES/examples/multi-panel-cartopy.html"
   ]
  },
  {
   "cell_type": "code",
   "execution_count": null,
   "metadata": {
    "hidden": true,
    "id": "Cb5MvjkpwL1Y"
   },
   "outputs": [],
   "source": [
    "# zoom_region = [-79.787761, -6.607186, -79.771781, -6.593991]\n",
    "img = ee.Image('LANDSAT/LC09/C02/T1_TOA/LC09_010065_20220403').clip(predios_bound)\n",
    "img_date = img.date().format('YYYY-MM-dd').getInfo()\n",
    "vis = {\"bands\": ['B4', 'B3', 'B2'], \"min\": 0, \"max\": 0.3, \"gamma\": 1.3}"
   ]
  },
  {
   "cell_type": "code",
   "execution_count": null,
   "metadata": {
    "colab": {
     "base_uri": "https://localhost:8080/"
    },
    "hidden": true,
    "id": "uFZWXaTE3uQr",
    "outputId": "6a524ec1-9af5-4c5c-dffc-0c707cfc2d85"
   },
   "outputs": [],
   "source": [
    "ids"
   ]
  },
  {
   "cell_type": "code",
   "execution_count": null,
   "metadata": {
    "colab": {
     "base_uri": "https://localhost:8080/",
     "height": 1000
    },
    "hidden": true,
    "id": "BKhTVOXuFlLm",
    "outputId": "87b0f59d-713b-48b6-8215-3830c2ee62ed",
    "scrolled": true
   },
   "outputs": [],
   "source": [
    "vis = {\"bands\": ['B4', 'B3', 'B2'], \"min\": 0, \"max\": 0.3, \"gamma\": 1.3}\n",
    "\n",
    "for id in ids:\n",
    "  img_ee = ee.Image(id)\n",
    "  img_toa = convert_RAW_to_TOA(img_ee).clip(predios_bound).blend(predios_vis)\n",
    "  img_date = img_ee.date().format('YYYY-MM-dd').getInfo()\n",
    "\n",
    "  fig = plt.figure(figsize=(8,6))\n",
    "  ax = cartoee.get_map(img_toa, vis_params=vis)\n",
    "  ax.set_title(img_date)\n",
    "  \n",
    "  ruta = r'C:/Users/usuario/Documents/00-notebooks-2022/'\n",
    "  plt.savefig(f'{ruta+img_date}')\n",
    "  plt.show()"
   ]
  },
  {
   "cell_type": "markdown",
   "metadata": {
    "heading_collapsed": true,
    "hidden": true,
    "id": "L_kbNO4LH_0m"
   },
   "source": [
    "###### Prueba: Animación"
   ]
  },
  {
   "cell_type": "code",
   "execution_count": null,
   "metadata": {
    "cellView": "form",
    "colab": {
     "base_uri": "https://localhost:8080/",
     "height": 484
    },
    "hidden": true,
    "id": "5sVc0ixQLWND",
    "outputId": "0b84525f-a36e-45e7-a7d9-34cd31a478e1"
   },
   "outputs": [],
   "source": [
    "# @markdown Prueba gif https://geemap.org/notebooks/52_cartoee_gif/#create-an-imagecollection\n",
    "lon = -115.1585\n",
    "lat = 36.1500\n",
    "start_year = 1984\n",
    "end_year = 2011\n",
    "\n",
    "point = ee.Geometry.Point(lon, lat)\n",
    "years = ee.List.sequence(start_year, end_year)\n",
    "\n",
    "def get_best_image(year):\n",
    "\n",
    "    start_date = ee.Date.fromYMD(year, 1, 1)\n",
    "    end_date = ee.Date.fromYMD(year, 12, 31)\n",
    "    image = (\n",
    "        ee.ImageCollection(\"LANDSAT/LT05/C01/T1_SR\")\n",
    "        .filterBounds(point)\n",
    "        .filterDate(start_date, end_date)\n",
    "        .sort(\"CLOUD_COVER\")\n",
    "        .first()\n",
    "    )\n",
    "    return ee.Image(image)\n",
    "\n",
    "\n",
    "collection = ee.ImageCollection(years.map(get_best_image))\n",
    "vis_params = {\"bands\": ['B4', 'B3', 'B2'], \"min\": 0, \"max\": 5000}\n",
    "image = ee.Image(collection.first())\n",
    "\n",
    "w = 0.4\n",
    "h = 0.3\n",
    "\n",
    "region = [lon + w, lat - h, lon - w, lat + h]\n",
    "\n",
    "fig = plt.figure(figsize=(10, 8))\n",
    "\n",
    "# use cartoee to get a map\n",
    "ax = cartoee.get_map(image, region=region, vis_params=vis_params)\n",
    "\n",
    "# add gridlines to the map at a specified interval\n",
    "cartoee.add_gridlines(ax, interval=[0.2, 0.2], linestyle=\":\")\n",
    "\n",
    "# add north arrow\n",
    "north_arrow_dict = {\n",
    "    \"text\": \"N\",\n",
    "    \"xy\": (0.1, 0.3),\n",
    "    \"arrow_length\": 0.08,\n",
    "    \"text_color\": \"white\",\n",
    "    \"arrow_color\": \"white\",\n",
    "    \"fontsize\": 20,\n",
    "    \"width\": 5,\n",
    "    \"headwidth\": 15,\n",
    "    \"ha\": \"center\",\n",
    "    \"va\": \"center\",\n",
    "}\n",
    "cartoee.add_north_arrow(ax, **north_arrow_dict)\n",
    "\n",
    "# add scale bar\n",
    "scale_bar_dict = {\n",
    "    \"length\": 10,\n",
    "    \"xy\": (0.1, 0.05),\n",
    "    \"linewidth\": 3,\n",
    "    \"fontsize\": 15,\n",
    "    \"color\": \"white\",\n",
    "    \"unit\": \"km\",\n",
    "    \"ha\": \"center\",\n",
    "    \"va\": \"bottom\",\n",
    "}\n",
    "cartoee.add_scale_bar_lite(ax, **scale_bar_dict)\n",
    "\n",
    "ax.set_title(label='Las Vegas, NV', fontsize=15)\n",
    "\n",
    "show()"
   ]
  },
  {
   "cell_type": "code",
   "execution_count": null,
   "metadata": {
    "cellView": "form",
    "colab": {
     "base_uri": "https://localhost:8080/"
    },
    "hidden": true,
    "id": "YlVczEP2IBzF",
    "outputId": "105098d2-7124-4289-eed1-f7a5476e6ee2"
   },
   "outputs": [],
   "source": [
    "#@markdown Prueba gif\n",
    "\n",
    "icol = (\n",
    "    ee.ImageCollection('LANDSAT/LC09/C02/T1')\n",
    "    .filterDate('2021-12','2022-05')\n",
    "    .filterBounds(predios_bound)\n",
    "    .filterMetadata('WRS_PATH', 'equals', 10)\n",
    "    .filterMetadata('WRS_ROW', 'equals', 64)\n",
    "    # .map(convert_RAW_to_TOA)\n",
    ")\n",
    "\n",
    "vis_rgb_raw = {'min': 0.0, 'max': 30000, 'bands': ['B4', 'B3', 'B2']}\n",
    "\n",
    "# icol.aggregate_array('system:id').getInfo()\n",
    "\n",
    "# add north arrow\n",
    "north_arrow_dict = {\n",
    "    \"text\": \"N\",\n",
    "    \"xy\": (0.1, 0.3),\n",
    "    \"arrow_length\": 0.15,\n",
    "    \"text_color\": \"white\",\n",
    "    \"arrow_color\": \"white\",\n",
    "    \"fontsize\": 20,\n",
    "    \"width\": 5,\n",
    "    \"headwidth\": 15,\n",
    "    \"ha\": \"center\",\n",
    "    \"va\": \"center\",\n",
    "}\n",
    "\n",
    "# add scale bar\n",
    "scale_bar_dict = {\n",
    "    \"length\": 10,\n",
    "    \"xy\": (0.1, 0.05),\n",
    "    \"linewidth\": 3,\n",
    "    \"fontsize\": 20,\n",
    "    \"color\": \"white\",\n",
    "    \"unit\": \"km\",\n",
    "    \"ha\": \"center\",\n",
    "    \"va\": \"bottom\",\n",
    "}\n",
    "\n",
    "cartoee.get_image_collection_gif(\n",
    "    ee_ic=icol,\n",
    "    out_dir=r'C:\\Users\\usuario\\Documents\\00-notebooks-2022',\n",
    "    out_gif=\"animation.gif\",\n",
    "    vis_params=vis_rgb_raw,\n",
    "    region=[-79.787761, -6.607186, -79.771781, -6.593991],\n",
    "    fps=5,\n",
    "    mp4=True,\n",
    "    grid_interval=(0.0025, 0.0025),\n",
    "    plot_title=\"Area de estudio, Ferreñafe\",\n",
    "    date_format='YYYY-MM-dd',\n",
    "    fig_size=(10, 8),\n",
    "    dpi_plot=100,\n",
    "    file_format=\"png\",\n",
    "    north_arrow_dict=north_arrow_dict,\n",
    "    scale_bar_dict=scale_bar_dict,\n",
    "    verbose=True,\n",
    ")"
   ]
  },
  {
   "cell_type": "markdown",
   "metadata": {
    "heading_collapsed": true,
    "hidden": true,
    "id": "154-SZRuH4U3"
   },
   "source": [
    "##### Por probar"
   ]
  },
  {
   "cell_type": "markdown",
   "metadata": {
    "hidden": true,
    "id": "tyzN1-L5IZOn"
   },
   "source": [
    "Agregar un `ee.FeatureCollection`:\n",
    "- [Add ee.Feature or ee.FeatureCollection using cartoee #212](https://github.com/giswqs/geemap/discussions/212)\n",
    "- [Add multiple layers using cartoee.add_layer() together with eemont? #781](https://github.com/giswqs/geemap/issues/781)\n",
    "- Respuesta: https://geemap.org/notebooks/57_cartoee_blend/"
   ]
  },
  {
   "cell_type": "markdown",
   "metadata": {
    "hidden": true,
    "id": "QlW0ifQsJbJA"
   },
   "source": [
    "Agregar una barra de colores con cartoee"
   ]
  },
  {
   "cell_type": "markdown",
   "metadata": {
    "hidden": true,
    "id": "_yABB4fM0F02"
   },
   "source": [
    "Probar: https://matplotlib.org/stable/gallery/subplots_axes_and_figures/colorbar_placement.html#sphx-glr-gallery-subplots-axes-and-figures-colorbar-placement-py\n",
    "\n",
    "<img src='https://matplotlib.org/stable/_images/sphx_glr_colorbar_placement_003.png' width=50%>"
   ]
  },
  {
   "cell_type": "code",
   "execution_count": null,
   "metadata": {
    "hidden": true,
    "id": "jJRdPRnrT-MX"
   },
   "outputs": [],
   "source": [
    "import geemap.colormaps as cmp"
   ]
  },
  {
   "cell_type": "code",
   "execution_count": null,
   "metadata": {
    "hidden": true,
    "id": "HEnNLTACUoqY"
   },
   "outputs": [],
   "source": [
    "cmp.plot_colormaps()"
   ]
  },
  {
   "cell_type": "code",
   "execution_count": null,
   "metadata": {
    "hidden": true,
    "id": "1WbJqMvnKCxH"
   },
   "outputs": [],
   "source": [
    "# image = (\n",
    "#     ee.ImageCollection('MODIS/MCD43A4_006_NDVI')\n",
    "#     .filter(ee.Filter.date('2018-04-01', '2018-05-01'))\n",
    "#     .select(\"NDVI\")\n",
    "#     .first()\n",
    "# )\n",
    "\n",
    "# vis_params = {\n",
    "#     'min': 0.0,\n",
    "#     'max': 1.0,\n",
    "#     'palette': cmp.get_palette(cmap_name='RdYlGn_r'),\n",
    "# }\n",
    "\n",
    "# # FeatureCollection\n",
    "# countries = ee.FeatureCollection('users/giswqs/public/countries')\n",
    "# style = {\"color\": \"00000088\", \"width\": 1, \"fillColor\": \"00000000\"}\n",
    "\n",
    "# # Blend\n",
    "# ndvi = image.visualize(**vis_params)\n",
    "# blend = ndvi.blend(countries.style(**style))\n",
    "\n",
    "# # specify region to focus on\n",
    "# bbox = [180, -88, -180, 88]\n",
    "# fig = plt.figure(figsize=(15, 10))\n",
    "\n",
    "# # plot the result with cartoee using a PlateCarre projection (default)\n",
    "# ax = cartoee.get_map(blend, region=bbox)\n",
    "# cb = cartoee.add_colorbar(ax, vis_params=vis_params, loc='right')\n",
    "\n",
    "# ax.set_title(label='MODIS NDVI', fontsize=15)\n",
    "\n",
    "# # ax.coastlines()\n",
    "# plt.show()"
   ]
  }
 ],
 "metadata": {
  "colab": {
   "collapsed_sections": [
    "7ORTC88PSBDF",
    "hr-x77CIvNK6",
    "MMDMHZbYCQbN",
    "vK3O-V6IlFmU",
    "GbkkKf6p3Tgn",
    "IHEZtE9ylTJy",
    "tml03El_oKa6",
    "m5aDAmI4byWN",
    "sHwI3CO9hylf",
    "nrEDl6LmhE1_",
    "WaHUOkX5z3mS",
    "GdZ4SrwrnpXn",
    "QesHc_-BNQjo",
    "CfwHgfrvp_2l",
    "Tu10XDKxC2Rc",
    "HcEONLQkI3UR",
    "45gNRwfUOktp",
    "hWvSU4vsSDVy",
    "h_-Cbo7oI0by",
    "nHXjiP1iXAaM",
    "L5_fjZk9eq1g",
    "pabct91tNWnT",
    "o_vZ_O3KNYex",
    "_twIKBx23snC",
    "Ne9yzqNMhG6x",
    "6lHvAqia9_Ow",
    "0wAcePAHSDVm",
    "8YxBfdTJfs31",
    "qHiKJacKSDVu",
    "npauSbbdSDWC",
    "7j3E5kxVQ1vS",
    "n2Vpz9gLsOjk",
    "OyaPsZOyvxw0",
    "RzJS4Xyc9b8D",
    "nfsQ_pcNFefH",
    "6pxsGG7W5d2P",
    "6BY4p9jqGg3w",
    "gxG7bTEwvNLi",
    "H2MsNvbFokNJ",
    "zlCpNEjvYNn6",
    "uDyEdyOOYSLZ",
    "fdPKtN5FJOVJ",
    "Xe6vTITDYjHJ",
    "Sc9_-CuBY2Op",
    "5pRkJIfm95hY",
    "L_kbNO4LH_0m",
    "154-SZRuH4U3"
   ],
   "provenance": [],
   "toc_visible": true
  },
  "kernelspec": {
   "display_name": "Python 3 (ipykernel)",
   "language": "python",
   "name": "python3"
  },
  "language_info": {
   "codemirror_mode": {
    "name": "ipython",
    "version": 3
   },
   "file_extension": ".py",
   "mimetype": "text/x-python",
   "name": "python",
   "nbconvert_exporter": "python",
   "pygments_lexer": "ipython3",
   "version": "3.7.13"
  },
  "toc": {
   "base_numbering": 1,
   "nav_menu": {},
   "number_sections": true,
   "sideBar": true,
   "skip_h1_title": false,
   "title_cell": "Table of Contents",
   "title_sidebar": "Contents",
   "toc_cell": false,
   "toc_position": {},
   "toc_section_display": true,
   "toc_window_display": false
  },
  "widgets": {
   "application/vnd.jupyter.widget-state+json": {
    "0028af2a29d742a3ba79182899c3764f": {
     "model_module": "jupyter-leaflet",
     "model_module_version": "^0.16.0",
     "model_name": "LeafletTileLayerModel",
     "state": {
      "_model_module": "jupyter-leaflet",
      "_model_module_version": "^0.16.0",
      "_model_name": "LeafletTileLayerModel",
      "_view_count": null,
      "_view_module": "jupyter-leaflet",
      "_view_module_version": "^0.16.0",
      "_view_name": "LeafletTileLayerView",
      "attribution": "Google Earth Engine",
      "base": false,
      "bottom": true,
      "bounds": null,
      "detect_retina": false,
      "loading": false,
      "max_native_zoom": 18,
      "max_zoom": 24,
      "min_native_zoom": 0,
      "min_zoom": 0,
      "name": "20220206",
      "no_wrap": false,
      "opacity": 1,
      "options": [
       "attribution",
       "bounds",
       "detect_retina",
       "max_native_zoom",
       "max_zoom",
       "min_native_zoom",
       "min_zoom",
       "no_wrap",
       "tile_size",
       "tms"
      ],
      "popup": null,
      "popup_max_height": null,
      "popup_max_width": 300,
      "popup_min_width": 50,
      "show_loading": false,
      "tile_size": 256,
      "tms": false,
      "url": "https://earthengine.googleapis.com/v1alpha/projects/earthengine-legacy/maps/7b1225554b7b749fcfdc49305dafddba-2cdf86b16ee76f9e5c2a838a331ac69b/tiles/{z}/{x}/{y}",
      "visible": true
     }
    },
    "01570eb3fb3c49fda7e51c72f0cf2782": {
     "model_module": "@jupyter-widgets/base",
     "model_module_version": "1.2.0",
     "model_name": "LayoutModel",
     "state": {
      "_model_module": "@jupyter-widgets/base",
      "_model_module_version": "1.2.0",
      "_model_name": "LayoutModel",
      "_view_count": null,
      "_view_module": "@jupyter-widgets/base",
      "_view_module_version": "1.2.0",
      "_view_name": "LayoutView",
      "align_content": null,
      "align_items": null,
      "align_self": null,
      "border": null,
      "bottom": null,
      "display": null,
      "flex": null,
      "flex_flow": null,
      "grid_area": null,
      "grid_auto_columns": null,
      "grid_auto_flow": null,
      "grid_auto_rows": null,
      "grid_column": null,
      "grid_gap": null,
      "grid_row": null,
      "grid_template_areas": null,
      "grid_template_columns": null,
      "grid_template_rows": null,
      "height": null,
      "justify_content": null,
      "justify_items": null,
      "left": null,
      "margin": null,
      "max_height": null,
      "max_width": null,
      "min_height": null,
      "min_width": null,
      "object_fit": null,
      "object_position": null,
      "order": null,
      "overflow": null,
      "overflow_x": null,
      "overflow_y": null,
      "padding": null,
      "right": null,
      "top": null,
      "visibility": null,
      "width": null
     }
    },
    "035ab3a5314c42078b23f39e44bf4d27": {
     "model_module": "@jupyter-widgets/controls",
     "model_module_version": "1.5.0",
     "model_name": "ToggleButtonModel",
     "state": {
      "_dom_classes": [],
      "_model_module": "@jupyter-widgets/controls",
      "_model_module_version": "1.5.0",
      "_model_name": "ToggleButtonModel",
      "_view_count": null,
      "_view_module": "@jupyter-widgets/controls",
      "_view_module_version": "1.5.0",
      "_view_name": "ToggleButtonView",
      "button_style": "",
      "description": "",
      "description_tooltip": null,
      "disabled": false,
      "icon": "globe",
      "layout": "IPY_MODEL_83b9b602914e4d0c8a2e0e4bf10e663c",
      "style": "IPY_MODEL_bba0a1f413aa44bfabb2b8f5e68ce012",
      "tooltip": "Search location/data",
      "value": false
     }
    },
    "03c4571fd8394ef1a05c024a4d15bd7d": {
     "model_module": "@jupyter-widgets/base",
     "model_module_version": "1.2.0",
     "model_name": "LayoutModel",
     "state": {
      "_model_module": "@jupyter-widgets/base",
      "_model_module_version": "1.2.0",
      "_model_name": "LayoutModel",
      "_view_count": null,
      "_view_module": "@jupyter-widgets/base",
      "_view_module_version": "1.2.0",
      "_view_name": "LayoutView",
      "align_content": null,
      "align_items": null,
      "align_self": null,
      "border": null,
      "bottom": null,
      "display": null,
      "flex": null,
      "flex_flow": null,
      "grid_area": null,
      "grid_auto_columns": null,
      "grid_auto_flow": null,
      "grid_auto_rows": null,
      "grid_column": null,
      "grid_gap": null,
      "grid_row": null,
      "grid_template_areas": null,
      "grid_template_columns": null,
      "grid_template_rows": null,
      "height": null,
      "justify_content": null,
      "justify_items": null,
      "left": null,
      "margin": null,
      "max_height": null,
      "max_width": null,
      "min_height": null,
      "min_width": null,
      "object_fit": null,
      "object_position": null,
      "order": null,
      "overflow": null,
      "overflow_x": null,
      "overflow_y": null,
      "padding": null,
      "right": null,
      "top": null,
      "visibility": null,
      "width": null
     }
    },
    "09cba970704a4eb394fb3fd8f5710a3e": {
     "model_module": "@jupyter-widgets/controls",
     "model_module_version": "1.5.0",
     "model_name": "ToggleButtonModel",
     "state": {
      "_dom_classes": [],
      "_model_module": "@jupyter-widgets/controls",
      "_model_module_version": "1.5.0",
      "_model_name": "ToggleButtonModel",
      "_view_count": null,
      "_view_module": "@jupyter-widgets/controls",
      "_view_module_version": "1.5.0",
      "_view_name": "ToggleButtonView",
      "button_style": "",
      "description": "",
      "description_tooltip": null,
      "disabled": false,
      "icon": "wrench",
      "layout": "IPY_MODEL_f0a5d86801eb49ca8e9a3ccebabde69f",
      "style": "IPY_MODEL_da17edf9e2a542c7b31d9c046cd32ef6",
      "tooltip": "Toolbar",
      "value": false
     }
    },
    "09f51ee634c64e6ba9ece93acaa64799": {
     "model_module": "@jupyter-widgets/controls",
     "model_module_version": "1.5.0",
     "model_name": "VBoxModel",
     "state": {
      "_dom_classes": [],
      "_model_module": "@jupyter-widgets/controls",
      "_model_module_version": "1.5.0",
      "_model_name": "VBoxModel",
      "_view_count": null,
      "_view_module": "@jupyter-widgets/controls",
      "_view_module_version": "1.5.0",
      "_view_name": "VBoxView",
      "box_style": "",
      "children": [
       "IPY_MODEL_8ca675ac4fad4951a140289692580722"
      ],
      "layout": "IPY_MODEL_6dea706511704698b44b1345994bde51"
     }
    },
    "0e280aa715ca4056a2f545cab86b7a09": {
     "model_module": "jupyter-leaflet",
     "model_module_version": "^0.16.0",
     "model_name": "LeafletDrawControlModel",
     "state": {
      "_model_module": "jupyter-leaflet",
      "_model_module_version": "^0.16.0",
      "_model_name": "LeafletDrawControlModel",
      "_view_count": null,
      "_view_module": "jupyter-leaflet",
      "_view_module_version": "^0.16.0",
      "_view_name": "LeafletDrawControlView",
      "circle": {
       "shapeOptions": {
        "color": "#3388ff"
       }
      },
      "circlemarker": {},
      "data": [],
      "edit": true,
      "marker": {
       "shapeOptions": {
        "color": "#3388ff"
       }
      },
      "options": [
       "position"
      ],
      "polygon": {
       "shapeOptions": {}
      },
      "polyline": {
       "shapeOptions": {}
      },
      "position": "topleft",
      "rectangle": {
       "shapeOptions": {
        "color": "#3388ff"
       }
      },
      "remove": true
     }
    },
    "1248487969d7473a9cbbe4b485b7bd29": {
     "model_module": "jupyter-leaflet",
     "model_module_version": "^0.16.0",
     "model_name": "LeafletMapStyleModel",
     "state": {
      "_model_module": "jupyter-leaflet",
      "_model_module_version": "^0.16.0",
      "_model_name": "LeafletMapStyleModel",
      "_view_count": null,
      "_view_module": "@jupyter-widgets/base",
      "_view_module_version": "1.2.0",
      "_view_name": "StyleView",
      "cursor": "grab"
     }
    },
    "14b11b79c7ef4d35b7cc276a7c5b4f9c": {
     "model_module": "@jupyter-widgets/controls",
     "model_module_version": "1.5.0",
     "model_name": "HBoxModel",
     "state": {
      "_dom_classes": [],
      "_model_module": "@jupyter-widgets/controls",
      "_model_module_version": "1.5.0",
      "_model_name": "HBoxModel",
      "_view_count": null,
      "_view_module": "@jupyter-widgets/controls",
      "_view_module_version": "1.5.0",
      "_view_name": "HBoxView",
      "box_style": "",
      "children": [
       "IPY_MODEL_574c4d4799c44ca69d81f7f502860fff"
      ],
      "layout": "IPY_MODEL_a9ab631f84234de3921c220968a33e07"
     }
    },
    "16900b275461460593951f8294400cb3": {
     "model_module": "@jupyter-widgets/base",
     "model_module_version": "1.2.0",
     "model_name": "LayoutModel",
     "state": {
      "_model_module": "@jupyter-widgets/base",
      "_model_module_version": "1.2.0",
      "_model_name": "LayoutModel",
      "_view_count": null,
      "_view_module": "@jupyter-widgets/base",
      "_view_module_version": "1.2.0",
      "_view_name": "LayoutView",
      "align_content": null,
      "align_items": null,
      "align_self": null,
      "border": null,
      "bottom": null,
      "display": null,
      "flex": null,
      "flex_flow": null,
      "grid_area": null,
      "grid_auto_columns": null,
      "grid_auto_flow": null,
      "grid_auto_rows": null,
      "grid_column": null,
      "grid_gap": null,
      "grid_row": null,
      "grid_template_areas": null,
      "grid_template_columns": null,
      "grid_template_rows": null,
      "height": "28px",
      "justify_content": null,
      "justify_items": null,
      "left": null,
      "margin": null,
      "max_height": null,
      "max_width": null,
      "min_height": null,
      "min_width": null,
      "object_fit": null,
      "object_position": null,
      "order": null,
      "overflow": null,
      "overflow_x": null,
      "overflow_y": null,
      "padding": "0px 0px 0px 4px",
      "right": null,
      "top": null,
      "visibility": null,
      "width": "28px"
     }
    },
    "1806cc25be534b35a6ebf70e2d108240": {
     "model_module": "@jupyter-widgets/base",
     "model_module_version": "1.2.0",
     "model_name": "LayoutModel",
     "state": {
      "_model_module": "@jupyter-widgets/base",
      "_model_module_version": "1.2.0",
      "_model_name": "LayoutModel",
      "_view_count": null,
      "_view_module": "@jupyter-widgets/base",
      "_view_module_version": "1.2.0",
      "_view_name": "LayoutView",
      "align_content": null,
      "align_items": null,
      "align_self": null,
      "border": null,
      "bottom": null,
      "display": null,
      "flex": null,
      "flex_flow": null,
      "grid_area": null,
      "grid_auto_columns": null,
      "grid_auto_flow": null,
      "grid_auto_rows": null,
      "grid_column": null,
      "grid_gap": null,
      "grid_row": null,
      "grid_template_areas": null,
      "grid_template_columns": null,
      "grid_template_rows": null,
      "height": "800px",
      "justify_content": null,
      "justify_items": null,
      "left": null,
      "margin": null,
      "max_height": null,
      "max_width": null,
      "min_height": null,
      "min_width": null,
      "object_fit": null,
      "object_position": null,
      "order": null,
      "overflow": null,
      "overflow_x": null,
      "overflow_y": null,
      "padding": null,
      "right": null,
      "top": null,
      "visibility": null,
      "width": null
     }
    },
    "1978250860204202983a42cf92f0ec7b": {
     "model_module": "jupyter-leaflet",
     "model_module_version": "^0.16.0",
     "model_name": "LeafletMapStyleModel",
     "state": {
      "_model_module": "jupyter-leaflet",
      "_model_module_version": "^0.16.0",
      "_model_name": "LeafletMapStyleModel",
      "_view_count": null,
      "_view_module": "@jupyter-widgets/base",
      "_view_module_version": "1.2.0",
      "_view_name": "StyleView",
      "cursor": "grab"
     }
    },
    "1a0ca996f9f94c22ab088e7011e86f66": {
     "model_module": "jupyter-leaflet",
     "model_module_version": "^0.15.0",
     "model_name": "LeafletWidgetControlModel",
     "state": {
      "_model_module": "jupyter-leaflet",
      "_model_module_version": "^0.15.0",
      "_model_name": "LeafletWidgetControlModel",
      "_view_count": null,
      "_view_module": "jupyter-leaflet",
      "_view_module_version": "^0.15.0",
      "_view_name": "LeafletWidgetControlView",
      "max_height": null,
      "max_width": null,
      "min_height": null,
      "min_width": null,
      "options": [
       "position",
       "transparent_bg"
      ],
      "position": "bottomright",
      "transparent_bg": false,
      "widget": "IPY_MODEL_3114ac1055964ec386418fcbd6df2295"
     }
    },
    "1e3ac848909a40a8b5713f3b723f8cbd": {
     "model_module": "@jupyter-widgets/output",
     "model_module_version": "1.0.0",
     "model_name": "OutputModel",
     "state": {
      "_dom_classes": [],
      "_model_module": "@jupyter-widgets/output",
      "_model_module_version": "1.0.0",
      "_model_name": "OutputModel",
      "_view_count": null,
      "_view_module": "@jupyter-widgets/output",
      "_view_module_version": "1.0.0",
      "_view_name": "OutputView",
      "layout": "IPY_MODEL_70dd1b1d7a0241a0b457ab2900db21a5",
      "msg_id": "",
      "outputs": [
       {
        "data": {
         "image/png": "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\n",
         "text/plain": "<Figure size 28.8x288 with 1 Axes>"
        },
        "metadata": {
         "needs_background": "light"
        },
        "output_type": "display_data"
       }
      ]
     }
    },
    "1eb1afd145d447ccb99f5a547ba6b504": {
     "model_module": "@jupyter-widgets/base",
     "model_module_version": "1.2.0",
     "model_name": "LayoutModel",
     "state": {
      "_model_module": "@jupyter-widgets/base",
      "_model_module_version": "1.2.0",
      "_model_name": "LayoutModel",
      "_view_count": null,
      "_view_module": "@jupyter-widgets/base",
      "_view_module_version": "1.2.0",
      "_view_name": "LayoutView",
      "align_content": null,
      "align_items": null,
      "align_self": null,
      "border": null,
      "bottom": null,
      "display": null,
      "flex": null,
      "flex_flow": null,
      "grid_area": null,
      "grid_auto_columns": null,
      "grid_auto_flow": null,
      "grid_auto_rows": null,
      "grid_column": null,
      "grid_gap": null,
      "grid_row": null,
      "grid_template_areas": null,
      "grid_template_columns": null,
      "grid_template_rows": null,
      "height": null,
      "justify_content": null,
      "justify_items": null,
      "left": null,
      "margin": null,
      "max_height": null,
      "max_width": null,
      "min_height": null,
      "min_width": null,
      "object_fit": null,
      "object_position": null,
      "order": null,
      "overflow": null,
      "overflow_x": null,
      "overflow_y": null,
      "padding": null,
      "right": null,
      "top": null,
      "visibility": null,
      "width": null
     }
    },
    "1f8b9053f96d4d51b7c3bdddc4008d22": {
     "model_module": "jupyter-leaflet",
     "model_module_version": "^0.15.0",
     "model_name": "LeafletMapStyleModel",
     "state": {
      "_model_module": "jupyter-leaflet",
      "_model_module_version": "^0.15.0",
      "_model_name": "LeafletMapStyleModel",
      "_view_count": null,
      "_view_module": "@jupyter-widgets/base",
      "_view_module_version": "1.2.0",
      "_view_name": "StyleView",
      "cursor": "grab"
     }
    },
    "1fa66695a70c4adab00fa25e9abeaec9": {
     "model_module": "@jupyter-widgets/controls",
     "model_module_version": "1.5.0",
     "model_name": "ToggleButtonModel",
     "state": {
      "_dom_classes": [],
      "_model_module": "@jupyter-widgets/controls",
      "_model_module_version": "1.5.0",
      "_model_name": "ToggleButtonModel",
      "_view_count": null,
      "_view_module": "@jupyter-widgets/controls",
      "_view_module_version": "1.5.0",
      "_view_name": "ToggleButtonView",
      "button_style": "",
      "description": "",
      "description_tooltip": null,
      "disabled": false,
      "icon": "wrench",
      "layout": "IPY_MODEL_aa0701b2e48742a2b7180c42881ab149",
      "style": "IPY_MODEL_f1bc5886e07246718b2f8438ea6f5803",
      "tooltip": "Toolbar",
      "value": false
     }
    },
    "21c5caa86939483eb871f634c903eac2": {
     "model_module": "jupyter-leaflet",
     "model_module_version": "^0.16.0",
     "model_name": "LeafletMapModel",
     "state": {
      "_dom_classes": [],
      "_model_module": "jupyter-leaflet",
      "_model_module_version": "^0.16.0",
      "_model_name": "LeafletMapModel",
      "_view_count": null,
      "_view_module": "jupyter-leaflet",
      "_view_module_version": "^0.16.0",
      "_view_name": "LeafletMapView",
      "bottom": 8697183,
      "bounce_at_zoom_limits": true,
      "box_zoom": true,
      "center": [
       -6.600211501838919,
       -79.78018963282872
      ],
      "close_popup_on_click": true,
      "controls": [
       "IPY_MODEL_988e674bdbf1400e979b7003dc294b2d",
       "IPY_MODEL_bea81ce2f5db45cd9a9ddc02b4333392",
       "IPY_MODEL_2ada0f2bb5f646da9356cc62fa3fb52a",
       "IPY_MODEL_901febfcf007485a825c7f13e3d561bc",
       "IPY_MODEL_6a3384a618744c3ca2551a8acd422a85",
       "IPY_MODEL_d44fe0cf832843c0851f44b50d497427",
       "IPY_MODEL_0e280aa715ca4056a2f545cab86b7a09",
       "IPY_MODEL_ccee0ccb69a04dbaa967416212355932",
       "IPY_MODEL_5134839b67c64bb39d58ea3882e333a4"
      ],
      "crs": {
       "custom": false,
       "name": "EPSG3857"
      },
      "default_style": "IPY_MODEL_fc1a92359bf14282ac356b62205a5be6",
      "double_click_zoom": true,
      "dragging": true,
      "dragging_style": "IPY_MODEL_2a035b77852d4fb29b988ed4022df8f4",
      "east": -79.76524829864503,
      "fullscreen": false,
      "inertia": true,
      "inertia_deceleration": 3000,
      "inertia_max_speed": 1500,
      "interpolation": "bilinear",
      "keyboard": true,
      "keyboard_pan_offset": 80,
      "keyboard_zoom_offset": 1,
      "layers": [
       "IPY_MODEL_effc10ef76a94242b46256c60d19fa67",
       "IPY_MODEL_72cb74c4522340a7804f018137f6abb1",
       "IPY_MODEL_d01e52320e53449e9cfeae696217e2ed",
       "IPY_MODEL_9b886edfb6bc43b08b81153deb313f48"
      ],
      "layout": "IPY_MODEL_b8350cc42131462f9c42c876d9080835",
      "left": 4669886,
      "max_zoom": 24,
      "min_zoom": 1,
      "modisdate": "2022-04-22",
      "north": -6.593823086150921,
      "options": [
       "bounce_at_zoom_limits",
       "box_zoom",
       "center",
       "close_popup_on_click",
       "double_click_zoom",
       "dragging",
       "fullscreen",
       "inertia",
       "inertia_deceleration",
       "inertia_max_speed",
       "interpolation",
       "keyboard",
       "keyboard_pan_offset",
       "keyboard_zoom_offset",
       "max_zoom",
       "min_zoom",
       "prefer_canvas",
       "scroll_wheel_zoom",
       "tap",
       "tap_tolerance",
       "touch_zoom",
       "world_copy_jump",
       "zoom",
       "zoom_animation_threshold",
       "zoom_delta",
       "zoom_snap",
       "zoom_start"
      ],
      "prefer_canvas": false,
      "right": 4671278,
      "scroll_wheel_zoom": true,
      "south": -6.606612360758266,
      "style": "IPY_MODEL_1248487969d7473a9cbbe4b485b7bd29",
      "tap": true,
      "tap_tolerance": 15,
      "top": 8696583,
      "touch_zoom": true,
      "west": -79.79511737823488,
      "window_url": "https://8gj3w0kqnim-496ff2e9c6d22116-0-colab.googleusercontent.com/outputframe.html?vrz=colab-20220421-060046-RC00_443335036",
      "world_copy_jump": false,
      "zoom": 16,
      "zoom_animation_threshold": 4,
      "zoom_delta": 1,
      "zoom_snap": 1,
      "zoom_start": 12
     }
    },
    "26c073dc79a8496c9a341ae16f715d14": {
     "model_module": "jupyter-leaflet",
     "model_module_version": "^0.15.0",
     "model_name": "LeafletWidgetControlModel",
     "state": {
      "_model_module": "jupyter-leaflet",
      "_model_module_version": "^0.15.0",
      "_model_name": "LeafletWidgetControlModel",
      "_view_count": null,
      "_view_module": "jupyter-leaflet",
      "_view_module_version": "^0.15.0",
      "_view_name": "LeafletWidgetControlView",
      "max_height": null,
      "max_width": null,
      "min_height": null,
      "min_width": null,
      "options": [
       "position",
       "transparent_bg"
      ],
      "position": "topright",
      "transparent_bg": false,
      "widget": "IPY_MODEL_09f51ee634c64e6ba9ece93acaa64799"
     }
    },
    "298637e09be84d2f8c7e45239dbd38a6": {
     "model_module": "jupyter-leaflet",
     "model_module_version": "^0.16.0",
     "model_name": "LeafletTileLayerModel",
     "state": {
      "_model_module": "jupyter-leaflet",
      "_model_module_version": "^0.16.0",
      "_model_name": "LeafletTileLayerModel",
      "_view_count": null,
      "_view_module": "jupyter-leaflet",
      "_view_module_version": "^0.16.0",
      "_view_name": "LeafletTileLayerView",
      "attribution": "Google Earth Engine",
      "base": false,
      "bottom": true,
      "bounds": null,
      "detect_retina": false,
      "loading": false,
      "max_native_zoom": 18,
      "max_zoom": 24,
      "min_native_zoom": 0,
      "min_zoom": 0,
      "name": "Limite Distrito",
      "no_wrap": false,
      "opacity": 1,
      "options": [
       "attribution",
       "bounds",
       "detect_retina",
       "max_native_zoom",
       "max_zoom",
       "min_native_zoom",
       "min_zoom",
       "no_wrap",
       "tile_size",
       "tms"
      ],
      "popup": null,
      "popup_max_height": null,
      "popup_max_width": 300,
      "popup_min_width": 50,
      "show_loading": false,
      "tile_size": 256,
      "tms": false,
      "url": "https://earthengine.googleapis.com/v1alpha/projects/earthengine-legacy/maps/cada51a39811ea25693eaa6528207b4d-546a57ee7f214bc80be918d6f3a65c01/tiles/{z}/{x}/{y}",
      "visible": true
     }
    },
    "2a035b77852d4fb29b988ed4022df8f4": {
     "model_module": "jupyter-leaflet",
     "model_module_version": "^0.16.0",
     "model_name": "LeafletMapStyleModel",
     "state": {
      "_model_module": "jupyter-leaflet",
      "_model_module_version": "^0.16.0",
      "_model_name": "LeafletMapStyleModel",
      "_view_count": null,
      "_view_module": "@jupyter-widgets/base",
      "_view_module_version": "1.2.0",
      "_view_name": "StyleView",
      "cursor": "move"
     }
    },
    "2ada0f2bb5f646da9356cc62fa3fb52a": {
     "model_module": "jupyter-leaflet",
     "model_module_version": "^0.16.0",
     "model_name": "LeafletScaleControlModel",
     "state": {
      "_model_module": "jupyter-leaflet",
      "_model_module_version": "^0.16.0",
      "_model_name": "LeafletScaleControlModel",
      "_view_count": null,
      "_view_module": "jupyter-leaflet",
      "_view_module_version": "^0.16.0",
      "_view_name": "LeafletScaleControlView",
      "imperial": true,
      "max_width": 100,
      "metric": true,
      "options": [
       "imperial",
       "max_width",
       "metric",
       "position",
       "update_when_idle"
      ],
      "position": "bottomleft",
      "update_when_idle": false
     }
    },
    "3114ac1055964ec386418fcbd6df2295": {
     "model_module": "@jupyter-widgets/output",
     "model_module_version": "1.0.0",
     "model_name": "OutputModel",
     "state": {
      "_dom_classes": [],
      "_model_module": "@jupyter-widgets/output",
      "_model_module_version": "1.0.0",
      "_model_name": "OutputModel",
      "_view_count": null,
      "_view_module": "@jupyter-widgets/output",
      "_view_module_version": "1.0.0",
      "_view_name": "OutputView",
      "layout": "IPY_MODEL_03c4571fd8394ef1a05c024a4d15bd7d",
      "msg_id": "",
      "outputs": [
       {
        "data": {
         "image/png": "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\n",
         "text/plain": "<Figure size 28.8x288 with 1 Axes>"
        },
        "metadata": {
         "needs_background": "light"
        },
        "output_type": "display_data"
       }
      ]
     }
    },
    "31e2e4b63fad4cc29e03cd3a65826492": {
     "model_module": "jupyter-leaflet",
     "model_module_version": "^0.16.0",
     "model_name": "LeafletWidgetControlModel",
     "state": {
      "_model_module": "jupyter-leaflet",
      "_model_module_version": "^0.16.0",
      "_model_name": "LeafletWidgetControlModel",
      "_view_count": null,
      "_view_module": "jupyter-leaflet",
      "_view_module_version": "^0.16.0",
      "_view_name": "LeafletWidgetControlView",
      "max_height": null,
      "max_width": null,
      "min_height": null,
      "min_width": null,
      "options": [
       "position",
       "transparent_bg"
      ],
      "position": "topleft",
      "transparent_bg": false,
      "widget": "IPY_MODEL_896f0e14c5a94fa5a12efe89bb2241a0"
     }
    },
    "34f1433956fe487ca435414bb2eeafcf": {
     "model_module": "@jupyter-widgets/base",
     "model_module_version": "1.2.0",
     "model_name": "LayoutModel",
     "state": {
      "_model_module": "@jupyter-widgets/base",
      "_model_module_version": "1.2.0",
      "_model_name": "LayoutModel",
      "_view_count": null,
      "_view_module": "@jupyter-widgets/base",
      "_view_module_version": "1.2.0",
      "_view_name": "LayoutView",
      "align_content": null,
      "align_items": null,
      "align_self": null,
      "border": null,
      "bottom": null,
      "display": null,
      "flex": null,
      "flex_flow": null,
      "grid_area": null,
      "grid_auto_columns": null,
      "grid_auto_flow": null,
      "grid_auto_rows": null,
      "grid_column": null,
      "grid_gap": null,
      "grid_row": null,
      "grid_template_areas": null,
      "grid_template_columns": null,
      "grid_template_rows": null,
      "height": null,
      "justify_content": null,
      "justify_items": null,
      "left": null,
      "margin": null,
      "max_height": null,
      "max_width": null,
      "min_height": null,
      "min_width": null,
      "object_fit": null,
      "object_position": null,
      "order": null,
      "overflow": null,
      "overflow_x": null,
      "overflow_y": null,
      "padding": null,
      "right": null,
      "top": null,
      "visibility": null,
      "width": null
     }
    },
    "39329773390d4de3ba247f2258097062": {
     "model_module": "jupyter-leaflet",
     "model_module_version": "^0.16.0",
     "model_name": "LeafletTileLayerModel",
     "state": {
      "_model_module": "jupyter-leaflet",
      "_model_module_version": "^0.16.0",
      "_model_name": "LeafletTileLayerModel",
      "_view_count": null,
      "_view_module": "jupyter-leaflet",
      "_view_module_version": "^0.16.0",
      "_view_name": "LeafletTileLayerView",
      "attribution": "Google Earth Engine",
      "base": false,
      "bottom": true,
      "bounds": null,
      "detect_retina": false,
      "loading": false,
      "max_native_zoom": 18,
      "max_zoom": 24,
      "min_native_zoom": 0,
      "min_zoom": 0,
      "name": "20211220",
      "no_wrap": false,
      "opacity": 1,
      "options": [
       "attribution",
       "bounds",
       "detect_retina",
       "max_native_zoom",
       "max_zoom",
       "min_native_zoom",
       "min_zoom",
       "no_wrap",
       "tile_size",
       "tms"
      ],
      "popup": null,
      "popup_max_height": null,
      "popup_max_width": 300,
      "popup_min_width": 50,
      "show_loading": false,
      "tile_size": 256,
      "tms": false,
      "url": "https://earthengine.googleapis.com/v1alpha/projects/earthengine-legacy/maps/40b9da2ef875c8b9820d0de627c960bc-d4ee08a7d74a6bd7f7c2e326956bf058/tiles/{z}/{x}/{y}",
      "visible": true
     }
    },
    "3c8b1a285340436c83dabdd1580ac38e": {
     "model_module": "jupyter-leaflet",
     "model_module_version": "^0.15.0",
     "model_name": "LeafletScaleControlModel",
     "state": {
      "_model_module": "jupyter-leaflet",
      "_model_module_version": "^0.15.0",
      "_model_name": "LeafletScaleControlModel",
      "_view_count": null,
      "_view_module": "jupyter-leaflet",
      "_view_module_version": "^0.15.0",
      "_view_name": "LeafletScaleControlView",
      "imperial": true,
      "max_width": 100,
      "metric": true,
      "options": [
       "imperial",
       "max_width",
       "metric",
       "position",
       "update_when_idle"
      ],
      "position": "bottomleft",
      "update_when_idle": false
     }
    },
    "3fb51a610a524f05beb343d22bd5bef2": {
     "model_module": "@jupyter-widgets/controls",
     "model_module_version": "1.5.0",
     "model_name": "DescriptionStyleModel",
     "state": {
      "_model_module": "@jupyter-widgets/controls",
      "_model_module_version": "1.5.0",
      "_model_name": "DescriptionStyleModel",
      "_view_count": null,
      "_view_module": "@jupyter-widgets/base",
      "_view_module_version": "1.2.0",
      "_view_name": "StyleView",
      "description_width": ""
     }
    },
    "477184a859424d6dbd195e19db153f8a": {
     "model_module": "jupyter-leaflet",
     "model_module_version": "^0.16.0",
     "model_name": "LeafletMapModel",
     "state": {
      "_dom_classes": [],
      "_model_module": "jupyter-leaflet",
      "_model_module_version": "^0.16.0",
      "_model_name": "LeafletMapModel",
      "_view_count": null,
      "_view_module": "jupyter-leaflet",
      "_view_module_version": "^0.16.0",
      "_view_name": "LeafletMapView",
      "bottom": 1087659,
      "bounce_at_zoom_limits": true,
      "box_zoom": true,
      "center": [
       -6.6255181220513455,
       -79.7985741891281
      ],
      "close_popup_on_click": true,
      "controls": [
       "IPY_MODEL_31e2e4b63fad4cc29e03cd3a65826492",
       "IPY_MODEL_8e39efabb85c4769b77173413b7cbc41",
       "IPY_MODEL_e145b14ba1e44c1b93edfa72a228e1a5",
       "IPY_MODEL_e3ae36c76ad34384940abf8081a39fbe",
       "IPY_MODEL_b510787654ec490b9f61b9f879e44999",
       "IPY_MODEL_589a950d76324634add8d1d5eabe18de",
       "IPY_MODEL_904a33484b144a8ea559cfb239ae22d1",
       "IPY_MODEL_9e1d70fac199455da457c0384f192678"
      ],
      "crs": {
       "custom": false,
       "name": "EPSG3857"
      },
      "default_style": "IPY_MODEL_1978250860204202983a42cf92f0ec7b",
      "double_click_zoom": true,
      "dragging": true,
      "dragging_style": "IPY_MODEL_69fa1787ff7b428aa47ce7118acf568b",
      "east": -79.67903137207033,
      "fullscreen": false,
      "inertia": true,
      "inertia_deceleration": 3000,
      "inertia_max_speed": 1500,
      "interpolation": "bilinear",
      "keyboard": true,
      "keyboard_pan_offset": 80,
      "keyboard_zoom_offset": 1,
      "layers": [
       "IPY_MODEL_5b2795c7920246739d757b875c8cca54",
       "IPY_MODEL_4a6e2cc034bd414faedf1b2c850647ce",
       "IPY_MODEL_e5374e9b2b2940edac6fcbdec8110ee6",
       "IPY_MODEL_6325886bfe984681889ffaac32ce7ac0",
       "IPY_MODEL_39329773390d4de3ba247f2258097062",
       "IPY_MODEL_d62846c0569f49c58dc390ede5a3950a",
       "IPY_MODEL_a08456f0d5d54412bfd5848e15c863b5",
       "IPY_MODEL_c590ba513fa648d8b1f205d01a12fb04",
       "IPY_MODEL_53d8bb612dfe4962b87768d5454351e3",
       "IPY_MODEL_5a0988c808a6445ea836318f64325940",
       "IPY_MODEL_0028af2a29d742a3ba79182899c3764f",
       "IPY_MODEL_6d4523315ef4460a856ee7624d41479a",
       "IPY_MODEL_298637e09be84d2f8c7e45239dbd38a6",
       "IPY_MODEL_eec700aefe14417292f15c3eae20140d",
       "IPY_MODEL_e8c16644446e48ecade63d1a09f07ea1"
      ],
      "layout": "IPY_MODEL_1806cc25be534b35a6ebf70e2d108240",
      "left": 583020,
      "max_zoom": 24,
      "min_zoom": 1,
      "modisdate": "2022-04-13",
      "north": -6.557350527870049,
      "options": [
       "bounce_at_zoom_limits",
       "box_zoom",
       "center",
       "close_popup_on_click",
       "double_click_zoom",
       "dragging",
       "fullscreen",
       "inertia",
       "inertia_deceleration",
       "inertia_max_speed",
       "interpolation",
       "keyboard",
       "keyboard_pan_offset",
       "keyboard_zoom_offset",
       "max_zoom",
       "min_zoom",
       "prefer_canvas",
       "scroll_wheel_zoom",
       "tap",
       "tap_tolerance",
       "touch_zoom",
       "world_copy_jump",
       "zoom",
       "zoom_animation_threshold",
       "zoom_delta",
       "zoom_snap",
       "zoom_start"
      ],
      "prefer_canvas": false,
      "right": 584412,
      "scroll_wheel_zoom": true,
      "south": -6.6937624301628516,
      "style": "IPY_MODEL_a849439318444b82b32cd8527d15a358",
      "tap": true,
      "tap_tolerance": 15,
      "top": 1086859,
      "touch_zoom": true,
      "west": -79.91798400878908,
      "window_url": "https://we2hq5k0ara-496ff2e9c6d22116-0-colab.googleusercontent.com/outputframe.html?vrz=colab-20220412-060046-RC00_441141632",
      "world_copy_jump": false,
      "zoom": 13,
      "zoom_animation_threshold": 4,
      "zoom_delta": 1,
      "zoom_snap": 1,
      "zoom_start": 12
     }
    },
    "4a6e2cc034bd414faedf1b2c850647ce": {
     "model_module": "jupyter-leaflet",
     "model_module_version": "^0.16.0",
     "model_name": "LeafletTileLayerModel",
     "state": {
      "_model_module": "jupyter-leaflet",
      "_model_module_version": "^0.16.0",
      "_model_name": "LeafletTileLayerModel",
      "_view_count": null,
      "_view_module": "jupyter-leaflet",
      "_view_module_version": "^0.16.0",
      "_view_name": "LeafletTileLayerView",
      "attribution": "Google",
      "base": false,
      "bottom": true,
      "bounds": null,
      "detect_retina": false,
      "loading": false,
      "max_native_zoom": 18,
      "max_zoom": 22,
      "min_native_zoom": 0,
      "min_zoom": 0,
      "name": "Google Maps",
      "no_wrap": false,
      "opacity": 1,
      "options": [
       "attribution",
       "bounds",
       "detect_retina",
       "max_native_zoom",
       "max_zoom",
       "min_native_zoom",
       "min_zoom",
       "no_wrap",
       "tile_size",
       "tms"
      ],
      "popup": null,
      "popup_max_height": null,
      "popup_max_width": 300,
      "popup_min_width": 50,
      "show_loading": false,
      "tile_size": 256,
      "tms": false,
      "url": "https://mt1.google.com/vt/lyrs=m&x={x}&y={y}&z={z}",
      "visible": true
     }
    },
    "5134839b67c64bb39d58ea3882e333a4": {
     "model_module": "jupyter-leaflet",
     "model_module_version": "^0.16.0",
     "model_name": "LeafletWidgetControlModel",
     "state": {
      "_model_module": "jupyter-leaflet",
      "_model_module_version": "^0.16.0",
      "_model_name": "LeafletWidgetControlModel",
      "_view_count": null,
      "_view_module": "jupyter-leaflet",
      "_view_module_version": "^0.16.0",
      "_view_name": "LeafletWidgetControlView",
      "max_height": null,
      "max_width": null,
      "min_height": null,
      "min_width": null,
      "options": [
       "position",
       "transparent_bg"
      ],
      "position": "bottomright",
      "transparent_bg": false,
      "widget": "IPY_MODEL_1e3ac848909a40a8b5713f3b723f8cbd"
     }
    },
    "53d8bb612dfe4962b87768d5454351e3": {
     "model_module": "jupyter-leaflet",
     "model_module_version": "^0.16.0",
     "model_name": "LeafletTileLayerModel",
     "state": {
      "_model_module": "jupyter-leaflet",
      "_model_module_version": "^0.16.0",
      "_model_name": "LeafletTileLayerModel",
      "_view_count": null,
      "_view_module": "jupyter-leaflet",
      "_view_module_version": "^0.16.0",
      "_view_name": "LeafletTileLayerView",
      "attribution": "Google Earth Engine",
      "base": false,
      "bottom": true,
      "bounds": null,
      "detect_retina": false,
      "loading": false,
      "max_native_zoom": 18,
      "max_zoom": 24,
      "min_native_zoom": 0,
      "min_zoom": 0,
      "name": "20220121",
      "no_wrap": false,
      "opacity": 1,
      "options": [
       "attribution",
       "bounds",
       "detect_retina",
       "max_native_zoom",
       "max_zoom",
       "min_native_zoom",
       "min_zoom",
       "no_wrap",
       "tile_size",
       "tms"
      ],
      "popup": null,
      "popup_max_height": null,
      "popup_max_width": 300,
      "popup_min_width": 50,
      "show_loading": false,
      "tile_size": 256,
      "tms": false,
      "url": "https://earthengine.googleapis.com/v1alpha/projects/earthengine-legacy/maps/c726f9021957e8e8f529042aab6a1930-a7dd80a07cea2f35812132082cee85ae/tiles/{z}/{x}/{y}",
      "visible": true
     }
    },
    "55fbb5f826094a15bfb9e263a4178074": {
     "model_module": "jupyter-leaflet",
     "model_module_version": "^0.15.0",
     "model_name": "LeafletMapStyleModel",
     "state": {
      "_model_module": "jupyter-leaflet",
      "_model_module_version": "^0.15.0",
      "_model_name": "LeafletMapStyleModel",
      "_view_count": null,
      "_view_module": "@jupyter-widgets/base",
      "_view_module_version": "1.2.0",
      "_view_name": "StyleView",
      "cursor": "grab"
     }
    },
    "574c4d4799c44ca69d81f7f502860fff": {
     "model_module": "@jupyter-widgets/controls",
     "model_module_version": "1.5.0",
     "model_name": "ToggleButtonModel",
     "state": {
      "_dom_classes": [],
      "_model_module": "@jupyter-widgets/controls",
      "_model_module_version": "1.5.0",
      "_model_name": "ToggleButtonModel",
      "_view_count": null,
      "_view_module": "@jupyter-widgets/controls",
      "_view_module_version": "1.5.0",
      "_view_name": "ToggleButtonView",
      "button_style": "",
      "description": "",
      "description_tooltip": null,
      "disabled": false,
      "icon": "globe",
      "layout": "IPY_MODEL_db54401f099a42e989b95227f5dd34b9",
      "style": "IPY_MODEL_3fb51a610a524f05beb343d22bd5bef2",
      "tooltip": "Search location/data",
      "value": false
     }
    },
    "589a950d76324634add8d1d5eabe18de": {
     "model_module": "jupyter-leaflet",
     "model_module_version": "^0.16.0",
     "model_name": "LeafletAttributionControlModel",
     "state": {
      "_model_module": "jupyter-leaflet",
      "_model_module_version": "^0.16.0",
      "_model_name": "LeafletAttributionControlModel",
      "_view_count": null,
      "_view_module": "jupyter-leaflet",
      "_view_module_version": "^0.16.0",
      "_view_name": "LeafletAttributionControlView",
      "options": [
       "position",
       "prefix"
      ],
      "position": "bottomright",
      "prefix": "ipyleaflet"
     }
    },
    "5a0988c808a6445ea836318f64325940": {
     "model_module": "jupyter-leaflet",
     "model_module_version": "^0.16.0",
     "model_name": "LeafletTileLayerModel",
     "state": {
      "_model_module": "jupyter-leaflet",
      "_model_module_version": "^0.16.0",
      "_model_name": "LeafletTileLayerModel",
      "_view_count": null,
      "_view_module": "jupyter-leaflet",
      "_view_module_version": "^0.16.0",
      "_view_name": "LeafletTileLayerView",
      "attribution": "Google Earth Engine",
      "base": false,
      "bottom": true,
      "bounds": null,
      "detect_retina": false,
      "loading": false,
      "max_native_zoom": 18,
      "max_zoom": 24,
      "min_native_zoom": 0,
      "min_zoom": 0,
      "name": "20220129",
      "no_wrap": false,
      "opacity": 1,
      "options": [
       "attribution",
       "bounds",
       "detect_retina",
       "max_native_zoom",
       "max_zoom",
       "min_native_zoom",
       "min_zoom",
       "no_wrap",
       "tile_size",
       "tms"
      ],
      "popup": null,
      "popup_max_height": null,
      "popup_max_width": 300,
      "popup_min_width": 50,
      "show_loading": false,
      "tile_size": 256,
      "tms": false,
      "url": "https://earthengine.googleapis.com/v1alpha/projects/earthengine-legacy/maps/1d4ea4f99111c61d46390b633b93dee5-eb938270c8387805c12891f9504284f9/tiles/{z}/{x}/{y}",
      "visible": true
     }
    },
    "5b2795c7920246739d757b875c8cca54": {
     "model_module": "jupyter-leaflet",
     "model_module_version": "^0.16.0",
     "model_name": "LeafletTileLayerModel",
     "state": {
      "_model_module": "jupyter-leaflet",
      "_model_module_version": "^0.16.0",
      "_model_name": "LeafletTileLayerModel",
      "_view_count": null,
      "_view_module": "jupyter-leaflet",
      "_view_module_version": "^0.16.0",
      "_view_name": "LeafletTileLayerView",
      "attribution": "&copy; <a href=\"https://www.openstreetmap.org/copyright\">OpenStreetMap</a> contributors",
      "base": true,
      "bottom": true,
      "bounds": null,
      "detect_retina": false,
      "loading": false,
      "max_native_zoom": 18,
      "max_zoom": 19,
      "min_native_zoom": 0,
      "min_zoom": 1,
      "name": "OpenStreetMap.Mapnik",
      "no_wrap": false,
      "opacity": 1,
      "options": [
       "attribution",
       "bounds",
       "detect_retina",
       "max_native_zoom",
       "max_zoom",
       "min_native_zoom",
       "min_zoom",
       "no_wrap",
       "tile_size",
       "tms"
      ],
      "popup": null,
      "popup_max_height": null,
      "popup_max_width": 300,
      "popup_min_width": 50,
      "show_loading": false,
      "tile_size": 256,
      "tms": false,
      "url": "https://a.tile.openstreetmap.org/{z}/{x}/{y}.png",
      "visible": true
     }
    },
    "6325886bfe984681889ffaac32ce7ac0": {
     "model_module": "jupyter-leaflet",
     "model_module_version": "^0.16.0",
     "model_name": "LeafletTileLayerModel",
     "state": {
      "_model_module": "jupyter-leaflet",
      "_model_module_version": "^0.16.0",
      "_model_name": "LeafletTileLayerModel",
      "_view_count": null,
      "_view_module": "jupyter-leaflet",
      "_view_module_version": "^0.16.0",
      "_view_name": "LeafletTileLayerView",
      "attribution": "Google Earth Engine",
      "base": false,
      "bottom": true,
      "bounds": null,
      "detect_retina": false,
      "loading": false,
      "max_native_zoom": 18,
      "max_zoom": 24,
      "min_native_zoom": 0,
      "min_zoom": 0,
      "name": "20211212",
      "no_wrap": false,
      "opacity": 1,
      "options": [
       "attribution",
       "bounds",
       "detect_retina",
       "max_native_zoom",
       "max_zoom",
       "min_native_zoom",
       "min_zoom",
       "no_wrap",
       "tile_size",
       "tms"
      ],
      "popup": null,
      "popup_max_height": null,
      "popup_max_width": 300,
      "popup_min_width": 50,
      "show_loading": false,
      "tile_size": 256,
      "tms": false,
      "url": "https://earthengine.googleapis.com/v1alpha/projects/earthengine-legacy/maps/4dc6e8822011b498633946532dc9269c-6b8d0d3d6ba7a58aed180b8f5a4dbf33/tiles/{z}/{x}/{y}",
      "visible": true
     }
    },
    "66b348c3dd154b31a1040426b9dc0aee": {
     "model_module": "jupyter-leaflet",
     "model_module_version": "^0.15.0",
     "model_name": "LeafletAttributionControlModel",
     "state": {
      "_model_module": "jupyter-leaflet",
      "_model_module_version": "^0.15.0",
      "_model_name": "LeafletAttributionControlModel",
      "_view_count": null,
      "_view_module": "jupyter-leaflet",
      "_view_module_version": "^0.15.0",
      "_view_name": "LeafletAttributionControlView",
      "options": [
       "position",
       "prefix"
      ],
      "position": "bottomright",
      "prefix": "ipyleaflet"
     }
    },
    "673cf59bc7254fd097c74f8640729431": {
     "model_module": "jupyter-leaflet",
     "model_module_version": "^0.15.0",
     "model_name": "LeafletWidgetControlModel",
     "state": {
      "_model_module": "jupyter-leaflet",
      "_model_module_version": "^0.15.0",
      "_model_name": "LeafletWidgetControlModel",
      "_view_count": null,
      "_view_module": "jupyter-leaflet",
      "_view_module_version": "^0.15.0",
      "_view_name": "LeafletWidgetControlView",
      "max_height": null,
      "max_width": null,
      "min_height": null,
      "min_width": null,
      "options": [
       "position",
       "transparent_bg"
      ],
      "position": "topleft",
      "transparent_bg": false,
      "widget": "IPY_MODEL_14b11b79c7ef4d35b7cc276a7c5b4f9c"
     }
    },
    "67c1d8f0bb534d5b8398c248a9f739b8": {
     "model_module": "@jupyter-widgets/base",
     "model_module_version": "1.2.0",
     "model_name": "LayoutModel",
     "state": {
      "_model_module": "@jupyter-widgets/base",
      "_model_module_version": "1.2.0",
      "_model_name": "LayoutModel",
      "_view_count": null,
      "_view_module": "@jupyter-widgets/base",
      "_view_module_version": "1.2.0",
      "_view_name": "LayoutView",
      "align_content": null,
      "align_items": null,
      "align_self": null,
      "border": null,
      "bottom": null,
      "display": null,
      "flex": null,
      "flex_flow": null,
      "grid_area": null,
      "grid_auto_columns": null,
      "grid_auto_flow": null,
      "grid_auto_rows": null,
      "grid_column": null,
      "grid_gap": null,
      "grid_row": null,
      "grid_template_areas": null,
      "grid_template_columns": null,
      "grid_template_rows": null,
      "height": null,
      "justify_content": null,
      "justify_items": null,
      "left": null,
      "margin": null,
      "max_height": null,
      "max_width": null,
      "min_height": null,
      "min_width": null,
      "object_fit": null,
      "object_position": null,
      "order": null,
      "overflow": null,
      "overflow_x": null,
      "overflow_y": null,
      "padding": null,
      "right": null,
      "top": null,
      "visibility": null,
      "width": null
     }
    },
    "69fa1787ff7b428aa47ce7118acf568b": {
     "model_module": "jupyter-leaflet",
     "model_module_version": "^0.16.0",
     "model_name": "LeafletMapStyleModel",
     "state": {
      "_model_module": "jupyter-leaflet",
      "_model_module_version": "^0.16.0",
      "_model_name": "LeafletMapStyleModel",
      "_view_count": null,
      "_view_module": "@jupyter-widgets/base",
      "_view_module_version": "1.2.0",
      "_view_name": "StyleView",
      "cursor": "move"
     }
    },
    "6a3384a618744c3ca2551a8acd422a85": {
     "model_module": "jupyter-leaflet",
     "model_module_version": "^0.16.0",
     "model_name": "LeafletMeasureControlModel",
     "state": {
      "_custom_units": {},
      "_model_module": "jupyter-leaflet",
      "_model_module_version": "^0.16.0",
      "_model_name": "LeafletMeasureControlModel",
      "_view_count": null,
      "_view_module": "jupyter-leaflet",
      "_view_module_version": "^0.16.0",
      "_view_name": "LeafletMeasureControlView",
      "active_color": "orange",
      "capture_z_index": 10000,
      "completed_color": "#C8F2BE",
      "options": [
       "active_color",
       "capture_z_index",
       "completed_color",
       "popup_options",
       "position",
       "primary_area_unit",
       "primary_length_unit",
       "secondary_area_unit",
       "secondary_length_unit"
      ],
      "popup_options": {
       "autoPanPadding": [
        10,
        10
       ],
       "className": "leaflet-measure-resultpopup"
      },
      "position": "bottomleft",
      "primary_area_unit": "acres",
      "primary_length_unit": "kilometers",
      "secondary_area_unit": null,
      "secondary_length_unit": null
     }
    },
    "6d4523315ef4460a856ee7624d41479a": {
     "model_module": "jupyter-leaflet",
     "model_module_version": "^0.16.0",
     "model_name": "LeafletTileLayerModel",
     "state": {
      "_model_module": "jupyter-leaflet",
      "_model_module_version": "^0.16.0",
      "_model_name": "LeafletTileLayerModel",
      "_view_count": null,
      "_view_module": "jupyter-leaflet",
      "_view_module_version": "^0.16.0",
      "_view_name": "LeafletTileLayerView",
      "attribution": "Google Earth Engine",
      "base": false,
      "bottom": true,
      "bounds": null,
      "detect_retina": false,
      "loading": false,
      "max_native_zoom": 18,
      "max_zoom": 24,
      "min_native_zoom": 0,
      "min_zoom": 0,
      "name": "20220310",
      "no_wrap": false,
      "opacity": 1,
      "options": [
       "attribution",
       "bounds",
       "detect_retina",
       "max_native_zoom",
       "max_zoom",
       "min_native_zoom",
       "min_zoom",
       "no_wrap",
       "tile_size",
       "tms"
      ],
      "popup": null,
      "popup_max_height": null,
      "popup_max_width": 300,
      "popup_min_width": 50,
      "show_loading": false,
      "tile_size": 256,
      "tms": false,
      "url": "https://earthengine.googleapis.com/v1alpha/projects/earthengine-legacy/maps/07c2fda19e2146111d62f269e187512d-e4752661e557cc3ee22d60d59d20693d/tiles/{z}/{x}/{y}",
      "visible": true
     }
    },
    "6dea706511704698b44b1345994bde51": {
     "model_module": "@jupyter-widgets/base",
     "model_module_version": "1.2.0",
     "model_name": "LayoutModel",
     "state": {
      "_model_module": "@jupyter-widgets/base",
      "_model_module_version": "1.2.0",
      "_model_name": "LayoutModel",
      "_view_count": null,
      "_view_module": "@jupyter-widgets/base",
      "_view_module_version": "1.2.0",
      "_view_name": "LayoutView",
      "align_content": null,
      "align_items": null,
      "align_self": null,
      "border": null,
      "bottom": null,
      "display": null,
      "flex": null,
      "flex_flow": null,
      "grid_area": null,
      "grid_auto_columns": null,
      "grid_auto_flow": null,
      "grid_auto_rows": null,
      "grid_column": null,
      "grid_gap": null,
      "grid_row": null,
      "grid_template_areas": null,
      "grid_template_columns": null,
      "grid_template_rows": null,
      "height": null,
      "justify_content": null,
      "justify_items": null,
      "left": null,
      "margin": null,
      "max_height": null,
      "max_width": null,
      "min_height": null,
      "min_width": null,
      "object_fit": null,
      "object_position": null,
      "order": null,
      "overflow": null,
      "overflow_x": null,
      "overflow_y": null,
      "padding": null,
      "right": null,
      "top": null,
      "visibility": null,
      "width": null
     }
    },
    "70dd1b1d7a0241a0b457ab2900db21a5": {
     "model_module": "@jupyter-widgets/base",
     "model_module_version": "1.2.0",
     "model_name": "LayoutModel",
     "state": {
      "_model_module": "@jupyter-widgets/base",
      "_model_module_version": "1.2.0",
      "_model_name": "LayoutModel",
      "_view_count": null,
      "_view_module": "@jupyter-widgets/base",
      "_view_module_version": "1.2.0",
      "_view_name": "LayoutView",
      "align_content": null,
      "align_items": null,
      "align_self": null,
      "border": null,
      "bottom": null,
      "display": null,
      "flex": null,
      "flex_flow": null,
      "grid_area": null,
      "grid_auto_columns": null,
      "grid_auto_flow": null,
      "grid_auto_rows": null,
      "grid_column": null,
      "grid_gap": null,
      "grid_row": null,
      "grid_template_areas": null,
      "grid_template_columns": null,
      "grid_template_rows": null,
      "height": null,
      "justify_content": null,
      "justify_items": null,
      "left": null,
      "margin": null,
      "max_height": null,
      "max_width": null,
      "min_height": null,
      "min_width": null,
      "object_fit": null,
      "object_position": null,
      "order": null,
      "overflow": null,
      "overflow_x": null,
      "overflow_y": null,
      "padding": null,
      "right": null,
      "top": null,
      "visibility": null,
      "width": null
     }
    },
    "72cb74c4522340a7804f018137f6abb1": {
     "model_module": "jupyter-leaflet",
     "model_module_version": "^0.16.0",
     "model_name": "LeafletTileLayerModel",
     "state": {
      "_model_module": "jupyter-leaflet",
      "_model_module_version": "^0.16.0",
      "_model_name": "LeafletTileLayerModel",
      "_view_count": null,
      "_view_module": "jupyter-leaflet",
      "_view_module_version": "^0.16.0",
      "_view_name": "LeafletTileLayerView",
      "attribution": "Google",
      "base": false,
      "bottom": true,
      "bounds": null,
      "detect_retina": false,
      "loading": false,
      "max_native_zoom": 18,
      "max_zoom": 22,
      "min_native_zoom": 0,
      "min_zoom": 0,
      "name": "Google Maps",
      "no_wrap": false,
      "opacity": 1,
      "options": [
       "attribution",
       "bounds",
       "detect_retina",
       "max_native_zoom",
       "max_zoom",
       "min_native_zoom",
       "min_zoom",
       "no_wrap",
       "tile_size",
       "tms"
      ],
      "popup": null,
      "popup_max_height": null,
      "popup_max_width": 300,
      "popup_min_width": 50,
      "show_loading": false,
      "tile_size": 256,
      "tms": false,
      "url": "https://mt1.google.com/vt/lyrs=m&x={x}&y={y}&z={z}",
      "visible": true
     }
    },
    "76beaa96875741c492b76b67ce3f5557": {
     "model_module": "@jupyter-widgets/controls",
     "model_module_version": "1.5.0",
     "model_name": "DescriptionStyleModel",
     "state": {
      "_model_module": "@jupyter-widgets/controls",
      "_model_module_version": "1.5.0",
      "_model_name": "DescriptionStyleModel",
      "_view_count": null,
      "_view_module": "@jupyter-widgets/base",
      "_view_module_version": "1.2.0",
      "_view_name": "StyleView",
      "description_width": ""
     }
    },
    "82ebcd50a6ab4eb7bbd43b0b2b05c420": {
     "model_module": "jupyter-leaflet",
     "model_module_version": "^0.15.0",
     "model_name": "LeafletTileLayerModel",
     "state": {
      "_model_module": "jupyter-leaflet",
      "_model_module_version": "^0.15.0",
      "_model_name": "LeafletTileLayerModel",
      "_view_count": null,
      "_view_module": "jupyter-leaflet",
      "_view_module_version": "^0.15.0",
      "_view_name": "LeafletTileLayerView",
      "attribution": "&copy; <a href=\"https://www.openstreetmap.org/copyright\">OpenStreetMap</a> contributors",
      "base": true,
      "bottom": true,
      "detect_retina": false,
      "loading": false,
      "max_native_zoom": 18,
      "max_zoom": 19,
      "min_native_zoom": 0,
      "min_zoom": 1,
      "name": "OpenStreetMap.Mapnik",
      "no_wrap": false,
      "opacity": 1,
      "options": [
       "attribution",
       "detect_retina",
       "max_native_zoom",
       "max_zoom",
       "min_native_zoom",
       "min_zoom",
       "no_wrap",
       "tile_size",
       "tms"
      ],
      "popup": null,
      "popup_max_height": null,
      "popup_max_width": 300,
      "popup_min_width": 50,
      "show_loading": false,
      "tile_size": 256,
      "tms": false,
      "url": "https://a.tile.openstreetmap.org/{z}/{x}/{y}.png",
      "visible": true
     }
    },
    "83b9b602914e4d0c8a2e0e4bf10e663c": {
     "model_module": "@jupyter-widgets/base",
     "model_module_version": "1.2.0",
     "model_name": "LayoutModel",
     "state": {
      "_model_module": "@jupyter-widgets/base",
      "_model_module_version": "1.2.0",
      "_model_name": "LayoutModel",
      "_view_count": null,
      "_view_module": "@jupyter-widgets/base",
      "_view_module_version": "1.2.0",
      "_view_name": "LayoutView",
      "align_content": null,
      "align_items": null,
      "align_self": null,
      "border": null,
      "bottom": null,
      "display": null,
      "flex": null,
      "flex_flow": null,
      "grid_area": null,
      "grid_auto_columns": null,
      "grid_auto_flow": null,
      "grid_auto_rows": null,
      "grid_column": null,
      "grid_gap": null,
      "grid_row": null,
      "grid_template_areas": null,
      "grid_template_columns": null,
      "grid_template_rows": null,
      "height": "28px",
      "justify_content": null,
      "justify_items": null,
      "left": null,
      "margin": null,
      "max_height": null,
      "max_width": null,
      "min_height": null,
      "min_width": null,
      "object_fit": null,
      "object_position": null,
      "order": null,
      "overflow": null,
      "overflow_x": null,
      "overflow_y": null,
      "padding": "0px 0px 0px 4px",
      "right": null,
      "top": null,
      "visibility": null,
      "width": "28px"
     }
    },
    "896f0e14c5a94fa5a12efe89bb2241a0": {
     "model_module": "@jupyter-widgets/controls",
     "model_module_version": "1.5.0",
     "model_name": "HBoxModel",
     "state": {
      "_dom_classes": [],
      "_model_module": "@jupyter-widgets/controls",
      "_model_module_version": "1.5.0",
      "_model_name": "HBoxModel",
      "_view_count": null,
      "_view_module": "@jupyter-widgets/controls",
      "_view_module_version": "1.5.0",
      "_view_name": "HBoxView",
      "box_style": "",
      "children": [
       "IPY_MODEL_035ab3a5314c42078b23f39e44bf4d27"
      ],
      "layout": "IPY_MODEL_67c1d8f0bb534d5b8398c248a9f739b8"
     }
    },
    "8ca675ac4fad4951a140289692580722": {
     "model_module": "@jupyter-widgets/controls",
     "model_module_version": "1.5.0",
     "model_name": "ToggleButtonModel",
     "state": {
      "_dom_classes": [],
      "_model_module": "@jupyter-widgets/controls",
      "_model_module_version": "1.5.0",
      "_model_name": "ToggleButtonModel",
      "_view_count": null,
      "_view_module": "@jupyter-widgets/controls",
      "_view_module_version": "1.5.0",
      "_view_name": "ToggleButtonView",
      "button_style": "",
      "description": "",
      "description_tooltip": null,
      "disabled": false,
      "icon": "wrench",
      "layout": "IPY_MODEL_e109b21ebd6549099aef9b874e875425",
      "style": "IPY_MODEL_76beaa96875741c492b76b67ce3f5557",
      "tooltip": "Toolbar",
      "value": false
     }
    },
    "8e39efabb85c4769b77173413b7cbc41": {
     "model_module": "jupyter-leaflet",
     "model_module_version": "^0.16.0",
     "model_name": "LeafletZoomControlModel",
     "state": {
      "_model_module": "jupyter-leaflet",
      "_model_module_version": "^0.16.0",
      "_model_name": "LeafletZoomControlModel",
      "_view_count": null,
      "_view_module": "jupyter-leaflet",
      "_view_module_version": "^0.16.0",
      "_view_name": "LeafletZoomControlView",
      "options": [
       "position",
       "zoom_in_text",
       "zoom_in_title",
       "zoom_out_text",
       "zoom_out_title"
      ],
      "position": "topleft",
      "zoom_in_text": "+",
      "zoom_in_title": "Zoom in",
      "zoom_out_text": "-",
      "zoom_out_title": "Zoom out"
     }
    },
    "901febfcf007485a825c7f13e3d561bc": {
     "model_module": "jupyter-leaflet",
     "model_module_version": "^0.16.0",
     "model_name": "LeafletFullScreenControlModel",
     "state": {
      "_model_module": "jupyter-leaflet",
      "_model_module_version": "^0.16.0",
      "_model_name": "LeafletFullScreenControlModel",
      "_view_count": null,
      "_view_module": "jupyter-leaflet",
      "_view_module_version": "^0.16.0",
      "_view_name": "LeafletFullScreenControlView",
      "options": [
       "position"
      ],
      "position": "topleft"
     }
    },
    "904a33484b144a8ea559cfb239ae22d1": {
     "model_module": "jupyter-leaflet",
     "model_module_version": "^0.16.0",
     "model_name": "LeafletDrawControlModel",
     "state": {
      "_model_module": "jupyter-leaflet",
      "_model_module_version": "^0.16.0",
      "_model_name": "LeafletDrawControlModel",
      "_view_count": null,
      "_view_module": "jupyter-leaflet",
      "_view_module_version": "^0.16.0",
      "_view_name": "LeafletDrawControlView",
      "circle": {
       "shapeOptions": {
        "color": "#3388ff"
       }
      },
      "circlemarker": {},
      "data": [],
      "edit": true,
      "marker": {
       "shapeOptions": {
        "color": "#3388ff"
       }
      },
      "options": [
       "position"
      ],
      "polygon": {
       "shapeOptions": {}
      },
      "polyline": {
       "shapeOptions": {}
      },
      "position": "topleft",
      "rectangle": {
       "shapeOptions": {
        "color": "#3388ff"
       }
      },
      "remove": true
     }
    },
    "988e674bdbf1400e979b7003dc294b2d": {
     "model_module": "jupyter-leaflet",
     "model_module_version": "^0.16.0",
     "model_name": "LeafletWidgetControlModel",
     "state": {
      "_model_module": "jupyter-leaflet",
      "_model_module_version": "^0.16.0",
      "_model_name": "LeafletWidgetControlModel",
      "_view_count": null,
      "_view_module": "jupyter-leaflet",
      "_view_module_version": "^0.16.0",
      "_view_name": "LeafletWidgetControlView",
      "max_height": null,
      "max_width": null,
      "min_height": null,
      "min_width": null,
      "options": [
       "position",
       "transparent_bg"
      ],
      "position": "topleft",
      "transparent_bg": false,
      "widget": "IPY_MODEL_c29917b9deb04b999ec35bb96a8c0aea"
     }
    },
    "9b886edfb6bc43b08b81153deb313f48": {
     "model_module": "jupyter-leaflet",
     "model_module_version": "^0.16.0",
     "model_name": "LeafletTileLayerModel",
     "state": {
      "_model_module": "jupyter-leaflet",
      "_model_module_version": "^0.16.0",
      "_model_name": "LeafletTileLayerModel",
      "_view_count": null,
      "_view_module": "jupyter-leaflet",
      "_view_module_version": "^0.16.0",
      "_view_name": "LeafletTileLayerView",
      "attribution": "Google Earth Engine",
      "base": false,
      "bottom": true,
      "bounds": null,
      "detect_retina": false,
      "loading": false,
      "max_native_zoom": 18,
      "max_zoom": 24,
      "min_native_zoom": 0,
      "min_zoom": 0,
      "name": "img_ts_c_masked",
      "no_wrap": false,
      "opacity": 1,
      "options": [
       "attribution",
       "bounds",
       "detect_retina",
       "max_native_zoom",
       "max_zoom",
       "min_native_zoom",
       "min_zoom",
       "no_wrap",
       "tile_size",
       "tms"
      ],
      "popup": null,
      "popup_max_height": null,
      "popup_max_width": 300,
      "popup_min_width": 50,
      "show_loading": false,
      "tile_size": 256,
      "tms": false,
      "url": "https://earthengine.googleapis.com/v1alpha/projects/earthengine-legacy/maps/98c6cc6c7f35dab18609424374524853-5c8f9429d1d99ff6e042d9a11a14edb5/tiles/{z}/{x}/{y}",
      "visible": true
     }
    },
    "9d30bf316c274cfd97995574772d79e5": {
     "model_module": "jupyter-leaflet",
     "model_module_version": "^0.15.0",
     "model_name": "LeafletFullScreenControlModel",
     "state": {
      "_model_module": "jupyter-leaflet",
      "_model_module_version": "^0.15.0",
      "_model_name": "LeafletFullScreenControlModel",
      "_view_count": null,
      "_view_module": "jupyter-leaflet",
      "_view_module_version": "^0.15.0",
      "_view_name": "LeafletFullScreenControlView",
      "options": [
       "position"
      ],
      "position": "topleft"
     }
    },
    "9e1d70fac199455da457c0384f192678": {
     "model_module": "jupyter-leaflet",
     "model_module_version": "^0.16.0",
     "model_name": "LeafletWidgetControlModel",
     "state": {
      "_model_module": "jupyter-leaflet",
      "_model_module_version": "^0.16.0",
      "_model_name": "LeafletWidgetControlModel",
      "_view_count": null,
      "_view_module": "jupyter-leaflet",
      "_view_module_version": "^0.16.0",
      "_view_name": "LeafletWidgetControlView",
      "max_height": null,
      "max_width": null,
      "min_height": null,
      "min_width": null,
      "options": [
       "position",
       "transparent_bg"
      ],
      "position": "topright",
      "transparent_bg": false,
      "widget": "IPY_MODEL_c0d0e9a218d44224a6e619c1baec9f06"
     }
    },
    "a08456f0d5d54412bfd5848e15c863b5": {
     "model_module": "jupyter-leaflet",
     "model_module_version": "^0.16.0",
     "model_name": "LeafletTileLayerModel",
     "state": {
      "_model_module": "jupyter-leaflet",
      "_model_module_version": "^0.16.0",
      "_model_name": "LeafletTileLayerModel",
      "_view_count": null,
      "_view_module": "jupyter-leaflet",
      "_view_module_version": "^0.16.0",
      "_view_name": "LeafletTileLayerView",
      "attribution": "Google Earth Engine",
      "base": false,
      "bottom": true,
      "bounds": null,
      "detect_retina": false,
      "loading": false,
      "max_native_zoom": 18,
      "max_zoom": 24,
      "min_native_zoom": 0,
      "min_zoom": 0,
      "name": "20220105",
      "no_wrap": false,
      "opacity": 1,
      "options": [
       "attribution",
       "bounds",
       "detect_retina",
       "max_native_zoom",
       "max_zoom",
       "min_native_zoom",
       "min_zoom",
       "no_wrap",
       "tile_size",
       "tms"
      ],
      "popup": null,
      "popup_max_height": null,
      "popup_max_width": 300,
      "popup_min_width": 50,
      "show_loading": false,
      "tile_size": 256,
      "tms": false,
      "url": "https://earthengine.googleapis.com/v1alpha/projects/earthengine-legacy/maps/b090829fbcd27706434ebd8efa893991-1b1751a4270ceef3032c65532bdda831/tiles/{z}/{x}/{y}",
      "visible": true
     }
    },
    "a7173ed141114fb79ffb4b3f1abe323f": {
     "model_module": "@jupyter-widgets/controls",
     "model_module_version": "1.5.0",
     "model_name": "DescriptionStyleModel",
     "state": {
      "_model_module": "@jupyter-widgets/controls",
      "_model_module_version": "1.5.0",
      "_model_name": "DescriptionStyleModel",
      "_view_count": null,
      "_view_module": "@jupyter-widgets/base",
      "_view_module_version": "1.2.0",
      "_view_name": "StyleView",
      "description_width": ""
     }
    },
    "a849439318444b82b32cd8527d15a358": {
     "model_module": "jupyter-leaflet",
     "model_module_version": "^0.16.0",
     "model_name": "LeafletMapStyleModel",
     "state": {
      "_model_module": "jupyter-leaflet",
      "_model_module_version": "^0.16.0",
      "_model_name": "LeafletMapStyleModel",
      "_view_count": null,
      "_view_module": "@jupyter-widgets/base",
      "_view_module_version": "1.2.0",
      "_view_name": "StyleView",
      "cursor": "grab"
     }
    },
    "a9ab631f84234de3921c220968a33e07": {
     "model_module": "@jupyter-widgets/base",
     "model_module_version": "1.2.0",
     "model_name": "LayoutModel",
     "state": {
      "_model_module": "@jupyter-widgets/base",
      "_model_module_version": "1.2.0",
      "_model_name": "LayoutModel",
      "_view_count": null,
      "_view_module": "@jupyter-widgets/base",
      "_view_module_version": "1.2.0",
      "_view_name": "LayoutView",
      "align_content": null,
      "align_items": null,
      "align_self": null,
      "border": null,
      "bottom": null,
      "display": null,
      "flex": null,
      "flex_flow": null,
      "grid_area": null,
      "grid_auto_columns": null,
      "grid_auto_flow": null,
      "grid_auto_rows": null,
      "grid_column": null,
      "grid_gap": null,
      "grid_row": null,
      "grid_template_areas": null,
      "grid_template_columns": null,
      "grid_template_rows": null,
      "height": null,
      "justify_content": null,
      "justify_items": null,
      "left": null,
      "margin": null,
      "max_height": null,
      "max_width": null,
      "min_height": null,
      "min_width": null,
      "object_fit": null,
      "object_position": null,
      "order": null,
      "overflow": null,
      "overflow_x": null,
      "overflow_y": null,
      "padding": null,
      "right": null,
      "top": null,
      "visibility": null,
      "width": null
     }
    },
    "aa0701b2e48742a2b7180c42881ab149": {
     "model_module": "@jupyter-widgets/base",
     "model_module_version": "1.2.0",
     "model_name": "LayoutModel",
     "state": {
      "_model_module": "@jupyter-widgets/base",
      "_model_module_version": "1.2.0",
      "_model_name": "LayoutModel",
      "_view_count": null,
      "_view_module": "@jupyter-widgets/base",
      "_view_module_version": "1.2.0",
      "_view_name": "LayoutView",
      "align_content": null,
      "align_items": null,
      "align_self": null,
      "border": null,
      "bottom": null,
      "display": null,
      "flex": null,
      "flex_flow": null,
      "grid_area": null,
      "grid_auto_columns": null,
      "grid_auto_flow": null,
      "grid_auto_rows": null,
      "grid_column": null,
      "grid_gap": null,
      "grid_row": null,
      "grid_template_areas": null,
      "grid_template_columns": null,
      "grid_template_rows": null,
      "height": "28px",
      "justify_content": null,
      "justify_items": null,
      "left": null,
      "margin": null,
      "max_height": null,
      "max_width": null,
      "min_height": null,
      "min_width": null,
      "object_fit": null,
      "object_position": null,
      "order": null,
      "overflow": null,
      "overflow_x": null,
      "overflow_y": null,
      "padding": "0px 0px 0px 4px",
      "right": null,
      "top": null,
      "visibility": null,
      "width": "28px"
     }
    },
    "b510787654ec490b9f61b9f879e44999": {
     "model_module": "jupyter-leaflet",
     "model_module_version": "^0.16.0",
     "model_name": "LeafletMeasureControlModel",
     "state": {
      "_custom_units": {},
      "_model_module": "jupyter-leaflet",
      "_model_module_version": "^0.16.0",
      "_model_name": "LeafletMeasureControlModel",
      "_view_count": null,
      "_view_module": "jupyter-leaflet",
      "_view_module_version": "^0.16.0",
      "_view_name": "LeafletMeasureControlView",
      "active_color": "orange",
      "capture_z_index": 10000,
      "completed_color": "#C8F2BE",
      "options": [
       "active_color",
       "capture_z_index",
       "completed_color",
       "popup_options",
       "position",
       "primary_area_unit",
       "primary_length_unit",
       "secondary_area_unit",
       "secondary_length_unit"
      ],
      "popup_options": {
       "autoPanPadding": [
        10,
        10
       ],
       "className": "leaflet-measure-resultpopup"
      },
      "position": "bottomleft",
      "primary_area_unit": "acres",
      "primary_length_unit": "kilometers",
      "secondary_area_unit": null,
      "secondary_length_unit": null
     }
    },
    "b8350cc42131462f9c42c876d9080835": {
     "model_module": "@jupyter-widgets/base",
     "model_module_version": "1.2.0",
     "model_name": "LayoutModel",
     "state": {
      "_model_module": "@jupyter-widgets/base",
      "_model_module_version": "1.2.0",
      "_model_name": "LayoutModel",
      "_view_count": null,
      "_view_module": "@jupyter-widgets/base",
      "_view_module_version": "1.2.0",
      "_view_name": "LayoutView",
      "align_content": null,
      "align_items": null,
      "align_self": null,
      "border": null,
      "bottom": null,
      "display": null,
      "flex": null,
      "flex_flow": null,
      "grid_area": null,
      "grid_auto_columns": null,
      "grid_auto_flow": null,
      "grid_auto_rows": null,
      "grid_column": null,
      "grid_gap": null,
      "grid_row": null,
      "grid_template_areas": null,
      "grid_template_columns": null,
      "grid_template_rows": null,
      "height": "600px",
      "justify_content": null,
      "justify_items": null,
      "left": null,
      "margin": null,
      "max_height": null,
      "max_width": null,
      "min_height": null,
      "min_width": null,
      "object_fit": null,
      "object_position": null,
      "order": null,
      "overflow": null,
      "overflow_x": null,
      "overflow_y": null,
      "padding": null,
      "right": null,
      "top": null,
      "visibility": null,
      "width": null
     }
    },
    "bba0a1f413aa44bfabb2b8f5e68ce012": {
     "model_module": "@jupyter-widgets/controls",
     "model_module_version": "1.5.0",
     "model_name": "DescriptionStyleModel",
     "state": {
      "_model_module": "@jupyter-widgets/controls",
      "_model_module_version": "1.5.0",
      "_model_name": "DescriptionStyleModel",
      "_view_count": null,
      "_view_module": "@jupyter-widgets/base",
      "_view_module_version": "1.2.0",
      "_view_name": "StyleView",
      "description_width": ""
     }
    },
    "be3e5c4b8af949e0909631e4eef211e6": {
     "model_module": "@jupyter-widgets/controls",
     "model_module_version": "1.5.0",
     "model_name": "ToggleButtonModel",
     "state": {
      "_dom_classes": [],
      "_model_module": "@jupyter-widgets/controls",
      "_model_module_version": "1.5.0",
      "_model_name": "ToggleButtonModel",
      "_view_count": null,
      "_view_module": "@jupyter-widgets/controls",
      "_view_module_version": "1.5.0",
      "_view_name": "ToggleButtonView",
      "button_style": "",
      "description": "",
      "description_tooltip": null,
      "disabled": false,
      "icon": "globe",
      "layout": "IPY_MODEL_16900b275461460593951f8294400cb3",
      "style": "IPY_MODEL_a7173ed141114fb79ffb4b3f1abe323f",
      "tooltip": "Search location/data",
      "value": false
     }
    },
    "bea81ce2f5db45cd9a9ddc02b4333392": {
     "model_module": "jupyter-leaflet",
     "model_module_version": "^0.16.0",
     "model_name": "LeafletZoomControlModel",
     "state": {
      "_model_module": "jupyter-leaflet",
      "_model_module_version": "^0.16.0",
      "_model_name": "LeafletZoomControlModel",
      "_view_count": null,
      "_view_module": "jupyter-leaflet",
      "_view_module_version": "^0.16.0",
      "_view_name": "LeafletZoomControlView",
      "options": [
       "position",
       "zoom_in_text",
       "zoom_in_title",
       "zoom_out_text",
       "zoom_out_title"
      ],
      "position": "topleft",
      "zoom_in_text": "+",
      "zoom_in_title": "Zoom in",
      "zoom_out_text": "-",
      "zoom_out_title": "Zoom out"
     }
    },
    "c0d0e9a218d44224a6e619c1baec9f06": {
     "model_module": "@jupyter-widgets/controls",
     "model_module_version": "1.5.0",
     "model_name": "VBoxModel",
     "state": {
      "_dom_classes": [],
      "_model_module": "@jupyter-widgets/controls",
      "_model_module_version": "1.5.0",
      "_model_name": "VBoxModel",
      "_view_count": null,
      "_view_module": "@jupyter-widgets/controls",
      "_view_module_version": "1.5.0",
      "_view_name": "VBoxView",
      "box_style": "",
      "children": [
       "IPY_MODEL_09cba970704a4eb394fb3fd8f5710a3e"
      ],
      "layout": "IPY_MODEL_34f1433956fe487ca435414bb2eeafcf"
     }
    },
    "c1aa62e4f44941568f63d50b097c104d": {
     "model_module": "jupyter-leaflet",
     "model_module_version": "^0.15.0",
     "model_name": "LeafletTileLayerModel",
     "state": {
      "_model_module": "jupyter-leaflet",
      "_model_module_version": "^0.15.0",
      "_model_name": "LeafletTileLayerModel",
      "_view_count": null,
      "_view_module": "jupyter-leaflet",
      "_view_module_version": "^0.15.0",
      "_view_name": "LeafletTileLayerView",
      "attribution": "Google Earth Engine",
      "base": false,
      "bottom": true,
      "detect_retina": false,
      "loading": false,
      "max_native_zoom": 18,
      "max_zoom": 24,
      "min_native_zoom": 0,
      "min_zoom": 0,
      "name": "Img TOA",
      "no_wrap": false,
      "opacity": 1,
      "options": [
       "attribution",
       "detect_retina",
       "max_native_zoom",
       "max_zoom",
       "min_native_zoom",
       "min_zoom",
       "no_wrap",
       "tile_size",
       "tms"
      ],
      "popup": null,
      "popup_max_height": null,
      "popup_max_width": 300,
      "popup_min_width": 50,
      "show_loading": false,
      "tile_size": 256,
      "tms": false,
      "url": "https://earthengine.googleapis.com/v1alpha/projects/earthengine-legacy/maps/e3f45772215666e255e63779bfb7e90f-20c6df813c38b5d0c53cb96d60688d81/tiles/{z}/{x}/{y}",
      "visible": true
     }
    },
    "c1b8ce65be1c4ec8998e4ea46681497a": {
     "model_module": "@jupyter-widgets/base",
     "model_module_version": "1.2.0",
     "model_name": "LayoutModel",
     "state": {
      "_model_module": "@jupyter-widgets/base",
      "_model_module_version": "1.2.0",
      "_model_name": "LayoutModel",
      "_view_count": null,
      "_view_module": "@jupyter-widgets/base",
      "_view_module_version": "1.2.0",
      "_view_name": "LayoutView",
      "align_content": null,
      "align_items": null,
      "align_self": null,
      "border": null,
      "bottom": null,
      "display": null,
      "flex": null,
      "flex_flow": null,
      "grid_area": null,
      "grid_auto_columns": null,
      "grid_auto_flow": null,
      "grid_auto_rows": null,
      "grid_column": null,
      "grid_gap": null,
      "grid_row": null,
      "grid_template_areas": null,
      "grid_template_columns": null,
      "grid_template_rows": null,
      "height": "600px",
      "justify_content": null,
      "justify_items": null,
      "left": null,
      "margin": null,
      "max_height": null,
      "max_width": null,
      "min_height": null,
      "min_width": null,
      "object_fit": null,
      "object_position": null,
      "order": null,
      "overflow": null,
      "overflow_x": null,
      "overflow_y": null,
      "padding": null,
      "right": null,
      "top": null,
      "visibility": null,
      "width": null
     }
    },
    "c29917b9deb04b999ec35bb96a8c0aea": {
     "model_module": "@jupyter-widgets/controls",
     "model_module_version": "1.5.0",
     "model_name": "HBoxModel",
     "state": {
      "_dom_classes": [],
      "_model_module": "@jupyter-widgets/controls",
      "_model_module_version": "1.5.0",
      "_model_name": "HBoxModel",
      "_view_count": null,
      "_view_module": "@jupyter-widgets/controls",
      "_view_module_version": "1.5.0",
      "_view_name": "HBoxView",
      "box_style": "",
      "children": [
       "IPY_MODEL_be3e5c4b8af949e0909631e4eef211e6"
      ],
      "layout": "IPY_MODEL_01570eb3fb3c49fda7e51c72f0cf2782"
     }
    },
    "c4d9e644875949a982757d0b89577e9c": {
     "model_module": "jupyter-leaflet",
     "model_module_version": "^0.15.0",
     "model_name": "LeafletTileLayerModel",
     "state": {
      "_model_module": "jupyter-leaflet",
      "_model_module_version": "^0.15.0",
      "_model_name": "LeafletTileLayerModel",
      "_view_count": null,
      "_view_module": "jupyter-leaflet",
      "_view_module_version": "^0.15.0",
      "_view_name": "LeafletTileLayerView",
      "attribution": "Google",
      "base": false,
      "bottom": true,
      "detect_retina": false,
      "loading": false,
      "max_native_zoom": 18,
      "max_zoom": 22,
      "min_native_zoom": 0,
      "min_zoom": 0,
      "name": "Google Maps",
      "no_wrap": false,
      "opacity": 1,
      "options": [
       "attribution",
       "detect_retina",
       "max_native_zoom",
       "max_zoom",
       "min_native_zoom",
       "min_zoom",
       "no_wrap",
       "tile_size",
       "tms"
      ],
      "popup": null,
      "popup_max_height": null,
      "popup_max_width": 300,
      "popup_min_width": 50,
      "show_loading": false,
      "tile_size": 256,
      "tms": false,
      "url": "https://mt1.google.com/vt/lyrs=m&x={x}&y={y}&z={z}",
      "visible": true
     }
    },
    "c590ba513fa648d8b1f205d01a12fb04": {
     "model_module": "jupyter-leaflet",
     "model_module_version": "^0.16.0",
     "model_name": "LeafletTileLayerModel",
     "state": {
      "_model_module": "jupyter-leaflet",
      "_model_module_version": "^0.16.0",
      "_model_name": "LeafletTileLayerModel",
      "_view_count": null,
      "_view_module": "jupyter-leaflet",
      "_view_module_version": "^0.16.0",
      "_view_name": "LeafletTileLayerView",
      "attribution": "Google Earth Engine",
      "base": false,
      "bottom": true,
      "bounds": null,
      "detect_retina": false,
      "loading": false,
      "max_native_zoom": 18,
      "max_zoom": 24,
      "min_native_zoom": 0,
      "min_zoom": 0,
      "name": "20220113",
      "no_wrap": false,
      "opacity": 1,
      "options": [
       "attribution",
       "bounds",
       "detect_retina",
       "max_native_zoom",
       "max_zoom",
       "min_native_zoom",
       "min_zoom",
       "no_wrap",
       "tile_size",
       "tms"
      ],
      "popup": null,
      "popup_max_height": null,
      "popup_max_width": 300,
      "popup_min_width": 50,
      "show_loading": false,
      "tile_size": 256,
      "tms": false,
      "url": "https://earthengine.googleapis.com/v1alpha/projects/earthengine-legacy/maps/f564e3bb57e276d6f2bb4ae72a212e6c-8f1faeebae50ff0e40c4c7d297f6b7b1/tiles/{z}/{x}/{y}",
      "visible": true
     }
    },
    "c71deb3be3584062ab734c8e9caa28df": {
     "model_module": "jupyter-leaflet",
     "model_module_version": "^0.15.0",
     "model_name": "LeafletTileLayerModel",
     "state": {
      "_model_module": "jupyter-leaflet",
      "_model_module_version": "^0.15.0",
      "_model_name": "LeafletTileLayerModel",
      "_view_count": null,
      "_view_module": "jupyter-leaflet",
      "_view_module_version": "^0.15.0",
      "_view_name": "LeafletTileLayerView",
      "attribution": "Google Earth Engine",
      "base": false,
      "bottom": true,
      "detect_retina": false,
      "loading": false,
      "max_native_zoom": 18,
      "max_zoom": 24,
      "min_native_zoom": 0,
      "min_zoom": 0,
      "name": "Img S2",
      "no_wrap": false,
      "opacity": 1,
      "options": [
       "attribution",
       "detect_retina",
       "max_native_zoom",
       "max_zoom",
       "min_native_zoom",
       "min_zoom",
       "no_wrap",
       "tile_size",
       "tms"
      ],
      "popup": null,
      "popup_max_height": null,
      "popup_max_width": 300,
      "popup_min_width": 50,
      "show_loading": false,
      "tile_size": 256,
      "tms": false,
      "url": "https://earthengine.googleapis.com/v1alpha/projects/earthengine-legacy/maps/93e048cd5fda3d16cceb47ffcb9a185f-3396feba7b1833fdd19a533244c47087/tiles/{z}/{x}/{y}",
      "visible": true
     }
    },
    "c8f9572ed54e4c469f6cbc96e899b7a3": {
     "model_module": "jupyter-leaflet",
     "model_module_version": "^0.15.0",
     "model_name": "LeafletMapModel",
     "state": {
      "_dom_classes": [],
      "_model_module": "jupyter-leaflet",
      "_model_module_version": "^0.15.0",
      "_model_name": "LeafletMapModel",
      "_view_count": null,
      "_view_module": "jupyter-leaflet",
      "_view_module_version": "^0.15.0",
      "_view_name": "LeafletMapView",
      "bottom": 0,
      "bounce_at_zoom_limits": true,
      "box_zoom": true,
      "center": [
       -6.600211501838919,
       -79.78018963282872
      ],
      "close_popup_on_click": true,
      "controls": [
       "IPY_MODEL_27c910dcff784f6091a2ae3aa7a2fe54",
       "IPY_MODEL_703cd0e7a34248c4b3874fa19210e385",
       "IPY_MODEL_73770932a6834a11b0be0f1d311f6092",
       "IPY_MODEL_8ba4feb6d43f4761b90cfcd2a2e1d575",
       "IPY_MODEL_604e8c08406b458d8b2170faed40a62e",
       "IPY_MODEL_f0b286e4179b4ad4aef6add821274b11",
       "IPY_MODEL_6e85f70289fb4c71acbfc653ffb29a12",
       "IPY_MODEL_d6ce3b6642704ace8d772fd67fb49788",
       "IPY_MODEL_a8a3587ac85e4a3dae494d3b4ce0e033",
       "IPY_MODEL_ddd8edf9c73144a5aced3d18199191fe"
      ],
      "crs": {
       "custom": false,
       "name": "EPSG3857"
      },
      "default_style": "IPY_MODEL_87b89f58306943648f7d02538ed69798",
      "double_click_zoom": true,
      "dragging": true,
      "dragging_style": "IPY_MODEL_740af9819c484f50b2a642fad9e72097",
      "east": 0,
      "fullscreen": false,
      "inertia": true,
      "inertia_deceleration": 3000,
      "inertia_max_speed": 1500,
      "interpolation": "bilinear",
      "keyboard": true,
      "keyboard_pan_offset": 80,
      "keyboard_zoom_offset": 1,
      "layers": [
       "IPY_MODEL_3a56769a963345509af4fe1cdd512138",
       "IPY_MODEL_0c5d9364c6fe49578bb5918080181aa1",
       "IPY_MODEL_4538ed19944049a8913a4ee91a540928",
       "IPY_MODEL_7d3e4abca82f4adcb0924747229b1dfd",
       "IPY_MODEL_6b8235d1a67d436099e719ed5995e668"
      ],
      "layout": "IPY_MODEL_2d8dc23435b043c2a2bf6d755de1821b",
      "left": 9007199254740991,
      "max_zoom": 24,
      "min_zoom": 1,
      "modisdate": "2022-04-22",
      "north": 0,
      "options": [
       "bounce_at_zoom_limits",
       "box_zoom",
       "center",
       "close_popup_on_click",
       "double_click_zoom",
       "dragging",
       "fullscreen",
       "inertia",
       "inertia_deceleration",
       "inertia_max_speed",
       "interpolation",
       "keyboard",
       "keyboard_pan_offset",
       "keyboard_zoom_offset",
       "max_zoom",
       "min_zoom",
       "prefer_canvas",
       "scroll_wheel_zoom",
       "tap",
       "tap_tolerance",
       "touch_zoom",
       "world_copy_jump",
       "zoom",
       "zoom_animation_threshold",
       "zoom_delta",
       "zoom_snap",
       "zoom_start"
      ],
      "prefer_canvas": false,
      "right": 0,
      "scroll_wheel_zoom": true,
      "south": 0,
      "style": "IPY_MODEL_eda557bc2eab4230ac0a9b0b7f904422",
      "tap": true,
      "tap_tolerance": 15,
      "top": 9007199254740991,
      "touch_zoom": true,
      "west": 0,
      "window_url": "",
      "world_copy_jump": false,
      "zoom": 16,
      "zoom_animation_threshold": 4,
      "zoom_delta": 1,
      "zoom_snap": 1,
      "zoom_start": 12
     }
    },
    "ccee0ccb69a04dbaa967416212355932": {
     "model_module": "jupyter-leaflet",
     "model_module_version": "^0.16.0",
     "model_name": "LeafletWidgetControlModel",
     "state": {
      "_model_module": "jupyter-leaflet",
      "_model_module_version": "^0.16.0",
      "_model_name": "LeafletWidgetControlModel",
      "_view_count": null,
      "_view_module": "jupyter-leaflet",
      "_view_module_version": "^0.16.0",
      "_view_name": "LeafletWidgetControlView",
      "max_height": null,
      "max_width": null,
      "min_height": null,
      "min_width": null,
      "options": [
       "position",
       "transparent_bg"
      ],
      "position": "topright",
      "transparent_bg": false,
      "widget": "IPY_MODEL_f46b4b560d474c66b2f07cdc2ec0c807"
     }
    },
    "cf4bdf2fa8a544edb087e3e4ee77a9fd": {
     "model_module": "jupyter-leaflet",
     "model_module_version": "^0.15.0",
     "model_name": "LeafletMapModel",
     "state": {
      "_dom_classes": [],
      "_dragging": false,
      "_model_module": "jupyter-leaflet",
      "_model_module_version": "^0.15.0",
      "_model_name": "LeafletMapModel",
      "_view_count": null,
      "_view_module": "jupyter-leaflet",
      "_view_module_version": "^0.15.0",
      "_view_name": "LeafletMapView",
      "bottom": 8697202.222229004,
      "bounce_at_zoom_limits": true,
      "box_zoom": true,
      "center": [
       -6.600627495184447,
       -79.7799808266123
      ],
      "close_popup_on_click": true,
      "controls": [
       "IPY_MODEL_673cf59bc7254fd097c74f8640729431",
       "IPY_MODEL_dc60a9b3553341328435fa55464c51de",
       "IPY_MODEL_3c8b1a285340436c83dabdd1580ac38e",
       "IPY_MODEL_9d30bf316c274cfd97995574772d79e5",
       "IPY_MODEL_fe17be417c474c78911c9f7e922abdaa",
       "IPY_MODEL_66b348c3dd154b31a1040426b9dc0aee",
       "IPY_MODEL_e04760c661174b66a50461eff2ad39d9",
       "IPY_MODEL_26c073dc79a8496c9a341ae16f715d14",
       "IPY_MODEL_1a0ca996f9f94c22ab088e7011e86f66"
      ],
      "crs": {
       "custom": false,
       "name": "EPSG3857"
      },
      "default_style": "IPY_MODEL_55fbb5f826094a15bfb9e263a4178074",
      "double_click_zoom": true,
      "dragging": true,
      "dragging_style": "IPY_MODEL_f20bcb6b13494e30ad6cab48c06b46af",
      "east": -79.7650462868174,
      "fullscreen": false,
      "inertia": true,
      "inertia_deceleration": 3000,
      "inertia_max_speed": 1500,
      "interpolation": "bilinear",
      "keyboard": true,
      "keyboard_pan_offset": 80,
      "keyboard_zoom_offset": 1,
      "layers": [
       "IPY_MODEL_82ebcd50a6ab4eb7bbd43b0b2b05c420",
       "IPY_MODEL_c4d9e644875949a982757d0b89577e9c",
       "IPY_MODEL_c1aa62e4f44941568f63d50b097c104d",
       "IPY_MODEL_c71deb3be3584062ab734c8e9caa28df",
       "IPY_MODEL_e41c34784c9146509fad70d66feeca40"
      ],
      "layout": "IPY_MODEL_c1b8ce65be1c4ec8998e4ea46681497a",
      "left": 4669895.414433519,
      "max_zoom": 24,
      "min_zoom": 1,
      "modisdate": "2022-04-13",
      "north": -6.59423282187991,
      "options": [
       "bounce_at_zoom_limits",
       "box_zoom",
       "center",
       "close_popup_on_click",
       "double_click_zoom",
       "dragging",
       "fullscreen",
       "inertia",
       "inertia_deceleration",
       "inertia_max_speed",
       "interpolation",
       "keyboard",
       "keyboard_pan_offset",
       "keyboard_zoom_offset",
       "max_zoom",
       "min_zoom",
       "prefer_canvas",
       "scroll_wheel_zoom",
       "tap",
       "tap_tolerance",
       "touch_zoom",
       "world_copy_jump",
       "zoom",
       "zoom_animation_threshold",
       "zoom_delta",
       "zoom_snap",
       "zoom_start"
      ],
      "prefer_canvas": false,
      "right": 4671287.414433519,
      "scroll_wheel_zoom": true,
      "south": -6.607022085904519,
      "style": "IPY_MODEL_55fbb5f826094a15bfb9e263a4178074",
      "tap": true,
      "tap_tolerance": 15,
      "top": 8696602.222229004,
      "touch_zoom": true,
      "west": -79.79491536640722,
      "window_url": "https://ex21edhepxp-496ff2e9c6d22116-0-colab.googleusercontent.com/outputframe.html?vrz=colab-20220412-060046-RC00_441141632",
      "world_copy_jump": false,
      "zoom": 16,
      "zoom_animation_threshold": 4,
      "zoom_delta": 1,
      "zoom_snap": 1,
      "zoom_start": 12
     }
    },
    "d01e52320e53449e9cfeae696217e2ed": {
     "model_module": "jupyter-leaflet",
     "model_module_version": "^0.16.0",
     "model_name": "LeafletTileLayerModel",
     "state": {
      "_model_module": "jupyter-leaflet",
      "_model_module_version": "^0.16.0",
      "_model_name": "LeafletTileLayerModel",
      "_view_count": null,
      "_view_module": "jupyter-leaflet",
      "_view_module_version": "^0.16.0",
      "_view_name": "LeafletTileLayerView",
      "attribution": "Google Earth Engine",
      "base": false,
      "bottom": true,
      "bounds": null,
      "detect_retina": false,
      "loading": false,
      "max_native_zoom": 18,
      "max_zoom": 24,
      "min_native_zoom": 0,
      "min_zoom": 0,
      "name": "img_toa",
      "no_wrap": false,
      "opacity": 1,
      "options": [
       "attribution",
       "bounds",
       "detect_retina",
       "max_native_zoom",
       "max_zoom",
       "min_native_zoom",
       "min_zoom",
       "no_wrap",
       "tile_size",
       "tms"
      ],
      "popup": null,
      "popup_max_height": null,
      "popup_max_width": 300,
      "popup_min_width": 50,
      "show_loading": false,
      "tile_size": 256,
      "tms": false,
      "url": "https://earthengine.googleapis.com/v1alpha/projects/earthengine-legacy/maps/eb468a35b6c67bf75a1e9e6bfeeb55be-496ed6d691dccab4d72f8bd47e94032c/tiles/{z}/{x}/{y}",
      "visible": true
     }
    },
    "d44fe0cf832843c0851f44b50d497427": {
     "model_module": "jupyter-leaflet",
     "model_module_version": "^0.16.0",
     "model_name": "LeafletAttributionControlModel",
     "state": {
      "_model_module": "jupyter-leaflet",
      "_model_module_version": "^0.16.0",
      "_model_name": "LeafletAttributionControlModel",
      "_view_count": null,
      "_view_module": "jupyter-leaflet",
      "_view_module_version": "^0.16.0",
      "_view_name": "LeafletAttributionControlView",
      "options": [
       "position",
       "prefix"
      ],
      "position": "bottomright",
      "prefix": "ipyleaflet"
     }
    },
    "d62846c0569f49c58dc390ede5a3950a": {
     "model_module": "jupyter-leaflet",
     "model_module_version": "^0.16.0",
     "model_name": "LeafletTileLayerModel",
     "state": {
      "_model_module": "jupyter-leaflet",
      "_model_module_version": "^0.16.0",
      "_model_name": "LeafletTileLayerModel",
      "_view_count": null,
      "_view_module": "jupyter-leaflet",
      "_view_module_version": "^0.16.0",
      "_view_name": "LeafletTileLayerView",
      "attribution": "Google Earth Engine",
      "base": false,
      "bottom": true,
      "bounds": null,
      "detect_retina": false,
      "loading": false,
      "max_native_zoom": 18,
      "max_zoom": 24,
      "min_native_zoom": 0,
      "min_zoom": 0,
      "name": "20211228",
      "no_wrap": false,
      "opacity": 1,
      "options": [
       "attribution",
       "bounds",
       "detect_retina",
       "max_native_zoom",
       "max_zoom",
       "min_native_zoom",
       "min_zoom",
       "no_wrap",
       "tile_size",
       "tms"
      ],
      "popup": null,
      "popup_max_height": null,
      "popup_max_width": 300,
      "popup_min_width": 50,
      "show_loading": false,
      "tile_size": 256,
      "tms": false,
      "url": "https://earthengine.googleapis.com/v1alpha/projects/earthengine-legacy/maps/736483d9765634ac7cc902ca884d7024-4589f9fc4a3081b09a9e13a52b3aea93/tiles/{z}/{x}/{y}",
      "visible": true
     }
    },
    "da17edf9e2a542c7b31d9c046cd32ef6": {
     "model_module": "@jupyter-widgets/controls",
     "model_module_version": "1.5.0",
     "model_name": "DescriptionStyleModel",
     "state": {
      "_model_module": "@jupyter-widgets/controls",
      "_model_module_version": "1.5.0",
      "_model_name": "DescriptionStyleModel",
      "_view_count": null,
      "_view_module": "@jupyter-widgets/base",
      "_view_module_version": "1.2.0",
      "_view_name": "StyleView",
      "description_width": ""
     }
    },
    "db54401f099a42e989b95227f5dd34b9": {
     "model_module": "@jupyter-widgets/base",
     "model_module_version": "1.2.0",
     "model_name": "LayoutModel",
     "state": {
      "_model_module": "@jupyter-widgets/base",
      "_model_module_version": "1.2.0",
      "_model_name": "LayoutModel",
      "_view_count": null,
      "_view_module": "@jupyter-widgets/base",
      "_view_module_version": "1.2.0",
      "_view_name": "LayoutView",
      "align_content": null,
      "align_items": null,
      "align_self": null,
      "border": null,
      "bottom": null,
      "display": null,
      "flex": null,
      "flex_flow": null,
      "grid_area": null,
      "grid_auto_columns": null,
      "grid_auto_flow": null,
      "grid_auto_rows": null,
      "grid_column": null,
      "grid_gap": null,
      "grid_row": null,
      "grid_template_areas": null,
      "grid_template_columns": null,
      "grid_template_rows": null,
      "height": "28px",
      "justify_content": null,
      "justify_items": null,
      "left": null,
      "margin": null,
      "max_height": null,
      "max_width": null,
      "min_height": null,
      "min_width": null,
      "object_fit": null,
      "object_position": null,
      "order": null,
      "overflow": null,
      "overflow_x": null,
      "overflow_y": null,
      "padding": "0px 0px 0px 4px",
      "right": null,
      "top": null,
      "visibility": null,
      "width": "28px"
     }
    },
    "dc60a9b3553341328435fa55464c51de": {
     "model_module": "jupyter-leaflet",
     "model_module_version": "^0.15.0",
     "model_name": "LeafletZoomControlModel",
     "state": {
      "_model_module": "jupyter-leaflet",
      "_model_module_version": "^0.15.0",
      "_model_name": "LeafletZoomControlModel",
      "_view_count": null,
      "_view_module": "jupyter-leaflet",
      "_view_module_version": "^0.15.0",
      "_view_name": "LeafletZoomControlView",
      "options": [
       "position",
       "zoom_in_text",
       "zoom_in_title",
       "zoom_out_text",
       "zoom_out_title"
      ],
      "position": "topleft",
      "zoom_in_text": "+",
      "zoom_in_title": "Zoom in",
      "zoom_out_text": "-",
      "zoom_out_title": "Zoom out"
     }
    },
    "e04760c661174b66a50461eff2ad39d9": {
     "model_module": "jupyter-leaflet",
     "model_module_version": "^0.15.0",
     "model_name": "LeafletDrawControlModel",
     "state": {
      "_model_module": "jupyter-leaflet",
      "_model_module_version": "^0.15.0",
      "_model_name": "LeafletDrawControlModel",
      "_view_count": null,
      "_view_module": "jupyter-leaflet",
      "_view_module_version": "^0.15.0",
      "_view_name": "LeafletDrawControlView",
      "circle": {
       "shapeOptions": {
        "color": "#3388ff"
       }
      },
      "circlemarker": {},
      "data": [],
      "edit": true,
      "marker": {
       "shapeOptions": {
        "color": "#3388ff"
       }
      },
      "options": [
       "position"
      ],
      "polygon": {
       "shapeOptions": {}
      },
      "polyline": {
       "shapeOptions": {}
      },
      "position": "topleft",
      "rectangle": {
       "shapeOptions": {
        "color": "#3388ff"
       }
      },
      "remove": true
     }
    },
    "e109b21ebd6549099aef9b874e875425": {
     "model_module": "@jupyter-widgets/base",
     "model_module_version": "1.2.0",
     "model_name": "LayoutModel",
     "state": {
      "_model_module": "@jupyter-widgets/base",
      "_model_module_version": "1.2.0",
      "_model_name": "LayoutModel",
      "_view_count": null,
      "_view_module": "@jupyter-widgets/base",
      "_view_module_version": "1.2.0",
      "_view_name": "LayoutView",
      "align_content": null,
      "align_items": null,
      "align_self": null,
      "border": null,
      "bottom": null,
      "display": null,
      "flex": null,
      "flex_flow": null,
      "grid_area": null,
      "grid_auto_columns": null,
      "grid_auto_flow": null,
      "grid_auto_rows": null,
      "grid_column": null,
      "grid_gap": null,
      "grid_row": null,
      "grid_template_areas": null,
      "grid_template_columns": null,
      "grid_template_rows": null,
      "height": "28px",
      "justify_content": null,
      "justify_items": null,
      "left": null,
      "margin": null,
      "max_height": null,
      "max_width": null,
      "min_height": null,
      "min_width": null,
      "object_fit": null,
      "object_position": null,
      "order": null,
      "overflow": null,
      "overflow_x": null,
      "overflow_y": null,
      "padding": "0px 0px 0px 4px",
      "right": null,
      "top": null,
      "visibility": null,
      "width": "28px"
     }
    },
    "e145b14ba1e44c1b93edfa72a228e1a5": {
     "model_module": "jupyter-leaflet",
     "model_module_version": "^0.16.0",
     "model_name": "LeafletScaleControlModel",
     "state": {
      "_model_module": "jupyter-leaflet",
      "_model_module_version": "^0.16.0",
      "_model_name": "LeafletScaleControlModel",
      "_view_count": null,
      "_view_module": "jupyter-leaflet",
      "_view_module_version": "^0.16.0",
      "_view_name": "LeafletScaleControlView",
      "imperial": true,
      "max_width": 100,
      "metric": true,
      "options": [
       "imperial",
       "max_width",
       "metric",
       "position",
       "update_when_idle"
      ],
      "position": "bottomleft",
      "update_when_idle": false
     }
    },
    "e3ae36c76ad34384940abf8081a39fbe": {
     "model_module": "jupyter-leaflet",
     "model_module_version": "^0.16.0",
     "model_name": "LeafletFullScreenControlModel",
     "state": {
      "_model_module": "jupyter-leaflet",
      "_model_module_version": "^0.16.0",
      "_model_name": "LeafletFullScreenControlModel",
      "_view_count": null,
      "_view_module": "jupyter-leaflet",
      "_view_module_version": "^0.16.0",
      "_view_name": "LeafletFullScreenControlView",
      "options": [
       "position"
      ],
      "position": "topleft"
     }
    },
    "e41c34784c9146509fad70d66feeca40": {
     "model_module": "jupyter-leaflet",
     "model_module_version": "^0.15.0",
     "model_name": "LeafletTileLayerModel",
     "state": {
      "_model_module": "jupyter-leaflet",
      "_model_module_version": "^0.15.0",
      "_model_name": "LeafletTileLayerModel",
      "_view_count": null,
      "_view_module": "jupyter-leaflet",
      "_view_module_version": "^0.15.0",
      "_view_name": "LeafletTileLayerView",
      "attribution": "Google Earth Engine",
      "base": false,
      "bottom": true,
      "detect_retina": false,
      "loading": false,
      "max_native_zoom": 18,
      "max_zoom": 24,
      "min_native_zoom": 0,
      "min_zoom": 0,
      "name": "Ts °C",
      "no_wrap": false,
      "opacity": 1,
      "options": [
       "attribution",
       "detect_retina",
       "max_native_zoom",
       "max_zoom",
       "min_native_zoom",
       "min_zoom",
       "no_wrap",
       "tile_size",
       "tms"
      ],
      "popup": null,
      "popup_max_height": null,
      "popup_max_width": 300,
      "popup_min_width": 50,
      "show_loading": false,
      "tile_size": 256,
      "tms": false,
      "url": "https://earthengine.googleapis.com/v1alpha/projects/earthengine-legacy/maps/f5accf775d4894a098811d4abdcdb28a-3cab3696f91ceec750ff2f93b77d93f0/tiles/{z}/{x}/{y}",
      "visible": true
     }
    },
    "e5374e9b2b2940edac6fcbdec8110ee6": {
     "model_module": "jupyter-leaflet",
     "model_module_version": "^0.16.0",
     "model_name": "LeafletTileLayerModel",
     "state": {
      "_model_module": "jupyter-leaflet",
      "_model_module_version": "^0.16.0",
      "_model_name": "LeafletTileLayerModel",
      "_view_count": null,
      "_view_module": "jupyter-leaflet",
      "_view_module_version": "^0.16.0",
      "_view_name": "LeafletTileLayerView",
      "attribution": "Google Earth Engine",
      "base": false,
      "bottom": true,
      "bounds": null,
      "detect_retina": false,
      "loading": false,
      "max_native_zoom": 18,
      "max_zoom": 24,
      "min_native_zoom": 0,
      "min_zoom": 0,
      "name": "20211204",
      "no_wrap": false,
      "opacity": 1,
      "options": [
       "attribution",
       "bounds",
       "detect_retina",
       "max_native_zoom",
       "max_zoom",
       "min_native_zoom",
       "min_zoom",
       "no_wrap",
       "tile_size",
       "tms"
      ],
      "popup": null,
      "popup_max_height": null,
      "popup_max_width": 300,
      "popup_min_width": 50,
      "show_loading": false,
      "tile_size": 256,
      "tms": false,
      "url": "https://earthengine.googleapis.com/v1alpha/projects/earthengine-legacy/maps/a8ff773a337ba2d0df4bcf2bfcbac0ca-7ff355d3217a0a6a99f3a03b25a4db86/tiles/{z}/{x}/{y}",
      "visible": true
     }
    },
    "e8c16644446e48ecade63d1a09f07ea1": {
     "model_module": "jupyter-leaflet",
     "model_module_version": "^0.16.0",
     "model_name": "LeafletTileLayerModel",
     "state": {
      "_model_module": "jupyter-leaflet",
      "_model_module_version": "^0.16.0",
      "_model_name": "LeafletTileLayerModel",
      "_view_count": null,
      "_view_module": "jupyter-leaflet",
      "_view_module_version": "^0.16.0",
      "_view_name": "LeafletTileLayerView",
      "attribution": "Google Earth Engine",
      "base": false,
      "bottom": true,
      "bounds": null,
      "detect_retina": false,
      "loading": false,
      "max_native_zoom": 18,
      "max_zoom": 24,
      "min_native_zoom": 0,
      "min_zoom": 0,
      "name": "Area de estudio",
      "no_wrap": false,
      "opacity": 1,
      "options": [
       "attribution",
       "bounds",
       "detect_retina",
       "max_native_zoom",
       "max_zoom",
       "min_native_zoom",
       "min_zoom",
       "no_wrap",
       "tile_size",
       "tms"
      ],
      "popup": null,
      "popup_max_height": null,
      "popup_max_width": 300,
      "popup_min_width": 50,
      "show_loading": false,
      "tile_size": 256,
      "tms": false,
      "url": "https://earthengine.googleapis.com/v1alpha/projects/earthengine-legacy/maps/55e8170c039d66c46a23633d7527ed8e-4b8361db6fcf5b19717bfa86039a4911/tiles/{z}/{x}/{y}",
      "visible": true
     }
    },
    "eec700aefe14417292f15c3eae20140d": {
     "model_module": "jupyter-leaflet",
     "model_module_version": "^0.16.0",
     "model_name": "LeafletTileLayerModel",
     "state": {
      "_model_module": "jupyter-leaflet",
      "_model_module_version": "^0.16.0",
      "_model_name": "LeafletTileLayerModel",
      "_view_count": null,
      "_view_module": "jupyter-leaflet",
      "_view_module_version": "^0.16.0",
      "_view_name": "LeafletTileLayerView",
      "attribution": "Google Earth Engine",
      "base": false,
      "bottom": true,
      "bounds": null,
      "detect_retina": false,
      "loading": false,
      "max_native_zoom": 18,
      "max_zoom": 24,
      "min_native_zoom": 0,
      "min_zoom": 0,
      "name": "Limite Bound",
      "no_wrap": false,
      "opacity": 1,
      "options": [
       "attribution",
       "bounds",
       "detect_retina",
       "max_native_zoom",
       "max_zoom",
       "min_native_zoom",
       "min_zoom",
       "no_wrap",
       "tile_size",
       "tms"
      ],
      "popup": null,
      "popup_max_height": null,
      "popup_max_width": 300,
      "popup_min_width": 50,
      "show_loading": false,
      "tile_size": 256,
      "tms": false,
      "url": "https://earthengine.googleapis.com/v1alpha/projects/earthengine-legacy/maps/f37a10cda3b95b35b548e691059e2055-7d6b007499b1a30f52ccb35fb6bfdf03/tiles/{z}/{x}/{y}",
      "visible": true
     }
    },
    "effc10ef76a94242b46256c60d19fa67": {
     "model_module": "jupyter-leaflet",
     "model_module_version": "^0.16.0",
     "model_name": "LeafletTileLayerModel",
     "state": {
      "_model_module": "jupyter-leaflet",
      "_model_module_version": "^0.16.0",
      "_model_name": "LeafletTileLayerModel",
      "_view_count": null,
      "_view_module": "jupyter-leaflet",
      "_view_module_version": "^0.16.0",
      "_view_name": "LeafletTileLayerView",
      "attribution": "&copy; <a href=\"https://www.openstreetmap.org/copyright\">OpenStreetMap</a> contributors",
      "base": true,
      "bottom": true,
      "bounds": null,
      "detect_retina": false,
      "loading": false,
      "max_native_zoom": 18,
      "max_zoom": 19,
      "min_native_zoom": 0,
      "min_zoom": 1,
      "name": "OpenStreetMap.Mapnik",
      "no_wrap": false,
      "opacity": 1,
      "options": [
       "attribution",
       "bounds",
       "detect_retina",
       "max_native_zoom",
       "max_zoom",
       "min_native_zoom",
       "min_zoom",
       "no_wrap",
       "tile_size",
       "tms"
      ],
      "popup": null,
      "popup_max_height": null,
      "popup_max_width": 300,
      "popup_min_width": 50,
      "show_loading": false,
      "tile_size": 256,
      "tms": false,
      "url": "https://a.tile.openstreetmap.org/{z}/{x}/{y}.png",
      "visible": true
     }
    },
    "f0a5d86801eb49ca8e9a3ccebabde69f": {
     "model_module": "@jupyter-widgets/base",
     "model_module_version": "1.2.0",
     "model_name": "LayoutModel",
     "state": {
      "_model_module": "@jupyter-widgets/base",
      "_model_module_version": "1.2.0",
      "_model_name": "LayoutModel",
      "_view_count": null,
      "_view_module": "@jupyter-widgets/base",
      "_view_module_version": "1.2.0",
      "_view_name": "LayoutView",
      "align_content": null,
      "align_items": null,
      "align_self": null,
      "border": null,
      "bottom": null,
      "display": null,
      "flex": null,
      "flex_flow": null,
      "grid_area": null,
      "grid_auto_columns": null,
      "grid_auto_flow": null,
      "grid_auto_rows": null,
      "grid_column": null,
      "grid_gap": null,
      "grid_row": null,
      "grid_template_areas": null,
      "grid_template_columns": null,
      "grid_template_rows": null,
      "height": "28px",
      "justify_content": null,
      "justify_items": null,
      "left": null,
      "margin": null,
      "max_height": null,
      "max_width": null,
      "min_height": null,
      "min_width": null,
      "object_fit": null,
      "object_position": null,
      "order": null,
      "overflow": null,
      "overflow_x": null,
      "overflow_y": null,
      "padding": "0px 0px 0px 4px",
      "right": null,
      "top": null,
      "visibility": null,
      "width": "28px"
     }
    },
    "f1bc5886e07246718b2f8438ea6f5803": {
     "model_module": "@jupyter-widgets/controls",
     "model_module_version": "1.5.0",
     "model_name": "DescriptionStyleModel",
     "state": {
      "_model_module": "@jupyter-widgets/controls",
      "_model_module_version": "1.5.0",
      "_model_name": "DescriptionStyleModel",
      "_view_count": null,
      "_view_module": "@jupyter-widgets/base",
      "_view_module_version": "1.2.0",
      "_view_name": "StyleView",
      "description_width": ""
     }
    },
    "f20bcb6b13494e30ad6cab48c06b46af": {
     "model_module": "jupyter-leaflet",
     "model_module_version": "^0.15.0",
     "model_name": "LeafletMapStyleModel",
     "state": {
      "_model_module": "jupyter-leaflet",
      "_model_module_version": "^0.15.0",
      "_model_name": "LeafletMapStyleModel",
      "_view_count": null,
      "_view_module": "@jupyter-widgets/base",
      "_view_module_version": "1.2.0",
      "_view_name": "StyleView",
      "cursor": "move"
     }
    },
    "f46b4b560d474c66b2f07cdc2ec0c807": {
     "model_module": "@jupyter-widgets/controls",
     "model_module_version": "1.5.0",
     "model_name": "VBoxModel",
     "state": {
      "_dom_classes": [],
      "_model_module": "@jupyter-widgets/controls",
      "_model_module_version": "1.5.0",
      "_model_name": "VBoxModel",
      "_view_count": null,
      "_view_module": "@jupyter-widgets/controls",
      "_view_module_version": "1.5.0",
      "_view_name": "VBoxView",
      "box_style": "",
      "children": [
       "IPY_MODEL_1fa66695a70c4adab00fa25e9abeaec9"
      ],
      "layout": "IPY_MODEL_1eb1afd145d447ccb99f5a547ba6b504"
     }
    },
    "fc1a92359bf14282ac356b62205a5be6": {
     "model_module": "jupyter-leaflet",
     "model_module_version": "^0.16.0",
     "model_name": "LeafletMapStyleModel",
     "state": {
      "_model_module": "jupyter-leaflet",
      "_model_module_version": "^0.16.0",
      "_model_name": "LeafletMapStyleModel",
      "_view_count": null,
      "_view_module": "@jupyter-widgets/base",
      "_view_module_version": "1.2.0",
      "_view_name": "StyleView",
      "cursor": "grab"
     }
    },
    "fe17be417c474c78911c9f7e922abdaa": {
     "model_module": "jupyter-leaflet",
     "model_module_version": "^0.15.0",
     "model_name": "LeafletMeasureControlModel",
     "state": {
      "_custom_units": {},
      "_model_module": "jupyter-leaflet",
      "_model_module_version": "^0.15.0",
      "_model_name": "LeafletMeasureControlModel",
      "_view_count": null,
      "_view_module": "jupyter-leaflet",
      "_view_module_version": "^0.15.0",
      "_view_name": "LeafletMeasureControlView",
      "active_color": "orange",
      "capture_z_index": 10000,
      "completed_color": "#C8F2BE",
      "options": [
       "active_color",
       "capture_z_index",
       "completed_color",
       "popup_options",
       "position",
       "primary_area_unit",
       "primary_length_unit",
       "secondary_area_unit",
       "secondary_length_unit"
      ],
      "popup_options": {
       "autoPanPadding": [
        10,
        10
       ],
       "className": "leaflet-measure-resultpopup"
      },
      "position": "bottomleft",
      "primary_area_unit": "acres",
      "primary_length_unit": "kilometers",
      "secondary_area_unit": null,
      "secondary_length_unit": null
     }
    }
   }
  }
 },
 "nbformat": 4,
 "nbformat_minor": 1
}
